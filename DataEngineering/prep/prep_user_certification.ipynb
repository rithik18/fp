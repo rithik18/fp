{
 "cells": [
  {
   "cell_type": "code",
   "execution_count": 1,
   "metadata": {},
   "outputs": [],
   "source": [
    "import pandas as pd"
   ]
  },
  {
   "cell_type": "code",
   "execution_count": 2,
   "metadata": {},
   "outputs": [],
   "source": [
    "user_csv=pd.read_csv('E:/JMAN/fp/DataEngineering/raw/raw_user_certifications.csv')\n",
    "# user_csv=pd.read_csv('E:/JMAN/fp/DataEngineering/raw/raw_user_certifications.csv')"
   ]
  },
  {
   "cell_type": "code",
   "execution_count": 3,
   "metadata": {},
   "outputs": [],
   "source": [
    "df=pd.DataFrame(data=user_csv)"
   ]
  },
  {
   "cell_type": "code",
   "execution_count": 4,
   "metadata": {},
   "outputs": [
    {
     "data": {
      "text/plain": [
       "_id                  0\n",
       "userId               0\n",
       "certificationId      0\n",
       "certificationName    0\n",
       "started_at           0\n",
       "completed_at         0\n",
       "competency           0\n",
       "isVerified           0\n",
       "imageData            0\n",
       "dtype: int64"
      ]
     },
     "execution_count": 4,
     "metadata": {},
     "output_type": "execute_result"
    }
   ],
   "source": [
    "df.isnull().sum()"
   ]
  },
  {
   "cell_type": "code",
   "execution_count": 5,
   "metadata": {},
   "outputs": [],
   "source": [
    "df.dropna(inplace=True)"
   ]
  },
  {
   "cell_type": "code",
   "execution_count": 6,
   "metadata": {},
   "outputs": [],
   "source": [
    "df.drop_duplicates(inplace=True)"
   ]
  },
  {
   "cell_type": "code",
   "execution_count": 7,
   "metadata": {},
   "outputs": [
    {
     "data": {
      "text/plain": [
       "_id                  object\n",
       "userId               object\n",
       "certificationId      object\n",
       "certificationName    object\n",
       "started_at           object\n",
       "completed_at         object\n",
       "competency           object\n",
       "isVerified             bool\n",
       "imageData            object\n",
       "dtype: object"
      ]
     },
     "execution_count": 7,
     "metadata": {},
     "output_type": "execute_result"
    }
   ],
   "source": [
    "df.dtypes"
   ]
  },
  {
   "cell_type": "code",
   "execution_count": 8,
   "metadata": {},
   "outputs": [
    {
     "data": {
      "text/plain": [
       "(150000, 9)"
      ]
     },
     "execution_count": 8,
     "metadata": {},
     "output_type": "execute_result"
    }
   ],
   "source": [
    "df.shape"
   ]
  },
  {
   "cell_type": "code",
   "execution_count": 9,
   "metadata": {},
   "outputs": [
    {
     "name": "stdout",
     "output_type": "stream",
     "text": [
      "Original dtypes:\n",
      "_id                  object\n",
      "userId               object\n",
      "certificationId      object\n",
      "certificationName    object\n",
      "started_at           object\n",
      "completed_at         object\n",
      "competency           object\n",
      "isVerified             bool\n",
      "imageData            object\n",
      "dtype: object\n",
      "\n",
      "Converted dtypes:\n",
      "_id                   string\n",
      "userId                string\n",
      "certificationId       string\n",
      "certificationName     string\n",
      "started_at            string\n",
      "completed_at          string\n",
      "competency            string\n",
      "isVerified           boolean\n",
      "imageData             string\n",
      "dtype: object\n"
     ]
    }
   ],
   "source": [
    "print(\"Original dtypes:\")\n",
    "print(df.dtypes)\n",
    "\n",
    "# Convert dtypes\n",
    "df=df.convert_dtypes()\n",
    "\n",
    "# Check new dtypes\n",
    "print(\"\\nConverted dtypes:\")\n",
    "print(df.convert_dtypes().dtypes)"
   ]
  },
  {
   "cell_type": "code",
   "execution_count": 10,
   "metadata": {},
   "outputs": [],
   "source": [
    "df['started_at'] = [\n",
    "    i.split(\" \")[0] if 'T' not in i else i.split(\"T\")[0] for i in df['started_at']\n",
    "]"
   ]
  },
  {
   "cell_type": "code",
   "execution_count": 11,
   "metadata": {},
   "outputs": [],
   "source": [
    "df['started_at']=pd.to_datetime(df['started_at'])"
   ]
  },
  {
   "cell_type": "code",
   "execution_count": 12,
   "metadata": {},
   "outputs": [],
   "source": [
    "df['completed_at'] = [\n",
    "    i.split(\" \")[0] if 'T' not in i else i.split(\"T\")[0] for i in df['completed_at']\n",
    "]"
   ]
  },
  {
   "cell_type": "code",
   "execution_count": 13,
   "metadata": {},
   "outputs": [],
   "source": [
    "df['completed_at']=pd.to_datetime(df['completed_at'])"
   ]
  },
  {
   "cell_type": "code",
   "execution_count": 14,
   "metadata": {},
   "outputs": [
    {
     "data": {
      "text/plain": [
       "_id                          string\n",
       "userId                       string\n",
       "certificationId              string\n",
       "certificationName            string\n",
       "started_at           datetime64[ns]\n",
       "completed_at         datetime64[ns]\n",
       "competency                   string\n",
       "isVerified                  boolean\n",
       "imageData                    string\n",
       "dtype: object"
      ]
     },
     "execution_count": 14,
     "metadata": {},
     "output_type": "execute_result"
    }
   ],
   "source": [
    "df.dtypes"
   ]
  },
  {
   "cell_type": "code",
   "execution_count": 15,
   "metadata": {},
   "outputs": [
    {
     "data": {
      "text/plain": [
       "(150000, 9)"
      ]
     },
     "execution_count": 15,
     "metadata": {},
     "output_type": "execute_result"
    }
   ],
   "source": [
    "df.shape"
   ]
  },
  {
   "cell_type": "code",
   "execution_count": 16,
   "metadata": {},
   "outputs": [
    {
     "data": {
      "text/html": [
       "<div>\n",
       "<style scoped>\n",
       "    .dataframe tbody tr th:only-of-type {\n",
       "        vertical-align: middle;\n",
       "    }\n",
       "\n",
       "    .dataframe tbody tr th {\n",
       "        vertical-align: top;\n",
       "    }\n",
       "\n",
       "    .dataframe thead th {\n",
       "        text-align: right;\n",
       "    }\n",
       "</style>\n",
       "<table border=\"1\" class=\"dataframe\">\n",
       "  <thead>\n",
       "    <tr style=\"text-align: right;\">\n",
       "      <th></th>\n",
       "      <th>_id</th>\n",
       "      <th>userId</th>\n",
       "      <th>certificationId</th>\n",
       "      <th>certificationName</th>\n",
       "      <th>started_at</th>\n",
       "      <th>completed_at</th>\n",
       "      <th>competency</th>\n",
       "      <th>isVerified</th>\n",
       "      <th>imageData</th>\n",
       "    </tr>\n",
       "  </thead>\n",
       "  <tbody>\n",
       "    <tr>\n",
       "      <th>0</th>\n",
       "      <td>f37cc047-63a5-46fd-9e14-a8080733af37</td>\n",
       "      <td>67fb9f26-ec27-43d2-9966-a8a2e39bafa0</td>\n",
       "      <td>6371cb98-2998-41d8-82f8-9992a36685ad</td>\n",
       "      <td>Certified Ethical Hacker</td>\n",
       "      <td>2023-09-22</td>\n",
       "      <td>2023-10-08</td>\n",
       "      <td>ADVANCED</td>\n",
       "      <td>True</td>\n",
       "      <td>https://dummyimage.com/932x801</td>\n",
       "    </tr>\n",
       "    <tr>\n",
       "      <th>1</th>\n",
       "      <td>f3b6ffa1-3085-414e-990e-bc1268b87725</td>\n",
       "      <td>67fb9f26-ec27-43d2-9966-a8a2e39bafa0</td>\n",
       "      <td>f9f74721-d989-4b0a-a67e-8c65d6986b4b</td>\n",
       "      <td>AWS Certified Solutions Architect</td>\n",
       "      <td>2022-03-07</td>\n",
       "      <td>2023-06-24</td>\n",
       "      <td>BEGINNER</td>\n",
       "      <td>False</td>\n",
       "      <td>https://placekitten.com/94/54</td>\n",
       "    </tr>\n",
       "    <tr>\n",
       "      <th>2</th>\n",
       "      <td>1e45adaf-ba8e-44a5-b6ee-d9e26e68928e</td>\n",
       "      <td>67fb9f26-ec27-43d2-9966-a8a2e39bafa0</td>\n",
       "      <td>3ff2a4df-7cae-430f-80c7-878988d38ead</td>\n",
       "      <td>Certified Information Systems Security Profess...</td>\n",
       "      <td>2020-09-01</td>\n",
       "      <td>2022-01-08</td>\n",
       "      <td>INTERMEDIATE</td>\n",
       "      <td>True</td>\n",
       "      <td>https://picsum.photos/444/802</td>\n",
       "    </tr>\n",
       "    <tr>\n",
       "      <th>3</th>\n",
       "      <td>2d5c58ea-6936-4955-bf35-370a5b367254</td>\n",
       "      <td>67fb9f26-ec27-43d2-9966-a8a2e39bafa0</td>\n",
       "      <td>a6c6d728-8176-4a62-9df9-a102e79879b5</td>\n",
       "      <td>CompTIA Security+</td>\n",
       "      <td>2023-07-10</td>\n",
       "      <td>2023-07-10</td>\n",
       "      <td>BEGINNER</td>\n",
       "      <td>True</td>\n",
       "      <td>https://picsum.photos/637/338</td>\n",
       "    </tr>\n",
       "    <tr>\n",
       "      <th>4</th>\n",
       "      <td>3fe8010b-0dee-4c89-91fd-f8c0d5481422</td>\n",
       "      <td>67fb9f26-ec27-43d2-9966-a8a2e39bafa0</td>\n",
       "      <td>e63b693d-1c85-48c1-b5b7-15fa7583447a</td>\n",
       "      <td>Certified Kubernetes Administrator</td>\n",
       "      <td>2021-07-28</td>\n",
       "      <td>2021-09-07</td>\n",
       "      <td>INTERMEDIATE</td>\n",
       "      <td>False</td>\n",
       "      <td>https://placekitten.com/208/896</td>\n",
       "    </tr>\n",
       "    <tr>\n",
       "      <th>...</th>\n",
       "      <td>...</td>\n",
       "      <td>...</td>\n",
       "      <td>...</td>\n",
       "      <td>...</td>\n",
       "      <td>...</td>\n",
       "      <td>...</td>\n",
       "      <td>...</td>\n",
       "      <td>...</td>\n",
       "      <td>...</td>\n",
       "    </tr>\n",
       "    <tr>\n",
       "      <th>149995</th>\n",
       "      <td>ab8d5716-de74-40a1-a286-21f69c1bfdb7</td>\n",
       "      <td>9e7050bd-8526-4fa9-a0e9-4f94fa81d1e6</td>\n",
       "      <td>9e94390f-0822-47a2-9332-d560f8e71d3e</td>\n",
       "      <td>Google Data Analytics Professional Certificate</td>\n",
       "      <td>2020-11-19</td>\n",
       "      <td>2023-06-29</td>\n",
       "      <td>ADVANCED</td>\n",
       "      <td>False</td>\n",
       "      <td>https://placekitten.com/780/648</td>\n",
       "    </tr>\n",
       "    <tr>\n",
       "      <th>149996</th>\n",
       "      <td>aca4af07-68ca-4081-983d-d5aa42965af3</td>\n",
       "      <td>9e7050bd-8526-4fa9-a0e9-4f94fa81d1e6</td>\n",
       "      <td>a63629b4-a709-4196-ba88-4b0628b0e73b</td>\n",
       "      <td>Certified Information Systems Security Profess...</td>\n",
       "      <td>2022-12-08</td>\n",
       "      <td>2023-02-14</td>\n",
       "      <td>INTERMEDIATE</td>\n",
       "      <td>True</td>\n",
       "      <td>https://picsum.photos/681/463</td>\n",
       "    </tr>\n",
       "    <tr>\n",
       "      <th>149997</th>\n",
       "      <td>b6af168c-fa16-4fcc-8b2e-dc807d091a29</td>\n",
       "      <td>9e7050bd-8526-4fa9-a0e9-4f94fa81d1e6</td>\n",
       "      <td>dd8fbd80-4e8a-42e4-a952-2d8c0c3bd297</td>\n",
       "      <td>Technical Communication Certification from Soc...</td>\n",
       "      <td>2020-01-29</td>\n",
       "      <td>2020-01-31</td>\n",
       "      <td>INTERMEDIATE</td>\n",
       "      <td>True</td>\n",
       "      <td>https://placekitten.com/91/830</td>\n",
       "    </tr>\n",
       "    <tr>\n",
       "      <th>149998</th>\n",
       "      <td>0dadc48d-a667-4040-bb37-7e780ef19324</td>\n",
       "      <td>9e7050bd-8526-4fa9-a0e9-4f94fa81d1e6</td>\n",
       "      <td>76fe0649-22c0-4756-ae94-d1e65bb65a38</td>\n",
       "      <td>AWS Certified Solutions Architect</td>\n",
       "      <td>2023-08-23</td>\n",
       "      <td>2023-08-23</td>\n",
       "      <td>BEGINNER</td>\n",
       "      <td>False</td>\n",
       "      <td>https://dummyimage.com/674x142</td>\n",
       "    </tr>\n",
       "    <tr>\n",
       "      <th>149999</th>\n",
       "      <td>85c76c28-1c14-4189-bcfc-698d535ebf3c</td>\n",
       "      <td>9e7050bd-8526-4fa9-a0e9-4f94fa81d1e6</td>\n",
       "      <td>d620ba0e-57e5-40f2-8f86-a9b1acf66a87</td>\n",
       "      <td>Microsoft Certified: Azure Developer Associate</td>\n",
       "      <td>2021-03-24</td>\n",
       "      <td>2021-12-26</td>\n",
       "      <td>INTERMEDIATE</td>\n",
       "      <td>True</td>\n",
       "      <td>https://dummyimage.com/644x274</td>\n",
       "    </tr>\n",
       "  </tbody>\n",
       "</table>\n",
       "<p>150000 rows × 9 columns</p>\n",
       "</div>"
      ],
      "text/plain": [
       "                                         _id  \\\n",
       "0       f37cc047-63a5-46fd-9e14-a8080733af37   \n",
       "1       f3b6ffa1-3085-414e-990e-bc1268b87725   \n",
       "2       1e45adaf-ba8e-44a5-b6ee-d9e26e68928e   \n",
       "3       2d5c58ea-6936-4955-bf35-370a5b367254   \n",
       "4       3fe8010b-0dee-4c89-91fd-f8c0d5481422   \n",
       "...                                      ...   \n",
       "149995  ab8d5716-de74-40a1-a286-21f69c1bfdb7   \n",
       "149996  aca4af07-68ca-4081-983d-d5aa42965af3   \n",
       "149997  b6af168c-fa16-4fcc-8b2e-dc807d091a29   \n",
       "149998  0dadc48d-a667-4040-bb37-7e780ef19324   \n",
       "149999  85c76c28-1c14-4189-bcfc-698d535ebf3c   \n",
       "\n",
       "                                      userId  \\\n",
       "0       67fb9f26-ec27-43d2-9966-a8a2e39bafa0   \n",
       "1       67fb9f26-ec27-43d2-9966-a8a2e39bafa0   \n",
       "2       67fb9f26-ec27-43d2-9966-a8a2e39bafa0   \n",
       "3       67fb9f26-ec27-43d2-9966-a8a2e39bafa0   \n",
       "4       67fb9f26-ec27-43d2-9966-a8a2e39bafa0   \n",
       "...                                      ...   \n",
       "149995  9e7050bd-8526-4fa9-a0e9-4f94fa81d1e6   \n",
       "149996  9e7050bd-8526-4fa9-a0e9-4f94fa81d1e6   \n",
       "149997  9e7050bd-8526-4fa9-a0e9-4f94fa81d1e6   \n",
       "149998  9e7050bd-8526-4fa9-a0e9-4f94fa81d1e6   \n",
       "149999  9e7050bd-8526-4fa9-a0e9-4f94fa81d1e6   \n",
       "\n",
       "                             certificationId  \\\n",
       "0       6371cb98-2998-41d8-82f8-9992a36685ad   \n",
       "1       f9f74721-d989-4b0a-a67e-8c65d6986b4b   \n",
       "2       3ff2a4df-7cae-430f-80c7-878988d38ead   \n",
       "3       a6c6d728-8176-4a62-9df9-a102e79879b5   \n",
       "4       e63b693d-1c85-48c1-b5b7-15fa7583447a   \n",
       "...                                      ...   \n",
       "149995  9e94390f-0822-47a2-9332-d560f8e71d3e   \n",
       "149996  a63629b4-a709-4196-ba88-4b0628b0e73b   \n",
       "149997  dd8fbd80-4e8a-42e4-a952-2d8c0c3bd297   \n",
       "149998  76fe0649-22c0-4756-ae94-d1e65bb65a38   \n",
       "149999  d620ba0e-57e5-40f2-8f86-a9b1acf66a87   \n",
       "\n",
       "                                        certificationName started_at  \\\n",
       "0                                Certified Ethical Hacker 2023-09-22   \n",
       "1                       AWS Certified Solutions Architect 2022-03-07   \n",
       "2       Certified Information Systems Security Profess... 2020-09-01   \n",
       "3                                       CompTIA Security+ 2023-07-10   \n",
       "4                      Certified Kubernetes Administrator 2021-07-28   \n",
       "...                                                   ...        ...   \n",
       "149995     Google Data Analytics Professional Certificate 2020-11-19   \n",
       "149996  Certified Information Systems Security Profess... 2022-12-08   \n",
       "149997  Technical Communication Certification from Soc... 2020-01-29   \n",
       "149998                  AWS Certified Solutions Architect 2023-08-23   \n",
       "149999     Microsoft Certified: Azure Developer Associate 2021-03-24   \n",
       "\n",
       "       completed_at    competency  isVerified                        imageData  \n",
       "0        2023-10-08      ADVANCED        True   https://dummyimage.com/932x801  \n",
       "1        2023-06-24      BEGINNER       False    https://placekitten.com/94/54  \n",
       "2        2022-01-08  INTERMEDIATE        True    https://picsum.photos/444/802  \n",
       "3        2023-07-10      BEGINNER        True    https://picsum.photos/637/338  \n",
       "4        2021-09-07  INTERMEDIATE       False  https://placekitten.com/208/896  \n",
       "...             ...           ...         ...                              ...  \n",
       "149995   2023-06-29      ADVANCED       False  https://placekitten.com/780/648  \n",
       "149996   2023-02-14  INTERMEDIATE        True    https://picsum.photos/681/463  \n",
       "149997   2020-01-31  INTERMEDIATE        True   https://placekitten.com/91/830  \n",
       "149998   2023-08-23      BEGINNER       False   https://dummyimage.com/674x142  \n",
       "149999   2021-12-26  INTERMEDIATE        True   https://dummyimage.com/644x274  \n",
       "\n",
       "[150000 rows x 9 columns]"
      ]
     },
     "execution_count": 16,
     "metadata": {},
     "output_type": "execute_result"
    }
   ],
   "source": [
    "df"
   ]
  },
  {
   "cell_type": "code",
   "execution_count": 17,
   "metadata": {},
   "outputs": [
    {
     "data": {
      "text/html": [
       "<div>\n",
       "<style scoped>\n",
       "    .dataframe tbody tr th:only-of-type {\n",
       "        vertical-align: middle;\n",
       "    }\n",
       "\n",
       "    .dataframe tbody tr th {\n",
       "        vertical-align: top;\n",
       "    }\n",
       "\n",
       "    .dataframe thead th {\n",
       "        text-align: right;\n",
       "    }\n",
       "</style>\n",
       "<table border=\"1\" class=\"dataframe\">\n",
       "  <thead>\n",
       "    <tr style=\"text-align: right;\">\n",
       "      <th></th>\n",
       "      <th>_id</th>\n",
       "      <th>userId</th>\n",
       "      <th>certificationId</th>\n",
       "      <th>certificationName</th>\n",
       "      <th>started_at</th>\n",
       "      <th>completed_at</th>\n",
       "      <th>competency</th>\n",
       "      <th>isVerified</th>\n",
       "      <th>imageData</th>\n",
       "      <th>user_name</th>\n",
       "    </tr>\n",
       "  </thead>\n",
       "  <tbody>\n",
       "    <tr>\n",
       "      <th>0</th>\n",
       "      <td>f37cc047-63a5-46fd-9e14-a8080733af37</td>\n",
       "      <td>67fb9f26-ec27-43d2-9966-a8a2e39bafa0</td>\n",
       "      <td>6371cb98-2998-41d8-82f8-9992a36685ad</td>\n",
       "      <td>Certified Ethical Hacker</td>\n",
       "      <td>2023-09-22</td>\n",
       "      <td>2023-10-08</td>\n",
       "      <td>ADVANCED</td>\n",
       "      <td>True</td>\n",
       "      <td>https://dummyimage.com/932x801</td>\n",
       "      <td>Willie French</td>\n",
       "    </tr>\n",
       "    <tr>\n",
       "      <th>1</th>\n",
       "      <td>f3b6ffa1-3085-414e-990e-bc1268b87725</td>\n",
       "      <td>67fb9f26-ec27-43d2-9966-a8a2e39bafa0</td>\n",
       "      <td>f9f74721-d989-4b0a-a67e-8c65d6986b4b</td>\n",
       "      <td>AWS Certified Solutions Architect</td>\n",
       "      <td>2022-03-07</td>\n",
       "      <td>2023-06-24</td>\n",
       "      <td>BEGINNER</td>\n",
       "      <td>False</td>\n",
       "      <td>https://placekitten.com/94/54</td>\n",
       "      <td>Willie French</td>\n",
       "    </tr>\n",
       "    <tr>\n",
       "      <th>2</th>\n",
       "      <td>1e45adaf-ba8e-44a5-b6ee-d9e26e68928e</td>\n",
       "      <td>67fb9f26-ec27-43d2-9966-a8a2e39bafa0</td>\n",
       "      <td>3ff2a4df-7cae-430f-80c7-878988d38ead</td>\n",
       "      <td>Certified Information Systems Security Profess...</td>\n",
       "      <td>2020-09-01</td>\n",
       "      <td>2022-01-08</td>\n",
       "      <td>INTERMEDIATE</td>\n",
       "      <td>True</td>\n",
       "      <td>https://picsum.photos/444/802</td>\n",
       "      <td>Willie French</td>\n",
       "    </tr>\n",
       "    <tr>\n",
       "      <th>3</th>\n",
       "      <td>2d5c58ea-6936-4955-bf35-370a5b367254</td>\n",
       "      <td>67fb9f26-ec27-43d2-9966-a8a2e39bafa0</td>\n",
       "      <td>a6c6d728-8176-4a62-9df9-a102e79879b5</td>\n",
       "      <td>CompTIA Security+</td>\n",
       "      <td>2023-07-10</td>\n",
       "      <td>2023-07-10</td>\n",
       "      <td>BEGINNER</td>\n",
       "      <td>True</td>\n",
       "      <td>https://picsum.photos/637/338</td>\n",
       "      <td>Willie French</td>\n",
       "    </tr>\n",
       "    <tr>\n",
       "      <th>4</th>\n",
       "      <td>3fe8010b-0dee-4c89-91fd-f8c0d5481422</td>\n",
       "      <td>67fb9f26-ec27-43d2-9966-a8a2e39bafa0</td>\n",
       "      <td>e63b693d-1c85-48c1-b5b7-15fa7583447a</td>\n",
       "      <td>Certified Kubernetes Administrator</td>\n",
       "      <td>2021-07-28</td>\n",
       "      <td>2021-09-07</td>\n",
       "      <td>INTERMEDIATE</td>\n",
       "      <td>False</td>\n",
       "      <td>https://placekitten.com/208/896</td>\n",
       "      <td>Willie French</td>\n",
       "    </tr>\n",
       "  </tbody>\n",
       "</table>\n",
       "</div>"
      ],
      "text/plain": [
       "                                    _id                                userId  \\\n",
       "0  f37cc047-63a5-46fd-9e14-a8080733af37  67fb9f26-ec27-43d2-9966-a8a2e39bafa0   \n",
       "1  f3b6ffa1-3085-414e-990e-bc1268b87725  67fb9f26-ec27-43d2-9966-a8a2e39bafa0   \n",
       "2  1e45adaf-ba8e-44a5-b6ee-d9e26e68928e  67fb9f26-ec27-43d2-9966-a8a2e39bafa0   \n",
       "3  2d5c58ea-6936-4955-bf35-370a5b367254  67fb9f26-ec27-43d2-9966-a8a2e39bafa0   \n",
       "4  3fe8010b-0dee-4c89-91fd-f8c0d5481422  67fb9f26-ec27-43d2-9966-a8a2e39bafa0   \n",
       "\n",
       "                        certificationId  \\\n",
       "0  6371cb98-2998-41d8-82f8-9992a36685ad   \n",
       "1  f9f74721-d989-4b0a-a67e-8c65d6986b4b   \n",
       "2  3ff2a4df-7cae-430f-80c7-878988d38ead   \n",
       "3  a6c6d728-8176-4a62-9df9-a102e79879b5   \n",
       "4  e63b693d-1c85-48c1-b5b7-15fa7583447a   \n",
       "\n",
       "                                   certificationName started_at completed_at  \\\n",
       "0                           Certified Ethical Hacker 2023-09-22   2023-10-08   \n",
       "1                  AWS Certified Solutions Architect 2022-03-07   2023-06-24   \n",
       "2  Certified Information Systems Security Profess... 2020-09-01   2022-01-08   \n",
       "3                                  CompTIA Security+ 2023-07-10   2023-07-10   \n",
       "4                 Certified Kubernetes Administrator 2021-07-28   2021-09-07   \n",
       "\n",
       "     competency  isVerified                        imageData      user_name  \n",
       "0      ADVANCED        True   https://dummyimage.com/932x801  Willie French  \n",
       "1      BEGINNER       False    https://placekitten.com/94/54  Willie French  \n",
       "2  INTERMEDIATE        True    https://picsum.photos/444/802  Willie French  \n",
       "3      BEGINNER        True    https://picsum.photos/637/338  Willie French  \n",
       "4  INTERMEDIATE       False  https://placekitten.com/208/896  Willie French  "
      ]
     },
     "execution_count": 17,
     "metadata": {},
     "output_type": "execute_result"
    }
   ],
   "source": [
    "# roles_df = pd.read_csv('E:/JMAN/fp/DataEngineering/prep/prep_user.csv')\n",
    "roles_df = pd.read_csv('E:/JMAN/fp/DataEngineering/prep/prep_user.csv')\n",
    "roles_df\n",
    "role_mapping = dict(zip(roles_df['_id'], roles_df['name']))\n",
    "df['user_name'] = df['userId'].map(role_mapping)\n",
    "df.head()"
   ]
  },
  {
   "cell_type": "code",
   "execution_count": 18,
   "metadata": {},
   "outputs": [
    {
     "name": "stdout",
     "output_type": "stream",
     "text": [
      "Original dtypes:\n",
      "_id                          string\n",
      "userId                       string\n",
      "certificationId              string\n",
      "certificationName            string\n",
      "started_at           datetime64[ns]\n",
      "completed_at         datetime64[ns]\n",
      "competency                   string\n",
      "isVerified                  boolean\n",
      "imageData                    string\n",
      "user_name                    object\n",
      "dtype: object\n",
      "\n",
      "Converted dtypes:\n",
      "_id                          string\n",
      "userId                       string\n",
      "certificationId              string\n",
      "certificationName            string\n",
      "started_at           datetime64[ns]\n",
      "completed_at         datetime64[ns]\n",
      "competency                   string\n",
      "isVerified                  boolean\n",
      "imageData                    string\n",
      "user_name                    string\n",
      "dtype: object\n"
     ]
    }
   ],
   "source": [
    "print(\"Original dtypes:\")\n",
    "print(df.dtypes)\n",
    "\n",
    "# Convert dtypes\n",
    "df=df.convert_dtypes()\n",
    "\n",
    "# Check new dtypes\n",
    "print(\"\\nConverted dtypes:\")\n",
    "print(df.convert_dtypes().dtypes)"
   ]
  },
  {
   "cell_type": "code",
   "execution_count": 19,
   "metadata": {},
   "outputs": [
    {
     "data": {
      "text/plain": [
       "(150000, 10)"
      ]
     },
     "execution_count": 19,
     "metadata": {},
     "output_type": "execute_result"
    }
   ],
   "source": [
    "df.shape"
   ]
  },
  {
   "cell_type": "code",
   "execution_count": 20,
   "metadata": {},
   "outputs": [],
   "source": [
    "df.to_csv('E:/JMAN/fp/DataEngineering/prep/prep_user_certification.csv')"
   ]
  },
  {
   "cell_type": "code",
   "execution_count": null,
   "metadata": {},
   "outputs": [],
   "source": []
  }
 ],
 "metadata": {
  "kernelspec": {
   "display_name": "base",
   "language": "python",
   "name": "python3"
  },
  "language_info": {
   "codemirror_mode": {
    "name": "ipython",
    "version": 3
   },
   "file_extension": ".py",
   "mimetype": "text/x-python",
   "name": "python",
   "nbconvert_exporter": "python",
   "pygments_lexer": "ipython3",
   "version": "3.9.7"
  }
 },
 "nbformat": 4,
 "nbformat_minor": 2
}
