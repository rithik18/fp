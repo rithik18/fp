{
 "cells": [
  {
   "cell_type": "code",
   "execution_count": 1,
   "metadata": {},
   "outputs": [],
   "source": [
    "import pandas as pd"
   ]
  },
  {
   "cell_type": "code",
   "execution_count": 2,
   "metadata": {},
   "outputs": [],
   "source": [
    "user_csv=pd.read_csv('C:/Users/RithikHarendarMahesh/Desktop/fp/DataEngineering/raw/raw_user_certifications.csv')\n",
    "# user_csv=pd.read_csv('C:/Users/RithikHarendarMahesh/Desktop/fp/DataEngineering/raw/raw_user_certifications.csv')"
   ]
  },
  {
   "cell_type": "code",
   "execution_count": 3,
   "metadata": {},
   "outputs": [],
   "source": [
    "df=pd.DataFrame(data=user_csv)"
   ]
  },
  {
   "cell_type": "code",
   "execution_count": 4,
   "metadata": {},
   "outputs": [
    {
     "data": {
      "text/plain": [
       "_id                  0\n",
       "userId               0\n",
       "certificationId      0\n",
       "certificationName    0\n",
       "started_at           0\n",
       "completed_at         0\n",
       "competency           0\n",
       "isVerified           0\n",
       "imageData            0\n",
       "dtype: int64"
      ]
     },
     "execution_count": 4,
     "metadata": {},
     "output_type": "execute_result"
    }
   ],
   "source": [
    "df.isnull().sum()"
   ]
  },
  {
   "cell_type": "code",
   "execution_count": 5,
   "metadata": {},
   "outputs": [],
   "source": [
    "df.dropna(inplace=True)"
   ]
  },
  {
   "cell_type": "code",
   "execution_count": 6,
   "metadata": {},
   "outputs": [],
   "source": [
    "df.drop_duplicates(inplace=True)"
   ]
  },
  {
   "cell_type": "code",
   "execution_count": 7,
   "metadata": {},
   "outputs": [
    {
     "data": {
      "text/plain": [
       "_id                  object\n",
       "userId               object\n",
       "certificationId      object\n",
       "certificationName    object\n",
       "started_at           object\n",
       "completed_at         object\n",
       "competency           object\n",
       "isVerified             bool\n",
       "imageData            object\n",
       "dtype: object"
      ]
     },
     "execution_count": 7,
     "metadata": {},
     "output_type": "execute_result"
    }
   ],
   "source": [
    "df.dtypes"
   ]
  },
  {
   "cell_type": "code",
   "execution_count": 8,
   "metadata": {},
   "outputs": [
    {
     "data": {
      "text/plain": [
       "(150000, 9)"
      ]
     },
     "execution_count": 8,
     "metadata": {},
     "output_type": "execute_result"
    }
   ],
   "source": [
    "df.shape"
   ]
  },
  {
   "cell_type": "code",
   "execution_count": 9,
   "metadata": {},
   "outputs": [
    {
     "name": "stdout",
     "output_type": "stream",
     "text": [
      "Original dtypes:\n",
      "_id                  object\n",
      "userId               object\n",
      "certificationId      object\n",
      "certificationName    object\n",
      "started_at           object\n",
      "completed_at         object\n",
      "competency           object\n",
      "isVerified             bool\n",
      "imageData            object\n",
      "dtype: object\n",
      "\n",
      "Converted dtypes:\n",
      "_id                  string[python]\n",
      "userId               string[python]\n",
      "certificationId      string[python]\n",
      "certificationName    string[python]\n",
      "started_at           string[python]\n",
      "completed_at         string[python]\n",
      "competency           string[python]\n",
      "isVerified                  boolean\n",
      "imageData            string[python]\n",
      "dtype: object\n"
     ]
    }
   ],
   "source": [
    "print(\"Original dtypes:\")\n",
    "print(df.dtypes)\n",
    "\n",
    "# Convert dtypes\n",
    "df=df.convert_dtypes()\n",
    "\n",
    "# Check new dtypes\n",
    "print(\"\\nConverted dtypes:\")\n",
    "print(df.convert_dtypes().dtypes)"
   ]
  },
  {
   "cell_type": "code",
   "execution_count": 10,
   "metadata": {},
   "outputs": [],
   "source": [
    "df['started_at'] = [\n",
    "    i.split(\" \")[0] if 'T' not in i else i.split(\"T\")[0] for i in df['started_at']\n",
    "]"
   ]
  },
  {
   "cell_type": "code",
   "execution_count": 11,
   "metadata": {},
   "outputs": [],
   "source": [
    "df['started_at']=pd.to_datetime(df['started_at'])"
   ]
  },
  {
   "cell_type": "code",
   "execution_count": 12,
   "metadata": {},
   "outputs": [],
   "source": [
    "df['completed_at'] = [\n",
    "    i.split(\" \")[0] if 'T' not in i else i.split(\"T\")[0] for i in df['completed_at']\n",
    "]"
   ]
  },
  {
   "cell_type": "code",
   "execution_count": 13,
   "metadata": {},
   "outputs": [],
   "source": [
    "df['completed_at']=pd.to_datetime(df['completed_at'])"
   ]
  },
  {
   "cell_type": "code",
   "execution_count": 14,
   "metadata": {},
   "outputs": [
    {
     "data": {
      "text/plain": [
       "_id                  string[python]\n",
       "userId               string[python]\n",
       "certificationId      string[python]\n",
       "certificationName    string[python]\n",
       "started_at           datetime64[ns]\n",
       "completed_at         datetime64[ns]\n",
       "competency           string[python]\n",
       "isVerified                  boolean\n",
       "imageData            string[python]\n",
       "dtype: object"
      ]
     },
     "execution_count": 14,
     "metadata": {},
     "output_type": "execute_result"
    }
   ],
   "source": [
    "df.dtypes"
   ]
  },
  {
   "cell_type": "code",
   "execution_count": 15,
   "metadata": {},
   "outputs": [
    {
     "data": {
      "text/plain": [
       "(150000, 9)"
      ]
     },
     "execution_count": 15,
     "metadata": {},
     "output_type": "execute_result"
    }
   ],
   "source": [
    "df.shape"
   ]
  },
  {
   "cell_type": "code",
   "execution_count": 16,
   "metadata": {},
   "outputs": [
    {
     "data": {
      "text/html": [
       "<div>\n",
       "<style scoped>\n",
       "    .dataframe tbody tr th:only-of-type {\n",
       "        vertical-align: middle;\n",
       "    }\n",
       "\n",
       "    .dataframe tbody tr th {\n",
       "        vertical-align: top;\n",
       "    }\n",
       "\n",
       "    .dataframe thead th {\n",
       "        text-align: right;\n",
       "    }\n",
       "</style>\n",
       "<table border=\"1\" class=\"dataframe\">\n",
       "  <thead>\n",
       "    <tr style=\"text-align: right;\">\n",
       "      <th></th>\n",
       "      <th>_id</th>\n",
       "      <th>userId</th>\n",
       "      <th>certificationId</th>\n",
       "      <th>certificationName</th>\n",
       "      <th>started_at</th>\n",
       "      <th>completed_at</th>\n",
       "      <th>competency</th>\n",
       "      <th>isVerified</th>\n",
       "      <th>imageData</th>\n",
       "    </tr>\n",
       "  </thead>\n",
       "  <tbody>\n",
       "    <tr>\n",
       "      <th>0</th>\n",
       "      <td>5c2f5af4-9057-48f4-accb-de937c5cec78</td>\n",
       "      <td>06bdb594-fb32-4612-9f5f-b381ccbfc9a5</td>\n",
       "      <td>d9b6fc8a-59ab-42cd-9534-7f8dcc9e7b91</td>\n",
       "      <td>Certified Kubernetes Administrator</td>\n",
       "      <td>2022-03-22</td>\n",
       "      <td>2022-11-08</td>\n",
       "      <td>ADVANCED</td>\n",
       "      <td>True</td>\n",
       "      <td>https://picsum.photos/380/20</td>\n",
       "    </tr>\n",
       "    <tr>\n",
       "      <th>1</th>\n",
       "      <td>8443b459-1c45-4658-a256-5348e0488c6b</td>\n",
       "      <td>06bdb594-fb32-4612-9f5f-b381ccbfc9a5</td>\n",
       "      <td>ac3b01df-33cd-4e90-b107-ebb3d901fcd6</td>\n",
       "      <td>Certified ScrumMaster</td>\n",
       "      <td>2020-02-13</td>\n",
       "      <td>2020-06-10</td>\n",
       "      <td>INTERMEDIATE</td>\n",
       "      <td>False</td>\n",
       "      <td>https://picsum.photos/1016/256</td>\n",
       "    </tr>\n",
       "    <tr>\n",
       "      <th>2</th>\n",
       "      <td>72233b70-4e0a-4f52-8bf4-3766e6c4a8b1</td>\n",
       "      <td>06bdb594-fb32-4612-9f5f-b381ccbfc9a5</td>\n",
       "      <td>e94136f1-f035-458b-9920-14ebc37c9b80</td>\n",
       "      <td>Certified Ethical Hacker</td>\n",
       "      <td>2021-07-16</td>\n",
       "      <td>2022-09-15</td>\n",
       "      <td>BEGINNER</td>\n",
       "      <td>False</td>\n",
       "      <td>https://dummyimage.com/518x634</td>\n",
       "    </tr>\n",
       "    <tr>\n",
       "      <th>3</th>\n",
       "      <td>113e8e00-a8ac-40a1-8cd5-a93e277cefe3</td>\n",
       "      <td>06bdb594-fb32-4612-9f5f-b381ccbfc9a5</td>\n",
       "      <td>ac3b01df-33cd-4e90-b107-ebb3d901fcd6</td>\n",
       "      <td>Certified ScrumMaster</td>\n",
       "      <td>2021-07-13</td>\n",
       "      <td>2021-07-13</td>\n",
       "      <td>BEGINNER</td>\n",
       "      <td>True</td>\n",
       "      <td>https://dummyimage.com/942x887</td>\n",
       "    </tr>\n",
       "    <tr>\n",
       "      <th>4</th>\n",
       "      <td>9a49a4a0-f03a-4fa0-8859-aae08ae04418</td>\n",
       "      <td>06bdb594-fb32-4612-9f5f-b381ccbfc9a5</td>\n",
       "      <td>50b0294c-a8f8-435e-bbc0-bbf09afcff14</td>\n",
       "      <td>AWS Certified Developer - Associate</td>\n",
       "      <td>2022-10-17</td>\n",
       "      <td>2024-05-30</td>\n",
       "      <td>EXPERT</td>\n",
       "      <td>False</td>\n",
       "      <td>https://dummyimage.com/288x198</td>\n",
       "    </tr>\n",
       "    <tr>\n",
       "      <th>...</th>\n",
       "      <td>...</td>\n",
       "      <td>...</td>\n",
       "      <td>...</td>\n",
       "      <td>...</td>\n",
       "      <td>...</td>\n",
       "      <td>...</td>\n",
       "      <td>...</td>\n",
       "      <td>...</td>\n",
       "      <td>...</td>\n",
       "    </tr>\n",
       "    <tr>\n",
       "      <th>149995</th>\n",
       "      <td>7add9b35-71a3-4877-906d-f34c06dd728e</td>\n",
       "      <td>a353557c-7f71-4344-b479-177e4279112e</td>\n",
       "      <td>77939c71-4812-41c9-8930-2ade3fd55a68</td>\n",
       "      <td>Microsoft Certified: Azure Developer Associate</td>\n",
       "      <td>2023-06-13</td>\n",
       "      <td>2023-08-23</td>\n",
       "      <td>INTERMEDIATE</td>\n",
       "      <td>True</td>\n",
       "      <td>https://placekitten.com/159/520</td>\n",
       "    </tr>\n",
       "    <tr>\n",
       "      <th>149996</th>\n",
       "      <td>ef9f02a1-f92e-4707-9da4-8abdcc3d9516</td>\n",
       "      <td>a353557c-7f71-4344-b479-177e4279112e</td>\n",
       "      <td>7cf0643a-fd05-4e94-a550-1ecf2d07d9c5</td>\n",
       "      <td>Certified Ethical Hacker (CEH)</td>\n",
       "      <td>2021-05-06</td>\n",
       "      <td>2021-05-06</td>\n",
       "      <td>BEGINNER</td>\n",
       "      <td>False</td>\n",
       "      <td>https://dummyimage.com/553x931</td>\n",
       "    </tr>\n",
       "    <tr>\n",
       "      <th>149997</th>\n",
       "      <td>ad48abc1-2ee9-4aaa-8dc9-2c475a594735</td>\n",
       "      <td>a353557c-7f71-4344-b479-177e4279112e</td>\n",
       "      <td>77939c71-4812-41c9-8930-2ade3fd55a68</td>\n",
       "      <td>Microsoft Certified: Azure Developer Associate</td>\n",
       "      <td>2023-07-11</td>\n",
       "      <td>2023-07-11</td>\n",
       "      <td>ADVANCED</td>\n",
       "      <td>True</td>\n",
       "      <td>https://dummyimage.com/371x503</td>\n",
       "    </tr>\n",
       "    <tr>\n",
       "      <th>149998</th>\n",
       "      <td>eab5a995-15bd-4e74-a6b9-5259e74d10ec</td>\n",
       "      <td>a353557c-7f71-4344-b479-177e4279112e</td>\n",
       "      <td>7cf0643a-fd05-4e94-a550-1ecf2d07d9c5</td>\n",
       "      <td>Certified Ethical Hacker (CEH)</td>\n",
       "      <td>2024-01-31</td>\n",
       "      <td>2024-01-31</td>\n",
       "      <td>INTERMEDIATE</td>\n",
       "      <td>True</td>\n",
       "      <td>https://placekitten.com/354/512</td>\n",
       "    </tr>\n",
       "    <tr>\n",
       "      <th>149999</th>\n",
       "      <td>5c8a0b78-f11e-466d-9bee-4e598342aaef</td>\n",
       "      <td>a353557c-7f71-4344-b479-177e4279112e</td>\n",
       "      <td>776c2b7f-89f1-462e-8e3b-26d4156d6010</td>\n",
       "      <td>AWS Certified Solutions Architect</td>\n",
       "      <td>2023-06-12</td>\n",
       "      <td>2023-10-05</td>\n",
       "      <td>INTERMEDIATE</td>\n",
       "      <td>False</td>\n",
       "      <td>https://picsum.photos/100/269</td>\n",
       "    </tr>\n",
       "  </tbody>\n",
       "</table>\n",
       "<p>150000 rows × 9 columns</p>\n",
       "</div>"
      ],
      "text/plain": [
       "                                         _id  \\\n",
       "0       5c2f5af4-9057-48f4-accb-de937c5cec78   \n",
       "1       8443b459-1c45-4658-a256-5348e0488c6b   \n",
       "2       72233b70-4e0a-4f52-8bf4-3766e6c4a8b1   \n",
       "3       113e8e00-a8ac-40a1-8cd5-a93e277cefe3   \n",
       "4       9a49a4a0-f03a-4fa0-8859-aae08ae04418   \n",
       "...                                      ...   \n",
       "149995  7add9b35-71a3-4877-906d-f34c06dd728e   \n",
       "149996  ef9f02a1-f92e-4707-9da4-8abdcc3d9516   \n",
       "149997  ad48abc1-2ee9-4aaa-8dc9-2c475a594735   \n",
       "149998  eab5a995-15bd-4e74-a6b9-5259e74d10ec   \n",
       "149999  5c8a0b78-f11e-466d-9bee-4e598342aaef   \n",
       "\n",
       "                                      userId  \\\n",
       "0       06bdb594-fb32-4612-9f5f-b381ccbfc9a5   \n",
       "1       06bdb594-fb32-4612-9f5f-b381ccbfc9a5   \n",
       "2       06bdb594-fb32-4612-9f5f-b381ccbfc9a5   \n",
       "3       06bdb594-fb32-4612-9f5f-b381ccbfc9a5   \n",
       "4       06bdb594-fb32-4612-9f5f-b381ccbfc9a5   \n",
       "...                                      ...   \n",
       "149995  a353557c-7f71-4344-b479-177e4279112e   \n",
       "149996  a353557c-7f71-4344-b479-177e4279112e   \n",
       "149997  a353557c-7f71-4344-b479-177e4279112e   \n",
       "149998  a353557c-7f71-4344-b479-177e4279112e   \n",
       "149999  a353557c-7f71-4344-b479-177e4279112e   \n",
       "\n",
       "                             certificationId  \\\n",
       "0       d9b6fc8a-59ab-42cd-9534-7f8dcc9e7b91   \n",
       "1       ac3b01df-33cd-4e90-b107-ebb3d901fcd6   \n",
       "2       e94136f1-f035-458b-9920-14ebc37c9b80   \n",
       "3       ac3b01df-33cd-4e90-b107-ebb3d901fcd6   \n",
       "4       50b0294c-a8f8-435e-bbc0-bbf09afcff14   \n",
       "...                                      ...   \n",
       "149995  77939c71-4812-41c9-8930-2ade3fd55a68   \n",
       "149996  7cf0643a-fd05-4e94-a550-1ecf2d07d9c5   \n",
       "149997  77939c71-4812-41c9-8930-2ade3fd55a68   \n",
       "149998  7cf0643a-fd05-4e94-a550-1ecf2d07d9c5   \n",
       "149999  776c2b7f-89f1-462e-8e3b-26d4156d6010   \n",
       "\n",
       "                                     certificationName started_at  \\\n",
       "0                   Certified Kubernetes Administrator 2022-03-22   \n",
       "1                                Certified ScrumMaster 2020-02-13   \n",
       "2                             Certified Ethical Hacker 2021-07-16   \n",
       "3                                Certified ScrumMaster 2021-07-13   \n",
       "4                  AWS Certified Developer - Associate 2022-10-17   \n",
       "...                                                ...        ...   \n",
       "149995  Microsoft Certified: Azure Developer Associate 2023-06-13   \n",
       "149996                  Certified Ethical Hacker (CEH) 2021-05-06   \n",
       "149997  Microsoft Certified: Azure Developer Associate 2023-07-11   \n",
       "149998                  Certified Ethical Hacker (CEH) 2024-01-31   \n",
       "149999               AWS Certified Solutions Architect 2023-06-12   \n",
       "\n",
       "       completed_at    competency  isVerified                        imageData  \n",
       "0        2022-11-08      ADVANCED        True     https://picsum.photos/380/20  \n",
       "1        2020-06-10  INTERMEDIATE       False   https://picsum.photos/1016/256  \n",
       "2        2022-09-15      BEGINNER       False   https://dummyimage.com/518x634  \n",
       "3        2021-07-13      BEGINNER        True   https://dummyimage.com/942x887  \n",
       "4        2024-05-30        EXPERT       False   https://dummyimage.com/288x198  \n",
       "...             ...           ...         ...                              ...  \n",
       "149995   2023-08-23  INTERMEDIATE        True  https://placekitten.com/159/520  \n",
       "149996   2021-05-06      BEGINNER       False   https://dummyimage.com/553x931  \n",
       "149997   2023-07-11      ADVANCED        True   https://dummyimage.com/371x503  \n",
       "149998   2024-01-31  INTERMEDIATE        True  https://placekitten.com/354/512  \n",
       "149999   2023-10-05  INTERMEDIATE       False    https://picsum.photos/100/269  \n",
       "\n",
       "[150000 rows x 9 columns]"
      ]
     },
     "execution_count": 16,
     "metadata": {},
     "output_type": "execute_result"
    }
   ],
   "source": [
    "df"
   ]
  },
  {
   "cell_type": "code",
   "execution_count": 17,
   "metadata": {},
   "outputs": [
    {
     "data": {
      "text/html": [
       "<div>\n",
       "<style scoped>\n",
       "    .dataframe tbody tr th:only-of-type {\n",
       "        vertical-align: middle;\n",
       "    }\n",
       "\n",
       "    .dataframe tbody tr th {\n",
       "        vertical-align: top;\n",
       "    }\n",
       "\n",
       "    .dataframe thead th {\n",
       "        text-align: right;\n",
       "    }\n",
       "</style>\n",
       "<table border=\"1\" class=\"dataframe\">\n",
       "  <thead>\n",
       "    <tr style=\"text-align: right;\">\n",
       "      <th></th>\n",
       "      <th>_id</th>\n",
       "      <th>userId</th>\n",
       "      <th>certificationId</th>\n",
       "      <th>certificationName</th>\n",
       "      <th>started_at</th>\n",
       "      <th>completed_at</th>\n",
       "      <th>competency</th>\n",
       "      <th>isVerified</th>\n",
       "      <th>imageData</th>\n",
       "      <th>user_name</th>\n",
       "    </tr>\n",
       "  </thead>\n",
       "  <tbody>\n",
       "    <tr>\n",
       "      <th>0</th>\n",
       "      <td>5c2f5af4-9057-48f4-accb-de937c5cec78</td>\n",
       "      <td>06bdb594-fb32-4612-9f5f-b381ccbfc9a5</td>\n",
       "      <td>d9b6fc8a-59ab-42cd-9534-7f8dcc9e7b91</td>\n",
       "      <td>Certified Kubernetes Administrator</td>\n",
       "      <td>2022-03-22</td>\n",
       "      <td>2022-11-08</td>\n",
       "      <td>ADVANCED</td>\n",
       "      <td>True</td>\n",
       "      <td>https://picsum.photos/380/20</td>\n",
       "      <td>Jonathan King</td>\n",
       "    </tr>\n",
       "    <tr>\n",
       "      <th>1</th>\n",
       "      <td>8443b459-1c45-4658-a256-5348e0488c6b</td>\n",
       "      <td>06bdb594-fb32-4612-9f5f-b381ccbfc9a5</td>\n",
       "      <td>ac3b01df-33cd-4e90-b107-ebb3d901fcd6</td>\n",
       "      <td>Certified ScrumMaster</td>\n",
       "      <td>2020-02-13</td>\n",
       "      <td>2020-06-10</td>\n",
       "      <td>INTERMEDIATE</td>\n",
       "      <td>False</td>\n",
       "      <td>https://picsum.photos/1016/256</td>\n",
       "      <td>Jonathan King</td>\n",
       "    </tr>\n",
       "    <tr>\n",
       "      <th>2</th>\n",
       "      <td>72233b70-4e0a-4f52-8bf4-3766e6c4a8b1</td>\n",
       "      <td>06bdb594-fb32-4612-9f5f-b381ccbfc9a5</td>\n",
       "      <td>e94136f1-f035-458b-9920-14ebc37c9b80</td>\n",
       "      <td>Certified Ethical Hacker</td>\n",
       "      <td>2021-07-16</td>\n",
       "      <td>2022-09-15</td>\n",
       "      <td>BEGINNER</td>\n",
       "      <td>False</td>\n",
       "      <td>https://dummyimage.com/518x634</td>\n",
       "      <td>Jonathan King</td>\n",
       "    </tr>\n",
       "    <tr>\n",
       "      <th>3</th>\n",
       "      <td>113e8e00-a8ac-40a1-8cd5-a93e277cefe3</td>\n",
       "      <td>06bdb594-fb32-4612-9f5f-b381ccbfc9a5</td>\n",
       "      <td>ac3b01df-33cd-4e90-b107-ebb3d901fcd6</td>\n",
       "      <td>Certified ScrumMaster</td>\n",
       "      <td>2021-07-13</td>\n",
       "      <td>2021-07-13</td>\n",
       "      <td>BEGINNER</td>\n",
       "      <td>True</td>\n",
       "      <td>https://dummyimage.com/942x887</td>\n",
       "      <td>Jonathan King</td>\n",
       "    </tr>\n",
       "    <tr>\n",
       "      <th>4</th>\n",
       "      <td>9a49a4a0-f03a-4fa0-8859-aae08ae04418</td>\n",
       "      <td>06bdb594-fb32-4612-9f5f-b381ccbfc9a5</td>\n",
       "      <td>50b0294c-a8f8-435e-bbc0-bbf09afcff14</td>\n",
       "      <td>AWS Certified Developer - Associate</td>\n",
       "      <td>2022-10-17</td>\n",
       "      <td>2024-05-30</td>\n",
       "      <td>EXPERT</td>\n",
       "      <td>False</td>\n",
       "      <td>https://dummyimage.com/288x198</td>\n",
       "      <td>Jonathan King</td>\n",
       "    </tr>\n",
       "  </tbody>\n",
       "</table>\n",
       "</div>"
      ],
      "text/plain": [
       "                                    _id                                userId  \\\n",
       "0  5c2f5af4-9057-48f4-accb-de937c5cec78  06bdb594-fb32-4612-9f5f-b381ccbfc9a5   \n",
       "1  8443b459-1c45-4658-a256-5348e0488c6b  06bdb594-fb32-4612-9f5f-b381ccbfc9a5   \n",
       "2  72233b70-4e0a-4f52-8bf4-3766e6c4a8b1  06bdb594-fb32-4612-9f5f-b381ccbfc9a5   \n",
       "3  113e8e00-a8ac-40a1-8cd5-a93e277cefe3  06bdb594-fb32-4612-9f5f-b381ccbfc9a5   \n",
       "4  9a49a4a0-f03a-4fa0-8859-aae08ae04418  06bdb594-fb32-4612-9f5f-b381ccbfc9a5   \n",
       "\n",
       "                        certificationId                    certificationName  \\\n",
       "0  d9b6fc8a-59ab-42cd-9534-7f8dcc9e7b91   Certified Kubernetes Administrator   \n",
       "1  ac3b01df-33cd-4e90-b107-ebb3d901fcd6                Certified ScrumMaster   \n",
       "2  e94136f1-f035-458b-9920-14ebc37c9b80             Certified Ethical Hacker   \n",
       "3  ac3b01df-33cd-4e90-b107-ebb3d901fcd6                Certified ScrumMaster   \n",
       "4  50b0294c-a8f8-435e-bbc0-bbf09afcff14  AWS Certified Developer - Associate   \n",
       "\n",
       "  started_at completed_at    competency  isVerified  \\\n",
       "0 2022-03-22   2022-11-08      ADVANCED        True   \n",
       "1 2020-02-13   2020-06-10  INTERMEDIATE       False   \n",
       "2 2021-07-16   2022-09-15      BEGINNER       False   \n",
       "3 2021-07-13   2021-07-13      BEGINNER        True   \n",
       "4 2022-10-17   2024-05-30        EXPERT       False   \n",
       "\n",
       "                        imageData      user_name  \n",
       "0    https://picsum.photos/380/20  Jonathan King  \n",
       "1  https://picsum.photos/1016/256  Jonathan King  \n",
       "2  https://dummyimage.com/518x634  Jonathan King  \n",
       "3  https://dummyimage.com/942x887  Jonathan King  \n",
       "4  https://dummyimage.com/288x198  Jonathan King  "
      ]
     },
     "execution_count": 17,
     "metadata": {},
     "output_type": "execute_result"
    }
   ],
   "source": [
    "# roles_df = pd.read_csv('C:/Users/RithikHarendarMahesh/Desktop/fp/DataEngineering/prep/prep_user.csv')\n",
    "roles_df = pd.read_csv('C:/Users/RithikHarendarMahesh/Desktop/fp/DataEngineering/prep/prep_user.csv')\n",
    "roles_df\n",
    "role_mapping = dict(zip(roles_df['_id'], roles_df['name']))\n",
    "df['user_name'] = df['userId'].map(role_mapping)\n",
    "df.head()"
   ]
  },
  {
   "cell_type": "code",
   "execution_count": 18,
   "metadata": {},
   "outputs": [
    {
     "name": "stdout",
     "output_type": "stream",
     "text": [
      "Original dtypes:\n",
      "_id                  string[python]\n",
      "userId               string[python]\n",
      "certificationId      string[python]\n",
      "certificationName    string[python]\n",
      "started_at           datetime64[ns]\n",
      "completed_at         datetime64[ns]\n",
      "competency           string[python]\n",
      "isVerified                  boolean\n",
      "imageData            string[python]\n",
      "user_name                    object\n",
      "dtype: object\n",
      "\n",
      "Converted dtypes:\n",
      "_id                  string[python]\n",
      "userId               string[python]\n",
      "certificationId      string[python]\n",
      "certificationName    string[python]\n",
      "started_at           datetime64[ns]\n",
      "completed_at         datetime64[ns]\n",
      "competency           string[python]\n",
      "isVerified                  boolean\n",
      "imageData            string[python]\n",
      "user_name            string[python]\n",
      "dtype: object\n"
     ]
    }
   ],
   "source": [
    "print(\"Original dtypes:\")\n",
    "print(df.dtypes)\n",
    "\n",
    "# Convert dtypes\n",
    "df=df.convert_dtypes()\n",
    "\n",
    "# Check new dtypes\n",
    "print(\"\\nConverted dtypes:\")\n",
    "print(df.convert_dtypes().dtypes)"
   ]
  },
  {
   "cell_type": "code",
   "execution_count": 19,
   "metadata": {},
   "outputs": [
    {
     "data": {
      "text/plain": [
       "(150000, 10)"
      ]
     },
     "execution_count": 19,
     "metadata": {},
     "output_type": "execute_result"
    }
   ],
   "source": [
    "df.shape"
   ]
  },
  {
   "cell_type": "code",
   "execution_count": 20,
   "metadata": {},
   "outputs": [],
   "source": [
    "df.to_csv('C:/Users/RithikHarendarMahesh/Desktop/fp/DataEngineering/prep/prep_user_certification.csv')"
   ]
  },
  {
   "cell_type": "code",
   "execution_count": null,
   "metadata": {},
   "outputs": [],
   "source": []
  }
 ],
 "metadata": {
  "kernelspec": {
   "display_name": "base",
   "language": "python",
   "name": "python3"
  },
  "language_info": {
   "codemirror_mode": {
    "name": "ipython",
    "version": 3
   },
   "file_extension": ".py",
   "mimetype": "text/x-python",
   "name": "python",
   "nbconvert_exporter": "python",
   "pygments_lexer": "ipython3",
   "version": "3.12.4"
  }
 },
 "nbformat": 4,
 "nbformat_minor": 2
}
