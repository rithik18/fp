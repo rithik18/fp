{
 "cells": [
  {
   "cell_type": "code",
   "execution_count": 1,
   "metadata": {},
   "outputs": [],
   "source": [
    "import pandas as pd"
   ]
  },
  {
   "cell_type": "code",
   "execution_count": 2,
   "metadata": {},
   "outputs": [],
   "source": [
    "user_csv=pd.read_csv('E:/JMAN/fp/DataEngineering/raw/raw_user_certifications.csv')\n",
    "# user_csv=pd.read_csv('E:/JMAN/fp/DataEngineering/raw/raw_user_certifications.csv')"
   ]
  },
  {
   "cell_type": "code",
   "execution_count": 3,
   "metadata": {},
   "outputs": [],
   "source": [
    "df=pd.DataFrame(data=user_csv)"
   ]
  },
  {
   "cell_type": "code",
   "execution_count": 4,
   "metadata": {},
   "outputs": [
    {
     "data": {
      "text/plain": [
       "_id                  0\n",
       "userId               0\n",
       "certificationId      0\n",
       "certificationName    0\n",
       "started_at           0\n",
       "completed_at         0\n",
       "competency           0\n",
       "isVerified           0\n",
       "imageData            0\n",
       "dtype: int64"
      ]
     },
     "execution_count": 4,
     "metadata": {},
     "output_type": "execute_result"
    }
   ],
   "source": [
    "df.isnull().sum()"
   ]
  },
  {
   "cell_type": "code",
   "execution_count": 5,
   "metadata": {},
   "outputs": [],
   "source": [
    "df.dropna(inplace=True)"
   ]
  },
  {
   "cell_type": "code",
   "execution_count": 6,
   "metadata": {},
   "outputs": [],
   "source": [
    "df.drop_duplicates(inplace=True)"
   ]
  },
  {
   "cell_type": "code",
   "execution_count": 7,
   "metadata": {},
   "outputs": [
    {
     "data": {
      "text/plain": [
       "_id                  object\n",
       "userId               object\n",
       "certificationId      object\n",
       "certificationName    object\n",
       "started_at           object\n",
       "completed_at         object\n",
       "competency           object\n",
       "isVerified             bool\n",
       "imageData            object\n",
       "dtype: object"
      ]
     },
     "execution_count": 7,
     "metadata": {},
     "output_type": "execute_result"
    }
   ],
   "source": [
    "df.dtypes"
   ]
  },
  {
   "cell_type": "code",
   "execution_count": 8,
   "metadata": {},
   "outputs": [
    {
     "data": {
      "text/plain": [
       "(150000, 9)"
      ]
     },
     "execution_count": 8,
     "metadata": {},
     "output_type": "execute_result"
    }
   ],
   "source": [
    "df.shape"
   ]
  },
  {
   "cell_type": "code",
   "execution_count": 9,
   "metadata": {},
   "outputs": [
    {
     "name": "stdout",
     "output_type": "stream",
     "text": [
      "Original dtypes:\n",
      "_id                  object\n",
      "userId               object\n",
      "certificationId      object\n",
      "certificationName    object\n",
      "started_at           object\n",
      "completed_at         object\n",
      "competency           object\n",
      "isVerified             bool\n",
      "imageData            object\n",
      "dtype: object\n",
      "\n",
      "Converted dtypes:\n",
      "_id                   string\n",
      "userId                string\n",
      "certificationId       string\n",
      "certificationName     string\n",
      "started_at            string\n",
      "completed_at          string\n",
      "competency            string\n",
      "isVerified           boolean\n",
      "imageData             string\n",
      "dtype: object\n"
     ]
    }
   ],
   "source": [
    "print(\"Original dtypes:\")\n",
    "print(df.dtypes)\n",
    "\n",
    "# Convert dtypes\n",
    "df=df.convert_dtypes()\n",
    "\n",
    "# Check new dtypes\n",
    "print(\"\\nConverted dtypes:\")\n",
    "print(df.convert_dtypes().dtypes)"
   ]
  },
  {
   "cell_type": "code",
   "execution_count": 10,
   "metadata": {},
   "outputs": [],
   "source": [
    "df['started_at'] = [\n",
    "    i.split(\" \")[0] if 'T' not in i else i.split(\"T\")[0] for i in df['started_at']\n",
    "]"
   ]
  },
  {
   "cell_type": "code",
   "execution_count": 11,
   "metadata": {},
   "outputs": [],
   "source": [
    "df['started_at']=pd.to_datetime(df['started_at'])"
   ]
  },
  {
   "cell_type": "code",
   "execution_count": 12,
   "metadata": {},
   "outputs": [],
   "source": [
    "df['completed_at'] = [\n",
    "    i.split(\" \")[0] if 'T' not in i else i.split(\"T\")[0] for i in df['completed_at']\n",
    "]"
   ]
  },
  {
   "cell_type": "code",
   "execution_count": 13,
   "metadata": {},
   "outputs": [],
   "source": [
    "df['completed_at']=pd.to_datetime(df['completed_at'])"
   ]
  },
  {
   "cell_type": "code",
   "execution_count": 14,
   "metadata": {},
   "outputs": [
    {
     "data": {
      "text/plain": [
       "_id                          string\n",
       "userId                       string\n",
       "certificationId              string\n",
       "certificationName            string\n",
       "started_at           datetime64[ns]\n",
       "completed_at         datetime64[ns]\n",
       "competency                   string\n",
       "isVerified                  boolean\n",
       "imageData                    string\n",
       "dtype: object"
      ]
     },
     "execution_count": 14,
     "metadata": {},
     "output_type": "execute_result"
    }
   ],
   "source": [
    "df.dtypes"
   ]
  },
  {
   "cell_type": "code",
   "execution_count": 15,
   "metadata": {},
   "outputs": [
    {
     "data": {
      "text/plain": [
       "(150000, 9)"
      ]
     },
     "execution_count": 15,
     "metadata": {},
     "output_type": "execute_result"
    }
   ],
   "source": [
    "df.shape"
   ]
  },
  {
   "cell_type": "code",
   "execution_count": 16,
   "metadata": {},
   "outputs": [
    {
     "data": {
      "text/html": [
       "<div>\n",
       "<style scoped>\n",
       "    .dataframe tbody tr th:only-of-type {\n",
       "        vertical-align: middle;\n",
       "    }\n",
       "\n",
       "    .dataframe tbody tr th {\n",
       "        vertical-align: top;\n",
       "    }\n",
       "\n",
       "    .dataframe thead th {\n",
       "        text-align: right;\n",
       "    }\n",
       "</style>\n",
       "<table border=\"1\" class=\"dataframe\">\n",
       "  <thead>\n",
       "    <tr style=\"text-align: right;\">\n",
       "      <th></th>\n",
       "      <th>_id</th>\n",
       "      <th>userId</th>\n",
       "      <th>certificationId</th>\n",
       "      <th>certificationName</th>\n",
       "      <th>started_at</th>\n",
       "      <th>completed_at</th>\n",
       "      <th>competency</th>\n",
       "      <th>isVerified</th>\n",
       "      <th>imageData</th>\n",
       "    </tr>\n",
       "  </thead>\n",
       "  <tbody>\n",
       "    <tr>\n",
       "      <th>0</th>\n",
       "      <td>186e1ac2-534e-4f79-a662-ebb20db2d750</td>\n",
       "      <td>75d5aae9-1b22-4ab7-ab0c-191b0691138d</td>\n",
       "      <td>f339096d-44d5-4f55-9dc7-f116ff409ad1</td>\n",
       "      <td>CompTIA Security+</td>\n",
       "      <td>2022-07-25</td>\n",
       "      <td>2022-07-25</td>\n",
       "      <td>INTERMEDIATE</td>\n",
       "      <td>True</td>\n",
       "      <td>https://placekitten.com/173/405</td>\n",
       "    </tr>\n",
       "    <tr>\n",
       "      <th>1</th>\n",
       "      <td>1f917f7d-49c8-4e07-a46b-47d25e9e5f61</td>\n",
       "      <td>75d5aae9-1b22-4ab7-ab0c-191b0691138d</td>\n",
       "      <td>41c305bf-37c4-4a6b-9219-0ea44462fd03</td>\n",
       "      <td>Certified Kubernetes Administrator</td>\n",
       "      <td>2022-12-29</td>\n",
       "      <td>2023-08-02</td>\n",
       "      <td>INTERMEDIATE</td>\n",
       "      <td>True</td>\n",
       "      <td>https://picsum.photos/434/665</td>\n",
       "    </tr>\n",
       "    <tr>\n",
       "      <th>2</th>\n",
       "      <td>3569a0f5-47f1-4a9b-b5ef-b565198c78fd</td>\n",
       "      <td>75d5aae9-1b22-4ab7-ab0c-191b0691138d</td>\n",
       "      <td>1b28edd3-9679-4285-adc4-709a01eeb17e</td>\n",
       "      <td>AWS Certified Developer - Associate</td>\n",
       "      <td>2020-10-03</td>\n",
       "      <td>2020-10-03</td>\n",
       "      <td>ADVANCED</td>\n",
       "      <td>True</td>\n",
       "      <td>https://placekitten.com/918/316</td>\n",
       "    </tr>\n",
       "    <tr>\n",
       "      <th>3</th>\n",
       "      <td>2f6d0907-2c19-4da1-aec2-b71e7bc664d6</td>\n",
       "      <td>75d5aae9-1b22-4ab7-ab0c-191b0691138d</td>\n",
       "      <td>baa99073-7ecd-4b71-98d3-c030ef45f137</td>\n",
       "      <td>Certified Information Systems Security Profess...</td>\n",
       "      <td>2020-03-15</td>\n",
       "      <td>2020-04-25</td>\n",
       "      <td>EXPERT</td>\n",
       "      <td>False</td>\n",
       "      <td>https://dummyimage.com/667x321</td>\n",
       "    </tr>\n",
       "    <tr>\n",
       "      <th>4</th>\n",
       "      <td>945d54b8-193e-47f7-85fc-e9ec98a8cb31</td>\n",
       "      <td>75d5aae9-1b22-4ab7-ab0c-191b0691138d</td>\n",
       "      <td>d1b007ef-92f7-44d3-b666-7b2fa74fc770</td>\n",
       "      <td>Microsoft Certified: Azure Developer Associate</td>\n",
       "      <td>2021-07-02</td>\n",
       "      <td>2021-07-02</td>\n",
       "      <td>ADVANCED</td>\n",
       "      <td>False</td>\n",
       "      <td>https://picsum.photos/372/637</td>\n",
       "    </tr>\n",
       "    <tr>\n",
       "      <th>...</th>\n",
       "      <td>...</td>\n",
       "      <td>...</td>\n",
       "      <td>...</td>\n",
       "      <td>...</td>\n",
       "      <td>...</td>\n",
       "      <td>...</td>\n",
       "      <td>...</td>\n",
       "      <td>...</td>\n",
       "      <td>...</td>\n",
       "    </tr>\n",
       "    <tr>\n",
       "      <th>149995</th>\n",
       "      <td>c0dcf9d4-76d8-4f29-9f92-617b447163af</td>\n",
       "      <td>0ab8f3ba-3491-4640-8884-549a0825ece4</td>\n",
       "      <td>0e70abd3-f207-4b9d-8fde-5b31e7048747</td>\n",
       "      <td>Microsoft Certified: Azure Developer Associate</td>\n",
       "      <td>2021-03-02</td>\n",
       "      <td>2022-01-01</td>\n",
       "      <td>BEGINNER</td>\n",
       "      <td>False</td>\n",
       "      <td>https://placekitten.com/693/918</td>\n",
       "    </tr>\n",
       "    <tr>\n",
       "      <th>149996</th>\n",
       "      <td>38662839-1114-4990-93c8-ec124f013440</td>\n",
       "      <td>0ab8f3ba-3491-4640-8884-549a0825ece4</td>\n",
       "      <td>9e112569-96bd-47c5-ab3c-92d4760b1261</td>\n",
       "      <td>Certified Ethical Hacker (CEH)</td>\n",
       "      <td>2023-01-30</td>\n",
       "      <td>2023-01-30</td>\n",
       "      <td>BEGINNER</td>\n",
       "      <td>False</td>\n",
       "      <td>https://placekitten.com/919/213</td>\n",
       "    </tr>\n",
       "    <tr>\n",
       "      <th>149997</th>\n",
       "      <td>63dda056-b18e-4095-8817-a1819f747136</td>\n",
       "      <td>0ab8f3ba-3491-4640-8884-549a0825ece4</td>\n",
       "      <td>b434cdf3-c232-4e0a-b2d7-ef794eb751e2</td>\n",
       "      <td>Documentation and Technical Communication Cert...</td>\n",
       "      <td>2020-10-19</td>\n",
       "      <td>2021-01-18</td>\n",
       "      <td>ADVANCED</td>\n",
       "      <td>False</td>\n",
       "      <td>https://picsum.photos/224/8</td>\n",
       "    </tr>\n",
       "    <tr>\n",
       "      <th>149998</th>\n",
       "      <td>815464ad-fbe2-4f04-b66c-c4aeaf7fe683</td>\n",
       "      <td>0ab8f3ba-3491-4640-8884-549a0825ece4</td>\n",
       "      <td>a7a9325c-d520-4014-a887-1ddaaf4f5a91</td>\n",
       "      <td>CompTIA Security+</td>\n",
       "      <td>2021-11-17</td>\n",
       "      <td>2022-06-16</td>\n",
       "      <td>INTERMEDIATE</td>\n",
       "      <td>True</td>\n",
       "      <td>https://placekitten.com/488/685</td>\n",
       "    </tr>\n",
       "    <tr>\n",
       "      <th>149999</th>\n",
       "      <td>4250d4f4-e392-409a-a005-7b7a6677d29f</td>\n",
       "      <td>0ab8f3ba-3491-4640-8884-549a0825ece4</td>\n",
       "      <td>60dc9648-c229-439b-8a83-ad0837414247</td>\n",
       "      <td>Certified Information Systems Security Profess...</td>\n",
       "      <td>2020-08-12</td>\n",
       "      <td>2021-04-26</td>\n",
       "      <td>EXPERT</td>\n",
       "      <td>True</td>\n",
       "      <td>https://placekitten.com/428/226</td>\n",
       "    </tr>\n",
       "  </tbody>\n",
       "</table>\n",
       "<p>150000 rows × 9 columns</p>\n",
       "</div>"
      ],
      "text/plain": [
       "                                         _id  \\\n",
       "0       186e1ac2-534e-4f79-a662-ebb20db2d750   \n",
       "1       1f917f7d-49c8-4e07-a46b-47d25e9e5f61   \n",
       "2       3569a0f5-47f1-4a9b-b5ef-b565198c78fd   \n",
       "3       2f6d0907-2c19-4da1-aec2-b71e7bc664d6   \n",
       "4       945d54b8-193e-47f7-85fc-e9ec98a8cb31   \n",
       "...                                      ...   \n",
       "149995  c0dcf9d4-76d8-4f29-9f92-617b447163af   \n",
       "149996  38662839-1114-4990-93c8-ec124f013440   \n",
       "149997  63dda056-b18e-4095-8817-a1819f747136   \n",
       "149998  815464ad-fbe2-4f04-b66c-c4aeaf7fe683   \n",
       "149999  4250d4f4-e392-409a-a005-7b7a6677d29f   \n",
       "\n",
       "                                      userId  \\\n",
       "0       75d5aae9-1b22-4ab7-ab0c-191b0691138d   \n",
       "1       75d5aae9-1b22-4ab7-ab0c-191b0691138d   \n",
       "2       75d5aae9-1b22-4ab7-ab0c-191b0691138d   \n",
       "3       75d5aae9-1b22-4ab7-ab0c-191b0691138d   \n",
       "4       75d5aae9-1b22-4ab7-ab0c-191b0691138d   \n",
       "...                                      ...   \n",
       "149995  0ab8f3ba-3491-4640-8884-549a0825ece4   \n",
       "149996  0ab8f3ba-3491-4640-8884-549a0825ece4   \n",
       "149997  0ab8f3ba-3491-4640-8884-549a0825ece4   \n",
       "149998  0ab8f3ba-3491-4640-8884-549a0825ece4   \n",
       "149999  0ab8f3ba-3491-4640-8884-549a0825ece4   \n",
       "\n",
       "                             certificationId  \\\n",
       "0       f339096d-44d5-4f55-9dc7-f116ff409ad1   \n",
       "1       41c305bf-37c4-4a6b-9219-0ea44462fd03   \n",
       "2       1b28edd3-9679-4285-adc4-709a01eeb17e   \n",
       "3       baa99073-7ecd-4b71-98d3-c030ef45f137   \n",
       "4       d1b007ef-92f7-44d3-b666-7b2fa74fc770   \n",
       "...                                      ...   \n",
       "149995  0e70abd3-f207-4b9d-8fde-5b31e7048747   \n",
       "149996  9e112569-96bd-47c5-ab3c-92d4760b1261   \n",
       "149997  b434cdf3-c232-4e0a-b2d7-ef794eb751e2   \n",
       "149998  a7a9325c-d520-4014-a887-1ddaaf4f5a91   \n",
       "149999  60dc9648-c229-439b-8a83-ad0837414247   \n",
       "\n",
       "                                        certificationName started_at  \\\n",
       "0                                       CompTIA Security+ 2022-07-25   \n",
       "1                      Certified Kubernetes Administrator 2022-12-29   \n",
       "2                     AWS Certified Developer - Associate 2020-10-03   \n",
       "3       Certified Information Systems Security Profess... 2020-03-15   \n",
       "4          Microsoft Certified: Azure Developer Associate 2021-07-02   \n",
       "...                                                   ...        ...   \n",
       "149995     Microsoft Certified: Azure Developer Associate 2021-03-02   \n",
       "149996                     Certified Ethical Hacker (CEH) 2023-01-30   \n",
       "149997  Documentation and Technical Communication Cert... 2020-10-19   \n",
       "149998                                  CompTIA Security+ 2021-11-17   \n",
       "149999  Certified Information Systems Security Profess... 2020-08-12   \n",
       "\n",
       "       completed_at    competency  isVerified                        imageData  \n",
       "0        2022-07-25  INTERMEDIATE        True  https://placekitten.com/173/405  \n",
       "1        2023-08-02  INTERMEDIATE        True    https://picsum.photos/434/665  \n",
       "2        2020-10-03      ADVANCED        True  https://placekitten.com/918/316  \n",
       "3        2020-04-25        EXPERT       False   https://dummyimage.com/667x321  \n",
       "4        2021-07-02      ADVANCED       False    https://picsum.photos/372/637  \n",
       "...             ...           ...         ...                              ...  \n",
       "149995   2022-01-01      BEGINNER       False  https://placekitten.com/693/918  \n",
       "149996   2023-01-30      BEGINNER       False  https://placekitten.com/919/213  \n",
       "149997   2021-01-18      ADVANCED       False      https://picsum.photos/224/8  \n",
       "149998   2022-06-16  INTERMEDIATE        True  https://placekitten.com/488/685  \n",
       "149999   2021-04-26        EXPERT        True  https://placekitten.com/428/226  \n",
       "\n",
       "[150000 rows x 9 columns]"
      ]
     },
     "execution_count": 16,
     "metadata": {},
     "output_type": "execute_result"
    }
   ],
   "source": [
    "df"
   ]
  },
  {
   "cell_type": "code",
   "execution_count": 17,
   "metadata": {},
   "outputs": [
    {
     "data": {
      "text/html": [
       "<div>\n",
       "<style scoped>\n",
       "    .dataframe tbody tr th:only-of-type {\n",
       "        vertical-align: middle;\n",
       "    }\n",
       "\n",
       "    .dataframe tbody tr th {\n",
       "        vertical-align: top;\n",
       "    }\n",
       "\n",
       "    .dataframe thead th {\n",
       "        text-align: right;\n",
       "    }\n",
       "</style>\n",
       "<table border=\"1\" class=\"dataframe\">\n",
       "  <thead>\n",
       "    <tr style=\"text-align: right;\">\n",
       "      <th></th>\n",
       "      <th>_id</th>\n",
       "      <th>userId</th>\n",
       "      <th>certificationId</th>\n",
       "      <th>certificationName</th>\n",
       "      <th>started_at</th>\n",
       "      <th>completed_at</th>\n",
       "      <th>competency</th>\n",
       "      <th>isVerified</th>\n",
       "      <th>imageData</th>\n",
       "      <th>user_name</th>\n",
       "    </tr>\n",
       "  </thead>\n",
       "  <tbody>\n",
       "    <tr>\n",
       "      <th>0</th>\n",
       "      <td>186e1ac2-534e-4f79-a662-ebb20db2d750</td>\n",
       "      <td>75d5aae9-1b22-4ab7-ab0c-191b0691138d</td>\n",
       "      <td>f339096d-44d5-4f55-9dc7-f116ff409ad1</td>\n",
       "      <td>CompTIA Security+</td>\n",
       "      <td>2022-07-25</td>\n",
       "      <td>2022-07-25</td>\n",
       "      <td>INTERMEDIATE</td>\n",
       "      <td>True</td>\n",
       "      <td>https://placekitten.com/173/405</td>\n",
       "      <td>Amy Dodson</td>\n",
       "    </tr>\n",
       "    <tr>\n",
       "      <th>1</th>\n",
       "      <td>1f917f7d-49c8-4e07-a46b-47d25e9e5f61</td>\n",
       "      <td>75d5aae9-1b22-4ab7-ab0c-191b0691138d</td>\n",
       "      <td>41c305bf-37c4-4a6b-9219-0ea44462fd03</td>\n",
       "      <td>Certified Kubernetes Administrator</td>\n",
       "      <td>2022-12-29</td>\n",
       "      <td>2023-08-02</td>\n",
       "      <td>INTERMEDIATE</td>\n",
       "      <td>True</td>\n",
       "      <td>https://picsum.photos/434/665</td>\n",
       "      <td>Amy Dodson</td>\n",
       "    </tr>\n",
       "    <tr>\n",
       "      <th>2</th>\n",
       "      <td>3569a0f5-47f1-4a9b-b5ef-b565198c78fd</td>\n",
       "      <td>75d5aae9-1b22-4ab7-ab0c-191b0691138d</td>\n",
       "      <td>1b28edd3-9679-4285-adc4-709a01eeb17e</td>\n",
       "      <td>AWS Certified Developer - Associate</td>\n",
       "      <td>2020-10-03</td>\n",
       "      <td>2020-10-03</td>\n",
       "      <td>ADVANCED</td>\n",
       "      <td>True</td>\n",
       "      <td>https://placekitten.com/918/316</td>\n",
       "      <td>Amy Dodson</td>\n",
       "    </tr>\n",
       "    <tr>\n",
       "      <th>3</th>\n",
       "      <td>2f6d0907-2c19-4da1-aec2-b71e7bc664d6</td>\n",
       "      <td>75d5aae9-1b22-4ab7-ab0c-191b0691138d</td>\n",
       "      <td>baa99073-7ecd-4b71-98d3-c030ef45f137</td>\n",
       "      <td>Certified Information Systems Security Profess...</td>\n",
       "      <td>2020-03-15</td>\n",
       "      <td>2020-04-25</td>\n",
       "      <td>EXPERT</td>\n",
       "      <td>False</td>\n",
       "      <td>https://dummyimage.com/667x321</td>\n",
       "      <td>Amy Dodson</td>\n",
       "    </tr>\n",
       "    <tr>\n",
       "      <th>4</th>\n",
       "      <td>945d54b8-193e-47f7-85fc-e9ec98a8cb31</td>\n",
       "      <td>75d5aae9-1b22-4ab7-ab0c-191b0691138d</td>\n",
       "      <td>d1b007ef-92f7-44d3-b666-7b2fa74fc770</td>\n",
       "      <td>Microsoft Certified: Azure Developer Associate</td>\n",
       "      <td>2021-07-02</td>\n",
       "      <td>2021-07-02</td>\n",
       "      <td>ADVANCED</td>\n",
       "      <td>False</td>\n",
       "      <td>https://picsum.photos/372/637</td>\n",
       "      <td>Amy Dodson</td>\n",
       "    </tr>\n",
       "  </tbody>\n",
       "</table>\n",
       "</div>"
      ],
      "text/plain": [
       "                                    _id                                userId  \\\n",
       "0  186e1ac2-534e-4f79-a662-ebb20db2d750  75d5aae9-1b22-4ab7-ab0c-191b0691138d   \n",
       "1  1f917f7d-49c8-4e07-a46b-47d25e9e5f61  75d5aae9-1b22-4ab7-ab0c-191b0691138d   \n",
       "2  3569a0f5-47f1-4a9b-b5ef-b565198c78fd  75d5aae9-1b22-4ab7-ab0c-191b0691138d   \n",
       "3  2f6d0907-2c19-4da1-aec2-b71e7bc664d6  75d5aae9-1b22-4ab7-ab0c-191b0691138d   \n",
       "4  945d54b8-193e-47f7-85fc-e9ec98a8cb31  75d5aae9-1b22-4ab7-ab0c-191b0691138d   \n",
       "\n",
       "                        certificationId  \\\n",
       "0  f339096d-44d5-4f55-9dc7-f116ff409ad1   \n",
       "1  41c305bf-37c4-4a6b-9219-0ea44462fd03   \n",
       "2  1b28edd3-9679-4285-adc4-709a01eeb17e   \n",
       "3  baa99073-7ecd-4b71-98d3-c030ef45f137   \n",
       "4  d1b007ef-92f7-44d3-b666-7b2fa74fc770   \n",
       "\n",
       "                                   certificationName started_at completed_at  \\\n",
       "0                                  CompTIA Security+ 2022-07-25   2022-07-25   \n",
       "1                 Certified Kubernetes Administrator 2022-12-29   2023-08-02   \n",
       "2                AWS Certified Developer - Associate 2020-10-03   2020-10-03   \n",
       "3  Certified Information Systems Security Profess... 2020-03-15   2020-04-25   \n",
       "4     Microsoft Certified: Azure Developer Associate 2021-07-02   2021-07-02   \n",
       "\n",
       "     competency  isVerified                        imageData   user_name  \n",
       "0  INTERMEDIATE        True  https://placekitten.com/173/405  Amy Dodson  \n",
       "1  INTERMEDIATE        True    https://picsum.photos/434/665  Amy Dodson  \n",
       "2      ADVANCED        True  https://placekitten.com/918/316  Amy Dodson  \n",
       "3        EXPERT       False   https://dummyimage.com/667x321  Amy Dodson  \n",
       "4      ADVANCED       False    https://picsum.photos/372/637  Amy Dodson  "
      ]
     },
     "execution_count": 17,
     "metadata": {},
     "output_type": "execute_result"
    }
   ],
   "source": [
    "# roles_df = pd.read_csv('E:/JMAN/fp/DataEngineering/prep/prep_user.csv')\n",
    "roles_df = pd.read_csv('E:/JMAN/fp/DataEngineering/prep/prep_user.csv')\n",
    "roles_df\n",
    "role_mapping = dict(zip(roles_df['_id'], roles_df['name']))\n",
    "df['user_name'] = df['userId'].map(role_mapping)\n",
    "df.head()"
   ]
  },
  {
   "cell_type": "code",
   "execution_count": 18,
   "metadata": {},
   "outputs": [
    {
     "name": "stdout",
     "output_type": "stream",
     "text": [
      "Original dtypes:\n",
      "_id                          string\n",
      "userId                       string\n",
      "certificationId              string\n",
      "certificationName            string\n",
      "started_at           datetime64[ns]\n",
      "completed_at         datetime64[ns]\n",
      "competency                   string\n",
      "isVerified                  boolean\n",
      "imageData                    string\n",
      "user_name                    object\n",
      "dtype: object\n",
      "\n",
      "Converted dtypes:\n",
      "_id                          string\n",
      "userId                       string\n",
      "certificationId              string\n",
      "certificationName            string\n",
      "started_at           datetime64[ns]\n",
      "completed_at         datetime64[ns]\n",
      "competency                   string\n",
      "isVerified                  boolean\n",
      "imageData                    string\n",
      "user_name                    string\n",
      "dtype: object\n"
     ]
    }
   ],
   "source": [
    "print(\"Original dtypes:\")\n",
    "print(df.dtypes)\n",
    "\n",
    "# Convert dtypes\n",
    "df=df.convert_dtypes()\n",
    "\n",
    "# Check new dtypes\n",
    "print(\"\\nConverted dtypes:\")\n",
    "print(df.convert_dtypes().dtypes)"
   ]
  },
  {
   "cell_type": "code",
   "execution_count": 19,
   "metadata": {},
   "outputs": [
    {
     "data": {
      "text/plain": [
       "(150000, 10)"
      ]
     },
     "execution_count": 19,
     "metadata": {},
     "output_type": "execute_result"
    }
   ],
   "source": [
    "df.shape"
   ]
  },
  {
   "cell_type": "code",
   "execution_count": 20,
   "metadata": {},
   "outputs": [],
   "source": [
    "df.to_csv('E:/JMAN/fp/DataEngineering/prep/prep_user_certification.csv')"
   ]
  },
  {
   "cell_type": "code",
   "execution_count": null,
   "metadata": {},
   "outputs": [],
   "source": []
  }
 ],
 "metadata": {
  "kernelspec": {
   "display_name": "base",
   "language": "python",
   "name": "python3"
  },
  "language_info": {
   "codemirror_mode": {
    "name": "ipython",
    "version": 3
   },
   "file_extension": ".py",
   "mimetype": "text/x-python",
   "name": "python",
   "nbconvert_exporter": "python",
   "pygments_lexer": "ipython3",
   "version": "3.9.7"
  }
 },
 "nbformat": 4,
 "nbformat_minor": 2
}
