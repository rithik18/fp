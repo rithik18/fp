{
 "cells": [
  {
   "cell_type": "code",
   "execution_count": 1,
   "metadata": {},
   "outputs": [],
   "source": [
    "import pandas as pd"
   ]
  },
  {
   "cell_type": "code",
   "execution_count": 3,
   "metadata": {},
   "outputs": [],
   "source": [
    "user_csv=pd.read_csv('C:/Users/RithikHarendarMahesh/Desktop/fp/DataEngineering/raw/raw_user_certifications.csv')"
   ]
  },
  {
   "cell_type": "code",
   "execution_count": 4,
   "metadata": {},
   "outputs": [],
   "source": [
    "df=pd.DataFrame(data=user_csv)"
   ]
  },
  {
   "cell_type": "code",
   "execution_count": 5,
   "metadata": {},
   "outputs": [
    {
     "data": {
      "text/plain": [
       "_id                  0\n",
       "userId               0\n",
       "certificationId      0\n",
       "certificationName    0\n",
       "started_at           0\n",
       "completed_at         0\n",
       "competency           0\n",
       "isVerified           0\n",
       "imageData            0\n",
       "dtype: int64"
      ]
     },
     "execution_count": 5,
     "metadata": {},
     "output_type": "execute_result"
    }
   ],
   "source": [
    "df.isnull().sum()"
   ]
  },
  {
   "cell_type": "code",
   "execution_count": 6,
   "metadata": {},
   "outputs": [],
   "source": [
    "df.dropna(inplace=True)"
   ]
  },
  {
   "cell_type": "code",
   "execution_count": 7,
   "metadata": {},
   "outputs": [],
   "source": [
    "df.drop_duplicates(inplace=True)"
   ]
  },
  {
   "cell_type": "code",
   "execution_count": 8,
   "metadata": {},
   "outputs": [
    {
     "data": {
      "text/plain": [
       "_id                  object\n",
       "userId               object\n",
       "certificationId      object\n",
       "certificationName    object\n",
       "started_at           object\n",
       "completed_at         object\n",
       "competency           object\n",
       "isVerified             bool\n",
       "imageData            object\n",
       "dtype: object"
      ]
     },
     "execution_count": 8,
     "metadata": {},
     "output_type": "execute_result"
    }
   ],
   "source": [
    "df.dtypes"
   ]
  },
  {
   "cell_type": "code",
   "execution_count": 9,
   "metadata": {},
   "outputs": [
    {
     "name": "stdout",
     "output_type": "stream",
     "text": [
      "Original dtypes:\n",
      "_id                  object\n",
      "userId               object\n",
      "certificationId      object\n",
      "certificationName    object\n",
      "started_at           object\n",
      "completed_at         object\n",
      "competency           object\n",
      "isVerified             bool\n",
      "imageData            object\n",
      "dtype: object\n",
      "\n",
      "Converted dtypes:\n",
      "_id                  string[python]\n",
      "userId               string[python]\n",
      "certificationId      string[python]\n",
      "certificationName    string[python]\n",
      "started_at           string[python]\n",
      "completed_at         string[python]\n",
      "competency           string[python]\n",
      "isVerified                  boolean\n",
      "imageData            string[python]\n",
      "dtype: object\n"
     ]
    }
   ],
   "source": [
    "print(\"Original dtypes:\")\n",
    "print(df.dtypes)\n",
    "\n",
    "# Convert dtypes\n",
    "df=df.convert_dtypes()\n",
    "\n",
    "# Check new dtypes\n",
    "print(\"\\nConverted dtypes:\")\n",
    "print(df.convert_dtypes().dtypes)"
   ]
  },
  {
   "cell_type": "code",
   "execution_count": 10,
   "metadata": {},
   "outputs": [],
   "source": [
    "df['started_at'] = [\n",
    "    i.split(\" \")[0] if 'T' not in i else i.split(\"T\")[0] for i in df['started_at']\n",
    "]"
   ]
  },
  {
   "cell_type": "code",
   "execution_count": 11,
   "metadata": {},
   "outputs": [],
   "source": [
    "df['started_at']=pd.to_datetime(df['started_at'])"
   ]
  },
  {
   "cell_type": "code",
   "execution_count": 12,
   "metadata": {},
   "outputs": [],
   "source": [
    "df['completed_at'] = [\n",
    "    i.split(\" \")[0] if 'T' not in i else i.split(\"T\")[0] for i in df['completed_at']\n",
    "]"
   ]
  },
  {
   "cell_type": "code",
   "execution_count": 13,
   "metadata": {},
   "outputs": [],
   "source": [
    "df['completed_at']=pd.to_datetime(df['completed_at'])"
   ]
  },
  {
   "cell_type": "code",
   "execution_count": 14,
   "metadata": {},
   "outputs": [
    {
     "data": {
      "text/plain": [
       "_id                  string[python]\n",
       "userId               string[python]\n",
       "certificationId      string[python]\n",
       "certificationName    string[python]\n",
       "started_at           datetime64[ns]\n",
       "completed_at         datetime64[ns]\n",
       "competency           string[python]\n",
       "isVerified                  boolean\n",
       "imageData            string[python]\n",
       "dtype: object"
      ]
     },
     "execution_count": 14,
     "metadata": {},
     "output_type": "execute_result"
    }
   ],
   "source": [
    "df.dtypes"
   ]
  },
  {
   "cell_type": "code",
   "execution_count": 17,
   "metadata": {},
   "outputs": [
    {
     "data": {
      "text/html": [
       "<div>\n",
       "<style scoped>\n",
       "    .dataframe tbody tr th:only-of-type {\n",
       "        vertical-align: middle;\n",
       "    }\n",
       "\n",
       "    .dataframe tbody tr th {\n",
       "        vertical-align: top;\n",
       "    }\n",
       "\n",
       "    .dataframe thead th {\n",
       "        text-align: right;\n",
       "    }\n",
       "</style>\n",
       "<table border=\"1\" class=\"dataframe\">\n",
       "  <thead>\n",
       "    <tr style=\"text-align: right;\">\n",
       "      <th></th>\n",
       "      <th>_id</th>\n",
       "      <th>userId</th>\n",
       "      <th>certificationId</th>\n",
       "      <th>certificationName</th>\n",
       "      <th>started_at</th>\n",
       "      <th>completed_at</th>\n",
       "      <th>competency</th>\n",
       "      <th>isVerified</th>\n",
       "      <th>imageData</th>\n",
       "      <th>user_name</th>\n",
       "    </tr>\n",
       "  </thead>\n",
       "  <tbody>\n",
       "    <tr>\n",
       "      <th>0</th>\n",
       "      <td>6702bca3c96bbf13f5ff2903</td>\n",
       "      <td>67013cc9a25cfa0d89dbb105</td>\n",
       "      <td>66febe5eca0ebab04690f2ac</td>\n",
       "      <td>ReactJS</td>\n",
       "      <td>2024-10-05</td>\n",
       "      <td>2024-10-09</td>\n",
       "      <td>BEGINNER</td>\n",
       "      <td>True</td>\n",
       "      <td>data:image/png;base64,iVBORw0KGgoAAAANSUhEUgAA...</td>\n",
       "      <td>abc</td>\n",
       "    </tr>\n",
       "    <tr>\n",
       "      <th>1</th>\n",
       "      <td>6702c4fb2a2f643b3baa88ab</td>\n",
       "      <td>67013cc9a25cfa0d89dbb105</td>\n",
       "      <td>66febfabca0ebab04690f2b1</td>\n",
       "      <td>ExpressJS</td>\n",
       "      <td>2024-10-06</td>\n",
       "      <td>2024-10-09</td>\n",
       "      <td>BEGINNER</td>\n",
       "      <td>True</td>\n",
       "      <td>data:image/png;base64,iVBORw0KGgoAAAANSUhEUgAA...</td>\n",
       "      <td>abc</td>\n",
       "    </tr>\n",
       "    <tr>\n",
       "      <th>2</th>\n",
       "      <td>67036548eb36bec3fb1849e7</td>\n",
       "      <td>66fe81770b5205e064c2aed5</td>\n",
       "      <td>66febe5eca0ebab04690f2ac</td>\n",
       "      <td>ReactJS</td>\n",
       "      <td>2024-10-02</td>\n",
       "      <td>2024-10-10</td>\n",
       "      <td>BEGINNER</td>\n",
       "      <td>False</td>\n",
       "      <td>data:image/png;base64,iVBORw0KGgoAAAANSUhEUgAA...</td>\n",
       "      <td>emp1</td>\n",
       "    </tr>\n",
       "    <tr>\n",
       "      <th>3</th>\n",
       "      <td>67036ccb93760f84b5e886ad</td>\n",
       "      <td>66fe81770b5205e064c2aed5</td>\n",
       "      <td>66febe5eca0ebab04690f2ac</td>\n",
       "      <td>ReactJS</td>\n",
       "      <td>2024-10-07</td>\n",
       "      <td>2024-10-09</td>\n",
       "      <td>INTERMEDIATE</td>\n",
       "      <td>False</td>\n",
       "      <td>data:image/jpeg;base64,/9j/4AAQSkZJRgABAQAAAQA...</td>\n",
       "      <td>emp1</td>\n",
       "    </tr>\n",
       "    <tr>\n",
       "      <th>4</th>\n",
       "      <td>6703c24a5b1d1e7f98a9a959</td>\n",
       "      <td>66fe81770b5205e064c2aed5</td>\n",
       "      <td>6703c20b5b1d1e7f98a9a957</td>\n",
       "      <td>Web Scrapping using Python</td>\n",
       "      <td>2024-10-07</td>\n",
       "      <td>2024-10-10</td>\n",
       "      <td>BEGINNER</td>\n",
       "      <td>False</td>\n",
       "      <td>data:image/jpeg;base64,/9j/4AAQSkZJRgABAQAAAQA...</td>\n",
       "      <td>emp1</td>\n",
       "    </tr>\n",
       "  </tbody>\n",
       "</table>\n",
       "</div>"
      ],
      "text/plain": [
       "                        _id                    userId  \\\n",
       "0  6702bca3c96bbf13f5ff2903  67013cc9a25cfa0d89dbb105   \n",
       "1  6702c4fb2a2f643b3baa88ab  67013cc9a25cfa0d89dbb105   \n",
       "2  67036548eb36bec3fb1849e7  66fe81770b5205e064c2aed5   \n",
       "3  67036ccb93760f84b5e886ad  66fe81770b5205e064c2aed5   \n",
       "4  6703c24a5b1d1e7f98a9a959  66fe81770b5205e064c2aed5   \n",
       "\n",
       "            certificationId           certificationName started_at  \\\n",
       "0  66febe5eca0ebab04690f2ac                     ReactJS 2024-10-05   \n",
       "1  66febfabca0ebab04690f2b1                   ExpressJS 2024-10-06   \n",
       "2  66febe5eca0ebab04690f2ac                     ReactJS 2024-10-02   \n",
       "3  66febe5eca0ebab04690f2ac                     ReactJS 2024-10-07   \n",
       "4  6703c20b5b1d1e7f98a9a957  Web Scrapping using Python 2024-10-07   \n",
       "\n",
       "  completed_at    competency  isVerified  \\\n",
       "0   2024-10-09      BEGINNER        True   \n",
       "1   2024-10-09      BEGINNER        True   \n",
       "2   2024-10-10      BEGINNER       False   \n",
       "3   2024-10-09  INTERMEDIATE       False   \n",
       "4   2024-10-10      BEGINNER       False   \n",
       "\n",
       "                                           imageData user_name  \n",
       "0  data:image/png;base64,iVBORw0KGgoAAAANSUhEUgAA...       abc  \n",
       "1  data:image/png;base64,iVBORw0KGgoAAAANSUhEUgAA...       abc  \n",
       "2  data:image/png;base64,iVBORw0KGgoAAAANSUhEUgAA...      emp1  \n",
       "3  data:image/jpeg;base64,/9j/4AAQSkZJRgABAQAAAQA...      emp1  \n",
       "4  data:image/jpeg;base64,/9j/4AAQSkZJRgABAQAAAQA...      emp1  "
      ]
     },
     "execution_count": 17,
     "metadata": {},
     "output_type": "execute_result"
    }
   ],
   "source": [
    "roles_df = pd.read_csv('C:/Users/RithikHarendarMahesh/Desktop/fp/DataEngineering/prep/prep_user.csv')\n",
    "role_mapping = dict(zip(roles_df['_id'], roles_df['name']))\n",
    "df['user_name'] = df['userId'].map(role_mapping)\n",
    "df.head()"
   ]
  },
  {
   "cell_type": "code",
   "execution_count": 18,
   "metadata": {},
   "outputs": [
    {
     "name": "stdout",
     "output_type": "stream",
     "text": [
      "Original dtypes:\n",
      "_id                  string[python]\n",
      "userId               string[python]\n",
      "certificationId      string[python]\n",
      "certificationName    string[python]\n",
      "started_at           datetime64[ns]\n",
      "completed_at         datetime64[ns]\n",
      "competency           string[python]\n",
      "isVerified                  boolean\n",
      "imageData            string[python]\n",
      "user_name                    object\n",
      "dtype: object\n",
      "\n",
      "Converted dtypes:\n",
      "_id                  string[python]\n",
      "userId               string[python]\n",
      "certificationId      string[python]\n",
      "certificationName    string[python]\n",
      "started_at           datetime64[ns]\n",
      "completed_at         datetime64[ns]\n",
      "competency           string[python]\n",
      "isVerified                  boolean\n",
      "imageData            string[python]\n",
      "user_name            string[python]\n",
      "dtype: object\n"
     ]
    }
   ],
   "source": [
    "print(\"Original dtypes:\")\n",
    "print(df.dtypes)\n",
    "\n",
    "# Convert dtypes\n",
    "df=df.convert_dtypes()\n",
    "\n",
    "# Check new dtypes\n",
    "print(\"\\nConverted dtypes:\")\n",
    "print(df.convert_dtypes().dtypes)"
   ]
  },
  {
   "cell_type": "code",
   "execution_count": 19,
   "metadata": {},
   "outputs": [],
   "source": [
    "df.to_csv('C:/Users/RithikHarendarMahesh/Desktop/fp/DataEngineering/prep/prep_user_certifications.csv')"
   ]
  },
  {
   "cell_type": "code",
   "execution_count": null,
   "metadata": {},
   "outputs": [],
   "source": []
  }
 ],
 "metadata": {
  "kernelspec": {
   "display_name": "Python 3 (ipykernel)",
   "language": "python",
   "name": "python3"
  },
  "language_info": {
   "codemirror_mode": {
    "name": "ipython",
    "version": 3
   },
   "file_extension": ".py",
   "mimetype": "text/x-python",
   "name": "python",
   "nbconvert_exporter": "python",
   "pygments_lexer": "ipython3",
   "version": "3.12.4"
  }
 },
 "nbformat": 4,
 "nbformat_minor": 2
}
