{
 "cells": [
  {
   "cell_type": "code",
   "execution_count": 1,
   "metadata": {},
   "outputs": [],
   "source": [
    "import pandas as pd"
   ]
  },
  {
   "cell_type": "code",
   "execution_count": 2,
   "metadata": {},
   "outputs": [
    {
     "ename": "FileNotFoundError",
     "evalue": "[Errno 2] No such file or directory: 'E:/JMAN/fp/DataEngineering/raw/raw_user_skills.csv'",
     "output_type": "error",
     "traceback": [
      "\u001b[1;31m---------------------------------------------------------------------------\u001b[0m",
      "\u001b[1;31mFileNotFoundError\u001b[0m                         Traceback (most recent call last)",
      "Cell \u001b[1;32mIn[2], line 1\u001b[0m\n\u001b[1;32m----> 1\u001b[0m user_csv\u001b[38;5;241m=\u001b[39mpd\u001b[38;5;241m.\u001b[39mread_csv(\u001b[38;5;124m'\u001b[39m\u001b[38;5;124mE:/JMAN/fp/DataEngineering/raw/raw_user_skills.csv\u001b[39m\u001b[38;5;124m'\u001b[39m)\n",
      "File \u001b[1;32mc:\\Users\\RithikHarendarMahesh\\anaconda3\\Lib\\site-packages\\pandas\\io\\parsers\\readers.py:1026\u001b[0m, in \u001b[0;36mread_csv\u001b[1;34m(filepath_or_buffer, sep, delimiter, header, names, index_col, usecols, dtype, engine, converters, true_values, false_values, skipinitialspace, skiprows, skipfooter, nrows, na_values, keep_default_na, na_filter, verbose, skip_blank_lines, parse_dates, infer_datetime_format, keep_date_col, date_parser, date_format, dayfirst, cache_dates, iterator, chunksize, compression, thousands, decimal, lineterminator, quotechar, quoting, doublequote, escapechar, comment, encoding, encoding_errors, dialect, on_bad_lines, delim_whitespace, low_memory, memory_map, float_precision, storage_options, dtype_backend)\u001b[0m\n\u001b[0;32m   1013\u001b[0m kwds_defaults \u001b[38;5;241m=\u001b[39m _refine_defaults_read(\n\u001b[0;32m   1014\u001b[0m     dialect,\n\u001b[0;32m   1015\u001b[0m     delimiter,\n\u001b[1;32m   (...)\u001b[0m\n\u001b[0;32m   1022\u001b[0m     dtype_backend\u001b[38;5;241m=\u001b[39mdtype_backend,\n\u001b[0;32m   1023\u001b[0m )\n\u001b[0;32m   1024\u001b[0m kwds\u001b[38;5;241m.\u001b[39mupdate(kwds_defaults)\n\u001b[1;32m-> 1026\u001b[0m \u001b[38;5;28;01mreturn\u001b[39;00m _read(filepath_or_buffer, kwds)\n",
      "File \u001b[1;32mc:\\Users\\RithikHarendarMahesh\\anaconda3\\Lib\\site-packages\\pandas\\io\\parsers\\readers.py:620\u001b[0m, in \u001b[0;36m_read\u001b[1;34m(filepath_or_buffer, kwds)\u001b[0m\n\u001b[0;32m    617\u001b[0m _validate_names(kwds\u001b[38;5;241m.\u001b[39mget(\u001b[38;5;124m\"\u001b[39m\u001b[38;5;124mnames\u001b[39m\u001b[38;5;124m\"\u001b[39m, \u001b[38;5;28;01mNone\u001b[39;00m))\n\u001b[0;32m    619\u001b[0m \u001b[38;5;66;03m# Create the parser.\u001b[39;00m\n\u001b[1;32m--> 620\u001b[0m parser \u001b[38;5;241m=\u001b[39m TextFileReader(filepath_or_buffer, \u001b[38;5;241m*\u001b[39m\u001b[38;5;241m*\u001b[39mkwds)\n\u001b[0;32m    622\u001b[0m \u001b[38;5;28;01mif\u001b[39;00m chunksize \u001b[38;5;129;01mor\u001b[39;00m iterator:\n\u001b[0;32m    623\u001b[0m     \u001b[38;5;28;01mreturn\u001b[39;00m parser\n",
      "File \u001b[1;32mc:\\Users\\RithikHarendarMahesh\\anaconda3\\Lib\\site-packages\\pandas\\io\\parsers\\readers.py:1620\u001b[0m, in \u001b[0;36mTextFileReader.__init__\u001b[1;34m(self, f, engine, **kwds)\u001b[0m\n\u001b[0;32m   1617\u001b[0m     \u001b[38;5;28mself\u001b[39m\u001b[38;5;241m.\u001b[39moptions[\u001b[38;5;124m\"\u001b[39m\u001b[38;5;124mhas_index_names\u001b[39m\u001b[38;5;124m\"\u001b[39m] \u001b[38;5;241m=\u001b[39m kwds[\u001b[38;5;124m\"\u001b[39m\u001b[38;5;124mhas_index_names\u001b[39m\u001b[38;5;124m\"\u001b[39m]\n\u001b[0;32m   1619\u001b[0m \u001b[38;5;28mself\u001b[39m\u001b[38;5;241m.\u001b[39mhandles: IOHandles \u001b[38;5;241m|\u001b[39m \u001b[38;5;28;01mNone\u001b[39;00m \u001b[38;5;241m=\u001b[39m \u001b[38;5;28;01mNone\u001b[39;00m\n\u001b[1;32m-> 1620\u001b[0m \u001b[38;5;28mself\u001b[39m\u001b[38;5;241m.\u001b[39m_engine \u001b[38;5;241m=\u001b[39m \u001b[38;5;28mself\u001b[39m\u001b[38;5;241m.\u001b[39m_make_engine(f, \u001b[38;5;28mself\u001b[39m\u001b[38;5;241m.\u001b[39mengine)\n",
      "File \u001b[1;32mc:\\Users\\RithikHarendarMahesh\\anaconda3\\Lib\\site-packages\\pandas\\io\\parsers\\readers.py:1880\u001b[0m, in \u001b[0;36mTextFileReader._make_engine\u001b[1;34m(self, f, engine)\u001b[0m\n\u001b[0;32m   1878\u001b[0m     \u001b[38;5;28;01mif\u001b[39;00m \u001b[38;5;124m\"\u001b[39m\u001b[38;5;124mb\u001b[39m\u001b[38;5;124m\"\u001b[39m \u001b[38;5;129;01mnot\u001b[39;00m \u001b[38;5;129;01min\u001b[39;00m mode:\n\u001b[0;32m   1879\u001b[0m         mode \u001b[38;5;241m+\u001b[39m\u001b[38;5;241m=\u001b[39m \u001b[38;5;124m\"\u001b[39m\u001b[38;5;124mb\u001b[39m\u001b[38;5;124m\"\u001b[39m\n\u001b[1;32m-> 1880\u001b[0m \u001b[38;5;28mself\u001b[39m\u001b[38;5;241m.\u001b[39mhandles \u001b[38;5;241m=\u001b[39m get_handle(\n\u001b[0;32m   1881\u001b[0m     f,\n\u001b[0;32m   1882\u001b[0m     mode,\n\u001b[0;32m   1883\u001b[0m     encoding\u001b[38;5;241m=\u001b[39m\u001b[38;5;28mself\u001b[39m\u001b[38;5;241m.\u001b[39moptions\u001b[38;5;241m.\u001b[39mget(\u001b[38;5;124m\"\u001b[39m\u001b[38;5;124mencoding\u001b[39m\u001b[38;5;124m\"\u001b[39m, \u001b[38;5;28;01mNone\u001b[39;00m),\n\u001b[0;32m   1884\u001b[0m     compression\u001b[38;5;241m=\u001b[39m\u001b[38;5;28mself\u001b[39m\u001b[38;5;241m.\u001b[39moptions\u001b[38;5;241m.\u001b[39mget(\u001b[38;5;124m\"\u001b[39m\u001b[38;5;124mcompression\u001b[39m\u001b[38;5;124m\"\u001b[39m, \u001b[38;5;28;01mNone\u001b[39;00m),\n\u001b[0;32m   1885\u001b[0m     memory_map\u001b[38;5;241m=\u001b[39m\u001b[38;5;28mself\u001b[39m\u001b[38;5;241m.\u001b[39moptions\u001b[38;5;241m.\u001b[39mget(\u001b[38;5;124m\"\u001b[39m\u001b[38;5;124mmemory_map\u001b[39m\u001b[38;5;124m\"\u001b[39m, \u001b[38;5;28;01mFalse\u001b[39;00m),\n\u001b[0;32m   1886\u001b[0m     is_text\u001b[38;5;241m=\u001b[39mis_text,\n\u001b[0;32m   1887\u001b[0m     errors\u001b[38;5;241m=\u001b[39m\u001b[38;5;28mself\u001b[39m\u001b[38;5;241m.\u001b[39moptions\u001b[38;5;241m.\u001b[39mget(\u001b[38;5;124m\"\u001b[39m\u001b[38;5;124mencoding_errors\u001b[39m\u001b[38;5;124m\"\u001b[39m, \u001b[38;5;124m\"\u001b[39m\u001b[38;5;124mstrict\u001b[39m\u001b[38;5;124m\"\u001b[39m),\n\u001b[0;32m   1888\u001b[0m     storage_options\u001b[38;5;241m=\u001b[39m\u001b[38;5;28mself\u001b[39m\u001b[38;5;241m.\u001b[39moptions\u001b[38;5;241m.\u001b[39mget(\u001b[38;5;124m\"\u001b[39m\u001b[38;5;124mstorage_options\u001b[39m\u001b[38;5;124m\"\u001b[39m, \u001b[38;5;28;01mNone\u001b[39;00m),\n\u001b[0;32m   1889\u001b[0m )\n\u001b[0;32m   1890\u001b[0m \u001b[38;5;28;01massert\u001b[39;00m \u001b[38;5;28mself\u001b[39m\u001b[38;5;241m.\u001b[39mhandles \u001b[38;5;129;01mis\u001b[39;00m \u001b[38;5;129;01mnot\u001b[39;00m \u001b[38;5;28;01mNone\u001b[39;00m\n\u001b[0;32m   1891\u001b[0m f \u001b[38;5;241m=\u001b[39m \u001b[38;5;28mself\u001b[39m\u001b[38;5;241m.\u001b[39mhandles\u001b[38;5;241m.\u001b[39mhandle\n",
      "File \u001b[1;32mc:\\Users\\RithikHarendarMahesh\\anaconda3\\Lib\\site-packages\\pandas\\io\\common.py:873\u001b[0m, in \u001b[0;36mget_handle\u001b[1;34m(path_or_buf, mode, encoding, compression, memory_map, is_text, errors, storage_options)\u001b[0m\n\u001b[0;32m    868\u001b[0m \u001b[38;5;28;01melif\u001b[39;00m \u001b[38;5;28misinstance\u001b[39m(handle, \u001b[38;5;28mstr\u001b[39m):\n\u001b[0;32m    869\u001b[0m     \u001b[38;5;66;03m# Check whether the filename is to be opened in binary mode.\u001b[39;00m\n\u001b[0;32m    870\u001b[0m     \u001b[38;5;66;03m# Binary mode does not support 'encoding' and 'newline'.\u001b[39;00m\n\u001b[0;32m    871\u001b[0m     \u001b[38;5;28;01mif\u001b[39;00m ioargs\u001b[38;5;241m.\u001b[39mencoding \u001b[38;5;129;01mand\u001b[39;00m \u001b[38;5;124m\"\u001b[39m\u001b[38;5;124mb\u001b[39m\u001b[38;5;124m\"\u001b[39m \u001b[38;5;129;01mnot\u001b[39;00m \u001b[38;5;129;01min\u001b[39;00m ioargs\u001b[38;5;241m.\u001b[39mmode:\n\u001b[0;32m    872\u001b[0m         \u001b[38;5;66;03m# Encoding\u001b[39;00m\n\u001b[1;32m--> 873\u001b[0m         handle \u001b[38;5;241m=\u001b[39m \u001b[38;5;28mopen\u001b[39m(\n\u001b[0;32m    874\u001b[0m             handle,\n\u001b[0;32m    875\u001b[0m             ioargs\u001b[38;5;241m.\u001b[39mmode,\n\u001b[0;32m    876\u001b[0m             encoding\u001b[38;5;241m=\u001b[39mioargs\u001b[38;5;241m.\u001b[39mencoding,\n\u001b[0;32m    877\u001b[0m             errors\u001b[38;5;241m=\u001b[39merrors,\n\u001b[0;32m    878\u001b[0m             newline\u001b[38;5;241m=\u001b[39m\u001b[38;5;124m\"\u001b[39m\u001b[38;5;124m\"\u001b[39m,\n\u001b[0;32m    879\u001b[0m         )\n\u001b[0;32m    880\u001b[0m     \u001b[38;5;28;01melse\u001b[39;00m:\n\u001b[0;32m    881\u001b[0m         \u001b[38;5;66;03m# Binary mode\u001b[39;00m\n\u001b[0;32m    882\u001b[0m         handle \u001b[38;5;241m=\u001b[39m \u001b[38;5;28mopen\u001b[39m(handle, ioargs\u001b[38;5;241m.\u001b[39mmode)\n",
      "\u001b[1;31mFileNotFoundError\u001b[0m: [Errno 2] No such file or directory: 'E:/JMAN/fp/DataEngineering/raw/raw_user_skills.csv'"
     ]
    }
   ],
   "source": [
    "user_csv=pd.read_csv('E:/JMAN/fp/DataEngineering/raw/raw_user_skills.csv')\n",
    "# user_csv=pd.read_csv('C:/Users/RithikHarendarMahesh/Desktop/fp/DataEngineering/raw/raw_user_skills.csv')"
   ]
  },
  {
   "cell_type": "code",
   "execution_count": 5,
   "metadata": {},
   "outputs": [],
   "source": [
    "df=pd.DataFrame(data=user_csv)"
   ]
  },
  {
   "cell_type": "code",
   "execution_count": 6,
   "metadata": {},
   "outputs": [
    {
     "data": {
      "text/plain": [
       "_id        0\n",
       "userId     0\n",
       "skillId    0\n",
       "score      0\n",
       "dtype: int64"
      ]
     },
     "execution_count": 6,
     "metadata": {},
     "output_type": "execute_result"
    }
   ],
   "source": [
    "df.isnull().sum()"
   ]
  },
  {
   "cell_type": "code",
   "execution_count": 7,
   "metadata": {},
   "outputs": [],
   "source": [
    "df.dropna(inplace=True)"
   ]
  },
  {
   "cell_type": "code",
   "execution_count": 8,
   "metadata": {},
   "outputs": [],
   "source": [
    "df.drop_duplicates(inplace=True)"
   ]
  },
  {
   "cell_type": "code",
   "execution_count": 9,
   "metadata": {},
   "outputs": [
    {
     "data": {
      "text/plain": [
       "_id        object\n",
       "userId     object\n",
       "skillId    object\n",
       "score       int64\n",
       "dtype: object"
      ]
     },
     "execution_count": 9,
     "metadata": {},
     "output_type": "execute_result"
    }
   ],
   "source": [
    "df.dtypes"
   ]
  },
  {
   "cell_type": "code",
   "execution_count": 10,
   "metadata": {},
   "outputs": [
    {
     "name": "stdout",
     "output_type": "stream",
     "text": [
      "Original dtypes:\n",
      "_id        object\n",
      "userId     object\n",
      "skillId    object\n",
      "score       int64\n",
      "dtype: object\n",
      "\n",
      "Converted dtypes:\n",
      "_id        string\n",
      "userId     string\n",
      "skillId    string\n",
      "score       Int64\n",
      "dtype: object\n"
     ]
    }
   ],
   "source": [
    "print(\"Original dtypes:\")\n",
    "print(df.dtypes)\n",
    "\n",
    "# Convert dtypes\n",
    "df=df.convert_dtypes()\n",
    "\n",
    "# Check new dtypes\n",
    "print(\"\\nConverted dtypes:\")\n",
    "print(df.convert_dtypes().dtypes)"
   ]
  },
  {
   "cell_type": "code",
   "execution_count": 14,
   "metadata": {},
   "outputs": [
    {
     "data": {
      "text/html": [
       "<div>\n",
       "<style scoped>\n",
       "    .dataframe tbody tr th:only-of-type {\n",
       "        vertical-align: middle;\n",
       "    }\n",
       "\n",
       "    .dataframe tbody tr th {\n",
       "        vertical-align: top;\n",
       "    }\n",
       "\n",
       "    .dataframe thead th {\n",
       "        text-align: right;\n",
       "    }\n",
       "</style>\n",
       "<table border=\"1\" class=\"dataframe\">\n",
       "  <thead>\n",
       "    <tr style=\"text-align: right;\">\n",
       "      <th></th>\n",
       "      <th>_id</th>\n",
       "      <th>userId</th>\n",
       "      <th>skillId</th>\n",
       "      <th>score</th>\n",
       "      <th>user_name</th>\n",
       "    </tr>\n",
       "  </thead>\n",
       "  <tbody>\n",
       "    <tr>\n",
       "      <th>0</th>\n",
       "      <td>67027ce18f14d777fee288b2</td>\n",
       "      <td>67013cc9a25cfa0d89dbb105</td>\n",
       "      <td>66ff7be7d1312483599a8dd8</td>\n",
       "      <td>76</td>\n",
       "      <td>abc</td>\n",
       "    </tr>\n",
       "    <tr>\n",
       "      <th>1</th>\n",
       "      <td>670291db398e7efea9400b77</td>\n",
       "      <td>67013cc9a25cfa0d89dbb105</td>\n",
       "      <td>66fd1200959f8b790f41290f</td>\n",
       "      <td>69</td>\n",
       "      <td>abc</td>\n",
       "    </tr>\n",
       "    <tr>\n",
       "      <th>2</th>\n",
       "      <td>67029ebd398e7efea9400b78</td>\n",
       "      <td>67013cc9a25cfa0d89dbb105</td>\n",
       "      <td>66fd116e959f8b790f412908</td>\n",
       "      <td>45</td>\n",
       "      <td>abc</td>\n",
       "    </tr>\n",
       "    <tr>\n",
       "      <th>3</th>\n",
       "      <td>6702a0f6398e7efea9400b7a</td>\n",
       "      <td>67013cc9a25cfa0d89dbb105</td>\n",
       "      <td>66fd1190959f8b790f41290a</td>\n",
       "      <td>32</td>\n",
       "      <td>abc</td>\n",
       "    </tr>\n",
       "    <tr>\n",
       "      <th>4</th>\n",
       "      <td>73c0a600-8e77-4a3c-85ea-fec5aebbbcd0</td>\n",
       "      <td>096c4b55-c067-47e3-8721-55c340aee997</td>\n",
       "      <td>41c92930-fe69-4c34-80e8-66ab07a1dc6c</td>\n",
       "      <td>98</td>\n",
       "      <td>Doris Figueroa</td>\n",
       "    </tr>\n",
       "  </tbody>\n",
       "</table>\n",
       "</div>"
      ],
      "text/plain": [
       "                                    _id                                userId  \\\n",
       "0              67027ce18f14d777fee288b2              67013cc9a25cfa0d89dbb105   \n",
       "1              670291db398e7efea9400b77              67013cc9a25cfa0d89dbb105   \n",
       "2              67029ebd398e7efea9400b78              67013cc9a25cfa0d89dbb105   \n",
       "3              6702a0f6398e7efea9400b7a              67013cc9a25cfa0d89dbb105   \n",
       "4  73c0a600-8e77-4a3c-85ea-fec5aebbbcd0  096c4b55-c067-47e3-8721-55c340aee997   \n",
       "\n",
       "                                skillId  score       user_name  \n",
       "0              66ff7be7d1312483599a8dd8     76             abc  \n",
       "1              66fd1200959f8b790f41290f     69             abc  \n",
       "2              66fd116e959f8b790f412908     45             abc  \n",
       "3              66fd1190959f8b790f41290a     32             abc  \n",
       "4  41c92930-fe69-4c34-80e8-66ab07a1dc6c     98  Doris Figueroa  "
      ]
     },
     "execution_count": 14,
     "metadata": {},
     "output_type": "execute_result"
    }
   ],
   "source": [
    "# roles_df = pd.read_csv('C:/Users/RithikHarendarMahesh/Desktop/fp/DataEngineering/prep/prep_user.csv')\n",
    "roles_df = pd.read_csv('E:/JMAN/fp/DataEngineering/prep/prep_user.csv')\n",
    "roles_df\n",
    "role_mapping = dict(zip(roles_df['_id'], roles_df['name']))\n",
    "df['user_name'] = df['userId'].map(role_mapping)\n",
    "df.head()"
   ]
  },
  {
   "cell_type": "code",
   "execution_count": 19,
   "metadata": {},
   "outputs": [
    {
     "data": {
      "text/html": [
       "<div>\n",
       "<style scoped>\n",
       "    .dataframe tbody tr th:only-of-type {\n",
       "        vertical-align: middle;\n",
       "    }\n",
       "\n",
       "    .dataframe tbody tr th {\n",
       "        vertical-align: top;\n",
       "    }\n",
       "\n",
       "    .dataframe thead th {\n",
       "        text-align: right;\n",
       "    }\n",
       "</style>\n",
       "<table border=\"1\" class=\"dataframe\">\n",
       "  <thead>\n",
       "    <tr style=\"text-align: right;\">\n",
       "      <th></th>\n",
       "      <th>_id</th>\n",
       "      <th>userId</th>\n",
       "      <th>skillId</th>\n",
       "      <th>score</th>\n",
       "      <th>user_name</th>\n",
       "      <th>skill_name</th>\n",
       "    </tr>\n",
       "  </thead>\n",
       "  <tbody>\n",
       "    <tr>\n",
       "      <th>0</th>\n",
       "      <td>67027ce18f14d777fee288b2</td>\n",
       "      <td>67013cc9a25cfa0d89dbb105</td>\n",
       "      <td>66ff7be7d1312483599a8dd8</td>\n",
       "      <td>76</td>\n",
       "      <td>abc</td>\n",
       "      <td>Frontend</td>\n",
       "    </tr>\n",
       "    <tr>\n",
       "      <th>1</th>\n",
       "      <td>670291db398e7efea9400b77</td>\n",
       "      <td>67013cc9a25cfa0d89dbb105</td>\n",
       "      <td>66fd1200959f8b790f41290f</td>\n",
       "      <td>69</td>\n",
       "      <td>abc</td>\n",
       "      <td>Data Process</td>\n",
       "    </tr>\n",
       "    <tr>\n",
       "      <th>2</th>\n",
       "      <td>67029ebd398e7efea9400b78</td>\n",
       "      <td>67013cc9a25cfa0d89dbb105</td>\n",
       "      <td>66fd116e959f8b790f412908</td>\n",
       "      <td>45</td>\n",
       "      <td>abc</td>\n",
       "      <td>Database</td>\n",
       "    </tr>\n",
       "    <tr>\n",
       "      <th>3</th>\n",
       "      <td>6702a0f6398e7efea9400b7a</td>\n",
       "      <td>67013cc9a25cfa0d89dbb105</td>\n",
       "      <td>66fd1190959f8b790f41290a</td>\n",
       "      <td>32</td>\n",
       "      <td>abc</td>\n",
       "      <td>Data Analysis</td>\n",
       "    </tr>\n",
       "    <tr>\n",
       "      <th>4</th>\n",
       "      <td>73c0a600-8e77-4a3c-85ea-fec5aebbbcd0</td>\n",
       "      <td>096c4b55-c067-47e3-8721-55c340aee997</td>\n",
       "      <td>41c92930-fe69-4c34-80e8-66ab07a1dc6c</td>\n",
       "      <td>98</td>\n",
       "      <td>Doris Figueroa</td>\n",
       "      <td>sell</td>\n",
       "    </tr>\n",
       "    <tr>\n",
       "      <th>...</th>\n",
       "      <td>...</td>\n",
       "      <td>...</td>\n",
       "      <td>...</td>\n",
       "      <td>...</td>\n",
       "      <td>...</td>\n",
       "      <td>...</td>\n",
       "    </tr>\n",
       "    <tr>\n",
       "      <th>29999</th>\n",
       "      <td>59a33ee4-2c36-4969-997b-041be47a2902</td>\n",
       "      <td>f9242b7f-47cb-40f3-bfa5-46edd65a10b8</td>\n",
       "      <td>66126a5d-859e-4c0a-86fd-1e85a07e0e77</td>\n",
       "      <td>64</td>\n",
       "      <td>Todd Edwards</td>\n",
       "      <td>goal</td>\n",
       "    </tr>\n",
       "    <tr>\n",
       "      <th>30000</th>\n",
       "      <td>c4283d35-2a51-4e1a-bff2-3614f4ff8817</td>\n",
       "      <td>f55a8ea9-2791-4cc9-8923-9a7ac48d6817</td>\n",
       "      <td>4beafb0e-0466-469f-bd8c-c9144a8990f4</td>\n",
       "      <td>55</td>\n",
       "      <td>Keith King</td>\n",
       "      <td>study</td>\n",
       "    </tr>\n",
       "    <tr>\n",
       "      <th>30001</th>\n",
       "      <td>fc205256-e7e4-4229-98bc-7032e600bb69</td>\n",
       "      <td>d307ceab-5357-4e32-8c81-d9e5730b16d2</td>\n",
       "      <td>e9ba9fa1-d3a4-40a7-9d8d-7164a9c24571</td>\n",
       "      <td>42</td>\n",
       "      <td>Andrew Evans</td>\n",
       "      <td>drive</td>\n",
       "    </tr>\n",
       "    <tr>\n",
       "      <th>30002</th>\n",
       "      <td>18167838-0f38-430c-9c25-126f7eb0e90c</td>\n",
       "      <td>b5dfd72e-9cfd-4c40-9907-7ec861bb3a95</td>\n",
       "      <td>318a5960-4df1-4d72-b7cf-25ebe740e081</td>\n",
       "      <td>55</td>\n",
       "      <td>Robert Hodge</td>\n",
       "      <td>professional</td>\n",
       "    </tr>\n",
       "    <tr>\n",
       "      <th>30003</th>\n",
       "      <td>b4c8df37-2d63-4108-9bb7-3dcb68404edb</td>\n",
       "      <td>52b93321-9024-4f5a-87af-24b91520bbb4</td>\n",
       "      <td>be33d2b5-057f-467b-83f6-7f45cfa3b8f7</td>\n",
       "      <td>73</td>\n",
       "      <td>Jessica Patterson</td>\n",
       "      <td>sell</td>\n",
       "    </tr>\n",
       "  </tbody>\n",
       "</table>\n",
       "<p>30004 rows × 6 columns</p>\n",
       "</div>"
      ],
      "text/plain": [
       "                                        _id  \\\n",
       "0                  67027ce18f14d777fee288b2   \n",
       "1                  670291db398e7efea9400b77   \n",
       "2                  67029ebd398e7efea9400b78   \n",
       "3                  6702a0f6398e7efea9400b7a   \n",
       "4      73c0a600-8e77-4a3c-85ea-fec5aebbbcd0   \n",
       "...                                     ...   \n",
       "29999  59a33ee4-2c36-4969-997b-041be47a2902   \n",
       "30000  c4283d35-2a51-4e1a-bff2-3614f4ff8817   \n",
       "30001  fc205256-e7e4-4229-98bc-7032e600bb69   \n",
       "30002  18167838-0f38-430c-9c25-126f7eb0e90c   \n",
       "30003  b4c8df37-2d63-4108-9bb7-3dcb68404edb   \n",
       "\n",
       "                                     userId  \\\n",
       "0                  67013cc9a25cfa0d89dbb105   \n",
       "1                  67013cc9a25cfa0d89dbb105   \n",
       "2                  67013cc9a25cfa0d89dbb105   \n",
       "3                  67013cc9a25cfa0d89dbb105   \n",
       "4      096c4b55-c067-47e3-8721-55c340aee997   \n",
       "...                                     ...   \n",
       "29999  f9242b7f-47cb-40f3-bfa5-46edd65a10b8   \n",
       "30000  f55a8ea9-2791-4cc9-8923-9a7ac48d6817   \n",
       "30001  d307ceab-5357-4e32-8c81-d9e5730b16d2   \n",
       "30002  b5dfd72e-9cfd-4c40-9907-7ec861bb3a95   \n",
       "30003  52b93321-9024-4f5a-87af-24b91520bbb4   \n",
       "\n",
       "                                    skillId  score          user_name  \\\n",
       "0                  66ff7be7d1312483599a8dd8     76                abc   \n",
       "1                  66fd1200959f8b790f41290f     69                abc   \n",
       "2                  66fd116e959f8b790f412908     45                abc   \n",
       "3                  66fd1190959f8b790f41290a     32                abc   \n",
       "4      41c92930-fe69-4c34-80e8-66ab07a1dc6c     98     Doris Figueroa   \n",
       "...                                     ...    ...                ...   \n",
       "29999  66126a5d-859e-4c0a-86fd-1e85a07e0e77     64       Todd Edwards   \n",
       "30000  4beafb0e-0466-469f-bd8c-c9144a8990f4     55         Keith King   \n",
       "30001  e9ba9fa1-d3a4-40a7-9d8d-7164a9c24571     42       Andrew Evans   \n",
       "30002  318a5960-4df1-4d72-b7cf-25ebe740e081     55       Robert Hodge   \n",
       "30003  be33d2b5-057f-467b-83f6-7f45cfa3b8f7     73  Jessica Patterson   \n",
       "\n",
       "          skill_name  \n",
       "0           Frontend  \n",
       "1       Data Process  \n",
       "2           Database  \n",
       "3      Data Analysis  \n",
       "4               sell  \n",
       "...              ...  \n",
       "29999           goal  \n",
       "30000          study  \n",
       "30001          drive  \n",
       "30002   professional  \n",
       "30003           sell  \n",
       "\n",
       "[30004 rows x 6 columns]"
      ]
     },
     "execution_count": 19,
     "metadata": {},
     "output_type": "execute_result"
    }
   ],
   "source": [
    "# roles_df = pd.read_csv('C:/Users/RithikHarendarMahesh/Desktop/fp/DataEngineering/prep/prep_skill.csv')\n",
    "roles_df = pd.read_csv('E:/JMAN/fp/DataEngineering/prep/prep_skill.csv')\n",
    "role_mapping = dict(zip(roles_df['_id'], roles_df['name']))\n",
    "df['skill_name'] = df['skillId'].map(role_mapping)\n",
    "df"
   ]
  },
  {
   "cell_type": "code",
   "execution_count": 20,
   "metadata": {},
   "outputs": [
    {
     "name": "stdout",
     "output_type": "stream",
     "text": [
      "Original dtypes:\n",
      "_id           string\n",
      "userId        string\n",
      "skillId       string\n",
      "score          Int64\n",
      "user_name     string\n",
      "skill_name    object\n",
      "dtype: object\n",
      "\n",
      "Converted dtypes:\n",
      "_id           string\n",
      "userId        string\n",
      "skillId       string\n",
      "score          Int64\n",
      "user_name     string\n",
      "skill_name    string\n",
      "dtype: object\n"
     ]
    }
   ],
   "source": [
    "print(\"Original dtypes:\")\n",
    "print(df.dtypes)\n",
    "\n",
    "# Convert dtypes\n",
    "df=df.convert_dtypes()\n",
    "\n",
    "# Check new dtypes\n",
    "print(\"\\nConverted dtypes:\")\n",
    "print(df.convert_dtypes().dtypes)"
   ]
  },
  {
   "cell_type": "code",
   "execution_count": 21,
   "metadata": {},
   "outputs": [],
   "source": [
    "# df.to_csv('C:/Users/RithikHarendarMahesh/Desktop/fp/DataEngineering/prep/prep_user_skill.csv')\n",
    "df.to_csv('E:/JMAN/fp/DataEngineering/prep/prep_user_skill.csv')"
   ]
  },
  {
   "cell_type": "code",
   "execution_count": null,
   "metadata": {},
   "outputs": [],
   "source": []
  }
 ],
 "metadata": {
  "kernelspec": {
   "display_name": "base",
   "language": "python",
   "name": "python3"
  },
  "language_info": {
   "codemirror_mode": {
    "name": "ipython",
    "version": 3
   },
   "file_extension": ".py",
   "mimetype": "text/x-python",
   "name": "python",
   "nbconvert_exporter": "python",
   "pygments_lexer": "ipython3",
   "version": "3.12.4"
  }
 },
 "nbformat": 4,
 "nbformat_minor": 2
}
