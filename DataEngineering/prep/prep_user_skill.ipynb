{
 "cells": [
  {
   "cell_type": "code",
   "execution_count": 20,
   "metadata": {},
   "outputs": [],
   "source": [
    "import pandas as pd"
   ]
  },
  {
   "cell_type": "code",
   "execution_count": 21,
   "metadata": {},
   "outputs": [],
   "source": [
    "user_csv=pd.read_csv('C:/Users/RithikHarendarMahesh/Desktop/fp/DataEngineering/raw/raw_user_skills.csv')"
   ]
  },
  {
   "cell_type": "code",
   "execution_count": 22,
   "metadata": {},
   "outputs": [],
   "source": [
    "df=pd.DataFrame(data=user_csv)"
   ]
  },
  {
   "cell_type": "code",
   "execution_count": 23,
   "metadata": {},
   "outputs": [
    {
     "data": {
      "text/plain": [
       "_id        0\n",
       "userId     0\n",
       "skillId    0\n",
       "score      0\n",
       "dtype: int64"
      ]
     },
     "execution_count": 23,
     "metadata": {},
     "output_type": "execute_result"
    }
   ],
   "source": [
    "df.isnull().sum()"
   ]
  },
  {
   "cell_type": "code",
   "execution_count": 24,
   "metadata": {},
   "outputs": [],
   "source": [
    "df.dropna(inplace=True)"
   ]
  },
  {
   "cell_type": "code",
   "execution_count": 25,
   "metadata": {},
   "outputs": [],
   "source": [
    "df.drop_duplicates(inplace=True)"
   ]
  },
  {
   "cell_type": "code",
   "execution_count": 26,
   "metadata": {},
   "outputs": [
    {
     "data": {
      "text/plain": [
       "_id        object\n",
       "userId     object\n",
       "skillId    object\n",
       "score       int64\n",
       "dtype: object"
      ]
     },
     "execution_count": 26,
     "metadata": {},
     "output_type": "execute_result"
    }
   ],
   "source": [
    "df.dtypes"
   ]
  },
  {
   "cell_type": "code",
   "execution_count": 27,
   "metadata": {},
   "outputs": [
    {
     "name": "stdout",
     "output_type": "stream",
     "text": [
      "Original dtypes:\n",
      "_id        object\n",
      "userId     object\n",
      "skillId    object\n",
      "score       int64\n",
      "dtype: object\n",
      "\n",
      "Converted dtypes:\n",
      "_id        string[python]\n",
      "userId     string[python]\n",
      "skillId    string[python]\n",
      "score               Int64\n",
      "dtype: object\n"
     ]
    }
   ],
   "source": [
    "print(\"Original dtypes:\")\n",
    "print(df.dtypes)\n",
    "\n",
    "# Convert dtypes\n",
    "df=df.convert_dtypes()\n",
    "\n",
    "# Check new dtypes\n",
    "print(\"\\nConverted dtypes:\")\n",
    "print(df.convert_dtypes().dtypes)"
   ]
  },
  {
   "cell_type": "code",
   "execution_count": 29,
   "metadata": {},
   "outputs": [
    {
     "data": {
      "text/html": [
       "<div>\n",
       "<style scoped>\n",
       "    .dataframe tbody tr th:only-of-type {\n",
       "        vertical-align: middle;\n",
       "    }\n",
       "\n",
       "    .dataframe tbody tr th {\n",
       "        vertical-align: top;\n",
       "    }\n",
       "\n",
       "    .dataframe thead th {\n",
       "        text-align: right;\n",
       "    }\n",
       "</style>\n",
       "<table border=\"1\" class=\"dataframe\">\n",
       "  <thead>\n",
       "    <tr style=\"text-align: right;\">\n",
       "      <th></th>\n",
       "      <th>_id</th>\n",
       "      <th>userId</th>\n",
       "      <th>skillId</th>\n",
       "      <th>score</th>\n",
       "      <th>user_name</th>\n",
       "    </tr>\n",
       "  </thead>\n",
       "  <tbody>\n",
       "    <tr>\n",
       "      <th>0</th>\n",
       "      <td>67027ce18f14d777fee288b2</td>\n",
       "      <td>67013cc9a25cfa0d89dbb105</td>\n",
       "      <td>66ff7be7d1312483599a8dd8</td>\n",
       "      <td>76</td>\n",
       "      <td>abc</td>\n",
       "    </tr>\n",
       "    <tr>\n",
       "      <th>1</th>\n",
       "      <td>670291db398e7efea9400b77</td>\n",
       "      <td>67013cc9a25cfa0d89dbb105</td>\n",
       "      <td>66fd1200959f8b790f41290f</td>\n",
       "      <td>69</td>\n",
       "      <td>abc</td>\n",
       "    </tr>\n",
       "    <tr>\n",
       "      <th>2</th>\n",
       "      <td>67029ebd398e7efea9400b78</td>\n",
       "      <td>67013cc9a25cfa0d89dbb105</td>\n",
       "      <td>66fd116e959f8b790f412908</td>\n",
       "      <td>45</td>\n",
       "      <td>abc</td>\n",
       "    </tr>\n",
       "    <tr>\n",
       "      <th>3</th>\n",
       "      <td>6702a0f6398e7efea9400b7a</td>\n",
       "      <td>67013cc9a25cfa0d89dbb105</td>\n",
       "      <td>66fd1190959f8b790f41290a</td>\n",
       "      <td>32</td>\n",
       "      <td>abc</td>\n",
       "    </tr>\n",
       "    <tr>\n",
       "      <th>4</th>\n",
       "      <td>86b49d78-6290-41db-a693-16f9eaec36a8</td>\n",
       "      <td>cd283c7f-fe6e-4c71-b43d-783331fd1db6</td>\n",
       "      <td>4cf6b019-a296-429e-84ac-c41bd9687005</td>\n",
       "      <td>43</td>\n",
       "      <td>Ryan Nguyen</td>\n",
       "    </tr>\n",
       "  </tbody>\n",
       "</table>\n",
       "</div>"
      ],
      "text/plain": [
       "                                    _id                                userId  \\\n",
       "0              67027ce18f14d777fee288b2              67013cc9a25cfa0d89dbb105   \n",
       "1              670291db398e7efea9400b77              67013cc9a25cfa0d89dbb105   \n",
       "2              67029ebd398e7efea9400b78              67013cc9a25cfa0d89dbb105   \n",
       "3              6702a0f6398e7efea9400b7a              67013cc9a25cfa0d89dbb105   \n",
       "4  86b49d78-6290-41db-a693-16f9eaec36a8  cd283c7f-fe6e-4c71-b43d-783331fd1db6   \n",
       "\n",
       "                                skillId  score    user_name  \n",
       "0              66ff7be7d1312483599a8dd8     76          abc  \n",
       "1              66fd1200959f8b790f41290f     69          abc  \n",
       "2              66fd116e959f8b790f412908     45          abc  \n",
       "3              66fd1190959f8b790f41290a     32          abc  \n",
       "4  4cf6b019-a296-429e-84ac-c41bd9687005     43  Ryan Nguyen  "
      ]
     },
     "execution_count": 29,
     "metadata": {},
     "output_type": "execute_result"
    }
   ],
   "source": [
    "roles_df = pd.read_csv('C:/Users/RithikHarendarMahesh/Desktop/fp/DataEngineering/prep/prep_user.csv')\n",
    "role_mapping = dict(zip(roles_df['_id'], roles_df['name']))\n",
    "df['user_name'] = df['userId'].map(role_mapping)\n",
    "df.head()"
   ]
  },
  {
   "cell_type": "code",
   "execution_count": 30,
   "metadata": {},
   "outputs": [
    {
     "data": {
      "text/html": [
       "<div>\n",
       "<style scoped>\n",
       "    .dataframe tbody tr th:only-of-type {\n",
       "        vertical-align: middle;\n",
       "    }\n",
       "\n",
       "    .dataframe tbody tr th {\n",
       "        vertical-align: top;\n",
       "    }\n",
       "\n",
       "    .dataframe thead th {\n",
       "        text-align: right;\n",
       "    }\n",
       "</style>\n",
       "<table border=\"1\" class=\"dataframe\">\n",
       "  <thead>\n",
       "    <tr style=\"text-align: right;\">\n",
       "      <th></th>\n",
       "      <th>_id</th>\n",
       "      <th>userId</th>\n",
       "      <th>skillId</th>\n",
       "      <th>score</th>\n",
       "      <th>user_name</th>\n",
       "      <th>skill_name</th>\n",
       "    </tr>\n",
       "  </thead>\n",
       "  <tbody>\n",
       "    <tr>\n",
       "      <th>0</th>\n",
       "      <td>67027ce18f14d777fee288b2</td>\n",
       "      <td>67013cc9a25cfa0d89dbb105</td>\n",
       "      <td>66ff7be7d1312483599a8dd8</td>\n",
       "      <td>76</td>\n",
       "      <td>abc</td>\n",
       "      <td>Frontend</td>\n",
       "    </tr>\n",
       "    <tr>\n",
       "      <th>1</th>\n",
       "      <td>670291db398e7efea9400b77</td>\n",
       "      <td>67013cc9a25cfa0d89dbb105</td>\n",
       "      <td>66fd1200959f8b790f41290f</td>\n",
       "      <td>69</td>\n",
       "      <td>abc</td>\n",
       "      <td>Data Process</td>\n",
       "    </tr>\n",
       "    <tr>\n",
       "      <th>2</th>\n",
       "      <td>67029ebd398e7efea9400b78</td>\n",
       "      <td>67013cc9a25cfa0d89dbb105</td>\n",
       "      <td>66fd116e959f8b790f412908</td>\n",
       "      <td>45</td>\n",
       "      <td>abc</td>\n",
       "      <td>Database</td>\n",
       "    </tr>\n",
       "    <tr>\n",
       "      <th>3</th>\n",
       "      <td>6702a0f6398e7efea9400b7a</td>\n",
       "      <td>67013cc9a25cfa0d89dbb105</td>\n",
       "      <td>66fd1190959f8b790f41290a</td>\n",
       "      <td>32</td>\n",
       "      <td>abc</td>\n",
       "      <td>Data Analysis</td>\n",
       "    </tr>\n",
       "    <tr>\n",
       "      <th>4</th>\n",
       "      <td>86b49d78-6290-41db-a693-16f9eaec36a8</td>\n",
       "      <td>cd283c7f-fe6e-4c71-b43d-783331fd1db6</td>\n",
       "      <td>4cf6b019-a296-429e-84ac-c41bd9687005</td>\n",
       "      <td>43</td>\n",
       "      <td>Ryan Nguyen</td>\n",
       "      <td>decade</td>\n",
       "    </tr>\n",
       "  </tbody>\n",
       "</table>\n",
       "</div>"
      ],
      "text/plain": [
       "                                    _id                                userId  \\\n",
       "0              67027ce18f14d777fee288b2              67013cc9a25cfa0d89dbb105   \n",
       "1              670291db398e7efea9400b77              67013cc9a25cfa0d89dbb105   \n",
       "2              67029ebd398e7efea9400b78              67013cc9a25cfa0d89dbb105   \n",
       "3              6702a0f6398e7efea9400b7a              67013cc9a25cfa0d89dbb105   \n",
       "4  86b49d78-6290-41db-a693-16f9eaec36a8  cd283c7f-fe6e-4c71-b43d-783331fd1db6   \n",
       "\n",
       "                                skillId  score    user_name     skill_name  \n",
       "0              66ff7be7d1312483599a8dd8     76          abc       Frontend  \n",
       "1              66fd1200959f8b790f41290f     69          abc   Data Process  \n",
       "2              66fd116e959f8b790f412908     45          abc       Database  \n",
       "3              66fd1190959f8b790f41290a     32          abc  Data Analysis  \n",
       "4  4cf6b019-a296-429e-84ac-c41bd9687005     43  Ryan Nguyen         decade  "
      ]
     },
     "execution_count": 30,
     "metadata": {},
     "output_type": "execute_result"
    }
   ],
   "source": [
    "roles_df = pd.read_csv('C:/Users/RithikHarendarMahesh/Desktop/fp/DataEngineering/prep/prep_skill.csv')\n",
    "role_mapping = dict(zip(roles_df['_id'], roles_df['name']))\n",
    "df['skill_name'] = df['skillId'].map(role_mapping)\n",
    "df.head()"
   ]
  },
  {
   "cell_type": "code",
   "execution_count": 31,
   "metadata": {},
   "outputs": [
    {
     "name": "stdout",
     "output_type": "stream",
     "text": [
      "Original dtypes:\n",
      "_id           string[python]\n",
      "userId        string[python]\n",
      "skillId       string[python]\n",
      "score                  Int64\n",
      "user_name             object\n",
      "skill_name            object\n",
      "dtype: object\n",
      "\n",
      "Converted dtypes:\n",
      "_id           string[python]\n",
      "userId        string[python]\n",
      "skillId       string[python]\n",
      "score                  Int64\n",
      "user_name     string[python]\n",
      "skill_name    string[python]\n",
      "dtype: object\n"
     ]
    }
   ],
   "source": [
    "print(\"Original dtypes:\")\n",
    "print(df.dtypes)\n",
    "\n",
    "# Convert dtypes\n",
    "df=df.convert_dtypes()\n",
    "\n",
    "# Check new dtypes\n",
    "print(\"\\nConverted dtypes:\")\n",
    "print(df.convert_dtypes().dtypes)"
   ]
  },
  {
   "cell_type": "code",
   "execution_count": 32,
   "metadata": {},
   "outputs": [],
   "source": [
    "df.to_csv('C:/Users/RithikHarendarMahesh/Desktop/fp/DataEngineering/prep/prep_user_skill.csv')"
   ]
  },
  {
   "cell_type": "code",
   "execution_count": null,
   "metadata": {},
   "outputs": [],
   "source": []
  }
 ],
 "metadata": {
  "kernelspec": {
   "display_name": "Python 3 (ipykernel)",
   "language": "python",
   "name": "python3"
  },
  "language_info": {
   "codemirror_mode": {
    "name": "ipython",
    "version": 3
   },
   "file_extension": ".py",
   "mimetype": "text/x-python",
   "name": "python",
   "nbconvert_exporter": "python",
   "pygments_lexer": "ipython3",
   "version": "3.12.4"
  }
 },
 "nbformat": 4,
 "nbformat_minor": 2
}
