{
 "cells": [
  {
   "cell_type": "code",
   "execution_count": 1,
   "metadata": {},
   "outputs": [],
   "source": [
    "import pandas as pd"
   ]
  },
  {
   "cell_type": "code",
   "execution_count": 2,
   "metadata": {},
   "outputs": [],
   "source": [
    "user_csv=pd.read_csv('C:/Users/RithikHarendarMahesh/Desktop/fp/DataEngineering/raw/raw_user_skills.csv')\n",
    "# user_csv=pd.read_csv('C:/Users/RithikHarendarMahesh/Desktop/fp/DataEngineering/raw/raw_user_skills.csv')"
   ]
  },
  {
   "cell_type": "code",
   "execution_count": 3,
   "metadata": {},
   "outputs": [],
   "source": [
    "df=pd.DataFrame(data=user_csv)"
   ]
  },
  {
   "cell_type": "code",
   "execution_count": 4,
   "metadata": {},
   "outputs": [
    {
     "data": {
      "text/plain": [
       "_id        0\n",
       "userId     0\n",
       "skillId    0\n",
       "score      0\n",
       "dtype: int64"
      ]
     },
     "execution_count": 4,
     "metadata": {},
     "output_type": "execute_result"
    }
   ],
   "source": [
    "df.isnull().sum()"
   ]
  },
  {
   "cell_type": "code",
   "execution_count": 5,
   "metadata": {},
   "outputs": [],
   "source": [
    "df.dropna(inplace=True)"
   ]
  },
  {
   "cell_type": "code",
   "execution_count": 6,
   "metadata": {},
   "outputs": [],
   "source": [
    "df.drop_duplicates(inplace=True)"
   ]
  },
  {
   "cell_type": "code",
   "execution_count": 7,
   "metadata": {},
   "outputs": [
    {
     "data": {
      "text/plain": [
       "_id        object\n",
       "userId     object\n",
       "skillId    object\n",
       "score       int64\n",
       "dtype: object"
      ]
     },
     "execution_count": 7,
     "metadata": {},
     "output_type": "execute_result"
    }
   ],
   "source": [
    "df.dtypes"
   ]
  },
  {
   "cell_type": "code",
   "execution_count": 8,
   "metadata": {},
   "outputs": [
    {
     "name": "stdout",
     "output_type": "stream",
     "text": [
      "Original dtypes:\n",
      "_id        object\n",
      "userId     object\n",
      "skillId    object\n",
      "score       int64\n",
      "dtype: object\n",
      "\n",
      "Converted dtypes:\n",
      "_id        string[python]\n",
      "userId     string[python]\n",
      "skillId    string[python]\n",
      "score               Int64\n",
      "dtype: object\n"
     ]
    }
   ],
   "source": [
    "print(\"Original dtypes:\")\n",
    "print(df.dtypes)\n",
    "\n",
    "# Convert dtypes\n",
    "df=df.convert_dtypes()\n",
    "\n",
    "# Check new dtypes\n",
    "print(\"\\nConverted dtypes:\")\n",
    "print(df.convert_dtypes().dtypes)"
   ]
  },
  {
   "cell_type": "code",
   "execution_count": 9,
   "metadata": {},
   "outputs": [
    {
     "data": {
      "text/html": [
       "<div>\n",
       "<style scoped>\n",
       "    .dataframe tbody tr th:only-of-type {\n",
       "        vertical-align: middle;\n",
       "    }\n",
       "\n",
       "    .dataframe tbody tr th {\n",
       "        vertical-align: top;\n",
       "    }\n",
       "\n",
       "    .dataframe thead th {\n",
       "        text-align: right;\n",
       "    }\n",
       "</style>\n",
       "<table border=\"1\" class=\"dataframe\">\n",
       "  <thead>\n",
       "    <tr style=\"text-align: right;\">\n",
       "      <th></th>\n",
       "      <th>_id</th>\n",
       "      <th>userId</th>\n",
       "      <th>skillId</th>\n",
       "      <th>score</th>\n",
       "      <th>user_name</th>\n",
       "    </tr>\n",
       "  </thead>\n",
       "  <tbody>\n",
       "    <tr>\n",
       "      <th>0</th>\n",
       "      <td>a9b18a7b-85c1-4762-964f-d2a26add7d5f</td>\n",
       "      <td>06bdb594-fb32-4612-9f5f-b381ccbfc9a5</td>\n",
       "      <td>2589b8ee-c39c-47d2-bcac-e565a069a7dc</td>\n",
       "      <td>41</td>\n",
       "      <td>Jonathan King</td>\n",
       "    </tr>\n",
       "    <tr>\n",
       "      <th>1</th>\n",
       "      <td>34423a3f-b35c-4459-9738-78c4d2505049</td>\n",
       "      <td>06bdb594-fb32-4612-9f5f-b381ccbfc9a5</td>\n",
       "      <td>cf4801b6-76e9-4b22-9290-9173d711a185</td>\n",
       "      <td>87</td>\n",
       "      <td>Jonathan King</td>\n",
       "    </tr>\n",
       "    <tr>\n",
       "      <th>2</th>\n",
       "      <td>dcc90d79-f07e-43d0-93e9-8e1dcb108867</td>\n",
       "      <td>06bdb594-fb32-4612-9f5f-b381ccbfc9a5</td>\n",
       "      <td>c111b0b2-8eeb-43df-a3ac-82ee700d64d2</td>\n",
       "      <td>13</td>\n",
       "      <td>Jonathan King</td>\n",
       "    </tr>\n",
       "    <tr>\n",
       "      <th>3</th>\n",
       "      <td>0e33d968-01f6-46fb-b4fa-1a4e14202f2e</td>\n",
       "      <td>06bdb594-fb32-4612-9f5f-b381ccbfc9a5</td>\n",
       "      <td>8ebdb0e5-8295-4453-a1da-a1eae233ed83</td>\n",
       "      <td>53</td>\n",
       "      <td>Jonathan King</td>\n",
       "    </tr>\n",
       "    <tr>\n",
       "      <th>4</th>\n",
       "      <td>c7a3f07b-1f4a-45a8-ae75-5833398faf89</td>\n",
       "      <td>06bdb594-fb32-4612-9f5f-b381ccbfc9a5</td>\n",
       "      <td>25807973-e3bb-43f1-8f4a-8183e0dc0171</td>\n",
       "      <td>96</td>\n",
       "      <td>Jonathan King</td>\n",
       "    </tr>\n",
       "  </tbody>\n",
       "</table>\n",
       "</div>"
      ],
      "text/plain": [
       "                                    _id                                userId  \\\n",
       "0  a9b18a7b-85c1-4762-964f-d2a26add7d5f  06bdb594-fb32-4612-9f5f-b381ccbfc9a5   \n",
       "1  34423a3f-b35c-4459-9738-78c4d2505049  06bdb594-fb32-4612-9f5f-b381ccbfc9a5   \n",
       "2  dcc90d79-f07e-43d0-93e9-8e1dcb108867  06bdb594-fb32-4612-9f5f-b381ccbfc9a5   \n",
       "3  0e33d968-01f6-46fb-b4fa-1a4e14202f2e  06bdb594-fb32-4612-9f5f-b381ccbfc9a5   \n",
       "4  c7a3f07b-1f4a-45a8-ae75-5833398faf89  06bdb594-fb32-4612-9f5f-b381ccbfc9a5   \n",
       "\n",
       "                                skillId  score      user_name  \n",
       "0  2589b8ee-c39c-47d2-bcac-e565a069a7dc     41  Jonathan King  \n",
       "1  cf4801b6-76e9-4b22-9290-9173d711a185     87  Jonathan King  \n",
       "2  c111b0b2-8eeb-43df-a3ac-82ee700d64d2     13  Jonathan King  \n",
       "3  8ebdb0e5-8295-4453-a1da-a1eae233ed83     53  Jonathan King  \n",
       "4  25807973-e3bb-43f1-8f4a-8183e0dc0171     96  Jonathan King  "
      ]
     },
     "execution_count": 9,
     "metadata": {},
     "output_type": "execute_result"
    }
   ],
   "source": [
    "# roles_df = pd.read_csv('C:/Users/RithikHarendarMahesh/Desktop/fp/DataEngineering/prep/prep_user.csv')\n",
    "roles_df = pd.read_csv('C:/Users/RithikHarendarMahesh/Desktop/fp/DataEngineering/prep/prep_user.csv')\n",
    "roles_df\n",
    "role_mapping = dict(zip(roles_df['_id'], roles_df['name']))\n",
    "df['user_name'] = df['userId'].map(role_mapping)\n",
    "df.head()"
   ]
  },
  {
   "cell_type": "code",
   "execution_count": 10,
   "metadata": {},
   "outputs": [
    {
     "data": {
      "text/html": [
       "<div>\n",
       "<style scoped>\n",
       "    .dataframe tbody tr th:only-of-type {\n",
       "        vertical-align: middle;\n",
       "    }\n",
       "\n",
       "    .dataframe tbody tr th {\n",
       "        vertical-align: top;\n",
       "    }\n",
       "\n",
       "    .dataframe thead th {\n",
       "        text-align: right;\n",
       "    }\n",
       "</style>\n",
       "<table border=\"1\" class=\"dataframe\">\n",
       "  <thead>\n",
       "    <tr style=\"text-align: right;\">\n",
       "      <th></th>\n",
       "      <th>_id</th>\n",
       "      <th>userId</th>\n",
       "      <th>skillId</th>\n",
       "      <th>score</th>\n",
       "      <th>user_name</th>\n",
       "      <th>skill_name</th>\n",
       "    </tr>\n",
       "  </thead>\n",
       "  <tbody>\n",
       "    <tr>\n",
       "      <th>0</th>\n",
       "      <td>a9b18a7b-85c1-4762-964f-d2a26add7d5f</td>\n",
       "      <td>06bdb594-fb32-4612-9f5f-b381ccbfc9a5</td>\n",
       "      <td>2589b8ee-c39c-47d2-bcac-e565a069a7dc</td>\n",
       "      <td>41</td>\n",
       "      <td>Jonathan King</td>\n",
       "      <td>Cloud Security</td>\n",
       "    </tr>\n",
       "    <tr>\n",
       "      <th>1</th>\n",
       "      <td>34423a3f-b35c-4459-9738-78c4d2505049</td>\n",
       "      <td>06bdb594-fb32-4612-9f5f-b381ccbfc9a5</td>\n",
       "      <td>cf4801b6-76e9-4b22-9290-9173d711a185</td>\n",
       "      <td>87</td>\n",
       "      <td>Jonathan King</td>\n",
       "      <td>Deep Learning</td>\n",
       "    </tr>\n",
       "    <tr>\n",
       "      <th>2</th>\n",
       "      <td>dcc90d79-f07e-43d0-93e9-8e1dcb108867</td>\n",
       "      <td>06bdb594-fb32-4612-9f5f-b381ccbfc9a5</td>\n",
       "      <td>c111b0b2-8eeb-43df-a3ac-82ee700d64d2</td>\n",
       "      <td>13</td>\n",
       "      <td>Jonathan King</td>\n",
       "      <td>Serverless Architectures</td>\n",
       "    </tr>\n",
       "    <tr>\n",
       "      <th>3</th>\n",
       "      <td>0e33d968-01f6-46fb-b4fa-1a4e14202f2e</td>\n",
       "      <td>06bdb594-fb32-4612-9f5f-b381ccbfc9a5</td>\n",
       "      <td>8ebdb0e5-8295-4453-a1da-a1eae233ed83</td>\n",
       "      <td>53</td>\n",
       "      <td>Jonathan King</td>\n",
       "      <td>Design Systems</td>\n",
       "    </tr>\n",
       "    <tr>\n",
       "      <th>4</th>\n",
       "      <td>c7a3f07b-1f4a-45a8-ae75-5833398faf89</td>\n",
       "      <td>06bdb594-fb32-4612-9f5f-b381ccbfc9a5</td>\n",
       "      <td>25807973-e3bb-43f1-8f4a-8183e0dc0171</td>\n",
       "      <td>96</td>\n",
       "      <td>Jonathan King</td>\n",
       "      <td>Networking</td>\n",
       "    </tr>\n",
       "    <tr>\n",
       "      <th>...</th>\n",
       "      <td>...</td>\n",
       "      <td>...</td>\n",
       "      <td>...</td>\n",
       "      <td>...</td>\n",
       "      <td>...</td>\n",
       "      <td>...</td>\n",
       "    </tr>\n",
       "    <tr>\n",
       "      <th>299995</th>\n",
       "      <td>d3dba183-7ac3-41ba-90e9-4541648a2c3e</td>\n",
       "      <td>a353557c-7f71-4344-b479-177e4279112e</td>\n",
       "      <td>c1491f2c-a400-48e8-bb13-dab12c42f259</td>\n",
       "      <td>19</td>\n",
       "      <td>Courtney Martin</td>\n",
       "      <td>Version Control/Git</td>\n",
       "    </tr>\n",
       "    <tr>\n",
       "      <th>299996</th>\n",
       "      <td>b10fd8da-b3de-40da-9e18-1663e8899055</td>\n",
       "      <td>a353557c-7f71-4344-b479-177e4279112e</td>\n",
       "      <td>d0fe1f5f-281f-4e10-9cfb-4142d203a7a4</td>\n",
       "      <td>73</td>\n",
       "      <td>Courtney Martin</td>\n",
       "      <td>Python</td>\n",
       "    </tr>\n",
       "    <tr>\n",
       "      <th>299997</th>\n",
       "      <td>a172d326-9b21-4cba-9e78-3a8d0a5015a9</td>\n",
       "      <td>a353557c-7f71-4344-b479-177e4279112e</td>\n",
       "      <td>3d63d298-7c3b-4c64-bc19-dc68acc7e2a4</td>\n",
       "      <td>96</td>\n",
       "      <td>Courtney Martin</td>\n",
       "      <td>Python</td>\n",
       "    </tr>\n",
       "    <tr>\n",
       "      <th>299998</th>\n",
       "      <td>d9fc6381-2d82-4ca7-a654-f7642f3d57d0</td>\n",
       "      <td>a353557c-7f71-4344-b479-177e4279112e</td>\n",
       "      <td>08067270-979f-45d9-ba1b-47aa9e2af0e2</td>\n",
       "      <td>88</td>\n",
       "      <td>Courtney Martin</td>\n",
       "      <td>CI/CD</td>\n",
       "    </tr>\n",
       "    <tr>\n",
       "      <th>299999</th>\n",
       "      <td>c4a90379-2a53-40f6-bd4e-0b316e44d071</td>\n",
       "      <td>a353557c-7f71-4344-b479-177e4279112e</td>\n",
       "      <td>9bf474a3-c39f-4d0b-b06e-bc3c911d82a8</td>\n",
       "      <td>87</td>\n",
       "      <td>Courtney Martin</td>\n",
       "      <td>Stakeholder Management</td>\n",
       "    </tr>\n",
       "  </tbody>\n",
       "</table>\n",
       "<p>300000 rows × 6 columns</p>\n",
       "</div>"
      ],
      "text/plain": [
       "                                         _id  \\\n",
       "0       a9b18a7b-85c1-4762-964f-d2a26add7d5f   \n",
       "1       34423a3f-b35c-4459-9738-78c4d2505049   \n",
       "2       dcc90d79-f07e-43d0-93e9-8e1dcb108867   \n",
       "3       0e33d968-01f6-46fb-b4fa-1a4e14202f2e   \n",
       "4       c7a3f07b-1f4a-45a8-ae75-5833398faf89   \n",
       "...                                      ...   \n",
       "299995  d3dba183-7ac3-41ba-90e9-4541648a2c3e   \n",
       "299996  b10fd8da-b3de-40da-9e18-1663e8899055   \n",
       "299997  a172d326-9b21-4cba-9e78-3a8d0a5015a9   \n",
       "299998  d9fc6381-2d82-4ca7-a654-f7642f3d57d0   \n",
       "299999  c4a90379-2a53-40f6-bd4e-0b316e44d071   \n",
       "\n",
       "                                      userId  \\\n",
       "0       06bdb594-fb32-4612-9f5f-b381ccbfc9a5   \n",
       "1       06bdb594-fb32-4612-9f5f-b381ccbfc9a5   \n",
       "2       06bdb594-fb32-4612-9f5f-b381ccbfc9a5   \n",
       "3       06bdb594-fb32-4612-9f5f-b381ccbfc9a5   \n",
       "4       06bdb594-fb32-4612-9f5f-b381ccbfc9a5   \n",
       "...                                      ...   \n",
       "299995  a353557c-7f71-4344-b479-177e4279112e   \n",
       "299996  a353557c-7f71-4344-b479-177e4279112e   \n",
       "299997  a353557c-7f71-4344-b479-177e4279112e   \n",
       "299998  a353557c-7f71-4344-b479-177e4279112e   \n",
       "299999  a353557c-7f71-4344-b479-177e4279112e   \n",
       "\n",
       "                                     skillId  score        user_name  \\\n",
       "0       2589b8ee-c39c-47d2-bcac-e565a069a7dc     41    Jonathan King   \n",
       "1       cf4801b6-76e9-4b22-9290-9173d711a185     87    Jonathan King   \n",
       "2       c111b0b2-8eeb-43df-a3ac-82ee700d64d2     13    Jonathan King   \n",
       "3       8ebdb0e5-8295-4453-a1da-a1eae233ed83     53    Jonathan King   \n",
       "4       25807973-e3bb-43f1-8f4a-8183e0dc0171     96    Jonathan King   \n",
       "...                                      ...    ...              ...   \n",
       "299995  c1491f2c-a400-48e8-bb13-dab12c42f259     19  Courtney Martin   \n",
       "299996  d0fe1f5f-281f-4e10-9cfb-4142d203a7a4     73  Courtney Martin   \n",
       "299997  3d63d298-7c3b-4c64-bc19-dc68acc7e2a4     96  Courtney Martin   \n",
       "299998  08067270-979f-45d9-ba1b-47aa9e2af0e2     88  Courtney Martin   \n",
       "299999  9bf474a3-c39f-4d0b-b06e-bc3c911d82a8     87  Courtney Martin   \n",
       "\n",
       "                      skill_name  \n",
       "0                 Cloud Security  \n",
       "1                  Deep Learning  \n",
       "2       Serverless Architectures  \n",
       "3                 Design Systems  \n",
       "4                     Networking  \n",
       "...                          ...  \n",
       "299995       Version Control/Git  \n",
       "299996                    Python  \n",
       "299997                    Python  \n",
       "299998                     CI/CD  \n",
       "299999    Stakeholder Management  \n",
       "\n",
       "[300000 rows x 6 columns]"
      ]
     },
     "execution_count": 10,
     "metadata": {},
     "output_type": "execute_result"
    }
   ],
   "source": [
    "# roles_df = pd.read_csv('C:/Users/RithikHarendarMahesh/Desktop/fp/DataEngineering/prep/prep_skill.csv')\n",
    "roles_df = pd.read_csv('C:/Users/RithikHarendarMahesh/Desktop/fp/DataEngineering/prep/prep_skill.csv')\n",
    "role_mapping = dict(zip(roles_df['_id'], roles_df['name']))\n",
    "df['skill_name'] = df['skillId'].map(role_mapping)\n",
    "df"
   ]
  },
  {
   "cell_type": "code",
   "execution_count": 11,
   "metadata": {},
   "outputs": [
    {
     "name": "stdout",
     "output_type": "stream",
     "text": [
      "Original dtypes:\n",
      "_id           string[python]\n",
      "userId        string[python]\n",
      "skillId       string[python]\n",
      "score                  Int64\n",
      "user_name             object\n",
      "skill_name            object\n",
      "dtype: object\n",
      "\n",
      "Converted dtypes:\n",
      "_id           string[python]\n",
      "userId        string[python]\n",
      "skillId       string[python]\n",
      "score                  Int64\n",
      "user_name     string[python]\n",
      "skill_name    string[python]\n",
      "dtype: object\n"
     ]
    }
   ],
   "source": [
    "print(\"Original dtypes:\")\n",
    "print(df.dtypes)\n",
    "\n",
    "# Convert dtypes\n",
    "df=df.convert_dtypes()\n",
    "\n",
    "# Check new dtypes\n",
    "print(\"\\nConverted dtypes:\")\n",
    "print(df.convert_dtypes().dtypes)"
   ]
  },
  {
   "cell_type": "code",
   "execution_count": 12,
   "metadata": {},
   "outputs": [],
   "source": [
    "# df.to_csv('C:/Users/RithikHarendarMahesh/Desktop/fp/DataEngineering/prep/prep_user_skill.csv')\n",
    "df.to_csv('C:/Users/RithikHarendarMahesh/Desktop/fp/DataEngineering/prep/prep_user_skill.csv')"
   ]
  },
  {
   "cell_type": "code",
   "execution_count": null,
   "metadata": {},
   "outputs": [],
   "source": []
  }
 ],
 "metadata": {
  "kernelspec": {
   "display_name": "base",
   "language": "python",
   "name": "python3"
  },
  "language_info": {
   "codemirror_mode": {
    "name": "ipython",
    "version": 3
   },
   "file_extension": ".py",
   "mimetype": "text/x-python",
   "name": "python",
   "nbconvert_exporter": "python",
   "pygments_lexer": "ipython3",
   "version": "3.12.4"
  }
 },
 "nbformat": 4,
 "nbformat_minor": 2
}
