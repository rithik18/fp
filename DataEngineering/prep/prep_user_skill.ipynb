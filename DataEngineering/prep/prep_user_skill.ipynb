{
 "cells": [
  {
   "cell_type": "code",
   "execution_count": 1,
   "metadata": {},
   "outputs": [],
   "source": [
    "import pandas as pd"
   ]
  },
  {
   "cell_type": "code",
   "execution_count": 2,
   "metadata": {},
   "outputs": [],
   "source": [
    "user_csv=pd.read_csv('E:/JMAN/fp/DataEngineering/raw/raw_user_skills.csv')\n",
    "# user_csv=pd.read_csv('E:/JMAN/fp/DataEngineering/raw/raw_user_skills.csv')"
   ]
  },
  {
   "cell_type": "code",
   "execution_count": 3,
   "metadata": {},
   "outputs": [],
   "source": [
    "df=pd.DataFrame(data=user_csv)"
   ]
  },
  {
   "cell_type": "code",
   "execution_count": 4,
   "metadata": {},
   "outputs": [
    {
     "data": {
      "text/plain": [
       "_id        0\n",
       "userId     0\n",
       "skillId    0\n",
       "score      0\n",
       "dtype: int64"
      ]
     },
     "execution_count": 4,
     "metadata": {},
     "output_type": "execute_result"
    }
   ],
   "source": [
    "df.isnull().sum()"
   ]
  },
  {
   "cell_type": "code",
   "execution_count": 5,
   "metadata": {},
   "outputs": [],
   "source": [
    "df.dropna(inplace=True)"
   ]
  },
  {
   "cell_type": "code",
   "execution_count": 6,
   "metadata": {},
   "outputs": [],
   "source": [
    "df.drop_duplicates(inplace=True)"
   ]
  },
  {
   "cell_type": "code",
   "execution_count": 7,
   "metadata": {},
   "outputs": [
    {
     "data": {
      "text/plain": [
       "_id        object\n",
       "userId     object\n",
       "skillId    object\n",
       "score       int64\n",
       "dtype: object"
      ]
     },
     "execution_count": 7,
     "metadata": {},
     "output_type": "execute_result"
    }
   ],
   "source": [
    "df.dtypes"
   ]
  },
  {
   "cell_type": "code",
   "execution_count": 8,
   "metadata": {},
   "outputs": [
    {
     "name": "stdout",
     "output_type": "stream",
     "text": [
      "Original dtypes:\n",
      "_id        object\n",
      "userId     object\n",
      "skillId    object\n",
      "score       int64\n",
      "dtype: object\n",
      "\n",
      "Converted dtypes:\n",
      "_id        string\n",
      "userId     string\n",
      "skillId    string\n",
      "score       Int64\n",
      "dtype: object\n"
     ]
    }
   ],
   "source": [
    "print(\"Original dtypes:\")\n",
    "print(df.dtypes)\n",
    "\n",
    "# Convert dtypes\n",
    "df=df.convert_dtypes()\n",
    "\n",
    "# Check new dtypes\n",
    "print(\"\\nConverted dtypes:\")\n",
    "print(df.convert_dtypes().dtypes)"
   ]
  },
  {
   "cell_type": "code",
   "execution_count": 9,
   "metadata": {},
   "outputs": [
    {
     "data": {
      "text/html": [
       "<div>\n",
       "<style scoped>\n",
       "    .dataframe tbody tr th:only-of-type {\n",
       "        vertical-align: middle;\n",
       "    }\n",
       "\n",
       "    .dataframe tbody tr th {\n",
       "        vertical-align: top;\n",
       "    }\n",
       "\n",
       "    .dataframe thead th {\n",
       "        text-align: right;\n",
       "    }\n",
       "</style>\n",
       "<table border=\"1\" class=\"dataframe\">\n",
       "  <thead>\n",
       "    <tr style=\"text-align: right;\">\n",
       "      <th></th>\n",
       "      <th>_id</th>\n",
       "      <th>userId</th>\n",
       "      <th>skillId</th>\n",
       "      <th>score</th>\n",
       "      <th>user_name</th>\n",
       "    </tr>\n",
       "  </thead>\n",
       "  <tbody>\n",
       "    <tr>\n",
       "      <th>0</th>\n",
       "      <td>01504b15-3b41-442f-ba56-7718029bd960</td>\n",
       "      <td>67fb9f26-ec27-43d2-9966-a8a2e39bafa0</td>\n",
       "      <td>b5d39d2f-52f1-46d1-ae42-1015112dcf15</td>\n",
       "      <td>99</td>\n",
       "      <td>Willie French</td>\n",
       "    </tr>\n",
       "    <tr>\n",
       "      <th>1</th>\n",
       "      <td>4b0171a1-6760-47f9-af66-3430ff4958a6</td>\n",
       "      <td>67fb9f26-ec27-43d2-9966-a8a2e39bafa0</td>\n",
       "      <td>488eb409-d29f-4a50-af21-bbff8d8d7cfd</td>\n",
       "      <td>70</td>\n",
       "      <td>Willie French</td>\n",
       "    </tr>\n",
       "    <tr>\n",
       "      <th>2</th>\n",
       "      <td>fec2411f-6133-444b-9236-66ceb0ad741d</td>\n",
       "      <td>67fb9f26-ec27-43d2-9966-a8a2e39bafa0</td>\n",
       "      <td>cac076e1-07d0-4f96-93b0-e8c323d3e82c</td>\n",
       "      <td>80</td>\n",
       "      <td>Willie French</td>\n",
       "    </tr>\n",
       "    <tr>\n",
       "      <th>3</th>\n",
       "      <td>69e2eeda-7887-4310-a4f6-7f014b71bf25</td>\n",
       "      <td>67fb9f26-ec27-43d2-9966-a8a2e39bafa0</td>\n",
       "      <td>a0fa9bb2-78f0-4ac2-bb8e-96af991441af</td>\n",
       "      <td>78</td>\n",
       "      <td>Willie French</td>\n",
       "    </tr>\n",
       "    <tr>\n",
       "      <th>4</th>\n",
       "      <td>37a54d15-5828-4311-b34f-8fcf1a78fbe7</td>\n",
       "      <td>67fb9f26-ec27-43d2-9966-a8a2e39bafa0</td>\n",
       "      <td>bf8529c8-2bb5-45f2-94ac-b53eb92d13a5</td>\n",
       "      <td>34</td>\n",
       "      <td>Willie French</td>\n",
       "    </tr>\n",
       "  </tbody>\n",
       "</table>\n",
       "</div>"
      ],
      "text/plain": [
       "                                    _id                                userId  \\\n",
       "0  01504b15-3b41-442f-ba56-7718029bd960  67fb9f26-ec27-43d2-9966-a8a2e39bafa0   \n",
       "1  4b0171a1-6760-47f9-af66-3430ff4958a6  67fb9f26-ec27-43d2-9966-a8a2e39bafa0   \n",
       "2  fec2411f-6133-444b-9236-66ceb0ad741d  67fb9f26-ec27-43d2-9966-a8a2e39bafa0   \n",
       "3  69e2eeda-7887-4310-a4f6-7f014b71bf25  67fb9f26-ec27-43d2-9966-a8a2e39bafa0   \n",
       "4  37a54d15-5828-4311-b34f-8fcf1a78fbe7  67fb9f26-ec27-43d2-9966-a8a2e39bafa0   \n",
       "\n",
       "                                skillId  score      user_name  \n",
       "0  b5d39d2f-52f1-46d1-ae42-1015112dcf15     99  Willie French  \n",
       "1  488eb409-d29f-4a50-af21-bbff8d8d7cfd     70  Willie French  \n",
       "2  cac076e1-07d0-4f96-93b0-e8c323d3e82c     80  Willie French  \n",
       "3  a0fa9bb2-78f0-4ac2-bb8e-96af991441af     78  Willie French  \n",
       "4  bf8529c8-2bb5-45f2-94ac-b53eb92d13a5     34  Willie French  "
      ]
     },
     "execution_count": 9,
     "metadata": {},
     "output_type": "execute_result"
    }
   ],
   "source": [
    "# roles_df = pd.read_csv('E:/JMAN/fp/DataEngineering/prep/prep_user.csv')\n",
    "roles_df = pd.read_csv('E:/JMAN/fp/DataEngineering/prep/prep_user.csv')\n",
    "roles_df\n",
    "role_mapping = dict(zip(roles_df['_id'], roles_df['name']))\n",
    "df['user_name'] = df['userId'].map(role_mapping)\n",
    "df.head()"
   ]
  },
  {
   "cell_type": "code",
   "execution_count": 10,
   "metadata": {},
   "outputs": [
    {
     "data": {
      "text/html": [
       "<div>\n",
       "<style scoped>\n",
       "    .dataframe tbody tr th:only-of-type {\n",
       "        vertical-align: middle;\n",
       "    }\n",
       "\n",
       "    .dataframe tbody tr th {\n",
       "        vertical-align: top;\n",
       "    }\n",
       "\n",
       "    .dataframe thead th {\n",
       "        text-align: right;\n",
       "    }\n",
       "</style>\n",
       "<table border=\"1\" class=\"dataframe\">\n",
       "  <thead>\n",
       "    <tr style=\"text-align: right;\">\n",
       "      <th></th>\n",
       "      <th>_id</th>\n",
       "      <th>userId</th>\n",
       "      <th>skillId</th>\n",
       "      <th>score</th>\n",
       "      <th>user_name</th>\n",
       "      <th>skill_name</th>\n",
       "    </tr>\n",
       "  </thead>\n",
       "  <tbody>\n",
       "    <tr>\n",
       "      <th>0</th>\n",
       "      <td>01504b15-3b41-442f-ba56-7718029bd960</td>\n",
       "      <td>67fb9f26-ec27-43d2-9966-a8a2e39bafa0</td>\n",
       "      <td>b5d39d2f-52f1-46d1-ae42-1015112dcf15</td>\n",
       "      <td>99</td>\n",
       "      <td>Willie French</td>\n",
       "      <td>Data Analysis</td>\n",
       "    </tr>\n",
       "    <tr>\n",
       "      <th>1</th>\n",
       "      <td>4b0171a1-6760-47f9-af66-3430ff4958a6</td>\n",
       "      <td>67fb9f26-ec27-43d2-9966-a8a2e39bafa0</td>\n",
       "      <td>488eb409-d29f-4a50-af21-bbff8d8d7cfd</td>\n",
       "      <td>70</td>\n",
       "      <td>Willie French</td>\n",
       "      <td>SQL</td>\n",
       "    </tr>\n",
       "    <tr>\n",
       "      <th>2</th>\n",
       "      <td>fec2411f-6133-444b-9236-66ceb0ad741d</td>\n",
       "      <td>67fb9f26-ec27-43d2-9966-a8a2e39bafa0</td>\n",
       "      <td>cac076e1-07d0-4f96-93b0-e8c323d3e82c</td>\n",
       "      <td>80</td>\n",
       "      <td>Willie French</td>\n",
       "      <td>NLP</td>\n",
       "    </tr>\n",
       "    <tr>\n",
       "      <th>3</th>\n",
       "      <td>69e2eeda-7887-4310-a4f6-7f014b71bf25</td>\n",
       "      <td>67fb9f26-ec27-43d2-9966-a8a2e39bafa0</td>\n",
       "      <td>a0fa9bb2-78f0-4ac2-bb8e-96af991441af</td>\n",
       "      <td>78</td>\n",
       "      <td>Willie French</td>\n",
       "      <td>Business Intelligence</td>\n",
       "    </tr>\n",
       "    <tr>\n",
       "      <th>4</th>\n",
       "      <td>37a54d15-5828-4311-b34f-8fcf1a78fbe7</td>\n",
       "      <td>67fb9f26-ec27-43d2-9966-a8a2e39bafa0</td>\n",
       "      <td>bf8529c8-2bb5-45f2-94ac-b53eb92d13a5</td>\n",
       "      <td>34</td>\n",
       "      <td>Willie French</td>\n",
       "      <td>DevOps Practices</td>\n",
       "    </tr>\n",
       "    <tr>\n",
       "      <th>...</th>\n",
       "      <td>...</td>\n",
       "      <td>...</td>\n",
       "      <td>...</td>\n",
       "      <td>...</td>\n",
       "      <td>...</td>\n",
       "      <td>...</td>\n",
       "    </tr>\n",
       "    <tr>\n",
       "      <th>299995</th>\n",
       "      <td>b0daf136-4751-432b-95e6-c1993511dd80</td>\n",
       "      <td>9e7050bd-8526-4fa9-a0e9-4f94fa81d1e6</td>\n",
       "      <td>e9cabb60-773f-4b49-b46f-d2601e94c8be</td>\n",
       "      <td>92</td>\n",
       "      <td>Kristen Fox</td>\n",
       "      <td>Model Deployment</td>\n",
       "    </tr>\n",
       "    <tr>\n",
       "      <th>299996</th>\n",
       "      <td>6f820e17-5dd9-444e-9a76-551b23d79f7e</td>\n",
       "      <td>9e7050bd-8526-4fa9-a0e9-4f94fa81d1e6</td>\n",
       "      <td>30ac28f2-99e6-46fb-8187-85575ce7ed92</td>\n",
       "      <td>95</td>\n",
       "      <td>Kristen Fox</td>\n",
       "      <td>Node.js</td>\n",
       "    </tr>\n",
       "    <tr>\n",
       "      <th>299997</th>\n",
       "      <td>2d28e688-f6f7-4f44-b705-8b1be2a76ba4</td>\n",
       "      <td>9e7050bd-8526-4fa9-a0e9-4f94fa81d1e6</td>\n",
       "      <td>907e4c6a-7446-4541-a0f4-677832bf9fbd</td>\n",
       "      <td>75</td>\n",
       "      <td>Kristen Fox</td>\n",
       "      <td>Business Analysis</td>\n",
       "    </tr>\n",
       "    <tr>\n",
       "      <th>299998</th>\n",
       "      <td>2fc0eb2c-6561-4c83-802d-8041977cb300</td>\n",
       "      <td>9e7050bd-8526-4fa9-a0e9-4f94fa81d1e6</td>\n",
       "      <td>7da799ed-d9b8-424a-a25b-f8412e870184</td>\n",
       "      <td>1</td>\n",
       "      <td>Kristen Fox</td>\n",
       "      <td>Data Analysis</td>\n",
       "    </tr>\n",
       "    <tr>\n",
       "      <th>299999</th>\n",
       "      <td>320bad3d-d4be-4409-9f8e-53897aad023e</td>\n",
       "      <td>9e7050bd-8526-4fa9-a0e9-4f94fa81d1e6</td>\n",
       "      <td>b96d19aa-d1dd-490d-a14b-47cb63e3c4cd</td>\n",
       "      <td>40</td>\n",
       "      <td>Kristen Fox</td>\n",
       "      <td>Test Automation Tools</td>\n",
       "    </tr>\n",
       "  </tbody>\n",
       "</table>\n",
       "<p>300000 rows × 6 columns</p>\n",
       "</div>"
      ],
      "text/plain": [
       "                                         _id  \\\n",
       "0       01504b15-3b41-442f-ba56-7718029bd960   \n",
       "1       4b0171a1-6760-47f9-af66-3430ff4958a6   \n",
       "2       fec2411f-6133-444b-9236-66ceb0ad741d   \n",
       "3       69e2eeda-7887-4310-a4f6-7f014b71bf25   \n",
       "4       37a54d15-5828-4311-b34f-8fcf1a78fbe7   \n",
       "...                                      ...   \n",
       "299995  b0daf136-4751-432b-95e6-c1993511dd80   \n",
       "299996  6f820e17-5dd9-444e-9a76-551b23d79f7e   \n",
       "299997  2d28e688-f6f7-4f44-b705-8b1be2a76ba4   \n",
       "299998  2fc0eb2c-6561-4c83-802d-8041977cb300   \n",
       "299999  320bad3d-d4be-4409-9f8e-53897aad023e   \n",
       "\n",
       "                                      userId  \\\n",
       "0       67fb9f26-ec27-43d2-9966-a8a2e39bafa0   \n",
       "1       67fb9f26-ec27-43d2-9966-a8a2e39bafa0   \n",
       "2       67fb9f26-ec27-43d2-9966-a8a2e39bafa0   \n",
       "3       67fb9f26-ec27-43d2-9966-a8a2e39bafa0   \n",
       "4       67fb9f26-ec27-43d2-9966-a8a2e39bafa0   \n",
       "...                                      ...   \n",
       "299995  9e7050bd-8526-4fa9-a0e9-4f94fa81d1e6   \n",
       "299996  9e7050bd-8526-4fa9-a0e9-4f94fa81d1e6   \n",
       "299997  9e7050bd-8526-4fa9-a0e9-4f94fa81d1e6   \n",
       "299998  9e7050bd-8526-4fa9-a0e9-4f94fa81d1e6   \n",
       "299999  9e7050bd-8526-4fa9-a0e9-4f94fa81d1e6   \n",
       "\n",
       "                                     skillId  score      user_name  \\\n",
       "0       b5d39d2f-52f1-46d1-ae42-1015112dcf15     99  Willie French   \n",
       "1       488eb409-d29f-4a50-af21-bbff8d8d7cfd     70  Willie French   \n",
       "2       cac076e1-07d0-4f96-93b0-e8c323d3e82c     80  Willie French   \n",
       "3       a0fa9bb2-78f0-4ac2-bb8e-96af991441af     78  Willie French   \n",
       "4       bf8529c8-2bb5-45f2-94ac-b53eb92d13a5     34  Willie French   \n",
       "...                                      ...    ...            ...   \n",
       "299995  e9cabb60-773f-4b49-b46f-d2601e94c8be     92    Kristen Fox   \n",
       "299996  30ac28f2-99e6-46fb-8187-85575ce7ed92     95    Kristen Fox   \n",
       "299997  907e4c6a-7446-4541-a0f4-677832bf9fbd     75    Kristen Fox   \n",
       "299998  7da799ed-d9b8-424a-a25b-f8412e870184      1    Kristen Fox   \n",
       "299999  b96d19aa-d1dd-490d-a14b-47cb63e3c4cd     40    Kristen Fox   \n",
       "\n",
       "                   skill_name  \n",
       "0               Data Analysis  \n",
       "1                         SQL  \n",
       "2                         NLP  \n",
       "3       Business Intelligence  \n",
       "4            DevOps Practices  \n",
       "...                       ...  \n",
       "299995       Model Deployment  \n",
       "299996                Node.js  \n",
       "299997      Business Analysis  \n",
       "299998          Data Analysis  \n",
       "299999  Test Automation Tools  \n",
       "\n",
       "[300000 rows x 6 columns]"
      ]
     },
     "execution_count": 10,
     "metadata": {},
     "output_type": "execute_result"
    }
   ],
   "source": [
    "# roles_df = pd.read_csv('E:/JMAN/fp/DataEngineering/prep/prep_skill.csv')\n",
    "roles_df = pd.read_csv('E:/JMAN/fp/DataEngineering/prep/prep_skill.csv')\n",
    "role_mapping = dict(zip(roles_df['_id'], roles_df['name']))\n",
    "df['skill_name'] = df['skillId'].map(role_mapping)\n",
    "df"
   ]
  },
  {
   "cell_type": "code",
   "execution_count": 11,
   "metadata": {},
   "outputs": [
    {
     "name": "stdout",
     "output_type": "stream",
     "text": [
      "Original dtypes:\n",
      "_id           string\n",
      "userId        string\n",
      "skillId       string\n",
      "score          Int64\n",
      "user_name     object\n",
      "skill_name    object\n",
      "dtype: object\n",
      "\n",
      "Converted dtypes:\n",
      "_id           string\n",
      "userId        string\n",
      "skillId       string\n",
      "score          Int64\n",
      "user_name     string\n",
      "skill_name    string\n",
      "dtype: object\n"
     ]
    }
   ],
   "source": [
    "print(\"Original dtypes:\")\n",
    "print(df.dtypes)\n",
    "\n",
    "# Convert dtypes\n",
    "df=df.convert_dtypes()\n",
    "\n",
    "# Check new dtypes\n",
    "print(\"\\nConverted dtypes:\")\n",
    "print(df.convert_dtypes().dtypes)"
   ]
  },
  {
   "cell_type": "code",
   "execution_count": 12,
   "metadata": {},
   "outputs": [],
   "source": [
    "# df.to_csv('E:/JMAN/fp/DataEngineering/prep/prep_user_skill.csv')\n",
    "df.to_csv('E:/JMAN/fp/DataEngineering/prep/prep_user_skill.csv')"
   ]
  },
  {
   "cell_type": "code",
   "execution_count": null,
   "metadata": {},
   "outputs": [],
   "source": []
  }
 ],
 "metadata": {
  "kernelspec": {
   "display_name": "base",
   "language": "python",
   "name": "python3"
  },
  "language_info": {
   "codemirror_mode": {
    "name": "ipython",
    "version": 3
   },
   "file_extension": ".py",
   "mimetype": "text/x-python",
   "name": "python",
   "nbconvert_exporter": "python",
   "pygments_lexer": "ipython3",
   "version": "3.9.7"
  }
 },
 "nbformat": 4,
 "nbformat_minor": 2
}
