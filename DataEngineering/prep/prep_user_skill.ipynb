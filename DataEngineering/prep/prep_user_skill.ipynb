{
 "cells": [
  {
   "cell_type": "code",
   "execution_count": 13,
   "metadata": {},
   "outputs": [],
   "source": [
    "import pandas as pd"
   ]
  },
  {
   "cell_type": "code",
   "execution_count": 14,
   "metadata": {},
   "outputs": [],
   "source": [
    "user_csv=pd.read_csv('E:/JMAN/fp/DataEngineering/raw/raw_user_skills.csv')\n",
    "# user_csv=pd.read_csv('E:/JMAN/fp/DataEngineering/raw/raw_user_skills.csv')"
   ]
  },
  {
   "cell_type": "code",
   "execution_count": 15,
   "metadata": {},
   "outputs": [],
   "source": [
    "df=pd.DataFrame(data=user_csv)"
   ]
  },
  {
   "cell_type": "code",
   "execution_count": 16,
   "metadata": {},
   "outputs": [
    {
     "data": {
      "text/plain": [
       "_id        0\n",
       "userId     0\n",
       "skillId    0\n",
       "score      0\n",
       "dtype: int64"
      ]
     },
     "execution_count": 16,
     "metadata": {},
     "output_type": "execute_result"
    }
   ],
   "source": [
    "df.isnull().sum()"
   ]
  },
  {
   "cell_type": "code",
   "execution_count": 17,
   "metadata": {},
   "outputs": [],
   "source": [
    "df.dropna(inplace=True)"
   ]
  },
  {
   "cell_type": "code",
   "execution_count": 18,
   "metadata": {},
   "outputs": [],
   "source": [
    "df.drop_duplicates(inplace=True)"
   ]
  },
  {
   "cell_type": "code",
   "execution_count": 19,
   "metadata": {},
   "outputs": [
    {
     "data": {
      "text/plain": [
       "_id        object\n",
       "userId     object\n",
       "skillId    object\n",
       "score       int64\n",
       "dtype: object"
      ]
     },
     "execution_count": 19,
     "metadata": {},
     "output_type": "execute_result"
    }
   ],
   "source": [
    "df.dtypes"
   ]
  },
  {
   "cell_type": "code",
   "execution_count": 20,
   "metadata": {},
   "outputs": [
    {
     "name": "stdout",
     "output_type": "stream",
     "text": [
      "Original dtypes:\n",
      "_id        object\n",
      "userId     object\n",
      "skillId    object\n",
      "score       int64\n",
      "dtype: object\n",
      "\n",
      "Converted dtypes:\n",
      "_id        string\n",
      "userId     string\n",
      "skillId    string\n",
      "score       Int64\n",
      "dtype: object\n"
     ]
    }
   ],
   "source": [
    "print(\"Original dtypes:\")\n",
    "print(df.dtypes)\n",
    "\n",
    "# Convert dtypes\n",
    "df=df.convert_dtypes()\n",
    "\n",
    "# Check new dtypes\n",
    "print(\"\\nConverted dtypes:\")\n",
    "print(df.convert_dtypes().dtypes)"
   ]
  },
  {
   "cell_type": "code",
   "execution_count": 21,
   "metadata": {},
   "outputs": [
    {
     "data": {
      "text/html": [
       "<div>\n",
       "<style scoped>\n",
       "    .dataframe tbody tr th:only-of-type {\n",
       "        vertical-align: middle;\n",
       "    }\n",
       "\n",
       "    .dataframe tbody tr th {\n",
       "        vertical-align: top;\n",
       "    }\n",
       "\n",
       "    .dataframe thead th {\n",
       "        text-align: right;\n",
       "    }\n",
       "</style>\n",
       "<table border=\"1\" class=\"dataframe\">\n",
       "  <thead>\n",
       "    <tr style=\"text-align: right;\">\n",
       "      <th></th>\n",
       "      <th>_id</th>\n",
       "      <th>userId</th>\n",
       "      <th>skillId</th>\n",
       "      <th>score</th>\n",
       "      <th>user_name</th>\n",
       "    </tr>\n",
       "  </thead>\n",
       "  <tbody>\n",
       "    <tr>\n",
       "      <th>0</th>\n",
       "      <td>ddce7f6e-0771-4e3d-aba6-f772c08fd03a</td>\n",
       "      <td>75d5aae9-1b22-4ab7-ab0c-191b0691138d</td>\n",
       "      <td>a6eed375-6d77-4807-a736-757fd1419455</td>\n",
       "      <td>32</td>\n",
       "      <td>Amy Dodson</td>\n",
       "    </tr>\n",
       "    <tr>\n",
       "      <th>1</th>\n",
       "      <td>f032fcd8-ed5f-41d1-9a19-94e86507c2e5</td>\n",
       "      <td>75d5aae9-1b22-4ab7-ab0c-191b0691138d</td>\n",
       "      <td>9aa196b9-ca3f-4c25-b42d-18454715bd29</td>\n",
       "      <td>93</td>\n",
       "      <td>Amy Dodson</td>\n",
       "    </tr>\n",
       "    <tr>\n",
       "      <th>2</th>\n",
       "      <td>8967b2c0-59d9-4383-aa20-461c5985080c</td>\n",
       "      <td>75d5aae9-1b22-4ab7-ab0c-191b0691138d</td>\n",
       "      <td>4eafa144-e580-4b4c-9096-19f64aa2aebc</td>\n",
       "      <td>92</td>\n",
       "      <td>Amy Dodson</td>\n",
       "    </tr>\n",
       "    <tr>\n",
       "      <th>3</th>\n",
       "      <td>cf8d89d7-3ac7-4d95-aa07-62a291a8e8f9</td>\n",
       "      <td>75d5aae9-1b22-4ab7-ab0c-191b0691138d</td>\n",
       "      <td>82ffc361-84f5-4c12-92a4-a592de26c702</td>\n",
       "      <td>94</td>\n",
       "      <td>Amy Dodson</td>\n",
       "    </tr>\n",
       "    <tr>\n",
       "      <th>4</th>\n",
       "      <td>215f4928-d1dd-422f-afb4-5f6d23b88782</td>\n",
       "      <td>75d5aae9-1b22-4ab7-ab0c-191b0691138d</td>\n",
       "      <td>273d1c01-d465-4814-9406-443a480674d1</td>\n",
       "      <td>69</td>\n",
       "      <td>Amy Dodson</td>\n",
       "    </tr>\n",
       "  </tbody>\n",
       "</table>\n",
       "</div>"
      ],
      "text/plain": [
       "                                    _id                                userId  \\\n",
       "0  ddce7f6e-0771-4e3d-aba6-f772c08fd03a  75d5aae9-1b22-4ab7-ab0c-191b0691138d   \n",
       "1  f032fcd8-ed5f-41d1-9a19-94e86507c2e5  75d5aae9-1b22-4ab7-ab0c-191b0691138d   \n",
       "2  8967b2c0-59d9-4383-aa20-461c5985080c  75d5aae9-1b22-4ab7-ab0c-191b0691138d   \n",
       "3  cf8d89d7-3ac7-4d95-aa07-62a291a8e8f9  75d5aae9-1b22-4ab7-ab0c-191b0691138d   \n",
       "4  215f4928-d1dd-422f-afb4-5f6d23b88782  75d5aae9-1b22-4ab7-ab0c-191b0691138d   \n",
       "\n",
       "                                skillId  score   user_name  \n",
       "0  a6eed375-6d77-4807-a736-757fd1419455     32  Amy Dodson  \n",
       "1  9aa196b9-ca3f-4c25-b42d-18454715bd29     93  Amy Dodson  \n",
       "2  4eafa144-e580-4b4c-9096-19f64aa2aebc     92  Amy Dodson  \n",
       "3  82ffc361-84f5-4c12-92a4-a592de26c702     94  Amy Dodson  \n",
       "4  273d1c01-d465-4814-9406-443a480674d1     69  Amy Dodson  "
      ]
     },
     "execution_count": 21,
     "metadata": {},
     "output_type": "execute_result"
    }
   ],
   "source": [
    "# roles_df = pd.read_csv('E:/JMAN/fp/DataEngineering/prep/prep_user.csv')\n",
    "roles_df = pd.read_csv('E:/JMAN/fp/DataEngineering/prep/prep_user.csv')\n",
    "roles_df\n",
    "role_mapping = dict(zip(roles_df['_id'], roles_df['name']))\n",
    "df['user_name'] = df['userId'].map(role_mapping)\n",
    "df.head()"
   ]
  },
  {
   "cell_type": "code",
   "execution_count": 22,
   "metadata": {},
   "outputs": [
    {
     "data": {
      "text/html": [
       "<div>\n",
       "<style scoped>\n",
       "    .dataframe tbody tr th:only-of-type {\n",
       "        vertical-align: middle;\n",
       "    }\n",
       "\n",
       "    .dataframe tbody tr th {\n",
       "        vertical-align: top;\n",
       "    }\n",
       "\n",
       "    .dataframe thead th {\n",
       "        text-align: right;\n",
       "    }\n",
       "</style>\n",
       "<table border=\"1\" class=\"dataframe\">\n",
       "  <thead>\n",
       "    <tr style=\"text-align: right;\">\n",
       "      <th></th>\n",
       "      <th>_id</th>\n",
       "      <th>userId</th>\n",
       "      <th>skillId</th>\n",
       "      <th>score</th>\n",
       "      <th>user_name</th>\n",
       "      <th>skill_name</th>\n",
       "    </tr>\n",
       "  </thead>\n",
       "  <tbody>\n",
       "    <tr>\n",
       "      <th>0</th>\n",
       "      <td>ddce7f6e-0771-4e3d-aba6-f772c08fd03a</td>\n",
       "      <td>75d5aae9-1b22-4ab7-ab0c-191b0691138d</td>\n",
       "      <td>a6eed375-6d77-4807-a736-757fd1419455</td>\n",
       "      <td>32</td>\n",
       "      <td>Amy Dodson</td>\n",
       "      <td>Content Creation</td>\n",
       "    </tr>\n",
       "    <tr>\n",
       "      <th>1</th>\n",
       "      <td>f032fcd8-ed5f-41d1-9a19-94e86507c2e5</td>\n",
       "      <td>75d5aae9-1b22-4ab7-ab0c-191b0691138d</td>\n",
       "      <td>9aa196b9-ca3f-4c25-b42d-18454715bd29</td>\n",
       "      <td>93</td>\n",
       "      <td>Amy Dodson</td>\n",
       "      <td>Networking</td>\n",
       "    </tr>\n",
       "    <tr>\n",
       "      <th>2</th>\n",
       "      <td>8967b2c0-59d9-4383-aa20-461c5985080c</td>\n",
       "      <td>75d5aae9-1b22-4ab7-ab0c-191b0691138d</td>\n",
       "      <td>4eafa144-e580-4b4c-9096-19f64aa2aebc</td>\n",
       "      <td>92</td>\n",
       "      <td>Amy Dodson</td>\n",
       "      <td>HTML/CSS</td>\n",
       "    </tr>\n",
       "    <tr>\n",
       "      <th>3</th>\n",
       "      <td>cf8d89d7-3ac7-4d95-aa07-62a291a8e8f9</td>\n",
       "      <td>75d5aae9-1b22-4ab7-ab0c-191b0691138d</td>\n",
       "      <td>82ffc361-84f5-4c12-92a4-a592de26c702</td>\n",
       "      <td>94</td>\n",
       "      <td>Amy Dodson</td>\n",
       "      <td>React</td>\n",
       "    </tr>\n",
       "    <tr>\n",
       "      <th>4</th>\n",
       "      <td>215f4928-d1dd-422f-afb4-5f6d23b88782</td>\n",
       "      <td>75d5aae9-1b22-4ab7-ab0c-191b0691138d</td>\n",
       "      <td>273d1c01-d465-4814-9406-443a480674d1</td>\n",
       "      <td>69</td>\n",
       "      <td>Amy Dodson</td>\n",
       "      <td>React</td>\n",
       "    </tr>\n",
       "    <tr>\n",
       "      <th>...</th>\n",
       "      <td>...</td>\n",
       "      <td>...</td>\n",
       "      <td>...</td>\n",
       "      <td>...</td>\n",
       "      <td>...</td>\n",
       "      <td>...</td>\n",
       "    </tr>\n",
       "    <tr>\n",
       "      <th>299995</th>\n",
       "      <td>d89f796c-ea9b-4131-b8d2-50daa673ad7e</td>\n",
       "      <td>0ab8f3ba-3491-4640-8884-549a0825ece4</td>\n",
       "      <td>d8b92035-1dfd-43ac-8338-4ba31ff1cab4</td>\n",
       "      <td>11</td>\n",
       "      <td>Teresa Robinson</td>\n",
       "      <td>Testing/Debugging</td>\n",
       "    </tr>\n",
       "    <tr>\n",
       "      <th>299996</th>\n",
       "      <td>2d7f5ccf-4152-428a-b123-9280afa3145c</td>\n",
       "      <td>0ab8f3ba-3491-4640-8884-549a0825ece4</td>\n",
       "      <td>2c94b709-3e9e-484e-af94-1810370da18d</td>\n",
       "      <td>33</td>\n",
       "      <td>Teresa Robinson</td>\n",
       "      <td>RESTful APIs</td>\n",
       "    </tr>\n",
       "    <tr>\n",
       "      <th>299997</th>\n",
       "      <td>da2cde11-9d78-421f-ba18-d9cfddc35252</td>\n",
       "      <td>0ab8f3ba-3491-4640-8884-549a0825ece4</td>\n",
       "      <td>e813b1b7-8b79-459d-901c-36a45b169cdb</td>\n",
       "      <td>56</td>\n",
       "      <td>Teresa Robinson</td>\n",
       "      <td>Data Visualization</td>\n",
       "    </tr>\n",
       "    <tr>\n",
       "      <th>299998</th>\n",
       "      <td>ba19440b-b07a-45fb-95b4-285b7fb01ba8</td>\n",
       "      <td>0ab8f3ba-3491-4640-8884-549a0825ece4</td>\n",
       "      <td>2d513e39-23d4-41c0-aea0-9ade9bb923e1</td>\n",
       "      <td>61</td>\n",
       "      <td>Teresa Robinson</td>\n",
       "      <td>Machine Learning</td>\n",
       "    </tr>\n",
       "    <tr>\n",
       "      <th>299999</th>\n",
       "      <td>92a341b4-8ade-4a4c-8626-41e50ec0ddfc</td>\n",
       "      <td>0ab8f3ba-3491-4640-8884-549a0825ece4</td>\n",
       "      <td>68dbb4cd-04eb-4015-9436-92dd21c7cd98</td>\n",
       "      <td>53</td>\n",
       "      <td>Teresa Robinson</td>\n",
       "      <td>User Documentation</td>\n",
       "    </tr>\n",
       "  </tbody>\n",
       "</table>\n",
       "<p>300000 rows × 6 columns</p>\n",
       "</div>"
      ],
      "text/plain": [
       "                                         _id  \\\n",
       "0       ddce7f6e-0771-4e3d-aba6-f772c08fd03a   \n",
       "1       f032fcd8-ed5f-41d1-9a19-94e86507c2e5   \n",
       "2       8967b2c0-59d9-4383-aa20-461c5985080c   \n",
       "3       cf8d89d7-3ac7-4d95-aa07-62a291a8e8f9   \n",
       "4       215f4928-d1dd-422f-afb4-5f6d23b88782   \n",
       "...                                      ...   \n",
       "299995  d89f796c-ea9b-4131-b8d2-50daa673ad7e   \n",
       "299996  2d7f5ccf-4152-428a-b123-9280afa3145c   \n",
       "299997  da2cde11-9d78-421f-ba18-d9cfddc35252   \n",
       "299998  ba19440b-b07a-45fb-95b4-285b7fb01ba8   \n",
       "299999  92a341b4-8ade-4a4c-8626-41e50ec0ddfc   \n",
       "\n",
       "                                      userId  \\\n",
       "0       75d5aae9-1b22-4ab7-ab0c-191b0691138d   \n",
       "1       75d5aae9-1b22-4ab7-ab0c-191b0691138d   \n",
       "2       75d5aae9-1b22-4ab7-ab0c-191b0691138d   \n",
       "3       75d5aae9-1b22-4ab7-ab0c-191b0691138d   \n",
       "4       75d5aae9-1b22-4ab7-ab0c-191b0691138d   \n",
       "...                                      ...   \n",
       "299995  0ab8f3ba-3491-4640-8884-549a0825ece4   \n",
       "299996  0ab8f3ba-3491-4640-8884-549a0825ece4   \n",
       "299997  0ab8f3ba-3491-4640-8884-549a0825ece4   \n",
       "299998  0ab8f3ba-3491-4640-8884-549a0825ece4   \n",
       "299999  0ab8f3ba-3491-4640-8884-549a0825ece4   \n",
       "\n",
       "                                     skillId  score        user_name  \\\n",
       "0       a6eed375-6d77-4807-a736-757fd1419455     32       Amy Dodson   \n",
       "1       9aa196b9-ca3f-4c25-b42d-18454715bd29     93       Amy Dodson   \n",
       "2       4eafa144-e580-4b4c-9096-19f64aa2aebc     92       Amy Dodson   \n",
       "3       82ffc361-84f5-4c12-92a4-a592de26c702     94       Amy Dodson   \n",
       "4       273d1c01-d465-4814-9406-443a480674d1     69       Amy Dodson   \n",
       "...                                      ...    ...              ...   \n",
       "299995  d8b92035-1dfd-43ac-8338-4ba31ff1cab4     11  Teresa Robinson   \n",
       "299996  2c94b709-3e9e-484e-af94-1810370da18d     33  Teresa Robinson   \n",
       "299997  e813b1b7-8b79-459d-901c-36a45b169cdb     56  Teresa Robinson   \n",
       "299998  2d513e39-23d4-41c0-aea0-9ade9bb923e1     61  Teresa Robinson   \n",
       "299999  68dbb4cd-04eb-4015-9436-92dd21c7cd98     53  Teresa Robinson   \n",
       "\n",
       "                skill_name  \n",
       "0         Content Creation  \n",
       "1               Networking  \n",
       "2                 HTML/CSS  \n",
       "3                    React  \n",
       "4                    React  \n",
       "...                    ...  \n",
       "299995   Testing/Debugging  \n",
       "299996        RESTful APIs  \n",
       "299997  Data Visualization  \n",
       "299998    Machine Learning  \n",
       "299999  User Documentation  \n",
       "\n",
       "[300000 rows x 6 columns]"
      ]
     },
     "execution_count": 22,
     "metadata": {},
     "output_type": "execute_result"
    }
   ],
   "source": [
    "# roles_df = pd.read_csv('E:/JMAN/fp/DataEngineering/prep/prep_skill.csv')\n",
    "roles_df = pd.read_csv('E:/JMAN/fp/DataEngineering/prep/prep_skill.csv')\n",
    "role_mapping = dict(zip(roles_df['_id'], roles_df['name']))\n",
    "df['skill_name'] = df['skillId'].map(role_mapping)\n",
    "df"
   ]
  },
  {
   "cell_type": "code",
   "execution_count": 23,
   "metadata": {},
   "outputs": [
    {
     "name": "stdout",
     "output_type": "stream",
     "text": [
      "Original dtypes:\n",
      "_id           string\n",
      "userId        string\n",
      "skillId       string\n",
      "score          Int64\n",
      "user_name     object\n",
      "skill_name    object\n",
      "dtype: object\n",
      "\n",
      "Converted dtypes:\n",
      "_id           string\n",
      "userId        string\n",
      "skillId       string\n",
      "score          Int64\n",
      "user_name     string\n",
      "skill_name    string\n",
      "dtype: object\n"
     ]
    }
   ],
   "source": [
    "print(\"Original dtypes:\")\n",
    "print(df.dtypes)\n",
    "\n",
    "# Convert dtypes\n",
    "df=df.convert_dtypes()\n",
    "\n",
    "# Check new dtypes\n",
    "print(\"\\nConverted dtypes:\")\n",
    "print(df.convert_dtypes().dtypes)"
   ]
  },
  {
   "cell_type": "code",
   "execution_count": 24,
   "metadata": {},
   "outputs": [],
   "source": [
    "# df.to_csv('E:/JMAN/fp/DataEngineering/prep/prep_user_skill.csv')\n",
    "df.to_csv('E:/JMAN/fp/DataEngineering/prep/prep_user_skill.csv')"
   ]
  },
  {
   "cell_type": "code",
   "execution_count": null,
   "metadata": {},
   "outputs": [],
   "source": []
  }
 ],
 "metadata": {
  "kernelspec": {
   "display_name": "base",
   "language": "python",
   "name": "python3"
  },
  "language_info": {
   "codemirror_mode": {
    "name": "ipython",
    "version": 3
   },
   "file_extension": ".py",
   "mimetype": "text/x-python",
   "name": "python",
   "nbconvert_exporter": "python",
   "pygments_lexer": "ipython3",
   "version": "3.9.7"
  }
 },
 "nbformat": 4,
 "nbformat_minor": 2
}
