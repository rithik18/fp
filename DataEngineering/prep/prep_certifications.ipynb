{
 "cells": [
  {
   "cell_type": "code",
   "execution_count": 18,
   "metadata": {},
   "outputs": [],
   "source": [
    "import pandas as pd"
   ]
  },
  {
   "cell_type": "code",
   "execution_count": 19,
   "metadata": {},
   "outputs": [],
   "source": [
    "user_csv=pd.read_csv('C:/Users/RithikHarendarMahesh/Desktop/fp/DataEngineering/raw/raw_certifications.csv')"
   ]
  },
  {
   "cell_type": "code",
   "execution_count": 20,
   "metadata": {},
   "outputs": [],
   "source": [
    "df=pd.DataFrame(data=user_csv)"
   ]
  },
  {
   "cell_type": "code",
   "execution_count": 21,
   "metadata": {},
   "outputs": [
    {
     "data": {
      "text/plain": [
       "_id               0\n",
       "name              0\n",
       "issued_by         0\n",
       "is_certificate    0\n",
       "dtype: int64"
      ]
     },
     "execution_count": 21,
     "metadata": {},
     "output_type": "execute_result"
    }
   ],
   "source": [
    "df.isnull().sum()"
   ]
  },
  {
   "cell_type": "code",
   "execution_count": 22,
   "metadata": {},
   "outputs": [],
   "source": [
    "df.dropna(inplace=True)"
   ]
  },
  {
   "cell_type": "code",
   "execution_count": 23,
   "metadata": {},
   "outputs": [],
   "source": [
    "df.drop_duplicates(inplace=True)"
   ]
  },
  {
   "cell_type": "code",
   "execution_count": 24,
   "metadata": {},
   "outputs": [
    {
     "data": {
      "text/plain": [
       "_id               object\n",
       "name              object\n",
       "issued_by         object\n",
       "is_certificate      bool\n",
       "dtype: object"
      ]
     },
     "execution_count": 24,
     "metadata": {},
     "output_type": "execute_result"
    }
   ],
   "source": [
    "df.dtypes"
   ]
  },
  {
   "cell_type": "code",
   "execution_count": 25,
   "metadata": {},
   "outputs": [
    {
     "name": "stdout",
     "output_type": "stream",
     "text": [
      "Original dtypes:\n",
      "_id               object\n",
      "name              object\n",
      "issued_by         object\n",
      "is_certificate      bool\n",
      "dtype: object\n",
      "\n",
      "Converted dtypes:\n",
      "_id               string[python]\n",
      "name              string[python]\n",
      "issued_by         string[python]\n",
      "is_certificate           boolean\n",
      "dtype: object\n"
     ]
    }
   ],
   "source": [
    "print(\"Original dtypes:\")\n",
    "print(df.dtypes)\n",
    "\n",
    "# Convert dtypes\n",
    "df=df.convert_dtypes()\n",
    "\n",
    "# Check new dtypes\n",
    "print(\"\\nConverted dtypes:\")\n",
    "print(df.convert_dtypes().dtypes)"
   ]
  },
  {
   "cell_type": "code",
   "execution_count": 26,
   "metadata": {},
   "outputs": [
    {
     "data": {
      "text/plain": [
       "_id               string[python]\n",
       "name              string[python]\n",
       "issued_by         string[python]\n",
       "is_certificate           boolean\n",
       "dtype: object"
      ]
     },
     "execution_count": 26,
     "metadata": {},
     "output_type": "execute_result"
    }
   ],
   "source": [
    "df.dtypes"
   ]
  },
  {
   "cell_type": "code",
   "execution_count": 27,
   "metadata": {},
   "outputs": [],
   "source": [
    "user_skills_df=pd.read_csv('C:/Users/RithikHarendarMahesh/Desktop/fp/DataEngineering/prep/prep_user_certification.csv')"
   ]
  },
  {
   "cell_type": "code",
   "execution_count": 28,
   "metadata": {},
   "outputs": [
    {
     "data": {
      "text/plain": [
       "Unnamed: 0           0\n",
       "_id                  0\n",
       "userId               0\n",
       "certificationId      0\n",
       "certificationName    0\n",
       "started_at           0\n",
       "completed_at         0\n",
       "competency           0\n",
       "isVerified           0\n",
       "imageData            0\n",
       "user_name            0\n",
       "dtype: int64"
      ]
     },
     "execution_count": 28,
     "metadata": {},
     "output_type": "execute_result"
    }
   ],
   "source": [
    "user_skills_df.isnull().sum()"
   ]
  },
  {
   "cell_type": "code",
   "execution_count": 29,
   "metadata": {},
   "outputs": [
    {
     "name": "stdout",
     "output_type": "stream",
     "text": [
      "                          certificationId  user_count\n",
      "0    03db08cb-fb3e-456e-b069-e9a718b04698        1481\n",
      "1    042db6a7-218e-4668-815a-7d68c2957213        1522\n",
      "2    087b0a88-5f2d-492b-8301-2f6e908f9472        1524\n",
      "3    088f9cb5-fb4e-42d7-a3fd-fc876313a74a        1502\n",
      "4    0a30ef8e-1a70-4cc2-8b8a-f410c85bb7e2        1466\n",
      "..                                    ...         ...\n",
      "99   efacce41-9971-42c0-9556-63c7071a92bf        1494\n",
      "100  f3b624de-dc01-41c1-b31f-6ef4af3bafae        1519\n",
      "101  f6fd48dc-71fd-4114-b1be-09953e618edb        1469\n",
      "102  f89be188-7f23-4227-b685-1fcfe920897e        1531\n",
      "103  faa21b74-1310-4b4a-8c69-3ae01475a9ce        1474\n",
      "\n",
      "[104 rows x 2 columns]\n"
     ]
    }
   ],
   "source": [
    "skill_user_count = user_skills_df.groupby('certificationId')['userId'].nunique().reset_index(name='user_count')\n",
    "\n",
    "print(skill_user_count)"
   ]
  },
  {
   "cell_type": "code",
   "execution_count": 30,
   "metadata": {},
   "outputs": [
    {
     "data": {
      "text/plain": [
       "_id                0\n",
       "name               0\n",
       "issued_by          0\n",
       "is_certificate     0\n",
       "certificationId    0\n",
       "user_count         0\n",
       "dtype: int64"
      ]
     },
     "execution_count": 30,
     "metadata": {},
     "output_type": "execute_result"
    }
   ],
   "source": [
    "merged_df=df.merge(skill_user_count,left_on='_id',right_on='certificationId',how='inner')\n",
    "df=merged_df\n",
    "df.isnull().sum()"
   ]
  },
  {
   "cell_type": "code",
   "execution_count": 31,
   "metadata": {},
   "outputs": [
    {
     "data": {
      "text/html": [
       "<div>\n",
       "<style scoped>\n",
       "    .dataframe tbody tr th:only-of-type {\n",
       "        vertical-align: middle;\n",
       "    }\n",
       "\n",
       "    .dataframe tbody tr th {\n",
       "        vertical-align: top;\n",
       "    }\n",
       "\n",
       "    .dataframe thead th {\n",
       "        text-align: right;\n",
       "    }\n",
       "</style>\n",
       "<table border=\"1\" class=\"dataframe\">\n",
       "  <thead>\n",
       "    <tr style=\"text-align: right;\">\n",
       "      <th></th>\n",
       "      <th>_id</th>\n",
       "      <th>name</th>\n",
       "      <th>issued_by</th>\n",
       "      <th>is_certificate</th>\n",
       "      <th>certificationId</th>\n",
       "      <th>user_count</th>\n",
       "    </tr>\n",
       "  </thead>\n",
       "  <tbody>\n",
       "    <tr>\n",
       "      <th>0</th>\n",
       "      <td>66febe5eca0ebab04690f2ac</td>\n",
       "      <td>ReactJS</td>\n",
       "      <td>Coursera</td>\n",
       "      <td>True</td>\n",
       "      <td>66febe5eca0ebab04690f2ac</td>\n",
       "      <td>2</td>\n",
       "    </tr>\n",
       "    <tr>\n",
       "      <th>1</th>\n",
       "      <td>66febfabca0ebab04690f2b1</td>\n",
       "      <td>ExpressJS</td>\n",
       "      <td>Udemy</td>\n",
       "      <td>False</td>\n",
       "      <td>66febfabca0ebab04690f2b1</td>\n",
       "      <td>1</td>\n",
       "    </tr>\n",
       "    <tr>\n",
       "      <th>2</th>\n",
       "      <td>6703c19c5b1d1e7f98a9a951</td>\n",
       "      <td>DBT</td>\n",
       "      <td>DBT</td>\n",
       "      <td>True</td>\n",
       "      <td>6703c19c5b1d1e7f98a9a951</td>\n",
       "      <td>1</td>\n",
       "    </tr>\n",
       "    <tr>\n",
       "      <th>3</th>\n",
       "      <td>6703c20b5b1d1e7f98a9a957</td>\n",
       "      <td>Web Scrapping using Python</td>\n",
       "      <td>Youtube</td>\n",
       "      <td>False</td>\n",
       "      <td>6703c20b5b1d1e7f98a9a957</td>\n",
       "      <td>1</td>\n",
       "    </tr>\n",
       "  </tbody>\n",
       "</table>\n",
       "</div>"
      ],
      "text/plain": [
       "                        _id                        name issued_by  \\\n",
       "0  66febe5eca0ebab04690f2ac                     ReactJS  Coursera   \n",
       "1  66febfabca0ebab04690f2b1                   ExpressJS     Udemy   \n",
       "2  6703c19c5b1d1e7f98a9a951                         DBT       DBT   \n",
       "3  6703c20b5b1d1e7f98a9a957  Web Scrapping using Python   Youtube   \n",
       "\n",
       "   is_certificate           certificationId  user_count  \n",
       "0            True  66febe5eca0ebab04690f2ac           2  \n",
       "1           False  66febfabca0ebab04690f2b1           1  \n",
       "2            True  6703c19c5b1d1e7f98a9a951           1  \n",
       "3           False  6703c20b5b1d1e7f98a9a957           1  "
      ]
     },
     "execution_count": 31,
     "metadata": {},
     "output_type": "execute_result"
    }
   ],
   "source": [
    "df"
   ]
  },
  {
   "cell_type": "code",
   "execution_count": 32,
   "metadata": {},
   "outputs": [],
   "source": [
    "df.to_csv('C:/Users/RithikHarendarMahesh/Desktop/fp/DataEngineering/prep/prep_certification.csv')"
   ]
  },
  {
   "cell_type": "code",
   "execution_count": null,
   "metadata": {},
   "outputs": [],
   "source": []
  }
 ],
 "metadata": {
  "kernelspec": {
   "display_name": "Python 3 (ipykernel)",
   "language": "python",
   "name": "python3"
  },
  "language_info": {
   "codemirror_mode": {
    "name": "ipython",
    "version": 3
   },
   "file_extension": ".py",
   "mimetype": "text/x-python",
   "name": "python",
   "nbconvert_exporter": "python",
   "pygments_lexer": "ipython3",
   "version": "3.12.4"
  }
 },
 "nbformat": 4,
 "nbformat_minor": 2
}
