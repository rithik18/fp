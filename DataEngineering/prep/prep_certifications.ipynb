{
 "cells": [
  {
   "cell_type": "code",
   "execution_count": 2,
   "metadata": {},
   "outputs": [],
   "source": [
    "import pandas as pd"
   ]
  },
  {
   "cell_type": "code",
   "execution_count": 3,
   "metadata": {},
   "outputs": [],
   "source": [
    "user_csv=pd.read_csv('C:/Users/RithikHarendarMahesh/Desktop/fp/DataEngineering/raw/raw_certifications.csv')"
   ]
  },
  {
   "cell_type": "code",
   "execution_count": 4,
   "metadata": {},
   "outputs": [],
   "source": [
    "df=pd.DataFrame(data=user_csv)"
   ]
  },
  {
   "cell_type": "code",
   "execution_count": 5,
   "metadata": {},
   "outputs": [
    {
     "data": {
      "text/plain": [
       "_id               0\n",
       "name              0\n",
       "issued_by         0\n",
       "is_certificate    0\n",
       "dtype: int64"
      ]
     },
     "execution_count": 5,
     "metadata": {},
     "output_type": "execute_result"
    }
   ],
   "source": [
    "df.isnull().sum()"
   ]
  },
  {
   "cell_type": "code",
   "execution_count": 6,
   "metadata": {},
   "outputs": [],
   "source": [
    "df.dropna(inplace=True)"
   ]
  },
  {
   "cell_type": "code",
   "execution_count": 7,
   "metadata": {},
   "outputs": [],
   "source": [
    "df.drop_duplicates(inplace=True)"
   ]
  },
  {
   "cell_type": "code",
   "execution_count": 8,
   "metadata": {},
   "outputs": [
    {
     "data": {
      "text/plain": [
       "_id               object\n",
       "name              object\n",
       "issued_by         object\n",
       "is_certificate      bool\n",
       "dtype: object"
      ]
     },
     "execution_count": 8,
     "metadata": {},
     "output_type": "execute_result"
    }
   ],
   "source": [
    "df.dtypes"
   ]
  },
  {
   "cell_type": "code",
   "execution_count": 9,
   "metadata": {},
   "outputs": [
    {
     "name": "stdout",
     "output_type": "stream",
     "text": [
      "Original dtypes:\n",
      "_id               object\n",
      "name              object\n",
      "issued_by         object\n",
      "is_certificate      bool\n",
      "dtype: object\n",
      "\n",
      "Converted dtypes:\n",
      "_id               string[python]\n",
      "name              string[python]\n",
      "issued_by         string[python]\n",
      "is_certificate           boolean\n",
      "dtype: object\n"
     ]
    }
   ],
   "source": [
    "print(\"Original dtypes:\")\n",
    "print(df.dtypes)\n",
    "\n",
    "# Convert dtypes\n",
    "df=df.convert_dtypes()\n",
    "\n",
    "# Check new dtypes\n",
    "print(\"\\nConverted dtypes:\")\n",
    "print(df.convert_dtypes().dtypes)"
   ]
  },
  {
   "cell_type": "code",
   "execution_count": 10,
   "metadata": {},
   "outputs": [
    {
     "data": {
      "text/plain": [
       "_id               string[python]\n",
       "name              string[python]\n",
       "issued_by         string[python]\n",
       "is_certificate           boolean\n",
       "dtype: object"
      ]
     },
     "execution_count": 10,
     "metadata": {},
     "output_type": "execute_result"
    }
   ],
   "source": [
    "df.dtypes"
   ]
  },
  {
   "cell_type": "code",
   "execution_count": 12,
   "metadata": {},
   "outputs": [],
   "source": [
    "user_skills_df=pd.read_csv('C:/Users/RithikHarendarMahesh/Desktop/fp/DataEngineering/prep/prep_user_certification.csv')"
   ]
  },
  {
   "cell_type": "code",
   "execution_count": 13,
   "metadata": {},
   "outputs": [
    {
     "data": {
      "text/plain": [
       "Unnamed: 0           0\n",
       "_id                  0\n",
       "userId               0\n",
       "certificationId      0\n",
       "certificationName    0\n",
       "started_at           0\n",
       "completed_at         0\n",
       "competency           0\n",
       "isVerified           0\n",
       "imageData            0\n",
       "user_name            0\n",
       "dtype: int64"
      ]
     },
     "execution_count": 13,
     "metadata": {},
     "output_type": "execute_result"
    }
   ],
   "source": [
    "user_skills_df.isnull().sum()"
   ]
  },
  {
   "cell_type": "code",
   "execution_count": 14,
   "metadata": {},
   "outputs": [
    {
     "name": "stdout",
     "output_type": "stream",
     "text": [
      "                          certificationId  user_count\n",
      "0    03db08cb-fb3e-456e-b069-e9a718b04698        1481\n",
      "1    042db6a7-218e-4668-815a-7d68c2957213        1522\n",
      "2    087b0a88-5f2d-492b-8301-2f6e908f9472        1524\n",
      "3    088f9cb5-fb4e-42d7-a3fd-fc876313a74a        1502\n",
      "4    0a30ef8e-1a70-4cc2-8b8a-f410c85bb7e2        1466\n",
      "..                                    ...         ...\n",
      "99   efacce41-9971-42c0-9556-63c7071a92bf        1494\n",
      "100  f3b624de-dc01-41c1-b31f-6ef4af3bafae        1519\n",
      "101  f6fd48dc-71fd-4114-b1be-09953e618edb        1469\n",
      "102  f89be188-7f23-4227-b685-1fcfe920897e        1531\n",
      "103  faa21b74-1310-4b4a-8c69-3ae01475a9ce        1474\n",
      "\n",
      "[104 rows x 2 columns]\n"
     ]
    }
   ],
   "source": [
    "skill_user_count = user_skills_df.groupby('certificationId')['userId'].nunique().reset_index(name='user_count')\n",
    "\n",
    "print(skill_user_count)"
   ]
  },
  {
   "cell_type": "code",
   "execution_count": 15,
   "metadata": {},
   "outputs": [
    {
     "data": {
      "text/plain": [
       "_id                0\n",
       "name               0\n",
       "issued_by          0\n",
       "is_certificate     0\n",
       "certificationId    0\n",
       "user_count         0\n",
       "dtype: int64"
      ]
     },
     "execution_count": 15,
     "metadata": {},
     "output_type": "execute_result"
    }
   ],
   "source": [
    "merged_df=df.merge(skill_user_count,left_on='_id',right_on='certificationId',how='inner')\n",
    "df=merged_df\n",
    "df.isnull().sum()"
   ]
  },
  {
   "cell_type": "code",
   "execution_count": 16,
   "metadata": {},
   "outputs": [
    {
     "data": {
      "text/html": [
       "<div>\n",
       "<style scoped>\n",
       "    .dataframe tbody tr th:only-of-type {\n",
       "        vertical-align: middle;\n",
       "    }\n",
       "\n",
       "    .dataframe tbody tr th {\n",
       "        vertical-align: top;\n",
       "    }\n",
       "\n",
       "    .dataframe thead th {\n",
       "        text-align: right;\n",
       "    }\n",
       "</style>\n",
       "<table border=\"1\" class=\"dataframe\">\n",
       "  <thead>\n",
       "    <tr style=\"text-align: right;\">\n",
       "      <th></th>\n",
       "      <th>_id</th>\n",
       "      <th>name</th>\n",
       "      <th>issued_by</th>\n",
       "      <th>is_certificate</th>\n",
       "      <th>certificationId</th>\n",
       "      <th>user_count</th>\n",
       "    </tr>\n",
       "  </thead>\n",
       "  <tbody>\n",
       "    <tr>\n",
       "      <th>0</th>\n",
       "      <td>66febe5eca0ebab04690f2ac</td>\n",
       "      <td>ReactJS</td>\n",
       "      <td>Coursera</td>\n",
       "      <td>True</td>\n",
       "      <td>66febe5eca0ebab04690f2ac</td>\n",
       "      <td>2</td>\n",
       "    </tr>\n",
       "    <tr>\n",
       "      <th>1</th>\n",
       "      <td>66febfabca0ebab04690f2b1</td>\n",
       "      <td>ExpressJS</td>\n",
       "      <td>Udemy</td>\n",
       "      <td>False</td>\n",
       "      <td>66febfabca0ebab04690f2b1</td>\n",
       "      <td>1</td>\n",
       "    </tr>\n",
       "    <tr>\n",
       "      <th>2</th>\n",
       "      <td>6703c19c5b1d1e7f98a9a951</td>\n",
       "      <td>DBT</td>\n",
       "      <td>DBT</td>\n",
       "      <td>True</td>\n",
       "      <td>6703c19c5b1d1e7f98a9a951</td>\n",
       "      <td>1</td>\n",
       "    </tr>\n",
       "    <tr>\n",
       "      <th>3</th>\n",
       "      <td>6703c20b5b1d1e7f98a9a957</td>\n",
       "      <td>Web Scrapping using Python</td>\n",
       "      <td>Youtube</td>\n",
       "      <td>False</td>\n",
       "      <td>6703c20b5b1d1e7f98a9a957</td>\n",
       "      <td>1</td>\n",
       "    </tr>\n",
       "    <tr>\n",
       "      <th>4</th>\n",
       "      <td>3da2ea1a-945f-4b61-bc09-f1973f395ad7</td>\n",
       "      <td>Rush-Neal</td>\n",
       "      <td>Group</td>\n",
       "      <td>True</td>\n",
       "      <td>3da2ea1a-945f-4b61-bc09-f1973f395ad7</td>\n",
       "      <td>1512</td>\n",
       "    </tr>\n",
       "    <tr>\n",
       "      <th>...</th>\n",
       "      <td>...</td>\n",
       "      <td>...</td>\n",
       "      <td>...</td>\n",
       "      <td>...</td>\n",
       "      <td>...</td>\n",
       "      <td>...</td>\n",
       "    </tr>\n",
       "    <tr>\n",
       "      <th>99</th>\n",
       "      <td>3eb27e2e-1fc8-46d7-9560-7d651a70f06f</td>\n",
       "      <td>Soto Group</td>\n",
       "      <td>Group</td>\n",
       "      <td>False</td>\n",
       "      <td>3eb27e2e-1fc8-46d7-9560-7d651a70f06f</td>\n",
       "      <td>1530</td>\n",
       "    </tr>\n",
       "    <tr>\n",
       "      <th>100</th>\n",
       "      <td>aaedf450-136e-4d4c-8878-68708f1ee9f9</td>\n",
       "      <td>Norris, Brennan and Allen</td>\n",
       "      <td>Ltd</td>\n",
       "      <td>True</td>\n",
       "      <td>aaedf450-136e-4d4c-8878-68708f1ee9f9</td>\n",
       "      <td>1534</td>\n",
       "    </tr>\n",
       "    <tr>\n",
       "      <th>101</th>\n",
       "      <td>11ffa8fb-c959-4466-94ea-d56969daa4e8</td>\n",
       "      <td>Foster-Hanna</td>\n",
       "      <td>Inc</td>\n",
       "      <td>False</td>\n",
       "      <td>11ffa8fb-c959-4466-94ea-d56969daa4e8</td>\n",
       "      <td>1498</td>\n",
       "    </tr>\n",
       "    <tr>\n",
       "      <th>102</th>\n",
       "      <td>41e61cff-4a09-4016-8c88-bbfb660c21e4</td>\n",
       "      <td>Hill, Woodard and Phillips</td>\n",
       "      <td>Ltd</td>\n",
       "      <td>True</td>\n",
       "      <td>41e61cff-4a09-4016-8c88-bbfb660c21e4</td>\n",
       "      <td>1518</td>\n",
       "    </tr>\n",
       "    <tr>\n",
       "      <th>103</th>\n",
       "      <td>4e9b7eef-b94e-431f-b2f2-7891f5a4bbff</td>\n",
       "      <td>Huber-Moore</td>\n",
       "      <td>and Sons</td>\n",
       "      <td>True</td>\n",
       "      <td>4e9b7eef-b94e-431f-b2f2-7891f5a4bbff</td>\n",
       "      <td>1429</td>\n",
       "    </tr>\n",
       "  </tbody>\n",
       "</table>\n",
       "<p>104 rows × 6 columns</p>\n",
       "</div>"
      ],
      "text/plain": [
       "                                      _id                        name  \\\n",
       "0                66febe5eca0ebab04690f2ac                     ReactJS   \n",
       "1                66febfabca0ebab04690f2b1                   ExpressJS   \n",
       "2                6703c19c5b1d1e7f98a9a951                         DBT   \n",
       "3                6703c20b5b1d1e7f98a9a957  Web Scrapping using Python   \n",
       "4    3da2ea1a-945f-4b61-bc09-f1973f395ad7                   Rush-Neal   \n",
       "..                                    ...                         ...   \n",
       "99   3eb27e2e-1fc8-46d7-9560-7d651a70f06f                  Soto Group   \n",
       "100  aaedf450-136e-4d4c-8878-68708f1ee9f9   Norris, Brennan and Allen   \n",
       "101  11ffa8fb-c959-4466-94ea-d56969daa4e8                Foster-Hanna   \n",
       "102  41e61cff-4a09-4016-8c88-bbfb660c21e4  Hill, Woodard and Phillips   \n",
       "103  4e9b7eef-b94e-431f-b2f2-7891f5a4bbff                 Huber-Moore   \n",
       "\n",
       "    issued_by  is_certificate                       certificationId  \\\n",
       "0    Coursera            True              66febe5eca0ebab04690f2ac   \n",
       "1       Udemy           False              66febfabca0ebab04690f2b1   \n",
       "2         DBT            True              6703c19c5b1d1e7f98a9a951   \n",
       "3     Youtube           False              6703c20b5b1d1e7f98a9a957   \n",
       "4       Group            True  3da2ea1a-945f-4b61-bc09-f1973f395ad7   \n",
       "..        ...             ...                                   ...   \n",
       "99      Group           False  3eb27e2e-1fc8-46d7-9560-7d651a70f06f   \n",
       "100       Ltd            True  aaedf450-136e-4d4c-8878-68708f1ee9f9   \n",
       "101       Inc           False  11ffa8fb-c959-4466-94ea-d56969daa4e8   \n",
       "102       Ltd            True  41e61cff-4a09-4016-8c88-bbfb660c21e4   \n",
       "103  and Sons            True  4e9b7eef-b94e-431f-b2f2-7891f5a4bbff   \n",
       "\n",
       "     user_count  \n",
       "0             2  \n",
       "1             1  \n",
       "2             1  \n",
       "3             1  \n",
       "4          1512  \n",
       "..          ...  \n",
       "99         1530  \n",
       "100        1534  \n",
       "101        1498  \n",
       "102        1518  \n",
       "103        1429  \n",
       "\n",
       "[104 rows x 6 columns]"
      ]
     },
     "execution_count": 16,
     "metadata": {},
     "output_type": "execute_result"
    }
   ],
   "source": [
    "df"
   ]
  },
  {
   "cell_type": "code",
   "execution_count": 17,
   "metadata": {},
   "outputs": [],
   "source": [
    "df.to_csv('C:/Users/RithikHarendarMahesh/Desktop/fp/DataEngineering/prep/prep_certification.csv')"
   ]
  },
  {
   "cell_type": "code",
   "execution_count": null,
   "metadata": {},
   "outputs": [],
   "source": []
  }
 ],
 "metadata": {
  "kernelspec": {
   "display_name": "Python 3 (ipykernel)",
   "language": "python",
   "name": "python3"
  },
  "language_info": {
   "codemirror_mode": {
    "name": "ipython",
    "version": 3
   },
   "file_extension": ".py",
   "mimetype": "text/x-python",
   "name": "python",
   "nbconvert_exporter": "python",
   "pygments_lexer": "ipython3",
   "version": "3.12.4"
  }
 },
 "nbformat": 4,
 "nbformat_minor": 2
}
