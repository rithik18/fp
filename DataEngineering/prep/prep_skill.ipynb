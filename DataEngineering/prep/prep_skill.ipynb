{
 "cells": [
  {
   "cell_type": "code",
   "execution_count": 22,
   "metadata": {},
   "outputs": [],
   "source": [
    "import pandas as pd"
   ]
  },
  {
   "cell_type": "code",
   "execution_count": 23,
   "metadata": {},
   "outputs": [],
   "source": [
    "# user_csv=pd.read_csv('E:/JMAN/fp/DataEngineering/raw/raw_skills.csv')\n",
    "user_csv=pd.read_csv('E:/JMAN/fp/DataEngineering/raw/raw_skills.csv')"
   ]
  },
  {
   "cell_type": "code",
   "execution_count": 24,
   "metadata": {},
   "outputs": [],
   "source": [
    "df=pd.DataFrame(data=user_csv)"
   ]
  },
  {
   "cell_type": "code",
   "execution_count": 25,
   "metadata": {},
   "outputs": [
    {
     "data": {
      "text/plain": [
       "_id           0\n",
       "name          0\n",
       "created_at    0\n",
       "updated_at    0\n",
       "desc          0\n",
       "dtype: int64"
      ]
     },
     "execution_count": 25,
     "metadata": {},
     "output_type": "execute_result"
    }
   ],
   "source": [
    "df.isnull().sum()"
   ]
  },
  {
   "cell_type": "code",
   "execution_count": 26,
   "metadata": {},
   "outputs": [],
   "source": [
    "df.dropna(inplace=True)"
   ]
  },
  {
   "cell_type": "code",
   "execution_count": 27,
   "metadata": {},
   "outputs": [],
   "source": [
    "df.drop_duplicates(inplace=True)"
   ]
  },
  {
   "cell_type": "code",
   "execution_count": 28,
   "metadata": {},
   "outputs": [
    {
     "data": {
      "text/plain": [
       "_id           object\n",
       "name          object\n",
       "created_at    object\n",
       "updated_at    object\n",
       "desc          object\n",
       "dtype: object"
      ]
     },
     "execution_count": 28,
     "metadata": {},
     "output_type": "execute_result"
    }
   ],
   "source": [
    "df.dtypes"
   ]
  },
  {
   "cell_type": "code",
   "execution_count": 29,
   "metadata": {},
   "outputs": [
    {
     "name": "stdout",
     "output_type": "stream",
     "text": [
      "Original dtypes:\n",
      "_id           object\n",
      "name          object\n",
      "created_at    object\n",
      "updated_at    object\n",
      "desc          object\n",
      "dtype: object\n",
      "\n",
      "Converted dtypes:\n",
      "_id           string\n",
      "name          string\n",
      "created_at    string\n",
      "updated_at    string\n",
      "desc          string\n",
      "dtype: object\n"
     ]
    }
   ],
   "source": [
    "print(\"Original dtypes:\")\n",
    "print(df.dtypes)\n",
    "\n",
    "# Convert dtypes\n",
    "df=df.convert_dtypes()\n",
    "\n",
    "# Check new dtypes\n",
    "print(\"\\nConverted dtypes:\")\n",
    "print(df.convert_dtypes().dtypes)"
   ]
  },
  {
   "cell_type": "code",
   "execution_count": 30,
   "metadata": {},
   "outputs": [],
   "source": [
    "df['created_at'] = [\n",
    "    i.split(\" \")[0] if 'T' not in i else i.split(\"T\")[0] for i in df['created_at']\n",
    "]"
   ]
  },
  {
   "cell_type": "code",
   "execution_count": 31,
   "metadata": {},
   "outputs": [],
   "source": [
    "df['created_at']=pd.to_datetime(df['created_at'])"
   ]
  },
  {
   "cell_type": "code",
   "execution_count": 32,
   "metadata": {},
   "outputs": [],
   "source": [
    "df['updated_at'] = [\n",
    "    i.split(\" \")[0] if 'T' not in i else i.split(\"T\")[0] for i in df['updated_at']\n",
    "]"
   ]
  },
  {
   "cell_type": "code",
   "execution_count": 33,
   "metadata": {},
   "outputs": [],
   "source": [
    "df['updated_at']=pd.to_datetime(df['updated_at'])"
   ]
  },
  {
   "cell_type": "code",
   "execution_count": 34,
   "metadata": {},
   "outputs": [
    {
     "data": {
      "text/plain": [
       "_id                   string\n",
       "name                  string\n",
       "created_at    datetime64[ns]\n",
       "updated_at    datetime64[ns]\n",
       "desc                  string\n",
       "dtype: object"
      ]
     },
     "execution_count": 34,
     "metadata": {},
     "output_type": "execute_result"
    }
   ],
   "source": [
    "df.dtypes"
   ]
  },
  {
   "cell_type": "code",
   "execution_count": 35,
   "metadata": {},
   "outputs": [
    {
     "data": {
      "text/plain": [
       "(150, 5)"
      ]
     },
     "execution_count": 35,
     "metadata": {},
     "output_type": "execute_result"
    }
   ],
   "source": [
    "df.shape"
   ]
  },
  {
   "cell_type": "code",
   "execution_count": 36,
   "metadata": {},
   "outputs": [
    {
     "data": {
      "text/html": [
       "<div>\n",
       "<style scoped>\n",
       "    .dataframe tbody tr th:only-of-type {\n",
       "        vertical-align: middle;\n",
       "    }\n",
       "\n",
       "    .dataframe tbody tr th {\n",
       "        vertical-align: top;\n",
       "    }\n",
       "\n",
       "    .dataframe thead th {\n",
       "        text-align: right;\n",
       "    }\n",
       "</style>\n",
       "<table border=\"1\" class=\"dataframe\">\n",
       "  <thead>\n",
       "    <tr style=\"text-align: right;\">\n",
       "      <th></th>\n",
       "      <th>_id</th>\n",
       "      <th>name</th>\n",
       "      <th>created_at</th>\n",
       "      <th>updated_at</th>\n",
       "      <th>desc</th>\n",
       "    </tr>\n",
       "  </thead>\n",
       "  <tbody>\n",
       "    <tr>\n",
       "      <th>0</th>\n",
       "      <td>640c213d-8a6a-4056-8097-f503261f10f2</td>\n",
       "      <td>Java</td>\n",
       "      <td>2023-11-30</td>\n",
       "      <td>2024-08-22</td>\n",
       "      <td>Java</td>\n",
       "    </tr>\n",
       "    <tr>\n",
       "      <th>1</th>\n",
       "      <td>88e8b761-f319-43ad-b4a5-f7a4ec5ce84a</td>\n",
       "      <td>Python</td>\n",
       "      <td>2021-05-09</td>\n",
       "      <td>2023-10-08</td>\n",
       "      <td>Python</td>\n",
       "    </tr>\n",
       "    <tr>\n",
       "      <th>2</th>\n",
       "      <td>e191e70b-6f79-4445-b734-9cc534f8b0c5</td>\n",
       "      <td>C#</td>\n",
       "      <td>2021-05-05</td>\n",
       "      <td>2021-07-02</td>\n",
       "      <td>C#</td>\n",
       "    </tr>\n",
       "    <tr>\n",
       "      <th>3</th>\n",
       "      <td>c3fa5509-12fc-4ea6-8757-922636072436</td>\n",
       "      <td>JavaScript</td>\n",
       "      <td>2020-11-25</td>\n",
       "      <td>2023-04-21</td>\n",
       "      <td>JavaScript</td>\n",
       "    </tr>\n",
       "    <tr>\n",
       "      <th>4</th>\n",
       "      <td>b67791b0-c917-4aed-bd8b-62d0f1ac33f8</td>\n",
       "      <td>React</td>\n",
       "      <td>2023-09-13</td>\n",
       "      <td>2023-12-07</td>\n",
       "      <td>React</td>\n",
       "    </tr>\n",
       "    <tr>\n",
       "      <th>...</th>\n",
       "      <td>...</td>\n",
       "      <td>...</td>\n",
       "      <td>...</td>\n",
       "      <td>...</td>\n",
       "      <td>...</td>\n",
       "    </tr>\n",
       "    <tr>\n",
       "      <th>145</th>\n",
       "      <td>834a8fcc-a8ad-4bc8-a2f7-c28da5fbd251</td>\n",
       "      <td>Wireframing</td>\n",
       "      <td>2024-09-05</td>\n",
       "      <td>2023-11-23</td>\n",
       "      <td>Wireframing</td>\n",
       "    </tr>\n",
       "    <tr>\n",
       "      <th>146</th>\n",
       "      <td>a37599ab-347f-4833-aa88-801d35d1d8e2</td>\n",
       "      <td>Market Research</td>\n",
       "      <td>2023-10-29</td>\n",
       "      <td>2021-09-26</td>\n",
       "      <td>Market Research</td>\n",
       "    </tr>\n",
       "    <tr>\n",
       "      <th>147</th>\n",
       "      <td>1e87e1d8-4048-4a84-8486-0ef215f28ded</td>\n",
       "      <td>Product Lifecycle Management</td>\n",
       "      <td>2024-08-06</td>\n",
       "      <td>2023-12-15</td>\n",
       "      <td>Product Lifecycle Management</td>\n",
       "    </tr>\n",
       "    <tr>\n",
       "      <th>148</th>\n",
       "      <td>9306a071-a343-4d9a-b256-252252d14079</td>\n",
       "      <td>Communication Skills</td>\n",
       "      <td>2024-05-02</td>\n",
       "      <td>2021-08-28</td>\n",
       "      <td>Communication Skills</td>\n",
       "    </tr>\n",
       "    <tr>\n",
       "      <th>149</th>\n",
       "      <td>867dfdeb-3cf3-47b9-8ca4-d07b48f11090</td>\n",
       "      <td>Leadership</td>\n",
       "      <td>2020-09-06</td>\n",
       "      <td>2024-07-17</td>\n",
       "      <td>Leadership</td>\n",
       "    </tr>\n",
       "  </tbody>\n",
       "</table>\n",
       "<p>150 rows × 5 columns</p>\n",
       "</div>"
      ],
      "text/plain": [
       "                                      _id                          name  \\\n",
       "0    640c213d-8a6a-4056-8097-f503261f10f2                          Java   \n",
       "1    88e8b761-f319-43ad-b4a5-f7a4ec5ce84a                        Python   \n",
       "2    e191e70b-6f79-4445-b734-9cc534f8b0c5                            C#   \n",
       "3    c3fa5509-12fc-4ea6-8757-922636072436                    JavaScript   \n",
       "4    b67791b0-c917-4aed-bd8b-62d0f1ac33f8                         React   \n",
       "..                                    ...                           ...   \n",
       "145  834a8fcc-a8ad-4bc8-a2f7-c28da5fbd251                   Wireframing   \n",
       "146  a37599ab-347f-4833-aa88-801d35d1d8e2               Market Research   \n",
       "147  1e87e1d8-4048-4a84-8486-0ef215f28ded  Product Lifecycle Management   \n",
       "148  9306a071-a343-4d9a-b256-252252d14079          Communication Skills   \n",
       "149  867dfdeb-3cf3-47b9-8ca4-d07b48f11090                    Leadership   \n",
       "\n",
       "    created_at updated_at                          desc  \n",
       "0   2023-11-30 2024-08-22                          Java  \n",
       "1   2021-05-09 2023-10-08                        Python  \n",
       "2   2021-05-05 2021-07-02                            C#  \n",
       "3   2020-11-25 2023-04-21                    JavaScript  \n",
       "4   2023-09-13 2023-12-07                         React  \n",
       "..         ...        ...                           ...  \n",
       "145 2024-09-05 2023-11-23                   Wireframing  \n",
       "146 2023-10-29 2021-09-26               Market Research  \n",
       "147 2024-08-06 2023-12-15  Product Lifecycle Management  \n",
       "148 2024-05-02 2021-08-28          Communication Skills  \n",
       "149 2020-09-06 2024-07-17                    Leadership  \n",
       "\n",
       "[150 rows x 5 columns]"
      ]
     },
     "execution_count": 36,
     "metadata": {},
     "output_type": "execute_result"
    }
   ],
   "source": [
    "df"
   ]
  },
  {
   "cell_type": "code",
   "execution_count": 37,
   "metadata": {},
   "outputs": [],
   "source": [
    "user_skills_df=pd.read_csv('E:/JMAN/fp/DataEngineering/raw/raw_user_skills.csv')\n",
    "# user_skills_df=pd.read_csv('E:/JMAN/fp/DataEngineering/prep/prep_user_skill.csv')"
   ]
  },
  {
   "cell_type": "code",
   "execution_count": 38,
   "metadata": {},
   "outputs": [
    {
     "data": {
      "text/plain": [
       "(300000, 4)"
      ]
     },
     "execution_count": 38,
     "metadata": {},
     "output_type": "execute_result"
    }
   ],
   "source": [
    "user_skills_df.shape"
   ]
  },
  {
   "cell_type": "code",
   "execution_count": 39,
   "metadata": {},
   "outputs": [
    {
     "name": "stdout",
     "output_type": "stream",
     "text": [
      "                                  skillId  user_count\n",
      "0    0074a9dc-faa2-4598-879f-f686729c7b49        2041\n",
      "1    00da8420-57ae-4fa2-b05c-e9328cb72c07        1896\n",
      "2    0159c8e1-09fa-46e8-b100-68385fb83e74        1986\n",
      "3    04334ee4-0bf9-4e71-9e09-088ca64c6707        2050\n",
      "4    056b3d19-4e67-48ca-85ef-8cc10ae8ed1a        1958\n",
      "..                                    ...         ...\n",
      "145  f8aaa6dc-3518-4c40-9e04-62a4b3e37e7b        1916\n",
      "146  f8ccfc58-7d91-4a51-9e8f-dc77d31f2b5f        2015\n",
      "147  fb84f784-1707-44ae-83aa-bc8ff9395a58        1989\n",
      "148  fca9bb97-14d2-49ff-a1c8-7eb515c4824f        2008\n",
      "149  fdca0240-5b81-4a33-b4f6-3b933ebe8f10        1918\n",
      "\n",
      "[150 rows x 2 columns]\n"
     ]
    }
   ],
   "source": [
    "skill_user_count = user_skills_df.groupby('skillId')['userId'].nunique().reset_index(name='user_count')\n",
    "\n",
    "print(skill_user_count)"
   ]
  },
  {
   "cell_type": "code",
   "execution_count": 40,
   "metadata": {},
   "outputs": [
    {
     "data": {
      "text/html": [
       "<div>\n",
       "<style scoped>\n",
       "    .dataframe tbody tr th:only-of-type {\n",
       "        vertical-align: middle;\n",
       "    }\n",
       "\n",
       "    .dataframe tbody tr th {\n",
       "        vertical-align: top;\n",
       "    }\n",
       "\n",
       "    .dataframe thead th {\n",
       "        text-align: right;\n",
       "    }\n",
       "</style>\n",
       "<table border=\"1\" class=\"dataframe\">\n",
       "  <thead>\n",
       "    <tr style=\"text-align: right;\">\n",
       "      <th></th>\n",
       "      <th>_id</th>\n",
       "      <th>name</th>\n",
       "      <th>created_at</th>\n",
       "      <th>updated_at</th>\n",
       "      <th>desc</th>\n",
       "      <th>skillId</th>\n",
       "      <th>user_count</th>\n",
       "    </tr>\n",
       "  </thead>\n",
       "  <tbody>\n",
       "    <tr>\n",
       "      <th>0</th>\n",
       "      <td>640c213d-8a6a-4056-8097-f503261f10f2</td>\n",
       "      <td>Java</td>\n",
       "      <td>2023-11-30</td>\n",
       "      <td>2024-08-22</td>\n",
       "      <td>Java</td>\n",
       "      <td>640c213d-8a6a-4056-8097-f503261f10f2</td>\n",
       "      <td>2035</td>\n",
       "    </tr>\n",
       "    <tr>\n",
       "      <th>1</th>\n",
       "      <td>88e8b761-f319-43ad-b4a5-f7a4ec5ce84a</td>\n",
       "      <td>Python</td>\n",
       "      <td>2021-05-09</td>\n",
       "      <td>2023-10-08</td>\n",
       "      <td>Python</td>\n",
       "      <td>88e8b761-f319-43ad-b4a5-f7a4ec5ce84a</td>\n",
       "      <td>1965</td>\n",
       "    </tr>\n",
       "    <tr>\n",
       "      <th>2</th>\n",
       "      <td>e191e70b-6f79-4445-b734-9cc534f8b0c5</td>\n",
       "      <td>C#</td>\n",
       "      <td>2021-05-05</td>\n",
       "      <td>2021-07-02</td>\n",
       "      <td>C#</td>\n",
       "      <td>e191e70b-6f79-4445-b734-9cc534f8b0c5</td>\n",
       "      <td>1913</td>\n",
       "    </tr>\n",
       "    <tr>\n",
       "      <th>3</th>\n",
       "      <td>c3fa5509-12fc-4ea6-8757-922636072436</td>\n",
       "      <td>JavaScript</td>\n",
       "      <td>2020-11-25</td>\n",
       "      <td>2023-04-21</td>\n",
       "      <td>JavaScript</td>\n",
       "      <td>c3fa5509-12fc-4ea6-8757-922636072436</td>\n",
       "      <td>1997</td>\n",
       "    </tr>\n",
       "    <tr>\n",
       "      <th>4</th>\n",
       "      <td>b67791b0-c917-4aed-bd8b-62d0f1ac33f8</td>\n",
       "      <td>React</td>\n",
       "      <td>2023-09-13</td>\n",
       "      <td>2023-12-07</td>\n",
       "      <td>React</td>\n",
       "      <td>b67791b0-c917-4aed-bd8b-62d0f1ac33f8</td>\n",
       "      <td>1990</td>\n",
       "    </tr>\n",
       "    <tr>\n",
       "      <th>...</th>\n",
       "      <td>...</td>\n",
       "      <td>...</td>\n",
       "      <td>...</td>\n",
       "      <td>...</td>\n",
       "      <td>...</td>\n",
       "      <td>...</td>\n",
       "      <td>...</td>\n",
       "    </tr>\n",
       "    <tr>\n",
       "      <th>145</th>\n",
       "      <td>834a8fcc-a8ad-4bc8-a2f7-c28da5fbd251</td>\n",
       "      <td>Wireframing</td>\n",
       "      <td>2024-09-05</td>\n",
       "      <td>2023-11-23</td>\n",
       "      <td>Wireframing</td>\n",
       "      <td>834a8fcc-a8ad-4bc8-a2f7-c28da5fbd251</td>\n",
       "      <td>1957</td>\n",
       "    </tr>\n",
       "    <tr>\n",
       "      <th>146</th>\n",
       "      <td>a37599ab-347f-4833-aa88-801d35d1d8e2</td>\n",
       "      <td>Market Research</td>\n",
       "      <td>2023-10-29</td>\n",
       "      <td>2021-09-26</td>\n",
       "      <td>Market Research</td>\n",
       "      <td>a37599ab-347f-4833-aa88-801d35d1d8e2</td>\n",
       "      <td>2001</td>\n",
       "    </tr>\n",
       "    <tr>\n",
       "      <th>147</th>\n",
       "      <td>1e87e1d8-4048-4a84-8486-0ef215f28ded</td>\n",
       "      <td>Product Lifecycle Management</td>\n",
       "      <td>2024-08-06</td>\n",
       "      <td>2023-12-15</td>\n",
       "      <td>Product Lifecycle Management</td>\n",
       "      <td>1e87e1d8-4048-4a84-8486-0ef215f28ded</td>\n",
       "      <td>2055</td>\n",
       "    </tr>\n",
       "    <tr>\n",
       "      <th>148</th>\n",
       "      <td>9306a071-a343-4d9a-b256-252252d14079</td>\n",
       "      <td>Communication Skills</td>\n",
       "      <td>2024-05-02</td>\n",
       "      <td>2021-08-28</td>\n",
       "      <td>Communication Skills</td>\n",
       "      <td>9306a071-a343-4d9a-b256-252252d14079</td>\n",
       "      <td>2040</td>\n",
       "    </tr>\n",
       "    <tr>\n",
       "      <th>149</th>\n",
       "      <td>867dfdeb-3cf3-47b9-8ca4-d07b48f11090</td>\n",
       "      <td>Leadership</td>\n",
       "      <td>2020-09-06</td>\n",
       "      <td>2024-07-17</td>\n",
       "      <td>Leadership</td>\n",
       "      <td>867dfdeb-3cf3-47b9-8ca4-d07b48f11090</td>\n",
       "      <td>1945</td>\n",
       "    </tr>\n",
       "  </tbody>\n",
       "</table>\n",
       "<p>150 rows × 7 columns</p>\n",
       "</div>"
      ],
      "text/plain": [
       "                                      _id                          name  \\\n",
       "0    640c213d-8a6a-4056-8097-f503261f10f2                          Java   \n",
       "1    88e8b761-f319-43ad-b4a5-f7a4ec5ce84a                        Python   \n",
       "2    e191e70b-6f79-4445-b734-9cc534f8b0c5                            C#   \n",
       "3    c3fa5509-12fc-4ea6-8757-922636072436                    JavaScript   \n",
       "4    b67791b0-c917-4aed-bd8b-62d0f1ac33f8                         React   \n",
       "..                                    ...                           ...   \n",
       "145  834a8fcc-a8ad-4bc8-a2f7-c28da5fbd251                   Wireframing   \n",
       "146  a37599ab-347f-4833-aa88-801d35d1d8e2               Market Research   \n",
       "147  1e87e1d8-4048-4a84-8486-0ef215f28ded  Product Lifecycle Management   \n",
       "148  9306a071-a343-4d9a-b256-252252d14079          Communication Skills   \n",
       "149  867dfdeb-3cf3-47b9-8ca4-d07b48f11090                    Leadership   \n",
       "\n",
       "    created_at updated_at                          desc  \\\n",
       "0   2023-11-30 2024-08-22                          Java   \n",
       "1   2021-05-09 2023-10-08                        Python   \n",
       "2   2021-05-05 2021-07-02                            C#   \n",
       "3   2020-11-25 2023-04-21                    JavaScript   \n",
       "4   2023-09-13 2023-12-07                         React   \n",
       "..         ...        ...                           ...   \n",
       "145 2024-09-05 2023-11-23                   Wireframing   \n",
       "146 2023-10-29 2021-09-26               Market Research   \n",
       "147 2024-08-06 2023-12-15  Product Lifecycle Management   \n",
       "148 2024-05-02 2021-08-28          Communication Skills   \n",
       "149 2020-09-06 2024-07-17                    Leadership   \n",
       "\n",
       "                                  skillId  user_count  \n",
       "0    640c213d-8a6a-4056-8097-f503261f10f2        2035  \n",
       "1    88e8b761-f319-43ad-b4a5-f7a4ec5ce84a        1965  \n",
       "2    e191e70b-6f79-4445-b734-9cc534f8b0c5        1913  \n",
       "3    c3fa5509-12fc-4ea6-8757-922636072436        1997  \n",
       "4    b67791b0-c917-4aed-bd8b-62d0f1ac33f8        1990  \n",
       "..                                    ...         ...  \n",
       "145  834a8fcc-a8ad-4bc8-a2f7-c28da5fbd251        1957  \n",
       "146  a37599ab-347f-4833-aa88-801d35d1d8e2        2001  \n",
       "147  1e87e1d8-4048-4a84-8486-0ef215f28ded        2055  \n",
       "148  9306a071-a343-4d9a-b256-252252d14079        2040  \n",
       "149  867dfdeb-3cf3-47b9-8ca4-d07b48f11090        1945  \n",
       "\n",
       "[150 rows x 7 columns]"
      ]
     },
     "execution_count": 40,
     "metadata": {},
     "output_type": "execute_result"
    }
   ],
   "source": [
    "merged_df=pd.merge(df,skill_user_count,left_on='_id',right_on='skillId',how='inner')\n",
    "df=merged_df\n",
    "df.isnull().sum()\n",
    "merged_df"
   ]
  },
  {
   "cell_type": "code",
   "execution_count": 41,
   "metadata": {},
   "outputs": [
    {
     "data": {
      "text/plain": [
       "(150, 7)"
      ]
     },
     "execution_count": 41,
     "metadata": {},
     "output_type": "execute_result"
    }
   ],
   "source": [
    "df.shape"
   ]
  },
  {
   "cell_type": "code",
   "execution_count": 42,
   "metadata": {},
   "outputs": [],
   "source": [
    "# df.to_csv('E:/JMAN/fp/DataEngineering/prep/prep_skill.csv')\n",
    "df.to_csv('E:/JMAN/fp/DataEngineering/prep/prep_skill.csv')"
   ]
  },
  {
   "cell_type": "code",
   "execution_count": null,
   "metadata": {},
   "outputs": [],
   "source": []
  }
 ],
 "metadata": {
  "kernelspec": {
   "display_name": "base",
   "language": "python",
   "name": "python3"
  },
  "language_info": {
   "codemirror_mode": {
    "name": "ipython",
    "version": 3
   },
   "file_extension": ".py",
   "mimetype": "text/x-python",
   "name": "python",
   "nbconvert_exporter": "python",
   "pygments_lexer": "ipython3",
   "version": "3.9.7"
  }
 },
 "nbformat": 4,
 "nbformat_minor": 2
}
