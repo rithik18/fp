{
 "cells": [
  {
   "cell_type": "code",
   "execution_count": 1,
   "metadata": {},
   "outputs": [],
   "source": [
    "import pandas as pd"
   ]
  },
  {
   "cell_type": "code",
   "execution_count": 2,
   "metadata": {},
   "outputs": [],
   "source": [
    "# user_csv=pd.read_csv('C:/Users/RithikHarendarMahesh/Desktop/fp/DataEngineering/raw/raw_skills.csv')\n",
    "user_csv=pd.read_csv('E:/JMAN/fp/DataEngineering/raw/raw_skills.csv')"
   ]
  },
  {
   "cell_type": "code",
   "execution_count": 3,
   "metadata": {},
   "outputs": [],
   "source": [
    "df=pd.DataFrame(data=user_csv)"
   ]
  },
  {
   "cell_type": "code",
   "execution_count": 4,
   "metadata": {},
   "outputs": [
    {
     "data": {
      "text/plain": [
       "_id           0\n",
       "name          0\n",
       "created_at    0\n",
       "updated_at    0\n",
       "desc          0\n",
       "dtype: int64"
      ]
     },
     "execution_count": 4,
     "metadata": {},
     "output_type": "execute_result"
    }
   ],
   "source": [
    "df.isnull().sum()"
   ]
  },
  {
   "cell_type": "code",
   "execution_count": 5,
   "metadata": {},
   "outputs": [],
   "source": [
    "df.dropna(inplace=True)"
   ]
  },
  {
   "cell_type": "code",
   "execution_count": 6,
   "metadata": {},
   "outputs": [],
   "source": [
    "df.drop_duplicates(inplace=True)"
   ]
  },
  {
   "cell_type": "code",
   "execution_count": 7,
   "metadata": {},
   "outputs": [
    {
     "data": {
      "text/plain": [
       "_id           object\n",
       "name          object\n",
       "created_at    object\n",
       "updated_at    object\n",
       "desc          object\n",
       "dtype: object"
      ]
     },
     "execution_count": 7,
     "metadata": {},
     "output_type": "execute_result"
    }
   ],
   "source": [
    "df.dtypes"
   ]
  },
  {
   "cell_type": "code",
   "execution_count": 8,
   "metadata": {},
   "outputs": [
    {
     "name": "stdout",
     "output_type": "stream",
     "text": [
      "Original dtypes:\n",
      "_id           object\n",
      "name          object\n",
      "created_at    object\n",
      "updated_at    object\n",
      "desc          object\n",
      "dtype: object\n",
      "\n",
      "Converted dtypes:\n",
      "_id           string\n",
      "name          string\n",
      "created_at    string\n",
      "updated_at    string\n",
      "desc          string\n",
      "dtype: object\n"
     ]
    }
   ],
   "source": [
    "print(\"Original dtypes:\")\n",
    "print(df.dtypes)\n",
    "\n",
    "# Convert dtypes\n",
    "df=df.convert_dtypes()\n",
    "\n",
    "# Check new dtypes\n",
    "print(\"\\nConverted dtypes:\")\n",
    "print(df.convert_dtypes().dtypes)"
   ]
  },
  {
   "cell_type": "code",
   "execution_count": 9,
   "metadata": {},
   "outputs": [],
   "source": [
    "df['created_at'] = [\n",
    "    i.split(\" \")[0] if 'T' not in i else i.split(\"T\")[0] for i in df['created_at']\n",
    "]"
   ]
  },
  {
   "cell_type": "code",
   "execution_count": 10,
   "metadata": {},
   "outputs": [],
   "source": [
    "df['created_at']=pd.to_datetime(df['created_at'])"
   ]
  },
  {
   "cell_type": "code",
   "execution_count": 11,
   "metadata": {},
   "outputs": [],
   "source": [
    "df['updated_at'] = [\n",
    "    i.split(\" \")[0] if 'T' not in i else i.split(\"T\")[0] for i in df['updated_at']\n",
    "]"
   ]
  },
  {
   "cell_type": "code",
   "execution_count": 12,
   "metadata": {},
   "outputs": [],
   "source": [
    "df['updated_at']=pd.to_datetime(df['updated_at'])"
   ]
  },
  {
   "cell_type": "code",
   "execution_count": 13,
   "metadata": {},
   "outputs": [
    {
     "data": {
      "text/plain": [
       "_id                   string\n",
       "name                  string\n",
       "created_at    datetime64[ns]\n",
       "updated_at    datetime64[ns]\n",
       "desc                  string\n",
       "dtype: object"
      ]
     },
     "execution_count": 13,
     "metadata": {},
     "output_type": "execute_result"
    }
   ],
   "source": [
    "df.dtypes"
   ]
  },
  {
   "cell_type": "code",
   "execution_count": 14,
   "metadata": {},
   "outputs": [
    {
     "data": {
      "text/plain": [
       "(115, 5)"
      ]
     },
     "execution_count": 14,
     "metadata": {},
     "output_type": "execute_result"
    }
   ],
   "source": [
    "df.shape"
   ]
  },
  {
   "cell_type": "code",
   "execution_count": 16,
   "metadata": {},
   "outputs": [],
   "source": [
    "user_skills_df=pd.read_csv('E:/JMAN/fp/DataEngineering/prep/prep_user_skill.csv')\n",
    "# user_skills_df=pd.read_csv('C:/Users/RithikHarendarMahesh/Desktop/fp/DataEngineering/prep/prep_user_skill.csv')"
   ]
  },
  {
   "cell_type": "code",
   "execution_count": 17,
   "metadata": {},
   "outputs": [
    {
     "data": {
      "text/plain": [
       "(30004, 7)"
      ]
     },
     "execution_count": 17,
     "metadata": {},
     "output_type": "execute_result"
    }
   ],
   "source": [
    "user_skills_df.shape"
   ]
  },
  {
   "cell_type": "code",
   "execution_count": 18,
   "metadata": {},
   "outputs": [
    {
     "name": "stdout",
     "output_type": "stream",
     "text": [
      "                                  skillId  user_count\n",
      "0    00572a05-abf5-4888-acea-6a58732d107f         301\n",
      "1    022e1aef-26df-439d-b59c-3b0f162c2a64         309\n",
      "2    0830c0ce-958a-4df0-8073-8857d9805530         312\n",
      "3    085a5cd5-fb32-465a-bb00-9cdd65278c97         296\n",
      "4    0b94551b-a857-4c15-8834-7fbb7f87b766         298\n",
      "..                                    ...         ...\n",
      "99   f206899d-4b4f-434e-9e80-adccc3b3b0f8         278\n",
      "100  f23342cb-757b-4719-9c14-13405a9efb93         335\n",
      "101  f286d7a2-7728-41a1-9f77-9230942b8500         284\n",
      "102  f38d0944-88e9-4f35-9e9a-658edf765424         287\n",
      "103  fc819e29-8d7c-44a8-ae38-91dc0a39a0e5         315\n",
      "\n",
      "[104 rows x 2 columns]\n"
     ]
    }
   ],
   "source": [
    "skill_user_count = user_skills_df.groupby('skillId')['userId'].nunique().reset_index(name='user_count')\n",
    "\n",
    "print(skill_user_count)"
   ]
  },
  {
   "cell_type": "code",
   "execution_count": 20,
   "metadata": {},
   "outputs": [
    {
     "data": {
      "text/html": [
       "<div>\n",
       "<style scoped>\n",
       "    .dataframe tbody tr th:only-of-type {\n",
       "        vertical-align: middle;\n",
       "    }\n",
       "\n",
       "    .dataframe tbody tr th {\n",
       "        vertical-align: top;\n",
       "    }\n",
       "\n",
       "    .dataframe thead th {\n",
       "        text-align: right;\n",
       "    }\n",
       "</style>\n",
       "<table border=\"1\" class=\"dataframe\">\n",
       "  <thead>\n",
       "    <tr style=\"text-align: right;\">\n",
       "      <th></th>\n",
       "      <th>_id</th>\n",
       "      <th>name</th>\n",
       "      <th>created_at</th>\n",
       "      <th>updated_at</th>\n",
       "      <th>desc</th>\n",
       "      <th>skillId</th>\n",
       "      <th>user_count</th>\n",
       "    </tr>\n",
       "  </thead>\n",
       "  <tbody>\n",
       "    <tr>\n",
       "      <th>0</th>\n",
       "      <td>66fd116e959f8b790f412908</td>\n",
       "      <td>Database</td>\n",
       "      <td>2024-10-02</td>\n",
       "      <td>2024-10-02</td>\n",
       "      <td>DB</td>\n",
       "      <td>66fd116e959f8b790f412908</td>\n",
       "      <td>1</td>\n",
       "    </tr>\n",
       "    <tr>\n",
       "      <th>1</th>\n",
       "      <td>66fd1190959f8b790f41290a</td>\n",
       "      <td>Data Analysis</td>\n",
       "      <td>2024-10-02</td>\n",
       "      <td>2024-10-02</td>\n",
       "      <td>Data Analysis</td>\n",
       "      <td>66fd1190959f8b790f41290a</td>\n",
       "      <td>1</td>\n",
       "    </tr>\n",
       "    <tr>\n",
       "      <th>2</th>\n",
       "      <td>66fd1200959f8b790f41290f</td>\n",
       "      <td>Data Process</td>\n",
       "      <td>2024-10-02</td>\n",
       "      <td>2024-10-02</td>\n",
       "      <td>Data  processing</td>\n",
       "      <td>66fd1200959f8b790f41290f</td>\n",
       "      <td>1</td>\n",
       "    </tr>\n",
       "    <tr>\n",
       "      <th>3</th>\n",
       "      <td>66ff7be7d1312483599a8dd8</td>\n",
       "      <td>Frontend</td>\n",
       "      <td>2024-10-04</td>\n",
       "      <td>2024-10-04</td>\n",
       "      <td>Frontend</td>\n",
       "      <td>66ff7be7d1312483599a8dd8</td>\n",
       "      <td>1</td>\n",
       "    </tr>\n",
       "    <tr>\n",
       "      <th>4</th>\n",
       "      <td>79e0ecd9-a547-462a-acb5-533722940278</td>\n",
       "      <td>share</td>\n",
       "      <td>2022-11-05</td>\n",
       "      <td>2023-06-24</td>\n",
       "      <td>Where site modern modern.</td>\n",
       "      <td>79e0ecd9-a547-462a-acb5-533722940278</td>\n",
       "      <td>261</td>\n",
       "    </tr>\n",
       "    <tr>\n",
       "      <th>...</th>\n",
       "      <td>...</td>\n",
       "      <td>...</td>\n",
       "      <td>...</td>\n",
       "      <td>...</td>\n",
       "      <td>...</td>\n",
       "      <td>...</td>\n",
       "      <td>...</td>\n",
       "    </tr>\n",
       "    <tr>\n",
       "      <th>99</th>\n",
       "      <td>022e1aef-26df-439d-b59c-3b0f162c2a64</td>\n",
       "      <td>summer</td>\n",
       "      <td>2021-12-29</td>\n",
       "      <td>2022-06-19</td>\n",
       "      <td>Imagine heart specific personal address someth...</td>\n",
       "      <td>022e1aef-26df-439d-b59c-3b0f162c2a64</td>\n",
       "      <td>309</td>\n",
       "    </tr>\n",
       "    <tr>\n",
       "      <th>100</th>\n",
       "      <td>58462e8f-5fc1-4c97-8a74-1b974c825a5d</td>\n",
       "      <td>run</td>\n",
       "      <td>2021-07-14</td>\n",
       "      <td>2022-09-30</td>\n",
       "      <td>Large thought career see find professional edg...</td>\n",
       "      <td>58462e8f-5fc1-4c97-8a74-1b974c825a5d</td>\n",
       "      <td>282</td>\n",
       "    </tr>\n",
       "    <tr>\n",
       "      <th>101</th>\n",
       "      <td>38ca10cd-980d-4494-90a7-780de5b20e30</td>\n",
       "      <td>science</td>\n",
       "      <td>2021-02-24</td>\n",
       "      <td>2021-10-02</td>\n",
       "      <td>Pretty result series save visit understand six...</td>\n",
       "      <td>38ca10cd-980d-4494-90a7-780de5b20e30</td>\n",
       "      <td>346</td>\n",
       "    </tr>\n",
       "    <tr>\n",
       "      <th>102</th>\n",
       "      <td>12519c93-eb5c-4a32-9078-8b5657052517</td>\n",
       "      <td>reach</td>\n",
       "      <td>2020-07-23</td>\n",
       "      <td>2020-12-19</td>\n",
       "      <td>Class work voice.</td>\n",
       "      <td>12519c93-eb5c-4a32-9078-8b5657052517</td>\n",
       "      <td>273</td>\n",
       "    </tr>\n",
       "    <tr>\n",
       "      <th>103</th>\n",
       "      <td>00572a05-abf5-4888-acea-6a58732d107f</td>\n",
       "      <td>arm</td>\n",
       "      <td>2023-12-18</td>\n",
       "      <td>2022-03-16</td>\n",
       "      <td>Trouble plan work today prepare in about indiv...</td>\n",
       "      <td>00572a05-abf5-4888-acea-6a58732d107f</td>\n",
       "      <td>301</td>\n",
       "    </tr>\n",
       "  </tbody>\n",
       "</table>\n",
       "<p>104 rows × 7 columns</p>\n",
       "</div>"
      ],
      "text/plain": [
       "                                      _id           name created_at  \\\n",
       "0                66fd116e959f8b790f412908       Database 2024-10-02   \n",
       "1                66fd1190959f8b790f41290a  Data Analysis 2024-10-02   \n",
       "2                66fd1200959f8b790f41290f   Data Process 2024-10-02   \n",
       "3                66ff7be7d1312483599a8dd8       Frontend 2024-10-04   \n",
       "4    79e0ecd9-a547-462a-acb5-533722940278          share 2022-11-05   \n",
       "..                                    ...            ...        ...   \n",
       "99   022e1aef-26df-439d-b59c-3b0f162c2a64         summer 2021-12-29   \n",
       "100  58462e8f-5fc1-4c97-8a74-1b974c825a5d            run 2021-07-14   \n",
       "101  38ca10cd-980d-4494-90a7-780de5b20e30        science 2021-02-24   \n",
       "102  12519c93-eb5c-4a32-9078-8b5657052517          reach 2020-07-23   \n",
       "103  00572a05-abf5-4888-acea-6a58732d107f            arm 2023-12-18   \n",
       "\n",
       "    updated_at                                               desc  \\\n",
       "0   2024-10-02                                                 DB   \n",
       "1   2024-10-02                                      Data Analysis   \n",
       "2   2024-10-02                                   Data  processing   \n",
       "3   2024-10-04                                           Frontend   \n",
       "4   2023-06-24                          Where site modern modern.   \n",
       "..         ...                                                ...   \n",
       "99  2022-06-19  Imagine heart specific personal address someth...   \n",
       "100 2022-09-30  Large thought career see find professional edg...   \n",
       "101 2021-10-02  Pretty result series save visit understand six...   \n",
       "102 2020-12-19                                  Class work voice.   \n",
       "103 2022-03-16  Trouble plan work today prepare in about indiv...   \n",
       "\n",
       "                                  skillId  user_count  \n",
       "0                66fd116e959f8b790f412908           1  \n",
       "1                66fd1190959f8b790f41290a           1  \n",
       "2                66fd1200959f8b790f41290f           1  \n",
       "3                66ff7be7d1312483599a8dd8           1  \n",
       "4    79e0ecd9-a547-462a-acb5-533722940278         261  \n",
       "..                                    ...         ...  \n",
       "99   022e1aef-26df-439d-b59c-3b0f162c2a64         309  \n",
       "100  58462e8f-5fc1-4c97-8a74-1b974c825a5d         282  \n",
       "101  38ca10cd-980d-4494-90a7-780de5b20e30         346  \n",
       "102  12519c93-eb5c-4a32-9078-8b5657052517         273  \n",
       "103  00572a05-abf5-4888-acea-6a58732d107f         301  \n",
       "\n",
       "[104 rows x 7 columns]"
      ]
     },
     "execution_count": 20,
     "metadata": {},
     "output_type": "execute_result"
    }
   ],
   "source": [
    "merged_df=pd.merge(df,skill_user_count,left_on='_id',right_on='skillId',how='inner')\n",
    "df=merged_df\n",
    "df.isnull().sum()\n",
    "merged_df"
   ]
  },
  {
   "cell_type": "code",
   "execution_count": 21,
   "metadata": {},
   "outputs": [
    {
     "data": {
      "text/plain": [
       "(104, 7)"
      ]
     },
     "execution_count": 21,
     "metadata": {},
     "output_type": "execute_result"
    }
   ],
   "source": [
    "df.shape"
   ]
  },
  {
   "cell_type": "code",
   "execution_count": 23,
   "metadata": {},
   "outputs": [],
   "source": [
    "# df.to_csv('C:/Users/RithikHarendarMahesh/Desktop/fp/DataEngineering/prep/prep_skill.csv')\n",
    "df.to_csv('E:/JMAN/fp/DataEngineering/prep/prep_skill.csv')"
   ]
  },
  {
   "cell_type": "code",
   "execution_count": null,
   "metadata": {},
   "outputs": [],
   "source": []
  }
 ],
 "metadata": {
  "kernelspec": {
   "display_name": "base",
   "language": "python",
   "name": "python3"
  },
  "language_info": {
   "codemirror_mode": {
    "name": "ipython",
    "version": 3
   },
   "file_extension": ".py",
   "mimetype": "text/x-python",
   "name": "python",
   "nbconvert_exporter": "python",
   "pygments_lexer": "ipython3",
   "version": "3.9.7"
  }
 },
 "nbformat": 4,
 "nbformat_minor": 2
}
