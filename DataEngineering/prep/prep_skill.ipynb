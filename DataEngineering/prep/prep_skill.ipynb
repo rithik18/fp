{
 "cells": [
  {
   "cell_type": "code",
   "execution_count": 3,
   "metadata": {},
   "outputs": [],
   "source": [
    "import pandas as pd"
   ]
  },
  {
   "cell_type": "code",
   "execution_count": 4,
   "metadata": {},
   "outputs": [],
   "source": [
    "# user_csv=pd.read_csv('C:/Users/RithikHarendarMahesh/Desktop/fp/DataEngineering/raw/raw_skills.csv')\n",
    "user_csv=pd.read_csv('C:/Users/RithikHarendarMahesh/Desktop/fp/DataEngineering/raw/raw_skills.csv')"
   ]
  },
  {
   "cell_type": "code",
   "execution_count": 5,
   "metadata": {},
   "outputs": [],
   "source": [
    "df=pd.DataFrame(data=user_csv)"
   ]
  },
  {
   "cell_type": "code",
   "execution_count": 6,
   "metadata": {},
   "outputs": [
    {
     "data": {
      "text/plain": [
       "_id           0\n",
       "name          0\n",
       "created_at    0\n",
       "updated_at    0\n",
       "desc          0\n",
       "dtype: int64"
      ]
     },
     "execution_count": 6,
     "metadata": {},
     "output_type": "execute_result"
    }
   ],
   "source": [
    "df.isnull().sum()"
   ]
  },
  {
   "cell_type": "code",
   "execution_count": 7,
   "metadata": {},
   "outputs": [],
   "source": [
    "df.dropna(inplace=True)"
   ]
  },
  {
   "cell_type": "code",
   "execution_count": 8,
   "metadata": {},
   "outputs": [],
   "source": [
    "df.drop_duplicates(inplace=True)"
   ]
  },
  {
   "cell_type": "code",
   "execution_count": 9,
   "metadata": {},
   "outputs": [
    {
     "data": {
      "text/plain": [
       "_id           object\n",
       "name          object\n",
       "created_at    object\n",
       "updated_at    object\n",
       "desc          object\n",
       "dtype: object"
      ]
     },
     "execution_count": 9,
     "metadata": {},
     "output_type": "execute_result"
    }
   ],
   "source": [
    "df.dtypes"
   ]
  },
  {
   "cell_type": "code",
   "execution_count": 10,
   "metadata": {},
   "outputs": [
    {
     "name": "stdout",
     "output_type": "stream",
     "text": [
      "Original dtypes:\n",
      "_id           object\n",
      "name          object\n",
      "created_at    object\n",
      "updated_at    object\n",
      "desc          object\n",
      "dtype: object\n",
      "\n",
      "Converted dtypes:\n",
      "_id           string[python]\n",
      "name          string[python]\n",
      "created_at    string[python]\n",
      "updated_at    string[python]\n",
      "desc          string[python]\n",
      "dtype: object\n"
     ]
    }
   ],
   "source": [
    "print(\"Original dtypes:\")\n",
    "print(df.dtypes)\n",
    "\n",
    "# Convert dtypes\n",
    "df=df.convert_dtypes()\n",
    "\n",
    "# Check new dtypes\n",
    "print(\"\\nConverted dtypes:\")\n",
    "print(df.convert_dtypes().dtypes)"
   ]
  },
  {
   "cell_type": "code",
   "execution_count": 11,
   "metadata": {},
   "outputs": [],
   "source": [
    "df['created_at'] = [\n",
    "    i.split(\" \")[0] if 'T' not in i else i.split(\"T\")[0] for i in df['created_at']\n",
    "]"
   ]
  },
  {
   "cell_type": "code",
   "execution_count": 12,
   "metadata": {},
   "outputs": [],
   "source": [
    "df['created_at']=pd.to_datetime(df['created_at'])"
   ]
  },
  {
   "cell_type": "code",
   "execution_count": 13,
   "metadata": {},
   "outputs": [],
   "source": [
    "df['updated_at'] = [\n",
    "    i.split(\" \")[0] if 'T' not in i else i.split(\"T\")[0] for i in df['updated_at']\n",
    "]"
   ]
  },
  {
   "cell_type": "code",
   "execution_count": 14,
   "metadata": {},
   "outputs": [],
   "source": [
    "df['updated_at']=pd.to_datetime(df['updated_at'])"
   ]
  },
  {
   "cell_type": "code",
   "execution_count": 15,
   "metadata": {},
   "outputs": [
    {
     "data": {
      "text/plain": [
       "_id           string[python]\n",
       "name          string[python]\n",
       "created_at    datetime64[ns]\n",
       "updated_at    datetime64[ns]\n",
       "desc          string[python]\n",
       "dtype: object"
      ]
     },
     "execution_count": 15,
     "metadata": {},
     "output_type": "execute_result"
    }
   ],
   "source": [
    "df.dtypes"
   ]
  },
  {
   "cell_type": "code",
   "execution_count": 16,
   "metadata": {},
   "outputs": [
    {
     "data": {
      "text/plain": [
       "(150, 5)"
      ]
     },
     "execution_count": 16,
     "metadata": {},
     "output_type": "execute_result"
    }
   ],
   "source": [
    "df.shape"
   ]
  },
  {
   "cell_type": "code",
   "execution_count": 17,
   "metadata": {},
   "outputs": [
    {
     "data": {
      "text/html": [
       "<div>\n",
       "<style scoped>\n",
       "    .dataframe tbody tr th:only-of-type {\n",
       "        vertical-align: middle;\n",
       "    }\n",
       "\n",
       "    .dataframe tbody tr th {\n",
       "        vertical-align: top;\n",
       "    }\n",
       "\n",
       "    .dataframe thead th {\n",
       "        text-align: right;\n",
       "    }\n",
       "</style>\n",
       "<table border=\"1\" class=\"dataframe\">\n",
       "  <thead>\n",
       "    <tr style=\"text-align: right;\">\n",
       "      <th></th>\n",
       "      <th>_id</th>\n",
       "      <th>name</th>\n",
       "      <th>created_at</th>\n",
       "      <th>updated_at</th>\n",
       "      <th>desc</th>\n",
       "    </tr>\n",
       "  </thead>\n",
       "  <tbody>\n",
       "    <tr>\n",
       "      <th>0</th>\n",
       "      <td>a4e275cc-e486-4c7c-9f7b-c40d068966f0</td>\n",
       "      <td>Java</td>\n",
       "      <td>2022-06-20</td>\n",
       "      <td>2024-06-28</td>\n",
       "      <td>Java</td>\n",
       "    </tr>\n",
       "    <tr>\n",
       "      <th>1</th>\n",
       "      <td>3d63d298-7c3b-4c64-bc19-dc68acc7e2a4</td>\n",
       "      <td>Python</td>\n",
       "      <td>2024-03-06</td>\n",
       "      <td>2023-08-11</td>\n",
       "      <td>Python</td>\n",
       "    </tr>\n",
       "    <tr>\n",
       "      <th>2</th>\n",
       "      <td>d48397d3-9242-4251-bb47-f5af84fe7a43</td>\n",
       "      <td>C#</td>\n",
       "      <td>2024-02-13</td>\n",
       "      <td>2020-12-13</td>\n",
       "      <td>C#</td>\n",
       "    </tr>\n",
       "    <tr>\n",
       "      <th>3</th>\n",
       "      <td>78c73ebf-f75f-4532-b441-3a7aeabae391</td>\n",
       "      <td>JavaScript</td>\n",
       "      <td>2021-01-22</td>\n",
       "      <td>2022-02-17</td>\n",
       "      <td>JavaScript</td>\n",
       "    </tr>\n",
       "    <tr>\n",
       "      <th>4</th>\n",
       "      <td>1a39e0ee-e002-4c8d-9a8a-11e50c08c8de</td>\n",
       "      <td>React</td>\n",
       "      <td>2020-10-04</td>\n",
       "      <td>2021-03-25</td>\n",
       "      <td>React</td>\n",
       "    </tr>\n",
       "    <tr>\n",
       "      <th>...</th>\n",
       "      <td>...</td>\n",
       "      <td>...</td>\n",
       "      <td>...</td>\n",
       "      <td>...</td>\n",
       "      <td>...</td>\n",
       "    </tr>\n",
       "    <tr>\n",
       "      <th>145</th>\n",
       "      <td>b97c523e-7e88-4ae7-a80b-1d2ea9e3fbd6</td>\n",
       "      <td>Wireframing</td>\n",
       "      <td>2023-05-28</td>\n",
       "      <td>2020-12-06</td>\n",
       "      <td>Wireframing</td>\n",
       "    </tr>\n",
       "    <tr>\n",
       "      <th>146</th>\n",
       "      <td>539d0581-2c41-46a6-856c-63e653be46c1</td>\n",
       "      <td>Market Research</td>\n",
       "      <td>2021-11-14</td>\n",
       "      <td>2022-10-24</td>\n",
       "      <td>Market Research</td>\n",
       "    </tr>\n",
       "    <tr>\n",
       "      <th>147</th>\n",
       "      <td>e00e372b-2f9b-41c8-89a8-17b959f44bfe</td>\n",
       "      <td>Product Lifecycle Management</td>\n",
       "      <td>2021-02-27</td>\n",
       "      <td>2024-09-17</td>\n",
       "      <td>Product Lifecycle Management</td>\n",
       "    </tr>\n",
       "    <tr>\n",
       "      <th>148</th>\n",
       "      <td>66e0a467-79de-452e-a8db-67843e757604</td>\n",
       "      <td>Communication Skills</td>\n",
       "      <td>2021-07-29</td>\n",
       "      <td>2022-05-11</td>\n",
       "      <td>Communication Skills</td>\n",
       "    </tr>\n",
       "    <tr>\n",
       "      <th>149</th>\n",
       "      <td>645b5345-3836-4bc0-b128-36719af48924</td>\n",
       "      <td>Leadership</td>\n",
       "      <td>2021-06-19</td>\n",
       "      <td>2021-06-04</td>\n",
       "      <td>Leadership</td>\n",
       "    </tr>\n",
       "  </tbody>\n",
       "</table>\n",
       "<p>150 rows × 5 columns</p>\n",
       "</div>"
      ],
      "text/plain": [
       "                                      _id                          name  \\\n",
       "0    a4e275cc-e486-4c7c-9f7b-c40d068966f0                          Java   \n",
       "1    3d63d298-7c3b-4c64-bc19-dc68acc7e2a4                        Python   \n",
       "2    d48397d3-9242-4251-bb47-f5af84fe7a43                            C#   \n",
       "3    78c73ebf-f75f-4532-b441-3a7aeabae391                    JavaScript   \n",
       "4    1a39e0ee-e002-4c8d-9a8a-11e50c08c8de                         React   \n",
       "..                                    ...                           ...   \n",
       "145  b97c523e-7e88-4ae7-a80b-1d2ea9e3fbd6                   Wireframing   \n",
       "146  539d0581-2c41-46a6-856c-63e653be46c1               Market Research   \n",
       "147  e00e372b-2f9b-41c8-89a8-17b959f44bfe  Product Lifecycle Management   \n",
       "148  66e0a467-79de-452e-a8db-67843e757604          Communication Skills   \n",
       "149  645b5345-3836-4bc0-b128-36719af48924                    Leadership   \n",
       "\n",
       "    created_at updated_at                          desc  \n",
       "0   2022-06-20 2024-06-28                          Java  \n",
       "1   2024-03-06 2023-08-11                        Python  \n",
       "2   2024-02-13 2020-12-13                            C#  \n",
       "3   2021-01-22 2022-02-17                    JavaScript  \n",
       "4   2020-10-04 2021-03-25                         React  \n",
       "..         ...        ...                           ...  \n",
       "145 2023-05-28 2020-12-06                   Wireframing  \n",
       "146 2021-11-14 2022-10-24               Market Research  \n",
       "147 2021-02-27 2024-09-17  Product Lifecycle Management  \n",
       "148 2021-07-29 2022-05-11          Communication Skills  \n",
       "149 2021-06-19 2021-06-04                    Leadership  \n",
       "\n",
       "[150 rows x 5 columns]"
      ]
     },
     "execution_count": 17,
     "metadata": {},
     "output_type": "execute_result"
    }
   ],
   "source": [
    "df"
   ]
  },
  {
   "cell_type": "code",
   "execution_count": 18,
   "metadata": {},
   "outputs": [],
   "source": [
    "user_skills_df=pd.read_csv('C:/Users/RithikHarendarMahesh/Desktop/fp/DataEngineering/raw/raw_user_skills.csv')\n",
    "# user_skills_df=pd.read_csv('C:/Users/RithikHarendarMahesh/Desktop/fp/DataEngineering/prep/prep_user_skill.csv')"
   ]
  },
  {
   "cell_type": "code",
   "execution_count": 19,
   "metadata": {},
   "outputs": [
    {
     "data": {
      "text/plain": [
       "(300000, 4)"
      ]
     },
     "execution_count": 19,
     "metadata": {},
     "output_type": "execute_result"
    }
   ],
   "source": [
    "user_skills_df.shape"
   ]
  },
  {
   "cell_type": "code",
   "execution_count": 20,
   "metadata": {},
   "outputs": [
    {
     "name": "stdout",
     "output_type": "stream",
     "text": [
      "                                  skillId  user_count\n",
      "0    00c6fb6b-e865-42c5-8783-d6ba919780cd        2002\n",
      "1    028217fd-dba5-48ca-930d-e048fb8dc146        2060\n",
      "2    02da3f8a-8adc-4865-a8ea-fd4431939ded        1988\n",
      "3    039a62d3-b744-4076-8aae-021c79a54bf5        1976\n",
      "4    04d60ecc-aa87-4374-b3b9-f19407c3fc4c        2047\n",
      "..                                    ...         ...\n",
      "145  f84b9a92-df89-4656-bdc1-aeb7676a17cb        1982\n",
      "146  f999b861-0733-4d41-bd1d-483e06a9275f        2024\n",
      "147  f9d2ef90-e607-43b1-87e5-6b2567aebb85        2036\n",
      "148  fe2c67bc-5c10-4e2f-b146-9159ae053339        2029\n",
      "149  ff238a77-5157-426f-9bc2-2962aaf4f5ba        1999\n",
      "\n",
      "[150 rows x 2 columns]\n"
     ]
    }
   ],
   "source": [
    "skill_user_count = user_skills_df.groupby('skillId')['userId'].nunique().reset_index(name='user_count')\n",
    "\n",
    "print(skill_user_count)"
   ]
  },
  {
   "cell_type": "code",
   "execution_count": 21,
   "metadata": {},
   "outputs": [
    {
     "data": {
      "text/html": [
       "<div>\n",
       "<style scoped>\n",
       "    .dataframe tbody tr th:only-of-type {\n",
       "        vertical-align: middle;\n",
       "    }\n",
       "\n",
       "    .dataframe tbody tr th {\n",
       "        vertical-align: top;\n",
       "    }\n",
       "\n",
       "    .dataframe thead th {\n",
       "        text-align: right;\n",
       "    }\n",
       "</style>\n",
       "<table border=\"1\" class=\"dataframe\">\n",
       "  <thead>\n",
       "    <tr style=\"text-align: right;\">\n",
       "      <th></th>\n",
       "      <th>_id</th>\n",
       "      <th>name</th>\n",
       "      <th>created_at</th>\n",
       "      <th>updated_at</th>\n",
       "      <th>desc</th>\n",
       "      <th>skillId</th>\n",
       "      <th>user_count</th>\n",
       "    </tr>\n",
       "  </thead>\n",
       "  <tbody>\n",
       "    <tr>\n",
       "      <th>0</th>\n",
       "      <td>a4e275cc-e486-4c7c-9f7b-c40d068966f0</td>\n",
       "      <td>Java</td>\n",
       "      <td>2022-06-20</td>\n",
       "      <td>2024-06-28</td>\n",
       "      <td>Java</td>\n",
       "      <td>a4e275cc-e486-4c7c-9f7b-c40d068966f0</td>\n",
       "      <td>2013</td>\n",
       "    </tr>\n",
       "    <tr>\n",
       "      <th>1</th>\n",
       "      <td>3d63d298-7c3b-4c64-bc19-dc68acc7e2a4</td>\n",
       "      <td>Python</td>\n",
       "      <td>2024-03-06</td>\n",
       "      <td>2023-08-11</td>\n",
       "      <td>Python</td>\n",
       "      <td>3d63d298-7c3b-4c64-bc19-dc68acc7e2a4</td>\n",
       "      <td>2021</td>\n",
       "    </tr>\n",
       "    <tr>\n",
       "      <th>2</th>\n",
       "      <td>d48397d3-9242-4251-bb47-f5af84fe7a43</td>\n",
       "      <td>C#</td>\n",
       "      <td>2024-02-13</td>\n",
       "      <td>2020-12-13</td>\n",
       "      <td>C#</td>\n",
       "      <td>d48397d3-9242-4251-bb47-f5af84fe7a43</td>\n",
       "      <td>1995</td>\n",
       "    </tr>\n",
       "    <tr>\n",
       "      <th>3</th>\n",
       "      <td>78c73ebf-f75f-4532-b441-3a7aeabae391</td>\n",
       "      <td>JavaScript</td>\n",
       "      <td>2021-01-22</td>\n",
       "      <td>2022-02-17</td>\n",
       "      <td>JavaScript</td>\n",
       "      <td>78c73ebf-f75f-4532-b441-3a7aeabae391</td>\n",
       "      <td>2045</td>\n",
       "    </tr>\n",
       "    <tr>\n",
       "      <th>4</th>\n",
       "      <td>1a39e0ee-e002-4c8d-9a8a-11e50c08c8de</td>\n",
       "      <td>React</td>\n",
       "      <td>2020-10-04</td>\n",
       "      <td>2021-03-25</td>\n",
       "      <td>React</td>\n",
       "      <td>1a39e0ee-e002-4c8d-9a8a-11e50c08c8de</td>\n",
       "      <td>2030</td>\n",
       "    </tr>\n",
       "    <tr>\n",
       "      <th>...</th>\n",
       "      <td>...</td>\n",
       "      <td>...</td>\n",
       "      <td>...</td>\n",
       "      <td>...</td>\n",
       "      <td>...</td>\n",
       "      <td>...</td>\n",
       "      <td>...</td>\n",
       "    </tr>\n",
       "    <tr>\n",
       "      <th>145</th>\n",
       "      <td>b97c523e-7e88-4ae7-a80b-1d2ea9e3fbd6</td>\n",
       "      <td>Wireframing</td>\n",
       "      <td>2023-05-28</td>\n",
       "      <td>2020-12-06</td>\n",
       "      <td>Wireframing</td>\n",
       "      <td>b97c523e-7e88-4ae7-a80b-1d2ea9e3fbd6</td>\n",
       "      <td>1960</td>\n",
       "    </tr>\n",
       "    <tr>\n",
       "      <th>146</th>\n",
       "      <td>539d0581-2c41-46a6-856c-63e653be46c1</td>\n",
       "      <td>Market Research</td>\n",
       "      <td>2021-11-14</td>\n",
       "      <td>2022-10-24</td>\n",
       "      <td>Market Research</td>\n",
       "      <td>539d0581-2c41-46a6-856c-63e653be46c1</td>\n",
       "      <td>1986</td>\n",
       "    </tr>\n",
       "    <tr>\n",
       "      <th>147</th>\n",
       "      <td>e00e372b-2f9b-41c8-89a8-17b959f44bfe</td>\n",
       "      <td>Product Lifecycle Management</td>\n",
       "      <td>2021-02-27</td>\n",
       "      <td>2024-09-17</td>\n",
       "      <td>Product Lifecycle Management</td>\n",
       "      <td>e00e372b-2f9b-41c8-89a8-17b959f44bfe</td>\n",
       "      <td>2025</td>\n",
       "    </tr>\n",
       "    <tr>\n",
       "      <th>148</th>\n",
       "      <td>66e0a467-79de-452e-a8db-67843e757604</td>\n",
       "      <td>Communication Skills</td>\n",
       "      <td>2021-07-29</td>\n",
       "      <td>2022-05-11</td>\n",
       "      <td>Communication Skills</td>\n",
       "      <td>66e0a467-79de-452e-a8db-67843e757604</td>\n",
       "      <td>2081</td>\n",
       "    </tr>\n",
       "    <tr>\n",
       "      <th>149</th>\n",
       "      <td>645b5345-3836-4bc0-b128-36719af48924</td>\n",
       "      <td>Leadership</td>\n",
       "      <td>2021-06-19</td>\n",
       "      <td>2021-06-04</td>\n",
       "      <td>Leadership</td>\n",
       "      <td>645b5345-3836-4bc0-b128-36719af48924</td>\n",
       "      <td>1940</td>\n",
       "    </tr>\n",
       "  </tbody>\n",
       "</table>\n",
       "<p>150 rows × 7 columns</p>\n",
       "</div>"
      ],
      "text/plain": [
       "                                      _id                          name  \\\n",
       "0    a4e275cc-e486-4c7c-9f7b-c40d068966f0                          Java   \n",
       "1    3d63d298-7c3b-4c64-bc19-dc68acc7e2a4                        Python   \n",
       "2    d48397d3-9242-4251-bb47-f5af84fe7a43                            C#   \n",
       "3    78c73ebf-f75f-4532-b441-3a7aeabae391                    JavaScript   \n",
       "4    1a39e0ee-e002-4c8d-9a8a-11e50c08c8de                         React   \n",
       "..                                    ...                           ...   \n",
       "145  b97c523e-7e88-4ae7-a80b-1d2ea9e3fbd6                   Wireframing   \n",
       "146  539d0581-2c41-46a6-856c-63e653be46c1               Market Research   \n",
       "147  e00e372b-2f9b-41c8-89a8-17b959f44bfe  Product Lifecycle Management   \n",
       "148  66e0a467-79de-452e-a8db-67843e757604          Communication Skills   \n",
       "149  645b5345-3836-4bc0-b128-36719af48924                    Leadership   \n",
       "\n",
       "    created_at updated_at                          desc  \\\n",
       "0   2022-06-20 2024-06-28                          Java   \n",
       "1   2024-03-06 2023-08-11                        Python   \n",
       "2   2024-02-13 2020-12-13                            C#   \n",
       "3   2021-01-22 2022-02-17                    JavaScript   \n",
       "4   2020-10-04 2021-03-25                         React   \n",
       "..         ...        ...                           ...   \n",
       "145 2023-05-28 2020-12-06                   Wireframing   \n",
       "146 2021-11-14 2022-10-24               Market Research   \n",
       "147 2021-02-27 2024-09-17  Product Lifecycle Management   \n",
       "148 2021-07-29 2022-05-11          Communication Skills   \n",
       "149 2021-06-19 2021-06-04                    Leadership   \n",
       "\n",
       "                                  skillId  user_count  \n",
       "0    a4e275cc-e486-4c7c-9f7b-c40d068966f0        2013  \n",
       "1    3d63d298-7c3b-4c64-bc19-dc68acc7e2a4        2021  \n",
       "2    d48397d3-9242-4251-bb47-f5af84fe7a43        1995  \n",
       "3    78c73ebf-f75f-4532-b441-3a7aeabae391        2045  \n",
       "4    1a39e0ee-e002-4c8d-9a8a-11e50c08c8de        2030  \n",
       "..                                    ...         ...  \n",
       "145  b97c523e-7e88-4ae7-a80b-1d2ea9e3fbd6        1960  \n",
       "146  539d0581-2c41-46a6-856c-63e653be46c1        1986  \n",
       "147  e00e372b-2f9b-41c8-89a8-17b959f44bfe        2025  \n",
       "148  66e0a467-79de-452e-a8db-67843e757604        2081  \n",
       "149  645b5345-3836-4bc0-b128-36719af48924        1940  \n",
       "\n",
       "[150 rows x 7 columns]"
      ]
     },
     "execution_count": 21,
     "metadata": {},
     "output_type": "execute_result"
    }
   ],
   "source": [
    "merged_df=pd.merge(df,skill_user_count,left_on='_id',right_on='skillId',how='inner')\n",
    "df=merged_df\n",
    "df.isnull().sum()\n",
    "merged_df"
   ]
  },
  {
   "cell_type": "code",
   "execution_count": 22,
   "metadata": {},
   "outputs": [
    {
     "data": {
      "text/plain": [
       "(150, 7)"
      ]
     },
     "execution_count": 22,
     "metadata": {},
     "output_type": "execute_result"
    }
   ],
   "source": [
    "df.shape"
   ]
  },
  {
   "cell_type": "code",
   "execution_count": 23,
   "metadata": {},
   "outputs": [],
   "source": [
    "# df.to_csv('C:/Users/RithikHarendarMahesh/Desktop/fp/DataEngineering/prep/prep_skill.csv')\n",
    "df.to_csv('C:/Users/RithikHarendarMahesh/Desktop/fp/DataEngineering/prep/prep_skill.csv')"
   ]
  },
  {
   "cell_type": "code",
   "execution_count": null,
   "metadata": {},
   "outputs": [],
   "source": []
  }
 ],
 "metadata": {
  "kernelspec": {
   "display_name": "base",
   "language": "python",
   "name": "python3"
  },
  "language_info": {
   "codemirror_mode": {
    "name": "ipython",
    "version": 3
   },
   "file_extension": ".py",
   "mimetype": "text/x-python",
   "name": "python",
   "nbconvert_exporter": "python",
   "pygments_lexer": "ipython3",
   "version": "3.12.4"
  }
 },
 "nbformat": 4,
 "nbformat_minor": 2
}
