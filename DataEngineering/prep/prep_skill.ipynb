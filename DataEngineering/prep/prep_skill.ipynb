{
 "cells": [
  {
   "cell_type": "code",
   "execution_count": 1,
   "metadata": {},
   "outputs": [],
   "source": [
    "import pandas as pd"
   ]
  },
  {
   "cell_type": "code",
   "execution_count": 2,
   "metadata": {},
   "outputs": [],
   "source": [
    "# user_csv=pd.read_csv('E:/JMAN/fp/DataEngineering/raw/raw_skills.csv')\n",
    "user_csv=pd.read_csv('E:/JMAN/fp/DataEngineering/raw/raw_skills.csv')"
   ]
  },
  {
   "cell_type": "code",
   "execution_count": 3,
   "metadata": {},
   "outputs": [],
   "source": [
    "df=pd.DataFrame(data=user_csv)"
   ]
  },
  {
   "cell_type": "code",
   "execution_count": 4,
   "metadata": {},
   "outputs": [
    {
     "data": {
      "text/plain": [
       "_id           0\n",
       "name          0\n",
       "created_at    0\n",
       "updated_at    0\n",
       "desc          0\n",
       "dtype: int64"
      ]
     },
     "execution_count": 4,
     "metadata": {},
     "output_type": "execute_result"
    }
   ],
   "source": [
    "df.isnull().sum()"
   ]
  },
  {
   "cell_type": "code",
   "execution_count": 5,
   "metadata": {},
   "outputs": [],
   "source": [
    "df.dropna(inplace=True)"
   ]
  },
  {
   "cell_type": "code",
   "execution_count": 6,
   "metadata": {},
   "outputs": [],
   "source": [
    "df.drop_duplicates(inplace=True)"
   ]
  },
  {
   "cell_type": "code",
   "execution_count": 7,
   "metadata": {},
   "outputs": [
    {
     "data": {
      "text/plain": [
       "_id           object\n",
       "name          object\n",
       "created_at    object\n",
       "updated_at    object\n",
       "desc          object\n",
       "dtype: object"
      ]
     },
     "execution_count": 7,
     "metadata": {},
     "output_type": "execute_result"
    }
   ],
   "source": [
    "df.dtypes"
   ]
  },
  {
   "cell_type": "code",
   "execution_count": 8,
   "metadata": {},
   "outputs": [
    {
     "name": "stdout",
     "output_type": "stream",
     "text": [
      "Original dtypes:\n",
      "_id           object\n",
      "name          object\n",
      "created_at    object\n",
      "updated_at    object\n",
      "desc          object\n",
      "dtype: object\n",
      "\n",
      "Converted dtypes:\n",
      "_id           string\n",
      "name          string\n",
      "created_at    string\n",
      "updated_at    string\n",
      "desc          string\n",
      "dtype: object\n"
     ]
    }
   ],
   "source": [
    "print(\"Original dtypes:\")\n",
    "print(df.dtypes)\n",
    "\n",
    "# Convert dtypes\n",
    "df=df.convert_dtypes()\n",
    "\n",
    "# Check new dtypes\n",
    "print(\"\\nConverted dtypes:\")\n",
    "print(df.convert_dtypes().dtypes)"
   ]
  },
  {
   "cell_type": "code",
   "execution_count": 9,
   "metadata": {},
   "outputs": [],
   "source": [
    "df['created_at'] = [\n",
    "    i.split(\" \")[0] if 'T' not in i else i.split(\"T\")[0] for i in df['created_at']\n",
    "]"
   ]
  },
  {
   "cell_type": "code",
   "execution_count": 10,
   "metadata": {},
   "outputs": [],
   "source": [
    "df['created_at']=pd.to_datetime(df['created_at'])"
   ]
  },
  {
   "cell_type": "code",
   "execution_count": 11,
   "metadata": {},
   "outputs": [],
   "source": [
    "df['updated_at'] = [\n",
    "    i.split(\" \")[0] if 'T' not in i else i.split(\"T\")[0] for i in df['updated_at']\n",
    "]"
   ]
  },
  {
   "cell_type": "code",
   "execution_count": 12,
   "metadata": {},
   "outputs": [],
   "source": [
    "df['updated_at']=pd.to_datetime(df['updated_at'])"
   ]
  },
  {
   "cell_type": "code",
   "execution_count": 13,
   "metadata": {},
   "outputs": [
    {
     "data": {
      "text/plain": [
       "_id                   string\n",
       "name                  string\n",
       "created_at    datetime64[ns]\n",
       "updated_at    datetime64[ns]\n",
       "desc                  string\n",
       "dtype: object"
      ]
     },
     "execution_count": 13,
     "metadata": {},
     "output_type": "execute_result"
    }
   ],
   "source": [
    "df.dtypes"
   ]
  },
  {
   "cell_type": "code",
   "execution_count": 14,
   "metadata": {},
   "outputs": [
    {
     "data": {
      "text/plain": [
       "(90, 5)"
      ]
     },
     "execution_count": 14,
     "metadata": {},
     "output_type": "execute_result"
    }
   ],
   "source": [
    "df.shape"
   ]
  },
  {
   "cell_type": "code",
   "execution_count": 15,
   "metadata": {},
   "outputs": [
    {
     "data": {
      "text/html": [
       "<div>\n",
       "<style scoped>\n",
       "    .dataframe tbody tr th:only-of-type {\n",
       "        vertical-align: middle;\n",
       "    }\n",
       "\n",
       "    .dataframe tbody tr th {\n",
       "        vertical-align: top;\n",
       "    }\n",
       "\n",
       "    .dataframe thead th {\n",
       "        text-align: right;\n",
       "    }\n",
       "</style>\n",
       "<table border=\"1\" class=\"dataframe\">\n",
       "  <thead>\n",
       "    <tr style=\"text-align: right;\">\n",
       "      <th></th>\n",
       "      <th>_id</th>\n",
       "      <th>name</th>\n",
       "      <th>created_at</th>\n",
       "      <th>updated_at</th>\n",
       "      <th>desc</th>\n",
       "    </tr>\n",
       "  </thead>\n",
       "  <tbody>\n",
       "    <tr>\n",
       "      <th>0</th>\n",
       "      <td>b2780056-9703-4c9a-91a2-f0a14dcac2a6</td>\n",
       "      <td>Java</td>\n",
       "      <td>2023-02-01</td>\n",
       "      <td>2021-12-12</td>\n",
       "      <td>Java</td>\n",
       "    </tr>\n",
       "    <tr>\n",
       "      <th>1</th>\n",
       "      <td>733b90fc-9f19-4a81-bcf2-6250b683fc02</td>\n",
       "      <td>Python</td>\n",
       "      <td>2023-08-05</td>\n",
       "      <td>2022-06-20</td>\n",
       "      <td>Python</td>\n",
       "    </tr>\n",
       "    <tr>\n",
       "      <th>2</th>\n",
       "      <td>f619c86e-f085-480f-978a-d86b945455a3</td>\n",
       "      <td>C#</td>\n",
       "      <td>2020-04-25</td>\n",
       "      <td>2020-08-15</td>\n",
       "      <td>C#</td>\n",
       "    </tr>\n",
       "    <tr>\n",
       "      <th>3</th>\n",
       "      <td>014e1698-6d93-4bfb-a835-b77ad2271f08</td>\n",
       "      <td>JavaScript</td>\n",
       "      <td>2021-11-24</td>\n",
       "      <td>2023-08-15</td>\n",
       "      <td>JavaScript</td>\n",
       "    </tr>\n",
       "    <tr>\n",
       "      <th>4</th>\n",
       "      <td>273d1c01-d465-4814-9406-443a480674d1</td>\n",
       "      <td>React</td>\n",
       "      <td>2021-09-07</td>\n",
       "      <td>2024-08-12</td>\n",
       "      <td>React</td>\n",
       "    </tr>\n",
       "    <tr>\n",
       "      <th>...</th>\n",
       "      <td>...</td>\n",
       "      <td>...</td>\n",
       "      <td>...</td>\n",
       "      <td>...</td>\n",
       "      <td>...</td>\n",
       "    </tr>\n",
       "    <tr>\n",
       "      <th>85</th>\n",
       "      <td>7a94ab57-2691-4627-87f9-f807128b3446</td>\n",
       "      <td>Research Skills</td>\n",
       "      <td>2022-04-29</td>\n",
       "      <td>2024-01-11</td>\n",
       "      <td>Research Skills</td>\n",
       "    </tr>\n",
       "    <tr>\n",
       "      <th>86</th>\n",
       "      <td>99392fbf-2619-4ab7-ab37-1afa98a79267</td>\n",
       "      <td>Agile Methodologies</td>\n",
       "      <td>2021-11-22</td>\n",
       "      <td>2021-03-20</td>\n",
       "      <td>Agile Methodologies</td>\n",
       "    </tr>\n",
       "    <tr>\n",
       "      <th>87</th>\n",
       "      <td>a600dbca-ebd8-4d6b-a7cd-0599566468ba</td>\n",
       "      <td>Communication Skills</td>\n",
       "      <td>2021-12-12</td>\n",
       "      <td>2023-09-20</td>\n",
       "      <td>Communication Skills</td>\n",
       "    </tr>\n",
       "    <tr>\n",
       "      <th>88</th>\n",
       "      <td>68dbb4cd-04eb-4015-9436-92dd21c7cd98</td>\n",
       "      <td>User Documentation</td>\n",
       "      <td>2023-10-19</td>\n",
       "      <td>2021-09-05</td>\n",
       "      <td>User Documentation</td>\n",
       "    </tr>\n",
       "    <tr>\n",
       "      <th>89</th>\n",
       "      <td>967c94ea-b037-4a5d-9218-74e28ab6da18</td>\n",
       "      <td>Graphic Design</td>\n",
       "      <td>2022-04-09</td>\n",
       "      <td>2021-05-15</td>\n",
       "      <td>Graphic Design</td>\n",
       "    </tr>\n",
       "  </tbody>\n",
       "</table>\n",
       "<p>90 rows × 5 columns</p>\n",
       "</div>"
      ],
      "text/plain": [
       "                                     _id                  name created_at  \\\n",
       "0   b2780056-9703-4c9a-91a2-f0a14dcac2a6                  Java 2023-02-01   \n",
       "1   733b90fc-9f19-4a81-bcf2-6250b683fc02                Python 2023-08-05   \n",
       "2   f619c86e-f085-480f-978a-d86b945455a3                    C# 2020-04-25   \n",
       "3   014e1698-6d93-4bfb-a835-b77ad2271f08            JavaScript 2021-11-24   \n",
       "4   273d1c01-d465-4814-9406-443a480674d1                 React 2021-09-07   \n",
       "..                                   ...                   ...        ...   \n",
       "85  7a94ab57-2691-4627-87f9-f807128b3446       Research Skills 2022-04-29   \n",
       "86  99392fbf-2619-4ab7-ab37-1afa98a79267   Agile Methodologies 2021-11-22   \n",
       "87  a600dbca-ebd8-4d6b-a7cd-0599566468ba  Communication Skills 2021-12-12   \n",
       "88  68dbb4cd-04eb-4015-9436-92dd21c7cd98    User Documentation 2023-10-19   \n",
       "89  967c94ea-b037-4a5d-9218-74e28ab6da18        Graphic Design 2022-04-09   \n",
       "\n",
       "   updated_at                  desc  \n",
       "0  2021-12-12                  Java  \n",
       "1  2022-06-20                Python  \n",
       "2  2020-08-15                    C#  \n",
       "3  2023-08-15            JavaScript  \n",
       "4  2024-08-12                 React  \n",
       "..        ...                   ...  \n",
       "85 2024-01-11       Research Skills  \n",
       "86 2021-03-20   Agile Methodologies  \n",
       "87 2023-09-20  Communication Skills  \n",
       "88 2021-09-05    User Documentation  \n",
       "89 2021-05-15        Graphic Design  \n",
       "\n",
       "[90 rows x 5 columns]"
      ]
     },
     "execution_count": 15,
     "metadata": {},
     "output_type": "execute_result"
    }
   ],
   "source": [
    "df"
   ]
  },
  {
   "cell_type": "code",
   "execution_count": 16,
   "metadata": {},
   "outputs": [],
   "source": [
    "user_skills_df=pd.read_csv('E:/JMAN/fp/DataEngineering/raw/raw_user_skills.csv')\n",
    "# user_skills_df=pd.read_csv('E:/JMAN/fp/DataEngineering/prep/prep_user_skill.csv')"
   ]
  },
  {
   "cell_type": "code",
   "execution_count": 17,
   "metadata": {},
   "outputs": [
    {
     "data": {
      "text/plain": [
       "(300000, 4)"
      ]
     },
     "execution_count": 17,
     "metadata": {},
     "output_type": "execute_result"
    }
   ],
   "source": [
    "user_skills_df.shape"
   ]
  },
  {
   "cell_type": "code",
   "execution_count": 18,
   "metadata": {},
   "outputs": [
    {
     "name": "stdout",
     "output_type": "stream",
     "text": [
      "                                 skillId  user_count\n",
      "0   014e1698-6d93-4bfb-a835-b77ad2271f08        3295\n",
      "1   018701c7-53ed-4cf8-ac07-91f637c01fd5        3358\n",
      "2   053f8377-0495-492c-b66b-4b589e587014        3335\n",
      "3   076f37f0-58ce-4f15-b4d7-e7c7086ee2c1        3339\n",
      "4   0a66070c-3dd4-431a-825b-bf8ca733b8ac        3386\n",
      "..                                   ...         ...\n",
      "85  f619c86e-f085-480f-978a-d86b945455a3        3360\n",
      "86  f682ace9-6274-4dfa-9dc5-1f5a7a78650f        3318\n",
      "87  fb7f2d22-829b-48e2-b531-8ceb2ca2eb94        3373\n",
      "88  fcb9e387-5ac1-43ab-a127-3e77fe185269        3286\n",
      "89  fe362873-26a1-43db-ba7b-df874cbb4257        3274\n",
      "\n",
      "[90 rows x 2 columns]\n"
     ]
    }
   ],
   "source": [
    "skill_user_count = user_skills_df.groupby('skillId')['userId'].nunique().reset_index(name='user_count')\n",
    "\n",
    "print(skill_user_count)"
   ]
  },
  {
   "cell_type": "code",
   "execution_count": 19,
   "metadata": {},
   "outputs": [
    {
     "data": {
      "text/html": [
       "<div>\n",
       "<style scoped>\n",
       "    .dataframe tbody tr th:only-of-type {\n",
       "        vertical-align: middle;\n",
       "    }\n",
       "\n",
       "    .dataframe tbody tr th {\n",
       "        vertical-align: top;\n",
       "    }\n",
       "\n",
       "    .dataframe thead th {\n",
       "        text-align: right;\n",
       "    }\n",
       "</style>\n",
       "<table border=\"1\" class=\"dataframe\">\n",
       "  <thead>\n",
       "    <tr style=\"text-align: right;\">\n",
       "      <th></th>\n",
       "      <th>_id</th>\n",
       "      <th>name</th>\n",
       "      <th>created_at</th>\n",
       "      <th>updated_at</th>\n",
       "      <th>desc</th>\n",
       "      <th>skillId</th>\n",
       "      <th>user_count</th>\n",
       "    </tr>\n",
       "  </thead>\n",
       "  <tbody>\n",
       "    <tr>\n",
       "      <th>0</th>\n",
       "      <td>b2780056-9703-4c9a-91a2-f0a14dcac2a6</td>\n",
       "      <td>Java</td>\n",
       "      <td>2023-02-01</td>\n",
       "      <td>2021-12-12</td>\n",
       "      <td>Java</td>\n",
       "      <td>b2780056-9703-4c9a-91a2-f0a14dcac2a6</td>\n",
       "      <td>3280</td>\n",
       "    </tr>\n",
       "    <tr>\n",
       "      <th>1</th>\n",
       "      <td>733b90fc-9f19-4a81-bcf2-6250b683fc02</td>\n",
       "      <td>Python</td>\n",
       "      <td>2023-08-05</td>\n",
       "      <td>2022-06-20</td>\n",
       "      <td>Python</td>\n",
       "      <td>733b90fc-9f19-4a81-bcf2-6250b683fc02</td>\n",
       "      <td>3287</td>\n",
       "    </tr>\n",
       "    <tr>\n",
       "      <th>2</th>\n",
       "      <td>f619c86e-f085-480f-978a-d86b945455a3</td>\n",
       "      <td>C#</td>\n",
       "      <td>2020-04-25</td>\n",
       "      <td>2020-08-15</td>\n",
       "      <td>C#</td>\n",
       "      <td>f619c86e-f085-480f-978a-d86b945455a3</td>\n",
       "      <td>3360</td>\n",
       "    </tr>\n",
       "    <tr>\n",
       "      <th>3</th>\n",
       "      <td>014e1698-6d93-4bfb-a835-b77ad2271f08</td>\n",
       "      <td>JavaScript</td>\n",
       "      <td>2021-11-24</td>\n",
       "      <td>2023-08-15</td>\n",
       "      <td>JavaScript</td>\n",
       "      <td>014e1698-6d93-4bfb-a835-b77ad2271f08</td>\n",
       "      <td>3295</td>\n",
       "    </tr>\n",
       "    <tr>\n",
       "      <th>4</th>\n",
       "      <td>273d1c01-d465-4814-9406-443a480674d1</td>\n",
       "      <td>React</td>\n",
       "      <td>2021-09-07</td>\n",
       "      <td>2024-08-12</td>\n",
       "      <td>React</td>\n",
       "      <td>273d1c01-d465-4814-9406-443a480674d1</td>\n",
       "      <td>3368</td>\n",
       "    </tr>\n",
       "    <tr>\n",
       "      <th>...</th>\n",
       "      <td>...</td>\n",
       "      <td>...</td>\n",
       "      <td>...</td>\n",
       "      <td>...</td>\n",
       "      <td>...</td>\n",
       "      <td>...</td>\n",
       "      <td>...</td>\n",
       "    </tr>\n",
       "    <tr>\n",
       "      <th>85</th>\n",
       "      <td>7a94ab57-2691-4627-87f9-f807128b3446</td>\n",
       "      <td>Research Skills</td>\n",
       "      <td>2022-04-29</td>\n",
       "      <td>2024-01-11</td>\n",
       "      <td>Research Skills</td>\n",
       "      <td>7a94ab57-2691-4627-87f9-f807128b3446</td>\n",
       "      <td>3284</td>\n",
       "    </tr>\n",
       "    <tr>\n",
       "      <th>86</th>\n",
       "      <td>99392fbf-2619-4ab7-ab37-1afa98a79267</td>\n",
       "      <td>Agile Methodologies</td>\n",
       "      <td>2021-11-22</td>\n",
       "      <td>2021-03-20</td>\n",
       "      <td>Agile Methodologies</td>\n",
       "      <td>99392fbf-2619-4ab7-ab37-1afa98a79267</td>\n",
       "      <td>3305</td>\n",
       "    </tr>\n",
       "    <tr>\n",
       "      <th>87</th>\n",
       "      <td>a600dbca-ebd8-4d6b-a7cd-0599566468ba</td>\n",
       "      <td>Communication Skills</td>\n",
       "      <td>2021-12-12</td>\n",
       "      <td>2023-09-20</td>\n",
       "      <td>Communication Skills</td>\n",
       "      <td>a600dbca-ebd8-4d6b-a7cd-0599566468ba</td>\n",
       "      <td>3385</td>\n",
       "    </tr>\n",
       "    <tr>\n",
       "      <th>88</th>\n",
       "      <td>68dbb4cd-04eb-4015-9436-92dd21c7cd98</td>\n",
       "      <td>User Documentation</td>\n",
       "      <td>2023-10-19</td>\n",
       "      <td>2021-09-05</td>\n",
       "      <td>User Documentation</td>\n",
       "      <td>68dbb4cd-04eb-4015-9436-92dd21c7cd98</td>\n",
       "      <td>3307</td>\n",
       "    </tr>\n",
       "    <tr>\n",
       "      <th>89</th>\n",
       "      <td>967c94ea-b037-4a5d-9218-74e28ab6da18</td>\n",
       "      <td>Graphic Design</td>\n",
       "      <td>2022-04-09</td>\n",
       "      <td>2021-05-15</td>\n",
       "      <td>Graphic Design</td>\n",
       "      <td>967c94ea-b037-4a5d-9218-74e28ab6da18</td>\n",
       "      <td>3309</td>\n",
       "    </tr>\n",
       "  </tbody>\n",
       "</table>\n",
       "<p>90 rows × 7 columns</p>\n",
       "</div>"
      ],
      "text/plain": [
       "                                     _id                  name created_at  \\\n",
       "0   b2780056-9703-4c9a-91a2-f0a14dcac2a6                  Java 2023-02-01   \n",
       "1   733b90fc-9f19-4a81-bcf2-6250b683fc02                Python 2023-08-05   \n",
       "2   f619c86e-f085-480f-978a-d86b945455a3                    C# 2020-04-25   \n",
       "3   014e1698-6d93-4bfb-a835-b77ad2271f08            JavaScript 2021-11-24   \n",
       "4   273d1c01-d465-4814-9406-443a480674d1                 React 2021-09-07   \n",
       "..                                   ...                   ...        ...   \n",
       "85  7a94ab57-2691-4627-87f9-f807128b3446       Research Skills 2022-04-29   \n",
       "86  99392fbf-2619-4ab7-ab37-1afa98a79267   Agile Methodologies 2021-11-22   \n",
       "87  a600dbca-ebd8-4d6b-a7cd-0599566468ba  Communication Skills 2021-12-12   \n",
       "88  68dbb4cd-04eb-4015-9436-92dd21c7cd98    User Documentation 2023-10-19   \n",
       "89  967c94ea-b037-4a5d-9218-74e28ab6da18        Graphic Design 2022-04-09   \n",
       "\n",
       "   updated_at                  desc                               skillId  \\\n",
       "0  2021-12-12                  Java  b2780056-9703-4c9a-91a2-f0a14dcac2a6   \n",
       "1  2022-06-20                Python  733b90fc-9f19-4a81-bcf2-6250b683fc02   \n",
       "2  2020-08-15                    C#  f619c86e-f085-480f-978a-d86b945455a3   \n",
       "3  2023-08-15            JavaScript  014e1698-6d93-4bfb-a835-b77ad2271f08   \n",
       "4  2024-08-12                 React  273d1c01-d465-4814-9406-443a480674d1   \n",
       "..        ...                   ...                                   ...   \n",
       "85 2024-01-11       Research Skills  7a94ab57-2691-4627-87f9-f807128b3446   \n",
       "86 2021-03-20   Agile Methodologies  99392fbf-2619-4ab7-ab37-1afa98a79267   \n",
       "87 2023-09-20  Communication Skills  a600dbca-ebd8-4d6b-a7cd-0599566468ba   \n",
       "88 2021-09-05    User Documentation  68dbb4cd-04eb-4015-9436-92dd21c7cd98   \n",
       "89 2021-05-15        Graphic Design  967c94ea-b037-4a5d-9218-74e28ab6da18   \n",
       "\n",
       "    user_count  \n",
       "0         3280  \n",
       "1         3287  \n",
       "2         3360  \n",
       "3         3295  \n",
       "4         3368  \n",
       "..         ...  \n",
       "85        3284  \n",
       "86        3305  \n",
       "87        3385  \n",
       "88        3307  \n",
       "89        3309  \n",
       "\n",
       "[90 rows x 7 columns]"
      ]
     },
     "execution_count": 19,
     "metadata": {},
     "output_type": "execute_result"
    }
   ],
   "source": [
    "merged_df=pd.merge(df,skill_user_count,left_on='_id',right_on='skillId',how='inner')\n",
    "df=merged_df\n",
    "df.isnull().sum()\n",
    "merged_df"
   ]
  },
  {
   "cell_type": "code",
   "execution_count": 20,
   "metadata": {},
   "outputs": [
    {
     "data": {
      "text/plain": [
       "(90, 7)"
      ]
     },
     "execution_count": 20,
     "metadata": {},
     "output_type": "execute_result"
    }
   ],
   "source": [
    "df.shape"
   ]
  },
  {
   "cell_type": "code",
   "execution_count": 21,
   "metadata": {},
   "outputs": [],
   "source": [
    "# df.to_csv('E:/JMAN/fp/DataEngineering/prep/prep_skill.csv')\n",
    "df.to_csv('E:/JMAN/fp/DataEngineering/prep/prep_skill.csv')"
   ]
  },
  {
   "cell_type": "code",
   "execution_count": null,
   "metadata": {},
   "outputs": [],
   "source": []
  }
 ],
 "metadata": {
  "kernelspec": {
   "display_name": "base",
   "language": "python",
   "name": "python3"
  },
  "language_info": {
   "codemirror_mode": {
    "name": "ipython",
    "version": 3
   },
   "file_extension": ".py",
   "mimetype": "text/x-python",
   "name": "python",
   "nbconvert_exporter": "python",
   "pygments_lexer": "ipython3",
   "version": "3.9.7"
  }
 },
 "nbformat": 4,
 "nbformat_minor": 2
}
