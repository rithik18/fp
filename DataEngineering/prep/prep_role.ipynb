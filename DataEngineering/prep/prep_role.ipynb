{
 "cells": [
  {
   "cell_type": "code",
   "execution_count": 149,
   "metadata": {},
   "outputs": [],
   "source": [
    "import pandas as pd"
   ]
  },
  {
   "cell_type": "code",
   "execution_count": 150,
   "metadata": {},
   "outputs": [],
   "source": [
    "user_csv=pd.read_csv('E:/JMAN/fp/DataEngineering/raw/raw_roles.csv')"
   ]
  },
  {
   "cell_type": "code",
   "execution_count": 151,
   "metadata": {},
   "outputs": [],
   "source": [
    "df=pd.DataFrame(data=user_csv)"
   ]
  },
  {
   "cell_type": "code",
   "execution_count": 152,
   "metadata": {},
   "outputs": [
    {
     "data": {
      "text/plain": [
       "_id           0\n",
       "name          0\n",
       "desc          0\n",
       "created_at    0\n",
       "updated_at    0\n",
       "dtype: int64"
      ]
     },
     "execution_count": 152,
     "metadata": {},
     "output_type": "execute_result"
    }
   ],
   "source": [
    "df.isnull().sum()"
   ]
  },
  {
   "cell_type": "code",
   "execution_count": 153,
   "metadata": {},
   "outputs": [
    {
     "data": {
      "text/html": [
       "<div>\n",
       "<style scoped>\n",
       "    .dataframe tbody tr th:only-of-type {\n",
       "        vertical-align: middle;\n",
       "    }\n",
       "\n",
       "    .dataframe tbody tr th {\n",
       "        vertical-align: top;\n",
       "    }\n",
       "\n",
       "    .dataframe thead th {\n",
       "        text-align: right;\n",
       "    }\n",
       "</style>\n",
       "<table border=\"1\" class=\"dataframe\">\n",
       "  <thead>\n",
       "    <tr style=\"text-align: right;\">\n",
       "      <th></th>\n",
       "      <th>_id</th>\n",
       "      <th>name</th>\n",
       "      <th>desc</th>\n",
       "      <th>created_at</th>\n",
       "      <th>updated_at</th>\n",
       "    </tr>\n",
       "  </thead>\n",
       "  <tbody>\n",
       "    <tr>\n",
       "      <th>0</th>\n",
       "      <td>a20d6246-3283-473d-a52e-5cabbdf6abbd</td>\n",
       "      <td>Software Engineer</td>\n",
       "      <td>Street challenge collection approach kitchen a...</td>\n",
       "      <td>2020-03-08T03:51:57</td>\n",
       "      <td>2020-09-27T23:08:02</td>\n",
       "    </tr>\n",
       "    <tr>\n",
       "      <th>1</th>\n",
       "      <td>fdd4e01c-ba6e-4c5e-803a-056a1da12c5d</td>\n",
       "      <td>Data Scientist</td>\n",
       "      <td>Writer among technology administration.</td>\n",
       "      <td>2023-12-13T07:59:00</td>\n",
       "      <td>2020-12-01T01:28:28</td>\n",
       "    </tr>\n",
       "    <tr>\n",
       "      <th>2</th>\n",
       "      <td>1fa20db4-cf8a-46e5-aba7-45de907a06e8</td>\n",
       "      <td>DevOps Engineer</td>\n",
       "      <td>People high race agreement officer with field.</td>\n",
       "      <td>2020-05-05T14:05:42</td>\n",
       "      <td>2024-05-19T13:39:00</td>\n",
       "    </tr>\n",
       "    <tr>\n",
       "      <th>3</th>\n",
       "      <td>f72ec459-f376-4e10-b7c3-b4ab387b7109</td>\n",
       "      <td>Frontend Developer</td>\n",
       "      <td>Beyond wife value already.</td>\n",
       "      <td>2022-10-19T11:26:17</td>\n",
       "      <td>2021-12-18T01:05:04</td>\n",
       "    </tr>\n",
       "    <tr>\n",
       "      <th>4</th>\n",
       "      <td>d5071e6b-f7cc-4d33-b40a-d7ad9afc2504</td>\n",
       "      <td>Backend Developer</td>\n",
       "      <td>Especially take within list contain foreign ap...</td>\n",
       "      <td>2024-05-28T10:14:03</td>\n",
       "      <td>2021-04-23T08:21:22</td>\n",
       "    </tr>\n",
       "    <tr>\n",
       "      <th>5</th>\n",
       "      <td>05b1c93d-ec4c-4290-ae91-9eb4da5680b0</td>\n",
       "      <td>Full Stack Developer</td>\n",
       "      <td>Leave participant strong dog.</td>\n",
       "      <td>2020-01-23T21:18:33</td>\n",
       "      <td>2022-02-24T01:58:47</td>\n",
       "    </tr>\n",
       "    <tr>\n",
       "      <th>6</th>\n",
       "      <td>08d528ea-0cda-4bf6-b4b2-b423a59c1b4e</td>\n",
       "      <td>Data Analyst</td>\n",
       "      <td>Them also month your.</td>\n",
       "      <td>2021-12-04T16:14:09</td>\n",
       "      <td>2021-06-27T23:34:57</td>\n",
       "    </tr>\n",
       "    <tr>\n",
       "      <th>7</th>\n",
       "      <td>ba184a03-28da-415b-b005-3a75f7e1bc87</td>\n",
       "      <td>Cybersecurity Analyst</td>\n",
       "      <td>Million quality talk energy thing behind.</td>\n",
       "      <td>2024-01-23T22:43:45</td>\n",
       "      <td>2020-01-18T04:18:21</td>\n",
       "    </tr>\n",
       "    <tr>\n",
       "      <th>8</th>\n",
       "      <td>c6ab4ce4-1bf9-46fa-be79-db147b641fa1</td>\n",
       "      <td>Machine Learning Engineer</td>\n",
       "      <td>Space follow notice.</td>\n",
       "      <td>2023-04-24T12:40:34</td>\n",
       "      <td>2021-12-26T01:15:05</td>\n",
       "    </tr>\n",
       "    <tr>\n",
       "      <th>9</th>\n",
       "      <td>a0feede4-8411-42e5-9d0c-ee1cd6e2bfd9</td>\n",
       "      <td>Cloud Engineer</td>\n",
       "      <td>Music student defense hot relationship.</td>\n",
       "      <td>2022-08-02T09:24:38</td>\n",
       "      <td>2024-04-29T17:19:16</td>\n",
       "    </tr>\n",
       "    <tr>\n",
       "      <th>10</th>\n",
       "      <td>b16ac891-33d1-465a-ad60-5673ebf36ed5</td>\n",
       "      <td>UX/UI Designer</td>\n",
       "      <td>Specific they themselves arrive consider.</td>\n",
       "      <td>2021-12-14T10:02:44</td>\n",
       "      <td>2023-10-06T17:38:41</td>\n",
       "    </tr>\n",
       "    <tr>\n",
       "      <th>11</th>\n",
       "      <td>63eee1b7-bf3a-4ac5-ab18-ae3dee14b84a</td>\n",
       "      <td>Product Manager</td>\n",
       "      <td>Including story sell.</td>\n",
       "      <td>2022-06-05T07:24:07</td>\n",
       "      <td>2024-05-02T19:56:49</td>\n",
       "    </tr>\n",
       "    <tr>\n",
       "      <th>12</th>\n",
       "      <td>cd19c072-4a6d-47c0-a3d9-3627ca2ee111</td>\n",
       "      <td>Business Analyst</td>\n",
       "      <td>Wait heavy senior of.</td>\n",
       "      <td>2021-04-24T12:45:43</td>\n",
       "      <td>2021-04-27T11:43:06</td>\n",
       "    </tr>\n",
       "    <tr>\n",
       "      <th>13</th>\n",
       "      <td>efdd32cc-d901-4d04-b6af-1d48ec8b9e94</td>\n",
       "      <td>Quality Assurance Engineer</td>\n",
       "      <td>Them whatever she reduce idea former.</td>\n",
       "      <td>2020-07-17T02:21:31</td>\n",
       "      <td>2024-02-09T17:53:09</td>\n",
       "    </tr>\n",
       "    <tr>\n",
       "      <th>14</th>\n",
       "      <td>72868372-bdef-4907-8489-6edc76e168f3</td>\n",
       "      <td>Technical Writer</td>\n",
       "      <td>Add site nor before would focus research.</td>\n",
       "      <td>2023-10-07T10:27:51</td>\n",
       "      <td>2021-04-12T03:29:14</td>\n",
       "    </tr>\n",
       "  </tbody>\n",
       "</table>\n",
       "</div>"
      ],
      "text/plain": [
       "                                     _id                        name  \\\n",
       "0   a20d6246-3283-473d-a52e-5cabbdf6abbd           Software Engineer   \n",
       "1   fdd4e01c-ba6e-4c5e-803a-056a1da12c5d              Data Scientist   \n",
       "2   1fa20db4-cf8a-46e5-aba7-45de907a06e8             DevOps Engineer   \n",
       "3   f72ec459-f376-4e10-b7c3-b4ab387b7109          Frontend Developer   \n",
       "4   d5071e6b-f7cc-4d33-b40a-d7ad9afc2504           Backend Developer   \n",
       "5   05b1c93d-ec4c-4290-ae91-9eb4da5680b0        Full Stack Developer   \n",
       "6   08d528ea-0cda-4bf6-b4b2-b423a59c1b4e                Data Analyst   \n",
       "7   ba184a03-28da-415b-b005-3a75f7e1bc87       Cybersecurity Analyst   \n",
       "8   c6ab4ce4-1bf9-46fa-be79-db147b641fa1   Machine Learning Engineer   \n",
       "9   a0feede4-8411-42e5-9d0c-ee1cd6e2bfd9              Cloud Engineer   \n",
       "10  b16ac891-33d1-465a-ad60-5673ebf36ed5              UX/UI Designer   \n",
       "11  63eee1b7-bf3a-4ac5-ab18-ae3dee14b84a             Product Manager   \n",
       "12  cd19c072-4a6d-47c0-a3d9-3627ca2ee111            Business Analyst   \n",
       "13  efdd32cc-d901-4d04-b6af-1d48ec8b9e94  Quality Assurance Engineer   \n",
       "14  72868372-bdef-4907-8489-6edc76e168f3            Technical Writer   \n",
       "\n",
       "                                                 desc           created_at  \\\n",
       "0   Street challenge collection approach kitchen a...  2020-03-08T03:51:57   \n",
       "1             Writer among technology administration.  2023-12-13T07:59:00   \n",
       "2      People high race agreement officer with field.  2020-05-05T14:05:42   \n",
       "3                          Beyond wife value already.  2022-10-19T11:26:17   \n",
       "4   Especially take within list contain foreign ap...  2024-05-28T10:14:03   \n",
       "5                       Leave participant strong dog.  2020-01-23T21:18:33   \n",
       "6                               Them also month your.  2021-12-04T16:14:09   \n",
       "7           Million quality talk energy thing behind.  2024-01-23T22:43:45   \n",
       "8                                Space follow notice.  2023-04-24T12:40:34   \n",
       "9             Music student defense hot relationship.  2022-08-02T09:24:38   \n",
       "10          Specific they themselves arrive consider.  2021-12-14T10:02:44   \n",
       "11                              Including story sell.  2022-06-05T07:24:07   \n",
       "12                              Wait heavy senior of.  2021-04-24T12:45:43   \n",
       "13              Them whatever she reduce idea former.  2020-07-17T02:21:31   \n",
       "14          Add site nor before would focus research.  2023-10-07T10:27:51   \n",
       "\n",
       "             updated_at  \n",
       "0   2020-09-27T23:08:02  \n",
       "1   2020-12-01T01:28:28  \n",
       "2   2024-05-19T13:39:00  \n",
       "3   2021-12-18T01:05:04  \n",
       "4   2021-04-23T08:21:22  \n",
       "5   2022-02-24T01:58:47  \n",
       "6   2021-06-27T23:34:57  \n",
       "7   2020-01-18T04:18:21  \n",
       "8   2021-12-26T01:15:05  \n",
       "9   2024-04-29T17:19:16  \n",
       "10  2023-10-06T17:38:41  \n",
       "11  2024-05-02T19:56:49  \n",
       "12  2021-04-27T11:43:06  \n",
       "13  2024-02-09T17:53:09  \n",
       "14  2021-04-12T03:29:14  "
      ]
     },
     "execution_count": 153,
     "metadata": {},
     "output_type": "execute_result"
    }
   ],
   "source": [
    "df"
   ]
  },
  {
   "cell_type": "code",
   "execution_count": 126,
   "metadata": {},
   "outputs": [],
   "source": [
    "df.dropna(inplace=True)"
   ]
  },
  {
   "cell_type": "code",
   "execution_count": 127,
   "metadata": {},
   "outputs": [],
   "source": [
    "df.drop_duplicates(inplace=True)"
   ]
  },
  {
   "cell_type": "code",
   "execution_count": 128,
   "metadata": {},
   "outputs": [
    {
     "data": {
      "text/plain": [
       "_id           object\n",
       "name          object\n",
       "desc          object\n",
       "created_at    object\n",
       "updated_at    object\n",
       "dtype: object"
      ]
     },
     "execution_count": 128,
     "metadata": {},
     "output_type": "execute_result"
    }
   ],
   "source": [
    "df.dtypes"
   ]
  },
  {
   "cell_type": "code",
   "execution_count": 129,
   "metadata": {},
   "outputs": [
    {
     "name": "stdout",
     "output_type": "stream",
     "text": [
      "Original dtypes:\n",
      "_id           object\n",
      "name          object\n",
      "desc          object\n",
      "created_at    object\n",
      "updated_at    object\n",
      "dtype: object\n",
      "\n",
      "Converted dtypes:\n",
      "_id           string\n",
      "name          string\n",
      "desc          string\n",
      "created_at    string\n",
      "updated_at    string\n",
      "dtype: object\n"
     ]
    }
   ],
   "source": [
    "print(\"Original dtypes:\")\n",
    "print(df.dtypes)\n",
    "\n",
    "# Convert dtypes\n",
    "df=df.convert_dtypes()\n",
    "\n",
    "# Check new dtypes\n",
    "print(\"\\nConverted dtypes:\")\n",
    "print(df.convert_dtypes().dtypes)"
   ]
  },
  {
   "cell_type": "code",
   "execution_count": 130,
   "metadata": {},
   "outputs": [],
   "source": [
    "df['created_at'] = [\n",
    "    i.split(\" \")[0] if 'T' not in i else i.split(\"T\")[0] for i in df['created_at']\n",
    "]"
   ]
  },
  {
   "cell_type": "code",
   "execution_count": 131,
   "metadata": {},
   "outputs": [],
   "source": [
    "df['created_at']=pd.to_datetime(df['created_at'])"
   ]
  },
  {
   "cell_type": "code",
   "execution_count": 132,
   "metadata": {},
   "outputs": [],
   "source": [
    "df['updated_at'] = [\n",
    "    i.split(\" \")[0] if 'T' not in i else i.split(\"T\")[0] for i in df['updated_at']\n",
    "]"
   ]
  },
  {
   "cell_type": "code",
   "execution_count": 133,
   "metadata": {},
   "outputs": [],
   "source": [
    "df['updated_at']=pd.to_datetime(df['updated_at'])"
   ]
  },
  {
   "cell_type": "code",
   "execution_count": 134,
   "metadata": {},
   "outputs": [
    {
     "data": {
      "text/plain": [
       "_id                   string\n",
       "name                  string\n",
       "desc                  string\n",
       "created_at    datetime64[ns]\n",
       "updated_at    datetime64[ns]\n",
       "dtype: object"
      ]
     },
     "execution_count": 134,
     "metadata": {},
     "output_type": "execute_result"
    }
   ],
   "source": [
    "df.dtypes"
   ]
  },
  {
   "cell_type": "code",
   "execution_count": 135,
   "metadata": {},
   "outputs": [],
   "source": [
    "user_skills_df=pd.read_csv('E:/JMAN/fp/DataEngineering/prep/prep_user.csv')"
   ]
  },
  {
   "cell_type": "code",
   "execution_count": 136,
   "metadata": {},
   "outputs": [
    {
     "data": {
      "text/plain": [
       "Unnamed: 0        0\n",
       "userId            0\n",
       "total_duration    0\n",
       "count             0\n",
       "_id               0\n",
       "name              0\n",
       "role_id           0\n",
       "joining_date      0\n",
       "department        0\n",
       "mail              0\n",
       "created_at        0\n",
       "updated_at        0\n",
       "password          0\n",
       "profileImage      0\n",
       "role_name         0\n",
       "dtype: int64"
      ]
     },
     "execution_count": 136,
     "metadata": {},
     "output_type": "execute_result"
    }
   ],
   "source": [
    "user_skills_df.isnull().sum()"
   ]
  },
  {
   "cell_type": "code",
   "execution_count": 137,
   "metadata": {},
   "outputs": [
    {
     "name": "stdout",
     "output_type": "stream",
     "text": [
      "                                 role_id  user_count\n",
      "0   05b1c93d-ec4c-4290-ae91-9eb4da5680b0        2000\n",
      "1   08d528ea-0cda-4bf6-b4b2-b423a59c1b4e        2000\n",
      "2   1fa20db4-cf8a-46e5-aba7-45de907a06e8        2000\n",
      "3   63eee1b7-bf3a-4ac5-ab18-ae3dee14b84a        2000\n",
      "4   72868372-bdef-4907-8489-6edc76e168f3        2000\n",
      "5   a0feede4-8411-42e5-9d0c-ee1cd6e2bfd9        2000\n",
      "6   a20d6246-3283-473d-a52e-5cabbdf6abbd        2000\n",
      "7   b16ac891-33d1-465a-ad60-5673ebf36ed5        2000\n",
      "8   ba184a03-28da-415b-b005-3a75f7e1bc87        2000\n",
      "9   c6ab4ce4-1bf9-46fa-be79-db147b641fa1        2000\n",
      "10  cd19c072-4a6d-47c0-a3d9-3627ca2ee111        2000\n",
      "11  d5071e6b-f7cc-4d33-b40a-d7ad9afc2504        2000\n",
      "12  efdd32cc-d901-4d04-b6af-1d48ec8b9e94        2000\n",
      "13  f72ec459-f376-4e10-b7c3-b4ab387b7109        2000\n",
      "14  fdd4e01c-ba6e-4c5e-803a-056a1da12c5d        2000\n"
     ]
    },
    {
     "data": {
      "text/plain": [
       "role_id       0\n",
       "user_count    0\n",
       "dtype: int64"
      ]
     },
     "execution_count": 137,
     "metadata": {},
     "output_type": "execute_result"
    }
   ],
   "source": [
    "skill_user_count = user_skills_df.groupby('role_id')['userId'].nunique().reset_index(name='user_count')\n",
    "\n",
    "print(skill_user_count)\n",
    "skill_user_count.isnull().sum()"
   ]
  },
  {
   "cell_type": "code",
   "execution_count": 138,
   "metadata": {},
   "outputs": [
    {
     "data": {
      "text/plain": [
       "_id           0\n",
       "name          0\n",
       "desc          0\n",
       "created_at    0\n",
       "updated_at    0\n",
       "dtype: int64"
      ]
     },
     "execution_count": 138,
     "metadata": {},
     "output_type": "execute_result"
    }
   ],
   "source": [
    "df.isnull().sum()"
   ]
  },
  {
   "cell_type": "code",
   "execution_count": 139,
   "metadata": {},
   "outputs": [
    {
     "name": "stdout",
     "output_type": "stream",
     "text": [
      "(15, 7)\n"
     ]
    },
    {
     "data": {
      "text/plain": [
       "_id           0\n",
       "name          0\n",
       "desc          0\n",
       "created_at    0\n",
       "updated_at    0\n",
       "role_id       0\n",
       "user_count    0\n",
       "dtype: int64"
      ]
     },
     "execution_count": 139,
     "metadata": {},
     "output_type": "execute_result"
    }
   ],
   "source": [
    "merged_df=df.merge(skill_user_count,left_on='_id',right_on='role_id',how='inner')\n",
    "print(merged_df.shape)\n",
    "merged_df.isnull().sum()"
   ]
  },
  {
   "cell_type": "code",
   "execution_count": 140,
   "metadata": {},
   "outputs": [],
   "source": [
    "role_skills_df=pd.read_csv('E:/JMAN/fp/DataEngineering/raw/raw_role_skills.csv')"
   ]
  },
  {
   "cell_type": "code",
   "execution_count": 141,
   "metadata": {},
   "outputs": [
    {
     "data": {
      "text/plain": [
       "roleId     0\n",
       "skillId    0\n",
       "name       0\n",
       "dtype: int64"
      ]
     },
     "execution_count": 141,
     "metadata": {},
     "output_type": "execute_result"
    }
   ],
   "source": [
    "role_skills_df.isnull().sum()"
   ]
  },
  {
   "cell_type": "code",
   "execution_count": 142,
   "metadata": {},
   "outputs": [
    {
     "data": {
      "text/plain": [
       "(90, 3)"
      ]
     },
     "execution_count": 142,
     "metadata": {},
     "output_type": "execute_result"
    }
   ],
   "source": [
    "role_skills_df.shape"
   ]
  },
  {
   "cell_type": "code",
   "execution_count": 148,
   "metadata": {},
   "outputs": [
    {
     "name": "stdout",
     "output_type": "stream",
     "text": [
      "(9, 2)\n"
     ]
    },
    {
     "data": {
      "text/plain": [
       "roleId         0\n",
       "skill_count    0\n",
       "dtype: int64"
      ]
     },
     "execution_count": 148,
     "metadata": {},
     "output_type": "execute_result"
    }
   ],
   "source": [
    "skill_role_count = role_skills_df.groupby('roleId')['skillId'].nunique().reset_index(name='skill_count')\n",
    "\n",
    "print(skill_role_count.shape)\n",
    "skill_role_count.isnull().sum()\n",
    "skill_role_count"
   ]
  },
  {
   "cell_type": "code",
   "execution_count": 144,
   "metadata": {},
   "outputs": [
    {
     "data": {
      "text/plain": [
       "(roleId        0\n",
       " user_count    0\n",
       " dtype: int64,\n",
       " (9, 2))"
      ]
     },
     "execution_count": 144,
     "metadata": {},
     "output_type": "execute_result"
    }
   ],
   "source": [
    "skill_role_count.isnull().sum(),skill_role_count.shape"
   ]
  },
  {
   "cell_type": "code",
   "execution_count": 145,
   "metadata": {},
   "outputs": [
    {
     "data": {
      "text/plain": [
       "_id           0\n",
       "name          0\n",
       "desc          0\n",
       "created_at    0\n",
       "updated_at    0\n",
       "dtype: int64"
      ]
     },
     "execution_count": 145,
     "metadata": {},
     "output_type": "execute_result"
    }
   ],
   "source": [
    "df.isnull().sum()"
   ]
  },
  {
   "cell_type": "code",
   "execution_count": 146,
   "metadata": {},
   "outputs": [
    {
     "data": {
      "text/plain": [
       "(0, 7)"
      ]
     },
     "execution_count": 146,
     "metadata": {},
     "output_type": "execute_result"
    }
   ],
   "source": [
    "merged_df=df.merge(skill_role_count,left_on='_id',right_on='roleId',how='inner')\n",
    "df=merged_df\n",
    "df.shape"
   ]
  },
  {
   "cell_type": "code",
   "execution_count": 147,
   "metadata": {},
   "outputs": [],
   "source": [
    "df.to_csv('E:/JMAN/fp/DataEngineering/prep/prep_role.csv')"
   ]
  },
  {
   "cell_type": "code",
   "execution_count": null,
   "metadata": {},
   "outputs": [],
   "source": []
  }
 ],
 "metadata": {
  "kernelspec": {
   "display_name": "base",
   "language": "python",
   "name": "python3"
  },
  "language_info": {
   "codemirror_mode": {
    "name": "ipython",
    "version": 3
   },
   "file_extension": ".py",
   "mimetype": "text/x-python",
   "name": "python",
   "nbconvert_exporter": "python",
   "pygments_lexer": "ipython3",
   "version": "3.9.7"
  }
 },
 "nbformat": 4,
 "nbformat_minor": 2
}
