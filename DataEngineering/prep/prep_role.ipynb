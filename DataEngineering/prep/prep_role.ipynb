{
 "cells": [
  {
   "cell_type": "code",
   "execution_count": 154,
   "metadata": {},
   "outputs": [],
   "source": [
    "import pandas as pd"
   ]
  },
  {
   "cell_type": "code",
   "execution_count": 155,
   "metadata": {},
   "outputs": [],
   "source": [
    "user_csv=pd.read_csv('E:/JMAN/fp/DataEngineering/raw/raw_roles.csv')"
   ]
  },
  {
   "cell_type": "code",
   "execution_count": 156,
   "metadata": {},
   "outputs": [],
   "source": [
    "df=pd.DataFrame(data=user_csv)"
   ]
  },
  {
   "cell_type": "code",
   "execution_count": 157,
   "metadata": {},
   "outputs": [
    {
     "data": {
      "text/plain": [
       "_id           0\n",
       "name          0\n",
       "desc          0\n",
       "created_at    0\n",
       "updated_at    0\n",
       "dtype: int64"
      ]
     },
     "execution_count": 157,
     "metadata": {},
     "output_type": "execute_result"
    }
   ],
   "source": [
    "df.isnull().sum()"
   ]
  },
  {
   "cell_type": "code",
   "execution_count": 158,
   "metadata": {},
   "outputs": [
    {
     "data": {
      "text/html": [
       "<div>\n",
       "<style scoped>\n",
       "    .dataframe tbody tr th:only-of-type {\n",
       "        vertical-align: middle;\n",
       "    }\n",
       "\n",
       "    .dataframe tbody tr th {\n",
       "        vertical-align: top;\n",
       "    }\n",
       "\n",
       "    .dataframe thead th {\n",
       "        text-align: right;\n",
       "    }\n",
       "</style>\n",
       "<table border=\"1\" class=\"dataframe\">\n",
       "  <thead>\n",
       "    <tr style=\"text-align: right;\">\n",
       "      <th></th>\n",
       "      <th>_id</th>\n",
       "      <th>name</th>\n",
       "      <th>desc</th>\n",
       "      <th>created_at</th>\n",
       "      <th>updated_at</th>\n",
       "    </tr>\n",
       "  </thead>\n",
       "  <tbody>\n",
       "    <tr>\n",
       "      <th>0</th>\n",
       "      <td>4a7cdfaf-b436-46e2-a8a2-5dc4835d40b9</td>\n",
       "      <td>Software Engineer</td>\n",
       "      <td>Him matter fall.</td>\n",
       "      <td>2022-06-04T02:15:22</td>\n",
       "      <td>2023-07-07T17:06:31</td>\n",
       "    </tr>\n",
       "    <tr>\n",
       "      <th>1</th>\n",
       "      <td>1a52dd70-8466-4e47-8600-1677136f4fec</td>\n",
       "      <td>Data Scientist</td>\n",
       "      <td>Record data never raise feel.</td>\n",
       "      <td>2022-07-29T10:40:10</td>\n",
       "      <td>2021-12-10T11:39:08</td>\n",
       "    </tr>\n",
       "    <tr>\n",
       "      <th>2</th>\n",
       "      <td>e35f4200-b9f8-44c1-b417-09d833a343d9</td>\n",
       "      <td>DevOps Engineer</td>\n",
       "      <td>Republican almost hospital size sport.</td>\n",
       "      <td>2021-05-05T07:52:21</td>\n",
       "      <td>2024-08-18T07:32:57</td>\n",
       "    </tr>\n",
       "    <tr>\n",
       "      <th>3</th>\n",
       "      <td>c581ca4e-3b3e-47fe-b1c1-ac3dcaf75783</td>\n",
       "      <td>Frontend Developer</td>\n",
       "      <td>End measure town mention design at by.</td>\n",
       "      <td>2024-08-08T09:31:26</td>\n",
       "      <td>2021-10-09T05:53:29</td>\n",
       "    </tr>\n",
       "    <tr>\n",
       "      <th>4</th>\n",
       "      <td>196c18a9-4aef-4755-a3ee-4b6f418c71e3</td>\n",
       "      <td>Backend Developer</td>\n",
       "      <td>These federal box ok enter adult.</td>\n",
       "      <td>2023-02-20T05:58:51</td>\n",
       "      <td>2024-06-09T12:38:28</td>\n",
       "    </tr>\n",
       "    <tr>\n",
       "      <th>5</th>\n",
       "      <td>791867b5-ae38-44aa-b2b0-c258b4f25afb</td>\n",
       "      <td>Full Stack Developer</td>\n",
       "      <td>Chair these her out adult nature.</td>\n",
       "      <td>2024-10-03T05:54:11</td>\n",
       "      <td>2022-12-06T07:28:58</td>\n",
       "    </tr>\n",
       "    <tr>\n",
       "      <th>6</th>\n",
       "      <td>83f4c079-c440-4fa4-b5f5-a75d22347cc4</td>\n",
       "      <td>Data Analyst</td>\n",
       "      <td>Those will community fall today.</td>\n",
       "      <td>2020-05-16T23:17:05</td>\n",
       "      <td>2020-06-13T15:28:19</td>\n",
       "    </tr>\n",
       "    <tr>\n",
       "      <th>7</th>\n",
       "      <td>2ff032a8-e315-4073-afa5-9906c87db625</td>\n",
       "      <td>Cybersecurity Analyst</td>\n",
       "      <td>Pressure loss arrive.</td>\n",
       "      <td>2022-02-13T07:30:59</td>\n",
       "      <td>2022-10-21T01:24:23</td>\n",
       "    </tr>\n",
       "    <tr>\n",
       "      <th>8</th>\n",
       "      <td>d70499b1-0629-47f6-ad56-cd859093daf9</td>\n",
       "      <td>Machine Learning Engineer</td>\n",
       "      <td>Stop hotel hard business practice answer civil...</td>\n",
       "      <td>2022-12-07T21:12:50</td>\n",
       "      <td>2021-03-21T23:01:40</td>\n",
       "    </tr>\n",
       "    <tr>\n",
       "      <th>9</th>\n",
       "      <td>ccb4b4f9-80cb-4f1b-9ae8-f16d9da11659</td>\n",
       "      <td>Cloud Engineer</td>\n",
       "      <td>Some born sound article sport face.</td>\n",
       "      <td>2020-07-10T14:24:40</td>\n",
       "      <td>2020-01-21T17:06:16</td>\n",
       "    </tr>\n",
       "    <tr>\n",
       "      <th>10</th>\n",
       "      <td>4e0c4606-0668-4356-bb17-e3b13140c28e</td>\n",
       "      <td>UX/UI Designer</td>\n",
       "      <td>Agent response heart product pattern.</td>\n",
       "      <td>2021-07-12T04:54:44</td>\n",
       "      <td>2024-02-02T16:52:10</td>\n",
       "    </tr>\n",
       "    <tr>\n",
       "      <th>11</th>\n",
       "      <td>7b9c2b3e-e21e-463b-83c5-04e5cc2e720d</td>\n",
       "      <td>Product Manager</td>\n",
       "      <td>Hope wish dinner range.</td>\n",
       "      <td>2021-01-06T11:27:27</td>\n",
       "      <td>2022-01-02T18:34:14</td>\n",
       "    </tr>\n",
       "    <tr>\n",
       "      <th>12</th>\n",
       "      <td>9cfc890c-5d4f-414a-9de6-6b411d75624a</td>\n",
       "      <td>Business Analyst</td>\n",
       "      <td>May land church president whether career.</td>\n",
       "      <td>2022-07-14T21:17:56</td>\n",
       "      <td>2020-02-17T06:06:32</td>\n",
       "    </tr>\n",
       "    <tr>\n",
       "      <th>13</th>\n",
       "      <td>73f8078d-03a9-46a9-a5cb-efabc4099cd3</td>\n",
       "      <td>Quality Assurance Engineer</td>\n",
       "      <td>Upon entire couple result.</td>\n",
       "      <td>2021-11-24T15:46:36</td>\n",
       "      <td>2022-07-08T04:12:18</td>\n",
       "    </tr>\n",
       "    <tr>\n",
       "      <th>14</th>\n",
       "      <td>663c1743-1dc9-4c1a-8200-701078aefaf8</td>\n",
       "      <td>Technical Writer</td>\n",
       "      <td>Central give too down cell feeling.</td>\n",
       "      <td>2020-10-08T18:37:49</td>\n",
       "      <td>2022-08-25T05:33:07</td>\n",
       "    </tr>\n",
       "  </tbody>\n",
       "</table>\n",
       "</div>"
      ],
      "text/plain": [
       "                                     _id                        name  \\\n",
       "0   4a7cdfaf-b436-46e2-a8a2-5dc4835d40b9           Software Engineer   \n",
       "1   1a52dd70-8466-4e47-8600-1677136f4fec              Data Scientist   \n",
       "2   e35f4200-b9f8-44c1-b417-09d833a343d9             DevOps Engineer   \n",
       "3   c581ca4e-3b3e-47fe-b1c1-ac3dcaf75783          Frontend Developer   \n",
       "4   196c18a9-4aef-4755-a3ee-4b6f418c71e3           Backend Developer   \n",
       "5   791867b5-ae38-44aa-b2b0-c258b4f25afb        Full Stack Developer   \n",
       "6   83f4c079-c440-4fa4-b5f5-a75d22347cc4                Data Analyst   \n",
       "7   2ff032a8-e315-4073-afa5-9906c87db625       Cybersecurity Analyst   \n",
       "8   d70499b1-0629-47f6-ad56-cd859093daf9   Machine Learning Engineer   \n",
       "9   ccb4b4f9-80cb-4f1b-9ae8-f16d9da11659              Cloud Engineer   \n",
       "10  4e0c4606-0668-4356-bb17-e3b13140c28e              UX/UI Designer   \n",
       "11  7b9c2b3e-e21e-463b-83c5-04e5cc2e720d             Product Manager   \n",
       "12  9cfc890c-5d4f-414a-9de6-6b411d75624a            Business Analyst   \n",
       "13  73f8078d-03a9-46a9-a5cb-efabc4099cd3  Quality Assurance Engineer   \n",
       "14  663c1743-1dc9-4c1a-8200-701078aefaf8            Technical Writer   \n",
       "\n",
       "                                                 desc           created_at  \\\n",
       "0                                    Him matter fall.  2022-06-04T02:15:22   \n",
       "1                       Record data never raise feel.  2022-07-29T10:40:10   \n",
       "2              Republican almost hospital size sport.  2021-05-05T07:52:21   \n",
       "3              End measure town mention design at by.  2024-08-08T09:31:26   \n",
       "4                   These federal box ok enter adult.  2023-02-20T05:58:51   \n",
       "5                   Chair these her out adult nature.  2024-10-03T05:54:11   \n",
       "6                    Those will community fall today.  2020-05-16T23:17:05   \n",
       "7                               Pressure loss arrive.  2022-02-13T07:30:59   \n",
       "8   Stop hotel hard business practice answer civil...  2022-12-07T21:12:50   \n",
       "9                 Some born sound article sport face.  2020-07-10T14:24:40   \n",
       "10              Agent response heart product pattern.  2021-07-12T04:54:44   \n",
       "11                            Hope wish dinner range.  2021-01-06T11:27:27   \n",
       "12          May land church president whether career.  2022-07-14T21:17:56   \n",
       "13                         Upon entire couple result.  2021-11-24T15:46:36   \n",
       "14                Central give too down cell feeling.  2020-10-08T18:37:49   \n",
       "\n",
       "             updated_at  \n",
       "0   2023-07-07T17:06:31  \n",
       "1   2021-12-10T11:39:08  \n",
       "2   2024-08-18T07:32:57  \n",
       "3   2021-10-09T05:53:29  \n",
       "4   2024-06-09T12:38:28  \n",
       "5   2022-12-06T07:28:58  \n",
       "6   2020-06-13T15:28:19  \n",
       "7   2022-10-21T01:24:23  \n",
       "8   2021-03-21T23:01:40  \n",
       "9   2020-01-21T17:06:16  \n",
       "10  2024-02-02T16:52:10  \n",
       "11  2022-01-02T18:34:14  \n",
       "12  2020-02-17T06:06:32  \n",
       "13  2022-07-08T04:12:18  \n",
       "14  2022-08-25T05:33:07  "
      ]
     },
     "execution_count": 158,
     "metadata": {},
     "output_type": "execute_result"
    }
   ],
   "source": [
    "df"
   ]
  },
  {
   "cell_type": "code",
   "execution_count": 159,
   "metadata": {},
   "outputs": [],
   "source": [
    "df.dropna(inplace=True)"
   ]
  },
  {
   "cell_type": "code",
   "execution_count": 160,
   "metadata": {},
   "outputs": [],
   "source": [
    "df.drop_duplicates(inplace=True)"
   ]
  },
  {
   "cell_type": "code",
   "execution_count": 161,
   "metadata": {},
   "outputs": [
    {
     "data": {
      "text/plain": [
       "_id           object\n",
       "name          object\n",
       "desc          object\n",
       "created_at    object\n",
       "updated_at    object\n",
       "dtype: object"
      ]
     },
     "execution_count": 161,
     "metadata": {},
     "output_type": "execute_result"
    }
   ],
   "source": [
    "df.dtypes"
   ]
  },
  {
   "cell_type": "code",
   "execution_count": 162,
   "metadata": {},
   "outputs": [
    {
     "name": "stdout",
     "output_type": "stream",
     "text": [
      "Original dtypes:\n",
      "_id           object\n",
      "name          object\n",
      "desc          object\n",
      "created_at    object\n",
      "updated_at    object\n",
      "dtype: object\n",
      "\n",
      "Converted dtypes:\n",
      "_id           string\n",
      "name          string\n",
      "desc          string\n",
      "created_at    string\n",
      "updated_at    string\n",
      "dtype: object\n"
     ]
    }
   ],
   "source": [
    "print(\"Original dtypes:\")\n",
    "print(df.dtypes)\n",
    "\n",
    "# Convert dtypes\n",
    "df=df.convert_dtypes()\n",
    "\n",
    "# Check new dtypes\n",
    "print(\"\\nConverted dtypes:\")\n",
    "print(df.convert_dtypes().dtypes)"
   ]
  },
  {
   "cell_type": "code",
   "execution_count": 163,
   "metadata": {},
   "outputs": [],
   "source": [
    "df['created_at'] = [\n",
    "    i.split(\" \")[0] if 'T' not in i else i.split(\"T\")[0] for i in df['created_at']\n",
    "]"
   ]
  },
  {
   "cell_type": "code",
   "execution_count": 164,
   "metadata": {},
   "outputs": [],
   "source": [
    "df['created_at']=pd.to_datetime(df['created_at'])"
   ]
  },
  {
   "cell_type": "code",
   "execution_count": 165,
   "metadata": {},
   "outputs": [],
   "source": [
    "df['updated_at'] = [\n",
    "    i.split(\" \")[0] if 'T' not in i else i.split(\"T\")[0] for i in df['updated_at']\n",
    "]"
   ]
  },
  {
   "cell_type": "code",
   "execution_count": 166,
   "metadata": {},
   "outputs": [],
   "source": [
    "df['updated_at']=pd.to_datetime(df['updated_at'])"
   ]
  },
  {
   "cell_type": "code",
   "execution_count": 167,
   "metadata": {},
   "outputs": [
    {
     "data": {
      "text/plain": [
       "_id                   string\n",
       "name                  string\n",
       "desc                  string\n",
       "created_at    datetime64[ns]\n",
       "updated_at    datetime64[ns]\n",
       "dtype: object"
      ]
     },
     "execution_count": 167,
     "metadata": {},
     "output_type": "execute_result"
    }
   ],
   "source": [
    "df.dtypes"
   ]
  },
  {
   "cell_type": "code",
   "execution_count": 168,
   "metadata": {},
   "outputs": [],
   "source": [
    "user_skills_df=pd.read_csv('E:/JMAN/fp/DataEngineering/prep/prep_user.csv')"
   ]
  },
  {
   "cell_type": "code",
   "execution_count": 169,
   "metadata": {},
   "outputs": [
    {
     "data": {
      "text/plain": [
       "Unnamed: 0        0\n",
       "userId            0\n",
       "total_duration    0\n",
       "count             0\n",
       "_id               0\n",
       "name              0\n",
       "role_id           0\n",
       "joining_date      0\n",
       "department        0\n",
       "mail              0\n",
       "created_at        0\n",
       "updated_at        0\n",
       "password          0\n",
       "profileImage      0\n",
       "role_name         0\n",
       "dtype: int64"
      ]
     },
     "execution_count": 169,
     "metadata": {},
     "output_type": "execute_result"
    }
   ],
   "source": [
    "user_skills_df.isnull().sum()"
   ]
  },
  {
   "cell_type": "code",
   "execution_count": 170,
   "metadata": {},
   "outputs": [
    {
     "name": "stdout",
     "output_type": "stream",
     "text": [
      "                                 role_id  user_count\n",
      "0   196c18a9-4aef-4755-a3ee-4b6f418c71e3        2000\n",
      "1   1a52dd70-8466-4e47-8600-1677136f4fec        2000\n",
      "2   2ff032a8-e315-4073-afa5-9906c87db625        2000\n",
      "3   4a7cdfaf-b436-46e2-a8a2-5dc4835d40b9        2000\n",
      "4   4e0c4606-0668-4356-bb17-e3b13140c28e        2000\n",
      "5   663c1743-1dc9-4c1a-8200-701078aefaf8        2000\n",
      "6   73f8078d-03a9-46a9-a5cb-efabc4099cd3        2000\n",
      "7   791867b5-ae38-44aa-b2b0-c258b4f25afb        2000\n",
      "8   7b9c2b3e-e21e-463b-83c5-04e5cc2e720d        2000\n",
      "9   83f4c079-c440-4fa4-b5f5-a75d22347cc4        2000\n",
      "10  9cfc890c-5d4f-414a-9de6-6b411d75624a        2000\n",
      "11  c581ca4e-3b3e-47fe-b1c1-ac3dcaf75783        2000\n",
      "12  ccb4b4f9-80cb-4f1b-9ae8-f16d9da11659        2000\n",
      "13  d70499b1-0629-47f6-ad56-cd859093daf9        2000\n",
      "14  e35f4200-b9f8-44c1-b417-09d833a343d9        2000\n"
     ]
    },
    {
     "data": {
      "text/plain": [
       "role_id       0\n",
       "user_count    0\n",
       "dtype: int64"
      ]
     },
     "execution_count": 170,
     "metadata": {},
     "output_type": "execute_result"
    }
   ],
   "source": [
    "skill_user_count = user_skills_df.groupby('role_id')['userId'].nunique().reset_index(name='user_count')\n",
    "\n",
    "print(skill_user_count)\n",
    "skill_user_count.isnull().sum()"
   ]
  },
  {
   "cell_type": "code",
   "execution_count": 171,
   "metadata": {},
   "outputs": [
    {
     "data": {
      "text/plain": [
       "_id           0\n",
       "name          0\n",
       "desc          0\n",
       "created_at    0\n",
       "updated_at    0\n",
       "dtype: int64"
      ]
     },
     "execution_count": 171,
     "metadata": {},
     "output_type": "execute_result"
    }
   ],
   "source": [
    "df.isnull().sum()"
   ]
  },
  {
   "cell_type": "code",
   "execution_count": 172,
   "metadata": {},
   "outputs": [
    {
     "name": "stdout",
     "output_type": "stream",
     "text": [
      "(15, 7)\n"
     ]
    },
    {
     "data": {
      "text/plain": [
       "_id           0\n",
       "name          0\n",
       "desc          0\n",
       "created_at    0\n",
       "updated_at    0\n",
       "role_id       0\n",
       "user_count    0\n",
       "dtype: int64"
      ]
     },
     "execution_count": 172,
     "metadata": {},
     "output_type": "execute_result"
    }
   ],
   "source": [
    "merged_df=df.merge(skill_user_count,left_on='_id',right_on='role_id',how='inner')\n",
    "print(merged_df.shape)\n",
    "merged_df.isnull().sum()"
   ]
  },
  {
   "cell_type": "code",
   "execution_count": 173,
   "metadata": {},
   "outputs": [],
   "source": [
    "role_skills_df=pd.read_csv('E:/JMAN/fp/DataEngineering/raw/raw_role_skills.csv')"
   ]
  },
  {
   "cell_type": "code",
   "execution_count": 174,
   "metadata": {},
   "outputs": [
    {
     "data": {
      "text/plain": [
       "roleId     0\n",
       "skillId    0\n",
       "name       0\n",
       "dtype: int64"
      ]
     },
     "execution_count": 174,
     "metadata": {},
     "output_type": "execute_result"
    }
   ],
   "source": [
    "role_skills_df.isnull().sum()"
   ]
  },
  {
   "cell_type": "code",
   "execution_count": 175,
   "metadata": {},
   "outputs": [
    {
     "data": {
      "text/plain": [
       "(150, 3)"
      ]
     },
     "execution_count": 175,
     "metadata": {},
     "output_type": "execute_result"
    }
   ],
   "source": [
    "role_skills_df.shape"
   ]
  },
  {
   "cell_type": "code",
   "execution_count": 176,
   "metadata": {},
   "outputs": [
    {
     "name": "stdout",
     "output_type": "stream",
     "text": [
      "(15, 2)\n"
     ]
    },
    {
     "data": {
      "text/html": [
       "<div>\n",
       "<style scoped>\n",
       "    .dataframe tbody tr th:only-of-type {\n",
       "        vertical-align: middle;\n",
       "    }\n",
       "\n",
       "    .dataframe tbody tr th {\n",
       "        vertical-align: top;\n",
       "    }\n",
       "\n",
       "    .dataframe thead th {\n",
       "        text-align: right;\n",
       "    }\n",
       "</style>\n",
       "<table border=\"1\" class=\"dataframe\">\n",
       "  <thead>\n",
       "    <tr style=\"text-align: right;\">\n",
       "      <th></th>\n",
       "      <th>roleId</th>\n",
       "      <th>skill_count</th>\n",
       "    </tr>\n",
       "  </thead>\n",
       "  <tbody>\n",
       "    <tr>\n",
       "      <th>0</th>\n",
       "      <td>196c18a9-4aef-4755-a3ee-4b6f418c71e3</td>\n",
       "      <td>10</td>\n",
       "    </tr>\n",
       "    <tr>\n",
       "      <th>1</th>\n",
       "      <td>1a52dd70-8466-4e47-8600-1677136f4fec</td>\n",
       "      <td>10</td>\n",
       "    </tr>\n",
       "    <tr>\n",
       "      <th>2</th>\n",
       "      <td>2ff032a8-e315-4073-afa5-9906c87db625</td>\n",
       "      <td>10</td>\n",
       "    </tr>\n",
       "    <tr>\n",
       "      <th>3</th>\n",
       "      <td>4a7cdfaf-b436-46e2-a8a2-5dc4835d40b9</td>\n",
       "      <td>10</td>\n",
       "    </tr>\n",
       "    <tr>\n",
       "      <th>4</th>\n",
       "      <td>4e0c4606-0668-4356-bb17-e3b13140c28e</td>\n",
       "      <td>10</td>\n",
       "    </tr>\n",
       "    <tr>\n",
       "      <th>5</th>\n",
       "      <td>663c1743-1dc9-4c1a-8200-701078aefaf8</td>\n",
       "      <td>10</td>\n",
       "    </tr>\n",
       "    <tr>\n",
       "      <th>6</th>\n",
       "      <td>73f8078d-03a9-46a9-a5cb-efabc4099cd3</td>\n",
       "      <td>10</td>\n",
       "    </tr>\n",
       "    <tr>\n",
       "      <th>7</th>\n",
       "      <td>791867b5-ae38-44aa-b2b0-c258b4f25afb</td>\n",
       "      <td>10</td>\n",
       "    </tr>\n",
       "    <tr>\n",
       "      <th>8</th>\n",
       "      <td>7b9c2b3e-e21e-463b-83c5-04e5cc2e720d</td>\n",
       "      <td>10</td>\n",
       "    </tr>\n",
       "    <tr>\n",
       "      <th>9</th>\n",
       "      <td>83f4c079-c440-4fa4-b5f5-a75d22347cc4</td>\n",
       "      <td>10</td>\n",
       "    </tr>\n",
       "    <tr>\n",
       "      <th>10</th>\n",
       "      <td>9cfc890c-5d4f-414a-9de6-6b411d75624a</td>\n",
       "      <td>10</td>\n",
       "    </tr>\n",
       "    <tr>\n",
       "      <th>11</th>\n",
       "      <td>c581ca4e-3b3e-47fe-b1c1-ac3dcaf75783</td>\n",
       "      <td>10</td>\n",
       "    </tr>\n",
       "    <tr>\n",
       "      <th>12</th>\n",
       "      <td>ccb4b4f9-80cb-4f1b-9ae8-f16d9da11659</td>\n",
       "      <td>10</td>\n",
       "    </tr>\n",
       "    <tr>\n",
       "      <th>13</th>\n",
       "      <td>d70499b1-0629-47f6-ad56-cd859093daf9</td>\n",
       "      <td>10</td>\n",
       "    </tr>\n",
       "    <tr>\n",
       "      <th>14</th>\n",
       "      <td>e35f4200-b9f8-44c1-b417-09d833a343d9</td>\n",
       "      <td>10</td>\n",
       "    </tr>\n",
       "  </tbody>\n",
       "</table>\n",
       "</div>"
      ],
      "text/plain": [
       "                                  roleId  skill_count\n",
       "0   196c18a9-4aef-4755-a3ee-4b6f418c71e3           10\n",
       "1   1a52dd70-8466-4e47-8600-1677136f4fec           10\n",
       "2   2ff032a8-e315-4073-afa5-9906c87db625           10\n",
       "3   4a7cdfaf-b436-46e2-a8a2-5dc4835d40b9           10\n",
       "4   4e0c4606-0668-4356-bb17-e3b13140c28e           10\n",
       "5   663c1743-1dc9-4c1a-8200-701078aefaf8           10\n",
       "6   73f8078d-03a9-46a9-a5cb-efabc4099cd3           10\n",
       "7   791867b5-ae38-44aa-b2b0-c258b4f25afb           10\n",
       "8   7b9c2b3e-e21e-463b-83c5-04e5cc2e720d           10\n",
       "9   83f4c079-c440-4fa4-b5f5-a75d22347cc4           10\n",
       "10  9cfc890c-5d4f-414a-9de6-6b411d75624a           10\n",
       "11  c581ca4e-3b3e-47fe-b1c1-ac3dcaf75783           10\n",
       "12  ccb4b4f9-80cb-4f1b-9ae8-f16d9da11659           10\n",
       "13  d70499b1-0629-47f6-ad56-cd859093daf9           10\n",
       "14  e35f4200-b9f8-44c1-b417-09d833a343d9           10"
      ]
     },
     "execution_count": 176,
     "metadata": {},
     "output_type": "execute_result"
    }
   ],
   "source": [
    "skill_role_count = role_skills_df.groupby('roleId')['skillId'].nunique().reset_index(name='skill_count')\n",
    "\n",
    "print(skill_role_count.shape)\n",
    "skill_role_count.isnull().sum()\n",
    "skill_role_count"
   ]
  },
  {
   "cell_type": "code",
   "execution_count": 177,
   "metadata": {},
   "outputs": [
    {
     "data": {
      "text/plain": [
       "(roleId         0\n",
       " skill_count    0\n",
       " dtype: int64,\n",
       " (15, 2))"
      ]
     },
     "execution_count": 177,
     "metadata": {},
     "output_type": "execute_result"
    }
   ],
   "source": [
    "skill_role_count.isnull().sum(),skill_role_count.shape"
   ]
  },
  {
   "cell_type": "code",
   "execution_count": 178,
   "metadata": {},
   "outputs": [
    {
     "data": {
      "text/plain": [
       "_id           0\n",
       "name          0\n",
       "desc          0\n",
       "created_at    0\n",
       "updated_at    0\n",
       "dtype: int64"
      ]
     },
     "execution_count": 178,
     "metadata": {},
     "output_type": "execute_result"
    }
   ],
   "source": [
    "df.isnull().sum()"
   ]
  },
  {
   "cell_type": "code",
   "execution_count": 179,
   "metadata": {},
   "outputs": [
    {
     "data": {
      "text/plain": [
       "(15, 7)"
      ]
     },
     "execution_count": 179,
     "metadata": {},
     "output_type": "execute_result"
    }
   ],
   "source": [
    "merged_df=df.merge(skill_role_count,left_on='_id',right_on='roleId',how='inner')\n",
    "df=merged_df\n",
    "df.shape"
   ]
  },
  {
   "cell_type": "code",
   "execution_count": 180,
   "metadata": {},
   "outputs": [],
   "source": [
    "df.to_csv('E:/JMAN/fp/DataEngineering/prep/prep_role.csv')"
   ]
  },
  {
   "cell_type": "code",
   "execution_count": null,
   "metadata": {},
   "outputs": [],
   "source": []
  }
 ],
 "metadata": {
  "kernelspec": {
   "display_name": "base",
   "language": "python",
   "name": "python3"
  },
  "language_info": {
   "codemirror_mode": {
    "name": "ipython",
    "version": 3
   },
   "file_extension": ".py",
   "mimetype": "text/x-python",
   "name": "python",
   "nbconvert_exporter": "python",
   "pygments_lexer": "ipython3",
   "version": "3.9.7"
  }
 },
 "nbformat": 4,
 "nbformat_minor": 2
}
