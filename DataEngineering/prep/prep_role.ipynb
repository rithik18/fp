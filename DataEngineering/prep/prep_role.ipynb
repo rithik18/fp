{
 "cells": [
  {
   "cell_type": "code",
   "execution_count": 79,
   "metadata": {},
   "outputs": [],
   "source": [
    "import pandas as pd"
   ]
  },
  {
   "cell_type": "code",
   "execution_count": 80,
   "metadata": {},
   "outputs": [],
   "source": [
    "user_csv=pd.read_csv('C:/Users/RithikHarendarMahesh/Desktop/fp/DataEngineering/raw/raw_roles.csv')"
   ]
  },
  {
   "cell_type": "code",
   "execution_count": 81,
   "metadata": {},
   "outputs": [],
   "source": [
    "df=pd.DataFrame(data=user_csv)"
   ]
  },
  {
   "cell_type": "code",
   "execution_count": 82,
   "metadata": {},
   "outputs": [
    {
     "data": {
      "text/plain": [
       "_id           0\n",
       "name          0\n",
       "desc          0\n",
       "created_at    0\n",
       "updated_at    0\n",
       "dtype: int64"
      ]
     },
     "execution_count": 82,
     "metadata": {},
     "output_type": "execute_result"
    }
   ],
   "source": [
    "df.isnull().sum()"
   ]
  },
  {
   "cell_type": "code",
   "execution_count": 83,
   "metadata": {},
   "outputs": [],
   "source": [
    "df.dropna(inplace=True)"
   ]
  },
  {
   "cell_type": "code",
   "execution_count": 84,
   "metadata": {},
   "outputs": [],
   "source": [
    "df.drop_duplicates(inplace=True)"
   ]
  },
  {
   "cell_type": "code",
   "execution_count": 85,
   "metadata": {},
   "outputs": [
    {
     "data": {
      "text/plain": [
       "_id           object\n",
       "name          object\n",
       "desc          object\n",
       "created_at    object\n",
       "updated_at    object\n",
       "dtype: object"
      ]
     },
     "execution_count": 85,
     "metadata": {},
     "output_type": "execute_result"
    }
   ],
   "source": [
    "df.dtypes"
   ]
  },
  {
   "cell_type": "code",
   "execution_count": 86,
   "metadata": {},
   "outputs": [
    {
     "name": "stdout",
     "output_type": "stream",
     "text": [
      "Original dtypes:\n",
      "_id           object\n",
      "name          object\n",
      "desc          object\n",
      "created_at    object\n",
      "updated_at    object\n",
      "dtype: object\n",
      "\n",
      "Converted dtypes:\n",
      "_id           string[python]\n",
      "name          string[python]\n",
      "desc          string[python]\n",
      "created_at    string[python]\n",
      "updated_at    string[python]\n",
      "dtype: object\n"
     ]
    }
   ],
   "source": [
    "print(\"Original dtypes:\")\n",
    "print(df.dtypes)\n",
    "\n",
    "# Convert dtypes\n",
    "df=df.convert_dtypes()\n",
    "\n",
    "# Check new dtypes\n",
    "print(\"\\nConverted dtypes:\")\n",
    "print(df.convert_dtypes().dtypes)"
   ]
  },
  {
   "cell_type": "code",
   "execution_count": 87,
   "metadata": {},
   "outputs": [],
   "source": [
    "df['created_at'] = [\n",
    "    i.split(\" \")[0] if 'T' not in i else i.split(\"T\")[0] for i in df['created_at']\n",
    "]"
   ]
  },
  {
   "cell_type": "code",
   "execution_count": 88,
   "metadata": {},
   "outputs": [],
   "source": [
    "df['created_at']=pd.to_datetime(df['created_at'])"
   ]
  },
  {
   "cell_type": "code",
   "execution_count": 89,
   "metadata": {},
   "outputs": [],
   "source": [
    "df['updated_at'] = [\n",
    "    i.split(\" \")[0] if 'T' not in i else i.split(\"T\")[0] for i in df['updated_at']\n",
    "]"
   ]
  },
  {
   "cell_type": "code",
   "execution_count": 90,
   "metadata": {},
   "outputs": [],
   "source": [
    "df['updated_at']=pd.to_datetime(df['updated_at'])"
   ]
  },
  {
   "cell_type": "code",
   "execution_count": 91,
   "metadata": {},
   "outputs": [
    {
     "data": {
      "text/plain": [
       "_id           string[python]\n",
       "name          string[python]\n",
       "desc          string[python]\n",
       "created_at    datetime64[ns]\n",
       "updated_at    datetime64[ns]\n",
       "dtype: object"
      ]
     },
     "execution_count": 91,
     "metadata": {},
     "output_type": "execute_result"
    }
   ],
   "source": [
    "df.dtypes"
   ]
  },
  {
   "cell_type": "code",
   "execution_count": 92,
   "metadata": {},
   "outputs": [],
   "source": [
    "user_skills_df=pd.read_csv('C:/Users/RithikHarendarMahesh/Desktop/fp/DataEngineering/prep/prep_user.csv')"
   ]
  },
  {
   "cell_type": "code",
   "execution_count": 93,
   "metadata": {},
   "outputs": [
    {
     "data": {
      "text/plain": [
       "Unnamed: 0        0\n",
       "userId            0\n",
       "total_duration    0\n",
       "count             0\n",
       "_id               0\n",
       "name              0\n",
       "role_id           0\n",
       "joining_date      0\n",
       "department        0\n",
       "mail              0\n",
       "created_at        0\n",
       "updated_at        0\n",
       "password          0\n",
       "profileImage      0\n",
       "role_name         0\n",
       "dtype: int64"
      ]
     },
     "execution_count": 93,
     "metadata": {},
     "output_type": "execute_result"
    }
   ],
   "source": [
    "user_skills_df.isnull().sum()"
   ]
  },
  {
   "cell_type": "code",
   "execution_count": 94,
   "metadata": {},
   "outputs": [
    {
     "name": "stdout",
     "output_type": "stream",
     "text": [
      "                                 role_id  user_count\n",
      "0   048bb997-92d8-4698-bb29-58976f05d262        1495\n",
      "1   15eccef0-3ddf-4abb-8255-dfb5dd1629a4        1465\n",
      "2   4e2d1418-0c83-48a2-9a93-6b50ac26e040        1501\n",
      "3   5057cb20-bd33-4194-90e1-fe3153bd9411        1442\n",
      "4   58d3d191-867b-4e93-90bb-f56579e1f656        1486\n",
      "5   642f662c-67dc-4fbb-9049-2eced614b67b        1508\n",
      "6               66fd540a30450c2a76ac020f           1\n",
      "7               66fd544630450c2a76ac0211           1\n",
      "8   82f3e2ab-fee2-427c-b06e-23562476999f        1539\n",
      "9   89597b8d-073f-4250-b712-1bb4abda8d52        1512\n",
      "10  8f37445a-fdda-4cc8-b3e3-1471fe7f218a        1515\n",
      "11  948a80f9-77ba-480d-ab12-ce6e153a7593        1441\n",
      "12  95c5e3f2-b07f-4564-b327-e9ec2ec7458f        1489\n",
      "13  9bde7d21-ec16-476f-83d1-5fb8cc80b429        1506\n",
      "14  ab04f326-4048-4b80-bacc-a57ada9df3d3        1534\n",
      "15  b26e9fe5-a12a-4bbd-94ca-b6de9b24ed41        1536\n",
      "16  b5b1665a-7d83-4034-a623-5c752adff66c        1512\n",
      "17  badac142-82c7-4b4b-bed3-796873e206ed        1491\n",
      "18  ca6d9b79-81fc-431b-a0bb-85d1f2f99447        1511\n",
      "19  cc848d0b-5ac9-4f0a-98c0-3d0979c3c9a1        1498\n",
      "20  dc67d28b-38f4-4844-99a9-bc47fb26308c        1494\n",
      "21  ee19d957-7fb3-473c-9840-73d7a2b38247        1525\n"
     ]
    },
    {
     "data": {
      "text/plain": [
       "role_id       0\n",
       "user_count    0\n",
       "dtype: int64"
      ]
     },
     "execution_count": 94,
     "metadata": {},
     "output_type": "execute_result"
    }
   ],
   "source": [
    "skill_user_count = user_skills_df.groupby('role_id')['userId'].nunique().reset_index(name='user_count')\n",
    "\n",
    "print(skill_user_count)\n",
    "skill_user_count.isnull().sum()"
   ]
  },
  {
   "cell_type": "code",
   "execution_count": 95,
   "metadata": {},
   "outputs": [
    {
     "data": {
      "text/plain": [
       "_id           0\n",
       "name          0\n",
       "desc          0\n",
       "created_at    0\n",
       "updated_at    0\n",
       "dtype: int64"
      ]
     },
     "execution_count": 95,
     "metadata": {},
     "output_type": "execute_result"
    }
   ],
   "source": [
    "df.isnull().sum()"
   ]
  },
  {
   "cell_type": "code",
   "execution_count": 96,
   "metadata": {},
   "outputs": [
    {
     "data": {
      "text/plain": [
       "_id           0\n",
       "name          0\n",
       "desc          0\n",
       "created_at    0\n",
       "updated_at    0\n",
       "role_id       0\n",
       "user_count    0\n",
       "dtype: int64"
      ]
     },
     "execution_count": 96,
     "metadata": {},
     "output_type": "execute_result"
    }
   ],
   "source": [
    "merged_df=df.merge(skill_user_count,left_on='_id',right_on='role_id',how='inner')\n",
    "merged_df.isnull().sum()"
   ]
  },
  {
   "cell_type": "code",
   "execution_count": 97,
   "metadata": {},
   "outputs": [],
   "source": [
    "role_skills_df=pd.read_csv('C:/Users/RithikHarendarMahesh/Desktop/fp/DataEngineering/prep/prep_role_skill.csv')"
   ]
  },
  {
   "cell_type": "code",
   "execution_count": 98,
   "metadata": {},
   "outputs": [
    {
     "data": {
      "text/plain": [
       "Unnamed: 0      0\n",
       "_id             0\n",
       "RoleId          0\n",
       "department      0\n",
       "skillId         0\n",
       "role_name     200\n",
       "skill_name    214\n",
       "dtype: int64"
      ]
     },
     "execution_count": 98,
     "metadata": {},
     "output_type": "execute_result"
    }
   ],
   "source": [
    "role_skills_df.isnull().sum()"
   ]
  },
  {
   "cell_type": "code",
   "execution_count": 99,
   "metadata": {},
   "outputs": [
    {
     "name": "stdout",
     "output_type": "stream",
     "text": [
      "                                  RoleId  user_count\n",
      "0   079a7da7-7b16-44e6-bc94-9e7aa6e221d5          10\n",
      "1   100ac7ef-7112-488f-adf2-f9c1608d49b2          10\n",
      "2   19adcd6a-d040-43f5-8df4-f2776037d25e          10\n",
      "3   22cb7f0f-28bb-454c-9f48-73c97e0efe5e          10\n",
      "4   242e1513-5ad2-4189-afaf-669d6753f57b          10\n",
      "5   2c8336a8-a2e4-4c10-8705-901c8f6b4775          10\n",
      "6   335eff01-3ed3-44f5-ada7-4d2344652b5f          10\n",
      "7   355c2d2d-533f-43f7-a83c-5f034da99eb2          10\n",
      "8   37928751-05e5-46f9-811a-05b1a59119a0          10\n",
      "9   3bff3276-ee0f-45d2-8dcd-df07d5cb8346          10\n",
      "10  50d84c1b-4699-4a93-96ad-f1fd336cf39a          10\n",
      "11  588b1281-668b-40a9-a85e-ad47dad7c018          10\n",
      "12              66fd540a30450c2a76ac020f           6\n",
      "13              66fd544630450c2a76ac0211           7\n",
      "14              66fd595030450c2a76ac0219           5\n",
      "15  68d523fe-d71a-4a66-915a-950cbce914e2          10\n",
      "16  6d1f0af0-6bbb-470a-8134-ecaaeae6d623          10\n",
      "17  7403751e-02d6-4560-ab09-c7528a0fb8ab          10\n",
      "18  76fba540-2817-4293-b9ae-dd2aa77acbc1          10\n",
      "19  9a857edb-7685-453d-bc33-ed5032191e9c          10\n",
      "20  a0683cc9-251b-4b28-be06-ecacc5359757          10\n",
      "21  c2110ca2-adba-4332-bf04-9d121d224cc1          10\n",
      "22  f089dd73-29a0-413a-b6f7-dba5ed504c88          10\n"
     ]
    },
    {
     "data": {
      "text/plain": [
       "RoleId        0\n",
       "user_count    0\n",
       "dtype: int64"
      ]
     },
     "execution_count": 99,
     "metadata": {},
     "output_type": "execute_result"
    }
   ],
   "source": [
    "skill_role_count = role_skills_df.groupby('RoleId')['skillId'].nunique().reset_index(name='user_count')\n",
    "\n",
    "print(skill_role_count)\n",
    "skill_role_count.isnull().sum()"
   ]
  },
  {
   "cell_type": "code",
   "execution_count": 100,
   "metadata": {},
   "outputs": [
    {
     "data": {
      "text/plain": [
       "RoleId        0\n",
       "user_count    0\n",
       "dtype: int64"
      ]
     },
     "execution_count": 100,
     "metadata": {},
     "output_type": "execute_result"
    }
   ],
   "source": [
    "skill_role_count.isnull().sum()"
   ]
  },
  {
   "cell_type": "code",
   "execution_count": 101,
   "metadata": {},
   "outputs": [
    {
     "data": {
      "text/plain": [
       "_id           0\n",
       "name          0\n",
       "desc          0\n",
       "created_at    0\n",
       "updated_at    0\n",
       "dtype: int64"
      ]
     },
     "execution_count": 101,
     "metadata": {},
     "output_type": "execute_result"
    }
   ],
   "source": [
    "df.isnull().sum()"
   ]
  },
  {
   "cell_type": "code",
   "execution_count": 102,
   "metadata": {},
   "outputs": [
    {
     "data": {
      "text/plain": [
       "(23, 7)"
      ]
     },
     "execution_count": 102,
     "metadata": {},
     "output_type": "execute_result"
    }
   ],
   "source": [
    "merged_df=df.merge(skill_role_count,left_on='_id',right_on='RoleId',how='inner')\n",
    "df=merged_df\n",
    "df.shape"
   ]
  },
  {
   "cell_type": "code",
   "execution_count": 103,
   "metadata": {},
   "outputs": [],
   "source": [
    "df.to_csv('C:/Users/RithikHarendarMahesh/Desktop/fp/DataEngineering/prep/prep_role.csv')"
   ]
  },
  {
   "cell_type": "code",
   "execution_count": null,
   "metadata": {},
   "outputs": [],
   "source": []
  }
 ],
 "metadata": {
  "kernelspec": {
   "display_name": "Python 3 (ipykernel)",
   "language": "python",
   "name": "python3"
  },
  "language_info": {
   "codemirror_mode": {
    "name": "ipython",
    "version": 3
   },
   "file_extension": ".py",
   "mimetype": "text/x-python",
   "name": "python",
   "nbconvert_exporter": "python",
   "pygments_lexer": "ipython3",
   "version": "3.12.4"
  }
 },
 "nbformat": 4,
 "nbformat_minor": 2
}
