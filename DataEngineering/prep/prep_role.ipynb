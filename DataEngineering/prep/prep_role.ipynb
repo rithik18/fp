{
 "cells": [
  {
   "cell_type": "code",
   "execution_count": 1,
   "metadata": {},
   "outputs": [],
   "source": [
    "import pandas as pd"
   ]
  },
  {
   "cell_type": "code",
   "execution_count": 2,
   "metadata": {},
   "outputs": [],
   "source": [
    "user_csv=pd.read_csv('C:/Users/RithikHarendarMahesh/Desktop/fp/DataEngineering/raw/raw_roles.csv')"
   ]
  },
  {
   "cell_type": "code",
   "execution_count": 3,
   "metadata": {},
   "outputs": [],
   "source": [
    "df=pd.DataFrame(data=user_csv)"
   ]
  },
  {
   "cell_type": "code",
   "execution_count": 4,
   "metadata": {},
   "outputs": [
    {
     "data": {
      "text/plain": [
       "_id           0\n",
       "name          0\n",
       "desc          0\n",
       "created_at    0\n",
       "updated_at    0\n",
       "dtype: int64"
      ]
     },
     "execution_count": 4,
     "metadata": {},
     "output_type": "execute_result"
    }
   ],
   "source": [
    "df.isnull().sum()"
   ]
  },
  {
   "cell_type": "code",
   "execution_count": 5,
   "metadata": {},
   "outputs": [
    {
     "data": {
      "text/html": [
       "<div>\n",
       "<style scoped>\n",
       "    .dataframe tbody tr th:only-of-type {\n",
       "        vertical-align: middle;\n",
       "    }\n",
       "\n",
       "    .dataframe tbody tr th {\n",
       "        vertical-align: top;\n",
       "    }\n",
       "\n",
       "    .dataframe thead th {\n",
       "        text-align: right;\n",
       "    }\n",
       "</style>\n",
       "<table border=\"1\" class=\"dataframe\">\n",
       "  <thead>\n",
       "    <tr style=\"text-align: right;\">\n",
       "      <th></th>\n",
       "      <th>_id</th>\n",
       "      <th>name</th>\n",
       "      <th>desc</th>\n",
       "      <th>created_at</th>\n",
       "      <th>updated_at</th>\n",
       "    </tr>\n",
       "  </thead>\n",
       "  <tbody>\n",
       "    <tr>\n",
       "      <th>0</th>\n",
       "      <td>25886cc0-ab38-455b-a301-f739643e462d</td>\n",
       "      <td>Software Engineer</td>\n",
       "      <td>Machine bring instead choice feel.</td>\n",
       "      <td>2021-10-12T12:28:51</td>\n",
       "      <td>2021-09-06T10:23:59</td>\n",
       "    </tr>\n",
       "    <tr>\n",
       "      <th>1</th>\n",
       "      <td>a10702c1-1e25-4289-8304-a3f8ea9dd4ef</td>\n",
       "      <td>Data Scientist</td>\n",
       "      <td>Area live the accept control standard unit.</td>\n",
       "      <td>2022-05-06T14:17:18</td>\n",
       "      <td>2022-10-27T07:48:23</td>\n",
       "    </tr>\n",
       "    <tr>\n",
       "      <th>2</th>\n",
       "      <td>97645b80-65a2-4991-b2bd-21bf7da2b230</td>\n",
       "      <td>DevOps Engineer</td>\n",
       "      <td>Dog for personal.</td>\n",
       "      <td>2021-05-07T09:52:56</td>\n",
       "      <td>2024-09-13T04:00:39</td>\n",
       "    </tr>\n",
       "    <tr>\n",
       "      <th>3</th>\n",
       "      <td>2378806c-a3b2-4320-b09b-470b52d02954</td>\n",
       "      <td>Frontend Developer</td>\n",
       "      <td>Show all song.</td>\n",
       "      <td>2022-05-08T21:08:53</td>\n",
       "      <td>2023-03-07T11:08:17</td>\n",
       "    </tr>\n",
       "    <tr>\n",
       "      <th>4</th>\n",
       "      <td>508bfd78-6401-40ad-bc4b-dade38d40352</td>\n",
       "      <td>Backend Developer</td>\n",
       "      <td>Many hundred town single happen amount.</td>\n",
       "      <td>2020-12-29T10:08:24</td>\n",
       "      <td>2021-09-05T13:47:54</td>\n",
       "    </tr>\n",
       "    <tr>\n",
       "      <th>5</th>\n",
       "      <td>1fc24487-22cd-4e45-9276-6390a20f40fe</td>\n",
       "      <td>Full Stack Developer</td>\n",
       "      <td>Chance today practice present wind.</td>\n",
       "      <td>2023-08-04T18:21:30</td>\n",
       "      <td>2023-05-29T00:31:54</td>\n",
       "    </tr>\n",
       "    <tr>\n",
       "      <th>6</th>\n",
       "      <td>df5a8f57-5e81-47c8-89a1-589d9c62cedb</td>\n",
       "      <td>Data Analyst</td>\n",
       "      <td>Collection plant kitchen small medical tonight...</td>\n",
       "      <td>2021-12-17T01:11:05</td>\n",
       "      <td>2023-10-28T10:01:28</td>\n",
       "    </tr>\n",
       "    <tr>\n",
       "      <th>7</th>\n",
       "      <td>b4057508-20a7-4553-87f1-8dd813fe7eda</td>\n",
       "      <td>Cybersecurity Analyst</td>\n",
       "      <td>Job prevent cover character keep order deal.</td>\n",
       "      <td>2021-01-26T17:00:16</td>\n",
       "      <td>2021-01-25T12:25:38</td>\n",
       "    </tr>\n",
       "    <tr>\n",
       "      <th>8</th>\n",
       "      <td>38bd1ab2-e630-4311-9128-7438fe171719</td>\n",
       "      <td>Machine Learning Engineer</td>\n",
       "      <td>State else deep term.</td>\n",
       "      <td>2020-02-26T16:25:39</td>\n",
       "      <td>2024-03-01T17:17:35</td>\n",
       "    </tr>\n",
       "    <tr>\n",
       "      <th>9</th>\n",
       "      <td>e5718b9c-cddd-4a63-8ae7-324019377228</td>\n",
       "      <td>Cloud Engineer</td>\n",
       "      <td>Natural card that turn event front Mr.</td>\n",
       "      <td>2020-12-13T02:39:09</td>\n",
       "      <td>2023-12-03T10:22:34</td>\n",
       "    </tr>\n",
       "    <tr>\n",
       "      <th>10</th>\n",
       "      <td>46edc8ac-13ac-460b-9317-7642230502af</td>\n",
       "      <td>UX/UI Designer</td>\n",
       "      <td>Person hard certainly method improve.</td>\n",
       "      <td>2022-01-29T16:07:54</td>\n",
       "      <td>2021-01-10T17:57:34</td>\n",
       "    </tr>\n",
       "    <tr>\n",
       "      <th>11</th>\n",
       "      <td>718675e9-24e9-451b-a6e1-586aef8d0afb</td>\n",
       "      <td>Product Manager</td>\n",
       "      <td>Develop box none wall.</td>\n",
       "      <td>2022-12-11T20:19:11</td>\n",
       "      <td>2024-03-22T17:52:02</td>\n",
       "    </tr>\n",
       "    <tr>\n",
       "      <th>12</th>\n",
       "      <td>ad2e313d-73d0-4c14-a406-93f3ca78ef0d</td>\n",
       "      <td>Business Analyst</td>\n",
       "      <td>Step practice gun beyond indicate or little.</td>\n",
       "      <td>2020-06-27T14:23:04</td>\n",
       "      <td>2022-07-01T05:46:15</td>\n",
       "    </tr>\n",
       "    <tr>\n",
       "      <th>13</th>\n",
       "      <td>beb050bc-b355-4fa1-bb53-006eea46a697</td>\n",
       "      <td>Quality Assurance Engineer</td>\n",
       "      <td>Life increase moment model under natural.</td>\n",
       "      <td>2022-03-07T19:44:09</td>\n",
       "      <td>2024-02-19T12:33:35</td>\n",
       "    </tr>\n",
       "    <tr>\n",
       "      <th>14</th>\n",
       "      <td>90a9e49a-3fcc-494c-a3fa-1c5375311cbb</td>\n",
       "      <td>Technical Writer</td>\n",
       "      <td>Real under here room late more ask.</td>\n",
       "      <td>2024-01-09T20:38:19</td>\n",
       "      <td>2024-04-01T19:12:55</td>\n",
       "    </tr>\n",
       "  </tbody>\n",
       "</table>\n",
       "</div>"
      ],
      "text/plain": [
       "                                     _id                        name  \\\n",
       "0   25886cc0-ab38-455b-a301-f739643e462d           Software Engineer   \n",
       "1   a10702c1-1e25-4289-8304-a3f8ea9dd4ef              Data Scientist   \n",
       "2   97645b80-65a2-4991-b2bd-21bf7da2b230             DevOps Engineer   \n",
       "3   2378806c-a3b2-4320-b09b-470b52d02954          Frontend Developer   \n",
       "4   508bfd78-6401-40ad-bc4b-dade38d40352           Backend Developer   \n",
       "5   1fc24487-22cd-4e45-9276-6390a20f40fe        Full Stack Developer   \n",
       "6   df5a8f57-5e81-47c8-89a1-589d9c62cedb                Data Analyst   \n",
       "7   b4057508-20a7-4553-87f1-8dd813fe7eda       Cybersecurity Analyst   \n",
       "8   38bd1ab2-e630-4311-9128-7438fe171719   Machine Learning Engineer   \n",
       "9   e5718b9c-cddd-4a63-8ae7-324019377228              Cloud Engineer   \n",
       "10  46edc8ac-13ac-460b-9317-7642230502af              UX/UI Designer   \n",
       "11  718675e9-24e9-451b-a6e1-586aef8d0afb             Product Manager   \n",
       "12  ad2e313d-73d0-4c14-a406-93f3ca78ef0d            Business Analyst   \n",
       "13  beb050bc-b355-4fa1-bb53-006eea46a697  Quality Assurance Engineer   \n",
       "14  90a9e49a-3fcc-494c-a3fa-1c5375311cbb            Technical Writer   \n",
       "\n",
       "                                                 desc           created_at  \\\n",
       "0                  Machine bring instead choice feel.  2021-10-12T12:28:51   \n",
       "1         Area live the accept control standard unit.  2022-05-06T14:17:18   \n",
       "2                                   Dog for personal.  2021-05-07T09:52:56   \n",
       "3                                      Show all song.  2022-05-08T21:08:53   \n",
       "4             Many hundred town single happen amount.  2020-12-29T10:08:24   \n",
       "5                 Chance today practice present wind.  2023-08-04T18:21:30   \n",
       "6   Collection plant kitchen small medical tonight...  2021-12-17T01:11:05   \n",
       "7        Job prevent cover character keep order deal.  2021-01-26T17:00:16   \n",
       "8                               State else deep term.  2020-02-26T16:25:39   \n",
       "9              Natural card that turn event front Mr.  2020-12-13T02:39:09   \n",
       "10              Person hard certainly method improve.  2022-01-29T16:07:54   \n",
       "11                             Develop box none wall.  2022-12-11T20:19:11   \n",
       "12       Step practice gun beyond indicate or little.  2020-06-27T14:23:04   \n",
       "13          Life increase moment model under natural.  2022-03-07T19:44:09   \n",
       "14                Real under here room late more ask.  2024-01-09T20:38:19   \n",
       "\n",
       "             updated_at  \n",
       "0   2021-09-06T10:23:59  \n",
       "1   2022-10-27T07:48:23  \n",
       "2   2024-09-13T04:00:39  \n",
       "3   2023-03-07T11:08:17  \n",
       "4   2021-09-05T13:47:54  \n",
       "5   2023-05-29T00:31:54  \n",
       "6   2023-10-28T10:01:28  \n",
       "7   2021-01-25T12:25:38  \n",
       "8   2024-03-01T17:17:35  \n",
       "9   2023-12-03T10:22:34  \n",
       "10  2021-01-10T17:57:34  \n",
       "11  2024-03-22T17:52:02  \n",
       "12  2022-07-01T05:46:15  \n",
       "13  2024-02-19T12:33:35  \n",
       "14  2024-04-01T19:12:55  "
      ]
     },
     "execution_count": 5,
     "metadata": {},
     "output_type": "execute_result"
    }
   ],
   "source": [
    "df"
   ]
  },
  {
   "cell_type": "code",
   "execution_count": 6,
   "metadata": {},
   "outputs": [],
   "source": [
    "df.dropna(inplace=True)"
   ]
  },
  {
   "cell_type": "code",
   "execution_count": 7,
   "metadata": {},
   "outputs": [],
   "source": [
    "df.drop_duplicates(inplace=True)"
   ]
  },
  {
   "cell_type": "code",
   "execution_count": 8,
   "metadata": {},
   "outputs": [
    {
     "data": {
      "text/plain": [
       "_id           object\n",
       "name          object\n",
       "desc          object\n",
       "created_at    object\n",
       "updated_at    object\n",
       "dtype: object"
      ]
     },
     "execution_count": 8,
     "metadata": {},
     "output_type": "execute_result"
    }
   ],
   "source": [
    "df.dtypes"
   ]
  },
  {
   "cell_type": "code",
   "execution_count": 9,
   "metadata": {},
   "outputs": [
    {
     "name": "stdout",
     "output_type": "stream",
     "text": [
      "Original dtypes:\n",
      "_id           object\n",
      "name          object\n",
      "desc          object\n",
      "created_at    object\n",
      "updated_at    object\n",
      "dtype: object\n",
      "\n",
      "Converted dtypes:\n",
      "_id           string[python]\n",
      "name          string[python]\n",
      "desc          string[python]\n",
      "created_at    string[python]\n",
      "updated_at    string[python]\n",
      "dtype: object\n"
     ]
    }
   ],
   "source": [
    "print(\"Original dtypes:\")\n",
    "print(df.dtypes)\n",
    "\n",
    "# Convert dtypes\n",
    "df=df.convert_dtypes()\n",
    "\n",
    "# Check new dtypes\n",
    "print(\"\\nConverted dtypes:\")\n",
    "print(df.convert_dtypes().dtypes)"
   ]
  },
  {
   "cell_type": "code",
   "execution_count": 10,
   "metadata": {},
   "outputs": [],
   "source": [
    "df['created_at'] = [\n",
    "    i.split(\" \")[0] if 'T' not in i else i.split(\"T\")[0] for i in df['created_at']\n",
    "]"
   ]
  },
  {
   "cell_type": "code",
   "execution_count": 11,
   "metadata": {},
   "outputs": [],
   "source": [
    "df['created_at']=pd.to_datetime(df['created_at'])"
   ]
  },
  {
   "cell_type": "code",
   "execution_count": 12,
   "metadata": {},
   "outputs": [],
   "source": [
    "df['updated_at'] = [\n",
    "    i.split(\" \")[0] if 'T' not in i else i.split(\"T\")[0] for i in df['updated_at']\n",
    "]"
   ]
  },
  {
   "cell_type": "code",
   "execution_count": 13,
   "metadata": {},
   "outputs": [],
   "source": [
    "df['updated_at']=pd.to_datetime(df['updated_at'])"
   ]
  },
  {
   "cell_type": "code",
   "execution_count": 14,
   "metadata": {},
   "outputs": [
    {
     "data": {
      "text/plain": [
       "_id           string[python]\n",
       "name          string[python]\n",
       "desc          string[python]\n",
       "created_at    datetime64[ns]\n",
       "updated_at    datetime64[ns]\n",
       "dtype: object"
      ]
     },
     "execution_count": 14,
     "metadata": {},
     "output_type": "execute_result"
    }
   ],
   "source": [
    "df.dtypes"
   ]
  },
  {
   "cell_type": "code",
   "execution_count": 15,
   "metadata": {},
   "outputs": [],
   "source": [
    "user_skills_df=pd.read_csv('C:/Users/RithikHarendarMahesh/Desktop/fp/DataEngineering/prep/prep_user.csv')"
   ]
  },
  {
   "cell_type": "code",
   "execution_count": 16,
   "metadata": {},
   "outputs": [
    {
     "data": {
      "text/plain": [
       "Unnamed: 0        0\n",
       "userId            0\n",
       "total_duration    0\n",
       "count             0\n",
       "_id               0\n",
       "name              0\n",
       "role_id           0\n",
       "joining_date      0\n",
       "department        0\n",
       "mail              0\n",
       "created_at        0\n",
       "updated_at        0\n",
       "password          0\n",
       "profileImage      0\n",
       "role_name         0\n",
       "dtype: int64"
      ]
     },
     "execution_count": 16,
     "metadata": {},
     "output_type": "execute_result"
    }
   ],
   "source": [
    "user_skills_df.isnull().sum()"
   ]
  },
  {
   "cell_type": "code",
   "execution_count": 17,
   "metadata": {},
   "outputs": [
    {
     "name": "stdout",
     "output_type": "stream",
     "text": [
      "                                 role_id  user_count\n",
      "0   1fc24487-22cd-4e45-9276-6390a20f40fe        2000\n",
      "1   2378806c-a3b2-4320-b09b-470b52d02954        2000\n",
      "2   25886cc0-ab38-455b-a301-f739643e462d        2000\n",
      "3   38bd1ab2-e630-4311-9128-7438fe171719        2000\n",
      "4   46edc8ac-13ac-460b-9317-7642230502af        2000\n",
      "5   508bfd78-6401-40ad-bc4b-dade38d40352        2000\n",
      "6   718675e9-24e9-451b-a6e1-586aef8d0afb        2000\n",
      "7   90a9e49a-3fcc-494c-a3fa-1c5375311cbb        2000\n",
      "8   97645b80-65a2-4991-b2bd-21bf7da2b230        2000\n",
      "9   a10702c1-1e25-4289-8304-a3f8ea9dd4ef        2000\n",
      "10  ad2e313d-73d0-4c14-a406-93f3ca78ef0d        2000\n",
      "11  b4057508-20a7-4553-87f1-8dd813fe7eda        2000\n",
      "12  beb050bc-b355-4fa1-bb53-006eea46a697        2000\n",
      "13  df5a8f57-5e81-47c8-89a1-589d9c62cedb        2000\n",
      "14  e5718b9c-cddd-4a63-8ae7-324019377228        2000\n"
     ]
    },
    {
     "data": {
      "text/plain": [
       "role_id       0\n",
       "user_count    0\n",
       "dtype: int64"
      ]
     },
     "execution_count": 17,
     "metadata": {},
     "output_type": "execute_result"
    }
   ],
   "source": [
    "skill_user_count = user_skills_df.groupby('role_id')['userId'].nunique().reset_index(name='user_count')\n",
    "\n",
    "print(skill_user_count)\n",
    "skill_user_count.isnull().sum()"
   ]
  },
  {
   "cell_type": "code",
   "execution_count": 18,
   "metadata": {},
   "outputs": [
    {
     "data": {
      "text/plain": [
       "_id           0\n",
       "name          0\n",
       "desc          0\n",
       "created_at    0\n",
       "updated_at    0\n",
       "dtype: int64"
      ]
     },
     "execution_count": 18,
     "metadata": {},
     "output_type": "execute_result"
    }
   ],
   "source": [
    "df.isnull().sum()"
   ]
  },
  {
   "cell_type": "code",
   "execution_count": 19,
   "metadata": {},
   "outputs": [
    {
     "name": "stdout",
     "output_type": "stream",
     "text": [
      "(15, 7)\n"
     ]
    },
    {
     "data": {
      "text/plain": [
       "_id           0\n",
       "name          0\n",
       "desc          0\n",
       "created_at    0\n",
       "updated_at    0\n",
       "role_id       0\n",
       "user_count    0\n",
       "dtype: int64"
      ]
     },
     "execution_count": 19,
     "metadata": {},
     "output_type": "execute_result"
    }
   ],
   "source": [
    "merged_df=df.merge(skill_user_count,left_on='_id',right_on='role_id',how='inner')\n",
    "print(merged_df.shape)\n",
    "merged_df.isnull().sum()"
   ]
  },
  {
   "cell_type": "code",
   "execution_count": 20,
   "metadata": {},
   "outputs": [],
   "source": [
    "role_skills_df=pd.read_csv('C:/Users/RithikHarendarMahesh/Desktop/fp/DataEngineering/raw/raw_role_skills.csv')"
   ]
  },
  {
   "cell_type": "code",
   "execution_count": 21,
   "metadata": {},
   "outputs": [
    {
     "data": {
      "text/plain": [
       "roleId     0\n",
       "skillId    0\n",
       "name       0\n",
       "dtype: int64"
      ]
     },
     "execution_count": 21,
     "metadata": {},
     "output_type": "execute_result"
    }
   ],
   "source": [
    "role_skills_df.isnull().sum()"
   ]
  },
  {
   "cell_type": "code",
   "execution_count": 22,
   "metadata": {},
   "outputs": [
    {
     "data": {
      "text/plain": [
       "(150, 3)"
      ]
     },
     "execution_count": 22,
     "metadata": {},
     "output_type": "execute_result"
    }
   ],
   "source": [
    "role_skills_df.shape"
   ]
  },
  {
   "cell_type": "code",
   "execution_count": 23,
   "metadata": {},
   "outputs": [
    {
     "name": "stdout",
     "output_type": "stream",
     "text": [
      "(15, 2)\n"
     ]
    },
    {
     "data": {
      "text/html": [
       "<div>\n",
       "<style scoped>\n",
       "    .dataframe tbody tr th:only-of-type {\n",
       "        vertical-align: middle;\n",
       "    }\n",
       "\n",
       "    .dataframe tbody tr th {\n",
       "        vertical-align: top;\n",
       "    }\n",
       "\n",
       "    .dataframe thead th {\n",
       "        text-align: right;\n",
       "    }\n",
       "</style>\n",
       "<table border=\"1\" class=\"dataframe\">\n",
       "  <thead>\n",
       "    <tr style=\"text-align: right;\">\n",
       "      <th></th>\n",
       "      <th>roleId</th>\n",
       "      <th>skill_count</th>\n",
       "    </tr>\n",
       "  </thead>\n",
       "  <tbody>\n",
       "    <tr>\n",
       "      <th>0</th>\n",
       "      <td>1fc24487-22cd-4e45-9276-6390a20f40fe</td>\n",
       "      <td>10</td>\n",
       "    </tr>\n",
       "    <tr>\n",
       "      <th>1</th>\n",
       "      <td>2378806c-a3b2-4320-b09b-470b52d02954</td>\n",
       "      <td>10</td>\n",
       "    </tr>\n",
       "    <tr>\n",
       "      <th>2</th>\n",
       "      <td>25886cc0-ab38-455b-a301-f739643e462d</td>\n",
       "      <td>10</td>\n",
       "    </tr>\n",
       "    <tr>\n",
       "      <th>3</th>\n",
       "      <td>38bd1ab2-e630-4311-9128-7438fe171719</td>\n",
       "      <td>10</td>\n",
       "    </tr>\n",
       "    <tr>\n",
       "      <th>4</th>\n",
       "      <td>46edc8ac-13ac-460b-9317-7642230502af</td>\n",
       "      <td>10</td>\n",
       "    </tr>\n",
       "    <tr>\n",
       "      <th>5</th>\n",
       "      <td>508bfd78-6401-40ad-bc4b-dade38d40352</td>\n",
       "      <td>10</td>\n",
       "    </tr>\n",
       "    <tr>\n",
       "      <th>6</th>\n",
       "      <td>718675e9-24e9-451b-a6e1-586aef8d0afb</td>\n",
       "      <td>10</td>\n",
       "    </tr>\n",
       "    <tr>\n",
       "      <th>7</th>\n",
       "      <td>90a9e49a-3fcc-494c-a3fa-1c5375311cbb</td>\n",
       "      <td>10</td>\n",
       "    </tr>\n",
       "    <tr>\n",
       "      <th>8</th>\n",
       "      <td>97645b80-65a2-4991-b2bd-21bf7da2b230</td>\n",
       "      <td>10</td>\n",
       "    </tr>\n",
       "    <tr>\n",
       "      <th>9</th>\n",
       "      <td>a10702c1-1e25-4289-8304-a3f8ea9dd4ef</td>\n",
       "      <td>10</td>\n",
       "    </tr>\n",
       "    <tr>\n",
       "      <th>10</th>\n",
       "      <td>ad2e313d-73d0-4c14-a406-93f3ca78ef0d</td>\n",
       "      <td>10</td>\n",
       "    </tr>\n",
       "    <tr>\n",
       "      <th>11</th>\n",
       "      <td>b4057508-20a7-4553-87f1-8dd813fe7eda</td>\n",
       "      <td>10</td>\n",
       "    </tr>\n",
       "    <tr>\n",
       "      <th>12</th>\n",
       "      <td>beb050bc-b355-4fa1-bb53-006eea46a697</td>\n",
       "      <td>10</td>\n",
       "    </tr>\n",
       "    <tr>\n",
       "      <th>13</th>\n",
       "      <td>df5a8f57-5e81-47c8-89a1-589d9c62cedb</td>\n",
       "      <td>10</td>\n",
       "    </tr>\n",
       "    <tr>\n",
       "      <th>14</th>\n",
       "      <td>e5718b9c-cddd-4a63-8ae7-324019377228</td>\n",
       "      <td>10</td>\n",
       "    </tr>\n",
       "  </tbody>\n",
       "</table>\n",
       "</div>"
      ],
      "text/plain": [
       "                                  roleId  skill_count\n",
       "0   1fc24487-22cd-4e45-9276-6390a20f40fe           10\n",
       "1   2378806c-a3b2-4320-b09b-470b52d02954           10\n",
       "2   25886cc0-ab38-455b-a301-f739643e462d           10\n",
       "3   38bd1ab2-e630-4311-9128-7438fe171719           10\n",
       "4   46edc8ac-13ac-460b-9317-7642230502af           10\n",
       "5   508bfd78-6401-40ad-bc4b-dade38d40352           10\n",
       "6   718675e9-24e9-451b-a6e1-586aef8d0afb           10\n",
       "7   90a9e49a-3fcc-494c-a3fa-1c5375311cbb           10\n",
       "8   97645b80-65a2-4991-b2bd-21bf7da2b230           10\n",
       "9   a10702c1-1e25-4289-8304-a3f8ea9dd4ef           10\n",
       "10  ad2e313d-73d0-4c14-a406-93f3ca78ef0d           10\n",
       "11  b4057508-20a7-4553-87f1-8dd813fe7eda           10\n",
       "12  beb050bc-b355-4fa1-bb53-006eea46a697           10\n",
       "13  df5a8f57-5e81-47c8-89a1-589d9c62cedb           10\n",
       "14  e5718b9c-cddd-4a63-8ae7-324019377228           10"
      ]
     },
     "execution_count": 23,
     "metadata": {},
     "output_type": "execute_result"
    }
   ],
   "source": [
    "skill_role_count = role_skills_df.groupby('roleId')['skillId'].nunique().reset_index(name='skill_count')\n",
    "\n",
    "print(skill_role_count.shape)\n",
    "skill_role_count.isnull().sum()\n",
    "skill_role_count"
   ]
  },
  {
   "cell_type": "code",
   "execution_count": 24,
   "metadata": {},
   "outputs": [
    {
     "data": {
      "text/plain": [
       "(roleId         0\n",
       " skill_count    0\n",
       " dtype: int64,\n",
       " (15, 2))"
      ]
     },
     "execution_count": 24,
     "metadata": {},
     "output_type": "execute_result"
    }
   ],
   "source": [
    "skill_role_count.isnull().sum(),skill_role_count.shape"
   ]
  },
  {
   "cell_type": "code",
   "execution_count": 25,
   "metadata": {},
   "outputs": [
    {
     "data": {
      "text/plain": [
       "_id           0\n",
       "name          0\n",
       "desc          0\n",
       "created_at    0\n",
       "updated_at    0\n",
       "dtype: int64"
      ]
     },
     "execution_count": 25,
     "metadata": {},
     "output_type": "execute_result"
    }
   ],
   "source": [
    "df.isnull().sum()"
   ]
  },
  {
   "cell_type": "code",
   "execution_count": 26,
   "metadata": {},
   "outputs": [
    {
     "data": {
      "text/plain": [
       "(15, 7)"
      ]
     },
     "execution_count": 26,
     "metadata": {},
     "output_type": "execute_result"
    }
   ],
   "source": [
    "merged_df=df.merge(skill_role_count,left_on='_id',right_on='roleId',how='inner')\n",
    "df=merged_df\n",
    "df.shape"
   ]
  },
  {
   "cell_type": "code",
   "execution_count": 27,
   "metadata": {},
   "outputs": [],
   "source": [
    "df.to_csv('C:/Users/RithikHarendarMahesh/Desktop/fp/DataEngineering/prep/prep_role.csv')"
   ]
  },
  {
   "cell_type": "code",
   "execution_count": null,
   "metadata": {},
   "outputs": [],
   "source": []
  }
 ],
 "metadata": {
  "kernelspec": {
   "display_name": "base",
   "language": "python",
   "name": "python3"
  },
  "language_info": {
   "codemirror_mode": {
    "name": "ipython",
    "version": 3
   },
   "file_extension": ".py",
   "mimetype": "text/x-python",
   "name": "python",
   "nbconvert_exporter": "python",
   "pygments_lexer": "ipython3",
   "version": "3.12.4"
  }
 },
 "nbformat": 4,
 "nbformat_minor": 2
}
