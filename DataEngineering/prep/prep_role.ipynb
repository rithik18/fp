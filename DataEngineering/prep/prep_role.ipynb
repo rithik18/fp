{
 "cells": [
  {
   "cell_type": "code",
   "execution_count": 48,
   "metadata": {},
   "outputs": [],
   "source": [
    "import pandas as pd"
   ]
  },
  {
   "cell_type": "code",
   "execution_count": 49,
   "metadata": {},
   "outputs": [],
   "source": [
    "user_csv=pd.read_csv('C:/Users/RithikHarendarMahesh/Desktop/fp/DataEngineering/raw/raw_roles.csv')"
   ]
  },
  {
   "cell_type": "code",
   "execution_count": 50,
   "metadata": {},
   "outputs": [],
   "source": [
    "df=pd.DataFrame(data=user_csv)"
   ]
  },
  {
   "cell_type": "code",
   "execution_count": 51,
   "metadata": {},
   "outputs": [
    {
     "data": {
      "text/plain": [
       "_id           0\n",
       "name          0\n",
       "desc          0\n",
       "created_at    0\n",
       "updated_at    0\n",
       "dtype: int64"
      ]
     },
     "execution_count": 51,
     "metadata": {},
     "output_type": "execute_result"
    }
   ],
   "source": [
    "df.isnull().sum()"
   ]
  },
  {
   "cell_type": "code",
   "execution_count": 52,
   "metadata": {},
   "outputs": [],
   "source": [
    "df.dropna(inplace=True)"
   ]
  },
  {
   "cell_type": "code",
   "execution_count": 53,
   "metadata": {},
   "outputs": [],
   "source": [
    "df.drop_duplicates(inplace=True)"
   ]
  },
  {
   "cell_type": "code",
   "execution_count": 54,
   "metadata": {},
   "outputs": [
    {
     "data": {
      "text/plain": [
       "_id           object\n",
       "name          object\n",
       "desc          object\n",
       "created_at    object\n",
       "updated_at    object\n",
       "dtype: object"
      ]
     },
     "execution_count": 54,
     "metadata": {},
     "output_type": "execute_result"
    }
   ],
   "source": [
    "df.dtypes"
   ]
  },
  {
   "cell_type": "code",
   "execution_count": 55,
   "metadata": {},
   "outputs": [
    {
     "name": "stdout",
     "output_type": "stream",
     "text": [
      "Original dtypes:\n",
      "_id           object\n",
      "name          object\n",
      "desc          object\n",
      "created_at    object\n",
      "updated_at    object\n",
      "dtype: object\n",
      "\n",
      "Converted dtypes:\n",
      "_id           string[python]\n",
      "name          string[python]\n",
      "desc          string[python]\n",
      "created_at    string[python]\n",
      "updated_at    string[python]\n",
      "dtype: object\n"
     ]
    }
   ],
   "source": [
    "print(\"Original dtypes:\")\n",
    "print(df.dtypes)\n",
    "\n",
    "# Convert dtypes\n",
    "df=df.convert_dtypes()\n",
    "\n",
    "# Check new dtypes\n",
    "print(\"\\nConverted dtypes:\")\n",
    "print(df.convert_dtypes().dtypes)"
   ]
  },
  {
   "cell_type": "code",
   "execution_count": 56,
   "metadata": {},
   "outputs": [],
   "source": [
    "df['created_at'] = [\n",
    "    i.split(\" \")[0] if 'T' not in i else i.split(\"T\")[0] for i in df['created_at']\n",
    "]"
   ]
  },
  {
   "cell_type": "code",
   "execution_count": 57,
   "metadata": {},
   "outputs": [],
   "source": [
    "df['created_at']=pd.to_datetime(df['created_at'])"
   ]
  },
  {
   "cell_type": "code",
   "execution_count": 58,
   "metadata": {},
   "outputs": [],
   "source": [
    "df['updated_at'] = [\n",
    "    i.split(\" \")[0] if 'T' not in i else i.split(\"T\")[0] for i in df['updated_at']\n",
    "]"
   ]
  },
  {
   "cell_type": "code",
   "execution_count": 59,
   "metadata": {},
   "outputs": [],
   "source": [
    "df['updated_at']=pd.to_datetime(df['updated_at'])"
   ]
  },
  {
   "cell_type": "code",
   "execution_count": 60,
   "metadata": {},
   "outputs": [
    {
     "data": {
      "text/plain": [
       "_id           string[python]\n",
       "name          string[python]\n",
       "desc          string[python]\n",
       "created_at    datetime64[ns]\n",
       "updated_at    datetime64[ns]\n",
       "dtype: object"
      ]
     },
     "execution_count": 60,
     "metadata": {},
     "output_type": "execute_result"
    }
   ],
   "source": [
    "df.dtypes"
   ]
  },
  {
   "cell_type": "code",
   "execution_count": 61,
   "metadata": {},
   "outputs": [],
   "source": [
    "user_skills_df=pd.read_csv('C:/Users/RithikHarendarMahesh/Desktop/fp/DataEngineering/prep/prep_user.csv')"
   ]
  },
  {
   "cell_type": "code",
   "execution_count": 62,
   "metadata": {},
   "outputs": [
    {
     "data": {
      "text/plain": [
       "Unnamed: 0        0\n",
       "userId            0\n",
       "total_duration    0\n",
       "count             0\n",
       "_id               0\n",
       "name              0\n",
       "role_id           0\n",
       "joining_date      0\n",
       "department        0\n",
       "mail              0\n",
       "created_at        0\n",
       "updated_at        0\n",
       "password          0\n",
       "profileImage      0\n",
       "role_name         0\n",
       "dtype: int64"
      ]
     },
     "execution_count": 62,
     "metadata": {},
     "output_type": "execute_result"
    }
   ],
   "source": [
    "user_skills_df.isnull().sum()"
   ]
  },
  {
   "cell_type": "code",
   "execution_count": 63,
   "metadata": {},
   "outputs": [
    {
     "name": "stdout",
     "output_type": "stream",
     "text": [
      "                                 role_id  user_count\n",
      "0   048bb997-92d8-4698-bb29-58976f05d262        1495\n",
      "1   15eccef0-3ddf-4abb-8255-dfb5dd1629a4        1465\n",
      "2   4e2d1418-0c83-48a2-9a93-6b50ac26e040        1501\n",
      "3   5057cb20-bd33-4194-90e1-fe3153bd9411        1442\n",
      "4   58d3d191-867b-4e93-90bb-f56579e1f656        1486\n",
      "5   642f662c-67dc-4fbb-9049-2eced614b67b        1508\n",
      "6               66fd540a30450c2a76ac020f           1\n",
      "7               66fd544630450c2a76ac0211           1\n",
      "8   82f3e2ab-fee2-427c-b06e-23562476999f        1539\n",
      "9   89597b8d-073f-4250-b712-1bb4abda8d52        1512\n",
      "10  8f37445a-fdda-4cc8-b3e3-1471fe7f218a        1515\n",
      "11  948a80f9-77ba-480d-ab12-ce6e153a7593        1441\n",
      "12  95c5e3f2-b07f-4564-b327-e9ec2ec7458f        1489\n",
      "13  9bde7d21-ec16-476f-83d1-5fb8cc80b429        1506\n",
      "14  ab04f326-4048-4b80-bacc-a57ada9df3d3        1534\n",
      "15  b26e9fe5-a12a-4bbd-94ca-b6de9b24ed41        1536\n",
      "16  b5b1665a-7d83-4034-a623-5c752adff66c        1512\n",
      "17  badac142-82c7-4b4b-bed3-796873e206ed        1491\n",
      "18  ca6d9b79-81fc-431b-a0bb-85d1f2f99447        1511\n",
      "19  cc848d0b-5ac9-4f0a-98c0-3d0979c3c9a1        1498\n",
      "20  dc67d28b-38f4-4844-99a9-bc47fb26308c        1494\n",
      "21  ee19d957-7fb3-473c-9840-73d7a2b38247        1525\n"
     ]
    },
    {
     "data": {
      "text/plain": [
       "role_id       0\n",
       "user_count    0\n",
       "dtype: int64"
      ]
     },
     "execution_count": 63,
     "metadata": {},
     "output_type": "execute_result"
    }
   ],
   "source": [
    "skill_user_count = user_skills_df.groupby('role_id')['userId'].nunique().reset_index(name='user_count')\n",
    "\n",
    "print(skill_user_count)\n",
    "skill_user_count.isnull().sum()"
   ]
  },
  {
   "cell_type": "code",
   "execution_count": 64,
   "metadata": {},
   "outputs": [
    {
     "data": {
      "text/plain": [
       "_id           0\n",
       "name          0\n",
       "desc          0\n",
       "created_at    0\n",
       "updated_at    0\n",
       "dtype: int64"
      ]
     },
     "execution_count": 64,
     "metadata": {},
     "output_type": "execute_result"
    }
   ],
   "source": [
    "df.isnull().sum()"
   ]
  },
  {
   "cell_type": "code",
   "execution_count": 66,
   "metadata": {},
   "outputs": [
    {
     "data": {
      "text/plain": [
       "_id           0\n",
       "name          0\n",
       "desc          0\n",
       "created_at    0\n",
       "updated_at    0\n",
       "role_id       0\n",
       "user_count    0\n",
       "dtype: int64"
      ]
     },
     "execution_count": 66,
     "metadata": {},
     "output_type": "execute_result"
    }
   ],
   "source": [
    "merged_df=df.merge(skill_user_count,left_on='_id',right_on='role_id',how='inner')\n",
    "merged_df.isnull().sum()"
   ]
  },
  {
   "cell_type": "code",
   "execution_count": 68,
   "metadata": {},
   "outputs": [],
   "source": [
    "role_skills_df=pd.read_csv('C:/Users/RithikHarendarMahesh/Desktop/fp/DataEngineering/prep/prep_role_skill.csv')"
   ]
  },
  {
   "cell_type": "code",
   "execution_count": 69,
   "metadata": {},
   "outputs": [
    {
     "data": {
      "text/plain": [
       "Unnamed: 0    0\n",
       "_id           0\n",
       "RoleId        0\n",
       "department    0\n",
       "skillId       0\n",
       "role_name     0\n",
       "skill_name    0\n",
       "dtype: int64"
      ]
     },
     "execution_count": 69,
     "metadata": {},
     "output_type": "execute_result"
    }
   ],
   "source": [
    "role_skills_df.isnull().sum()"
   ]
  },
  {
   "cell_type": "code",
   "execution_count": 70,
   "metadata": {},
   "outputs": [
    {
     "name": "stdout",
     "output_type": "stream",
     "text": [
      "                                  RoleId  user_count\n",
      "0   048bb997-92d8-4698-bb29-58976f05d262           1\n",
      "1   15eccef0-3ddf-4abb-8255-dfb5dd1629a4           1\n",
      "2   4e2d1418-0c83-48a2-9a93-6b50ac26e040           1\n",
      "3   5057cb20-bd33-4194-90e1-fe3153bd9411           1\n",
      "4   58d3d191-867b-4e93-90bb-f56579e1f656           1\n",
      "5   642f662c-67dc-4fbb-9049-2eced614b67b           1\n",
      "6               66fd540a30450c2a76ac020f           6\n",
      "7               66fd544630450c2a76ac0211           7\n",
      "8               66fd595030450c2a76ac0219           5\n",
      "9   82f3e2ab-fee2-427c-b06e-23562476999f           1\n",
      "10  89597b8d-073f-4250-b712-1bb4abda8d52           1\n",
      "11  8f37445a-fdda-4cc8-b3e3-1471fe7f218a           1\n",
      "12  948a80f9-77ba-480d-ab12-ce6e153a7593           1\n",
      "13  95c5e3f2-b07f-4564-b327-e9ec2ec7458f           1\n",
      "14  9bde7d21-ec16-476f-83d1-5fb8cc80b429           1\n",
      "15  ab04f326-4048-4b80-bacc-a57ada9df3d3           1\n",
      "16  b26e9fe5-a12a-4bbd-94ca-b6de9b24ed41           1\n",
      "17  b5b1665a-7d83-4034-a623-5c752adff66c           1\n",
      "18  badac142-82c7-4b4b-bed3-796873e206ed           1\n",
      "19  ca6d9b79-81fc-431b-a0bb-85d1f2f99447           1\n",
      "20  cc848d0b-5ac9-4f0a-98c0-3d0979c3c9a1           1\n",
      "21  dc67d28b-38f4-4844-99a9-bc47fb26308c           1\n",
      "22  ee19d957-7fb3-473c-9840-73d7a2b38247           1\n"
     ]
    },
    {
     "data": {
      "text/plain": [
       "RoleId        0\n",
       "user_count    0\n",
       "dtype: int64"
      ]
     },
     "execution_count": 70,
     "metadata": {},
     "output_type": "execute_result"
    }
   ],
   "source": [
    "skill_role_count = role_skills_df.groupby('RoleId')['skillId'].nunique().reset_index(name='user_count')\n",
    "\n",
    "print(skill_role_count)\n",
    "skill_role_count.isnull().sum()"
   ]
  },
  {
   "cell_type": "code",
   "execution_count": 72,
   "metadata": {},
   "outputs": [
    {
     "data": {
      "text/plain": [
       "RoleId        0\n",
       "user_count    0\n",
       "dtype: int64"
      ]
     },
     "execution_count": 72,
     "metadata": {},
     "output_type": "execute_result"
    }
   ],
   "source": [
    "skill_role_count.isnull().sum()"
   ]
  },
  {
   "cell_type": "code",
   "execution_count": 73,
   "metadata": {},
   "outputs": [
    {
     "data": {
      "text/plain": [
       "_id           0\n",
       "name          0\n",
       "desc          0\n",
       "created_at    0\n",
       "updated_at    0\n",
       "dtype: int64"
      ]
     },
     "execution_count": 73,
     "metadata": {},
     "output_type": "execute_result"
    }
   ],
   "source": [
    "df.isnull().sum()"
   ]
  },
  {
   "cell_type": "code",
   "execution_count": 78,
   "metadata": {},
   "outputs": [
    {
     "data": {
      "text/plain": [
       "(23, 9)"
      ]
     },
     "execution_count": 78,
     "metadata": {},
     "output_type": "execute_result"
    }
   ],
   "source": [
    "merged_df=df.merge(skill_role_count,left_on='_id',right_on='RoleId',how='inner')\n",
    "df=merged_df\n",
    "df.shape"
   ]
  },
  {
   "cell_type": "code",
   "execution_count": 77,
   "metadata": {},
   "outputs": [],
   "source": [
    "df.to_csv('C:/Users/RithikHarendarMahesh/Desktop/fp/DataEngineering/prep/prep_role.csv')"
   ]
  },
  {
   "cell_type": "code",
   "execution_count": null,
   "metadata": {},
   "outputs": [],
   "source": []
  }
 ],
 "metadata": {
  "kernelspec": {
   "display_name": "Python 3 (ipykernel)",
   "language": "python",
   "name": "python3"
  },
  "language_info": {
   "codemirror_mode": {
    "name": "ipython",
    "version": 3
   },
   "file_extension": ".py",
   "mimetype": "text/x-python",
   "name": "python",
   "nbconvert_exporter": "python",
   "pygments_lexer": "ipython3",
   "version": "3.12.4"
  }
 },
 "nbformat": 4,
 "nbformat_minor": 2
}
