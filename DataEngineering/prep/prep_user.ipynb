{
 "cells": [
  {
   "cell_type": "code",
   "execution_count": 47,
   "metadata": {},
   "outputs": [],
   "source": [
    "import pandas as pd"
   ]
  },
  {
   "cell_type": "code",
   "execution_count": 48,
   "metadata": {},
   "outputs": [],
   "source": [
    "user_csv=pd.read_csv('C:/Users/RithikHarendarMahesh/Desktop/fp/DataEngineering/raw/raw_users.csv')"
   ]
  },
  {
   "cell_type": "code",
   "execution_count": 49,
   "metadata": {},
   "outputs": [],
   "source": [
    "df=pd.DataFrame(data=user_csv)"
   ]
  },
  {
   "cell_type": "code",
   "execution_count": 50,
   "metadata": {},
   "outputs": [
    {
     "data": {
      "text/plain": [
       "_id             0\n",
       "name            0\n",
       "role_id         0\n",
       "joining_date    0\n",
       "department      0\n",
       "mail            0\n",
       "created_at      0\n",
       "updated_at      0\n",
       "password        0\n",
       "profileImage    0\n",
       "dtype: int64"
      ]
     },
     "execution_count": 50,
     "metadata": {},
     "output_type": "execute_result"
    }
   ],
   "source": [
    "df.isnull().sum()"
   ]
  },
  {
   "cell_type": "code",
   "execution_count": 51,
   "metadata": {},
   "outputs": [],
   "source": [
    "df.dropna(inplace=True)"
   ]
  },
  {
   "cell_type": "code",
   "execution_count": 52,
   "metadata": {},
   "outputs": [],
   "source": [
    "df.drop_duplicates(inplace=True)"
   ]
  },
  {
   "cell_type": "code",
   "execution_count": 53,
   "metadata": {},
   "outputs": [
    {
     "data": {
      "text/plain": [
       "_id             object\n",
       "name            object\n",
       "role_id         object\n",
       "joining_date    object\n",
       "department      object\n",
       "mail            object\n",
       "created_at      object\n",
       "updated_at      object\n",
       "password        object\n",
       "profileImage    object\n",
       "dtype: object"
      ]
     },
     "execution_count": 53,
     "metadata": {},
     "output_type": "execute_result"
    }
   ],
   "source": [
    "df.dtypes"
   ]
  },
  {
   "cell_type": "code",
   "execution_count": 54,
   "metadata": {},
   "outputs": [
    {
     "name": "stdout",
     "output_type": "stream",
     "text": [
      "Original dtypes:\n",
      "_id             object\n",
      "name            object\n",
      "role_id         object\n",
      "joining_date    object\n",
      "department      object\n",
      "mail            object\n",
      "created_at      object\n",
      "updated_at      object\n",
      "password        object\n",
      "profileImage    object\n",
      "dtype: object\n",
      "\n",
      "Converted dtypes:\n",
      "_id             string[python]\n",
      "name            string[python]\n",
      "role_id         string[python]\n",
      "joining_date    string[python]\n",
      "department      string[python]\n",
      "mail            string[python]\n",
      "created_at      string[python]\n",
      "updated_at      string[python]\n",
      "password        string[python]\n",
      "profileImage    string[python]\n",
      "dtype: object\n"
     ]
    }
   ],
   "source": [
    "print(\"Original dtypes:\")\n",
    "print(df.dtypes)\n",
    "\n",
    "# Convert dtypes\n",
    "df=df.convert_dtypes()\n",
    "\n",
    "# Check new dtypes\n",
    "print(\"\\nConverted dtypes:\")\n",
    "print(df.convert_dtypes().dtypes)"
   ]
  },
  {
   "cell_type": "code",
   "execution_count": 55,
   "metadata": {},
   "outputs": [],
   "source": [
    "df['created_at'] = [\n",
    "    i.split(\" \")[0] if 'T' not in i else i.split(\"T\")[0] for i in df['created_at']\n",
    "]"
   ]
  },
  {
   "cell_type": "code",
   "execution_count": 56,
   "metadata": {},
   "outputs": [],
   "source": [
    "df['created_at']=pd.to_datetime(df['created_at'])"
   ]
  },
  {
   "cell_type": "code",
   "execution_count": 57,
   "metadata": {},
   "outputs": [],
   "source": [
    "df['updated_at'] = [\n",
    "    i.split(\" \")[0] if 'T' not in i else i.split(\"T\")[0] for i in df['updated_at']\n",
    "]"
   ]
  },
  {
   "cell_type": "code",
   "execution_count": 58,
   "metadata": {},
   "outputs": [],
   "source": [
    "df['updated_at']=pd.to_datetime(df['updated_at'])"
   ]
  },
  {
   "cell_type": "code",
   "execution_count": 59,
   "metadata": {},
   "outputs": [
    {
     "data": {
      "text/plain": [
       "_id             string[python]\n",
       "name            string[python]\n",
       "role_id         string[python]\n",
       "joining_date    string[python]\n",
       "department      string[python]\n",
       "mail            string[python]\n",
       "created_at      datetime64[ns]\n",
       "updated_at      datetime64[ns]\n",
       "password        string[python]\n",
       "profileImage    string[python]\n",
       "dtype: object"
      ]
     },
     "execution_count": 59,
     "metadata": {},
     "output_type": "execute_result"
    }
   ],
   "source": [
    "df.dtypes"
   ]
  },
  {
   "cell_type": "code",
   "execution_count": 60,
   "metadata": {},
   "outputs": [
    {
     "data": {
      "text/plain": [
       "['ADMIN', 'DEVOPS', 'DEVOPS', 'DATA_ANALYTICS', 'FULL_STACK', ..., 'ADMIN', 'FULL_STACK', 'DATA_ANALYTICS', 'FULL_STACK', 'ADMIN']\n",
       "Length: 10012\n",
       "Categories (6, string): [ADMIN, DATA_ANALYTICS, DATA_ENGINEERING, DEVOPS, FULL_STACK, OTHER]"
      ]
     },
     "execution_count": 60,
     "metadata": {},
     "output_type": "execute_result"
    }
   ],
   "source": [
    "pd.Categorical(df['department'])"
   ]
  },
  {
   "cell_type": "code",
   "execution_count": 61,
   "metadata": {},
   "outputs": [
    {
     "data": {
      "text/plain": [
       "['66fe345174c62caaf765f1a0', '66fd540a30450c2a76ac020f', '66fd595030450c2a76ac0219', '66fd595030450c2a76ac0219', '66fd540a30450c2a76ac020f', ..., '90f2db4f-87a9-462a-86cf-db3f17909500', 'd8e0c8e2-a2e8-481e-ae43-252922f5b4d5', '35f46dfd-9092-450c-9a6c-15adba915ff4', '9a80ec84-d7be-4f88-a44e-71f81636c182', 'b432d55f-e5f8-44fd-acc3-02dcb6c7c295']\n",
       "Length: 10012\n",
       "Categories (25, string): [0f1eb5e5-4aff-4892-b959-f63493d2df5f, 1779a748-b62d-4911-bcd0-8db4cca11ccc, 197b4546-cd8d-48a0-b6b5-ecd4fe821452, 35f46dfd-9092-450c-9a6c-15adba915ff4, ..., d8e0c8e2-a2e8-481e-ae43-252922f5b4d5, f7da2380-0edf-45ac-9bb8-556715432a75, ff39073d-a039-4b00-aa42-337a06d673ae, ff5b02af-df76-4999-94c2-9911cff6ec24]"
      ]
     },
     "execution_count": 61,
     "metadata": {},
     "output_type": "execute_result"
    }
   ],
   "source": [
    "pd.Categorical(df['role_id'])"
   ]
  },
  {
   "cell_type": "code",
   "execution_count": 65,
   "metadata": {},
   "outputs": [
    {
     "data": {
      "text/html": [
       "<div>\n",
       "<style scoped>\n",
       "    .dataframe tbody tr th:only-of-type {\n",
       "        vertical-align: middle;\n",
       "    }\n",
       "\n",
       "    .dataframe tbody tr th {\n",
       "        vertical-align: top;\n",
       "    }\n",
       "\n",
       "    .dataframe thead th {\n",
       "        text-align: right;\n",
       "    }\n",
       "</style>\n",
       "<table border=\"1\" class=\"dataframe\">\n",
       "  <thead>\n",
       "    <tr style=\"text-align: right;\">\n",
       "      <th></th>\n",
       "      <th>_id</th>\n",
       "      <th>name</th>\n",
       "      <th>role_id</th>\n",
       "      <th>joining_date</th>\n",
       "      <th>department</th>\n",
       "      <th>mail</th>\n",
       "      <th>created_at</th>\n",
       "      <th>updated_at</th>\n",
       "      <th>password</th>\n",
       "      <th>profileImage</th>\n",
       "      <th>role_name</th>\n",
       "    </tr>\n",
       "  </thead>\n",
       "  <tbody>\n",
       "    <tr>\n",
       "      <th>0</th>\n",
       "      <td>66fad1b6c79fafa475699b3a</td>\n",
       "      <td>Alice</td>\n",
       "      <td>66fe345174c62caaf765f1a0</td>\n",
       "      <td>2023-01-10</td>\n",
       "      <td>ADMIN</td>\n",
       "      <td>admin@example.com</td>\n",
       "      <td>2024-09-30</td>\n",
       "      <td>2024-09-30</td>\n",
       "      <td>Abcd@1234</td>\n",
       "      <td>data:image/svg+xml;base64,PHN2ZyB4bWxucz0iaHR0...</td>\n",
       "      <td>ADMIN</td>\n",
       "    </tr>\n",
       "    <tr>\n",
       "      <th>1</th>\n",
       "      <td>66fe81770b5205e064c2aed9</td>\n",
       "      <td>emp5</td>\n",
       "      <td>66fd540a30450c2a76ac020f</td>\n",
       "      <td>15-01-2023</td>\n",
       "      <td>DEVOPS</td>\n",
       "      <td>emp5@gmail.com</td>\n",
       "      <td>2024-10-03</td>\n",
       "      <td>2024-10-07</td>\n",
       "      <td>Abcd@1234</td>\n",
       "      <td>data:image/jpeg;base64,/9j/4AAQSkZJRgABAgEASAB...</td>\n",
       "      <td>Senior Software Engineer</td>\n",
       "    </tr>\n",
       "    <tr>\n",
       "      <th>2</th>\n",
       "      <td>66fe81770b5205e064c2aedd</td>\n",
       "      <td>emp9</td>\n",
       "      <td>66fd595030450c2a76ac0219</td>\n",
       "      <td>19-01-2023</td>\n",
       "      <td>DEVOPS</td>\n",
       "      <td>emp9@gmail.com</td>\n",
       "      <td>2024-10-03</td>\n",
       "      <td>2024-10-07</td>\n",
       "      <td>Abcd@1234</td>\n",
       "      <td>data:image/jpeg;base64,/9j/4AAQSkZJRgABAQAAAQA...</td>\n",
       "      <td>Software Engineer</td>\n",
       "    </tr>\n",
       "    <tr>\n",
       "      <th>3</th>\n",
       "      <td>66fe81770b5205e064c2aedb</td>\n",
       "      <td>emp7</td>\n",
       "      <td>66fd595030450c2a76ac0219</td>\n",
       "      <td>17-01-2023</td>\n",
       "      <td>DATA_ANALYTICS</td>\n",
       "      <td>emp7@gmail.com</td>\n",
       "      <td>2024-10-03</td>\n",
       "      <td>2024-10-07</td>\n",
       "      <td>Abcd@1234</td>\n",
       "      <td>data:image/jpeg;base64,/9j/4AAQSkZJRgABAgAAZAB...</td>\n",
       "      <td>Software Engineer</td>\n",
       "    </tr>\n",
       "    <tr>\n",
       "      <th>4</th>\n",
       "      <td>66fe81770b5205e064c2aed5</td>\n",
       "      <td>emp1</td>\n",
       "      <td>66fd540a30450c2a76ac020f</td>\n",
       "      <td>11-01-2023</td>\n",
       "      <td>FULL_STACK</td>\n",
       "      <td>emp1@gmail.com</td>\n",
       "      <td>2024-10-03</td>\n",
       "      <td>2024-10-07</td>\n",
       "      <td>Abcd@1234</td>\n",
       "      <td>data:image/jpeg;base64,/9j/4AAQSkZJRgABAgEASAB...</td>\n",
       "      <td>Senior Software Engineer</td>\n",
       "    </tr>\n",
       "  </tbody>\n",
       "</table>\n",
       "</div>"
      ],
      "text/plain": [
       "                        _id   name                   role_id joining_date  \\\n",
       "0  66fad1b6c79fafa475699b3a  Alice  66fe345174c62caaf765f1a0   2023-01-10   \n",
       "1  66fe81770b5205e064c2aed9   emp5  66fd540a30450c2a76ac020f   15-01-2023   \n",
       "2  66fe81770b5205e064c2aedd   emp9  66fd595030450c2a76ac0219   19-01-2023   \n",
       "3  66fe81770b5205e064c2aedb   emp7  66fd595030450c2a76ac0219   17-01-2023   \n",
       "4  66fe81770b5205e064c2aed5   emp1  66fd540a30450c2a76ac020f   11-01-2023   \n",
       "\n",
       "       department               mail created_at updated_at   password  \\\n",
       "0           ADMIN  admin@example.com 2024-09-30 2024-09-30  Abcd@1234   \n",
       "1          DEVOPS     emp5@gmail.com 2024-10-03 2024-10-07  Abcd@1234   \n",
       "2          DEVOPS     emp9@gmail.com 2024-10-03 2024-10-07  Abcd@1234   \n",
       "3  DATA_ANALYTICS     emp7@gmail.com 2024-10-03 2024-10-07  Abcd@1234   \n",
       "4      FULL_STACK     emp1@gmail.com 2024-10-03 2024-10-07  Abcd@1234   \n",
       "\n",
       "                                        profileImage                 role_name  \n",
       "0  data:image/svg+xml;base64,PHN2ZyB4bWxucz0iaHR0...                     ADMIN  \n",
       "1  data:image/jpeg;base64,/9j/4AAQSkZJRgABAgEASAB...  Senior Software Engineer  \n",
       "2  data:image/jpeg;base64,/9j/4AAQSkZJRgABAQAAAQA...         Software Engineer  \n",
       "3  data:image/jpeg;base64,/9j/4AAQSkZJRgABAgAAZAB...         Software Engineer  \n",
       "4  data:image/jpeg;base64,/9j/4AAQSkZJRgABAgEASAB...  Senior Software Engineer  "
      ]
     },
     "execution_count": 65,
     "metadata": {},
     "output_type": "execute_result"
    }
   ],
   "source": [
    "roles_df = pd.read_csv('C:/Users/RithikHarendarMahesh/Desktop/fp/DataEngineering/raw/raw_roles.csv')\n",
    "role_mapping = dict(zip(roles_df['_id'], roles_df['name']))\n",
    "df['role_name'] = df['role_id'].map(role_mapping)\n",
    "df.head()"
   ]
  },
  {
   "cell_type": "code",
   "execution_count": 67,
   "metadata": {},
   "outputs": [
    {
     "name": "stdout",
     "output_type": "stream",
     "text": [
      "Original dtypes:\n",
      "_id             string[python]\n",
      "name            string[python]\n",
      "role_id         string[python]\n",
      "joining_date    string[python]\n",
      "department      string[python]\n",
      "mail            string[python]\n",
      "created_at      datetime64[ns]\n",
      "updated_at      datetime64[ns]\n",
      "password        string[python]\n",
      "profileImage    string[python]\n",
      "role_name               object\n",
      "dtype: object\n",
      "\n",
      "Converted dtypes:\n",
      "_id             string[python]\n",
      "name            string[python]\n",
      "role_id         string[python]\n",
      "joining_date    string[python]\n",
      "department      string[python]\n",
      "mail            string[python]\n",
      "created_at      datetime64[ns]\n",
      "updated_at      datetime64[ns]\n",
      "password        string[python]\n",
      "profileImage    string[python]\n",
      "role_name       string[python]\n",
      "dtype: object\n"
     ]
    }
   ],
   "source": [
    "print(\"Original dtypes:\")\n",
    "print(df.dtypes)\n",
    "\n",
    "# Convert dtypes\n",
    "df=df.convert_dtypes()\n",
    "\n",
    "# Check new dtypes\n",
    "print(\"\\nConverted dtypes:\")\n",
    "print(df.convert_dtypes().dtypes)"
   ]
  },
  {
   "cell_type": "code",
   "execution_count": null,
   "metadata": {},
   "outputs": [],
   "source": []
  }
 ],
 "metadata": {
  "kernelspec": {
   "display_name": "Python 3 (ipykernel)",
   "language": "python",
   "name": "python3"
  },
  "language_info": {
   "codemirror_mode": {
    "name": "ipython",
    "version": 3
   },
   "file_extension": ".py",
   "mimetype": "text/x-python",
   "name": "python",
   "nbconvert_exporter": "python",
   "pygments_lexer": "ipython3",
   "version": "3.12.4"
  }
 },
 "nbformat": 4,
 "nbformat_minor": 2
}
