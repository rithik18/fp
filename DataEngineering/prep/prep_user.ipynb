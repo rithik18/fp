{
 "cells": [
  {
   "cell_type": "code",
   "execution_count": 96,
   "metadata": {},
   "outputs": [],
   "source": [
    "import pandas as pd"
   ]
  },
  {
   "cell_type": "code",
   "execution_count": 97,
   "metadata": {},
   "outputs": [],
   "source": [
    "user_csv=pd.read_csv('E:/JMAN/fp/DataEngineering/raw/raw_users.csv')"
   ]
  },
  {
   "cell_type": "code",
   "execution_count": 98,
   "metadata": {},
   "outputs": [],
   "source": [
    "df=pd.DataFrame(data=user_csv)"
   ]
  },
  {
   "cell_type": "code",
   "execution_count": 99,
   "metadata": {},
   "outputs": [
    {
     "data": {
      "text/plain": [
       "_id             0\n",
       "name            0\n",
       "role_id         0\n",
       "joining_date    0\n",
       "department      0\n",
       "mail            0\n",
       "created_at      0\n",
       "updated_at      0\n",
       "password        0\n",
       "profileImage    0\n",
       "dtype: int64"
      ]
     },
     "execution_count": 99,
     "metadata": {},
     "output_type": "execute_result"
    }
   ],
   "source": [
    "df.isnull().sum()"
   ]
  },
  {
   "cell_type": "code",
   "execution_count": 100,
   "metadata": {},
   "outputs": [],
   "source": [
    "df.dropna(inplace=True)"
   ]
  },
  {
   "cell_type": "code",
   "execution_count": 101,
   "metadata": {},
   "outputs": [],
   "source": [
    "df.drop_duplicates(inplace=True)"
   ]
  },
  {
   "cell_type": "code",
   "execution_count": 102,
   "metadata": {},
   "outputs": [
    {
     "data": {
      "text/plain": [
       "_id             object\n",
       "name            object\n",
       "role_id         object\n",
       "joining_date    object\n",
       "department      object\n",
       "mail            object\n",
       "created_at      object\n",
       "updated_at      object\n",
       "password        object\n",
       "profileImage    object\n",
       "dtype: object"
      ]
     },
     "execution_count": 102,
     "metadata": {},
     "output_type": "execute_result"
    }
   ],
   "source": [
    "df.dtypes"
   ]
  },
  {
   "cell_type": "code",
   "execution_count": 103,
   "metadata": {},
   "outputs": [
    {
     "name": "stdout",
     "output_type": "stream",
     "text": [
      "Original dtypes:\n",
      "_id             object\n",
      "name            object\n",
      "role_id         object\n",
      "joining_date    object\n",
      "department      object\n",
      "mail            object\n",
      "created_at      object\n",
      "updated_at      object\n",
      "password        object\n",
      "profileImage    object\n",
      "dtype: object\n",
      "\n",
      "Converted dtypes:\n",
      "_id             string\n",
      "name            string\n",
      "role_id         string\n",
      "joining_date    string\n",
      "department      string\n",
      "mail            string\n",
      "created_at      string\n",
      "updated_at      string\n",
      "password        string\n",
      "profileImage    string\n",
      "dtype: object\n"
     ]
    }
   ],
   "source": [
    "print(\"Original dtypes:\")\n",
    "print(df.dtypes)\n",
    "\n",
    "# Convert dtypes\n",
    "df=df.convert_dtypes()\n",
    "\n",
    "# Check new dtypes\n",
    "print(\"\\nConverted dtypes:\")\n",
    "print(df.convert_dtypes().dtypes)"
   ]
  },
  {
   "cell_type": "code",
   "execution_count": 104,
   "metadata": {},
   "outputs": [],
   "source": [
    "df['created_at'] = [\n",
    "    i.split(\" \")[0] if 'T' not in i else i.split(\"T\")[0] for i in df['created_at']\n",
    "]"
   ]
  },
  {
   "cell_type": "code",
   "execution_count": 105,
   "metadata": {},
   "outputs": [],
   "source": [
    "df['created_at']=pd.to_datetime(df['created_at'])"
   ]
  },
  {
   "cell_type": "code",
   "execution_count": 106,
   "metadata": {},
   "outputs": [],
   "source": [
    "df['updated_at'] = [\n",
    "    i.split(\" \")[0] if 'T' not in i else i.split(\"T\")[0] for i in df['updated_at']\n",
    "]"
   ]
  },
  {
   "cell_type": "code",
   "execution_count": 107,
   "metadata": {},
   "outputs": [],
   "source": [
    "df['updated_at']=pd.to_datetime(df['updated_at'])"
   ]
  },
  {
   "cell_type": "code",
   "execution_count": 108,
   "metadata": {},
   "outputs": [
    {
     "data": {
      "text/plain": [
       "_id                     string\n",
       "name                    string\n",
       "role_id                 string\n",
       "joining_date            string\n",
       "department              string\n",
       "mail                    string\n",
       "created_at      datetime64[ns]\n",
       "updated_at      datetime64[ns]\n",
       "password                string\n",
       "profileImage            string\n",
       "dtype: object"
      ]
     },
     "execution_count": 108,
     "metadata": {},
     "output_type": "execute_result"
    }
   ],
   "source": [
    "df.dtypes"
   ]
  },
  {
   "cell_type": "code",
   "execution_count": 109,
   "metadata": {},
   "outputs": [
    {
     "data": {
      "text/plain": [
       "['DATA_ENGINEERING', 'ADMIN', 'ADMIN', 'FULL_STACK', 'DATA_ANALYTICS', ..., 'DEVOPS', 'DEVOPS', 'DATA_ANALYTICS', 'OTHER', 'DATA_ANALYTICS']\n",
       "Length: 30000\n",
       "Categories (6, object): ['ADMIN', 'DATA_ANALYTICS', 'DATA_ENGINEERING', 'DEVOPS', 'FULL_STACK', 'OTHER']"
      ]
     },
     "execution_count": 109,
     "metadata": {},
     "output_type": "execute_result"
    }
   ],
   "source": [
    "pd.Categorical(df['department'])"
   ]
  },
  {
   "cell_type": "code",
   "execution_count": 110,
   "metadata": {},
   "outputs": [
    {
     "data": {
      "text/plain": [
       "['4a7cdfaf-b436-46e2-a8a2-5dc4835d40b9', '4a7cdfaf-b436-46e2-a8a2-5dc4835d40b9', '4a7cdfaf-b436-46e2-a8a2-5dc4835d40b9', '4a7cdfaf-b436-46e2-a8a2-5dc4835d40b9', '4a7cdfaf-b436-46e2-a8a2-5dc4835d40b9', ..., '663c1743-1dc9-4c1a-8200-701078aefaf8', '663c1743-1dc9-4c1a-8200-701078aefaf8', '663c1743-1dc9-4c1a-8200-701078aefaf8', '663c1743-1dc9-4c1a-8200-701078aefaf8', '663c1743-1dc9-4c1a-8200-701078aefaf8']\n",
       "Length: 30000\n",
       "Categories (15, object): ['196c18a9-4aef-4755-a3ee-4b6f418c71e3', '1a52dd70-8466-4e47-8600-1677136f4fec', '2ff032a8-e315-4073-afa5-9906c87db625', '4a7cdfaf-b436-46e2-a8a2-5dc4835d40b9', ..., 'c581ca4e-3b3e-47fe-b1c1-ac3dcaf75783', 'ccb4b4f9-80cb-4f1b-9ae8-f16d9da11659', 'd70499b1-0629-47f6-ad56-cd859093daf9', 'e35f4200-b9f8-44c1-b417-09d833a343d9']"
      ]
     },
     "execution_count": 110,
     "metadata": {},
     "output_type": "execute_result"
    }
   ],
   "source": [
    "pd.Categorical(df['role_id'])"
   ]
  },
  {
   "cell_type": "code",
   "execution_count": 111,
   "metadata": {},
   "outputs": [
    {
     "data": {
      "text/html": [
       "<div>\n",
       "<style scoped>\n",
       "    .dataframe tbody tr th:only-of-type {\n",
       "        vertical-align: middle;\n",
       "    }\n",
       "\n",
       "    .dataframe tbody tr th {\n",
       "        vertical-align: top;\n",
       "    }\n",
       "\n",
       "    .dataframe thead th {\n",
       "        text-align: right;\n",
       "    }\n",
       "</style>\n",
       "<table border=\"1\" class=\"dataframe\">\n",
       "  <thead>\n",
       "    <tr style=\"text-align: right;\">\n",
       "      <th></th>\n",
       "      <th>_id</th>\n",
       "      <th>name</th>\n",
       "      <th>role_id</th>\n",
       "      <th>joining_date</th>\n",
       "      <th>department</th>\n",
       "      <th>mail</th>\n",
       "      <th>created_at</th>\n",
       "      <th>updated_at</th>\n",
       "      <th>password</th>\n",
       "      <th>profileImage</th>\n",
       "      <th>role_name</th>\n",
       "    </tr>\n",
       "  </thead>\n",
       "  <tbody>\n",
       "    <tr>\n",
       "      <th>0</th>\n",
       "      <td>67fb9f26-ec27-43d2-9966-a8a2e39bafa0</td>\n",
       "      <td>Willie French</td>\n",
       "      <td>4a7cdfaf-b436-46e2-a8a2-5dc4835d40b9</td>\n",
       "      <td>2021-01-05T07:16:14</td>\n",
       "      <td>DATA_ENGINEERING</td>\n",
       "      <td>wilsonsusan@example.com</td>\n",
       "      <td>2022-11-03</td>\n",
       "      <td>2024-09-21</td>\n",
       "      <td>!I^jSfvr5g</td>\n",
       "      <td>https://dummyimage.com/558x59</td>\n",
       "      <td>Software Engineer</td>\n",
       "    </tr>\n",
       "    <tr>\n",
       "      <th>1</th>\n",
       "      <td>0372c88a-079f-4d09-b662-74c84c18217d</td>\n",
       "      <td>John Torres</td>\n",
       "      <td>4a7cdfaf-b436-46e2-a8a2-5dc4835d40b9</td>\n",
       "      <td>2022-09-25T05:52:37</td>\n",
       "      <td>ADMIN</td>\n",
       "      <td>rflores@example.org</td>\n",
       "      <td>2020-08-10</td>\n",
       "      <td>2024-02-19</td>\n",
       "      <td>X!+06vPaD^</td>\n",
       "      <td>https://dummyimage.com/673x958</td>\n",
       "      <td>Software Engineer</td>\n",
       "    </tr>\n",
       "    <tr>\n",
       "      <th>2</th>\n",
       "      <td>85de085d-af92-4756-9593-758f8d1924f4</td>\n",
       "      <td>Eric Lucas</td>\n",
       "      <td>4a7cdfaf-b436-46e2-a8a2-5dc4835d40b9</td>\n",
       "      <td>2023-05-29T22:58:51</td>\n",
       "      <td>ADMIN</td>\n",
       "      <td>zjones@example.org</td>\n",
       "      <td>2022-07-29</td>\n",
       "      <td>2022-08-05</td>\n",
       "      <td>6gOnW&amp;dh&amp;&amp;</td>\n",
       "      <td>https://picsum.photos/734/599</td>\n",
       "      <td>Software Engineer</td>\n",
       "    </tr>\n",
       "    <tr>\n",
       "      <th>3</th>\n",
       "      <td>39aef360-3396-4311-a769-a1a7c4dc9d44</td>\n",
       "      <td>Ryan Ware</td>\n",
       "      <td>4a7cdfaf-b436-46e2-a8a2-5dc4835d40b9</td>\n",
       "      <td>2021-09-21T08:35:14</td>\n",
       "      <td>FULL_STACK</td>\n",
       "      <td>dbrooks@example.com</td>\n",
       "      <td>2024-07-10</td>\n",
       "      <td>2021-06-04</td>\n",
       "      <td>&amp;cMjDl6bb9</td>\n",
       "      <td>https://dummyimage.com/248x182</td>\n",
       "      <td>Software Engineer</td>\n",
       "    </tr>\n",
       "    <tr>\n",
       "      <th>4</th>\n",
       "      <td>6d8eb96b-19d9-4d3a-990d-aa1d1b4b1673</td>\n",
       "      <td>Diane Wright</td>\n",
       "      <td>4a7cdfaf-b436-46e2-a8a2-5dc4835d40b9</td>\n",
       "      <td>2021-06-20T11:49:28</td>\n",
       "      <td>DATA_ANALYTICS</td>\n",
       "      <td>millernicole@example.com</td>\n",
       "      <td>2020-11-18</td>\n",
       "      <td>2020-07-31</td>\n",
       "      <td>L9MUsiI9&amp;e</td>\n",
       "      <td>https://dummyimage.com/560x1024</td>\n",
       "      <td>Software Engineer</td>\n",
       "    </tr>\n",
       "  </tbody>\n",
       "</table>\n",
       "</div>"
      ],
      "text/plain": [
       "                                    _id           name  \\\n",
       "0  67fb9f26-ec27-43d2-9966-a8a2e39bafa0  Willie French   \n",
       "1  0372c88a-079f-4d09-b662-74c84c18217d    John Torres   \n",
       "2  85de085d-af92-4756-9593-758f8d1924f4     Eric Lucas   \n",
       "3  39aef360-3396-4311-a769-a1a7c4dc9d44      Ryan Ware   \n",
       "4  6d8eb96b-19d9-4d3a-990d-aa1d1b4b1673   Diane Wright   \n",
       "\n",
       "                                role_id         joining_date  \\\n",
       "0  4a7cdfaf-b436-46e2-a8a2-5dc4835d40b9  2021-01-05T07:16:14   \n",
       "1  4a7cdfaf-b436-46e2-a8a2-5dc4835d40b9  2022-09-25T05:52:37   \n",
       "2  4a7cdfaf-b436-46e2-a8a2-5dc4835d40b9  2023-05-29T22:58:51   \n",
       "3  4a7cdfaf-b436-46e2-a8a2-5dc4835d40b9  2021-09-21T08:35:14   \n",
       "4  4a7cdfaf-b436-46e2-a8a2-5dc4835d40b9  2021-06-20T11:49:28   \n",
       "\n",
       "         department                      mail created_at updated_at  \\\n",
       "0  DATA_ENGINEERING   wilsonsusan@example.com 2022-11-03 2024-09-21   \n",
       "1             ADMIN       rflores@example.org 2020-08-10 2024-02-19   \n",
       "2             ADMIN        zjones@example.org 2022-07-29 2022-08-05   \n",
       "3        FULL_STACK       dbrooks@example.com 2024-07-10 2021-06-04   \n",
       "4    DATA_ANALYTICS  millernicole@example.com 2020-11-18 2020-07-31   \n",
       "\n",
       "     password                     profileImage          role_name  \n",
       "0  !I^jSfvr5g    https://dummyimage.com/558x59  Software Engineer  \n",
       "1  X!+06vPaD^   https://dummyimage.com/673x958  Software Engineer  \n",
       "2  6gOnW&dh&&    https://picsum.photos/734/599  Software Engineer  \n",
       "3  &cMjDl6bb9   https://dummyimage.com/248x182  Software Engineer  \n",
       "4  L9MUsiI9&e  https://dummyimage.com/560x1024  Software Engineer  "
      ]
     },
     "execution_count": 111,
     "metadata": {},
     "output_type": "execute_result"
    }
   ],
   "source": [
    "roles_df = pd.read_csv('E:/JMAN/fp/DataEngineering/raw/raw_roles.csv')\n",
    "role_mapping = dict(zip(roles_df['_id'], roles_df['name']))\n",
    "df['role_name'] = df['role_id'].map(role_mapping)\n",
    "df.head()"
   ]
  },
  {
   "cell_type": "code",
   "execution_count": 112,
   "metadata": {},
   "outputs": [
    {
     "name": "stdout",
     "output_type": "stream",
     "text": [
      "Original dtypes:\n",
      "_id                     string\n",
      "name                    string\n",
      "role_id                 string\n",
      "joining_date            string\n",
      "department              string\n",
      "mail                    string\n",
      "created_at      datetime64[ns]\n",
      "updated_at      datetime64[ns]\n",
      "password                string\n",
      "profileImage            string\n",
      "role_name               object\n",
      "dtype: object\n",
      "\n",
      "Converted dtypes:\n",
      "_id                     string\n",
      "name                    string\n",
      "role_id                 string\n",
      "joining_date            string\n",
      "department              string\n",
      "mail                    string\n",
      "created_at      datetime64[ns]\n",
      "updated_at      datetime64[ns]\n",
      "password                string\n",
      "profileImage            string\n",
      "role_name               string\n",
      "dtype: object\n"
     ]
    }
   ],
   "source": [
    "print(\"Original dtypes:\")\n",
    "print(df.dtypes)\n",
    "\n",
    "# Convert dtypes\n",
    "df=df.convert_dtypes()\n",
    "\n",
    "# Check new dtypes\n",
    "print(\"\\nConverted dtypes:\")\n",
    "print(df.convert_dtypes().dtypes)"
   ]
  },
  {
   "cell_type": "code",
   "execution_count": 113,
   "metadata": {},
   "outputs": [],
   "source": [
    "user_cert_csv=pd.read_csv('E:/JMAN/fp/DataEngineering/raw/raw_user_certifications.csv')"
   ]
  },
  {
   "cell_type": "code",
   "execution_count": 114,
   "metadata": {},
   "outputs": [],
   "source": [
    "user_cert_df=pd.DataFrame(data=user_cert_csv)"
   ]
  },
  {
   "cell_type": "code",
   "execution_count": 115,
   "metadata": {},
   "outputs": [
    {
     "data": {
      "text/html": [
       "<div>\n",
       "<style scoped>\n",
       "    .dataframe tbody tr th:only-of-type {\n",
       "        vertical-align: middle;\n",
       "    }\n",
       "\n",
       "    .dataframe tbody tr th {\n",
       "        vertical-align: top;\n",
       "    }\n",
       "\n",
       "    .dataframe thead th {\n",
       "        text-align: right;\n",
       "    }\n",
       "</style>\n",
       "<table border=\"1\" class=\"dataframe\">\n",
       "  <thead>\n",
       "    <tr style=\"text-align: right;\">\n",
       "      <th></th>\n",
       "      <th>_id</th>\n",
       "      <th>userId</th>\n",
       "      <th>certificationId</th>\n",
       "      <th>certificationName</th>\n",
       "      <th>started_at</th>\n",
       "      <th>completed_at</th>\n",
       "      <th>competency</th>\n",
       "      <th>isVerified</th>\n",
       "      <th>imageData</th>\n",
       "    </tr>\n",
       "  </thead>\n",
       "  <tbody>\n",
       "    <tr>\n",
       "      <th>0</th>\n",
       "      <td>f37cc047-63a5-46fd-9e14-a8080733af37</td>\n",
       "      <td>67fb9f26-ec27-43d2-9966-a8a2e39bafa0</td>\n",
       "      <td>6371cb98-2998-41d8-82f8-9992a36685ad</td>\n",
       "      <td>Certified Ethical Hacker</td>\n",
       "      <td>2023-09-22T08:24:37</td>\n",
       "      <td>2023-10-08T19:14:05</td>\n",
       "      <td>ADVANCED</td>\n",
       "      <td>True</td>\n",
       "      <td>https://dummyimage.com/932x801</td>\n",
       "    </tr>\n",
       "    <tr>\n",
       "      <th>1</th>\n",
       "      <td>f3b6ffa1-3085-414e-990e-bc1268b87725</td>\n",
       "      <td>67fb9f26-ec27-43d2-9966-a8a2e39bafa0</td>\n",
       "      <td>f9f74721-d989-4b0a-a67e-8c65d6986b4b</td>\n",
       "      <td>AWS Certified Solutions Architect</td>\n",
       "      <td>2022-03-07T16:24:10</td>\n",
       "      <td>2023-06-24T21:12:10</td>\n",
       "      <td>BEGINNER</td>\n",
       "      <td>False</td>\n",
       "      <td>https://placekitten.com/94/54</td>\n",
       "    </tr>\n",
       "    <tr>\n",
       "      <th>2</th>\n",
       "      <td>1e45adaf-ba8e-44a5-b6ee-d9e26e68928e</td>\n",
       "      <td>67fb9f26-ec27-43d2-9966-a8a2e39bafa0</td>\n",
       "      <td>3ff2a4df-7cae-430f-80c7-878988d38ead</td>\n",
       "      <td>Certified Information Systems Security Profess...</td>\n",
       "      <td>2020-09-01T19:36:14</td>\n",
       "      <td>2022-01-08T15:20:39</td>\n",
       "      <td>INTERMEDIATE</td>\n",
       "      <td>True</td>\n",
       "      <td>https://picsum.photos/444/802</td>\n",
       "    </tr>\n",
       "    <tr>\n",
       "      <th>3</th>\n",
       "      <td>2d5c58ea-6936-4955-bf35-370a5b367254</td>\n",
       "      <td>67fb9f26-ec27-43d2-9966-a8a2e39bafa0</td>\n",
       "      <td>a6c6d728-8176-4a62-9df9-a102e79879b5</td>\n",
       "      <td>CompTIA Security+</td>\n",
       "      <td>2023-07-10T03:00:07</td>\n",
       "      <td>2023-07-10T03:00:07.225735</td>\n",
       "      <td>BEGINNER</td>\n",
       "      <td>True</td>\n",
       "      <td>https://picsum.photos/637/338</td>\n",
       "    </tr>\n",
       "    <tr>\n",
       "      <th>4</th>\n",
       "      <td>3fe8010b-0dee-4c89-91fd-f8c0d5481422</td>\n",
       "      <td>67fb9f26-ec27-43d2-9966-a8a2e39bafa0</td>\n",
       "      <td>e63b693d-1c85-48c1-b5b7-15fa7583447a</td>\n",
       "      <td>Certified Kubernetes Administrator</td>\n",
       "      <td>2021-07-28T22:32:06</td>\n",
       "      <td>2021-09-07T14:55:14</td>\n",
       "      <td>INTERMEDIATE</td>\n",
       "      <td>False</td>\n",
       "      <td>https://placekitten.com/208/896</td>\n",
       "    </tr>\n",
       "  </tbody>\n",
       "</table>\n",
       "</div>"
      ],
      "text/plain": [
       "                                    _id                                userId  \\\n",
       "0  f37cc047-63a5-46fd-9e14-a8080733af37  67fb9f26-ec27-43d2-9966-a8a2e39bafa0   \n",
       "1  f3b6ffa1-3085-414e-990e-bc1268b87725  67fb9f26-ec27-43d2-9966-a8a2e39bafa0   \n",
       "2  1e45adaf-ba8e-44a5-b6ee-d9e26e68928e  67fb9f26-ec27-43d2-9966-a8a2e39bafa0   \n",
       "3  2d5c58ea-6936-4955-bf35-370a5b367254  67fb9f26-ec27-43d2-9966-a8a2e39bafa0   \n",
       "4  3fe8010b-0dee-4c89-91fd-f8c0d5481422  67fb9f26-ec27-43d2-9966-a8a2e39bafa0   \n",
       "\n",
       "                        certificationId  \\\n",
       "0  6371cb98-2998-41d8-82f8-9992a36685ad   \n",
       "1  f9f74721-d989-4b0a-a67e-8c65d6986b4b   \n",
       "2  3ff2a4df-7cae-430f-80c7-878988d38ead   \n",
       "3  a6c6d728-8176-4a62-9df9-a102e79879b5   \n",
       "4  e63b693d-1c85-48c1-b5b7-15fa7583447a   \n",
       "\n",
       "                                   certificationName           started_at  \\\n",
       "0                           Certified Ethical Hacker  2023-09-22T08:24:37   \n",
       "1                  AWS Certified Solutions Architect  2022-03-07T16:24:10   \n",
       "2  Certified Information Systems Security Profess...  2020-09-01T19:36:14   \n",
       "3                                  CompTIA Security+  2023-07-10T03:00:07   \n",
       "4                 Certified Kubernetes Administrator  2021-07-28T22:32:06   \n",
       "\n",
       "                 completed_at    competency  isVerified  \\\n",
       "0         2023-10-08T19:14:05      ADVANCED        True   \n",
       "1         2023-06-24T21:12:10      BEGINNER       False   \n",
       "2         2022-01-08T15:20:39  INTERMEDIATE        True   \n",
       "3  2023-07-10T03:00:07.225735      BEGINNER        True   \n",
       "4         2021-09-07T14:55:14  INTERMEDIATE       False   \n",
       "\n",
       "                         imageData  \n",
       "0   https://dummyimage.com/932x801  \n",
       "1    https://placekitten.com/94/54  \n",
       "2    https://picsum.photos/444/802  \n",
       "3    https://picsum.photos/637/338  \n",
       "4  https://placekitten.com/208/896  "
      ]
     },
     "execution_count": 115,
     "metadata": {},
     "output_type": "execute_result"
    }
   ],
   "source": [
    "user_cert_df.head()"
   ]
  },
  {
   "cell_type": "code",
   "execution_count": 116,
   "metadata": {},
   "outputs": [],
   "source": [
    "user_cert_df['completed_at'] = [\n",
    "    i.split(\" \")[0] if 'T' not in i else i.split(\"T\")[0] for i in user_cert_df['completed_at']\n",
    "]"
   ]
  },
  {
   "cell_type": "code",
   "execution_count": null,
   "metadata": {},
   "outputs": [],
   "source": []
  },
  {
   "cell_type": "code",
   "execution_count": 117,
   "metadata": {},
   "outputs": [],
   "source": [
    "user_cert_df['started_at'] = [\n",
    "    i.split(\" \")[0] if 'T' not in i else i.split(\"T\")[0] for i in user_cert_df['started_at']\n",
    "]"
   ]
  },
  {
   "cell_type": "code",
   "execution_count": 118,
   "metadata": {},
   "outputs": [],
   "source": [
    "user_cert_df['completed_at']=pd.to_datetime(user_cert_df['completed_at'])"
   ]
  },
  {
   "cell_type": "code",
   "execution_count": 119,
   "metadata": {},
   "outputs": [],
   "source": [
    "user_cert_df['started_at']=pd.to_datetime(user_cert_df['started_at'])"
   ]
  },
  {
   "cell_type": "code",
   "execution_count": 120,
   "metadata": {},
   "outputs": [
    {
     "data": {
      "text/plain": [
       "Timedelta('16 days 00:00:00')"
      ]
     },
     "execution_count": 120,
     "metadata": {},
     "output_type": "execute_result"
    }
   ],
   "source": [
    "(user_cert_df['completed_at'][0]-user_cert_df['started_at'][0])"
   ]
  },
  {
   "cell_type": "code",
   "execution_count": 121,
   "metadata": {},
   "outputs": [],
   "source": [
    "user_cert_df['duration'] =user_cert_df['completed_at'] - user_cert_df['started_at']"
   ]
  },
  {
   "cell_type": "code",
   "execution_count": 122,
   "metadata": {},
   "outputs": [
    {
     "data": {
      "text/html": [
       "<div>\n",
       "<style scoped>\n",
       "    .dataframe tbody tr th:only-of-type {\n",
       "        vertical-align: middle;\n",
       "    }\n",
       "\n",
       "    .dataframe tbody tr th {\n",
       "        vertical-align: top;\n",
       "    }\n",
       "\n",
       "    .dataframe thead th {\n",
       "        text-align: right;\n",
       "    }\n",
       "</style>\n",
       "<table border=\"1\" class=\"dataframe\">\n",
       "  <thead>\n",
       "    <tr style=\"text-align: right;\">\n",
       "      <th></th>\n",
       "      <th>_id</th>\n",
       "      <th>userId</th>\n",
       "      <th>certificationId</th>\n",
       "      <th>certificationName</th>\n",
       "      <th>started_at</th>\n",
       "      <th>completed_at</th>\n",
       "      <th>competency</th>\n",
       "      <th>isVerified</th>\n",
       "      <th>imageData</th>\n",
       "      <th>duration</th>\n",
       "    </tr>\n",
       "  </thead>\n",
       "  <tbody>\n",
       "    <tr>\n",
       "      <th>0</th>\n",
       "      <td>f37cc047-63a5-46fd-9e14-a8080733af37</td>\n",
       "      <td>67fb9f26-ec27-43d2-9966-a8a2e39bafa0</td>\n",
       "      <td>6371cb98-2998-41d8-82f8-9992a36685ad</td>\n",
       "      <td>Certified Ethical Hacker</td>\n",
       "      <td>2023-09-22</td>\n",
       "      <td>2023-10-08</td>\n",
       "      <td>ADVANCED</td>\n",
       "      <td>True</td>\n",
       "      <td>https://dummyimage.com/932x801</td>\n",
       "      <td>16 days</td>\n",
       "    </tr>\n",
       "    <tr>\n",
       "      <th>1</th>\n",
       "      <td>f3b6ffa1-3085-414e-990e-bc1268b87725</td>\n",
       "      <td>67fb9f26-ec27-43d2-9966-a8a2e39bafa0</td>\n",
       "      <td>f9f74721-d989-4b0a-a67e-8c65d6986b4b</td>\n",
       "      <td>AWS Certified Solutions Architect</td>\n",
       "      <td>2022-03-07</td>\n",
       "      <td>2023-06-24</td>\n",
       "      <td>BEGINNER</td>\n",
       "      <td>False</td>\n",
       "      <td>https://placekitten.com/94/54</td>\n",
       "      <td>474 days</td>\n",
       "    </tr>\n",
       "    <tr>\n",
       "      <th>2</th>\n",
       "      <td>1e45adaf-ba8e-44a5-b6ee-d9e26e68928e</td>\n",
       "      <td>67fb9f26-ec27-43d2-9966-a8a2e39bafa0</td>\n",
       "      <td>3ff2a4df-7cae-430f-80c7-878988d38ead</td>\n",
       "      <td>Certified Information Systems Security Profess...</td>\n",
       "      <td>2020-09-01</td>\n",
       "      <td>2022-01-08</td>\n",
       "      <td>INTERMEDIATE</td>\n",
       "      <td>True</td>\n",
       "      <td>https://picsum.photos/444/802</td>\n",
       "      <td>494 days</td>\n",
       "    </tr>\n",
       "    <tr>\n",
       "      <th>3</th>\n",
       "      <td>2d5c58ea-6936-4955-bf35-370a5b367254</td>\n",
       "      <td>67fb9f26-ec27-43d2-9966-a8a2e39bafa0</td>\n",
       "      <td>a6c6d728-8176-4a62-9df9-a102e79879b5</td>\n",
       "      <td>CompTIA Security+</td>\n",
       "      <td>2023-07-10</td>\n",
       "      <td>2023-07-10</td>\n",
       "      <td>BEGINNER</td>\n",
       "      <td>True</td>\n",
       "      <td>https://picsum.photos/637/338</td>\n",
       "      <td>0 days</td>\n",
       "    </tr>\n",
       "    <tr>\n",
       "      <th>4</th>\n",
       "      <td>3fe8010b-0dee-4c89-91fd-f8c0d5481422</td>\n",
       "      <td>67fb9f26-ec27-43d2-9966-a8a2e39bafa0</td>\n",
       "      <td>e63b693d-1c85-48c1-b5b7-15fa7583447a</td>\n",
       "      <td>Certified Kubernetes Administrator</td>\n",
       "      <td>2021-07-28</td>\n",
       "      <td>2021-09-07</td>\n",
       "      <td>INTERMEDIATE</td>\n",
       "      <td>False</td>\n",
       "      <td>https://placekitten.com/208/896</td>\n",
       "      <td>41 days</td>\n",
       "    </tr>\n",
       "  </tbody>\n",
       "</table>\n",
       "</div>"
      ],
      "text/plain": [
       "                                    _id                                userId  \\\n",
       "0  f37cc047-63a5-46fd-9e14-a8080733af37  67fb9f26-ec27-43d2-9966-a8a2e39bafa0   \n",
       "1  f3b6ffa1-3085-414e-990e-bc1268b87725  67fb9f26-ec27-43d2-9966-a8a2e39bafa0   \n",
       "2  1e45adaf-ba8e-44a5-b6ee-d9e26e68928e  67fb9f26-ec27-43d2-9966-a8a2e39bafa0   \n",
       "3  2d5c58ea-6936-4955-bf35-370a5b367254  67fb9f26-ec27-43d2-9966-a8a2e39bafa0   \n",
       "4  3fe8010b-0dee-4c89-91fd-f8c0d5481422  67fb9f26-ec27-43d2-9966-a8a2e39bafa0   \n",
       "\n",
       "                        certificationId  \\\n",
       "0  6371cb98-2998-41d8-82f8-9992a36685ad   \n",
       "1  f9f74721-d989-4b0a-a67e-8c65d6986b4b   \n",
       "2  3ff2a4df-7cae-430f-80c7-878988d38ead   \n",
       "3  a6c6d728-8176-4a62-9df9-a102e79879b5   \n",
       "4  e63b693d-1c85-48c1-b5b7-15fa7583447a   \n",
       "\n",
       "                                   certificationName started_at completed_at  \\\n",
       "0                           Certified Ethical Hacker 2023-09-22   2023-10-08   \n",
       "1                  AWS Certified Solutions Architect 2022-03-07   2023-06-24   \n",
       "2  Certified Information Systems Security Profess... 2020-09-01   2022-01-08   \n",
       "3                                  CompTIA Security+ 2023-07-10   2023-07-10   \n",
       "4                 Certified Kubernetes Administrator 2021-07-28   2021-09-07   \n",
       "\n",
       "     competency  isVerified                        imageData duration  \n",
       "0      ADVANCED        True   https://dummyimage.com/932x801  16 days  \n",
       "1      BEGINNER       False    https://placekitten.com/94/54 474 days  \n",
       "2  INTERMEDIATE        True    https://picsum.photos/444/802 494 days  \n",
       "3      BEGINNER        True    https://picsum.photos/637/338   0 days  \n",
       "4  INTERMEDIATE       False  https://placekitten.com/208/896  41 days  "
      ]
     },
     "execution_count": 122,
     "metadata": {},
     "output_type": "execute_result"
    }
   ],
   "source": [
    "user_cert_df.head()"
   ]
  },
  {
   "cell_type": "code",
   "execution_count": 123,
   "metadata": {},
   "outputs": [
    {
     "data": {
      "text/html": [
       "<div>\n",
       "<style scoped>\n",
       "    .dataframe tbody tr th:only-of-type {\n",
       "        vertical-align: middle;\n",
       "    }\n",
       "\n",
       "    .dataframe tbody tr th {\n",
       "        vertical-align: top;\n",
       "    }\n",
       "\n",
       "    .dataframe thead th {\n",
       "        text-align: right;\n",
       "    }\n",
       "</style>\n",
       "<table border=\"1\" class=\"dataframe\">\n",
       "  <thead>\n",
       "    <tr style=\"text-align: right;\">\n",
       "      <th></th>\n",
       "      <th>_id</th>\n",
       "      <th>userId</th>\n",
       "      <th>certificationId</th>\n",
       "      <th>certificationName</th>\n",
       "      <th>started_at</th>\n",
       "      <th>completed_at</th>\n",
       "      <th>competency</th>\n",
       "      <th>isVerified</th>\n",
       "      <th>imageData</th>\n",
       "      <th>duration</th>\n",
       "    </tr>\n",
       "  </thead>\n",
       "  <tbody>\n",
       "  </tbody>\n",
       "</table>\n",
       "</div>"
      ],
      "text/plain": [
       "Empty DataFrame\n",
       "Columns: [_id, userId, certificationId, certificationName, started_at, completed_at, competency, isVerified, imageData, duration]\n",
       "Index: []"
      ]
     },
     "execution_count": 123,
     "metadata": {},
     "output_type": "execute_result"
    }
   ],
   "source": [
    "\n",
    "\n",
    "user_cert_df.loc[user_cert_df['duration']<pd.Timedelta('0 days')]"
   ]
  },
  {
   "cell_type": "code",
   "execution_count": 124,
   "metadata": {},
   "outputs": [
    {
     "data": {
      "text/plain": [
       "_id                  0\n",
       "userId               0\n",
       "certificationId      0\n",
       "certificationName    0\n",
       "started_at           0\n",
       "completed_at         0\n",
       "competency           0\n",
       "isVerified           0\n",
       "imageData            0\n",
       "duration             0\n",
       "dtype: int64"
      ]
     },
     "execution_count": 124,
     "metadata": {},
     "output_type": "execute_result"
    }
   ],
   "source": [
    "user_cert_df.isnull().sum()"
   ]
  },
  {
   "cell_type": "code",
   "execution_count": 125,
   "metadata": {},
   "outputs": [
    {
     "data": {
      "text/plain": [
       "(30000, 2)"
      ]
     },
     "execution_count": 125,
     "metadata": {},
     "output_type": "execute_result"
    }
   ],
   "source": [
    "grouped_df = user_cert_df.groupby(['userId']).size().reset_index(name='count')\n",
    "grouped_df.shape"
   ]
  },
  {
   "cell_type": "code",
   "execution_count": 126,
   "metadata": {},
   "outputs": [],
   "source": [
    "merged_df = grouped_df.merge(df, left_on='userId', right_on='_id', how='inner')"
   ]
  },
  {
   "cell_type": "code",
   "execution_count": 127,
   "metadata": {},
   "outputs": [
    {
     "data": {
      "text/html": [
       "<div>\n",
       "<style scoped>\n",
       "    .dataframe tbody tr th:only-of-type {\n",
       "        vertical-align: middle;\n",
       "    }\n",
       "\n",
       "    .dataframe tbody tr th {\n",
       "        vertical-align: top;\n",
       "    }\n",
       "\n",
       "    .dataframe thead th {\n",
       "        text-align: right;\n",
       "    }\n",
       "</style>\n",
       "<table border=\"1\" class=\"dataframe\">\n",
       "  <thead>\n",
       "    <tr style=\"text-align: right;\">\n",
       "      <th></th>\n",
       "      <th>userId</th>\n",
       "      <th>count</th>\n",
       "      <th>_id</th>\n",
       "      <th>name</th>\n",
       "      <th>role_id</th>\n",
       "      <th>joining_date</th>\n",
       "      <th>department</th>\n",
       "      <th>mail</th>\n",
       "      <th>created_at</th>\n",
       "      <th>updated_at</th>\n",
       "      <th>password</th>\n",
       "      <th>profileImage</th>\n",
       "      <th>role_name</th>\n",
       "    </tr>\n",
       "  </thead>\n",
       "  <tbody>\n",
       "    <tr>\n",
       "      <th>0</th>\n",
       "      <td>0001cd17-b1ef-481e-8f16-b86c03222af3</td>\n",
       "      <td>5</td>\n",
       "      <td>0001cd17-b1ef-481e-8f16-b86c03222af3</td>\n",
       "      <td>Stephanie Doyle</td>\n",
       "      <td>4e0c4606-0668-4356-bb17-e3b13140c28e</td>\n",
       "      <td>2020-08-25T17:39:23</td>\n",
       "      <td>FULL_STACK</td>\n",
       "      <td>dianaharmon@example.com</td>\n",
       "      <td>2022-02-20</td>\n",
       "      <td>2022-05-23</td>\n",
       "      <td>c(0JdJY)+0</td>\n",
       "      <td>https://placekitten.com/949/26</td>\n",
       "      <td>UX/UI Designer</td>\n",
       "    </tr>\n",
       "    <tr>\n",
       "      <th>1</th>\n",
       "      <td>000897ae-ccc9-469e-92d6-e3ed79b4b369</td>\n",
       "      <td>5</td>\n",
       "      <td>000897ae-ccc9-469e-92d6-e3ed79b4b369</td>\n",
       "      <td>Sonya Conrad</td>\n",
       "      <td>196c18a9-4aef-4755-a3ee-4b6f418c71e3</td>\n",
       "      <td>2022-05-12T17:19:00</td>\n",
       "      <td>ADMIN</td>\n",
       "      <td>darren95@example.org</td>\n",
       "      <td>2021-11-08</td>\n",
       "      <td>2021-11-22</td>\n",
       "      <td>%3u4!VV))j</td>\n",
       "      <td>https://dummyimage.com/967x454</td>\n",
       "      <td>Backend Developer</td>\n",
       "    </tr>\n",
       "    <tr>\n",
       "      <th>2</th>\n",
       "      <td>000a146b-94c2-45e6-99ac-eb62ac2b022e</td>\n",
       "      <td>5</td>\n",
       "      <td>000a146b-94c2-45e6-99ac-eb62ac2b022e</td>\n",
       "      <td>Rhonda Lyons</td>\n",
       "      <td>ccb4b4f9-80cb-4f1b-9ae8-f16d9da11659</td>\n",
       "      <td>2022-12-20T03:38:29</td>\n",
       "      <td>DEVOPS</td>\n",
       "      <td>oyoder@example.org</td>\n",
       "      <td>2024-05-03</td>\n",
       "      <td>2021-05-11</td>\n",
       "      <td>4ipDG2O9R$</td>\n",
       "      <td>https://dummyimage.com/203x506</td>\n",
       "      <td>Cloud Engineer</td>\n",
       "    </tr>\n",
       "    <tr>\n",
       "      <th>3</th>\n",
       "      <td>000b0fad-ede6-4786-bee6-b8cefba98cf3</td>\n",
       "      <td>5</td>\n",
       "      <td>000b0fad-ede6-4786-bee6-b8cefba98cf3</td>\n",
       "      <td>Anna Paul</td>\n",
       "      <td>663c1743-1dc9-4c1a-8200-701078aefaf8</td>\n",
       "      <td>2023-03-21T22:30:14</td>\n",
       "      <td>DEVOPS</td>\n",
       "      <td>josephlester@example.com</td>\n",
       "      <td>2023-05-15</td>\n",
       "      <td>2021-04-21</td>\n",
       "      <td>Li1B*f#3f@</td>\n",
       "      <td>https://placekitten.com/87/673</td>\n",
       "      <td>Technical Writer</td>\n",
       "    </tr>\n",
       "    <tr>\n",
       "      <th>4</th>\n",
       "      <td>000b87bb-2672-49e4-a4c5-ceb032b0395c</td>\n",
       "      <td>5</td>\n",
       "      <td>000b87bb-2672-49e4-a4c5-ceb032b0395c</td>\n",
       "      <td>Sarah Lee</td>\n",
       "      <td>791867b5-ae38-44aa-b2b0-c258b4f25afb</td>\n",
       "      <td>2024-04-19T05:14:46</td>\n",
       "      <td>ADMIN</td>\n",
       "      <td>courtney01@example.com</td>\n",
       "      <td>2023-08-02</td>\n",
       "      <td>2024-08-05</td>\n",
       "      <td>pV6Q&amp;x@@M*</td>\n",
       "      <td>https://picsum.photos/496/736</td>\n",
       "      <td>Full Stack Developer</td>\n",
       "    </tr>\n",
       "  </tbody>\n",
       "</table>\n",
       "</div>"
      ],
      "text/plain": [
       "                                 userId  count  \\\n",
       "0  0001cd17-b1ef-481e-8f16-b86c03222af3      5   \n",
       "1  000897ae-ccc9-469e-92d6-e3ed79b4b369      5   \n",
       "2  000a146b-94c2-45e6-99ac-eb62ac2b022e      5   \n",
       "3  000b0fad-ede6-4786-bee6-b8cefba98cf3      5   \n",
       "4  000b87bb-2672-49e4-a4c5-ceb032b0395c      5   \n",
       "\n",
       "                                    _id             name  \\\n",
       "0  0001cd17-b1ef-481e-8f16-b86c03222af3  Stephanie Doyle   \n",
       "1  000897ae-ccc9-469e-92d6-e3ed79b4b369     Sonya Conrad   \n",
       "2  000a146b-94c2-45e6-99ac-eb62ac2b022e     Rhonda Lyons   \n",
       "3  000b0fad-ede6-4786-bee6-b8cefba98cf3        Anna Paul   \n",
       "4  000b87bb-2672-49e4-a4c5-ceb032b0395c        Sarah Lee   \n",
       "\n",
       "                                role_id         joining_date  department  \\\n",
       "0  4e0c4606-0668-4356-bb17-e3b13140c28e  2020-08-25T17:39:23  FULL_STACK   \n",
       "1  196c18a9-4aef-4755-a3ee-4b6f418c71e3  2022-05-12T17:19:00       ADMIN   \n",
       "2  ccb4b4f9-80cb-4f1b-9ae8-f16d9da11659  2022-12-20T03:38:29      DEVOPS   \n",
       "3  663c1743-1dc9-4c1a-8200-701078aefaf8  2023-03-21T22:30:14      DEVOPS   \n",
       "4  791867b5-ae38-44aa-b2b0-c258b4f25afb  2024-04-19T05:14:46       ADMIN   \n",
       "\n",
       "                       mail created_at updated_at    password  \\\n",
       "0   dianaharmon@example.com 2022-02-20 2022-05-23  c(0JdJY)+0   \n",
       "1      darren95@example.org 2021-11-08 2021-11-22  %3u4!VV))j   \n",
       "2        oyoder@example.org 2024-05-03 2021-05-11  4ipDG2O9R$   \n",
       "3  josephlester@example.com 2023-05-15 2021-04-21  Li1B*f#3f@   \n",
       "4    courtney01@example.com 2023-08-02 2024-08-05  pV6Q&x@@M*   \n",
       "\n",
       "                     profileImage             role_name  \n",
       "0  https://placekitten.com/949/26        UX/UI Designer  \n",
       "1  https://dummyimage.com/967x454     Backend Developer  \n",
       "2  https://dummyimage.com/203x506        Cloud Engineer  \n",
       "3  https://placekitten.com/87/673      Technical Writer  \n",
       "4   https://picsum.photos/496/736  Full Stack Developer  "
      ]
     },
     "execution_count": 127,
     "metadata": {},
     "output_type": "execute_result"
    }
   ],
   "source": [
    "merged_df.head()"
   ]
  },
  {
   "cell_type": "code",
   "execution_count": 128,
   "metadata": {},
   "outputs": [
    {
     "data": {
      "text/plain": [
       "userId          0\n",
       "count           0\n",
       "_id             0\n",
       "name            0\n",
       "role_id         0\n",
       "joining_date    0\n",
       "department      0\n",
       "mail            0\n",
       "created_at      0\n",
       "updated_at      0\n",
       "password        0\n",
       "profileImage    0\n",
       "role_name       0\n",
       "dtype: int64"
      ]
     },
     "execution_count": 128,
     "metadata": {},
     "output_type": "execute_result"
    }
   ],
   "source": [
    "merged_df.isna().sum()"
   ]
  },
  {
   "cell_type": "code",
   "execution_count": 129,
   "metadata": {},
   "outputs": [],
   "source": [
    "df=merged_df"
   ]
  },
  {
   "cell_type": "code",
   "execution_count": 130,
   "metadata": {},
   "outputs": [
    {
     "data": {
      "text/html": [
       "<div>\n",
       "<style scoped>\n",
       "    .dataframe tbody tr th:only-of-type {\n",
       "        vertical-align: middle;\n",
       "    }\n",
       "\n",
       "    .dataframe tbody tr th {\n",
       "        vertical-align: top;\n",
       "    }\n",
       "\n",
       "    .dataframe thead th {\n",
       "        text-align: right;\n",
       "    }\n",
       "</style>\n",
       "<table border=\"1\" class=\"dataframe\">\n",
       "  <thead>\n",
       "    <tr style=\"text-align: right;\">\n",
       "      <th></th>\n",
       "      <th>userId</th>\n",
       "      <th>total_duration</th>\n",
       "    </tr>\n",
       "  </thead>\n",
       "  <tbody>\n",
       "    <tr>\n",
       "      <th>0</th>\n",
       "      <td>0001cd17-b1ef-481e-8f16-b86c03222af3</td>\n",
       "      <td>298 days</td>\n",
       "    </tr>\n",
       "    <tr>\n",
       "      <th>1</th>\n",
       "      <td>000897ae-ccc9-469e-92d6-e3ed79b4b369</td>\n",
       "      <td>1177 days</td>\n",
       "    </tr>\n",
       "    <tr>\n",
       "      <th>2</th>\n",
       "      <td>000a146b-94c2-45e6-99ac-eb62ac2b022e</td>\n",
       "      <td>3 days</td>\n",
       "    </tr>\n",
       "    <tr>\n",
       "      <th>3</th>\n",
       "      <td>000b0fad-ede6-4786-bee6-b8cefba98cf3</td>\n",
       "      <td>706 days</td>\n",
       "    </tr>\n",
       "    <tr>\n",
       "      <th>4</th>\n",
       "      <td>000b87bb-2672-49e4-a4c5-ceb032b0395c</td>\n",
       "      <td>702 days</td>\n",
       "    </tr>\n",
       "  </tbody>\n",
       "</table>\n",
       "</div>"
      ],
      "text/plain": [
       "                                 userId total_duration\n",
       "0  0001cd17-b1ef-481e-8f16-b86c03222af3       298 days\n",
       "1  000897ae-ccc9-469e-92d6-e3ed79b4b369      1177 days\n",
       "2  000a146b-94c2-45e6-99ac-eb62ac2b022e         3 days\n",
       "3  000b0fad-ede6-4786-bee6-b8cefba98cf3       706 days\n",
       "4  000b87bb-2672-49e4-a4c5-ceb032b0395c       702 days"
      ]
     },
     "execution_count": 130,
     "metadata": {},
     "output_type": "execute_result"
    }
   ],
   "source": [
    "grouped_df = user_cert_df.groupby('userId')['duration'].sum().reset_index(name='total_duration')\n",
    "grouped_df.head()"
   ]
  },
  {
   "cell_type": "code",
   "execution_count": 131,
   "metadata": {},
   "outputs": [
    {
     "data": {
      "text/plain": [
       "(30000, 15)"
      ]
     },
     "execution_count": 131,
     "metadata": {},
     "output_type": "execute_result"
    }
   ],
   "source": [
    "merged_df = grouped_df.merge(df, left_on='userId', right_on='_id', how='inner')\n",
    "merged_df.shape"
   ]
  },
  {
   "cell_type": "code",
   "execution_count": 132,
   "metadata": {},
   "outputs": [
    {
     "data": {
      "text/plain": [
       "userId_x          0\n",
       "total_duration    0\n",
       "userId_y          0\n",
       "count             0\n",
       "_id               0\n",
       "name              0\n",
       "role_id           0\n",
       "joining_date      0\n",
       "department        0\n",
       "mail              0\n",
       "created_at        0\n",
       "updated_at        0\n",
       "password          0\n",
       "profileImage      0\n",
       "role_name         0\n",
       "dtype: int64"
      ]
     },
     "execution_count": 132,
     "metadata": {},
     "output_type": "execute_result"
    }
   ],
   "source": [
    "merged_df.isnull().sum()"
   ]
  },
  {
   "cell_type": "code",
   "execution_count": 133,
   "metadata": {},
   "outputs": [],
   "source": [
    "merged_df.rename({\"userId_x\":\"userId\"},axis=1,inplace=True)"
   ]
  },
  {
   "cell_type": "code",
   "execution_count": 134,
   "metadata": {},
   "outputs": [],
   "source": [
    "# merged_df.drop('total_duration_y', axis=1, inplace=True)\n",
    "merged_df.drop('userId_y', axis=1, inplace=True)"
   ]
  },
  {
   "cell_type": "code",
   "execution_count": 135,
   "metadata": {},
   "outputs": [
    {
     "data": {
      "text/plain": [
       "userId            0\n",
       "total_duration    0\n",
       "count             0\n",
       "_id               0\n",
       "name              0\n",
       "role_id           0\n",
       "joining_date      0\n",
       "department        0\n",
       "mail              0\n",
       "created_at        0\n",
       "updated_at        0\n",
       "password          0\n",
       "profileImage      0\n",
       "role_name         0\n",
       "dtype: int64"
      ]
     },
     "execution_count": 135,
     "metadata": {},
     "output_type": "execute_result"
    }
   ],
   "source": [
    "merged_df.isna().sum()"
   ]
  },
  {
   "cell_type": "code",
   "execution_count": 136,
   "metadata": {},
   "outputs": [
    {
     "data": {
      "text/html": [
       "<div>\n",
       "<style scoped>\n",
       "    .dataframe tbody tr th:only-of-type {\n",
       "        vertical-align: middle;\n",
       "    }\n",
       "\n",
       "    .dataframe tbody tr th {\n",
       "        vertical-align: top;\n",
       "    }\n",
       "\n",
       "    .dataframe thead th {\n",
       "        text-align: right;\n",
       "    }\n",
       "</style>\n",
       "<table border=\"1\" class=\"dataframe\">\n",
       "  <thead>\n",
       "    <tr style=\"text-align: right;\">\n",
       "      <th></th>\n",
       "      <th>userId</th>\n",
       "      <th>total_duration</th>\n",
       "      <th>count</th>\n",
       "      <th>_id</th>\n",
       "      <th>name</th>\n",
       "      <th>role_id</th>\n",
       "      <th>joining_date</th>\n",
       "      <th>department</th>\n",
       "      <th>mail</th>\n",
       "      <th>created_at</th>\n",
       "      <th>updated_at</th>\n",
       "      <th>password</th>\n",
       "      <th>profileImage</th>\n",
       "      <th>role_name</th>\n",
       "    </tr>\n",
       "  </thead>\n",
       "  <tbody>\n",
       "    <tr>\n",
       "      <th>0</th>\n",
       "      <td>0001cd17-b1ef-481e-8f16-b86c03222af3</td>\n",
       "      <td>298 days</td>\n",
       "      <td>5</td>\n",
       "      <td>0001cd17-b1ef-481e-8f16-b86c03222af3</td>\n",
       "      <td>Stephanie Doyle</td>\n",
       "      <td>4e0c4606-0668-4356-bb17-e3b13140c28e</td>\n",
       "      <td>2020-08-25T17:39:23</td>\n",
       "      <td>FULL_STACK</td>\n",
       "      <td>dianaharmon@example.com</td>\n",
       "      <td>2022-02-20</td>\n",
       "      <td>2022-05-23</td>\n",
       "      <td>c(0JdJY)+0</td>\n",
       "      <td>https://placekitten.com/949/26</td>\n",
       "      <td>UX/UI Designer</td>\n",
       "    </tr>\n",
       "    <tr>\n",
       "      <th>1</th>\n",
       "      <td>000897ae-ccc9-469e-92d6-e3ed79b4b369</td>\n",
       "      <td>1177 days</td>\n",
       "      <td>5</td>\n",
       "      <td>000897ae-ccc9-469e-92d6-e3ed79b4b369</td>\n",
       "      <td>Sonya Conrad</td>\n",
       "      <td>196c18a9-4aef-4755-a3ee-4b6f418c71e3</td>\n",
       "      <td>2022-05-12T17:19:00</td>\n",
       "      <td>ADMIN</td>\n",
       "      <td>darren95@example.org</td>\n",
       "      <td>2021-11-08</td>\n",
       "      <td>2021-11-22</td>\n",
       "      <td>%3u4!VV))j</td>\n",
       "      <td>https://dummyimage.com/967x454</td>\n",
       "      <td>Backend Developer</td>\n",
       "    </tr>\n",
       "    <tr>\n",
       "      <th>2</th>\n",
       "      <td>000a146b-94c2-45e6-99ac-eb62ac2b022e</td>\n",
       "      <td>3 days</td>\n",
       "      <td>5</td>\n",
       "      <td>000a146b-94c2-45e6-99ac-eb62ac2b022e</td>\n",
       "      <td>Rhonda Lyons</td>\n",
       "      <td>ccb4b4f9-80cb-4f1b-9ae8-f16d9da11659</td>\n",
       "      <td>2022-12-20T03:38:29</td>\n",
       "      <td>DEVOPS</td>\n",
       "      <td>oyoder@example.org</td>\n",
       "      <td>2024-05-03</td>\n",
       "      <td>2021-05-11</td>\n",
       "      <td>4ipDG2O9R$</td>\n",
       "      <td>https://dummyimage.com/203x506</td>\n",
       "      <td>Cloud Engineer</td>\n",
       "    </tr>\n",
       "    <tr>\n",
       "      <th>3</th>\n",
       "      <td>000b0fad-ede6-4786-bee6-b8cefba98cf3</td>\n",
       "      <td>706 days</td>\n",
       "      <td>5</td>\n",
       "      <td>000b0fad-ede6-4786-bee6-b8cefba98cf3</td>\n",
       "      <td>Anna Paul</td>\n",
       "      <td>663c1743-1dc9-4c1a-8200-701078aefaf8</td>\n",
       "      <td>2023-03-21T22:30:14</td>\n",
       "      <td>DEVOPS</td>\n",
       "      <td>josephlester@example.com</td>\n",
       "      <td>2023-05-15</td>\n",
       "      <td>2021-04-21</td>\n",
       "      <td>Li1B*f#3f@</td>\n",
       "      <td>https://placekitten.com/87/673</td>\n",
       "      <td>Technical Writer</td>\n",
       "    </tr>\n",
       "    <tr>\n",
       "      <th>4</th>\n",
       "      <td>000b87bb-2672-49e4-a4c5-ceb032b0395c</td>\n",
       "      <td>702 days</td>\n",
       "      <td>5</td>\n",
       "      <td>000b87bb-2672-49e4-a4c5-ceb032b0395c</td>\n",
       "      <td>Sarah Lee</td>\n",
       "      <td>791867b5-ae38-44aa-b2b0-c258b4f25afb</td>\n",
       "      <td>2024-04-19T05:14:46</td>\n",
       "      <td>ADMIN</td>\n",
       "      <td>courtney01@example.com</td>\n",
       "      <td>2023-08-02</td>\n",
       "      <td>2024-08-05</td>\n",
       "      <td>pV6Q&amp;x@@M*</td>\n",
       "      <td>https://picsum.photos/496/736</td>\n",
       "      <td>Full Stack Developer</td>\n",
       "    </tr>\n",
       "  </tbody>\n",
       "</table>\n",
       "</div>"
      ],
      "text/plain": [
       "                                 userId total_duration  count  \\\n",
       "0  0001cd17-b1ef-481e-8f16-b86c03222af3       298 days      5   \n",
       "1  000897ae-ccc9-469e-92d6-e3ed79b4b369      1177 days      5   \n",
       "2  000a146b-94c2-45e6-99ac-eb62ac2b022e         3 days      5   \n",
       "3  000b0fad-ede6-4786-bee6-b8cefba98cf3       706 days      5   \n",
       "4  000b87bb-2672-49e4-a4c5-ceb032b0395c       702 days      5   \n",
       "\n",
       "                                    _id             name  \\\n",
       "0  0001cd17-b1ef-481e-8f16-b86c03222af3  Stephanie Doyle   \n",
       "1  000897ae-ccc9-469e-92d6-e3ed79b4b369     Sonya Conrad   \n",
       "2  000a146b-94c2-45e6-99ac-eb62ac2b022e     Rhonda Lyons   \n",
       "3  000b0fad-ede6-4786-bee6-b8cefba98cf3        Anna Paul   \n",
       "4  000b87bb-2672-49e4-a4c5-ceb032b0395c        Sarah Lee   \n",
       "\n",
       "                                role_id         joining_date  department  \\\n",
       "0  4e0c4606-0668-4356-bb17-e3b13140c28e  2020-08-25T17:39:23  FULL_STACK   \n",
       "1  196c18a9-4aef-4755-a3ee-4b6f418c71e3  2022-05-12T17:19:00       ADMIN   \n",
       "2  ccb4b4f9-80cb-4f1b-9ae8-f16d9da11659  2022-12-20T03:38:29      DEVOPS   \n",
       "3  663c1743-1dc9-4c1a-8200-701078aefaf8  2023-03-21T22:30:14      DEVOPS   \n",
       "4  791867b5-ae38-44aa-b2b0-c258b4f25afb  2024-04-19T05:14:46       ADMIN   \n",
       "\n",
       "                       mail created_at updated_at    password  \\\n",
       "0   dianaharmon@example.com 2022-02-20 2022-05-23  c(0JdJY)+0   \n",
       "1      darren95@example.org 2021-11-08 2021-11-22  %3u4!VV))j   \n",
       "2        oyoder@example.org 2024-05-03 2021-05-11  4ipDG2O9R$   \n",
       "3  josephlester@example.com 2023-05-15 2021-04-21  Li1B*f#3f@   \n",
       "4    courtney01@example.com 2023-08-02 2024-08-05  pV6Q&x@@M*   \n",
       "\n",
       "                     profileImage             role_name  \n",
       "0  https://placekitten.com/949/26        UX/UI Designer  \n",
       "1  https://dummyimage.com/967x454     Backend Developer  \n",
       "2  https://dummyimage.com/203x506        Cloud Engineer  \n",
       "3  https://placekitten.com/87/673      Technical Writer  \n",
       "4   https://picsum.photos/496/736  Full Stack Developer  "
      ]
     },
     "execution_count": 136,
     "metadata": {},
     "output_type": "execute_result"
    }
   ],
   "source": [
    "df=merged_df\n",
    "df.head()"
   ]
  },
  {
   "cell_type": "code",
   "execution_count": 137,
   "metadata": {},
   "outputs": [
    {
     "data": {
      "text/plain": [
       "userId            0\n",
       "total_duration    0\n",
       "count             0\n",
       "_id               0\n",
       "name              0\n",
       "role_id           0\n",
       "joining_date      0\n",
       "department        0\n",
       "mail              0\n",
       "created_at        0\n",
       "updated_at        0\n",
       "password          0\n",
       "profileImage      0\n",
       "role_name         0\n",
       "dtype: int64"
      ]
     },
     "execution_count": 137,
     "metadata": {},
     "output_type": "execute_result"
    }
   ],
   "source": [
    "df.isnull().sum()"
   ]
  },
  {
   "cell_type": "code",
   "execution_count": 138,
   "metadata": {},
   "outputs": [],
   "source": [
    "df.to_csv('E:/JMAN/fp/DataEngineering/prep/prep_user.csv')"
   ]
  },
  {
   "cell_type": "code",
   "execution_count": null,
   "metadata": {},
   "outputs": [],
   "source": []
  }
 ],
 "metadata": {
  "kernelspec": {
   "display_name": "base",
   "language": "python",
   "name": "python3"
  },
  "language_info": {
   "codemirror_mode": {
    "name": "ipython",
    "version": 3
   },
   "file_extension": ".py",
   "mimetype": "text/x-python",
   "name": "python",
   "nbconvert_exporter": "python",
   "pygments_lexer": "ipython3",
   "version": "3.12.4"
  }
 },
 "nbformat": 4,
 "nbformat_minor": 2
}
