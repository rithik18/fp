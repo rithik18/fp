{
 "cells": [
  {
   "cell_type": "code",
   "execution_count": 51,
   "metadata": {},
   "outputs": [],
   "source": [
    "import pandas as pd"
   ]
  },
  {
   "cell_type": "code",
   "execution_count": 52,
   "metadata": {},
   "outputs": [
    {
     "ename": "FileNotFoundError",
     "evalue": "[Errno 2] No such file or directory: 'C:/Users/RithikHarendarMahesh/Desktop/fp/DataEngineering/raw/raw_users.csv'",
     "output_type": "error",
     "traceback": [
      "\u001b[1;31m---------------------------------------------------------------------------\u001b[0m",
      "\u001b[1;31mFileNotFoundError\u001b[0m                         Traceback (most recent call last)",
      "Cell \u001b[1;32mIn[52], line 1\u001b[0m\n\u001b[1;32m----> 1\u001b[0m user_csv\u001b[38;5;241m=\u001b[39m\u001b[43mpd\u001b[49m\u001b[38;5;241;43m.\u001b[39;49m\u001b[43mread_csv\u001b[49m\u001b[43m(\u001b[49m\u001b[38;5;124;43m'\u001b[39;49m\u001b[38;5;124;43mC:/Users/RithikHarendarMahesh/Desktop/fp/DataEngineering/raw/raw_users.csv\u001b[39;49m\u001b[38;5;124;43m'\u001b[39;49m\u001b[43m)\u001b[49m\n",
      "File \u001b[1;32mc:\\Users\\mahes\\anaconda3\\lib\\site-packages\\pandas\\util\\_decorators.py:311\u001b[0m, in \u001b[0;36mdeprecate_nonkeyword_arguments.<locals>.decorate.<locals>.wrapper\u001b[1;34m(*args, **kwargs)\u001b[0m\n\u001b[0;32m    305\u001b[0m \u001b[38;5;28;01mif\u001b[39;00m \u001b[38;5;28mlen\u001b[39m(args) \u001b[38;5;241m>\u001b[39m num_allow_args:\n\u001b[0;32m    306\u001b[0m     warnings\u001b[38;5;241m.\u001b[39mwarn(\n\u001b[0;32m    307\u001b[0m         msg\u001b[38;5;241m.\u001b[39mformat(arguments\u001b[38;5;241m=\u001b[39marguments),\n\u001b[0;32m    308\u001b[0m         \u001b[38;5;167;01mFutureWarning\u001b[39;00m,\n\u001b[0;32m    309\u001b[0m         stacklevel\u001b[38;5;241m=\u001b[39mstacklevel,\n\u001b[0;32m    310\u001b[0m     )\n\u001b[1;32m--> 311\u001b[0m \u001b[38;5;28;01mreturn\u001b[39;00m func(\u001b[38;5;241m*\u001b[39margs, \u001b[38;5;241m*\u001b[39m\u001b[38;5;241m*\u001b[39mkwargs)\n",
      "File \u001b[1;32mc:\\Users\\mahes\\anaconda3\\lib\\site-packages\\pandas\\io\\parsers\\readers.py:586\u001b[0m, in \u001b[0;36mread_csv\u001b[1;34m(filepath_or_buffer, sep, delimiter, header, names, index_col, usecols, squeeze, prefix, mangle_dupe_cols, dtype, engine, converters, true_values, false_values, skipinitialspace, skiprows, skipfooter, nrows, na_values, keep_default_na, na_filter, verbose, skip_blank_lines, parse_dates, infer_datetime_format, keep_date_col, date_parser, dayfirst, cache_dates, iterator, chunksize, compression, thousands, decimal, lineterminator, quotechar, quoting, doublequote, escapechar, comment, encoding, encoding_errors, dialect, error_bad_lines, warn_bad_lines, on_bad_lines, delim_whitespace, low_memory, memory_map, float_precision, storage_options)\u001b[0m\n\u001b[0;32m    571\u001b[0m kwds_defaults \u001b[38;5;241m=\u001b[39m _refine_defaults_read(\n\u001b[0;32m    572\u001b[0m     dialect,\n\u001b[0;32m    573\u001b[0m     delimiter,\n\u001b[1;32m   (...)\u001b[0m\n\u001b[0;32m    582\u001b[0m     defaults\u001b[38;5;241m=\u001b[39m{\u001b[38;5;124m\"\u001b[39m\u001b[38;5;124mdelimiter\u001b[39m\u001b[38;5;124m\"\u001b[39m: \u001b[38;5;124m\"\u001b[39m\u001b[38;5;124m,\u001b[39m\u001b[38;5;124m\"\u001b[39m},\n\u001b[0;32m    583\u001b[0m )\n\u001b[0;32m    584\u001b[0m kwds\u001b[38;5;241m.\u001b[39mupdate(kwds_defaults)\n\u001b[1;32m--> 586\u001b[0m \u001b[38;5;28;01mreturn\u001b[39;00m \u001b[43m_read\u001b[49m\u001b[43m(\u001b[49m\u001b[43mfilepath_or_buffer\u001b[49m\u001b[43m,\u001b[49m\u001b[43m \u001b[49m\u001b[43mkwds\u001b[49m\u001b[43m)\u001b[49m\n",
      "File \u001b[1;32mc:\\Users\\mahes\\anaconda3\\lib\\site-packages\\pandas\\io\\parsers\\readers.py:482\u001b[0m, in \u001b[0;36m_read\u001b[1;34m(filepath_or_buffer, kwds)\u001b[0m\n\u001b[0;32m    479\u001b[0m _validate_names(kwds\u001b[38;5;241m.\u001b[39mget(\u001b[38;5;124m\"\u001b[39m\u001b[38;5;124mnames\u001b[39m\u001b[38;5;124m\"\u001b[39m, \u001b[38;5;28;01mNone\u001b[39;00m))\n\u001b[0;32m    481\u001b[0m \u001b[38;5;66;03m# Create the parser.\u001b[39;00m\n\u001b[1;32m--> 482\u001b[0m parser \u001b[38;5;241m=\u001b[39m TextFileReader(filepath_or_buffer, \u001b[38;5;241m*\u001b[39m\u001b[38;5;241m*\u001b[39mkwds)\n\u001b[0;32m    484\u001b[0m \u001b[38;5;28;01mif\u001b[39;00m chunksize \u001b[38;5;129;01mor\u001b[39;00m iterator:\n\u001b[0;32m    485\u001b[0m     \u001b[38;5;28;01mreturn\u001b[39;00m parser\n",
      "File \u001b[1;32mc:\\Users\\mahes\\anaconda3\\lib\\site-packages\\pandas\\io\\parsers\\readers.py:811\u001b[0m, in \u001b[0;36mTextFileReader.__init__\u001b[1;34m(self, f, engine, **kwds)\u001b[0m\n\u001b[0;32m    808\u001b[0m \u001b[38;5;28;01mif\u001b[39;00m \u001b[38;5;124m\"\u001b[39m\u001b[38;5;124mhas_index_names\u001b[39m\u001b[38;5;124m\"\u001b[39m \u001b[38;5;129;01min\u001b[39;00m kwds:\n\u001b[0;32m    809\u001b[0m     \u001b[38;5;28mself\u001b[39m\u001b[38;5;241m.\u001b[39moptions[\u001b[38;5;124m\"\u001b[39m\u001b[38;5;124mhas_index_names\u001b[39m\u001b[38;5;124m\"\u001b[39m] \u001b[38;5;241m=\u001b[39m kwds[\u001b[38;5;124m\"\u001b[39m\u001b[38;5;124mhas_index_names\u001b[39m\u001b[38;5;124m\"\u001b[39m]\n\u001b[1;32m--> 811\u001b[0m \u001b[38;5;28mself\u001b[39m\u001b[38;5;241m.\u001b[39m_engine \u001b[38;5;241m=\u001b[39m \u001b[38;5;28;43mself\u001b[39;49m\u001b[38;5;241;43m.\u001b[39;49m\u001b[43m_make_engine\u001b[49m\u001b[43m(\u001b[49m\u001b[38;5;28;43mself\u001b[39;49m\u001b[38;5;241;43m.\u001b[39;49m\u001b[43mengine\u001b[49m\u001b[43m)\u001b[49m\n",
      "File \u001b[1;32mc:\\Users\\mahes\\anaconda3\\lib\\site-packages\\pandas\\io\\parsers\\readers.py:1040\u001b[0m, in \u001b[0;36mTextFileReader._make_engine\u001b[1;34m(self, engine)\u001b[0m\n\u001b[0;32m   1036\u001b[0m     \u001b[38;5;28;01mraise\u001b[39;00m \u001b[38;5;167;01mValueError\u001b[39;00m(\n\u001b[0;32m   1037\u001b[0m         \u001b[38;5;124mf\u001b[39m\u001b[38;5;124m\"\u001b[39m\u001b[38;5;124mUnknown engine: \u001b[39m\u001b[38;5;132;01m{\u001b[39;00mengine\u001b[38;5;132;01m}\u001b[39;00m\u001b[38;5;124m (valid options are \u001b[39m\u001b[38;5;132;01m{\u001b[39;00mmapping\u001b[38;5;241m.\u001b[39mkeys()\u001b[38;5;132;01m}\u001b[39;00m\u001b[38;5;124m)\u001b[39m\u001b[38;5;124m\"\u001b[39m\n\u001b[0;32m   1038\u001b[0m     )\n\u001b[0;32m   1039\u001b[0m \u001b[38;5;66;03m# error: Too many arguments for \"ParserBase\"\u001b[39;00m\n\u001b[1;32m-> 1040\u001b[0m \u001b[38;5;28;01mreturn\u001b[39;00m mapping[engine](\u001b[38;5;28mself\u001b[39m\u001b[38;5;241m.\u001b[39mf, \u001b[38;5;241m*\u001b[39m\u001b[38;5;241m*\u001b[39m\u001b[38;5;28mself\u001b[39m\u001b[38;5;241m.\u001b[39moptions)\n",
      "File \u001b[1;32mc:\\Users\\mahes\\anaconda3\\lib\\site-packages\\pandas\\io\\parsers\\c_parser_wrapper.py:51\u001b[0m, in \u001b[0;36mCParserWrapper.__init__\u001b[1;34m(self, src, **kwds)\u001b[0m\n\u001b[0;32m     48\u001b[0m kwds[\u001b[38;5;124m\"\u001b[39m\u001b[38;5;124musecols\u001b[39m\u001b[38;5;124m\"\u001b[39m] \u001b[38;5;241m=\u001b[39m \u001b[38;5;28mself\u001b[39m\u001b[38;5;241m.\u001b[39musecols\n\u001b[0;32m     50\u001b[0m \u001b[38;5;66;03m# open handles\u001b[39;00m\n\u001b[1;32m---> 51\u001b[0m \u001b[38;5;28;43mself\u001b[39;49m\u001b[38;5;241;43m.\u001b[39;49m\u001b[43m_open_handles\u001b[49m\u001b[43m(\u001b[49m\u001b[43msrc\u001b[49m\u001b[43m,\u001b[49m\u001b[43m \u001b[49m\u001b[43mkwds\u001b[49m\u001b[43m)\u001b[49m\n\u001b[0;32m     52\u001b[0m \u001b[38;5;28;01massert\u001b[39;00m \u001b[38;5;28mself\u001b[39m\u001b[38;5;241m.\u001b[39mhandles \u001b[38;5;129;01mis\u001b[39;00m \u001b[38;5;129;01mnot\u001b[39;00m \u001b[38;5;28;01mNone\u001b[39;00m\n\u001b[0;32m     54\u001b[0m \u001b[38;5;66;03m# Have to pass int, would break tests using TextReader directly otherwise :(\u001b[39;00m\n",
      "File \u001b[1;32mc:\\Users\\mahes\\anaconda3\\lib\\site-packages\\pandas\\io\\parsers\\base_parser.py:222\u001b[0m, in \u001b[0;36mParserBase._open_handles\u001b[1;34m(self, src, kwds)\u001b[0m\n\u001b[0;32m    218\u001b[0m \u001b[38;5;28;01mdef\u001b[39;00m \u001b[38;5;21m_open_handles\u001b[39m(\u001b[38;5;28mself\u001b[39m, src: FilePathOrBuffer, kwds: \u001b[38;5;28mdict\u001b[39m[\u001b[38;5;28mstr\u001b[39m, Any]) \u001b[38;5;241m-\u001b[39m\u001b[38;5;241m>\u001b[39m \u001b[38;5;28;01mNone\u001b[39;00m:\n\u001b[0;32m    219\u001b[0m \u001b[38;5;250m    \u001b[39m\u001b[38;5;124;03m\"\"\"\u001b[39;00m\n\u001b[0;32m    220\u001b[0m \u001b[38;5;124;03m    Let the readers open IOHandles after they are done with their potential raises.\u001b[39;00m\n\u001b[0;32m    221\u001b[0m \u001b[38;5;124;03m    \"\"\"\u001b[39;00m\n\u001b[1;32m--> 222\u001b[0m     \u001b[38;5;28mself\u001b[39m\u001b[38;5;241m.\u001b[39mhandles \u001b[38;5;241m=\u001b[39m \u001b[43mget_handle\u001b[49m\u001b[43m(\u001b[49m\n\u001b[0;32m    223\u001b[0m \u001b[43m        \u001b[49m\u001b[43msrc\u001b[49m\u001b[43m,\u001b[49m\n\u001b[0;32m    224\u001b[0m \u001b[43m        \u001b[49m\u001b[38;5;124;43m\"\u001b[39;49m\u001b[38;5;124;43mr\u001b[39;49m\u001b[38;5;124;43m\"\u001b[39;49m\u001b[43m,\u001b[49m\n\u001b[0;32m    225\u001b[0m \u001b[43m        \u001b[49m\u001b[43mencoding\u001b[49m\u001b[38;5;241;43m=\u001b[39;49m\u001b[43mkwds\u001b[49m\u001b[38;5;241;43m.\u001b[39;49m\u001b[43mget\u001b[49m\u001b[43m(\u001b[49m\u001b[38;5;124;43m\"\u001b[39;49m\u001b[38;5;124;43mencoding\u001b[39;49m\u001b[38;5;124;43m\"\u001b[39;49m\u001b[43m,\u001b[49m\u001b[43m \u001b[49m\u001b[38;5;28;43;01mNone\u001b[39;49;00m\u001b[43m)\u001b[49m\u001b[43m,\u001b[49m\n\u001b[0;32m    226\u001b[0m \u001b[43m        \u001b[49m\u001b[43mcompression\u001b[49m\u001b[38;5;241;43m=\u001b[39;49m\u001b[43mkwds\u001b[49m\u001b[38;5;241;43m.\u001b[39;49m\u001b[43mget\u001b[49m\u001b[43m(\u001b[49m\u001b[38;5;124;43m\"\u001b[39;49m\u001b[38;5;124;43mcompression\u001b[39;49m\u001b[38;5;124;43m\"\u001b[39;49m\u001b[43m,\u001b[49m\u001b[43m \u001b[49m\u001b[38;5;28;43;01mNone\u001b[39;49;00m\u001b[43m)\u001b[49m\u001b[43m,\u001b[49m\n\u001b[0;32m    227\u001b[0m \u001b[43m        \u001b[49m\u001b[43mmemory_map\u001b[49m\u001b[38;5;241;43m=\u001b[39;49m\u001b[43mkwds\u001b[49m\u001b[38;5;241;43m.\u001b[39;49m\u001b[43mget\u001b[49m\u001b[43m(\u001b[49m\u001b[38;5;124;43m\"\u001b[39;49m\u001b[38;5;124;43mmemory_map\u001b[39;49m\u001b[38;5;124;43m\"\u001b[39;49m\u001b[43m,\u001b[49m\u001b[43m \u001b[49m\u001b[38;5;28;43;01mFalse\u001b[39;49;00m\u001b[43m)\u001b[49m\u001b[43m,\u001b[49m\n\u001b[0;32m    228\u001b[0m \u001b[43m        \u001b[49m\u001b[43mstorage_options\u001b[49m\u001b[38;5;241;43m=\u001b[39;49m\u001b[43mkwds\u001b[49m\u001b[38;5;241;43m.\u001b[39;49m\u001b[43mget\u001b[49m\u001b[43m(\u001b[49m\u001b[38;5;124;43m\"\u001b[39;49m\u001b[38;5;124;43mstorage_options\u001b[39;49m\u001b[38;5;124;43m\"\u001b[39;49m\u001b[43m,\u001b[49m\u001b[43m \u001b[49m\u001b[38;5;28;43;01mNone\u001b[39;49;00m\u001b[43m)\u001b[49m\u001b[43m,\u001b[49m\n\u001b[0;32m    229\u001b[0m \u001b[43m        \u001b[49m\u001b[43merrors\u001b[49m\u001b[38;5;241;43m=\u001b[39;49m\u001b[43mkwds\u001b[49m\u001b[38;5;241;43m.\u001b[39;49m\u001b[43mget\u001b[49m\u001b[43m(\u001b[49m\u001b[38;5;124;43m\"\u001b[39;49m\u001b[38;5;124;43mencoding_errors\u001b[39;49m\u001b[38;5;124;43m\"\u001b[39;49m\u001b[43m,\u001b[49m\u001b[43m \u001b[49m\u001b[38;5;124;43m\"\u001b[39;49m\u001b[38;5;124;43mstrict\u001b[39;49m\u001b[38;5;124;43m\"\u001b[39;49m\u001b[43m)\u001b[49m\u001b[43m,\u001b[49m\n\u001b[0;32m    230\u001b[0m \u001b[43m    \u001b[49m\u001b[43m)\u001b[49m\n",
      "File \u001b[1;32mc:\\Users\\mahes\\anaconda3\\lib\\site-packages\\pandas\\io\\common.py:702\u001b[0m, in \u001b[0;36mget_handle\u001b[1;34m(path_or_buf, mode, encoding, compression, memory_map, is_text, errors, storage_options)\u001b[0m\n\u001b[0;32m    697\u001b[0m \u001b[38;5;28;01melif\u001b[39;00m \u001b[38;5;28misinstance\u001b[39m(handle, \u001b[38;5;28mstr\u001b[39m):\n\u001b[0;32m    698\u001b[0m     \u001b[38;5;66;03m# Check whether the filename is to be opened in binary mode.\u001b[39;00m\n\u001b[0;32m    699\u001b[0m     \u001b[38;5;66;03m# Binary mode does not support 'encoding' and 'newline'.\u001b[39;00m\n\u001b[0;32m    700\u001b[0m     \u001b[38;5;28;01mif\u001b[39;00m ioargs\u001b[38;5;241m.\u001b[39mencoding \u001b[38;5;129;01mand\u001b[39;00m \u001b[38;5;124m\"\u001b[39m\u001b[38;5;124mb\u001b[39m\u001b[38;5;124m\"\u001b[39m \u001b[38;5;129;01mnot\u001b[39;00m \u001b[38;5;129;01min\u001b[39;00m ioargs\u001b[38;5;241m.\u001b[39mmode:\n\u001b[0;32m    701\u001b[0m         \u001b[38;5;66;03m# Encoding\u001b[39;00m\n\u001b[1;32m--> 702\u001b[0m         handle \u001b[38;5;241m=\u001b[39m \u001b[38;5;28;43mopen\u001b[39;49m\u001b[43m(\u001b[49m\n\u001b[0;32m    703\u001b[0m \u001b[43m            \u001b[49m\u001b[43mhandle\u001b[49m\u001b[43m,\u001b[49m\n\u001b[0;32m    704\u001b[0m \u001b[43m            \u001b[49m\u001b[43mioargs\u001b[49m\u001b[38;5;241;43m.\u001b[39;49m\u001b[43mmode\u001b[49m\u001b[43m,\u001b[49m\n\u001b[0;32m    705\u001b[0m \u001b[43m            \u001b[49m\u001b[43mencoding\u001b[49m\u001b[38;5;241;43m=\u001b[39;49m\u001b[43mioargs\u001b[49m\u001b[38;5;241;43m.\u001b[39;49m\u001b[43mencoding\u001b[49m\u001b[43m,\u001b[49m\n\u001b[0;32m    706\u001b[0m \u001b[43m            \u001b[49m\u001b[43merrors\u001b[49m\u001b[38;5;241;43m=\u001b[39;49m\u001b[43merrors\u001b[49m\u001b[43m,\u001b[49m\n\u001b[0;32m    707\u001b[0m \u001b[43m            \u001b[49m\u001b[43mnewline\u001b[49m\u001b[38;5;241;43m=\u001b[39;49m\u001b[38;5;124;43m\"\u001b[39;49m\u001b[38;5;124;43m\"\u001b[39;49m\u001b[43m,\u001b[49m\n\u001b[0;32m    708\u001b[0m \u001b[43m        \u001b[49m\u001b[43m)\u001b[49m\n\u001b[0;32m    709\u001b[0m     \u001b[38;5;28;01melse\u001b[39;00m:\n\u001b[0;32m    710\u001b[0m         \u001b[38;5;66;03m# Binary mode\u001b[39;00m\n\u001b[0;32m    711\u001b[0m         handle \u001b[38;5;241m=\u001b[39m \u001b[38;5;28mopen\u001b[39m(handle, ioargs\u001b[38;5;241m.\u001b[39mmode)\n",
      "\u001b[1;31mFileNotFoundError\u001b[0m: [Errno 2] No such file or directory: 'C:/Users/RithikHarendarMahesh/Desktop/fp/DataEngineering/raw/raw_users.csv'"
     ]
    }
   ],
   "source": [
    "user_csv=pd.read_csv('E:/JMAN/fp/DataEngineering/raw/raw_users.csv')"
   ]
  },
  {
   "cell_type": "code",
   "execution_count": 3,
   "metadata": {},
   "outputs": [],
   "source": [
    "df=pd.DataFrame(data=user_csv)"
   ]
  },
  {
   "cell_type": "code",
   "execution_count": 4,
   "metadata": {},
   "outputs": [
    {
     "data": {
      "text/plain": [
       "_id             0\n",
       "name            0\n",
       "role_id         0\n",
       "joining_date    0\n",
       "department      0\n",
       "mail            0\n",
       "created_at      0\n",
       "updated_at      0\n",
       "password        0\n",
       "profileImage    0\n",
       "dtype: int64"
      ]
     },
     "execution_count": 4,
     "metadata": {},
     "output_type": "execute_result"
    }
   ],
   "source": [
    "df.isnull().sum()"
   ]
  },
  {
   "cell_type": "code",
   "execution_count": 5,
   "metadata": {},
   "outputs": [],
   "source": [
    "df.dropna(inplace=True)"
   ]
  },
  {
   "cell_type": "code",
   "execution_count": 6,
   "metadata": {},
   "outputs": [],
   "source": [
    "df.drop_duplicates(inplace=True)"
   ]
  },
  {
   "cell_type": "code",
   "execution_count": 7,
   "metadata": {},
   "outputs": [
    {
     "data": {
      "text/plain": [
       "_id             object\n",
       "name            object\n",
       "role_id         object\n",
       "joining_date    object\n",
       "department      object\n",
       "mail            object\n",
       "created_at      object\n",
       "updated_at      object\n",
       "password        object\n",
       "profileImage    object\n",
       "dtype: object"
      ]
     },
     "execution_count": 7,
     "metadata": {},
     "output_type": "execute_result"
    }
   ],
   "source": [
    "df.dtypes"
   ]
  },
  {
   "cell_type": "code",
   "execution_count": 8,
   "metadata": {},
   "outputs": [
    {
     "name": "stdout",
     "output_type": "stream",
     "text": [
      "Original dtypes:\n",
      "_id             object\n",
      "name            object\n",
      "role_id         object\n",
      "joining_date    object\n",
      "department      object\n",
      "mail            object\n",
      "created_at      object\n",
      "updated_at      object\n",
      "password        object\n",
      "profileImage    object\n",
      "dtype: object\n",
      "\n",
      "Converted dtypes:\n",
      "_id             string[python]\n",
      "name            string[python]\n",
      "role_id         string[python]\n",
      "joining_date    string[python]\n",
      "department      string[python]\n",
      "mail            string[python]\n",
      "created_at      string[python]\n",
      "updated_at      string[python]\n",
      "password        string[python]\n",
      "profileImage    string[python]\n",
      "dtype: object\n"
     ]
    }
   ],
   "source": [
    "print(\"Original dtypes:\")\n",
    "print(df.dtypes)\n",
    "\n",
    "# Convert dtypes\n",
    "df=df.convert_dtypes()\n",
    "\n",
    "# Check new dtypes\n",
    "print(\"\\nConverted dtypes:\")\n",
    "print(df.convert_dtypes().dtypes)"
   ]
  },
  {
   "cell_type": "code",
   "execution_count": 9,
   "metadata": {},
   "outputs": [],
   "source": [
    "df['created_at'] = [\n",
    "    i.split(\" \")[0] if 'T' not in i else i.split(\"T\")[0] for i in df['created_at']\n",
    "]"
   ]
  },
  {
   "cell_type": "code",
   "execution_count": 10,
   "metadata": {},
   "outputs": [],
   "source": [
    "df['created_at']=pd.to_datetime(df['created_at'])"
   ]
  },
  {
   "cell_type": "code",
   "execution_count": 11,
   "metadata": {},
   "outputs": [],
   "source": [
    "df['updated_at'] = [\n",
    "    i.split(\" \")[0] if 'T' not in i else i.split(\"T\")[0] for i in df['updated_at']\n",
    "]"
   ]
  },
  {
   "cell_type": "code",
   "execution_count": 12,
   "metadata": {},
   "outputs": [],
   "source": [
    "df['updated_at']=pd.to_datetime(df['updated_at'])"
   ]
  },
  {
   "cell_type": "code",
   "execution_count": 13,
   "metadata": {},
   "outputs": [
    {
     "data": {
      "text/plain": [
       "_id             string[python]\n",
       "name            string[python]\n",
       "role_id         string[python]\n",
       "joining_date    string[python]\n",
       "department      string[python]\n",
       "mail            string[python]\n",
       "created_at      datetime64[ns]\n",
       "updated_at      datetime64[ns]\n",
       "password        string[python]\n",
       "profileImage    string[python]\n",
       "dtype: object"
      ]
     },
     "execution_count": 13,
     "metadata": {},
     "output_type": "execute_result"
    }
   ],
   "source": [
    "df.dtypes"
   ]
  },
  {
   "cell_type": "code",
   "execution_count": 14,
   "metadata": {},
   "outputs": [
    {
     "data": {
      "text/plain": [
       "['FULL_STACK', 'ADMIN', 'DATA_ANALYTICS', 'DATA_ENGINEERING', 'DATA_ANALYTICS', ..., 'ADMIN', 'DATA_ENGINEERING', 'DEVOPS', 'DATA_ENGINEERING', 'DEVOPS']\n",
       "Length: 30000\n",
       "Categories (6, string): [ADMIN, DATA_ANALYTICS, DATA_ENGINEERING, DEVOPS, FULL_STACK, OTHER]"
      ]
     },
     "execution_count": 14,
     "metadata": {},
     "output_type": "execute_result"
    }
   ],
   "source": [
    "pd.Categorical(df['department'])"
   ]
  },
  {
   "cell_type": "code",
   "execution_count": 15,
   "metadata": {},
   "outputs": [
    {
     "data": {
      "text/plain": [
       "['a20d6246-3283-473d-a52e-5cabbdf6abbd', 'a20d6246-3283-473d-a52e-5cabbdf6abbd', 'a20d6246-3283-473d-a52e-5cabbdf6abbd', 'a20d6246-3283-473d-a52e-5cabbdf6abbd', 'a20d6246-3283-473d-a52e-5cabbdf6abbd', ..., '72868372-bdef-4907-8489-6edc76e168f3', '72868372-bdef-4907-8489-6edc76e168f3', '72868372-bdef-4907-8489-6edc76e168f3', '72868372-bdef-4907-8489-6edc76e168f3', '72868372-bdef-4907-8489-6edc76e168f3']\n",
       "Length: 30000\n",
       "Categories (15, string): [05b1c93d-ec4c-4290-ae91-9eb4da5680b0, 08d528ea-0cda-4bf6-b4b2-b423a59c1b4e, 1fa20db4-cf8a-46e5-aba7-45de907a06e8, 63eee1b7-bf3a-4ac5-ab18-ae3dee14b84a, ..., d5071e6b-f7cc-4d33-b40a-d7ad9afc2504, efdd32cc-d901-4d04-b6af-1d48ec8b9e94, f72ec459-f376-4e10-b7c3-b4ab387b7109, fdd4e01c-ba6e-4c5e-803a-056a1da12c5d]"
      ]
     },
     "execution_count": 15,
     "metadata": {},
     "output_type": "execute_result"
    }
   ],
   "source": [
    "pd.Categorical(df['role_id'])"
   ]
  },
  {
   "cell_type": "code",
   "execution_count": 16,
   "metadata": {},
   "outputs": [
    {
     "data": {
      "text/html": [
       "<div>\n",
       "<style scoped>\n",
       "    .dataframe tbody tr th:only-of-type {\n",
       "        vertical-align: middle;\n",
       "    }\n",
       "\n",
       "    .dataframe tbody tr th {\n",
       "        vertical-align: top;\n",
       "    }\n",
       "\n",
       "    .dataframe thead th {\n",
       "        text-align: right;\n",
       "    }\n",
       "</style>\n",
       "<table border=\"1\" class=\"dataframe\">\n",
       "  <thead>\n",
       "    <tr style=\"text-align: right;\">\n",
       "      <th></th>\n",
       "      <th>_id</th>\n",
       "      <th>name</th>\n",
       "      <th>role_id</th>\n",
       "      <th>joining_date</th>\n",
       "      <th>department</th>\n",
       "      <th>mail</th>\n",
       "      <th>created_at</th>\n",
       "      <th>updated_at</th>\n",
       "      <th>password</th>\n",
       "      <th>profileImage</th>\n",
       "      <th>role_name</th>\n",
       "    </tr>\n",
       "  </thead>\n",
       "  <tbody>\n",
       "    <tr>\n",
       "      <th>0</th>\n",
       "      <td>75d5aae9-1b22-4ab7-ab0c-191b0691138d</td>\n",
       "      <td>Amy Dodson</td>\n",
       "      <td>a20d6246-3283-473d-a52e-5cabbdf6abbd</td>\n",
       "      <td>2020-07-14T18:36:56</td>\n",
       "      <td>FULL_STACK</td>\n",
       "      <td>amanda42@example.net</td>\n",
       "      <td>2020-09-04</td>\n",
       "      <td>2020-12-02</td>\n",
       "      <td>i9BBOP&amp;k*W</td>\n",
       "      <td>https://picsum.photos/1019/721</td>\n",
       "      <td>Software Engineer</td>\n",
       "    </tr>\n",
       "    <tr>\n",
       "      <th>1</th>\n",
       "      <td>d4bd8321-ff2c-4992-8a7a-8bdff78df267</td>\n",
       "      <td>Jacqueline Walker</td>\n",
       "      <td>a20d6246-3283-473d-a52e-5cabbdf6abbd</td>\n",
       "      <td>2024-02-12T19:05:54</td>\n",
       "      <td>ADMIN</td>\n",
       "      <td>dgarrett@example.org</td>\n",
       "      <td>2023-05-31</td>\n",
       "      <td>2022-08-10</td>\n",
       "      <td>VR&amp;H3C^w8P</td>\n",
       "      <td>https://picsum.photos/600/343</td>\n",
       "      <td>Software Engineer</td>\n",
       "    </tr>\n",
       "    <tr>\n",
       "      <th>2</th>\n",
       "      <td>b166ac7d-24df-4eeb-a8f7-faac4703b2ad</td>\n",
       "      <td>Richard Gould</td>\n",
       "      <td>a20d6246-3283-473d-a52e-5cabbdf6abbd</td>\n",
       "      <td>2023-05-28T12:32:57</td>\n",
       "      <td>DATA_ANALYTICS</td>\n",
       "      <td>knightmark@example.org</td>\n",
       "      <td>2020-07-15</td>\n",
       "      <td>2020-02-22</td>\n",
       "      <td>k4@LKK*c+h</td>\n",
       "      <td>https://picsum.photos/226/737</td>\n",
       "      <td>Software Engineer</td>\n",
       "    </tr>\n",
       "    <tr>\n",
       "      <th>3</th>\n",
       "      <td>ee982295-2f9c-45ca-8fc6-a31cfcc572f4</td>\n",
       "      <td>Megan Matthews</td>\n",
       "      <td>a20d6246-3283-473d-a52e-5cabbdf6abbd</td>\n",
       "      <td>2021-07-03T04:35:34</td>\n",
       "      <td>DATA_ENGINEERING</td>\n",
       "      <td>morgankristen@example.org</td>\n",
       "      <td>2022-05-01</td>\n",
       "      <td>2024-03-09</td>\n",
       "      <td>!u4@NKHzX6</td>\n",
       "      <td>https://dummyimage.com/799x267</td>\n",
       "      <td>Software Engineer</td>\n",
       "    </tr>\n",
       "    <tr>\n",
       "      <th>4</th>\n",
       "      <td>eba60f45-aa2f-468f-aa04-66d3728a3272</td>\n",
       "      <td>Sarah Tran</td>\n",
       "      <td>a20d6246-3283-473d-a52e-5cabbdf6abbd</td>\n",
       "      <td>2024-01-23T18:20:40</td>\n",
       "      <td>DATA_ANALYTICS</td>\n",
       "      <td>scott91@example.com</td>\n",
       "      <td>2024-05-04</td>\n",
       "      <td>2022-03-18</td>\n",
       "      <td>$0XTlc7St!</td>\n",
       "      <td>https://placekitten.com/870/977</td>\n",
       "      <td>Software Engineer</td>\n",
       "    </tr>\n",
       "  </tbody>\n",
       "</table>\n",
       "</div>"
      ],
      "text/plain": [
       "                                    _id               name  \\\n",
       "0  75d5aae9-1b22-4ab7-ab0c-191b0691138d         Amy Dodson   \n",
       "1  d4bd8321-ff2c-4992-8a7a-8bdff78df267  Jacqueline Walker   \n",
       "2  b166ac7d-24df-4eeb-a8f7-faac4703b2ad      Richard Gould   \n",
       "3  ee982295-2f9c-45ca-8fc6-a31cfcc572f4     Megan Matthews   \n",
       "4  eba60f45-aa2f-468f-aa04-66d3728a3272         Sarah Tran   \n",
       "\n",
       "                                role_id         joining_date  \\\n",
       "0  a20d6246-3283-473d-a52e-5cabbdf6abbd  2020-07-14T18:36:56   \n",
       "1  a20d6246-3283-473d-a52e-5cabbdf6abbd  2024-02-12T19:05:54   \n",
       "2  a20d6246-3283-473d-a52e-5cabbdf6abbd  2023-05-28T12:32:57   \n",
       "3  a20d6246-3283-473d-a52e-5cabbdf6abbd  2021-07-03T04:35:34   \n",
       "4  a20d6246-3283-473d-a52e-5cabbdf6abbd  2024-01-23T18:20:40   \n",
       "\n",
       "         department                       mail created_at updated_at  \\\n",
       "0        FULL_STACK       amanda42@example.net 2020-09-04 2020-12-02   \n",
       "1             ADMIN       dgarrett@example.org 2023-05-31 2022-08-10   \n",
       "2    DATA_ANALYTICS     knightmark@example.org 2020-07-15 2020-02-22   \n",
       "3  DATA_ENGINEERING  morgankristen@example.org 2022-05-01 2024-03-09   \n",
       "4    DATA_ANALYTICS        scott91@example.com 2024-05-04 2022-03-18   \n",
       "\n",
       "     password                     profileImage          role_name  \n",
       "0  i9BBOP&k*W   https://picsum.photos/1019/721  Software Engineer  \n",
       "1  VR&H3C^w8P    https://picsum.photos/600/343  Software Engineer  \n",
       "2  k4@LKK*c+h    https://picsum.photos/226/737  Software Engineer  \n",
       "3  !u4@NKHzX6   https://dummyimage.com/799x267  Software Engineer  \n",
       "4  $0XTlc7St!  https://placekitten.com/870/977  Software Engineer  "
      ]
     },
     "execution_count": 16,
     "metadata": {},
     "output_type": "execute_result"
    }
   ],
   "source": [
    "roles_df = pd.read_csv('E:/JMAN/fp/DataEngineering/raw/raw_roles.csv')\n",
    "role_mapping = dict(zip(roles_df['_id'], roles_df['name']))\n",
    "df['role_name'] = df['role_id'].map(role_mapping)\n",
    "df.head()"
   ]
  },
  {
   "cell_type": "code",
   "execution_count": 17,
   "metadata": {},
   "outputs": [
    {
     "name": "stdout",
     "output_type": "stream",
     "text": [
      "Original dtypes:\n",
      "_id             string[python]\n",
      "name            string[python]\n",
      "role_id         string[python]\n",
      "joining_date    string[python]\n",
      "department      string[python]\n",
      "mail            string[python]\n",
      "created_at      datetime64[ns]\n",
      "updated_at      datetime64[ns]\n",
      "password        string[python]\n",
      "profileImage    string[python]\n",
      "role_name               object\n",
      "dtype: object\n",
      "\n",
      "Converted dtypes:\n",
      "_id             string[python]\n",
      "name            string[python]\n",
      "role_id         string[python]\n",
      "joining_date    string[python]\n",
      "department      string[python]\n",
      "mail            string[python]\n",
      "created_at      datetime64[ns]\n",
      "updated_at      datetime64[ns]\n",
      "password        string[python]\n",
      "profileImage    string[python]\n",
      "role_name       string[python]\n",
      "dtype: object\n"
     ]
    }
   ],
   "source": [
    "print(\"Original dtypes:\")\n",
    "print(df.dtypes)\n",
    "\n",
    "# Convert dtypes\n",
    "df=df.convert_dtypes()\n",
    "\n",
    "# Check new dtypes\n",
    "print(\"\\nConverted dtypes:\")\n",
    "print(df.convert_dtypes().dtypes)"
   ]
  },
  {
   "cell_type": "code",
   "execution_count": 18,
   "metadata": {},
   "outputs": [],
   "source": [
    "user_cert_csv=pd.read_csv('E:/JMAN/fp/DataEngineering/raw/raw_user_certifications.csv')"
   ]
  },
  {
   "cell_type": "code",
   "execution_count": 19,
   "metadata": {},
   "outputs": [],
   "source": [
    "user_cert_df=pd.DataFrame(data=user_cert_csv)"
   ]
  },
  {
   "cell_type": "code",
   "execution_count": 20,
   "metadata": {},
   "outputs": [
    {
     "data": {
      "text/html": [
       "<div>\n",
       "<style scoped>\n",
       "    .dataframe tbody tr th:only-of-type {\n",
       "        vertical-align: middle;\n",
       "    }\n",
       "\n",
       "    .dataframe tbody tr th {\n",
       "        vertical-align: top;\n",
       "    }\n",
       "\n",
       "    .dataframe thead th {\n",
       "        text-align: right;\n",
       "    }\n",
       "</style>\n",
       "<table border=\"1\" class=\"dataframe\">\n",
       "  <thead>\n",
       "    <tr style=\"text-align: right;\">\n",
       "      <th></th>\n",
       "      <th>_id</th>\n",
       "      <th>userId</th>\n",
       "      <th>certificationId</th>\n",
       "      <th>certificationName</th>\n",
       "      <th>started_at</th>\n",
       "      <th>completed_at</th>\n",
       "      <th>competency</th>\n",
       "      <th>isVerified</th>\n",
       "      <th>imageData</th>\n",
       "    </tr>\n",
       "  </thead>\n",
       "  <tbody>\n",
       "    <tr>\n",
       "      <th>0</th>\n",
       "      <td>186e1ac2-534e-4f79-a662-ebb20db2d750</td>\n",
       "      <td>75d5aae9-1b22-4ab7-ab0c-191b0691138d</td>\n",
       "      <td>f339096d-44d5-4f55-9dc7-f116ff409ad1</td>\n",
       "      <td>CompTIA Security+</td>\n",
       "      <td>2022-07-25T17:55:37</td>\n",
       "      <td>2022-07-25T17:55:37.678388</td>\n",
       "      <td>INTERMEDIATE</td>\n",
       "      <td>True</td>\n",
       "      <td>https://placekitten.com/173/405</td>\n",
       "    </tr>\n",
       "    <tr>\n",
       "      <th>1</th>\n",
       "      <td>1f917f7d-49c8-4e07-a46b-47d25e9e5f61</td>\n",
       "      <td>75d5aae9-1b22-4ab7-ab0c-191b0691138d</td>\n",
       "      <td>41c305bf-37c4-4a6b-9219-0ea44462fd03</td>\n",
       "      <td>Certified Kubernetes Administrator</td>\n",
       "      <td>2022-12-29T08:17:22</td>\n",
       "      <td>2023-08-02T04:10:18</td>\n",
       "      <td>INTERMEDIATE</td>\n",
       "      <td>True</td>\n",
       "      <td>https://picsum.photos/434/665</td>\n",
       "    </tr>\n",
       "    <tr>\n",
       "      <th>2</th>\n",
       "      <td>3569a0f5-47f1-4a9b-b5ef-b565198c78fd</td>\n",
       "      <td>75d5aae9-1b22-4ab7-ab0c-191b0691138d</td>\n",
       "      <td>1b28edd3-9679-4285-adc4-709a01eeb17e</td>\n",
       "      <td>AWS Certified Developer - Associate</td>\n",
       "      <td>2020-10-03T04:54:24</td>\n",
       "      <td>2020-10-03T04:54:24.563315</td>\n",
       "      <td>ADVANCED</td>\n",
       "      <td>True</td>\n",
       "      <td>https://placekitten.com/918/316</td>\n",
       "    </tr>\n",
       "    <tr>\n",
       "      <th>3</th>\n",
       "      <td>2f6d0907-2c19-4da1-aec2-b71e7bc664d6</td>\n",
       "      <td>75d5aae9-1b22-4ab7-ab0c-191b0691138d</td>\n",
       "      <td>baa99073-7ecd-4b71-98d3-c030ef45f137</td>\n",
       "      <td>Certified Information Systems Security Profess...</td>\n",
       "      <td>2020-03-15T17:13:31</td>\n",
       "      <td>2020-04-25T06:02:44</td>\n",
       "      <td>EXPERT</td>\n",
       "      <td>False</td>\n",
       "      <td>https://dummyimage.com/667x321</td>\n",
       "    </tr>\n",
       "    <tr>\n",
       "      <th>4</th>\n",
       "      <td>945d54b8-193e-47f7-85fc-e9ec98a8cb31</td>\n",
       "      <td>75d5aae9-1b22-4ab7-ab0c-191b0691138d</td>\n",
       "      <td>d1b007ef-92f7-44d3-b666-7b2fa74fc770</td>\n",
       "      <td>Microsoft Certified: Azure Developer Associate</td>\n",
       "      <td>2021-07-02T08:18:01</td>\n",
       "      <td>2021-07-02T08:18:01.652593</td>\n",
       "      <td>ADVANCED</td>\n",
       "      <td>False</td>\n",
       "      <td>https://picsum.photos/372/637</td>\n",
       "    </tr>\n",
       "  </tbody>\n",
       "</table>\n",
       "</div>"
      ],
      "text/plain": [
       "                                    _id                                userId  \\\n",
       "0  186e1ac2-534e-4f79-a662-ebb20db2d750  75d5aae9-1b22-4ab7-ab0c-191b0691138d   \n",
       "1  1f917f7d-49c8-4e07-a46b-47d25e9e5f61  75d5aae9-1b22-4ab7-ab0c-191b0691138d   \n",
       "2  3569a0f5-47f1-4a9b-b5ef-b565198c78fd  75d5aae9-1b22-4ab7-ab0c-191b0691138d   \n",
       "3  2f6d0907-2c19-4da1-aec2-b71e7bc664d6  75d5aae9-1b22-4ab7-ab0c-191b0691138d   \n",
       "4  945d54b8-193e-47f7-85fc-e9ec98a8cb31  75d5aae9-1b22-4ab7-ab0c-191b0691138d   \n",
       "\n",
       "                        certificationId  \\\n",
       "0  f339096d-44d5-4f55-9dc7-f116ff409ad1   \n",
       "1  41c305bf-37c4-4a6b-9219-0ea44462fd03   \n",
       "2  1b28edd3-9679-4285-adc4-709a01eeb17e   \n",
       "3  baa99073-7ecd-4b71-98d3-c030ef45f137   \n",
       "4  d1b007ef-92f7-44d3-b666-7b2fa74fc770   \n",
       "\n",
       "                                   certificationName           started_at  \\\n",
       "0                                  CompTIA Security+  2022-07-25T17:55:37   \n",
       "1                 Certified Kubernetes Administrator  2022-12-29T08:17:22   \n",
       "2                AWS Certified Developer - Associate  2020-10-03T04:54:24   \n",
       "3  Certified Information Systems Security Profess...  2020-03-15T17:13:31   \n",
       "4     Microsoft Certified: Azure Developer Associate  2021-07-02T08:18:01   \n",
       "\n",
       "                 completed_at    competency  isVerified  \\\n",
       "0  2022-07-25T17:55:37.678388  INTERMEDIATE        True   \n",
       "1         2023-08-02T04:10:18  INTERMEDIATE        True   \n",
       "2  2020-10-03T04:54:24.563315      ADVANCED        True   \n",
       "3         2020-04-25T06:02:44        EXPERT       False   \n",
       "4  2021-07-02T08:18:01.652593      ADVANCED       False   \n",
       "\n",
       "                         imageData  \n",
       "0  https://placekitten.com/173/405  \n",
       "1    https://picsum.photos/434/665  \n",
       "2  https://placekitten.com/918/316  \n",
       "3   https://dummyimage.com/667x321  \n",
       "4    https://picsum.photos/372/637  "
      ]
     },
     "execution_count": 20,
     "metadata": {},
     "output_type": "execute_result"
    }
   ],
   "source": [
    "user_cert_df.head()"
   ]
  },
  {
   "cell_type": "code",
   "execution_count": 21,
   "metadata": {},
   "outputs": [],
   "source": [
    "user_cert_df['completed_at'] = [\n",
    "    i.split(\" \")[0] if 'T' not in i else i.split(\"T\")[0] for i in user_cert_df['completed_at']\n",
    "]"
   ]
  },
  {
   "cell_type": "code",
   "execution_count": null,
   "metadata": {},
   "outputs": [],
   "source": []
  },
  {
   "cell_type": "code",
   "execution_count": 22,
   "metadata": {},
   "outputs": [],
   "source": [
    "user_cert_df['started_at'] = [\n",
    "    i.split(\" \")[0] if 'T' not in i else i.split(\"T\")[0] for i in user_cert_df['started_at']\n",
    "]"
   ]
  },
  {
   "cell_type": "code",
   "execution_count": 23,
   "metadata": {},
   "outputs": [],
   "source": [
    "user_cert_df['completed_at']=pd.to_datetime(user_cert_df['completed_at'])"
   ]
  },
  {
   "cell_type": "code",
   "execution_count": 24,
   "metadata": {},
   "outputs": [],
   "source": [
    "user_cert_df['started_at']=pd.to_datetime(user_cert_df['started_at'])"
   ]
  },
  {
   "cell_type": "code",
   "execution_count": 25,
   "metadata": {},
   "outputs": [
    {
     "data": {
      "text/plain": [
       "Timedelta('0 days 00:00:00')"
      ]
     },
     "execution_count": 25,
     "metadata": {},
     "output_type": "execute_result"
    }
   ],
   "source": [
    "(user_cert_df['completed_at'][0]-user_cert_df['started_at'][0])"
   ]
  },
  {
   "cell_type": "code",
   "execution_count": 26,
   "metadata": {},
   "outputs": [],
   "source": [
    "user_cert_df['duration'] =user_cert_df['completed_at'] - user_cert_df['started_at']"
   ]
  },
  {
   "cell_type": "code",
   "execution_count": 27,
   "metadata": {},
   "outputs": [
    {
     "data": {
      "text/html": [
       "<div>\n",
       "<style scoped>\n",
       "    .dataframe tbody tr th:only-of-type {\n",
       "        vertical-align: middle;\n",
       "    }\n",
       "\n",
       "    .dataframe tbody tr th {\n",
       "        vertical-align: top;\n",
       "    }\n",
       "\n",
       "    .dataframe thead th {\n",
       "        text-align: right;\n",
       "    }\n",
       "</style>\n",
       "<table border=\"1\" class=\"dataframe\">\n",
       "  <thead>\n",
       "    <tr style=\"text-align: right;\">\n",
       "      <th></th>\n",
       "      <th>_id</th>\n",
       "      <th>userId</th>\n",
       "      <th>certificationId</th>\n",
       "      <th>certificationName</th>\n",
       "      <th>started_at</th>\n",
       "      <th>completed_at</th>\n",
       "      <th>competency</th>\n",
       "      <th>isVerified</th>\n",
       "      <th>imageData</th>\n",
       "      <th>duration</th>\n",
       "    </tr>\n",
       "  </thead>\n",
       "  <tbody>\n",
       "    <tr>\n",
       "      <th>0</th>\n",
       "      <td>186e1ac2-534e-4f79-a662-ebb20db2d750</td>\n",
       "      <td>75d5aae9-1b22-4ab7-ab0c-191b0691138d</td>\n",
       "      <td>f339096d-44d5-4f55-9dc7-f116ff409ad1</td>\n",
       "      <td>CompTIA Security+</td>\n",
       "      <td>2022-07-25</td>\n",
       "      <td>2022-07-25</td>\n",
       "      <td>INTERMEDIATE</td>\n",
       "      <td>True</td>\n",
       "      <td>https://placekitten.com/173/405</td>\n",
       "      <td>0 days</td>\n",
       "    </tr>\n",
       "    <tr>\n",
       "      <th>1</th>\n",
       "      <td>1f917f7d-49c8-4e07-a46b-47d25e9e5f61</td>\n",
       "      <td>75d5aae9-1b22-4ab7-ab0c-191b0691138d</td>\n",
       "      <td>41c305bf-37c4-4a6b-9219-0ea44462fd03</td>\n",
       "      <td>Certified Kubernetes Administrator</td>\n",
       "      <td>2022-12-29</td>\n",
       "      <td>2023-08-02</td>\n",
       "      <td>INTERMEDIATE</td>\n",
       "      <td>True</td>\n",
       "      <td>https://picsum.photos/434/665</td>\n",
       "      <td>216 days</td>\n",
       "    </tr>\n",
       "    <tr>\n",
       "      <th>2</th>\n",
       "      <td>3569a0f5-47f1-4a9b-b5ef-b565198c78fd</td>\n",
       "      <td>75d5aae9-1b22-4ab7-ab0c-191b0691138d</td>\n",
       "      <td>1b28edd3-9679-4285-adc4-709a01eeb17e</td>\n",
       "      <td>AWS Certified Developer - Associate</td>\n",
       "      <td>2020-10-03</td>\n",
       "      <td>2020-10-03</td>\n",
       "      <td>ADVANCED</td>\n",
       "      <td>True</td>\n",
       "      <td>https://placekitten.com/918/316</td>\n",
       "      <td>0 days</td>\n",
       "    </tr>\n",
       "    <tr>\n",
       "      <th>3</th>\n",
       "      <td>2f6d0907-2c19-4da1-aec2-b71e7bc664d6</td>\n",
       "      <td>75d5aae9-1b22-4ab7-ab0c-191b0691138d</td>\n",
       "      <td>baa99073-7ecd-4b71-98d3-c030ef45f137</td>\n",
       "      <td>Certified Information Systems Security Profess...</td>\n",
       "      <td>2020-03-15</td>\n",
       "      <td>2020-04-25</td>\n",
       "      <td>EXPERT</td>\n",
       "      <td>False</td>\n",
       "      <td>https://dummyimage.com/667x321</td>\n",
       "      <td>41 days</td>\n",
       "    </tr>\n",
       "    <tr>\n",
       "      <th>4</th>\n",
       "      <td>945d54b8-193e-47f7-85fc-e9ec98a8cb31</td>\n",
       "      <td>75d5aae9-1b22-4ab7-ab0c-191b0691138d</td>\n",
       "      <td>d1b007ef-92f7-44d3-b666-7b2fa74fc770</td>\n",
       "      <td>Microsoft Certified: Azure Developer Associate</td>\n",
       "      <td>2021-07-02</td>\n",
       "      <td>2021-07-02</td>\n",
       "      <td>ADVANCED</td>\n",
       "      <td>False</td>\n",
       "      <td>https://picsum.photos/372/637</td>\n",
       "      <td>0 days</td>\n",
       "    </tr>\n",
       "  </tbody>\n",
       "</table>\n",
       "</div>"
      ],
      "text/plain": [
       "                                    _id                                userId  \\\n",
       "0  186e1ac2-534e-4f79-a662-ebb20db2d750  75d5aae9-1b22-4ab7-ab0c-191b0691138d   \n",
       "1  1f917f7d-49c8-4e07-a46b-47d25e9e5f61  75d5aae9-1b22-4ab7-ab0c-191b0691138d   \n",
       "2  3569a0f5-47f1-4a9b-b5ef-b565198c78fd  75d5aae9-1b22-4ab7-ab0c-191b0691138d   \n",
       "3  2f6d0907-2c19-4da1-aec2-b71e7bc664d6  75d5aae9-1b22-4ab7-ab0c-191b0691138d   \n",
       "4  945d54b8-193e-47f7-85fc-e9ec98a8cb31  75d5aae9-1b22-4ab7-ab0c-191b0691138d   \n",
       "\n",
       "                        certificationId  \\\n",
       "0  f339096d-44d5-4f55-9dc7-f116ff409ad1   \n",
       "1  41c305bf-37c4-4a6b-9219-0ea44462fd03   \n",
       "2  1b28edd3-9679-4285-adc4-709a01eeb17e   \n",
       "3  baa99073-7ecd-4b71-98d3-c030ef45f137   \n",
       "4  d1b007ef-92f7-44d3-b666-7b2fa74fc770   \n",
       "\n",
       "                                   certificationName started_at completed_at  \\\n",
       "0                                  CompTIA Security+ 2022-07-25   2022-07-25   \n",
       "1                 Certified Kubernetes Administrator 2022-12-29   2023-08-02   \n",
       "2                AWS Certified Developer - Associate 2020-10-03   2020-10-03   \n",
       "3  Certified Information Systems Security Profess... 2020-03-15   2020-04-25   \n",
       "4     Microsoft Certified: Azure Developer Associate 2021-07-02   2021-07-02   \n",
       "\n",
       "     competency  isVerified                        imageData duration  \n",
       "0  INTERMEDIATE        True  https://placekitten.com/173/405   0 days  \n",
       "1  INTERMEDIATE        True    https://picsum.photos/434/665 216 days  \n",
       "2      ADVANCED        True  https://placekitten.com/918/316   0 days  \n",
       "3        EXPERT       False   https://dummyimage.com/667x321  41 days  \n",
       "4      ADVANCED       False    https://picsum.photos/372/637   0 days  "
      ]
     },
     "execution_count": 27,
     "metadata": {},
     "output_type": "execute_result"
    }
   ],
   "source": [
    "user_cert_df.head()"
   ]
  },
  {
   "cell_type": "code",
   "execution_count": 28,
   "metadata": {},
   "outputs": [
    {
     "data": {
      "text/html": [
       "<div>\n",
       "<style scoped>\n",
       "    .dataframe tbody tr th:only-of-type {\n",
       "        vertical-align: middle;\n",
       "    }\n",
       "\n",
       "    .dataframe tbody tr th {\n",
       "        vertical-align: top;\n",
       "    }\n",
       "\n",
       "    .dataframe thead th {\n",
       "        text-align: right;\n",
       "    }\n",
       "</style>\n",
       "<table border=\"1\" class=\"dataframe\">\n",
       "  <thead>\n",
       "    <tr style=\"text-align: right;\">\n",
       "      <th></th>\n",
       "      <th>_id</th>\n",
       "      <th>userId</th>\n",
       "      <th>certificationId</th>\n",
       "      <th>certificationName</th>\n",
       "      <th>started_at</th>\n",
       "      <th>completed_at</th>\n",
       "      <th>competency</th>\n",
       "      <th>isVerified</th>\n",
       "      <th>imageData</th>\n",
       "      <th>duration</th>\n",
       "    </tr>\n",
       "  </thead>\n",
       "  <tbody>\n",
       "  </tbody>\n",
       "</table>\n",
       "</div>"
      ],
      "text/plain": [
       "Empty DataFrame\n",
       "Columns: [_id, userId, certificationId, certificationName, started_at, completed_at, competency, isVerified, imageData, duration]\n",
       "Index: []"
      ]
     },
     "execution_count": 28,
     "metadata": {},
     "output_type": "execute_result"
    }
   ],
   "source": [
    "\n",
    "\n",
    "user_cert_df.loc[user_cert_df['duration']<pd.Timedelta('0 days')]"
   ]
  },
  {
   "cell_type": "code",
   "execution_count": 29,
   "metadata": {},
   "outputs": [
    {
     "data": {
      "text/plain": [
       "_id                  0\n",
       "userId               0\n",
       "certificationId      0\n",
       "certificationName    0\n",
       "started_at           0\n",
       "completed_at         0\n",
       "competency           0\n",
       "isVerified           0\n",
       "imageData            0\n",
       "duration             0\n",
       "dtype: int64"
      ]
     },
     "execution_count": 29,
     "metadata": {},
     "output_type": "execute_result"
    }
   ],
   "source": [
    "user_cert_df.isnull().sum()"
   ]
  },
  {
   "cell_type": "code",
   "execution_count": 30,
   "metadata": {},
   "outputs": [
    {
     "data": {
      "text/plain": [
       "(30000, 2)"
      ]
     },
     "execution_count": 30,
     "metadata": {},
     "output_type": "execute_result"
    }
   ],
   "source": [
    "grouped_df = user_cert_df.groupby(['userId']).size().reset_index(name='count')\n",
    "grouped_df.shape"
   ]
  },
  {
   "cell_type": "code",
   "execution_count": 31,
   "metadata": {},
   "outputs": [],
   "source": [
    "merged_df = grouped_df.merge(df, left_on='userId', right_on='_id', how='inner')"
   ]
  },
  {
   "cell_type": "code",
   "execution_count": 32,
   "metadata": {},
   "outputs": [
    {
     "data": {
      "text/html": [
       "<div>\n",
       "<style scoped>\n",
       "    .dataframe tbody tr th:only-of-type {\n",
       "        vertical-align: middle;\n",
       "    }\n",
       "\n",
       "    .dataframe tbody tr th {\n",
       "        vertical-align: top;\n",
       "    }\n",
       "\n",
       "    .dataframe thead th {\n",
       "        text-align: right;\n",
       "    }\n",
       "</style>\n",
       "<table border=\"1\" class=\"dataframe\">\n",
       "  <thead>\n",
       "    <tr style=\"text-align: right;\">\n",
       "      <th></th>\n",
       "      <th>userId</th>\n",
       "      <th>count</th>\n",
       "      <th>_id</th>\n",
       "      <th>name</th>\n",
       "      <th>role_id</th>\n",
       "      <th>joining_date</th>\n",
       "      <th>department</th>\n",
       "      <th>mail</th>\n",
       "      <th>created_at</th>\n",
       "      <th>updated_at</th>\n",
       "      <th>password</th>\n",
       "      <th>profileImage</th>\n",
       "      <th>role_name</th>\n",
       "    </tr>\n",
       "  </thead>\n",
       "  <tbody>\n",
       "    <tr>\n",
       "      <th>0</th>\n",
       "      <td>00055339-c1aa-4320-beb6-2c1980efc4b5</td>\n",
       "      <td>5</td>\n",
       "      <td>00055339-c1aa-4320-beb6-2c1980efc4b5</td>\n",
       "      <td>Angela King</td>\n",
       "      <td>63eee1b7-bf3a-4ac5-ab18-ae3dee14b84a</td>\n",
       "      <td>2024-08-20T17:30:52</td>\n",
       "      <td>OTHER</td>\n",
       "      <td>corey59@example.net</td>\n",
       "      <td>2020-04-27</td>\n",
       "      <td>2022-09-23</td>\n",
       "      <td>mr2NoT6z!n</td>\n",
       "      <td>https://picsum.photos/812/504</td>\n",
       "      <td>Product Manager</td>\n",
       "    </tr>\n",
       "    <tr>\n",
       "      <th>1</th>\n",
       "      <td>00093079-b0d6-482f-aa32-565d51805610</td>\n",
       "      <td>5</td>\n",
       "      <td>00093079-b0d6-482f-aa32-565d51805610</td>\n",
       "      <td>Jared Davis</td>\n",
       "      <td>fdd4e01c-ba6e-4c5e-803a-056a1da12c5d</td>\n",
       "      <td>2023-06-13T16:59:24</td>\n",
       "      <td>FULL_STACK</td>\n",
       "      <td>john88@example.com</td>\n",
       "      <td>2024-09-19</td>\n",
       "      <td>2023-04-17</td>\n",
       "      <td>Z#)O0Z(aqU</td>\n",
       "      <td>https://picsum.photos/963/883</td>\n",
       "      <td>Data Scientist</td>\n",
       "    </tr>\n",
       "    <tr>\n",
       "      <th>2</th>\n",
       "      <td>000b5f83-ebe3-43f6-b70b-bead0b3db09b</td>\n",
       "      <td>5</td>\n",
       "      <td>000b5f83-ebe3-43f6-b70b-bead0b3db09b</td>\n",
       "      <td>Donna Carter</td>\n",
       "      <td>d5071e6b-f7cc-4d33-b40a-d7ad9afc2504</td>\n",
       "      <td>2022-06-01T23:09:47</td>\n",
       "      <td>DATA_ENGINEERING</td>\n",
       "      <td>cynthiacox@example.org</td>\n",
       "      <td>2021-05-19</td>\n",
       "      <td>2020-08-09</td>\n",
       "      <td>%Y7*%Wkfft</td>\n",
       "      <td>https://placekitten.com/979/872</td>\n",
       "      <td>Backend Developer</td>\n",
       "    </tr>\n",
       "    <tr>\n",
       "      <th>3</th>\n",
       "      <td>000b92c9-4878-4c99-8106-f885414ff33d</td>\n",
       "      <td>5</td>\n",
       "      <td>000b92c9-4878-4c99-8106-f885414ff33d</td>\n",
       "      <td>Brian Shaw</td>\n",
       "      <td>ba184a03-28da-415b-b005-3a75f7e1bc87</td>\n",
       "      <td>2023-11-13T17:09:21</td>\n",
       "      <td>DATA_ENGINEERING</td>\n",
       "      <td>kayla72@example.org</td>\n",
       "      <td>2024-02-15</td>\n",
       "      <td>2020-03-27</td>\n",
       "      <td>sq8W6iPtK$</td>\n",
       "      <td>https://placekitten.com/412/779</td>\n",
       "      <td>Cybersecurity Analyst</td>\n",
       "    </tr>\n",
       "    <tr>\n",
       "      <th>4</th>\n",
       "      <td>000b9ef5-3d26-4a94-8bf9-28d5e7949dc2</td>\n",
       "      <td>5</td>\n",
       "      <td>000b9ef5-3d26-4a94-8bf9-28d5e7949dc2</td>\n",
       "      <td>Randall Morales</td>\n",
       "      <td>05b1c93d-ec4c-4290-ae91-9eb4da5680b0</td>\n",
       "      <td>2020-10-18T21:00:30</td>\n",
       "      <td>FULL_STACK</td>\n",
       "      <td>edward81@example.com</td>\n",
       "      <td>2022-04-30</td>\n",
       "      <td>2020-06-04</td>\n",
       "      <td>%K2Zlv^T+6</td>\n",
       "      <td>https://placekitten.com/171/401</td>\n",
       "      <td>Full Stack Developer</td>\n",
       "    </tr>\n",
       "  </tbody>\n",
       "</table>\n",
       "</div>"
      ],
      "text/plain": [
       "                                 userId  count  \\\n",
       "0  00055339-c1aa-4320-beb6-2c1980efc4b5      5   \n",
       "1  00093079-b0d6-482f-aa32-565d51805610      5   \n",
       "2  000b5f83-ebe3-43f6-b70b-bead0b3db09b      5   \n",
       "3  000b92c9-4878-4c99-8106-f885414ff33d      5   \n",
       "4  000b9ef5-3d26-4a94-8bf9-28d5e7949dc2      5   \n",
       "\n",
       "                                    _id             name  \\\n",
       "0  00055339-c1aa-4320-beb6-2c1980efc4b5      Angela King   \n",
       "1  00093079-b0d6-482f-aa32-565d51805610      Jared Davis   \n",
       "2  000b5f83-ebe3-43f6-b70b-bead0b3db09b     Donna Carter   \n",
       "3  000b92c9-4878-4c99-8106-f885414ff33d       Brian Shaw   \n",
       "4  000b9ef5-3d26-4a94-8bf9-28d5e7949dc2  Randall Morales   \n",
       "\n",
       "                                role_id         joining_date  \\\n",
       "0  63eee1b7-bf3a-4ac5-ab18-ae3dee14b84a  2024-08-20T17:30:52   \n",
       "1  fdd4e01c-ba6e-4c5e-803a-056a1da12c5d  2023-06-13T16:59:24   \n",
       "2  d5071e6b-f7cc-4d33-b40a-d7ad9afc2504  2022-06-01T23:09:47   \n",
       "3  ba184a03-28da-415b-b005-3a75f7e1bc87  2023-11-13T17:09:21   \n",
       "4  05b1c93d-ec4c-4290-ae91-9eb4da5680b0  2020-10-18T21:00:30   \n",
       "\n",
       "         department                    mail created_at updated_at    password  \\\n",
       "0             OTHER     corey59@example.net 2020-04-27 2022-09-23  mr2NoT6z!n   \n",
       "1        FULL_STACK      john88@example.com 2024-09-19 2023-04-17  Z#)O0Z(aqU   \n",
       "2  DATA_ENGINEERING  cynthiacox@example.org 2021-05-19 2020-08-09  %Y7*%Wkfft   \n",
       "3  DATA_ENGINEERING     kayla72@example.org 2024-02-15 2020-03-27  sq8W6iPtK$   \n",
       "4        FULL_STACK    edward81@example.com 2022-04-30 2020-06-04  %K2Zlv^T+6   \n",
       "\n",
       "                      profileImage              role_name  \n",
       "0    https://picsum.photos/812/504        Product Manager  \n",
       "1    https://picsum.photos/963/883         Data Scientist  \n",
       "2  https://placekitten.com/979/872      Backend Developer  \n",
       "3  https://placekitten.com/412/779  Cybersecurity Analyst  \n",
       "4  https://placekitten.com/171/401   Full Stack Developer  "
      ]
     },
     "execution_count": 32,
     "metadata": {},
     "output_type": "execute_result"
    }
   ],
   "source": [
    "merged_df.head()"
   ]
  },
  {
   "cell_type": "code",
   "execution_count": 33,
   "metadata": {},
   "outputs": [
    {
     "data": {
      "text/plain": [
       "userId          0\n",
       "count           0\n",
       "_id             0\n",
       "name            0\n",
       "role_id         0\n",
       "joining_date    0\n",
       "department      0\n",
       "mail            0\n",
       "created_at      0\n",
       "updated_at      0\n",
       "password        0\n",
       "profileImage    0\n",
       "role_name       0\n",
       "dtype: int64"
      ]
     },
     "execution_count": 33,
     "metadata": {},
     "output_type": "execute_result"
    }
   ],
   "source": [
    "merged_df.isna().sum()"
   ]
  },
  {
   "cell_type": "code",
   "execution_count": 34,
   "metadata": {},
   "outputs": [],
   "source": [
    "df=merged_df"
   ]
  },
  {
   "cell_type": "code",
   "execution_count": 35,
   "metadata": {},
   "outputs": [
    {
     "data": {
      "text/html": [
       "<div>\n",
       "<style scoped>\n",
       "    .dataframe tbody tr th:only-of-type {\n",
       "        vertical-align: middle;\n",
       "    }\n",
       "\n",
       "    .dataframe tbody tr th {\n",
       "        vertical-align: top;\n",
       "    }\n",
       "\n",
       "    .dataframe thead th {\n",
       "        text-align: right;\n",
       "    }\n",
       "</style>\n",
       "<table border=\"1\" class=\"dataframe\">\n",
       "  <thead>\n",
       "    <tr style=\"text-align: right;\">\n",
       "      <th></th>\n",
       "      <th>userId</th>\n",
       "      <th>total_duration</th>\n",
       "    </tr>\n",
       "  </thead>\n",
       "  <tbody>\n",
       "    <tr>\n",
       "      <th>0</th>\n",
       "      <td>00055339-c1aa-4320-beb6-2c1980efc4b5</td>\n",
       "      <td>30 days</td>\n",
       "    </tr>\n",
       "    <tr>\n",
       "      <th>1</th>\n",
       "      <td>00093079-b0d6-482f-aa32-565d51805610</td>\n",
       "      <td>857 days</td>\n",
       "    </tr>\n",
       "    <tr>\n",
       "      <th>2</th>\n",
       "      <td>000b5f83-ebe3-43f6-b70b-bead0b3db09b</td>\n",
       "      <td>855 days</td>\n",
       "    </tr>\n",
       "    <tr>\n",
       "      <th>3</th>\n",
       "      <td>000b92c9-4878-4c99-8106-f885414ff33d</td>\n",
       "      <td>369 days</td>\n",
       "    </tr>\n",
       "    <tr>\n",
       "      <th>4</th>\n",
       "      <td>000b9ef5-3d26-4a94-8bf9-28d5e7949dc2</td>\n",
       "      <td>222 days</td>\n",
       "    </tr>\n",
       "  </tbody>\n",
       "</table>\n",
       "</div>"
      ],
      "text/plain": [
       "                                 userId total_duration\n",
       "0  00055339-c1aa-4320-beb6-2c1980efc4b5        30 days\n",
       "1  00093079-b0d6-482f-aa32-565d51805610       857 days\n",
       "2  000b5f83-ebe3-43f6-b70b-bead0b3db09b       855 days\n",
       "3  000b92c9-4878-4c99-8106-f885414ff33d       369 days\n",
       "4  000b9ef5-3d26-4a94-8bf9-28d5e7949dc2       222 days"
      ]
     },
     "execution_count": 35,
     "metadata": {},
     "output_type": "execute_result"
    }
   ],
   "source": [
    "grouped_df = user_cert_df.groupby('userId')['duration'].sum().reset_index(name='total_duration')\n",
    "grouped_df.head()"
   ]
  },
  {
   "cell_type": "code",
   "execution_count": 36,
   "metadata": {},
   "outputs": [
    {
     "data": {
      "text/plain": [
       "(30000, 15)"
      ]
     },
     "execution_count": 36,
     "metadata": {},
     "output_type": "execute_result"
    }
   ],
   "source": [
    "merged_df = grouped_df.merge(df, left_on='userId', right_on='_id', how='inner')\n",
    "merged_df.shape"
   ]
  },
  {
   "cell_type": "code",
   "execution_count": 37,
   "metadata": {},
   "outputs": [
    {
     "data": {
      "text/plain": [
       "userId_x          0\n",
       "total_duration    0\n",
       "userId_y          0\n",
       "count             0\n",
       "_id               0\n",
       "name              0\n",
       "role_id           0\n",
       "joining_date      0\n",
       "department        0\n",
       "mail              0\n",
       "created_at        0\n",
       "updated_at        0\n",
       "password          0\n",
       "profileImage      0\n",
       "role_name         0\n",
       "dtype: int64"
      ]
     },
     "execution_count": 37,
     "metadata": {},
     "output_type": "execute_result"
    }
   ],
   "source": [
    "merged_df.isnull().sum()"
   ]
  },
  {
   "cell_type": "code",
   "execution_count": 270,
   "metadata": {},
   "outputs": [],
   "source": [
    "merged_df.rename({\"userId_x\":\"userId\"},axis=1,inplace=True)"
   ]
  },
  {
   "cell_type": "code",
   "execution_count": 272,
   "metadata": {},
   "outputs": [],
   "source": [
    "# merged_df.drop('total_duration_y', axis=1, inplace=True)\n",
    "merged_df.drop('userId_y', axis=1, inplace=True)"
   ]
  },
  {
   "cell_type": "code",
   "execution_count": 273,
   "metadata": {},
   "outputs": [
    {
     "data": {
      "text/plain": [
       "userId            0\n",
       "total_duration    0\n",
       "count             0\n",
       "_id               0\n",
       "name              0\n",
       "role_id           0\n",
       "joining_date      0\n",
       "department        0\n",
       "mail              0\n",
       "created_at        0\n",
       "updated_at        0\n",
       "password          0\n",
       "profileImage      0\n",
       "role_name         0\n",
       "dtype: int64"
      ]
     },
     "execution_count": 273,
     "metadata": {},
     "output_type": "execute_result"
    }
   ],
   "source": [
    "merged_df.isna().sum()"
   ]
  },
  {
   "cell_type": "code",
   "execution_count": 274,
   "metadata": {},
   "outputs": [
    {
     "data": {
      "text/html": [
       "<div>\n",
       "<style scoped>\n",
       "    .dataframe tbody tr th:only-of-type {\n",
       "        vertical-align: middle;\n",
       "    }\n",
       "\n",
       "    .dataframe tbody tr th {\n",
       "        vertical-align: top;\n",
       "    }\n",
       "\n",
       "    .dataframe thead th {\n",
       "        text-align: right;\n",
       "    }\n",
       "</style>\n",
       "<table border=\"1\" class=\"dataframe\">\n",
       "  <thead>\n",
       "    <tr style=\"text-align: right;\">\n",
       "      <th></th>\n",
       "      <th>userId</th>\n",
       "      <th>total_duration</th>\n",
       "      <th>count</th>\n",
       "      <th>_id</th>\n",
       "      <th>name</th>\n",
       "      <th>role_id</th>\n",
       "      <th>joining_date</th>\n",
       "      <th>department</th>\n",
       "      <th>mail</th>\n",
       "      <th>created_at</th>\n",
       "      <th>updated_at</th>\n",
       "      <th>password</th>\n",
       "      <th>profileImage</th>\n",
       "      <th>role_name</th>\n",
       "    </tr>\n",
       "  </thead>\n",
       "  <tbody>\n",
       "    <tr>\n",
       "      <th>0</th>\n",
       "      <td>00001762-6384-4247-ba53-54ea1640d1c7</td>\n",
       "      <td>6730 days</td>\n",
       "      <td>5</td>\n",
       "      <td>00001762-6384-4247-ba53-54ea1640d1c7</td>\n",
       "      <td>George Davis</td>\n",
       "      <td>19adcd6a-d040-43f5-8df4-f2776037d25e</td>\n",
       "      <td>2020-01-13T22:40:37</td>\n",
       "      <td>DEVOPS</td>\n",
       "      <td>kmyers@example.com</td>\n",
       "      <td>2020-05-17</td>\n",
       "      <td>2022-08-31</td>\n",
       "      <td>$$NE4RGu*3</td>\n",
       "      <td>https://picsum.photos/383/584</td>\n",
       "      <td>improve</td>\n",
       "    </tr>\n",
       "    <tr>\n",
       "      <th>1</th>\n",
       "      <td>00007389-374a-4695-aa55-e934e296c10d</td>\n",
       "      <td>7451 days</td>\n",
       "      <td>5</td>\n",
       "      <td>00007389-374a-4695-aa55-e934e296c10d</td>\n",
       "      <td>Richard Wood</td>\n",
       "      <td>100ac7ef-7112-488f-adf2-f9c1608d49b2</td>\n",
       "      <td>2022-12-13T03:11:03</td>\n",
       "      <td>DEVOPS</td>\n",
       "      <td>stacyjennings@example.net</td>\n",
       "      <td>2020-05-19</td>\n",
       "      <td>2021-03-04</td>\n",
       "      <td>w2AER@Cp@v</td>\n",
       "      <td>https://dummyimage.com/258x598</td>\n",
       "      <td>century</td>\n",
       "    </tr>\n",
       "    <tr>\n",
       "      <th>2</th>\n",
       "      <td>00056dbe-77c8-4c3c-a431-ebd19236bf46</td>\n",
       "      <td>2677 days</td>\n",
       "      <td>5</td>\n",
       "      <td>00056dbe-77c8-4c3c-a431-ebd19236bf46</td>\n",
       "      <td>John Johnson</td>\n",
       "      <td>9a857edb-7685-453d-bc33-ed5032191e9c</td>\n",
       "      <td>2020-03-09T11:55:40</td>\n",
       "      <td>OTHER</td>\n",
       "      <td>curtiscordova@example.com</td>\n",
       "      <td>2021-08-27</td>\n",
       "      <td>2023-01-11</td>\n",
       "      <td>Xr67Ru9j%5</td>\n",
       "      <td>https://dummyimage.com/116x586</td>\n",
       "      <td>money</td>\n",
       "    </tr>\n",
       "    <tr>\n",
       "      <th>3</th>\n",
       "      <td>000aef55-a6de-4d27-826e-fe081937fefd</td>\n",
       "      <td>4958 days</td>\n",
       "      <td>5</td>\n",
       "      <td>000aef55-a6de-4d27-826e-fe081937fefd</td>\n",
       "      <td>Diana Wagner</td>\n",
       "      <td>76fba540-2817-4293-b9ae-dd2aa77acbc1</td>\n",
       "      <td>2020-07-25T05:33:12</td>\n",
       "      <td>DATA_ANALYTICS</td>\n",
       "      <td>samantha69@example.org</td>\n",
       "      <td>2024-02-27</td>\n",
       "      <td>2024-02-09</td>\n",
       "      <td>x5OCm3Qm$4</td>\n",
       "      <td>https://dummyimage.com/607x451</td>\n",
       "      <td>positive</td>\n",
       "    </tr>\n",
       "    <tr>\n",
       "      <th>4</th>\n",
       "      <td>000c3b60-2ec0-4623-8924-dc9974974acb</td>\n",
       "      <td>4166 days</td>\n",
       "      <td>5</td>\n",
       "      <td>000c3b60-2ec0-4623-8924-dc9974974acb</td>\n",
       "      <td>Lauren Villegas</td>\n",
       "      <td>68d523fe-d71a-4a66-915a-950cbce914e2</td>\n",
       "      <td>2024-07-18T22:41:03</td>\n",
       "      <td>DEVOPS</td>\n",
       "      <td>corey49@example.net</td>\n",
       "      <td>2023-01-17</td>\n",
       "      <td>2023-09-12</td>\n",
       "      <td>pAH(9Rbl7+</td>\n",
       "      <td>https://dummyimage.com/113x292</td>\n",
       "      <td>talk</td>\n",
       "    </tr>\n",
       "  </tbody>\n",
       "</table>\n",
       "</div>"
      ],
      "text/plain": [
       "                                 userId total_duration  count  \\\n",
       "0  00001762-6384-4247-ba53-54ea1640d1c7      6730 days      5   \n",
       "1  00007389-374a-4695-aa55-e934e296c10d      7451 days      5   \n",
       "2  00056dbe-77c8-4c3c-a431-ebd19236bf46      2677 days      5   \n",
       "3  000aef55-a6de-4d27-826e-fe081937fefd      4958 days      5   \n",
       "4  000c3b60-2ec0-4623-8924-dc9974974acb      4166 days      5   \n",
       "\n",
       "                                    _id             name  \\\n",
       "0  00001762-6384-4247-ba53-54ea1640d1c7     George Davis   \n",
       "1  00007389-374a-4695-aa55-e934e296c10d     Richard Wood   \n",
       "2  00056dbe-77c8-4c3c-a431-ebd19236bf46     John Johnson   \n",
       "3  000aef55-a6de-4d27-826e-fe081937fefd     Diana Wagner   \n",
       "4  000c3b60-2ec0-4623-8924-dc9974974acb  Lauren Villegas   \n",
       "\n",
       "                                role_id         joining_date      department  \\\n",
       "0  19adcd6a-d040-43f5-8df4-f2776037d25e  2020-01-13T22:40:37          DEVOPS   \n",
       "1  100ac7ef-7112-488f-adf2-f9c1608d49b2  2022-12-13T03:11:03          DEVOPS   \n",
       "2  9a857edb-7685-453d-bc33-ed5032191e9c  2020-03-09T11:55:40           OTHER   \n",
       "3  76fba540-2817-4293-b9ae-dd2aa77acbc1  2020-07-25T05:33:12  DATA_ANALYTICS   \n",
       "4  68d523fe-d71a-4a66-915a-950cbce914e2  2024-07-18T22:41:03          DEVOPS   \n",
       "\n",
       "                        mail created_at updated_at    password  \\\n",
       "0         kmyers@example.com 2020-05-17 2022-08-31  $$NE4RGu*3   \n",
       "1  stacyjennings@example.net 2020-05-19 2021-03-04  w2AER@Cp@v   \n",
       "2  curtiscordova@example.com 2021-08-27 2023-01-11  Xr67Ru9j%5   \n",
       "3     samantha69@example.org 2024-02-27 2024-02-09  x5OCm3Qm$4   \n",
       "4        corey49@example.net 2023-01-17 2023-09-12  pAH(9Rbl7+   \n",
       "\n",
       "                     profileImage role_name  \n",
       "0   https://picsum.photos/383/584   improve  \n",
       "1  https://dummyimage.com/258x598   century  \n",
       "2  https://dummyimage.com/116x586     money  \n",
       "3  https://dummyimage.com/607x451  positive  \n",
       "4  https://dummyimage.com/113x292      talk  "
      ]
     },
     "execution_count": 274,
     "metadata": {},
     "output_type": "execute_result"
    }
   ],
   "source": [
    "df=merged_df\n",
    "df.head()"
   ]
  },
  {
   "cell_type": "code",
   "execution_count": 275,
   "metadata": {},
   "outputs": [
    {
     "data": {
      "text/plain": [
       "userId            0\n",
       "total_duration    0\n",
       "count             0\n",
       "_id               0\n",
       "name              0\n",
       "role_id           0\n",
       "joining_date      0\n",
       "department        0\n",
       "mail              0\n",
       "created_at        0\n",
       "updated_at        0\n",
       "password          0\n",
       "profileImage      0\n",
       "role_name         0\n",
       "dtype: int64"
      ]
     },
     "execution_count": 275,
     "metadata": {},
     "output_type": "execute_result"
    }
   ],
   "source": [
    "df.isnull().sum()"
   ]
  },
  {
   "cell_type": "code",
   "execution_count": 276,
   "metadata": {},
   "outputs": [],
   "source": [
    "df.to_csv('E:/JMAN/fp/DataEngineering/prep/prep_user.csv')"
   ]
  },
  {
   "cell_type": "code",
   "execution_count": null,
   "metadata": {},
   "outputs": [],
   "source": []
  }
 ],
 "metadata": {
  "kernelspec": {
   "display_name": "base",
   "language": "python",
   "name": "python3"
  },
  "language_info": {
   "codemirror_mode": {
    "name": "ipython",
    "version": 3
   },
   "file_extension": ".py",
   "mimetype": "text/x-python",
   "name": "python",
   "nbconvert_exporter": "python",
   "pygments_lexer": "ipython3",
   "version": "3.12.4"
  }
 },
 "nbformat": 4,
 "nbformat_minor": 2
}
