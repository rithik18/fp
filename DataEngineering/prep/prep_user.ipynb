{
 "cells": [
  {
   "cell_type": "code",
   "execution_count": 3,
   "metadata": {},
   "outputs": [],
   "source": [
    "import pandas as pd"
   ]
  },
  {
   "cell_type": "code",
   "execution_count": 4,
   "metadata": {},
   "outputs": [],
   "source": [
    "user_csv=pd.read_csv('C:/Users/RithikHarendarMahesh/Desktop/fp/DataEngineering/raw/raw_users.csv')"
   ]
  },
  {
   "cell_type": "code",
   "execution_count": 5,
   "metadata": {},
   "outputs": [],
   "source": [
    "df=pd.DataFrame(data=user_csv)"
   ]
  },
  {
   "cell_type": "code",
   "execution_count": 6,
   "metadata": {},
   "outputs": [
    {
     "data": {
      "text/plain": [
       "_id             0\n",
       "name            0\n",
       "role_id         0\n",
       "joining_date    0\n",
       "department      0\n",
       "mail            0\n",
       "created_at      0\n",
       "updated_at      0\n",
       "password        0\n",
       "profileImage    0\n",
       "dtype: int64"
      ]
     },
     "execution_count": 6,
     "metadata": {},
     "output_type": "execute_result"
    }
   ],
   "source": [
    "df.isnull().sum()"
   ]
  },
  {
   "cell_type": "code",
   "execution_count": 7,
   "metadata": {},
   "outputs": [],
   "source": [
    "df.dropna(inplace=True)"
   ]
  },
  {
   "cell_type": "code",
   "execution_count": 8,
   "metadata": {},
   "outputs": [],
   "source": [
    "df.drop_duplicates(inplace=True)"
   ]
  },
  {
   "cell_type": "code",
   "execution_count": 9,
   "metadata": {},
   "outputs": [
    {
     "data": {
      "text/plain": [
       "_id             object\n",
       "name            object\n",
       "role_id         object\n",
       "joining_date    object\n",
       "department      object\n",
       "mail            object\n",
       "created_at      object\n",
       "updated_at      object\n",
       "password        object\n",
       "profileImage    object\n",
       "dtype: object"
      ]
     },
     "execution_count": 9,
     "metadata": {},
     "output_type": "execute_result"
    }
   ],
   "source": [
    "df.dtypes"
   ]
  },
  {
   "cell_type": "code",
   "execution_count": 10,
   "metadata": {},
   "outputs": [
    {
     "name": "stdout",
     "output_type": "stream",
     "text": [
      "Original dtypes:\n",
      "_id             object\n",
      "name            object\n",
      "role_id         object\n",
      "joining_date    object\n",
      "department      object\n",
      "mail            object\n",
      "created_at      object\n",
      "updated_at      object\n",
      "password        object\n",
      "profileImage    object\n",
      "dtype: object\n",
      "\n",
      "Converted dtypes:\n",
      "_id             string[python]\n",
      "name            string[python]\n",
      "role_id         string[python]\n",
      "joining_date    string[python]\n",
      "department      string[python]\n",
      "mail            string[python]\n",
      "created_at      string[python]\n",
      "updated_at      string[python]\n",
      "password        string[python]\n",
      "profileImage    string[python]\n",
      "dtype: object\n"
     ]
    }
   ],
   "source": [
    "print(\"Original dtypes:\")\n",
    "print(df.dtypes)\n",
    "\n",
    "# Convert dtypes\n",
    "df=df.convert_dtypes()\n",
    "\n",
    "# Check new dtypes\n",
    "print(\"\\nConverted dtypes:\")\n",
    "print(df.convert_dtypes().dtypes)"
   ]
  },
  {
   "cell_type": "code",
   "execution_count": 11,
   "metadata": {},
   "outputs": [],
   "source": [
    "df['created_at'] = [\n",
    "    i.split(\" \")[0] if 'T' not in i else i.split(\"T\")[0] for i in df['created_at']\n",
    "]"
   ]
  },
  {
   "cell_type": "code",
   "execution_count": 12,
   "metadata": {},
   "outputs": [],
   "source": [
    "df['created_at']=pd.to_datetime(df['created_at'])"
   ]
  },
  {
   "cell_type": "code",
   "execution_count": 13,
   "metadata": {},
   "outputs": [],
   "source": [
    "df['updated_at'] = [\n",
    "    i.split(\" \")[0] if 'T' not in i else i.split(\"T\")[0] for i in df['updated_at']\n",
    "]"
   ]
  },
  {
   "cell_type": "code",
   "execution_count": 14,
   "metadata": {},
   "outputs": [],
   "source": [
    "df['updated_at']=pd.to_datetime(df['updated_at'])"
   ]
  },
  {
   "cell_type": "code",
   "execution_count": 15,
   "metadata": {},
   "outputs": [
    {
     "data": {
      "text/plain": [
       "_id             string[python]\n",
       "name            string[python]\n",
       "role_id         string[python]\n",
       "joining_date    string[python]\n",
       "department      string[python]\n",
       "mail            string[python]\n",
       "created_at      datetime64[ns]\n",
       "updated_at      datetime64[ns]\n",
       "password        string[python]\n",
       "profileImage    string[python]\n",
       "dtype: object"
      ]
     },
     "execution_count": 15,
     "metadata": {},
     "output_type": "execute_result"
    }
   ],
   "source": [
    "df.dtypes"
   ]
  },
  {
   "cell_type": "code",
   "execution_count": 16,
   "metadata": {},
   "outputs": [
    {
     "data": {
      "text/plain": [
       "['ADMIN', 'ADMIN', 'FULL_STACK', 'DATA_ANALYTICS', 'DATA_ANALYTICS', ..., 'ADMIN', 'DATA_ENGINEERING', 'FULL_STACK', 'DEVOPS', 'FULL_STACK']\n",
       "Length: 30000\n",
       "Categories (6, string): [ADMIN, DATA_ANALYTICS, DATA_ENGINEERING, DEVOPS, FULL_STACK, OTHER]"
      ]
     },
     "execution_count": 16,
     "metadata": {},
     "output_type": "execute_result"
    }
   ],
   "source": [
    "pd.Categorical(df['department'])"
   ]
  },
  {
   "cell_type": "code",
   "execution_count": 17,
   "metadata": {},
   "outputs": [
    {
     "data": {
      "text/plain": [
       "['25886cc0-ab38-455b-a301-f739643e462d', '25886cc0-ab38-455b-a301-f739643e462d', '25886cc0-ab38-455b-a301-f739643e462d', '25886cc0-ab38-455b-a301-f739643e462d', '25886cc0-ab38-455b-a301-f739643e462d', ..., '90a9e49a-3fcc-494c-a3fa-1c5375311cbb', '90a9e49a-3fcc-494c-a3fa-1c5375311cbb', '90a9e49a-3fcc-494c-a3fa-1c5375311cbb', '90a9e49a-3fcc-494c-a3fa-1c5375311cbb', '90a9e49a-3fcc-494c-a3fa-1c5375311cbb']\n",
       "Length: 30000\n",
       "Categories (15, string): [1fc24487-22cd-4e45-9276-6390a20f40fe, 2378806c-a3b2-4320-b09b-470b52d02954, 25886cc0-ab38-455b-a301-f739643e462d, 38bd1ab2-e630-4311-9128-7438fe171719, ..., b4057508-20a7-4553-87f1-8dd813fe7eda, beb050bc-b355-4fa1-bb53-006eea46a697, df5a8f57-5e81-47c8-89a1-589d9c62cedb, e5718b9c-cddd-4a63-8ae7-324019377228]"
      ]
     },
     "execution_count": 17,
     "metadata": {},
     "output_type": "execute_result"
    }
   ],
   "source": [
    "pd.Categorical(df['role_id'])"
   ]
  },
  {
   "cell_type": "code",
   "execution_count": 18,
   "metadata": {},
   "outputs": [
    {
     "data": {
      "text/html": [
       "<div>\n",
       "<style scoped>\n",
       "    .dataframe tbody tr th:only-of-type {\n",
       "        vertical-align: middle;\n",
       "    }\n",
       "\n",
       "    .dataframe tbody tr th {\n",
       "        vertical-align: top;\n",
       "    }\n",
       "\n",
       "    .dataframe thead th {\n",
       "        text-align: right;\n",
       "    }\n",
       "</style>\n",
       "<table border=\"1\" class=\"dataframe\">\n",
       "  <thead>\n",
       "    <tr style=\"text-align: right;\">\n",
       "      <th></th>\n",
       "      <th>_id</th>\n",
       "      <th>name</th>\n",
       "      <th>role_id</th>\n",
       "      <th>joining_date</th>\n",
       "      <th>department</th>\n",
       "      <th>mail</th>\n",
       "      <th>created_at</th>\n",
       "      <th>updated_at</th>\n",
       "      <th>password</th>\n",
       "      <th>profileImage</th>\n",
       "      <th>role_name</th>\n",
       "    </tr>\n",
       "  </thead>\n",
       "  <tbody>\n",
       "    <tr>\n",
       "      <th>0</th>\n",
       "      <td>06bdb594-fb32-4612-9f5f-b381ccbfc9a5</td>\n",
       "      <td>Jonathan King</td>\n",
       "      <td>25886cc0-ab38-455b-a301-f739643e462d</td>\n",
       "      <td>2021-08-07T21:52:59</td>\n",
       "      <td>ADMIN</td>\n",
       "      <td>slee@example.net</td>\n",
       "      <td>2020-07-11</td>\n",
       "      <td>2021-03-18</td>\n",
       "      <td>0&amp;^u3SZ!td</td>\n",
       "      <td>https://placekitten.com/397/1014</td>\n",
       "      <td>Software Engineer</td>\n",
       "    </tr>\n",
       "    <tr>\n",
       "      <th>1</th>\n",
       "      <td>579c6abd-99d0-4012-bc58-ee780164255d</td>\n",
       "      <td>Virginia Cruz</td>\n",
       "      <td>25886cc0-ab38-455b-a301-f739643e462d</td>\n",
       "      <td>2023-03-24T23:41:47</td>\n",
       "      <td>ADMIN</td>\n",
       "      <td>tanyachandler@example.com</td>\n",
       "      <td>2020-06-29</td>\n",
       "      <td>2023-07-14</td>\n",
       "      <td>%9vmVHbw*R</td>\n",
       "      <td>https://dummyimage.com/850x681</td>\n",
       "      <td>Software Engineer</td>\n",
       "    </tr>\n",
       "    <tr>\n",
       "      <th>2</th>\n",
       "      <td>a9c3b649-0db3-4299-8f6d-7a97bad2cb2d</td>\n",
       "      <td>Jerry Miller</td>\n",
       "      <td>25886cc0-ab38-455b-a301-f739643e462d</td>\n",
       "      <td>2023-05-11T20:58:36</td>\n",
       "      <td>FULL_STACK</td>\n",
       "      <td>erictaylor@example.org</td>\n",
       "      <td>2024-08-08</td>\n",
       "      <td>2020-04-16</td>\n",
       "      <td>(9PY!uq*lo</td>\n",
       "      <td>https://picsum.photos/939/1022</td>\n",
       "      <td>Software Engineer</td>\n",
       "    </tr>\n",
       "    <tr>\n",
       "      <th>3</th>\n",
       "      <td>483a48e4-05e4-4d09-929e-46c67884c20c</td>\n",
       "      <td>Derrick Watson</td>\n",
       "      <td>25886cc0-ab38-455b-a301-f739643e462d</td>\n",
       "      <td>2020-04-28T12:30:10</td>\n",
       "      <td>DATA_ANALYTICS</td>\n",
       "      <td>fcastillo@example.com</td>\n",
       "      <td>2022-02-19</td>\n",
       "      <td>2024-07-24</td>\n",
       "      <td>eKsO1jHf*9</td>\n",
       "      <td>https://dummyimage.com/516x416</td>\n",
       "      <td>Software Engineer</td>\n",
       "    </tr>\n",
       "    <tr>\n",
       "      <th>4</th>\n",
       "      <td>8eedfa9a-e5f6-494d-8dba-1418a06e167f</td>\n",
       "      <td>Vincent Woods</td>\n",
       "      <td>25886cc0-ab38-455b-a301-f739643e462d</td>\n",
       "      <td>2022-03-02T10:47:58</td>\n",
       "      <td>DATA_ANALYTICS</td>\n",
       "      <td>eenglish@example.com</td>\n",
       "      <td>2021-08-26</td>\n",
       "      <td>2023-09-01</td>\n",
       "      <td>gtpAK)n4*3</td>\n",
       "      <td>https://dummyimage.com/196x674</td>\n",
       "      <td>Software Engineer</td>\n",
       "    </tr>\n",
       "  </tbody>\n",
       "</table>\n",
       "</div>"
      ],
      "text/plain": [
       "                                    _id            name  \\\n",
       "0  06bdb594-fb32-4612-9f5f-b381ccbfc9a5   Jonathan King   \n",
       "1  579c6abd-99d0-4012-bc58-ee780164255d   Virginia Cruz   \n",
       "2  a9c3b649-0db3-4299-8f6d-7a97bad2cb2d    Jerry Miller   \n",
       "3  483a48e4-05e4-4d09-929e-46c67884c20c  Derrick Watson   \n",
       "4  8eedfa9a-e5f6-494d-8dba-1418a06e167f   Vincent Woods   \n",
       "\n",
       "                                role_id         joining_date      department  \\\n",
       "0  25886cc0-ab38-455b-a301-f739643e462d  2021-08-07T21:52:59           ADMIN   \n",
       "1  25886cc0-ab38-455b-a301-f739643e462d  2023-03-24T23:41:47           ADMIN   \n",
       "2  25886cc0-ab38-455b-a301-f739643e462d  2023-05-11T20:58:36      FULL_STACK   \n",
       "3  25886cc0-ab38-455b-a301-f739643e462d  2020-04-28T12:30:10  DATA_ANALYTICS   \n",
       "4  25886cc0-ab38-455b-a301-f739643e462d  2022-03-02T10:47:58  DATA_ANALYTICS   \n",
       "\n",
       "                        mail created_at updated_at    password  \\\n",
       "0           slee@example.net 2020-07-11 2021-03-18  0&^u3SZ!td   \n",
       "1  tanyachandler@example.com 2020-06-29 2023-07-14  %9vmVHbw*R   \n",
       "2     erictaylor@example.org 2024-08-08 2020-04-16  (9PY!uq*lo   \n",
       "3      fcastillo@example.com 2022-02-19 2024-07-24  eKsO1jHf*9   \n",
       "4       eenglish@example.com 2021-08-26 2023-09-01  gtpAK)n4*3   \n",
       "\n",
       "                       profileImage          role_name  \n",
       "0  https://placekitten.com/397/1014  Software Engineer  \n",
       "1    https://dummyimage.com/850x681  Software Engineer  \n",
       "2    https://picsum.photos/939/1022  Software Engineer  \n",
       "3    https://dummyimage.com/516x416  Software Engineer  \n",
       "4    https://dummyimage.com/196x674  Software Engineer  "
      ]
     },
     "execution_count": 18,
     "metadata": {},
     "output_type": "execute_result"
    }
   ],
   "source": [
    "roles_df = pd.read_csv('C:/Users/RithikHarendarMahesh/Desktop/fp/DataEngineering/raw/raw_roles.csv')\n",
    "role_mapping = dict(zip(roles_df['_id'], roles_df['name']))\n",
    "df['role_name'] = df['role_id'].map(role_mapping)\n",
    "df.head()"
   ]
  },
  {
   "cell_type": "code",
   "execution_count": 19,
   "metadata": {},
   "outputs": [
    {
     "name": "stdout",
     "output_type": "stream",
     "text": [
      "Original dtypes:\n",
      "_id             string[python]\n",
      "name            string[python]\n",
      "role_id         string[python]\n",
      "joining_date    string[python]\n",
      "department      string[python]\n",
      "mail            string[python]\n",
      "created_at      datetime64[ns]\n",
      "updated_at      datetime64[ns]\n",
      "password        string[python]\n",
      "profileImage    string[python]\n",
      "role_name               object\n",
      "dtype: object\n",
      "\n",
      "Converted dtypes:\n",
      "_id             string[python]\n",
      "name            string[python]\n",
      "role_id         string[python]\n",
      "joining_date    string[python]\n",
      "department      string[python]\n",
      "mail            string[python]\n",
      "created_at      datetime64[ns]\n",
      "updated_at      datetime64[ns]\n",
      "password        string[python]\n",
      "profileImage    string[python]\n",
      "role_name       string[python]\n",
      "dtype: object\n"
     ]
    }
   ],
   "source": [
    "print(\"Original dtypes:\")\n",
    "print(df.dtypes)\n",
    "\n",
    "# Convert dtypes\n",
    "df=df.convert_dtypes()\n",
    "\n",
    "# Check new dtypes\n",
    "print(\"\\nConverted dtypes:\")\n",
    "print(df.convert_dtypes().dtypes)"
   ]
  },
  {
   "cell_type": "code",
   "execution_count": 20,
   "metadata": {},
   "outputs": [],
   "source": [
    "user_cert_csv=pd.read_csv('C:/Users/RithikHarendarMahesh/Desktop/fp/DataEngineering/raw/raw_user_certifications.csv')"
   ]
  },
  {
   "cell_type": "code",
   "execution_count": 21,
   "metadata": {},
   "outputs": [],
   "source": [
    "user_cert_df=pd.DataFrame(data=user_cert_csv)"
   ]
  },
  {
   "cell_type": "code",
   "execution_count": 22,
   "metadata": {},
   "outputs": [
    {
     "data": {
      "text/html": [
       "<div>\n",
       "<style scoped>\n",
       "    .dataframe tbody tr th:only-of-type {\n",
       "        vertical-align: middle;\n",
       "    }\n",
       "\n",
       "    .dataframe tbody tr th {\n",
       "        vertical-align: top;\n",
       "    }\n",
       "\n",
       "    .dataframe thead th {\n",
       "        text-align: right;\n",
       "    }\n",
       "</style>\n",
       "<table border=\"1\" class=\"dataframe\">\n",
       "  <thead>\n",
       "    <tr style=\"text-align: right;\">\n",
       "      <th></th>\n",
       "      <th>_id</th>\n",
       "      <th>userId</th>\n",
       "      <th>certificationId</th>\n",
       "      <th>certificationName</th>\n",
       "      <th>started_at</th>\n",
       "      <th>completed_at</th>\n",
       "      <th>competency</th>\n",
       "      <th>isVerified</th>\n",
       "      <th>imageData</th>\n",
       "    </tr>\n",
       "  </thead>\n",
       "  <tbody>\n",
       "    <tr>\n",
       "      <th>0</th>\n",
       "      <td>5c2f5af4-9057-48f4-accb-de937c5cec78</td>\n",
       "      <td>06bdb594-fb32-4612-9f5f-b381ccbfc9a5</td>\n",
       "      <td>d9b6fc8a-59ab-42cd-9534-7f8dcc9e7b91</td>\n",
       "      <td>Certified Kubernetes Administrator</td>\n",
       "      <td>2022-03-22T03:14:56</td>\n",
       "      <td>2022-11-08T21:26:46</td>\n",
       "      <td>ADVANCED</td>\n",
       "      <td>True</td>\n",
       "      <td>https://picsum.photos/380/20</td>\n",
       "    </tr>\n",
       "    <tr>\n",
       "      <th>1</th>\n",
       "      <td>8443b459-1c45-4658-a256-5348e0488c6b</td>\n",
       "      <td>06bdb594-fb32-4612-9f5f-b381ccbfc9a5</td>\n",
       "      <td>ac3b01df-33cd-4e90-b107-ebb3d901fcd6</td>\n",
       "      <td>Certified ScrumMaster</td>\n",
       "      <td>2020-02-13T17:56:12</td>\n",
       "      <td>2020-06-10T23:02:06</td>\n",
       "      <td>INTERMEDIATE</td>\n",
       "      <td>False</td>\n",
       "      <td>https://picsum.photos/1016/256</td>\n",
       "    </tr>\n",
       "    <tr>\n",
       "      <th>2</th>\n",
       "      <td>72233b70-4e0a-4f52-8bf4-3766e6c4a8b1</td>\n",
       "      <td>06bdb594-fb32-4612-9f5f-b381ccbfc9a5</td>\n",
       "      <td>e94136f1-f035-458b-9920-14ebc37c9b80</td>\n",
       "      <td>Certified Ethical Hacker</td>\n",
       "      <td>2021-07-16T18:44:14</td>\n",
       "      <td>2022-09-15T18:44:17</td>\n",
       "      <td>BEGINNER</td>\n",
       "      <td>False</td>\n",
       "      <td>https://dummyimage.com/518x634</td>\n",
       "    </tr>\n",
       "    <tr>\n",
       "      <th>3</th>\n",
       "      <td>113e8e00-a8ac-40a1-8cd5-a93e277cefe3</td>\n",
       "      <td>06bdb594-fb32-4612-9f5f-b381ccbfc9a5</td>\n",
       "      <td>ac3b01df-33cd-4e90-b107-ebb3d901fcd6</td>\n",
       "      <td>Certified ScrumMaster</td>\n",
       "      <td>2021-07-13T02:48:19</td>\n",
       "      <td>2021-07-13T02:48:19.406526</td>\n",
       "      <td>BEGINNER</td>\n",
       "      <td>True</td>\n",
       "      <td>https://dummyimage.com/942x887</td>\n",
       "    </tr>\n",
       "    <tr>\n",
       "      <th>4</th>\n",
       "      <td>9a49a4a0-f03a-4fa0-8859-aae08ae04418</td>\n",
       "      <td>06bdb594-fb32-4612-9f5f-b381ccbfc9a5</td>\n",
       "      <td>50b0294c-a8f8-435e-bbc0-bbf09afcff14</td>\n",
       "      <td>AWS Certified Developer - Associate</td>\n",
       "      <td>2022-10-17T15:49:45</td>\n",
       "      <td>2024-05-30T17:49:31</td>\n",
       "      <td>EXPERT</td>\n",
       "      <td>False</td>\n",
       "      <td>https://dummyimage.com/288x198</td>\n",
       "    </tr>\n",
       "  </tbody>\n",
       "</table>\n",
       "</div>"
      ],
      "text/plain": [
       "                                    _id                                userId  \\\n",
       "0  5c2f5af4-9057-48f4-accb-de937c5cec78  06bdb594-fb32-4612-9f5f-b381ccbfc9a5   \n",
       "1  8443b459-1c45-4658-a256-5348e0488c6b  06bdb594-fb32-4612-9f5f-b381ccbfc9a5   \n",
       "2  72233b70-4e0a-4f52-8bf4-3766e6c4a8b1  06bdb594-fb32-4612-9f5f-b381ccbfc9a5   \n",
       "3  113e8e00-a8ac-40a1-8cd5-a93e277cefe3  06bdb594-fb32-4612-9f5f-b381ccbfc9a5   \n",
       "4  9a49a4a0-f03a-4fa0-8859-aae08ae04418  06bdb594-fb32-4612-9f5f-b381ccbfc9a5   \n",
       "\n",
       "                        certificationId                    certificationName  \\\n",
       "0  d9b6fc8a-59ab-42cd-9534-7f8dcc9e7b91   Certified Kubernetes Administrator   \n",
       "1  ac3b01df-33cd-4e90-b107-ebb3d901fcd6                Certified ScrumMaster   \n",
       "2  e94136f1-f035-458b-9920-14ebc37c9b80             Certified Ethical Hacker   \n",
       "3  ac3b01df-33cd-4e90-b107-ebb3d901fcd6                Certified ScrumMaster   \n",
       "4  50b0294c-a8f8-435e-bbc0-bbf09afcff14  AWS Certified Developer - Associate   \n",
       "\n",
       "            started_at                completed_at    competency  isVerified  \\\n",
       "0  2022-03-22T03:14:56         2022-11-08T21:26:46      ADVANCED        True   \n",
       "1  2020-02-13T17:56:12         2020-06-10T23:02:06  INTERMEDIATE       False   \n",
       "2  2021-07-16T18:44:14         2022-09-15T18:44:17      BEGINNER       False   \n",
       "3  2021-07-13T02:48:19  2021-07-13T02:48:19.406526      BEGINNER        True   \n",
       "4  2022-10-17T15:49:45         2024-05-30T17:49:31        EXPERT       False   \n",
       "\n",
       "                        imageData  \n",
       "0    https://picsum.photos/380/20  \n",
       "1  https://picsum.photos/1016/256  \n",
       "2  https://dummyimage.com/518x634  \n",
       "3  https://dummyimage.com/942x887  \n",
       "4  https://dummyimage.com/288x198  "
      ]
     },
     "execution_count": 22,
     "metadata": {},
     "output_type": "execute_result"
    }
   ],
   "source": [
    "user_cert_df.head()"
   ]
  },
  {
   "cell_type": "code",
   "execution_count": 23,
   "metadata": {},
   "outputs": [],
   "source": [
    "user_cert_df['completed_at'] = [\n",
    "    i.split(\" \")[0] if 'T' not in i else i.split(\"T\")[0] for i in user_cert_df['completed_at']\n",
    "]"
   ]
  },
  {
   "cell_type": "code",
   "execution_count": null,
   "metadata": {},
   "outputs": [],
   "source": []
  },
  {
   "cell_type": "code",
   "execution_count": 24,
   "metadata": {},
   "outputs": [],
   "source": [
    "user_cert_df['started_at'] = [\n",
    "    i.split(\" \")[0] if 'T' not in i else i.split(\"T\")[0] for i in user_cert_df['started_at']\n",
    "]"
   ]
  },
  {
   "cell_type": "code",
   "execution_count": 25,
   "metadata": {},
   "outputs": [],
   "source": [
    "user_cert_df['completed_at']=pd.to_datetime(user_cert_df['completed_at'])"
   ]
  },
  {
   "cell_type": "code",
   "execution_count": 26,
   "metadata": {},
   "outputs": [],
   "source": [
    "user_cert_df['started_at']=pd.to_datetime(user_cert_df['started_at'])"
   ]
  },
  {
   "cell_type": "code",
   "execution_count": 27,
   "metadata": {},
   "outputs": [
    {
     "data": {
      "text/plain": [
       "Timedelta('231 days 00:00:00')"
      ]
     },
     "execution_count": 27,
     "metadata": {},
     "output_type": "execute_result"
    }
   ],
   "source": [
    "(user_cert_df['completed_at'][0]-user_cert_df['started_at'][0])"
   ]
  },
  {
   "cell_type": "code",
   "execution_count": 28,
   "metadata": {},
   "outputs": [],
   "source": [
    "user_cert_df['duration'] =user_cert_df['completed_at'] - user_cert_df['started_at']"
   ]
  },
  {
   "cell_type": "code",
   "execution_count": 29,
   "metadata": {},
   "outputs": [
    {
     "data": {
      "text/html": [
       "<div>\n",
       "<style scoped>\n",
       "    .dataframe tbody tr th:only-of-type {\n",
       "        vertical-align: middle;\n",
       "    }\n",
       "\n",
       "    .dataframe tbody tr th {\n",
       "        vertical-align: top;\n",
       "    }\n",
       "\n",
       "    .dataframe thead th {\n",
       "        text-align: right;\n",
       "    }\n",
       "</style>\n",
       "<table border=\"1\" class=\"dataframe\">\n",
       "  <thead>\n",
       "    <tr style=\"text-align: right;\">\n",
       "      <th></th>\n",
       "      <th>_id</th>\n",
       "      <th>userId</th>\n",
       "      <th>certificationId</th>\n",
       "      <th>certificationName</th>\n",
       "      <th>started_at</th>\n",
       "      <th>completed_at</th>\n",
       "      <th>competency</th>\n",
       "      <th>isVerified</th>\n",
       "      <th>imageData</th>\n",
       "      <th>duration</th>\n",
       "    </tr>\n",
       "  </thead>\n",
       "  <tbody>\n",
       "    <tr>\n",
       "      <th>0</th>\n",
       "      <td>5c2f5af4-9057-48f4-accb-de937c5cec78</td>\n",
       "      <td>06bdb594-fb32-4612-9f5f-b381ccbfc9a5</td>\n",
       "      <td>d9b6fc8a-59ab-42cd-9534-7f8dcc9e7b91</td>\n",
       "      <td>Certified Kubernetes Administrator</td>\n",
       "      <td>2022-03-22</td>\n",
       "      <td>2022-11-08</td>\n",
       "      <td>ADVANCED</td>\n",
       "      <td>True</td>\n",
       "      <td>https://picsum.photos/380/20</td>\n",
       "      <td>231 days</td>\n",
       "    </tr>\n",
       "    <tr>\n",
       "      <th>1</th>\n",
       "      <td>8443b459-1c45-4658-a256-5348e0488c6b</td>\n",
       "      <td>06bdb594-fb32-4612-9f5f-b381ccbfc9a5</td>\n",
       "      <td>ac3b01df-33cd-4e90-b107-ebb3d901fcd6</td>\n",
       "      <td>Certified ScrumMaster</td>\n",
       "      <td>2020-02-13</td>\n",
       "      <td>2020-06-10</td>\n",
       "      <td>INTERMEDIATE</td>\n",
       "      <td>False</td>\n",
       "      <td>https://picsum.photos/1016/256</td>\n",
       "      <td>118 days</td>\n",
       "    </tr>\n",
       "    <tr>\n",
       "      <th>2</th>\n",
       "      <td>72233b70-4e0a-4f52-8bf4-3766e6c4a8b1</td>\n",
       "      <td>06bdb594-fb32-4612-9f5f-b381ccbfc9a5</td>\n",
       "      <td>e94136f1-f035-458b-9920-14ebc37c9b80</td>\n",
       "      <td>Certified Ethical Hacker</td>\n",
       "      <td>2021-07-16</td>\n",
       "      <td>2022-09-15</td>\n",
       "      <td>BEGINNER</td>\n",
       "      <td>False</td>\n",
       "      <td>https://dummyimage.com/518x634</td>\n",
       "      <td>426 days</td>\n",
       "    </tr>\n",
       "    <tr>\n",
       "      <th>3</th>\n",
       "      <td>113e8e00-a8ac-40a1-8cd5-a93e277cefe3</td>\n",
       "      <td>06bdb594-fb32-4612-9f5f-b381ccbfc9a5</td>\n",
       "      <td>ac3b01df-33cd-4e90-b107-ebb3d901fcd6</td>\n",
       "      <td>Certified ScrumMaster</td>\n",
       "      <td>2021-07-13</td>\n",
       "      <td>2021-07-13</td>\n",
       "      <td>BEGINNER</td>\n",
       "      <td>True</td>\n",
       "      <td>https://dummyimage.com/942x887</td>\n",
       "      <td>0 days</td>\n",
       "    </tr>\n",
       "    <tr>\n",
       "      <th>4</th>\n",
       "      <td>9a49a4a0-f03a-4fa0-8859-aae08ae04418</td>\n",
       "      <td>06bdb594-fb32-4612-9f5f-b381ccbfc9a5</td>\n",
       "      <td>50b0294c-a8f8-435e-bbc0-bbf09afcff14</td>\n",
       "      <td>AWS Certified Developer - Associate</td>\n",
       "      <td>2022-10-17</td>\n",
       "      <td>2024-05-30</td>\n",
       "      <td>EXPERT</td>\n",
       "      <td>False</td>\n",
       "      <td>https://dummyimage.com/288x198</td>\n",
       "      <td>591 days</td>\n",
       "    </tr>\n",
       "  </tbody>\n",
       "</table>\n",
       "</div>"
      ],
      "text/plain": [
       "                                    _id                                userId  \\\n",
       "0  5c2f5af4-9057-48f4-accb-de937c5cec78  06bdb594-fb32-4612-9f5f-b381ccbfc9a5   \n",
       "1  8443b459-1c45-4658-a256-5348e0488c6b  06bdb594-fb32-4612-9f5f-b381ccbfc9a5   \n",
       "2  72233b70-4e0a-4f52-8bf4-3766e6c4a8b1  06bdb594-fb32-4612-9f5f-b381ccbfc9a5   \n",
       "3  113e8e00-a8ac-40a1-8cd5-a93e277cefe3  06bdb594-fb32-4612-9f5f-b381ccbfc9a5   \n",
       "4  9a49a4a0-f03a-4fa0-8859-aae08ae04418  06bdb594-fb32-4612-9f5f-b381ccbfc9a5   \n",
       "\n",
       "                        certificationId                    certificationName  \\\n",
       "0  d9b6fc8a-59ab-42cd-9534-7f8dcc9e7b91   Certified Kubernetes Administrator   \n",
       "1  ac3b01df-33cd-4e90-b107-ebb3d901fcd6                Certified ScrumMaster   \n",
       "2  e94136f1-f035-458b-9920-14ebc37c9b80             Certified Ethical Hacker   \n",
       "3  ac3b01df-33cd-4e90-b107-ebb3d901fcd6                Certified ScrumMaster   \n",
       "4  50b0294c-a8f8-435e-bbc0-bbf09afcff14  AWS Certified Developer - Associate   \n",
       "\n",
       "  started_at completed_at    competency  isVerified  \\\n",
       "0 2022-03-22   2022-11-08      ADVANCED        True   \n",
       "1 2020-02-13   2020-06-10  INTERMEDIATE       False   \n",
       "2 2021-07-16   2022-09-15      BEGINNER       False   \n",
       "3 2021-07-13   2021-07-13      BEGINNER        True   \n",
       "4 2022-10-17   2024-05-30        EXPERT       False   \n",
       "\n",
       "                        imageData duration  \n",
       "0    https://picsum.photos/380/20 231 days  \n",
       "1  https://picsum.photos/1016/256 118 days  \n",
       "2  https://dummyimage.com/518x634 426 days  \n",
       "3  https://dummyimage.com/942x887   0 days  \n",
       "4  https://dummyimage.com/288x198 591 days  "
      ]
     },
     "execution_count": 29,
     "metadata": {},
     "output_type": "execute_result"
    }
   ],
   "source": [
    "user_cert_df.head()"
   ]
  },
  {
   "cell_type": "code",
   "execution_count": 30,
   "metadata": {},
   "outputs": [
    {
     "data": {
      "text/html": [
       "<div>\n",
       "<style scoped>\n",
       "    .dataframe tbody tr th:only-of-type {\n",
       "        vertical-align: middle;\n",
       "    }\n",
       "\n",
       "    .dataframe tbody tr th {\n",
       "        vertical-align: top;\n",
       "    }\n",
       "\n",
       "    .dataframe thead th {\n",
       "        text-align: right;\n",
       "    }\n",
       "</style>\n",
       "<table border=\"1\" class=\"dataframe\">\n",
       "  <thead>\n",
       "    <tr style=\"text-align: right;\">\n",
       "      <th></th>\n",
       "      <th>_id</th>\n",
       "      <th>userId</th>\n",
       "      <th>certificationId</th>\n",
       "      <th>certificationName</th>\n",
       "      <th>started_at</th>\n",
       "      <th>completed_at</th>\n",
       "      <th>competency</th>\n",
       "      <th>isVerified</th>\n",
       "      <th>imageData</th>\n",
       "      <th>duration</th>\n",
       "    </tr>\n",
       "  </thead>\n",
       "  <tbody>\n",
       "  </tbody>\n",
       "</table>\n",
       "</div>"
      ],
      "text/plain": [
       "Empty DataFrame\n",
       "Columns: [_id, userId, certificationId, certificationName, started_at, completed_at, competency, isVerified, imageData, duration]\n",
       "Index: []"
      ]
     },
     "execution_count": 30,
     "metadata": {},
     "output_type": "execute_result"
    }
   ],
   "source": [
    "\n",
    "\n",
    "user_cert_df.loc[user_cert_df['duration']<pd.Timedelta('0 days')]"
   ]
  },
  {
   "cell_type": "code",
   "execution_count": 31,
   "metadata": {},
   "outputs": [
    {
     "data": {
      "text/plain": [
       "_id                  0\n",
       "userId               0\n",
       "certificationId      0\n",
       "certificationName    0\n",
       "started_at           0\n",
       "completed_at         0\n",
       "competency           0\n",
       "isVerified           0\n",
       "imageData            0\n",
       "duration             0\n",
       "dtype: int64"
      ]
     },
     "execution_count": 31,
     "metadata": {},
     "output_type": "execute_result"
    }
   ],
   "source": [
    "user_cert_df.isnull().sum()"
   ]
  },
  {
   "cell_type": "code",
   "execution_count": 32,
   "metadata": {},
   "outputs": [
    {
     "data": {
      "text/plain": [
       "(30000, 2)"
      ]
     },
     "execution_count": 32,
     "metadata": {},
     "output_type": "execute_result"
    }
   ],
   "source": [
    "grouped_df = user_cert_df.groupby(['userId']).size().reset_index(name='count')\n",
    "grouped_df.shape"
   ]
  },
  {
   "cell_type": "code",
   "execution_count": 33,
   "metadata": {},
   "outputs": [],
   "source": [
    "merged_df = grouped_df.merge(df, left_on='userId', right_on='_id', how='inner')"
   ]
  },
  {
   "cell_type": "code",
   "execution_count": 34,
   "metadata": {},
   "outputs": [
    {
     "data": {
      "text/html": [
       "<div>\n",
       "<style scoped>\n",
       "    .dataframe tbody tr th:only-of-type {\n",
       "        vertical-align: middle;\n",
       "    }\n",
       "\n",
       "    .dataframe tbody tr th {\n",
       "        vertical-align: top;\n",
       "    }\n",
       "\n",
       "    .dataframe thead th {\n",
       "        text-align: right;\n",
       "    }\n",
       "</style>\n",
       "<table border=\"1\" class=\"dataframe\">\n",
       "  <thead>\n",
       "    <tr style=\"text-align: right;\">\n",
       "      <th></th>\n",
       "      <th>userId</th>\n",
       "      <th>count</th>\n",
       "      <th>_id</th>\n",
       "      <th>name</th>\n",
       "      <th>role_id</th>\n",
       "      <th>joining_date</th>\n",
       "      <th>department</th>\n",
       "      <th>mail</th>\n",
       "      <th>created_at</th>\n",
       "      <th>updated_at</th>\n",
       "      <th>password</th>\n",
       "      <th>profileImage</th>\n",
       "      <th>role_name</th>\n",
       "    </tr>\n",
       "  </thead>\n",
       "  <tbody>\n",
       "    <tr>\n",
       "      <th>0</th>\n",
       "      <td>000493ff-7d6e-41a8-b96a-d1e11eb11a7b</td>\n",
       "      <td>5</td>\n",
       "      <td>000493ff-7d6e-41a8-b96a-d1e11eb11a7b</td>\n",
       "      <td>Tamara Fields</td>\n",
       "      <td>718675e9-24e9-451b-a6e1-586aef8d0afb</td>\n",
       "      <td>2023-10-22T19:07:19</td>\n",
       "      <td>DATA_ANALYTICS</td>\n",
       "      <td>williamgarcia@example.org</td>\n",
       "      <td>2022-11-18</td>\n",
       "      <td>2023-06-24</td>\n",
       "      <td>q)QX70ZuML</td>\n",
       "      <td>https://dummyimage.com/867x425</td>\n",
       "      <td>Product Manager</td>\n",
       "    </tr>\n",
       "    <tr>\n",
       "      <th>1</th>\n",
       "      <td>0006310b-e138-4643-9580-491639213d52</td>\n",
       "      <td>5</td>\n",
       "      <td>0006310b-e138-4643-9580-491639213d52</td>\n",
       "      <td>Jeffrey Sparks</td>\n",
       "      <td>38bd1ab2-e630-4311-9128-7438fe171719</td>\n",
       "      <td>2023-07-25T15:52:32</td>\n",
       "      <td>DEVOPS</td>\n",
       "      <td>maciasdaniel@example.net</td>\n",
       "      <td>2020-11-17</td>\n",
       "      <td>2022-10-12</td>\n",
       "      <td>k4!RQdaj^2</td>\n",
       "      <td>https://placekitten.com/421/83</td>\n",
       "      <td>Machine Learning Engineer</td>\n",
       "    </tr>\n",
       "    <tr>\n",
       "      <th>2</th>\n",
       "      <td>0007d104-541e-4547-81c5-72c41a5ef087</td>\n",
       "      <td>5</td>\n",
       "      <td>0007d104-541e-4547-81c5-72c41a5ef087</td>\n",
       "      <td>Spencer Leonard</td>\n",
       "      <td>508bfd78-6401-40ad-bc4b-dade38d40352</td>\n",
       "      <td>2022-11-19T16:38:31</td>\n",
       "      <td>ADMIN</td>\n",
       "      <td>blackwelljoseph@example.com</td>\n",
       "      <td>2021-04-05</td>\n",
       "      <td>2024-04-30</td>\n",
       "      <td>*6V^tLnz+Y</td>\n",
       "      <td>https://dummyimage.com/254x741</td>\n",
       "      <td>Backend Developer</td>\n",
       "    </tr>\n",
       "    <tr>\n",
       "      <th>3</th>\n",
       "      <td>0007e8f0-2cd7-4084-960f-8e24912b92e9</td>\n",
       "      <td>5</td>\n",
       "      <td>0007e8f0-2cd7-4084-960f-8e24912b92e9</td>\n",
       "      <td>Juan Sullivan</td>\n",
       "      <td>718675e9-24e9-451b-a6e1-586aef8d0afb</td>\n",
       "      <td>2021-12-01T10:10:30</td>\n",
       "      <td>FULL_STACK</td>\n",
       "      <td>roblesjason@example.org</td>\n",
       "      <td>2023-02-03</td>\n",
       "      <td>2021-05-03</td>\n",
       "      <td>@IM@Dc#+_0</td>\n",
       "      <td>https://dummyimage.com/622x814</td>\n",
       "      <td>Product Manager</td>\n",
       "    </tr>\n",
       "    <tr>\n",
       "      <th>4</th>\n",
       "      <td>000a8195-e0c3-4b5b-b7bf-4299e228c271</td>\n",
       "      <td>5</td>\n",
       "      <td>000a8195-e0c3-4b5b-b7bf-4299e228c271</td>\n",
       "      <td>Robin Wiley</td>\n",
       "      <td>25886cc0-ab38-455b-a301-f739643e462d</td>\n",
       "      <td>2020-11-25T04:19:40</td>\n",
       "      <td>FULL_STACK</td>\n",
       "      <td>ashleyberry@example.com</td>\n",
       "      <td>2020-04-09</td>\n",
       "      <td>2023-02-05</td>\n",
       "      <td>@rs$uRlsk4</td>\n",
       "      <td>https://dummyimage.com/908x499</td>\n",
       "      <td>Software Engineer</td>\n",
       "    </tr>\n",
       "  </tbody>\n",
       "</table>\n",
       "</div>"
      ],
      "text/plain": [
       "                                 userId  count  \\\n",
       "0  000493ff-7d6e-41a8-b96a-d1e11eb11a7b      5   \n",
       "1  0006310b-e138-4643-9580-491639213d52      5   \n",
       "2  0007d104-541e-4547-81c5-72c41a5ef087      5   \n",
       "3  0007e8f0-2cd7-4084-960f-8e24912b92e9      5   \n",
       "4  000a8195-e0c3-4b5b-b7bf-4299e228c271      5   \n",
       "\n",
       "                                    _id             name  \\\n",
       "0  000493ff-7d6e-41a8-b96a-d1e11eb11a7b    Tamara Fields   \n",
       "1  0006310b-e138-4643-9580-491639213d52   Jeffrey Sparks   \n",
       "2  0007d104-541e-4547-81c5-72c41a5ef087  Spencer Leonard   \n",
       "3  0007e8f0-2cd7-4084-960f-8e24912b92e9    Juan Sullivan   \n",
       "4  000a8195-e0c3-4b5b-b7bf-4299e228c271      Robin Wiley   \n",
       "\n",
       "                                role_id         joining_date      department  \\\n",
       "0  718675e9-24e9-451b-a6e1-586aef8d0afb  2023-10-22T19:07:19  DATA_ANALYTICS   \n",
       "1  38bd1ab2-e630-4311-9128-7438fe171719  2023-07-25T15:52:32          DEVOPS   \n",
       "2  508bfd78-6401-40ad-bc4b-dade38d40352  2022-11-19T16:38:31           ADMIN   \n",
       "3  718675e9-24e9-451b-a6e1-586aef8d0afb  2021-12-01T10:10:30      FULL_STACK   \n",
       "4  25886cc0-ab38-455b-a301-f739643e462d  2020-11-25T04:19:40      FULL_STACK   \n",
       "\n",
       "                          mail created_at updated_at    password  \\\n",
       "0    williamgarcia@example.org 2022-11-18 2023-06-24  q)QX70ZuML   \n",
       "1     maciasdaniel@example.net 2020-11-17 2022-10-12  k4!RQdaj^2   \n",
       "2  blackwelljoseph@example.com 2021-04-05 2024-04-30  *6V^tLnz+Y   \n",
       "3      roblesjason@example.org 2023-02-03 2021-05-03  @IM@Dc#+_0   \n",
       "4      ashleyberry@example.com 2020-04-09 2023-02-05  @rs$uRlsk4   \n",
       "\n",
       "                     profileImage                  role_name  \n",
       "0  https://dummyimage.com/867x425            Product Manager  \n",
       "1  https://placekitten.com/421/83  Machine Learning Engineer  \n",
       "2  https://dummyimage.com/254x741          Backend Developer  \n",
       "3  https://dummyimage.com/622x814            Product Manager  \n",
       "4  https://dummyimage.com/908x499          Software Engineer  "
      ]
     },
     "execution_count": 34,
     "metadata": {},
     "output_type": "execute_result"
    }
   ],
   "source": [
    "merged_df.head()"
   ]
  },
  {
   "cell_type": "code",
   "execution_count": 35,
   "metadata": {},
   "outputs": [
    {
     "data": {
      "text/plain": [
       "userId          0\n",
       "count           0\n",
       "_id             0\n",
       "name            0\n",
       "role_id         0\n",
       "joining_date    0\n",
       "department      0\n",
       "mail            0\n",
       "created_at      0\n",
       "updated_at      0\n",
       "password        0\n",
       "profileImage    0\n",
       "role_name       0\n",
       "dtype: int64"
      ]
     },
     "execution_count": 35,
     "metadata": {},
     "output_type": "execute_result"
    }
   ],
   "source": [
    "merged_df.isna().sum()"
   ]
  },
  {
   "cell_type": "code",
   "execution_count": 36,
   "metadata": {},
   "outputs": [],
   "source": [
    "df=merged_df"
   ]
  },
  {
   "cell_type": "code",
   "execution_count": 37,
   "metadata": {},
   "outputs": [
    {
     "data": {
      "text/html": [
       "<div>\n",
       "<style scoped>\n",
       "    .dataframe tbody tr th:only-of-type {\n",
       "        vertical-align: middle;\n",
       "    }\n",
       "\n",
       "    .dataframe tbody tr th {\n",
       "        vertical-align: top;\n",
       "    }\n",
       "\n",
       "    .dataframe thead th {\n",
       "        text-align: right;\n",
       "    }\n",
       "</style>\n",
       "<table border=\"1\" class=\"dataframe\">\n",
       "  <thead>\n",
       "    <tr style=\"text-align: right;\">\n",
       "      <th></th>\n",
       "      <th>userId</th>\n",
       "      <th>total_duration</th>\n",
       "    </tr>\n",
       "  </thead>\n",
       "  <tbody>\n",
       "    <tr>\n",
       "      <th>0</th>\n",
       "      <td>000493ff-7d6e-41a8-b96a-d1e11eb11a7b</td>\n",
       "      <td>198 days</td>\n",
       "    </tr>\n",
       "    <tr>\n",
       "      <th>1</th>\n",
       "      <td>0006310b-e138-4643-9580-491639213d52</td>\n",
       "      <td>1405 days</td>\n",
       "    </tr>\n",
       "    <tr>\n",
       "      <th>2</th>\n",
       "      <td>0007d104-541e-4547-81c5-72c41a5ef087</td>\n",
       "      <td>614 days</td>\n",
       "    </tr>\n",
       "    <tr>\n",
       "      <th>3</th>\n",
       "      <td>0007e8f0-2cd7-4084-960f-8e24912b92e9</td>\n",
       "      <td>1428 days</td>\n",
       "    </tr>\n",
       "    <tr>\n",
       "      <th>4</th>\n",
       "      <td>000a8195-e0c3-4b5b-b7bf-4299e228c271</td>\n",
       "      <td>1288 days</td>\n",
       "    </tr>\n",
       "  </tbody>\n",
       "</table>\n",
       "</div>"
      ],
      "text/plain": [
       "                                 userId total_duration\n",
       "0  000493ff-7d6e-41a8-b96a-d1e11eb11a7b       198 days\n",
       "1  0006310b-e138-4643-9580-491639213d52      1405 days\n",
       "2  0007d104-541e-4547-81c5-72c41a5ef087       614 days\n",
       "3  0007e8f0-2cd7-4084-960f-8e24912b92e9      1428 days\n",
       "4  000a8195-e0c3-4b5b-b7bf-4299e228c271      1288 days"
      ]
     },
     "execution_count": 37,
     "metadata": {},
     "output_type": "execute_result"
    }
   ],
   "source": [
    "grouped_df = user_cert_df.groupby('userId')['duration'].sum().reset_index(name='total_duration')\n",
    "grouped_df.head()"
   ]
  },
  {
   "cell_type": "code",
   "execution_count": 38,
   "metadata": {},
   "outputs": [
    {
     "data": {
      "text/plain": [
       "(30000, 15)"
      ]
     },
     "execution_count": 38,
     "metadata": {},
     "output_type": "execute_result"
    }
   ],
   "source": [
    "merged_df = grouped_df.merge(df, left_on='userId', right_on='_id', how='inner')\n",
    "merged_df.shape"
   ]
  },
  {
   "cell_type": "code",
   "execution_count": 39,
   "metadata": {},
   "outputs": [
    {
     "data": {
      "text/plain": [
       "userId_x          0\n",
       "total_duration    0\n",
       "userId_y          0\n",
       "count             0\n",
       "_id               0\n",
       "name              0\n",
       "role_id           0\n",
       "joining_date      0\n",
       "department        0\n",
       "mail              0\n",
       "created_at        0\n",
       "updated_at        0\n",
       "password          0\n",
       "profileImage      0\n",
       "role_name         0\n",
       "dtype: int64"
      ]
     },
     "execution_count": 39,
     "metadata": {},
     "output_type": "execute_result"
    }
   ],
   "source": [
    "merged_df.isnull().sum()"
   ]
  },
  {
   "cell_type": "code",
   "execution_count": 40,
   "metadata": {},
   "outputs": [],
   "source": [
    "merged_df.rename({\"userId_x\":\"userId\"},axis=1,inplace=True)"
   ]
  },
  {
   "cell_type": "code",
   "execution_count": 41,
   "metadata": {},
   "outputs": [],
   "source": [
    "# merged_df.drop('total_duration_y', axis=1, inplace=True)\n",
    "merged_df.drop('userId_y', axis=1, inplace=True)"
   ]
  },
  {
   "cell_type": "code",
   "execution_count": 42,
   "metadata": {},
   "outputs": [
    {
     "data": {
      "text/plain": [
       "userId            0\n",
       "total_duration    0\n",
       "count             0\n",
       "_id               0\n",
       "name              0\n",
       "role_id           0\n",
       "joining_date      0\n",
       "department        0\n",
       "mail              0\n",
       "created_at        0\n",
       "updated_at        0\n",
       "password          0\n",
       "profileImage      0\n",
       "role_name         0\n",
       "dtype: int64"
      ]
     },
     "execution_count": 42,
     "metadata": {},
     "output_type": "execute_result"
    }
   ],
   "source": [
    "merged_df.isna().sum()"
   ]
  },
  {
   "cell_type": "code",
   "execution_count": 43,
   "metadata": {},
   "outputs": [
    {
     "data": {
      "text/html": [
       "<div>\n",
       "<style scoped>\n",
       "    .dataframe tbody tr th:only-of-type {\n",
       "        vertical-align: middle;\n",
       "    }\n",
       "\n",
       "    .dataframe tbody tr th {\n",
       "        vertical-align: top;\n",
       "    }\n",
       "\n",
       "    .dataframe thead th {\n",
       "        text-align: right;\n",
       "    }\n",
       "</style>\n",
       "<table border=\"1\" class=\"dataframe\">\n",
       "  <thead>\n",
       "    <tr style=\"text-align: right;\">\n",
       "      <th></th>\n",
       "      <th>userId</th>\n",
       "      <th>total_duration</th>\n",
       "      <th>count</th>\n",
       "      <th>_id</th>\n",
       "      <th>name</th>\n",
       "      <th>role_id</th>\n",
       "      <th>joining_date</th>\n",
       "      <th>department</th>\n",
       "      <th>mail</th>\n",
       "      <th>created_at</th>\n",
       "      <th>updated_at</th>\n",
       "      <th>password</th>\n",
       "      <th>profileImage</th>\n",
       "      <th>role_name</th>\n",
       "    </tr>\n",
       "  </thead>\n",
       "  <tbody>\n",
       "    <tr>\n",
       "      <th>0</th>\n",
       "      <td>000493ff-7d6e-41a8-b96a-d1e11eb11a7b</td>\n",
       "      <td>198 days</td>\n",
       "      <td>5</td>\n",
       "      <td>000493ff-7d6e-41a8-b96a-d1e11eb11a7b</td>\n",
       "      <td>Tamara Fields</td>\n",
       "      <td>718675e9-24e9-451b-a6e1-586aef8d0afb</td>\n",
       "      <td>2023-10-22T19:07:19</td>\n",
       "      <td>DATA_ANALYTICS</td>\n",
       "      <td>williamgarcia@example.org</td>\n",
       "      <td>2022-11-18</td>\n",
       "      <td>2023-06-24</td>\n",
       "      <td>q)QX70ZuML</td>\n",
       "      <td>https://dummyimage.com/867x425</td>\n",
       "      <td>Product Manager</td>\n",
       "    </tr>\n",
       "    <tr>\n",
       "      <th>1</th>\n",
       "      <td>0006310b-e138-4643-9580-491639213d52</td>\n",
       "      <td>1405 days</td>\n",
       "      <td>5</td>\n",
       "      <td>0006310b-e138-4643-9580-491639213d52</td>\n",
       "      <td>Jeffrey Sparks</td>\n",
       "      <td>38bd1ab2-e630-4311-9128-7438fe171719</td>\n",
       "      <td>2023-07-25T15:52:32</td>\n",
       "      <td>DEVOPS</td>\n",
       "      <td>maciasdaniel@example.net</td>\n",
       "      <td>2020-11-17</td>\n",
       "      <td>2022-10-12</td>\n",
       "      <td>k4!RQdaj^2</td>\n",
       "      <td>https://placekitten.com/421/83</td>\n",
       "      <td>Machine Learning Engineer</td>\n",
       "    </tr>\n",
       "    <tr>\n",
       "      <th>2</th>\n",
       "      <td>0007d104-541e-4547-81c5-72c41a5ef087</td>\n",
       "      <td>614 days</td>\n",
       "      <td>5</td>\n",
       "      <td>0007d104-541e-4547-81c5-72c41a5ef087</td>\n",
       "      <td>Spencer Leonard</td>\n",
       "      <td>508bfd78-6401-40ad-bc4b-dade38d40352</td>\n",
       "      <td>2022-11-19T16:38:31</td>\n",
       "      <td>ADMIN</td>\n",
       "      <td>blackwelljoseph@example.com</td>\n",
       "      <td>2021-04-05</td>\n",
       "      <td>2024-04-30</td>\n",
       "      <td>*6V^tLnz+Y</td>\n",
       "      <td>https://dummyimage.com/254x741</td>\n",
       "      <td>Backend Developer</td>\n",
       "    </tr>\n",
       "    <tr>\n",
       "      <th>3</th>\n",
       "      <td>0007e8f0-2cd7-4084-960f-8e24912b92e9</td>\n",
       "      <td>1428 days</td>\n",
       "      <td>5</td>\n",
       "      <td>0007e8f0-2cd7-4084-960f-8e24912b92e9</td>\n",
       "      <td>Juan Sullivan</td>\n",
       "      <td>718675e9-24e9-451b-a6e1-586aef8d0afb</td>\n",
       "      <td>2021-12-01T10:10:30</td>\n",
       "      <td>FULL_STACK</td>\n",
       "      <td>roblesjason@example.org</td>\n",
       "      <td>2023-02-03</td>\n",
       "      <td>2021-05-03</td>\n",
       "      <td>@IM@Dc#+_0</td>\n",
       "      <td>https://dummyimage.com/622x814</td>\n",
       "      <td>Product Manager</td>\n",
       "    </tr>\n",
       "    <tr>\n",
       "      <th>4</th>\n",
       "      <td>000a8195-e0c3-4b5b-b7bf-4299e228c271</td>\n",
       "      <td>1288 days</td>\n",
       "      <td>5</td>\n",
       "      <td>000a8195-e0c3-4b5b-b7bf-4299e228c271</td>\n",
       "      <td>Robin Wiley</td>\n",
       "      <td>25886cc0-ab38-455b-a301-f739643e462d</td>\n",
       "      <td>2020-11-25T04:19:40</td>\n",
       "      <td>FULL_STACK</td>\n",
       "      <td>ashleyberry@example.com</td>\n",
       "      <td>2020-04-09</td>\n",
       "      <td>2023-02-05</td>\n",
       "      <td>@rs$uRlsk4</td>\n",
       "      <td>https://dummyimage.com/908x499</td>\n",
       "      <td>Software Engineer</td>\n",
       "    </tr>\n",
       "  </tbody>\n",
       "</table>\n",
       "</div>"
      ],
      "text/plain": [
       "                                 userId total_duration  count  \\\n",
       "0  000493ff-7d6e-41a8-b96a-d1e11eb11a7b       198 days      5   \n",
       "1  0006310b-e138-4643-9580-491639213d52      1405 days      5   \n",
       "2  0007d104-541e-4547-81c5-72c41a5ef087       614 days      5   \n",
       "3  0007e8f0-2cd7-4084-960f-8e24912b92e9      1428 days      5   \n",
       "4  000a8195-e0c3-4b5b-b7bf-4299e228c271      1288 days      5   \n",
       "\n",
       "                                    _id             name  \\\n",
       "0  000493ff-7d6e-41a8-b96a-d1e11eb11a7b    Tamara Fields   \n",
       "1  0006310b-e138-4643-9580-491639213d52   Jeffrey Sparks   \n",
       "2  0007d104-541e-4547-81c5-72c41a5ef087  Spencer Leonard   \n",
       "3  0007e8f0-2cd7-4084-960f-8e24912b92e9    Juan Sullivan   \n",
       "4  000a8195-e0c3-4b5b-b7bf-4299e228c271      Robin Wiley   \n",
       "\n",
       "                                role_id         joining_date      department  \\\n",
       "0  718675e9-24e9-451b-a6e1-586aef8d0afb  2023-10-22T19:07:19  DATA_ANALYTICS   \n",
       "1  38bd1ab2-e630-4311-9128-7438fe171719  2023-07-25T15:52:32          DEVOPS   \n",
       "2  508bfd78-6401-40ad-bc4b-dade38d40352  2022-11-19T16:38:31           ADMIN   \n",
       "3  718675e9-24e9-451b-a6e1-586aef8d0afb  2021-12-01T10:10:30      FULL_STACK   \n",
       "4  25886cc0-ab38-455b-a301-f739643e462d  2020-11-25T04:19:40      FULL_STACK   \n",
       "\n",
       "                          mail created_at updated_at    password  \\\n",
       "0    williamgarcia@example.org 2022-11-18 2023-06-24  q)QX70ZuML   \n",
       "1     maciasdaniel@example.net 2020-11-17 2022-10-12  k4!RQdaj^2   \n",
       "2  blackwelljoseph@example.com 2021-04-05 2024-04-30  *6V^tLnz+Y   \n",
       "3      roblesjason@example.org 2023-02-03 2021-05-03  @IM@Dc#+_0   \n",
       "4      ashleyberry@example.com 2020-04-09 2023-02-05  @rs$uRlsk4   \n",
       "\n",
       "                     profileImage                  role_name  \n",
       "0  https://dummyimage.com/867x425            Product Manager  \n",
       "1  https://placekitten.com/421/83  Machine Learning Engineer  \n",
       "2  https://dummyimage.com/254x741          Backend Developer  \n",
       "3  https://dummyimage.com/622x814            Product Manager  \n",
       "4  https://dummyimage.com/908x499          Software Engineer  "
      ]
     },
     "execution_count": 43,
     "metadata": {},
     "output_type": "execute_result"
    }
   ],
   "source": [
    "df=merged_df\n",
    "df.head()"
   ]
  },
  {
   "cell_type": "code",
   "execution_count": 44,
   "metadata": {},
   "outputs": [
    {
     "data": {
      "text/plain": [
       "userId            0\n",
       "total_duration    0\n",
       "count             0\n",
       "_id               0\n",
       "name              0\n",
       "role_id           0\n",
       "joining_date      0\n",
       "department        0\n",
       "mail              0\n",
       "created_at        0\n",
       "updated_at        0\n",
       "password          0\n",
       "profileImage      0\n",
       "role_name         0\n",
       "dtype: int64"
      ]
     },
     "execution_count": 44,
     "metadata": {},
     "output_type": "execute_result"
    }
   ],
   "source": [
    "df.isnull().sum()"
   ]
  },
  {
   "cell_type": "code",
   "execution_count": 45,
   "metadata": {},
   "outputs": [],
   "source": [
    "df.to_csv('C:/Users/RithikHarendarMahesh/Desktop/fp/DataEngineering/prep/prep_user.csv')"
   ]
  },
  {
   "cell_type": "code",
   "execution_count": null,
   "metadata": {},
   "outputs": [],
   "source": []
  }
 ],
 "metadata": {
  "kernelspec": {
   "display_name": "base",
   "language": "python",
   "name": "python3"
  },
  "language_info": {
   "codemirror_mode": {
    "name": "ipython",
    "version": 3
   },
   "file_extension": ".py",
   "mimetype": "text/x-python",
   "name": "python",
   "nbconvert_exporter": "python",
   "pygments_lexer": "ipython3",
   "version": "3.12.4"
  }
 },
 "nbformat": 4,
 "nbformat_minor": 2
}
