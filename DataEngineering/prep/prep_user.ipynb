{
 "cells": [
  {
   "cell_type": "code",
   "execution_count": 230,
   "metadata": {},
   "outputs": [],
   "source": [
    "import pandas as pd"
   ]
  },
  {
   "cell_type": "code",
   "execution_count": 231,
   "metadata": {},
   "outputs": [],
   "source": [
    "user_csv=pd.read_csv('C:/Users/RithikHarendarMahesh/Desktop/fp/DataEngineering/raw/raw_users.csv')"
   ]
  },
  {
   "cell_type": "code",
   "execution_count": 232,
   "metadata": {},
   "outputs": [],
   "source": [
    "df=pd.DataFrame(data=user_csv)"
   ]
  },
  {
   "cell_type": "code",
   "execution_count": 233,
   "metadata": {},
   "outputs": [
    {
     "data": {
      "text/plain": [
       "_id             0\n",
       "name            0\n",
       "role_id         0\n",
       "joining_date    0\n",
       "department      0\n",
       "mail            0\n",
       "created_at      0\n",
       "updated_at      0\n",
       "password        0\n",
       "profileImage    0\n",
       "dtype: int64"
      ]
     },
     "execution_count": 233,
     "metadata": {},
     "output_type": "execute_result"
    }
   ],
   "source": [
    "df.isnull().sum()"
   ]
  },
  {
   "cell_type": "code",
   "execution_count": 234,
   "metadata": {},
   "outputs": [],
   "source": [
    "df.dropna(inplace=True)"
   ]
  },
  {
   "cell_type": "code",
   "execution_count": 235,
   "metadata": {},
   "outputs": [],
   "source": [
    "df.drop_duplicates(inplace=True)"
   ]
  },
  {
   "cell_type": "code",
   "execution_count": 236,
   "metadata": {},
   "outputs": [
    {
     "data": {
      "text/plain": [
       "_id             object\n",
       "name            object\n",
       "role_id         object\n",
       "joining_date    object\n",
       "department      object\n",
       "mail            object\n",
       "created_at      object\n",
       "updated_at      object\n",
       "password        object\n",
       "profileImage    object\n",
       "dtype: object"
      ]
     },
     "execution_count": 236,
     "metadata": {},
     "output_type": "execute_result"
    }
   ],
   "source": [
    "df.dtypes"
   ]
  },
  {
   "cell_type": "code",
   "execution_count": 237,
   "metadata": {},
   "outputs": [
    {
     "name": "stdout",
     "output_type": "stream",
     "text": [
      "Original dtypes:\n",
      "_id             object\n",
      "name            object\n",
      "role_id         object\n",
      "joining_date    object\n",
      "department      object\n",
      "mail            object\n",
      "created_at      object\n",
      "updated_at      object\n",
      "password        object\n",
      "profileImage    object\n",
      "dtype: object\n",
      "\n",
      "Converted dtypes:\n",
      "_id             string[python]\n",
      "name            string[python]\n",
      "role_id         string[python]\n",
      "joining_date    string[python]\n",
      "department      string[python]\n",
      "mail            string[python]\n",
      "created_at      string[python]\n",
      "updated_at      string[python]\n",
      "password        string[python]\n",
      "profileImage    string[python]\n",
      "dtype: object\n"
     ]
    }
   ],
   "source": [
    "print(\"Original dtypes:\")\n",
    "print(df.dtypes)\n",
    "\n",
    "# Convert dtypes\n",
    "df=df.convert_dtypes()\n",
    "\n",
    "# Check new dtypes\n",
    "print(\"\\nConverted dtypes:\")\n",
    "print(df.convert_dtypes().dtypes)"
   ]
  },
  {
   "cell_type": "code",
   "execution_count": 238,
   "metadata": {},
   "outputs": [],
   "source": [
    "df['created_at'] = [\n",
    "    i.split(\" \")[0] if 'T' not in i else i.split(\"T\")[0] for i in df['created_at']\n",
    "]"
   ]
  },
  {
   "cell_type": "code",
   "execution_count": 239,
   "metadata": {},
   "outputs": [],
   "source": [
    "df['created_at']=pd.to_datetime(df['created_at'])"
   ]
  },
  {
   "cell_type": "code",
   "execution_count": 240,
   "metadata": {},
   "outputs": [],
   "source": [
    "df['updated_at'] = [\n",
    "    i.split(\" \")[0] if 'T' not in i else i.split(\"T\")[0] for i in df['updated_at']\n",
    "]"
   ]
  },
  {
   "cell_type": "code",
   "execution_count": 241,
   "metadata": {},
   "outputs": [],
   "source": [
    "df['updated_at']=pd.to_datetime(df['updated_at'])"
   ]
  },
  {
   "cell_type": "code",
   "execution_count": 242,
   "metadata": {},
   "outputs": [
    {
     "data": {
      "text/plain": [
       "_id             string[python]\n",
       "name            string[python]\n",
       "role_id         string[python]\n",
       "joining_date    string[python]\n",
       "department      string[python]\n",
       "mail            string[python]\n",
       "created_at      datetime64[ns]\n",
       "updated_at      datetime64[ns]\n",
       "password        string[python]\n",
       "profileImage    string[python]\n",
       "dtype: object"
      ]
     },
     "execution_count": 242,
     "metadata": {},
     "output_type": "execute_result"
    }
   ],
   "source": [
    "df.dtypes"
   ]
  },
  {
   "cell_type": "code",
   "execution_count": 243,
   "metadata": {},
   "outputs": [
    {
     "data": {
      "text/plain": [
       "['ADMIN', 'DEVOPS', 'DEVOPS', 'DATA_ANALYTICS', 'FULL_STACK', ..., 'OTHER', 'OTHER', 'OTHER', 'DATA_ANALYTICS', 'OTHER']\n",
       "Length: 30013\n",
       "Categories (6, string): [ADMIN, DATA_ANALYTICS, DATA_ENGINEERING, DEVOPS, FULL_STACK, OTHER]"
      ]
     },
     "execution_count": 243,
     "metadata": {},
     "output_type": "execute_result"
    }
   ],
   "source": [
    "pd.Categorical(df['department'])"
   ]
  },
  {
   "cell_type": "code",
   "execution_count": 244,
   "metadata": {},
   "outputs": [
    {
     "data": {
      "text/plain": [
       "['66fe345174c62caaf765f1a0', '66fd540a30450c2a76ac020f', '66fd595030450c2a76ac0219', '66fd595030450c2a76ac0219', '66fd540a30450c2a76ac020f', ..., '242e1513-5ad2-4189-afaf-669d6753f57b', 'c2110ca2-adba-4332-bf04-9d121d224cc1', 'c2110ca2-adba-4332-bf04-9d121d224cc1', '335eff01-3ed3-44f5-ada7-4d2344652b5f', '76fba540-2817-4293-b9ae-dd2aa77acbc1']\n",
       "Length: 30013\n",
       "Categories (25, string): [079a7da7-7b16-44e6-bc94-9e7aa6e221d5, 100ac7ef-7112-488f-adf2-f9c1608d49b2, 19adcd6a-d040-43f5-8df4-f2776037d25e, 22cb7f0f-28bb-454c-9f48-73c97e0efe5e, ..., 9a857edb-7685-453d-bc33-ed5032191e9c, a0683cc9-251b-4b28-be06-ecacc5359757, c2110ca2-adba-4332-bf04-9d121d224cc1, f089dd73-29a0-413a-b6f7-dba5ed504c88]"
      ]
     },
     "execution_count": 244,
     "metadata": {},
     "output_type": "execute_result"
    }
   ],
   "source": [
    "pd.Categorical(df['role_id'])"
   ]
  },
  {
   "cell_type": "code",
   "execution_count": 245,
   "metadata": {},
   "outputs": [
    {
     "data": {
      "text/html": [
       "<div>\n",
       "<style scoped>\n",
       "    .dataframe tbody tr th:only-of-type {\n",
       "        vertical-align: middle;\n",
       "    }\n",
       "\n",
       "    .dataframe tbody tr th {\n",
       "        vertical-align: top;\n",
       "    }\n",
       "\n",
       "    .dataframe thead th {\n",
       "        text-align: right;\n",
       "    }\n",
       "</style>\n",
       "<table border=\"1\" class=\"dataframe\">\n",
       "  <thead>\n",
       "    <tr style=\"text-align: right;\">\n",
       "      <th></th>\n",
       "      <th>_id</th>\n",
       "      <th>name</th>\n",
       "      <th>role_id</th>\n",
       "      <th>joining_date</th>\n",
       "      <th>department</th>\n",
       "      <th>mail</th>\n",
       "      <th>created_at</th>\n",
       "      <th>updated_at</th>\n",
       "      <th>password</th>\n",
       "      <th>profileImage</th>\n",
       "      <th>role_name</th>\n",
       "    </tr>\n",
       "  </thead>\n",
       "  <tbody>\n",
       "    <tr>\n",
       "      <th>0</th>\n",
       "      <td>66fad1b6c79fafa475699b3a</td>\n",
       "      <td>Alice</td>\n",
       "      <td>66fe345174c62caaf765f1a0</td>\n",
       "      <td>2023-01-10</td>\n",
       "      <td>ADMIN</td>\n",
       "      <td>admin@example.com</td>\n",
       "      <td>2024-09-30</td>\n",
       "      <td>2024-09-30</td>\n",
       "      <td>Abcd@1234</td>\n",
       "      <td>data:image/svg+xml;base64,PHN2ZyB4bWxucz0iaHR0...</td>\n",
       "      <td>ADMIN</td>\n",
       "    </tr>\n",
       "    <tr>\n",
       "      <th>1</th>\n",
       "      <td>66fe81770b5205e064c2aed9</td>\n",
       "      <td>emp5</td>\n",
       "      <td>66fd540a30450c2a76ac020f</td>\n",
       "      <td>15-01-2023</td>\n",
       "      <td>DEVOPS</td>\n",
       "      <td>emp5@gmail.com</td>\n",
       "      <td>2024-10-03</td>\n",
       "      <td>2024-10-07</td>\n",
       "      <td>Abcd@1234</td>\n",
       "      <td>data:image/jpeg;base64,/9j/4AAQSkZJRgABAgEASAB...</td>\n",
       "      <td>Senior Software Engineer</td>\n",
       "    </tr>\n",
       "    <tr>\n",
       "      <th>2</th>\n",
       "      <td>66fe81770b5205e064c2aedd</td>\n",
       "      <td>emp9</td>\n",
       "      <td>66fd595030450c2a76ac0219</td>\n",
       "      <td>19-01-2023</td>\n",
       "      <td>DEVOPS</td>\n",
       "      <td>emp9@gmail.com</td>\n",
       "      <td>2024-10-03</td>\n",
       "      <td>2024-10-07</td>\n",
       "      <td>Abcd@1234</td>\n",
       "      <td>data:image/jpeg;base64,/9j/4AAQSkZJRgABAQAAAQA...</td>\n",
       "      <td>Software Engineer</td>\n",
       "    </tr>\n",
       "    <tr>\n",
       "      <th>3</th>\n",
       "      <td>66fe81770b5205e064c2aedb</td>\n",
       "      <td>emp7</td>\n",
       "      <td>66fd595030450c2a76ac0219</td>\n",
       "      <td>17-01-2023</td>\n",
       "      <td>DATA_ANALYTICS</td>\n",
       "      <td>emp7@gmail.com</td>\n",
       "      <td>2024-10-03</td>\n",
       "      <td>2024-10-07</td>\n",
       "      <td>Abcd@1234</td>\n",
       "      <td>data:image/jpeg;base64,/9j/4AAQSkZJRgABAgAAZAB...</td>\n",
       "      <td>Software Engineer</td>\n",
       "    </tr>\n",
       "    <tr>\n",
       "      <th>4</th>\n",
       "      <td>66fe81770b5205e064c2aed5</td>\n",
       "      <td>emp1</td>\n",
       "      <td>66fd540a30450c2a76ac020f</td>\n",
       "      <td>11-01-2023</td>\n",
       "      <td>FULL_STACK</td>\n",
       "      <td>emp1@gmail.com</td>\n",
       "      <td>2024-10-03</td>\n",
       "      <td>2024-10-07</td>\n",
       "      <td>Abcd@1234</td>\n",
       "      <td>data:image/jpeg;base64,/9j/4AAQSkZJRgABAgEASAB...</td>\n",
       "      <td>Senior Software Engineer</td>\n",
       "    </tr>\n",
       "  </tbody>\n",
       "</table>\n",
       "</div>"
      ],
      "text/plain": [
       "                        _id   name                   role_id joining_date  \\\n",
       "0  66fad1b6c79fafa475699b3a  Alice  66fe345174c62caaf765f1a0   2023-01-10   \n",
       "1  66fe81770b5205e064c2aed9   emp5  66fd540a30450c2a76ac020f   15-01-2023   \n",
       "2  66fe81770b5205e064c2aedd   emp9  66fd595030450c2a76ac0219   19-01-2023   \n",
       "3  66fe81770b5205e064c2aedb   emp7  66fd595030450c2a76ac0219   17-01-2023   \n",
       "4  66fe81770b5205e064c2aed5   emp1  66fd540a30450c2a76ac020f   11-01-2023   \n",
       "\n",
       "       department               mail created_at updated_at   password  \\\n",
       "0           ADMIN  admin@example.com 2024-09-30 2024-09-30  Abcd@1234   \n",
       "1          DEVOPS     emp5@gmail.com 2024-10-03 2024-10-07  Abcd@1234   \n",
       "2          DEVOPS     emp9@gmail.com 2024-10-03 2024-10-07  Abcd@1234   \n",
       "3  DATA_ANALYTICS     emp7@gmail.com 2024-10-03 2024-10-07  Abcd@1234   \n",
       "4      FULL_STACK     emp1@gmail.com 2024-10-03 2024-10-07  Abcd@1234   \n",
       "\n",
       "                                        profileImage                 role_name  \n",
       "0  data:image/svg+xml;base64,PHN2ZyB4bWxucz0iaHR0...                     ADMIN  \n",
       "1  data:image/jpeg;base64,/9j/4AAQSkZJRgABAgEASAB...  Senior Software Engineer  \n",
       "2  data:image/jpeg;base64,/9j/4AAQSkZJRgABAQAAAQA...         Software Engineer  \n",
       "3  data:image/jpeg;base64,/9j/4AAQSkZJRgABAgAAZAB...         Software Engineer  \n",
       "4  data:image/jpeg;base64,/9j/4AAQSkZJRgABAgEASAB...  Senior Software Engineer  "
      ]
     },
     "execution_count": 245,
     "metadata": {},
     "output_type": "execute_result"
    }
   ],
   "source": [
    "roles_df = pd.read_csv('C:/Users/RithikHarendarMahesh/Desktop/fp/DataEngineering/raw/raw_roles.csv')\n",
    "role_mapping = dict(zip(roles_df['_id'], roles_df['name']))\n",
    "df['role_name'] = df['role_id'].map(role_mapping)\n",
    "df.head()"
   ]
  },
  {
   "cell_type": "code",
   "execution_count": 246,
   "metadata": {},
   "outputs": [
    {
     "name": "stdout",
     "output_type": "stream",
     "text": [
      "Original dtypes:\n",
      "_id             string[python]\n",
      "name            string[python]\n",
      "role_id         string[python]\n",
      "joining_date    string[python]\n",
      "department      string[python]\n",
      "mail            string[python]\n",
      "created_at      datetime64[ns]\n",
      "updated_at      datetime64[ns]\n",
      "password        string[python]\n",
      "profileImage    string[python]\n",
      "role_name               object\n",
      "dtype: object\n",
      "\n",
      "Converted dtypes:\n",
      "_id             string[python]\n",
      "name            string[python]\n",
      "role_id         string[python]\n",
      "joining_date    string[python]\n",
      "department      string[python]\n",
      "mail            string[python]\n",
      "created_at      datetime64[ns]\n",
      "updated_at      datetime64[ns]\n",
      "password        string[python]\n",
      "profileImage    string[python]\n",
      "role_name       string[python]\n",
      "dtype: object\n"
     ]
    }
   ],
   "source": [
    "print(\"Original dtypes:\")\n",
    "print(df.dtypes)\n",
    "\n",
    "# Convert dtypes\n",
    "df=df.convert_dtypes()\n",
    "\n",
    "# Check new dtypes\n",
    "print(\"\\nConverted dtypes:\")\n",
    "print(df.convert_dtypes().dtypes)"
   ]
  },
  {
   "cell_type": "code",
   "execution_count": 247,
   "metadata": {},
   "outputs": [],
   "source": [
    "user_cert_csv=pd.read_csv('C:/Users/RithikHarendarMahesh/Desktop/fp/DataEngineering/raw/raw_user_certifications.csv')"
   ]
  },
  {
   "cell_type": "code",
   "execution_count": 248,
   "metadata": {},
   "outputs": [],
   "source": [
    "user_cert_df=pd.DataFrame(data=user_cert_csv)"
   ]
  },
  {
   "cell_type": "code",
   "execution_count": 249,
   "metadata": {},
   "outputs": [
    {
     "data": {
      "text/html": [
       "<div>\n",
       "<style scoped>\n",
       "    .dataframe tbody tr th:only-of-type {\n",
       "        vertical-align: middle;\n",
       "    }\n",
       "\n",
       "    .dataframe tbody tr th {\n",
       "        vertical-align: top;\n",
       "    }\n",
       "\n",
       "    .dataframe thead th {\n",
       "        text-align: right;\n",
       "    }\n",
       "</style>\n",
       "<table border=\"1\" class=\"dataframe\">\n",
       "  <thead>\n",
       "    <tr style=\"text-align: right;\">\n",
       "      <th></th>\n",
       "      <th>_id</th>\n",
       "      <th>userId</th>\n",
       "      <th>certificationId</th>\n",
       "      <th>certificationName</th>\n",
       "      <th>started_at</th>\n",
       "      <th>completed_at</th>\n",
       "      <th>competency</th>\n",
       "      <th>isVerified</th>\n",
       "      <th>imageData</th>\n",
       "    </tr>\n",
       "  </thead>\n",
       "  <tbody>\n",
       "    <tr>\n",
       "      <th>0</th>\n",
       "      <td>6702bca3c96bbf13f5ff2903</td>\n",
       "      <td>67013cc9a25cfa0d89dbb105</td>\n",
       "      <td>66febe5eca0ebab04690f2ac</td>\n",
       "      <td>ReactJS</td>\n",
       "      <td>2024-10-05 18:30:00</td>\n",
       "      <td>2024-10-09 18:30:00</td>\n",
       "      <td>BEGINNER</td>\n",
       "      <td>True</td>\n",
       "      <td>data:image/png;base64,iVBORw0KGgoAAAANSUhEUgAA...</td>\n",
       "    </tr>\n",
       "    <tr>\n",
       "      <th>1</th>\n",
       "      <td>6702c4fb2a2f643b3baa88ab</td>\n",
       "      <td>67013cc9a25cfa0d89dbb105</td>\n",
       "      <td>66febfabca0ebab04690f2b1</td>\n",
       "      <td>ExpressJS</td>\n",
       "      <td>2024-10-06 17:07:46.009000</td>\n",
       "      <td>2024-10-09 18:30:00</td>\n",
       "      <td>BEGINNER</td>\n",
       "      <td>True</td>\n",
       "      <td>data:image/png;base64,iVBORw0KGgoAAAANSUhEUgAA...</td>\n",
       "    </tr>\n",
       "    <tr>\n",
       "      <th>2</th>\n",
       "      <td>67036548eb36bec3fb1849e7</td>\n",
       "      <td>66fe81770b5205e064c2aed5</td>\n",
       "      <td>66febe5eca0ebab04690f2ac</td>\n",
       "      <td>ReactJS</td>\n",
       "      <td>2024-10-02 18:30:00</td>\n",
       "      <td>2024-10-10 18:30:00</td>\n",
       "      <td>BEGINNER</td>\n",
       "      <td>False</td>\n",
       "      <td>data:image/png;base64,iVBORw0KGgoAAAANSUhEUgAA...</td>\n",
       "    </tr>\n",
       "    <tr>\n",
       "      <th>3</th>\n",
       "      <td>67036ccb93760f84b5e886ad</td>\n",
       "      <td>66fe81770b5205e064c2aed5</td>\n",
       "      <td>66febe5eca0ebab04690f2ac</td>\n",
       "      <td>ReactJS</td>\n",
       "      <td>2024-10-07 05:08:12.856000</td>\n",
       "      <td>2024-10-09 18:30:00</td>\n",
       "      <td>INTERMEDIATE</td>\n",
       "      <td>False</td>\n",
       "      <td>data:image/jpeg;base64,/9j/4AAQSkZJRgABAQAAAQA...</td>\n",
       "    </tr>\n",
       "    <tr>\n",
       "      <th>4</th>\n",
       "      <td>6703c24a5b1d1e7f98a9a959</td>\n",
       "      <td>66fe81770b5205e064c2aed5</td>\n",
       "      <td>6703c20b5b1d1e7f98a9a957</td>\n",
       "      <td>Web Scrapping using Python</td>\n",
       "      <td>2024-10-07 11:12:47.559000</td>\n",
       "      <td>2024-10-10 18:30:00</td>\n",
       "      <td>BEGINNER</td>\n",
       "      <td>False</td>\n",
       "      <td>data:image/jpeg;base64,/9j/4AAQSkZJRgABAQAAAQA...</td>\n",
       "    </tr>\n",
       "  </tbody>\n",
       "</table>\n",
       "</div>"
      ],
      "text/plain": [
       "                        _id                    userId  \\\n",
       "0  6702bca3c96bbf13f5ff2903  67013cc9a25cfa0d89dbb105   \n",
       "1  6702c4fb2a2f643b3baa88ab  67013cc9a25cfa0d89dbb105   \n",
       "2  67036548eb36bec3fb1849e7  66fe81770b5205e064c2aed5   \n",
       "3  67036ccb93760f84b5e886ad  66fe81770b5205e064c2aed5   \n",
       "4  6703c24a5b1d1e7f98a9a959  66fe81770b5205e064c2aed5   \n",
       "\n",
       "            certificationId           certificationName  \\\n",
       "0  66febe5eca0ebab04690f2ac                     ReactJS   \n",
       "1  66febfabca0ebab04690f2b1                   ExpressJS   \n",
       "2  66febe5eca0ebab04690f2ac                     ReactJS   \n",
       "3  66febe5eca0ebab04690f2ac                     ReactJS   \n",
       "4  6703c20b5b1d1e7f98a9a957  Web Scrapping using Python   \n",
       "\n",
       "                   started_at         completed_at    competency  isVerified  \\\n",
       "0         2024-10-05 18:30:00  2024-10-09 18:30:00      BEGINNER        True   \n",
       "1  2024-10-06 17:07:46.009000  2024-10-09 18:30:00      BEGINNER        True   \n",
       "2         2024-10-02 18:30:00  2024-10-10 18:30:00      BEGINNER       False   \n",
       "3  2024-10-07 05:08:12.856000  2024-10-09 18:30:00  INTERMEDIATE       False   \n",
       "4  2024-10-07 11:12:47.559000  2024-10-10 18:30:00      BEGINNER       False   \n",
       "\n",
       "                                           imageData  \n",
       "0  data:image/png;base64,iVBORw0KGgoAAAANSUhEUgAA...  \n",
       "1  data:image/png;base64,iVBORw0KGgoAAAANSUhEUgAA...  \n",
       "2  data:image/png;base64,iVBORw0KGgoAAAANSUhEUgAA...  \n",
       "3  data:image/jpeg;base64,/9j/4AAQSkZJRgABAQAAAQA...  \n",
       "4  data:image/jpeg;base64,/9j/4AAQSkZJRgABAQAAAQA...  "
      ]
     },
     "execution_count": 249,
     "metadata": {},
     "output_type": "execute_result"
    }
   ],
   "source": [
    "user_cert_df.head()"
   ]
  },
  {
   "cell_type": "code",
   "execution_count": 250,
   "metadata": {},
   "outputs": [],
   "source": [
    "user_cert_df['completed_at'] = [\n",
    "    i.split(\" \")[0] if 'T' not in i else i.split(\"T\")[0] for i in user_cert_df['completed_at']\n",
    "]"
   ]
  },
  {
   "cell_type": "code",
   "execution_count": null,
   "metadata": {},
   "outputs": [],
   "source": []
  },
  {
   "cell_type": "code",
   "execution_count": 251,
   "metadata": {},
   "outputs": [],
   "source": [
    "user_cert_df['started_at'] = [\n",
    "    i.split(\" \")[0] if 'T' not in i else i.split(\"T\")[0] for i in user_cert_df['started_at']\n",
    "]"
   ]
  },
  {
   "cell_type": "code",
   "execution_count": 252,
   "metadata": {},
   "outputs": [],
   "source": [
    "user_cert_df['completed_at']=pd.to_datetime(user_cert_df['completed_at'])"
   ]
  },
  {
   "cell_type": "code",
   "execution_count": 253,
   "metadata": {},
   "outputs": [],
   "source": [
    "user_cert_df['started_at']=pd.to_datetime(user_cert_df['started_at'])"
   ]
  },
  {
   "cell_type": "code",
   "execution_count": 254,
   "metadata": {},
   "outputs": [
    {
     "data": {
      "text/plain": [
       "Timedelta('4 days 00:00:00')"
      ]
     },
     "execution_count": 254,
     "metadata": {},
     "output_type": "execute_result"
    }
   ],
   "source": [
    "(user_cert_df['completed_at'][0]-user_cert_df['started_at'][0])"
   ]
  },
  {
   "cell_type": "code",
   "execution_count": 255,
   "metadata": {},
   "outputs": [],
   "source": [
    "user_cert_df['duration'] =user_cert_df['completed_at'] - user_cert_df['started_at']"
   ]
  },
  {
   "cell_type": "code",
   "execution_count": 256,
   "metadata": {},
   "outputs": [
    {
     "data": {
      "text/html": [
       "<div>\n",
       "<style scoped>\n",
       "    .dataframe tbody tr th:only-of-type {\n",
       "        vertical-align: middle;\n",
       "    }\n",
       "\n",
       "    .dataframe tbody tr th {\n",
       "        vertical-align: top;\n",
       "    }\n",
       "\n",
       "    .dataframe thead th {\n",
       "        text-align: right;\n",
       "    }\n",
       "</style>\n",
       "<table border=\"1\" class=\"dataframe\">\n",
       "  <thead>\n",
       "    <tr style=\"text-align: right;\">\n",
       "      <th></th>\n",
       "      <th>_id</th>\n",
       "      <th>userId</th>\n",
       "      <th>certificationId</th>\n",
       "      <th>certificationName</th>\n",
       "      <th>started_at</th>\n",
       "      <th>completed_at</th>\n",
       "      <th>competency</th>\n",
       "      <th>isVerified</th>\n",
       "      <th>imageData</th>\n",
       "      <th>duration</th>\n",
       "    </tr>\n",
       "  </thead>\n",
       "  <tbody>\n",
       "    <tr>\n",
       "      <th>0</th>\n",
       "      <td>6702bca3c96bbf13f5ff2903</td>\n",
       "      <td>67013cc9a25cfa0d89dbb105</td>\n",
       "      <td>66febe5eca0ebab04690f2ac</td>\n",
       "      <td>ReactJS</td>\n",
       "      <td>2024-10-05</td>\n",
       "      <td>2024-10-09</td>\n",
       "      <td>BEGINNER</td>\n",
       "      <td>True</td>\n",
       "      <td>data:image/png;base64,iVBORw0KGgoAAAANSUhEUgAA...</td>\n",
       "      <td>4 days</td>\n",
       "    </tr>\n",
       "    <tr>\n",
       "      <th>1</th>\n",
       "      <td>6702c4fb2a2f643b3baa88ab</td>\n",
       "      <td>67013cc9a25cfa0d89dbb105</td>\n",
       "      <td>66febfabca0ebab04690f2b1</td>\n",
       "      <td>ExpressJS</td>\n",
       "      <td>2024-10-06</td>\n",
       "      <td>2024-10-09</td>\n",
       "      <td>BEGINNER</td>\n",
       "      <td>True</td>\n",
       "      <td>data:image/png;base64,iVBORw0KGgoAAAANSUhEUgAA...</td>\n",
       "      <td>3 days</td>\n",
       "    </tr>\n",
       "    <tr>\n",
       "      <th>2</th>\n",
       "      <td>67036548eb36bec3fb1849e7</td>\n",
       "      <td>66fe81770b5205e064c2aed5</td>\n",
       "      <td>66febe5eca0ebab04690f2ac</td>\n",
       "      <td>ReactJS</td>\n",
       "      <td>2024-10-02</td>\n",
       "      <td>2024-10-10</td>\n",
       "      <td>BEGINNER</td>\n",
       "      <td>False</td>\n",
       "      <td>data:image/png;base64,iVBORw0KGgoAAAANSUhEUgAA...</td>\n",
       "      <td>8 days</td>\n",
       "    </tr>\n",
       "    <tr>\n",
       "      <th>3</th>\n",
       "      <td>67036ccb93760f84b5e886ad</td>\n",
       "      <td>66fe81770b5205e064c2aed5</td>\n",
       "      <td>66febe5eca0ebab04690f2ac</td>\n",
       "      <td>ReactJS</td>\n",
       "      <td>2024-10-07</td>\n",
       "      <td>2024-10-09</td>\n",
       "      <td>INTERMEDIATE</td>\n",
       "      <td>False</td>\n",
       "      <td>data:image/jpeg;base64,/9j/4AAQSkZJRgABAQAAAQA...</td>\n",
       "      <td>2 days</td>\n",
       "    </tr>\n",
       "    <tr>\n",
       "      <th>4</th>\n",
       "      <td>6703c24a5b1d1e7f98a9a959</td>\n",
       "      <td>66fe81770b5205e064c2aed5</td>\n",
       "      <td>6703c20b5b1d1e7f98a9a957</td>\n",
       "      <td>Web Scrapping using Python</td>\n",
       "      <td>2024-10-07</td>\n",
       "      <td>2024-10-10</td>\n",
       "      <td>BEGINNER</td>\n",
       "      <td>False</td>\n",
       "      <td>data:image/jpeg;base64,/9j/4AAQSkZJRgABAQAAAQA...</td>\n",
       "      <td>3 days</td>\n",
       "    </tr>\n",
       "  </tbody>\n",
       "</table>\n",
       "</div>"
      ],
      "text/plain": [
       "                        _id                    userId  \\\n",
       "0  6702bca3c96bbf13f5ff2903  67013cc9a25cfa0d89dbb105   \n",
       "1  6702c4fb2a2f643b3baa88ab  67013cc9a25cfa0d89dbb105   \n",
       "2  67036548eb36bec3fb1849e7  66fe81770b5205e064c2aed5   \n",
       "3  67036ccb93760f84b5e886ad  66fe81770b5205e064c2aed5   \n",
       "4  6703c24a5b1d1e7f98a9a959  66fe81770b5205e064c2aed5   \n",
       "\n",
       "            certificationId           certificationName started_at  \\\n",
       "0  66febe5eca0ebab04690f2ac                     ReactJS 2024-10-05   \n",
       "1  66febfabca0ebab04690f2b1                   ExpressJS 2024-10-06   \n",
       "2  66febe5eca0ebab04690f2ac                     ReactJS 2024-10-02   \n",
       "3  66febe5eca0ebab04690f2ac                     ReactJS 2024-10-07   \n",
       "4  6703c20b5b1d1e7f98a9a957  Web Scrapping using Python 2024-10-07   \n",
       "\n",
       "  completed_at    competency  isVerified  \\\n",
       "0   2024-10-09      BEGINNER        True   \n",
       "1   2024-10-09      BEGINNER        True   \n",
       "2   2024-10-10      BEGINNER       False   \n",
       "3   2024-10-09  INTERMEDIATE       False   \n",
       "4   2024-10-10      BEGINNER       False   \n",
       "\n",
       "                                           imageData duration  \n",
       "0  data:image/png;base64,iVBORw0KGgoAAAANSUhEUgAA...   4 days  \n",
       "1  data:image/png;base64,iVBORw0KGgoAAAANSUhEUgAA...   3 days  \n",
       "2  data:image/png;base64,iVBORw0KGgoAAAANSUhEUgAA...   8 days  \n",
       "3  data:image/jpeg;base64,/9j/4AAQSkZJRgABAQAAAQA...   2 days  \n",
       "4  data:image/jpeg;base64,/9j/4AAQSkZJRgABAQAAAQA...   3 days  "
      ]
     },
     "execution_count": 256,
     "metadata": {},
     "output_type": "execute_result"
    }
   ],
   "source": [
    "user_cert_df.head()"
   ]
  },
  {
   "cell_type": "code",
   "execution_count": 257,
   "metadata": {},
   "outputs": [
    {
     "data": {
      "text/html": [
       "<div>\n",
       "<style scoped>\n",
       "    .dataframe tbody tr th:only-of-type {\n",
       "        vertical-align: middle;\n",
       "    }\n",
       "\n",
       "    .dataframe tbody tr th {\n",
       "        vertical-align: top;\n",
       "    }\n",
       "\n",
       "    .dataframe thead th {\n",
       "        text-align: right;\n",
       "    }\n",
       "</style>\n",
       "<table border=\"1\" class=\"dataframe\">\n",
       "  <thead>\n",
       "    <tr style=\"text-align: right;\">\n",
       "      <th></th>\n",
       "      <th>_id</th>\n",
       "      <th>userId</th>\n",
       "      <th>certificationId</th>\n",
       "      <th>certificationName</th>\n",
       "      <th>started_at</th>\n",
       "      <th>completed_at</th>\n",
       "      <th>competency</th>\n",
       "      <th>isVerified</th>\n",
       "      <th>imageData</th>\n",
       "      <th>duration</th>\n",
       "    </tr>\n",
       "  </thead>\n",
       "  <tbody>\n",
       "  </tbody>\n",
       "</table>\n",
       "</div>"
      ],
      "text/plain": [
       "Empty DataFrame\n",
       "Columns: [_id, userId, certificationId, certificationName, started_at, completed_at, competency, isVerified, imageData, duration]\n",
       "Index: []"
      ]
     },
     "execution_count": 257,
     "metadata": {},
     "output_type": "execute_result"
    }
   ],
   "source": [
    "\n",
    "\n",
    "user_cert_df.loc[user_cert_df['duration']<pd.Timedelta('0 days')]"
   ]
  },
  {
   "cell_type": "code",
   "execution_count": 258,
   "metadata": {},
   "outputs": [
    {
     "data": {
      "text/plain": [
       "_id                  0\n",
       "userId               0\n",
       "certificationId      0\n",
       "certificationName    0\n",
       "started_at           0\n",
       "completed_at         0\n",
       "competency           0\n",
       "isVerified           0\n",
       "imageData            0\n",
       "duration             0\n",
       "dtype: int64"
      ]
     },
     "execution_count": 258,
     "metadata": {},
     "output_type": "execute_result"
    }
   ],
   "source": [
    "user_cert_df.isnull().sum()"
   ]
  },
  {
   "cell_type": "code",
   "execution_count": 259,
   "metadata": {},
   "outputs": [
    {
     "data": {
      "text/plain": [
       "(30002, 2)"
      ]
     },
     "execution_count": 259,
     "metadata": {},
     "output_type": "execute_result"
    }
   ],
   "source": [
    "grouped_df = user_cert_df.groupby(['userId']).size().reset_index(name='count')\n",
    "grouped_df.shape"
   ]
  },
  {
   "cell_type": "code",
   "execution_count": 260,
   "metadata": {},
   "outputs": [],
   "source": [
    "merged_df = grouped_df.merge(df, left_on='userId', right_on='_id', how='inner')"
   ]
  },
  {
   "cell_type": "code",
   "execution_count": 261,
   "metadata": {},
   "outputs": [
    {
     "data": {
      "text/html": [
       "<div>\n",
       "<style scoped>\n",
       "    .dataframe tbody tr th:only-of-type {\n",
       "        vertical-align: middle;\n",
       "    }\n",
       "\n",
       "    .dataframe tbody tr th {\n",
       "        vertical-align: top;\n",
       "    }\n",
       "\n",
       "    .dataframe thead th {\n",
       "        text-align: right;\n",
       "    }\n",
       "</style>\n",
       "<table border=\"1\" class=\"dataframe\">\n",
       "  <thead>\n",
       "    <tr style=\"text-align: right;\">\n",
       "      <th></th>\n",
       "      <th>userId</th>\n",
       "      <th>count</th>\n",
       "      <th>_id</th>\n",
       "      <th>name</th>\n",
       "      <th>role_id</th>\n",
       "      <th>joining_date</th>\n",
       "      <th>department</th>\n",
       "      <th>mail</th>\n",
       "      <th>created_at</th>\n",
       "      <th>updated_at</th>\n",
       "      <th>password</th>\n",
       "      <th>profileImage</th>\n",
       "      <th>role_name</th>\n",
       "    </tr>\n",
       "  </thead>\n",
       "  <tbody>\n",
       "    <tr>\n",
       "      <th>0</th>\n",
       "      <td>00001762-6384-4247-ba53-54ea1640d1c7</td>\n",
       "      <td>5</td>\n",
       "      <td>00001762-6384-4247-ba53-54ea1640d1c7</td>\n",
       "      <td>George Davis</td>\n",
       "      <td>19adcd6a-d040-43f5-8df4-f2776037d25e</td>\n",
       "      <td>2020-01-13T22:40:37</td>\n",
       "      <td>DEVOPS</td>\n",
       "      <td>kmyers@example.com</td>\n",
       "      <td>2020-05-17</td>\n",
       "      <td>2022-08-31</td>\n",
       "      <td>$$NE4RGu*3</td>\n",
       "      <td>https://picsum.photos/383/584</td>\n",
       "      <td>improve</td>\n",
       "    </tr>\n",
       "    <tr>\n",
       "      <th>1</th>\n",
       "      <td>00007389-374a-4695-aa55-e934e296c10d</td>\n",
       "      <td>5</td>\n",
       "      <td>00007389-374a-4695-aa55-e934e296c10d</td>\n",
       "      <td>Richard Wood</td>\n",
       "      <td>100ac7ef-7112-488f-adf2-f9c1608d49b2</td>\n",
       "      <td>2022-12-13T03:11:03</td>\n",
       "      <td>DEVOPS</td>\n",
       "      <td>stacyjennings@example.net</td>\n",
       "      <td>2020-05-19</td>\n",
       "      <td>2021-03-04</td>\n",
       "      <td>w2AER@Cp@v</td>\n",
       "      <td>https://dummyimage.com/258x598</td>\n",
       "      <td>century</td>\n",
       "    </tr>\n",
       "    <tr>\n",
       "      <th>2</th>\n",
       "      <td>00056dbe-77c8-4c3c-a431-ebd19236bf46</td>\n",
       "      <td>5</td>\n",
       "      <td>00056dbe-77c8-4c3c-a431-ebd19236bf46</td>\n",
       "      <td>John Johnson</td>\n",
       "      <td>9a857edb-7685-453d-bc33-ed5032191e9c</td>\n",
       "      <td>2020-03-09T11:55:40</td>\n",
       "      <td>OTHER</td>\n",
       "      <td>curtiscordova@example.com</td>\n",
       "      <td>2021-08-27</td>\n",
       "      <td>2023-01-11</td>\n",
       "      <td>Xr67Ru9j%5</td>\n",
       "      <td>https://dummyimage.com/116x586</td>\n",
       "      <td>money</td>\n",
       "    </tr>\n",
       "    <tr>\n",
       "      <th>3</th>\n",
       "      <td>000aef55-a6de-4d27-826e-fe081937fefd</td>\n",
       "      <td>5</td>\n",
       "      <td>000aef55-a6de-4d27-826e-fe081937fefd</td>\n",
       "      <td>Diana Wagner</td>\n",
       "      <td>76fba540-2817-4293-b9ae-dd2aa77acbc1</td>\n",
       "      <td>2020-07-25T05:33:12</td>\n",
       "      <td>DATA_ANALYTICS</td>\n",
       "      <td>samantha69@example.org</td>\n",
       "      <td>2024-02-27</td>\n",
       "      <td>2024-02-09</td>\n",
       "      <td>x5OCm3Qm$4</td>\n",
       "      <td>https://dummyimage.com/607x451</td>\n",
       "      <td>positive</td>\n",
       "    </tr>\n",
       "    <tr>\n",
       "      <th>4</th>\n",
       "      <td>000c3b60-2ec0-4623-8924-dc9974974acb</td>\n",
       "      <td>5</td>\n",
       "      <td>000c3b60-2ec0-4623-8924-dc9974974acb</td>\n",
       "      <td>Lauren Villegas</td>\n",
       "      <td>68d523fe-d71a-4a66-915a-950cbce914e2</td>\n",
       "      <td>2024-07-18T22:41:03</td>\n",
       "      <td>DEVOPS</td>\n",
       "      <td>corey49@example.net</td>\n",
       "      <td>2023-01-17</td>\n",
       "      <td>2023-09-12</td>\n",
       "      <td>pAH(9Rbl7+</td>\n",
       "      <td>https://dummyimage.com/113x292</td>\n",
       "      <td>talk</td>\n",
       "    </tr>\n",
       "  </tbody>\n",
       "</table>\n",
       "</div>"
      ],
      "text/plain": [
       "                                 userId  count  \\\n",
       "0  00001762-6384-4247-ba53-54ea1640d1c7      5   \n",
       "1  00007389-374a-4695-aa55-e934e296c10d      5   \n",
       "2  00056dbe-77c8-4c3c-a431-ebd19236bf46      5   \n",
       "3  000aef55-a6de-4d27-826e-fe081937fefd      5   \n",
       "4  000c3b60-2ec0-4623-8924-dc9974974acb      5   \n",
       "\n",
       "                                    _id             name  \\\n",
       "0  00001762-6384-4247-ba53-54ea1640d1c7     George Davis   \n",
       "1  00007389-374a-4695-aa55-e934e296c10d     Richard Wood   \n",
       "2  00056dbe-77c8-4c3c-a431-ebd19236bf46     John Johnson   \n",
       "3  000aef55-a6de-4d27-826e-fe081937fefd     Diana Wagner   \n",
       "4  000c3b60-2ec0-4623-8924-dc9974974acb  Lauren Villegas   \n",
       "\n",
       "                                role_id         joining_date      department  \\\n",
       "0  19adcd6a-d040-43f5-8df4-f2776037d25e  2020-01-13T22:40:37          DEVOPS   \n",
       "1  100ac7ef-7112-488f-adf2-f9c1608d49b2  2022-12-13T03:11:03          DEVOPS   \n",
       "2  9a857edb-7685-453d-bc33-ed5032191e9c  2020-03-09T11:55:40           OTHER   \n",
       "3  76fba540-2817-4293-b9ae-dd2aa77acbc1  2020-07-25T05:33:12  DATA_ANALYTICS   \n",
       "4  68d523fe-d71a-4a66-915a-950cbce914e2  2024-07-18T22:41:03          DEVOPS   \n",
       "\n",
       "                        mail created_at updated_at    password  \\\n",
       "0         kmyers@example.com 2020-05-17 2022-08-31  $$NE4RGu*3   \n",
       "1  stacyjennings@example.net 2020-05-19 2021-03-04  w2AER@Cp@v   \n",
       "2  curtiscordova@example.com 2021-08-27 2023-01-11  Xr67Ru9j%5   \n",
       "3     samantha69@example.org 2024-02-27 2024-02-09  x5OCm3Qm$4   \n",
       "4        corey49@example.net 2023-01-17 2023-09-12  pAH(9Rbl7+   \n",
       "\n",
       "                     profileImage role_name  \n",
       "0   https://picsum.photos/383/584   improve  \n",
       "1  https://dummyimage.com/258x598   century  \n",
       "2  https://dummyimage.com/116x586     money  \n",
       "3  https://dummyimage.com/607x451  positive  \n",
       "4  https://dummyimage.com/113x292      talk  "
      ]
     },
     "execution_count": 261,
     "metadata": {},
     "output_type": "execute_result"
    }
   ],
   "source": [
    "merged_df.head()"
   ]
  },
  {
   "cell_type": "code",
   "execution_count": 262,
   "metadata": {},
   "outputs": [
    {
     "data": {
      "text/plain": [
       "userId          0\n",
       "count           0\n",
       "_id             0\n",
       "name            0\n",
       "role_id         0\n",
       "joining_date    0\n",
       "department      0\n",
       "mail            0\n",
       "created_at      0\n",
       "updated_at      0\n",
       "password        0\n",
       "profileImage    0\n",
       "role_name       0\n",
       "dtype: int64"
      ]
     },
     "execution_count": 262,
     "metadata": {},
     "output_type": "execute_result"
    }
   ],
   "source": [
    "merged_df.isna().sum()"
   ]
  },
  {
   "cell_type": "code",
   "execution_count": 263,
   "metadata": {},
   "outputs": [],
   "source": [
    "df=merged_df"
   ]
  },
  {
   "cell_type": "code",
   "execution_count": 264,
   "metadata": {},
   "outputs": [
    {
     "data": {
      "text/html": [
       "<div>\n",
       "<style scoped>\n",
       "    .dataframe tbody tr th:only-of-type {\n",
       "        vertical-align: middle;\n",
       "    }\n",
       "\n",
       "    .dataframe tbody tr th {\n",
       "        vertical-align: top;\n",
       "    }\n",
       "\n",
       "    .dataframe thead th {\n",
       "        text-align: right;\n",
       "    }\n",
       "</style>\n",
       "<table border=\"1\" class=\"dataframe\">\n",
       "  <thead>\n",
       "    <tr style=\"text-align: right;\">\n",
       "      <th></th>\n",
       "      <th>userId</th>\n",
       "      <th>total_duration</th>\n",
       "    </tr>\n",
       "  </thead>\n",
       "  <tbody>\n",
       "    <tr>\n",
       "      <th>0</th>\n",
       "      <td>00001762-6384-4247-ba53-54ea1640d1c7</td>\n",
       "      <td>6730 days</td>\n",
       "    </tr>\n",
       "    <tr>\n",
       "      <th>1</th>\n",
       "      <td>00007389-374a-4695-aa55-e934e296c10d</td>\n",
       "      <td>7451 days</td>\n",
       "    </tr>\n",
       "    <tr>\n",
       "      <th>2</th>\n",
       "      <td>00056dbe-77c8-4c3c-a431-ebd19236bf46</td>\n",
       "      <td>2677 days</td>\n",
       "    </tr>\n",
       "    <tr>\n",
       "      <th>3</th>\n",
       "      <td>000aef55-a6de-4d27-826e-fe081937fefd</td>\n",
       "      <td>4958 days</td>\n",
       "    </tr>\n",
       "    <tr>\n",
       "      <th>4</th>\n",
       "      <td>000c3b60-2ec0-4623-8924-dc9974974acb</td>\n",
       "      <td>4166 days</td>\n",
       "    </tr>\n",
       "  </tbody>\n",
       "</table>\n",
       "</div>"
      ],
      "text/plain": [
       "                                 userId total_duration\n",
       "0  00001762-6384-4247-ba53-54ea1640d1c7      6730 days\n",
       "1  00007389-374a-4695-aa55-e934e296c10d      7451 days\n",
       "2  00056dbe-77c8-4c3c-a431-ebd19236bf46      2677 days\n",
       "3  000aef55-a6de-4d27-826e-fe081937fefd      4958 days\n",
       "4  000c3b60-2ec0-4623-8924-dc9974974acb      4166 days"
      ]
     },
     "execution_count": 264,
     "metadata": {},
     "output_type": "execute_result"
    }
   ],
   "source": [
    "grouped_df = user_cert_df.groupby('userId')['duration'].sum().reset_index(name='total_duration')\n",
    "grouped_df.head()"
   ]
  },
  {
   "cell_type": "code",
   "execution_count": 265,
   "metadata": {},
   "outputs": [
    {
     "data": {
      "text/plain": [
       "(30002, 15)"
      ]
     },
     "execution_count": 265,
     "metadata": {},
     "output_type": "execute_result"
    }
   ],
   "source": [
    "merged_df = grouped_df.merge(df, left_on='userId', right_on='_id', how='inner')\n",
    "merged_df.shape"
   ]
  },
  {
   "cell_type": "code",
   "execution_count": 266,
   "metadata": {},
   "outputs": [
    {
     "data": {
      "text/plain": [
       "userId_x          0\n",
       "total_duration    0\n",
       "userId_y          0\n",
       "count             0\n",
       "_id               0\n",
       "name              0\n",
       "role_id           0\n",
       "joining_date      0\n",
       "department        0\n",
       "mail              0\n",
       "created_at        0\n",
       "updated_at        0\n",
       "password          0\n",
       "profileImage      0\n",
       "role_name         0\n",
       "dtype: int64"
      ]
     },
     "execution_count": 266,
     "metadata": {},
     "output_type": "execute_result"
    }
   ],
   "source": [
    "merged_df.isnull().sum()"
   ]
  },
  {
   "cell_type": "code",
   "execution_count": 267,
   "metadata": {},
   "outputs": [
    {
     "ename": "KeyError",
     "evalue": "\"['userId'] not found in axis\"",
     "output_type": "error",
     "traceback": [
      "\u001b[1;31m---------------------------------------------------------------------------\u001b[0m",
      "\u001b[1;31mKeyError\u001b[0m                                  Traceback (most recent call last)",
      "Cell \u001b[1;32mIn[267], line 1\u001b[0m\n\u001b[1;32m----> 1\u001b[0m merged_df\u001b[38;5;241m.\u001b[39mdrop(\u001b[38;5;124m'\u001b[39m\u001b[38;5;124muserId\u001b[39m\u001b[38;5;124m'\u001b[39m,axis\u001b[38;5;241m=\u001b[39m\u001b[38;5;241m1\u001b[39m)\n",
      "File \u001b[1;32m~\\anaconda3\\Lib\\site-packages\\pandas\\core\\frame.py:5581\u001b[0m, in \u001b[0;36mDataFrame.drop\u001b[1;34m(self, labels, axis, index, columns, level, inplace, errors)\u001b[0m\n\u001b[0;32m   5433\u001b[0m \u001b[38;5;28;01mdef\u001b[39;00m \u001b[38;5;21mdrop\u001b[39m(\n\u001b[0;32m   5434\u001b[0m     \u001b[38;5;28mself\u001b[39m,\n\u001b[0;32m   5435\u001b[0m     labels: IndexLabel \u001b[38;5;241m|\u001b[39m \u001b[38;5;28;01mNone\u001b[39;00m \u001b[38;5;241m=\u001b[39m \u001b[38;5;28;01mNone\u001b[39;00m,\n\u001b[1;32m   (...)\u001b[0m\n\u001b[0;32m   5442\u001b[0m     errors: IgnoreRaise \u001b[38;5;241m=\u001b[39m \u001b[38;5;124m\"\u001b[39m\u001b[38;5;124mraise\u001b[39m\u001b[38;5;124m\"\u001b[39m,\n\u001b[0;32m   5443\u001b[0m ) \u001b[38;5;241m-\u001b[39m\u001b[38;5;241m>\u001b[39m DataFrame \u001b[38;5;241m|\u001b[39m \u001b[38;5;28;01mNone\u001b[39;00m:\n\u001b[0;32m   5444\u001b[0m \u001b[38;5;250m    \u001b[39m\u001b[38;5;124;03m\"\"\"\u001b[39;00m\n\u001b[0;32m   5445\u001b[0m \u001b[38;5;124;03m    Drop specified labels from rows or columns.\u001b[39;00m\n\u001b[0;32m   5446\u001b[0m \n\u001b[1;32m   (...)\u001b[0m\n\u001b[0;32m   5579\u001b[0m \u001b[38;5;124;03m            weight  1.0     0.8\u001b[39;00m\n\u001b[0;32m   5580\u001b[0m \u001b[38;5;124;03m    \"\"\"\u001b[39;00m\n\u001b[1;32m-> 5581\u001b[0m     \u001b[38;5;28;01mreturn\u001b[39;00m \u001b[38;5;28msuper\u001b[39m()\u001b[38;5;241m.\u001b[39mdrop(\n\u001b[0;32m   5582\u001b[0m         labels\u001b[38;5;241m=\u001b[39mlabels,\n\u001b[0;32m   5583\u001b[0m         axis\u001b[38;5;241m=\u001b[39maxis,\n\u001b[0;32m   5584\u001b[0m         index\u001b[38;5;241m=\u001b[39mindex,\n\u001b[0;32m   5585\u001b[0m         columns\u001b[38;5;241m=\u001b[39mcolumns,\n\u001b[0;32m   5586\u001b[0m         level\u001b[38;5;241m=\u001b[39mlevel,\n\u001b[0;32m   5587\u001b[0m         inplace\u001b[38;5;241m=\u001b[39minplace,\n\u001b[0;32m   5588\u001b[0m         errors\u001b[38;5;241m=\u001b[39merrors,\n\u001b[0;32m   5589\u001b[0m     )\n",
      "File \u001b[1;32m~\\anaconda3\\Lib\\site-packages\\pandas\\core\\generic.py:4788\u001b[0m, in \u001b[0;36mNDFrame.drop\u001b[1;34m(self, labels, axis, index, columns, level, inplace, errors)\u001b[0m\n\u001b[0;32m   4786\u001b[0m \u001b[38;5;28;01mfor\u001b[39;00m axis, labels \u001b[38;5;129;01min\u001b[39;00m axes\u001b[38;5;241m.\u001b[39mitems():\n\u001b[0;32m   4787\u001b[0m     \u001b[38;5;28;01mif\u001b[39;00m labels \u001b[38;5;129;01mis\u001b[39;00m \u001b[38;5;129;01mnot\u001b[39;00m \u001b[38;5;28;01mNone\u001b[39;00m:\n\u001b[1;32m-> 4788\u001b[0m         obj \u001b[38;5;241m=\u001b[39m obj\u001b[38;5;241m.\u001b[39m_drop_axis(labels, axis, level\u001b[38;5;241m=\u001b[39mlevel, errors\u001b[38;5;241m=\u001b[39merrors)\n\u001b[0;32m   4790\u001b[0m \u001b[38;5;28;01mif\u001b[39;00m inplace:\n\u001b[0;32m   4791\u001b[0m     \u001b[38;5;28mself\u001b[39m\u001b[38;5;241m.\u001b[39m_update_inplace(obj)\n",
      "File \u001b[1;32m~\\anaconda3\\Lib\\site-packages\\pandas\\core\\generic.py:4830\u001b[0m, in \u001b[0;36mNDFrame._drop_axis\u001b[1;34m(self, labels, axis, level, errors, only_slice)\u001b[0m\n\u001b[0;32m   4828\u001b[0m         new_axis \u001b[38;5;241m=\u001b[39m axis\u001b[38;5;241m.\u001b[39mdrop(labels, level\u001b[38;5;241m=\u001b[39mlevel, errors\u001b[38;5;241m=\u001b[39merrors)\n\u001b[0;32m   4829\u001b[0m     \u001b[38;5;28;01melse\u001b[39;00m:\n\u001b[1;32m-> 4830\u001b[0m         new_axis \u001b[38;5;241m=\u001b[39m axis\u001b[38;5;241m.\u001b[39mdrop(labels, errors\u001b[38;5;241m=\u001b[39merrors)\n\u001b[0;32m   4831\u001b[0m     indexer \u001b[38;5;241m=\u001b[39m axis\u001b[38;5;241m.\u001b[39mget_indexer(new_axis)\n\u001b[0;32m   4833\u001b[0m \u001b[38;5;66;03m# Case for non-unique axis\u001b[39;00m\n\u001b[0;32m   4834\u001b[0m \u001b[38;5;28;01melse\u001b[39;00m:\n",
      "File \u001b[1;32m~\\anaconda3\\Lib\\site-packages\\pandas\\core\\indexes\\base.py:7070\u001b[0m, in \u001b[0;36mIndex.drop\u001b[1;34m(self, labels, errors)\u001b[0m\n\u001b[0;32m   7068\u001b[0m \u001b[38;5;28;01mif\u001b[39;00m mask\u001b[38;5;241m.\u001b[39many():\n\u001b[0;32m   7069\u001b[0m     \u001b[38;5;28;01mif\u001b[39;00m errors \u001b[38;5;241m!=\u001b[39m \u001b[38;5;124m\"\u001b[39m\u001b[38;5;124mignore\u001b[39m\u001b[38;5;124m\"\u001b[39m:\n\u001b[1;32m-> 7070\u001b[0m         \u001b[38;5;28;01mraise\u001b[39;00m \u001b[38;5;167;01mKeyError\u001b[39;00m(\u001b[38;5;124mf\u001b[39m\u001b[38;5;124m\"\u001b[39m\u001b[38;5;132;01m{\u001b[39;00mlabels[mask]\u001b[38;5;241m.\u001b[39mtolist()\u001b[38;5;132;01m}\u001b[39;00m\u001b[38;5;124m not found in axis\u001b[39m\u001b[38;5;124m\"\u001b[39m)\n\u001b[0;32m   7071\u001b[0m     indexer \u001b[38;5;241m=\u001b[39m indexer[\u001b[38;5;241m~\u001b[39mmask]\n\u001b[0;32m   7072\u001b[0m \u001b[38;5;28;01mreturn\u001b[39;00m \u001b[38;5;28mself\u001b[39m\u001b[38;5;241m.\u001b[39mdelete(indexer)\n",
      "\u001b[1;31mKeyError\u001b[0m: \"['userId'] not found in axis\""
     ]
    }
   ],
   "source": [
    "merged_df.drop('userId',axis=1)"
   ]
  },
  {
   "cell_type": "code",
   "execution_count": 269,
   "metadata": {},
   "outputs": [
    {
     "data": {
      "text/html": [
       "<div>\n",
       "<style scoped>\n",
       "    .dataframe tbody tr th:only-of-type {\n",
       "        vertical-align: middle;\n",
       "    }\n",
       "\n",
       "    .dataframe tbody tr th {\n",
       "        vertical-align: top;\n",
       "    }\n",
       "\n",
       "    .dataframe thead th {\n",
       "        text-align: right;\n",
       "    }\n",
       "</style>\n",
       "<table border=\"1\" class=\"dataframe\">\n",
       "  <thead>\n",
       "    <tr style=\"text-align: right;\">\n",
       "      <th></th>\n",
       "      <th>userId_x</th>\n",
       "      <th>total_duration</th>\n",
       "      <th>count</th>\n",
       "      <th>_id</th>\n",
       "      <th>name</th>\n",
       "      <th>role_id</th>\n",
       "      <th>joining_date</th>\n",
       "      <th>department</th>\n",
       "      <th>mail</th>\n",
       "      <th>created_at</th>\n",
       "      <th>updated_at</th>\n",
       "      <th>password</th>\n",
       "      <th>profileImage</th>\n",
       "      <th>role_name</th>\n",
       "    </tr>\n",
       "  </thead>\n",
       "  <tbody>\n",
       "    <tr>\n",
       "      <th>0</th>\n",
       "      <td>00001762-6384-4247-ba53-54ea1640d1c7</td>\n",
       "      <td>6730 days</td>\n",
       "      <td>5</td>\n",
       "      <td>00001762-6384-4247-ba53-54ea1640d1c7</td>\n",
       "      <td>George Davis</td>\n",
       "      <td>19adcd6a-d040-43f5-8df4-f2776037d25e</td>\n",
       "      <td>2020-01-13T22:40:37</td>\n",
       "      <td>DEVOPS</td>\n",
       "      <td>kmyers@example.com</td>\n",
       "      <td>2020-05-17</td>\n",
       "      <td>2022-08-31</td>\n",
       "      <td>$$NE4RGu*3</td>\n",
       "      <td>https://picsum.photos/383/584</td>\n",
       "      <td>improve</td>\n",
       "    </tr>\n",
       "    <tr>\n",
       "      <th>1</th>\n",
       "      <td>00007389-374a-4695-aa55-e934e296c10d</td>\n",
       "      <td>7451 days</td>\n",
       "      <td>5</td>\n",
       "      <td>00007389-374a-4695-aa55-e934e296c10d</td>\n",
       "      <td>Richard Wood</td>\n",
       "      <td>100ac7ef-7112-488f-adf2-f9c1608d49b2</td>\n",
       "      <td>2022-12-13T03:11:03</td>\n",
       "      <td>DEVOPS</td>\n",
       "      <td>stacyjennings@example.net</td>\n",
       "      <td>2020-05-19</td>\n",
       "      <td>2021-03-04</td>\n",
       "      <td>w2AER@Cp@v</td>\n",
       "      <td>https://dummyimage.com/258x598</td>\n",
       "      <td>century</td>\n",
       "    </tr>\n",
       "    <tr>\n",
       "      <th>2</th>\n",
       "      <td>00056dbe-77c8-4c3c-a431-ebd19236bf46</td>\n",
       "      <td>2677 days</td>\n",
       "      <td>5</td>\n",
       "      <td>00056dbe-77c8-4c3c-a431-ebd19236bf46</td>\n",
       "      <td>John Johnson</td>\n",
       "      <td>9a857edb-7685-453d-bc33-ed5032191e9c</td>\n",
       "      <td>2020-03-09T11:55:40</td>\n",
       "      <td>OTHER</td>\n",
       "      <td>curtiscordova@example.com</td>\n",
       "      <td>2021-08-27</td>\n",
       "      <td>2023-01-11</td>\n",
       "      <td>Xr67Ru9j%5</td>\n",
       "      <td>https://dummyimage.com/116x586</td>\n",
       "      <td>money</td>\n",
       "    </tr>\n",
       "    <tr>\n",
       "      <th>3</th>\n",
       "      <td>000aef55-a6de-4d27-826e-fe081937fefd</td>\n",
       "      <td>4958 days</td>\n",
       "      <td>5</td>\n",
       "      <td>000aef55-a6de-4d27-826e-fe081937fefd</td>\n",
       "      <td>Diana Wagner</td>\n",
       "      <td>76fba540-2817-4293-b9ae-dd2aa77acbc1</td>\n",
       "      <td>2020-07-25T05:33:12</td>\n",
       "      <td>DATA_ANALYTICS</td>\n",
       "      <td>samantha69@example.org</td>\n",
       "      <td>2024-02-27</td>\n",
       "      <td>2024-02-09</td>\n",
       "      <td>x5OCm3Qm$4</td>\n",
       "      <td>https://dummyimage.com/607x451</td>\n",
       "      <td>positive</td>\n",
       "    </tr>\n",
       "    <tr>\n",
       "      <th>4</th>\n",
       "      <td>000c3b60-2ec0-4623-8924-dc9974974acb</td>\n",
       "      <td>4166 days</td>\n",
       "      <td>5</td>\n",
       "      <td>000c3b60-2ec0-4623-8924-dc9974974acb</td>\n",
       "      <td>Lauren Villegas</td>\n",
       "      <td>68d523fe-d71a-4a66-915a-950cbce914e2</td>\n",
       "      <td>2024-07-18T22:41:03</td>\n",
       "      <td>DEVOPS</td>\n",
       "      <td>corey49@example.net</td>\n",
       "      <td>2023-01-17</td>\n",
       "      <td>2023-09-12</td>\n",
       "      <td>pAH(9Rbl7+</td>\n",
       "      <td>https://dummyimage.com/113x292</td>\n",
       "      <td>talk</td>\n",
       "    </tr>\n",
       "    <tr>\n",
       "      <th>...</th>\n",
       "      <td>...</td>\n",
       "      <td>...</td>\n",
       "      <td>...</td>\n",
       "      <td>...</td>\n",
       "      <td>...</td>\n",
       "      <td>...</td>\n",
       "      <td>...</td>\n",
       "      <td>...</td>\n",
       "      <td>...</td>\n",
       "      <td>...</td>\n",
       "      <td>...</td>\n",
       "      <td>...</td>\n",
       "      <td>...</td>\n",
       "      <td>...</td>\n",
       "    </tr>\n",
       "    <tr>\n",
       "      <th>29997</th>\n",
       "      <td>fff44b16-8e59-4e16-a86d-0df997e3b356</td>\n",
       "      <td>4517 days</td>\n",
       "      <td>5</td>\n",
       "      <td>fff44b16-8e59-4e16-a86d-0df997e3b356</td>\n",
       "      <td>Darrell Pittman</td>\n",
       "      <td>7403751e-02d6-4560-ab09-c7528a0fb8ab</td>\n",
       "      <td>2021-05-31T18:25:31</td>\n",
       "      <td>DATA_ENGINEERING</td>\n",
       "      <td>jwilliamson@example.net</td>\n",
       "      <td>2021-05-23</td>\n",
       "      <td>2022-06-29</td>\n",
       "      <td>@9ZwOfDIsk</td>\n",
       "      <td>https://dummyimage.com/23x303</td>\n",
       "      <td>result</td>\n",
       "    </tr>\n",
       "    <tr>\n",
       "      <th>29998</th>\n",
       "      <td>fff5c6f1-5788-4896-8060-c8ff7a89c1d5</td>\n",
       "      <td>4375 days</td>\n",
       "      <td>5</td>\n",
       "      <td>fff5c6f1-5788-4896-8060-c8ff7a89c1d5</td>\n",
       "      <td>Derrick Hartman</td>\n",
       "      <td>22cb7f0f-28bb-454c-9f48-73c97e0efe5e</td>\n",
       "      <td>2024-03-14T00:12:47</td>\n",
       "      <td>DATA_ANALYTICS</td>\n",
       "      <td>roblesamanda@example.org</td>\n",
       "      <td>2021-06-03</td>\n",
       "      <td>2020-04-26</td>\n",
       "      <td>Iz1!T1Li!^</td>\n",
       "      <td>https://picsum.photos/479/8</td>\n",
       "      <td>office</td>\n",
       "    </tr>\n",
       "    <tr>\n",
       "      <th>29999</th>\n",
       "      <td>fff7f8d8-b960-4763-a072-354d451c7b7b</td>\n",
       "      <td>5685 days</td>\n",
       "      <td>5</td>\n",
       "      <td>fff7f8d8-b960-4763-a072-354d451c7b7b</td>\n",
       "      <td>Sean Cabrera</td>\n",
       "      <td>2c8336a8-a2e4-4c10-8705-901c8f6b4775</td>\n",
       "      <td>2024-08-13T11:32:27</td>\n",
       "      <td>ADMIN</td>\n",
       "      <td>eflynn@example.com</td>\n",
       "      <td>2024-04-20</td>\n",
       "      <td>2023-06-13</td>\n",
       "      <td>u7Wo5akE)4</td>\n",
       "      <td>https://placekitten.com/617/641</td>\n",
       "      <td>Democrat</td>\n",
       "    </tr>\n",
       "    <tr>\n",
       "      <th>30000</th>\n",
       "      <td>fff93e3c-8043-46c1-9cde-35b28841d46b</td>\n",
       "      <td>6079 days</td>\n",
       "      <td>5</td>\n",
       "      <td>fff93e3c-8043-46c1-9cde-35b28841d46b</td>\n",
       "      <td>Mr. Brett Miller MD</td>\n",
       "      <td>68d523fe-d71a-4a66-915a-950cbce914e2</td>\n",
       "      <td>2020-03-17T16:10:28</td>\n",
       "      <td>DEVOPS</td>\n",
       "      <td>stephaniestokes@example.com</td>\n",
       "      <td>2024-09-01</td>\n",
       "      <td>2020-09-10</td>\n",
       "      <td>oW6Ym0jdW(</td>\n",
       "      <td>https://dummyimage.com/300x911</td>\n",
       "      <td>talk</td>\n",
       "    </tr>\n",
       "    <tr>\n",
       "      <th>30001</th>\n",
       "      <td>fffa8c5a-633b-427e-844c-c61145722998</td>\n",
       "      <td>3722 days</td>\n",
       "      <td>5</td>\n",
       "      <td>fffa8c5a-633b-427e-844c-c61145722998</td>\n",
       "      <td>Christopher Johnson</td>\n",
       "      <td>76fba540-2817-4293-b9ae-dd2aa77acbc1</td>\n",
       "      <td>2023-11-05T06:44:31</td>\n",
       "      <td>OTHER</td>\n",
       "      <td>yporter@example.com</td>\n",
       "      <td>2020-09-09</td>\n",
       "      <td>2021-06-06</td>\n",
       "      <td>0Bx7AcuS(U</td>\n",
       "      <td>https://picsum.photos/250/573</td>\n",
       "      <td>positive</td>\n",
       "    </tr>\n",
       "  </tbody>\n",
       "</table>\n",
       "<p>30002 rows × 14 columns</p>\n",
       "</div>"
      ],
      "text/plain": [
       "                                   userId_x total_duration  count  \\\n",
       "0      00001762-6384-4247-ba53-54ea1640d1c7      6730 days      5   \n",
       "1      00007389-374a-4695-aa55-e934e296c10d      7451 days      5   \n",
       "2      00056dbe-77c8-4c3c-a431-ebd19236bf46      2677 days      5   \n",
       "3      000aef55-a6de-4d27-826e-fe081937fefd      4958 days      5   \n",
       "4      000c3b60-2ec0-4623-8924-dc9974974acb      4166 days      5   \n",
       "...                                     ...            ...    ...   \n",
       "29997  fff44b16-8e59-4e16-a86d-0df997e3b356      4517 days      5   \n",
       "29998  fff5c6f1-5788-4896-8060-c8ff7a89c1d5      4375 days      5   \n",
       "29999  fff7f8d8-b960-4763-a072-354d451c7b7b      5685 days      5   \n",
       "30000  fff93e3c-8043-46c1-9cde-35b28841d46b      6079 days      5   \n",
       "30001  fffa8c5a-633b-427e-844c-c61145722998      3722 days      5   \n",
       "\n",
       "                                        _id                 name  \\\n",
       "0      00001762-6384-4247-ba53-54ea1640d1c7         George Davis   \n",
       "1      00007389-374a-4695-aa55-e934e296c10d         Richard Wood   \n",
       "2      00056dbe-77c8-4c3c-a431-ebd19236bf46         John Johnson   \n",
       "3      000aef55-a6de-4d27-826e-fe081937fefd         Diana Wagner   \n",
       "4      000c3b60-2ec0-4623-8924-dc9974974acb      Lauren Villegas   \n",
       "...                                     ...                  ...   \n",
       "29997  fff44b16-8e59-4e16-a86d-0df997e3b356      Darrell Pittman   \n",
       "29998  fff5c6f1-5788-4896-8060-c8ff7a89c1d5      Derrick Hartman   \n",
       "29999  fff7f8d8-b960-4763-a072-354d451c7b7b         Sean Cabrera   \n",
       "30000  fff93e3c-8043-46c1-9cde-35b28841d46b  Mr. Brett Miller MD   \n",
       "30001  fffa8c5a-633b-427e-844c-c61145722998  Christopher Johnson   \n",
       "\n",
       "                                    role_id         joining_date  \\\n",
       "0      19adcd6a-d040-43f5-8df4-f2776037d25e  2020-01-13T22:40:37   \n",
       "1      100ac7ef-7112-488f-adf2-f9c1608d49b2  2022-12-13T03:11:03   \n",
       "2      9a857edb-7685-453d-bc33-ed5032191e9c  2020-03-09T11:55:40   \n",
       "3      76fba540-2817-4293-b9ae-dd2aa77acbc1  2020-07-25T05:33:12   \n",
       "4      68d523fe-d71a-4a66-915a-950cbce914e2  2024-07-18T22:41:03   \n",
       "...                                     ...                  ...   \n",
       "29997  7403751e-02d6-4560-ab09-c7528a0fb8ab  2021-05-31T18:25:31   \n",
       "29998  22cb7f0f-28bb-454c-9f48-73c97e0efe5e  2024-03-14T00:12:47   \n",
       "29999  2c8336a8-a2e4-4c10-8705-901c8f6b4775  2024-08-13T11:32:27   \n",
       "30000  68d523fe-d71a-4a66-915a-950cbce914e2  2020-03-17T16:10:28   \n",
       "30001  76fba540-2817-4293-b9ae-dd2aa77acbc1  2023-11-05T06:44:31   \n",
       "\n",
       "             department                         mail created_at updated_at  \\\n",
       "0                DEVOPS           kmyers@example.com 2020-05-17 2022-08-31   \n",
       "1                DEVOPS    stacyjennings@example.net 2020-05-19 2021-03-04   \n",
       "2                 OTHER    curtiscordova@example.com 2021-08-27 2023-01-11   \n",
       "3        DATA_ANALYTICS       samantha69@example.org 2024-02-27 2024-02-09   \n",
       "4                DEVOPS          corey49@example.net 2023-01-17 2023-09-12   \n",
       "...                 ...                          ...        ...        ...   \n",
       "29997  DATA_ENGINEERING      jwilliamson@example.net 2021-05-23 2022-06-29   \n",
       "29998    DATA_ANALYTICS     roblesamanda@example.org 2021-06-03 2020-04-26   \n",
       "29999             ADMIN           eflynn@example.com 2024-04-20 2023-06-13   \n",
       "30000            DEVOPS  stephaniestokes@example.com 2024-09-01 2020-09-10   \n",
       "30001             OTHER          yporter@example.com 2020-09-09 2021-06-06   \n",
       "\n",
       "         password                     profileImage role_name  \n",
       "0      $$NE4RGu*3    https://picsum.photos/383/584   improve  \n",
       "1      w2AER@Cp@v   https://dummyimage.com/258x598   century  \n",
       "2      Xr67Ru9j%5   https://dummyimage.com/116x586     money  \n",
       "3      x5OCm3Qm$4   https://dummyimage.com/607x451  positive  \n",
       "4      pAH(9Rbl7+   https://dummyimage.com/113x292      talk  \n",
       "...           ...                              ...       ...  \n",
       "29997  @9ZwOfDIsk    https://dummyimage.com/23x303    result  \n",
       "29998  Iz1!T1Li!^      https://picsum.photos/479/8    office  \n",
       "29999  u7Wo5akE)4  https://placekitten.com/617/641  Democrat  \n",
       "30000  oW6Ym0jdW(   https://dummyimage.com/300x911      talk  \n",
       "30001  0Bx7AcuS(U    https://picsum.photos/250/573  positive  \n",
       "\n",
       "[30002 rows x 14 columns]"
      ]
     },
     "execution_count": 269,
     "metadata": {},
     "output_type": "execute_result"
    }
   ],
   "source": [
    "merged_df.drop('userId_y',axis=1)"
   ]
  },
  {
   "cell_type": "code",
   "execution_count": 270,
   "metadata": {},
   "outputs": [],
   "source": [
    "merged_df.rename({\"userId_x\":\"userId\"},axis=1,inplace=True)"
   ]
  },
  {
   "cell_type": "code",
   "execution_count": 272,
   "metadata": {},
   "outputs": [],
   "source": [
    "# merged_df.drop('total_duration_y', axis=1, inplace=True)\n",
    "merged_df.drop('userId_y', axis=1, inplace=True)"
   ]
  },
  {
   "cell_type": "code",
   "execution_count": 273,
   "metadata": {},
   "outputs": [
    {
     "data": {
      "text/plain": [
       "userId            0\n",
       "total_duration    0\n",
       "count             0\n",
       "_id               0\n",
       "name              0\n",
       "role_id           0\n",
       "joining_date      0\n",
       "department        0\n",
       "mail              0\n",
       "created_at        0\n",
       "updated_at        0\n",
       "password          0\n",
       "profileImage      0\n",
       "role_name         0\n",
       "dtype: int64"
      ]
     },
     "execution_count": 273,
     "metadata": {},
     "output_type": "execute_result"
    }
   ],
   "source": [
    "merged_df.isna().sum()"
   ]
  },
  {
   "cell_type": "code",
   "execution_count": 274,
   "metadata": {},
   "outputs": [
    {
     "data": {
      "text/html": [
       "<div>\n",
       "<style scoped>\n",
       "    .dataframe tbody tr th:only-of-type {\n",
       "        vertical-align: middle;\n",
       "    }\n",
       "\n",
       "    .dataframe tbody tr th {\n",
       "        vertical-align: top;\n",
       "    }\n",
       "\n",
       "    .dataframe thead th {\n",
       "        text-align: right;\n",
       "    }\n",
       "</style>\n",
       "<table border=\"1\" class=\"dataframe\">\n",
       "  <thead>\n",
       "    <tr style=\"text-align: right;\">\n",
       "      <th></th>\n",
       "      <th>userId</th>\n",
       "      <th>total_duration</th>\n",
       "      <th>count</th>\n",
       "      <th>_id</th>\n",
       "      <th>name</th>\n",
       "      <th>role_id</th>\n",
       "      <th>joining_date</th>\n",
       "      <th>department</th>\n",
       "      <th>mail</th>\n",
       "      <th>created_at</th>\n",
       "      <th>updated_at</th>\n",
       "      <th>password</th>\n",
       "      <th>profileImage</th>\n",
       "      <th>role_name</th>\n",
       "    </tr>\n",
       "  </thead>\n",
       "  <tbody>\n",
       "    <tr>\n",
       "      <th>0</th>\n",
       "      <td>00001762-6384-4247-ba53-54ea1640d1c7</td>\n",
       "      <td>6730 days</td>\n",
       "      <td>5</td>\n",
       "      <td>00001762-6384-4247-ba53-54ea1640d1c7</td>\n",
       "      <td>George Davis</td>\n",
       "      <td>19adcd6a-d040-43f5-8df4-f2776037d25e</td>\n",
       "      <td>2020-01-13T22:40:37</td>\n",
       "      <td>DEVOPS</td>\n",
       "      <td>kmyers@example.com</td>\n",
       "      <td>2020-05-17</td>\n",
       "      <td>2022-08-31</td>\n",
       "      <td>$$NE4RGu*3</td>\n",
       "      <td>https://picsum.photos/383/584</td>\n",
       "      <td>improve</td>\n",
       "    </tr>\n",
       "    <tr>\n",
       "      <th>1</th>\n",
       "      <td>00007389-374a-4695-aa55-e934e296c10d</td>\n",
       "      <td>7451 days</td>\n",
       "      <td>5</td>\n",
       "      <td>00007389-374a-4695-aa55-e934e296c10d</td>\n",
       "      <td>Richard Wood</td>\n",
       "      <td>100ac7ef-7112-488f-adf2-f9c1608d49b2</td>\n",
       "      <td>2022-12-13T03:11:03</td>\n",
       "      <td>DEVOPS</td>\n",
       "      <td>stacyjennings@example.net</td>\n",
       "      <td>2020-05-19</td>\n",
       "      <td>2021-03-04</td>\n",
       "      <td>w2AER@Cp@v</td>\n",
       "      <td>https://dummyimage.com/258x598</td>\n",
       "      <td>century</td>\n",
       "    </tr>\n",
       "    <tr>\n",
       "      <th>2</th>\n",
       "      <td>00056dbe-77c8-4c3c-a431-ebd19236bf46</td>\n",
       "      <td>2677 days</td>\n",
       "      <td>5</td>\n",
       "      <td>00056dbe-77c8-4c3c-a431-ebd19236bf46</td>\n",
       "      <td>John Johnson</td>\n",
       "      <td>9a857edb-7685-453d-bc33-ed5032191e9c</td>\n",
       "      <td>2020-03-09T11:55:40</td>\n",
       "      <td>OTHER</td>\n",
       "      <td>curtiscordova@example.com</td>\n",
       "      <td>2021-08-27</td>\n",
       "      <td>2023-01-11</td>\n",
       "      <td>Xr67Ru9j%5</td>\n",
       "      <td>https://dummyimage.com/116x586</td>\n",
       "      <td>money</td>\n",
       "    </tr>\n",
       "    <tr>\n",
       "      <th>3</th>\n",
       "      <td>000aef55-a6de-4d27-826e-fe081937fefd</td>\n",
       "      <td>4958 days</td>\n",
       "      <td>5</td>\n",
       "      <td>000aef55-a6de-4d27-826e-fe081937fefd</td>\n",
       "      <td>Diana Wagner</td>\n",
       "      <td>76fba540-2817-4293-b9ae-dd2aa77acbc1</td>\n",
       "      <td>2020-07-25T05:33:12</td>\n",
       "      <td>DATA_ANALYTICS</td>\n",
       "      <td>samantha69@example.org</td>\n",
       "      <td>2024-02-27</td>\n",
       "      <td>2024-02-09</td>\n",
       "      <td>x5OCm3Qm$4</td>\n",
       "      <td>https://dummyimage.com/607x451</td>\n",
       "      <td>positive</td>\n",
       "    </tr>\n",
       "    <tr>\n",
       "      <th>4</th>\n",
       "      <td>000c3b60-2ec0-4623-8924-dc9974974acb</td>\n",
       "      <td>4166 days</td>\n",
       "      <td>5</td>\n",
       "      <td>000c3b60-2ec0-4623-8924-dc9974974acb</td>\n",
       "      <td>Lauren Villegas</td>\n",
       "      <td>68d523fe-d71a-4a66-915a-950cbce914e2</td>\n",
       "      <td>2024-07-18T22:41:03</td>\n",
       "      <td>DEVOPS</td>\n",
       "      <td>corey49@example.net</td>\n",
       "      <td>2023-01-17</td>\n",
       "      <td>2023-09-12</td>\n",
       "      <td>pAH(9Rbl7+</td>\n",
       "      <td>https://dummyimage.com/113x292</td>\n",
       "      <td>talk</td>\n",
       "    </tr>\n",
       "  </tbody>\n",
       "</table>\n",
       "</div>"
      ],
      "text/plain": [
       "                                 userId total_duration  count  \\\n",
       "0  00001762-6384-4247-ba53-54ea1640d1c7      6730 days      5   \n",
       "1  00007389-374a-4695-aa55-e934e296c10d      7451 days      5   \n",
       "2  00056dbe-77c8-4c3c-a431-ebd19236bf46      2677 days      5   \n",
       "3  000aef55-a6de-4d27-826e-fe081937fefd      4958 days      5   \n",
       "4  000c3b60-2ec0-4623-8924-dc9974974acb      4166 days      5   \n",
       "\n",
       "                                    _id             name  \\\n",
       "0  00001762-6384-4247-ba53-54ea1640d1c7     George Davis   \n",
       "1  00007389-374a-4695-aa55-e934e296c10d     Richard Wood   \n",
       "2  00056dbe-77c8-4c3c-a431-ebd19236bf46     John Johnson   \n",
       "3  000aef55-a6de-4d27-826e-fe081937fefd     Diana Wagner   \n",
       "4  000c3b60-2ec0-4623-8924-dc9974974acb  Lauren Villegas   \n",
       "\n",
       "                                role_id         joining_date      department  \\\n",
       "0  19adcd6a-d040-43f5-8df4-f2776037d25e  2020-01-13T22:40:37          DEVOPS   \n",
       "1  100ac7ef-7112-488f-adf2-f9c1608d49b2  2022-12-13T03:11:03          DEVOPS   \n",
       "2  9a857edb-7685-453d-bc33-ed5032191e9c  2020-03-09T11:55:40           OTHER   \n",
       "3  76fba540-2817-4293-b9ae-dd2aa77acbc1  2020-07-25T05:33:12  DATA_ANALYTICS   \n",
       "4  68d523fe-d71a-4a66-915a-950cbce914e2  2024-07-18T22:41:03          DEVOPS   \n",
       "\n",
       "                        mail created_at updated_at    password  \\\n",
       "0         kmyers@example.com 2020-05-17 2022-08-31  $$NE4RGu*3   \n",
       "1  stacyjennings@example.net 2020-05-19 2021-03-04  w2AER@Cp@v   \n",
       "2  curtiscordova@example.com 2021-08-27 2023-01-11  Xr67Ru9j%5   \n",
       "3     samantha69@example.org 2024-02-27 2024-02-09  x5OCm3Qm$4   \n",
       "4        corey49@example.net 2023-01-17 2023-09-12  pAH(9Rbl7+   \n",
       "\n",
       "                     profileImage role_name  \n",
       "0   https://picsum.photos/383/584   improve  \n",
       "1  https://dummyimage.com/258x598   century  \n",
       "2  https://dummyimage.com/116x586     money  \n",
       "3  https://dummyimage.com/607x451  positive  \n",
       "4  https://dummyimage.com/113x292      talk  "
      ]
     },
     "execution_count": 274,
     "metadata": {},
     "output_type": "execute_result"
    }
   ],
   "source": [
    "df=merged_df\n",
    "df.head()"
   ]
  },
  {
   "cell_type": "code",
   "execution_count": 275,
   "metadata": {},
   "outputs": [
    {
     "data": {
      "text/plain": [
       "userId            0\n",
       "total_duration    0\n",
       "count             0\n",
       "_id               0\n",
       "name              0\n",
       "role_id           0\n",
       "joining_date      0\n",
       "department        0\n",
       "mail              0\n",
       "created_at        0\n",
       "updated_at        0\n",
       "password          0\n",
       "profileImage      0\n",
       "role_name         0\n",
       "dtype: int64"
      ]
     },
     "execution_count": 275,
     "metadata": {},
     "output_type": "execute_result"
    }
   ],
   "source": [
    "df.isnull().sum()"
   ]
  },
  {
   "cell_type": "code",
   "execution_count": 276,
   "metadata": {},
   "outputs": [],
   "source": [
    "df.to_csv('C:/Users/RithikHarendarMahesh/Desktop/fp/DataEngineering/prep/prep_user.csv')"
   ]
  },
  {
   "cell_type": "code",
   "execution_count": null,
   "metadata": {},
   "outputs": [],
   "source": []
  }
 ],
 "metadata": {
  "kernelspec": {
   "display_name": "Python 3 (ipykernel)",
   "language": "python",
   "name": "python3"
  },
  "language_info": {
   "codemirror_mode": {
    "name": "ipython",
    "version": 3
   },
   "file_extension": ".py",
   "mimetype": "text/x-python",
   "name": "python",
   "nbconvert_exporter": "python",
   "pygments_lexer": "ipython3",
   "version": "3.12.4"
  }
 },
 "nbformat": 4,
 "nbformat_minor": 2
}
