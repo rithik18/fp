{
 "cells": [
  {
   "cell_type": "code",
   "execution_count": 22,
   "metadata": {},
   "outputs": [],
   "source": [
    "import pandas as pd"
   ]
  },
  {
   "cell_type": "code",
   "execution_count": 23,
   "metadata": {},
   "outputs": [],
   "source": [
    "user_csv=pd.read_csv('E:/JMAN/fp/DataEngineering/raw/raw_role_skills.csv')"
   ]
  },
  {
   "cell_type": "code",
   "execution_count": 24,
   "metadata": {},
   "outputs": [],
   "source": [
    "df=pd.DataFrame(data=user_csv)"
   ]
  },
  {
   "cell_type": "code",
   "execution_count": 25,
   "metadata": {},
   "outputs": [
    {
     "data": {
      "text/plain": [
       "_id           0\n",
       "RoleId        0\n",
       "department    0\n",
       "skillId       0\n",
       "dtype: int64"
      ]
     },
     "execution_count": 25,
     "metadata": {},
     "output_type": "execute_result"
    }
   ],
   "source": [
    "df.isnull().sum()"
   ]
  },
  {
   "cell_type": "code",
   "execution_count": 26,
   "metadata": {},
   "outputs": [],
   "source": [
    "df.dropna(inplace=True)"
   ]
  },
  {
   "cell_type": "code",
   "execution_count": 27,
   "metadata": {},
   "outputs": [],
   "source": [
    "df.drop_duplicates(inplace=True)"
   ]
  },
  {
   "cell_type": "code",
   "execution_count": 28,
   "metadata": {},
   "outputs": [
    {
     "data": {
      "text/plain": [
       "_id           object\n",
       "RoleId        object\n",
       "department    object\n",
       "skillId       object\n",
       "dtype: object"
      ]
     },
     "execution_count": 28,
     "metadata": {},
     "output_type": "execute_result"
    }
   ],
   "source": [
    "df.dtypes"
   ]
  },
  {
   "cell_type": "code",
   "execution_count": 29,
   "metadata": {},
   "outputs": [
    {
     "name": "stdout",
     "output_type": "stream",
     "text": [
      "Original dtypes:\n",
      "_id           object\n",
      "RoleId        object\n",
      "department    object\n",
      "skillId       object\n",
      "dtype: object\n",
      "\n",
      "Converted dtypes:\n",
      "_id           string\n",
      "RoleId        string\n",
      "department    string\n",
      "skillId       string\n",
      "dtype: object\n"
     ]
    }
   ],
   "source": [
    "print(\"Original dtypes:\")\n",
    "print(df.dtypes)\n",
    "\n",
    "# Convert dtypes\n",
    "df=df.convert_dtypes()\n",
    "\n",
    "# Check new dtypes\n",
    "print(\"\\nConverted dtypes:\")\n",
    "print(df.convert_dtypes().dtypes)"
   ]
  },
  {
   "cell_type": "code",
   "execution_count": 30,
   "metadata": {},
   "outputs": [
    {
     "data": {
      "text/plain": [
       "_id           string\n",
       "RoleId        string\n",
       "department    string\n",
       "skillId       string\n",
       "dtype: object"
      ]
     },
     "execution_count": 30,
     "metadata": {},
     "output_type": "execute_result"
    }
   ],
   "source": [
    "df.dtypes"
   ]
  },
  {
   "cell_type": "code",
   "execution_count": 31,
   "metadata": {},
   "outputs": [
    {
     "data": {
      "text/html": [
       "<div>\n",
       "<style scoped>\n",
       "    .dataframe tbody tr th:only-of-type {\n",
       "        vertical-align: middle;\n",
       "    }\n",
       "\n",
       "    .dataframe tbody tr th {\n",
       "        vertical-align: top;\n",
       "    }\n",
       "\n",
       "    .dataframe thead th {\n",
       "        text-align: right;\n",
       "    }\n",
       "</style>\n",
       "<table border=\"1\" class=\"dataframe\">\n",
       "  <thead>\n",
       "    <tr style=\"text-align: right;\">\n",
       "      <th></th>\n",
       "      <th>_id</th>\n",
       "      <th>RoleId</th>\n",
       "      <th>department</th>\n",
       "      <th>skillId</th>\n",
       "      <th>role_name</th>\n",
       "    </tr>\n",
       "  </thead>\n",
       "  <tbody>\n",
       "    <tr>\n",
       "      <th>0</th>\n",
       "      <td>66ff9021a325dc5b0d7d3a89</td>\n",
       "      <td>66fd595030450c2a76ac0219</td>\n",
       "      <td>FULL_STACK</td>\n",
       "      <td>66ff7be7d1312483599a8dd8</td>\n",
       "      <td>Software Engineer</td>\n",
       "    </tr>\n",
       "    <tr>\n",
       "      <th>1</th>\n",
       "      <td>66ff9021a325dc5b0d7d3a8a</td>\n",
       "      <td>66fd595030450c2a76ac0219</td>\n",
       "      <td>FULL_STACK</td>\n",
       "      <td>66ff7bf4d1312483599a8dd9</td>\n",
       "      <td>Software Engineer</td>\n",
       "    </tr>\n",
       "    <tr>\n",
       "      <th>2</th>\n",
       "      <td>66ff9021a325dc5b0d7d3a8b</td>\n",
       "      <td>66fd595030450c2a76ac0219</td>\n",
       "      <td>FULL_STACK</td>\n",
       "      <td>66ff7bffd1312483599a8dda</td>\n",
       "      <td>Software Engineer</td>\n",
       "    </tr>\n",
       "    <tr>\n",
       "      <th>3</th>\n",
       "      <td>66ff904aa325dc5b0d7d3a8f</td>\n",
       "      <td>66fd540a30450c2a76ac020f</td>\n",
       "      <td>FULL_STACK</td>\n",
       "      <td>66ff7be7d1312483599a8dd8</td>\n",
       "      <td>Senior Software Engineer</td>\n",
       "    </tr>\n",
       "    <tr>\n",
       "      <th>4</th>\n",
       "      <td>66ff904aa325dc5b0d7d3a92</td>\n",
       "      <td>66fd540a30450c2a76ac020f</td>\n",
       "      <td>FULL_STACK</td>\n",
       "      <td>66ff7c1ed1312483599a8ddb</td>\n",
       "      <td>Senior Software Engineer</td>\n",
       "    </tr>\n",
       "  </tbody>\n",
       "</table>\n",
       "</div>"
      ],
      "text/plain": [
       "                        _id                    RoleId  department  \\\n",
       "0  66ff9021a325dc5b0d7d3a89  66fd595030450c2a76ac0219  FULL_STACK   \n",
       "1  66ff9021a325dc5b0d7d3a8a  66fd595030450c2a76ac0219  FULL_STACK   \n",
       "2  66ff9021a325dc5b0d7d3a8b  66fd595030450c2a76ac0219  FULL_STACK   \n",
       "3  66ff904aa325dc5b0d7d3a8f  66fd540a30450c2a76ac020f  FULL_STACK   \n",
       "4  66ff904aa325dc5b0d7d3a92  66fd540a30450c2a76ac020f  FULL_STACK   \n",
       "\n",
       "                    skillId                 role_name  \n",
       "0  66ff7be7d1312483599a8dd8         Software Engineer  \n",
       "1  66ff7bf4d1312483599a8dd9         Software Engineer  \n",
       "2  66ff7bffd1312483599a8dda         Software Engineer  \n",
       "3  66ff7be7d1312483599a8dd8  Senior Software Engineer  \n",
       "4  66ff7c1ed1312483599a8ddb  Senior Software Engineer  "
      ]
     },
     "execution_count": 31,
     "metadata": {},
     "output_type": "execute_result"
    }
   ],
   "source": [
    "roles_df = pd.read_csv('E:/JMAN/fp/DataEngineering/prep/prep_role.csv')\n",
    "role_mapping = dict(zip(roles_df['_id'], roles_df['name']))\n",
    "df['role_name'] = df['RoleId'].map(role_mapping)\n",
    "df.head()"
   ]
  },
  {
   "cell_type": "code",
   "execution_count": 32,
   "metadata": {},
   "outputs": [
    {
     "data": {
      "text/html": [
       "<div>\n",
       "<style scoped>\n",
       "    .dataframe tbody tr th:only-of-type {\n",
       "        vertical-align: middle;\n",
       "    }\n",
       "\n",
       "    .dataframe tbody tr th {\n",
       "        vertical-align: top;\n",
       "    }\n",
       "\n",
       "    .dataframe thead th {\n",
       "        text-align: right;\n",
       "    }\n",
       "</style>\n",
       "<table border=\"1\" class=\"dataframe\">\n",
       "  <thead>\n",
       "    <tr style=\"text-align: right;\">\n",
       "      <th></th>\n",
       "      <th>_id</th>\n",
       "      <th>RoleId</th>\n",
       "      <th>department</th>\n",
       "      <th>skillId</th>\n",
       "      <th>role_name</th>\n",
       "      <th>skill_name</th>\n",
       "    </tr>\n",
       "  </thead>\n",
       "  <tbody>\n",
       "    <tr>\n",
       "      <th>0</th>\n",
       "      <td>66ff9021a325dc5b0d7d3a89</td>\n",
       "      <td>66fd595030450c2a76ac0219</td>\n",
       "      <td>FULL_STACK</td>\n",
       "      <td>66ff7be7d1312483599a8dd8</td>\n",
       "      <td>Software Engineer</td>\n",
       "      <td>Frontend</td>\n",
       "    </tr>\n",
       "    <tr>\n",
       "      <th>1</th>\n",
       "      <td>66ff9021a325dc5b0d7d3a8a</td>\n",
       "      <td>66fd595030450c2a76ac0219</td>\n",
       "      <td>FULL_STACK</td>\n",
       "      <td>66ff7bf4d1312483599a8dd9</td>\n",
       "      <td>Software Engineer</td>\n",
       "      <td>NaN</td>\n",
       "    </tr>\n",
       "    <tr>\n",
       "      <th>2</th>\n",
       "      <td>66ff9021a325dc5b0d7d3a8b</td>\n",
       "      <td>66fd595030450c2a76ac0219</td>\n",
       "      <td>FULL_STACK</td>\n",
       "      <td>66ff7bffd1312483599a8dda</td>\n",
       "      <td>Software Engineer</td>\n",
       "      <td>NaN</td>\n",
       "    </tr>\n",
       "    <tr>\n",
       "      <th>3</th>\n",
       "      <td>66ff904aa325dc5b0d7d3a8f</td>\n",
       "      <td>66fd540a30450c2a76ac020f</td>\n",
       "      <td>FULL_STACK</td>\n",
       "      <td>66ff7be7d1312483599a8dd8</td>\n",
       "      <td>Senior Software Engineer</td>\n",
       "      <td>Frontend</td>\n",
       "    </tr>\n",
       "    <tr>\n",
       "      <th>4</th>\n",
       "      <td>66ff904aa325dc5b0d7d3a92</td>\n",
       "      <td>66fd540a30450c2a76ac020f</td>\n",
       "      <td>FULL_STACK</td>\n",
       "      <td>66ff7c1ed1312483599a8ddb</td>\n",
       "      <td>Senior Software Engineer</td>\n",
       "      <td>NaN</td>\n",
       "    </tr>\n",
       "  </tbody>\n",
       "</table>\n",
       "</div>"
      ],
      "text/plain": [
       "                        _id                    RoleId  department  \\\n",
       "0  66ff9021a325dc5b0d7d3a89  66fd595030450c2a76ac0219  FULL_STACK   \n",
       "1  66ff9021a325dc5b0d7d3a8a  66fd595030450c2a76ac0219  FULL_STACK   \n",
       "2  66ff9021a325dc5b0d7d3a8b  66fd595030450c2a76ac0219  FULL_STACK   \n",
       "3  66ff904aa325dc5b0d7d3a8f  66fd540a30450c2a76ac020f  FULL_STACK   \n",
       "4  66ff904aa325dc5b0d7d3a92  66fd540a30450c2a76ac020f  FULL_STACK   \n",
       "\n",
       "                    skillId                 role_name skill_name  \n",
       "0  66ff7be7d1312483599a8dd8         Software Engineer   Frontend  \n",
       "1  66ff7bf4d1312483599a8dd9         Software Engineer        NaN  \n",
       "2  66ff7bffd1312483599a8dda         Software Engineer        NaN  \n",
       "3  66ff7be7d1312483599a8dd8  Senior Software Engineer   Frontend  \n",
       "4  66ff7c1ed1312483599a8ddb  Senior Software Engineer        NaN  "
      ]
     },
     "execution_count": 32,
     "metadata": {},
     "output_type": "execute_result"
    }
   ],
   "source": [
    "roles_df = pd.read_csv('E:/JMAN/fp/DataEngineering/prep/prep_skill.csv')\n",
    "# roles_df = pd.read_csv('E:/JMAN/fp/DataEngineering/prep/prep_skill.csv')\n",
    "role_mapping = dict(zip(roles_df['_id'], roles_df['name']))\n",
    "df['skill_name'] = df['skillId'].map(role_mapping)\n",
    "df.head()"
   ]
  },
  {
   "cell_type": "code",
   "execution_count": 34,
   "metadata": {},
   "outputs": [
    {
     "name": "stdout",
     "output_type": "stream",
     "text": [
      "Original dtypes:\n",
      "_id           string\n",
      "RoleId        string\n",
      "department    string\n",
      "skillId       string\n",
      "role_name     string\n",
      "skill_name    string\n",
      "dtype: object\n",
      "\n",
      "Converted dtypes:\n",
      "_id           string\n",
      "RoleId        string\n",
      "department    string\n",
      "skillId       string\n",
      "role_name     string\n",
      "skill_name    string\n",
      "dtype: object\n"
     ]
    }
   ],
   "source": [
    "print(\"Original dtypes:\")\n",
    "print(df.dtypes)\n",
    "\n",
    "# Convert dtypes\n",
    "df=df.convert_dtypes()\n",
    "\n",
    "# Check new dtypes\n",
    "print(\"\\nConverted dtypes:\")\n",
    "print(df.convert_dtypes().dtypes)"
   ]
  },
  {
   "cell_type": "code",
   "execution_count": 35,
   "metadata": {},
   "outputs": [
    {
     "data": {
      "text/plain": [
       "(218, 6)"
      ]
     },
     "execution_count": 35,
     "metadata": {},
     "output_type": "execute_result"
    }
   ],
   "source": [
    "df.shape"
   ]
  },
  {
   "cell_type": "code",
   "execution_count": 36,
   "metadata": {},
   "outputs": [
    {
     "data": {
      "text/plain": [
       "_id            0\n",
       "RoleId         0\n",
       "department     0\n",
       "skillId        0\n",
       "role_name      0\n",
       "skill_name    14\n",
       "dtype: int64"
      ]
     },
     "execution_count": 36,
     "metadata": {},
     "output_type": "execute_result"
    }
   ],
   "source": [
    "df.isnull().sum()"
   ]
  },
  {
   "cell_type": "code",
   "execution_count": 42,
   "metadata": {},
   "outputs": [],
   "source": [
    "df.dropna(inplace=True)"
   ]
  },
  {
   "cell_type": "code",
   "execution_count": 43,
   "metadata": {},
   "outputs": [
    {
     "data": {
      "text/plain": [
       "(204, 6)"
      ]
     },
     "execution_count": 43,
     "metadata": {},
     "output_type": "execute_result"
    }
   ],
   "source": [
    "df.shape"
   ]
  },
  {
   "cell_type": "code",
   "execution_count": 44,
   "metadata": {},
   "outputs": [],
   "source": [
    "# df.to_csv('E:/JMAN/fp/DataEngineering/prep/prep_role_skill.csv')\n",
    "df.to_csv('E:/JMAN/fp/DataEngineering/prep/prep_role_skill.csv')"
   ]
  },
  {
   "cell_type": "code",
   "execution_count": null,
   "metadata": {},
   "outputs": [],
   "source": []
  }
 ],
 "metadata": {
  "kernelspec": {
   "display_name": "Python 3 (ipykernel)",
   "language": "python",
   "name": "python3"
  },
  "language_info": {
   "codemirror_mode": {
    "name": "ipython",
    "version": 3
   },
   "file_extension": ".py",
   "mimetype": "text/x-python",
   "name": "python",
   "nbconvert_exporter": "python",
   "pygments_lexer": "ipython3",
   "version": "3.12.4"
  }
 },
 "nbformat": 4,
 "nbformat_minor": 2
}
