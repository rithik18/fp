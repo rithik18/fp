{
 "cells": [
  {
   "cell_type": "code",
   "execution_count": 57,
   "metadata": {},
   "outputs": [],
   "source": [
    "import pandas as pd"
   ]
  },
  {
   "cell_type": "code",
   "execution_count": 58,
   "metadata": {},
   "outputs": [],
   "source": [
    "user_csv=pd.read_csv('E:/JMAN/fp/DataEngineering/raw/raw_role_skills.csv')"
   ]
  },
  {
   "cell_type": "code",
   "execution_count": 59,
   "metadata": {},
   "outputs": [],
   "source": [
    "df=pd.DataFrame(data=user_csv)"
   ]
  },
  {
   "cell_type": "code",
   "execution_count": 60,
   "metadata": {},
   "outputs": [
    {
     "data": {
      "text/html": [
       "<div>\n",
       "<style scoped>\n",
       "    .dataframe tbody tr th:only-of-type {\n",
       "        vertical-align: middle;\n",
       "    }\n",
       "\n",
       "    .dataframe tbody tr th {\n",
       "        vertical-align: top;\n",
       "    }\n",
       "\n",
       "    .dataframe thead th {\n",
       "        text-align: right;\n",
       "    }\n",
       "</style>\n",
       "<table border=\"1\" class=\"dataframe\">\n",
       "  <thead>\n",
       "    <tr style=\"text-align: right;\">\n",
       "      <th></th>\n",
       "      <th>roleId</th>\n",
       "      <th>skillId</th>\n",
       "      <th>name</th>\n",
       "    </tr>\n",
       "  </thead>\n",
       "  <tbody>\n",
       "    <tr>\n",
       "      <th>0</th>\n",
       "      <td>4a7cdfaf-b436-46e2-a8a2-5dc4835d40b9</td>\n",
       "      <td>640c213d-8a6a-4056-8097-f503261f10f2</td>\n",
       "      <td>Java</td>\n",
       "    </tr>\n",
       "    <tr>\n",
       "      <th>1</th>\n",
       "      <td>4a7cdfaf-b436-46e2-a8a2-5dc4835d40b9</td>\n",
       "      <td>88e8b761-f319-43ad-b4a5-f7a4ec5ce84a</td>\n",
       "      <td>Python</td>\n",
       "    </tr>\n",
       "    <tr>\n",
       "      <th>2</th>\n",
       "      <td>4a7cdfaf-b436-46e2-a8a2-5dc4835d40b9</td>\n",
       "      <td>e191e70b-6f79-4445-b734-9cc534f8b0c5</td>\n",
       "      <td>C#</td>\n",
       "    </tr>\n",
       "    <tr>\n",
       "      <th>3</th>\n",
       "      <td>4a7cdfaf-b436-46e2-a8a2-5dc4835d40b9</td>\n",
       "      <td>c3fa5509-12fc-4ea6-8757-922636072436</td>\n",
       "      <td>JavaScript</td>\n",
       "    </tr>\n",
       "    <tr>\n",
       "      <th>4</th>\n",
       "      <td>4a7cdfaf-b436-46e2-a8a2-5dc4835d40b9</td>\n",
       "      <td>b67791b0-c917-4aed-bd8b-62d0f1ac33f8</td>\n",
       "      <td>React</td>\n",
       "    </tr>\n",
       "    <tr>\n",
       "      <th>...</th>\n",
       "      <td>...</td>\n",
       "      <td>...</td>\n",
       "      <td>...</td>\n",
       "    </tr>\n",
       "    <tr>\n",
       "      <th>145</th>\n",
       "      <td>663c1743-1dc9-4c1a-8200-701078aefaf8</td>\n",
       "      <td>e1d5913c-bc9a-4484-b983-5028060c0603</td>\n",
       "      <td>Research Skills</td>\n",
       "    </tr>\n",
       "    <tr>\n",
       "      <th>146</th>\n",
       "      <td>663c1743-1dc9-4c1a-8200-701078aefaf8</td>\n",
       "      <td>f8aaa6dc-3518-4c40-9e04-62a4b3e37e7b</td>\n",
       "      <td>Agile Methodologies</td>\n",
       "    </tr>\n",
       "    <tr>\n",
       "      <th>147</th>\n",
       "      <td>663c1743-1dc9-4c1a-8200-701078aefaf8</td>\n",
       "      <td>f8ccfc58-7d91-4a51-9e8f-dc77d31f2b5f</td>\n",
       "      <td>Communication Skills</td>\n",
       "    </tr>\n",
       "    <tr>\n",
       "      <th>148</th>\n",
       "      <td>663c1743-1dc9-4c1a-8200-701078aefaf8</td>\n",
       "      <td>f231332c-0e06-4dea-b0ba-d8e75839d80d</td>\n",
       "      <td>User Documentation</td>\n",
       "    </tr>\n",
       "    <tr>\n",
       "      <th>149</th>\n",
       "      <td>663c1743-1dc9-4c1a-8200-701078aefaf8</td>\n",
       "      <td>d422c946-f775-4e88-9531-a463c79624a2</td>\n",
       "      <td>Graphic Design</td>\n",
       "    </tr>\n",
       "  </tbody>\n",
       "</table>\n",
       "<p>150 rows × 3 columns</p>\n",
       "</div>"
      ],
      "text/plain": [
       "                                   roleId  \\\n",
       "0    4a7cdfaf-b436-46e2-a8a2-5dc4835d40b9   \n",
       "1    4a7cdfaf-b436-46e2-a8a2-5dc4835d40b9   \n",
       "2    4a7cdfaf-b436-46e2-a8a2-5dc4835d40b9   \n",
       "3    4a7cdfaf-b436-46e2-a8a2-5dc4835d40b9   \n",
       "4    4a7cdfaf-b436-46e2-a8a2-5dc4835d40b9   \n",
       "..                                    ...   \n",
       "145  663c1743-1dc9-4c1a-8200-701078aefaf8   \n",
       "146  663c1743-1dc9-4c1a-8200-701078aefaf8   \n",
       "147  663c1743-1dc9-4c1a-8200-701078aefaf8   \n",
       "148  663c1743-1dc9-4c1a-8200-701078aefaf8   \n",
       "149  663c1743-1dc9-4c1a-8200-701078aefaf8   \n",
       "\n",
       "                                  skillId                  name  \n",
       "0    640c213d-8a6a-4056-8097-f503261f10f2                  Java  \n",
       "1    88e8b761-f319-43ad-b4a5-f7a4ec5ce84a                Python  \n",
       "2    e191e70b-6f79-4445-b734-9cc534f8b0c5                    C#  \n",
       "3    c3fa5509-12fc-4ea6-8757-922636072436            JavaScript  \n",
       "4    b67791b0-c917-4aed-bd8b-62d0f1ac33f8                 React  \n",
       "..                                    ...                   ...  \n",
       "145  e1d5913c-bc9a-4484-b983-5028060c0603       Research Skills  \n",
       "146  f8aaa6dc-3518-4c40-9e04-62a4b3e37e7b   Agile Methodologies  \n",
       "147  f8ccfc58-7d91-4a51-9e8f-dc77d31f2b5f  Communication Skills  \n",
       "148  f231332c-0e06-4dea-b0ba-d8e75839d80d    User Documentation  \n",
       "149  d422c946-f775-4e88-9531-a463c79624a2        Graphic Design  \n",
       "\n",
       "[150 rows x 3 columns]"
      ]
     },
     "execution_count": 60,
     "metadata": {},
     "output_type": "execute_result"
    }
   ],
   "source": [
    "df"
   ]
  },
  {
   "cell_type": "code",
   "execution_count": 61,
   "metadata": {},
   "outputs": [
    {
     "data": {
      "text/plain": [
       "roleId     0\n",
       "skillId    0\n",
       "name       0\n",
       "dtype: int64"
      ]
     },
     "execution_count": 61,
     "metadata": {},
     "output_type": "execute_result"
    }
   ],
   "source": [
    "df.isnull().sum()"
   ]
  },
  {
   "cell_type": "code",
   "execution_count": 62,
   "metadata": {},
   "outputs": [],
   "source": [
    "df.dropna(inplace=True)"
   ]
  },
  {
   "cell_type": "code",
   "execution_count": 63,
   "metadata": {},
   "outputs": [],
   "source": [
    "df.drop_duplicates(inplace=True)"
   ]
  },
  {
   "cell_type": "code",
   "execution_count": 64,
   "metadata": {},
   "outputs": [
    {
     "data": {
      "text/plain": [
       "roleId     object\n",
       "skillId    object\n",
       "name       object\n",
       "dtype: object"
      ]
     },
     "execution_count": 64,
     "metadata": {},
     "output_type": "execute_result"
    }
   ],
   "source": [
    "df.dtypes"
   ]
  },
  {
   "cell_type": "code",
   "execution_count": 65,
   "metadata": {},
   "outputs": [
    {
     "name": "stdout",
     "output_type": "stream",
     "text": [
      "Original dtypes:\n",
      "roleId     object\n",
      "skillId    object\n",
      "name       object\n",
      "dtype: object\n",
      "\n",
      "Converted dtypes:\n",
      "roleId     string\n",
      "skillId    string\n",
      "name       string\n",
      "dtype: object\n"
     ]
    }
   ],
   "source": [
    "print(\"Original dtypes:\")\n",
    "print(df.dtypes)\n",
    "\n",
    "# Convert dtypes\n",
    "df=df.convert_dtypes()\n",
    "\n",
    "# Check new dtypes\n",
    "print(\"\\nConverted dtypes:\")\n",
    "print(df.convert_dtypes().dtypes)"
   ]
  },
  {
   "cell_type": "code",
   "execution_count": 66,
   "metadata": {},
   "outputs": [
    {
     "data": {
      "text/plain": [
       "roleId     string\n",
       "skillId    string\n",
       "name       string\n",
       "dtype: object"
      ]
     },
     "execution_count": 66,
     "metadata": {},
     "output_type": "execute_result"
    }
   ],
   "source": [
    "df.dtypes"
   ]
  },
  {
   "cell_type": "code",
   "execution_count": 67,
   "metadata": {},
   "outputs": [
    {
     "data": {
      "text/html": [
       "<div>\n",
       "<style scoped>\n",
       "    .dataframe tbody tr th:only-of-type {\n",
       "        vertical-align: middle;\n",
       "    }\n",
       "\n",
       "    .dataframe tbody tr th {\n",
       "        vertical-align: top;\n",
       "    }\n",
       "\n",
       "    .dataframe thead th {\n",
       "        text-align: right;\n",
       "    }\n",
       "</style>\n",
       "<table border=\"1\" class=\"dataframe\">\n",
       "  <thead>\n",
       "    <tr style=\"text-align: right;\">\n",
       "      <th></th>\n",
       "      <th>roleId</th>\n",
       "      <th>skillId</th>\n",
       "      <th>name</th>\n",
       "      <th>role_name</th>\n",
       "    </tr>\n",
       "  </thead>\n",
       "  <tbody>\n",
       "    <tr>\n",
       "      <th>0</th>\n",
       "      <td>4a7cdfaf-b436-46e2-a8a2-5dc4835d40b9</td>\n",
       "      <td>640c213d-8a6a-4056-8097-f503261f10f2</td>\n",
       "      <td>Java</td>\n",
       "      <td>Software Engineer</td>\n",
       "    </tr>\n",
       "    <tr>\n",
       "      <th>1</th>\n",
       "      <td>4a7cdfaf-b436-46e2-a8a2-5dc4835d40b9</td>\n",
       "      <td>88e8b761-f319-43ad-b4a5-f7a4ec5ce84a</td>\n",
       "      <td>Python</td>\n",
       "      <td>Software Engineer</td>\n",
       "    </tr>\n",
       "    <tr>\n",
       "      <th>2</th>\n",
       "      <td>4a7cdfaf-b436-46e2-a8a2-5dc4835d40b9</td>\n",
       "      <td>e191e70b-6f79-4445-b734-9cc534f8b0c5</td>\n",
       "      <td>C#</td>\n",
       "      <td>Software Engineer</td>\n",
       "    </tr>\n",
       "    <tr>\n",
       "      <th>3</th>\n",
       "      <td>4a7cdfaf-b436-46e2-a8a2-5dc4835d40b9</td>\n",
       "      <td>c3fa5509-12fc-4ea6-8757-922636072436</td>\n",
       "      <td>JavaScript</td>\n",
       "      <td>Software Engineer</td>\n",
       "    </tr>\n",
       "    <tr>\n",
       "      <th>4</th>\n",
       "      <td>4a7cdfaf-b436-46e2-a8a2-5dc4835d40b9</td>\n",
       "      <td>b67791b0-c917-4aed-bd8b-62d0f1ac33f8</td>\n",
       "      <td>React</td>\n",
       "      <td>Software Engineer</td>\n",
       "    </tr>\n",
       "  </tbody>\n",
       "</table>\n",
       "</div>"
      ],
      "text/plain": [
       "                                 roleId                               skillId  \\\n",
       "0  4a7cdfaf-b436-46e2-a8a2-5dc4835d40b9  640c213d-8a6a-4056-8097-f503261f10f2   \n",
       "1  4a7cdfaf-b436-46e2-a8a2-5dc4835d40b9  88e8b761-f319-43ad-b4a5-f7a4ec5ce84a   \n",
       "2  4a7cdfaf-b436-46e2-a8a2-5dc4835d40b9  e191e70b-6f79-4445-b734-9cc534f8b0c5   \n",
       "3  4a7cdfaf-b436-46e2-a8a2-5dc4835d40b9  c3fa5509-12fc-4ea6-8757-922636072436   \n",
       "4  4a7cdfaf-b436-46e2-a8a2-5dc4835d40b9  b67791b0-c917-4aed-bd8b-62d0f1ac33f8   \n",
       "\n",
       "         name          role_name  \n",
       "0        Java  Software Engineer  \n",
       "1      Python  Software Engineer  \n",
       "2          C#  Software Engineer  \n",
       "3  JavaScript  Software Engineer  \n",
       "4       React  Software Engineer  "
      ]
     },
     "execution_count": 67,
     "metadata": {},
     "output_type": "execute_result"
    }
   ],
   "source": [
    "roles_df = pd.read_csv('E:/JMAN/fp/DataEngineering/prep/prep_role.csv')\n",
    "role_mapping = dict(zip(roles_df['_id'], roles_df['name']))\n",
    "df['role_name'] = df['roleId'].map(role_mapping)\n",
    "df.head()"
   ]
  },
  {
   "cell_type": "code",
   "execution_count": 68,
   "metadata": {},
   "outputs": [
    {
     "data": {
      "text/html": [
       "<div>\n",
       "<style scoped>\n",
       "    .dataframe tbody tr th:only-of-type {\n",
       "        vertical-align: middle;\n",
       "    }\n",
       "\n",
       "    .dataframe tbody tr th {\n",
       "        vertical-align: top;\n",
       "    }\n",
       "\n",
       "    .dataframe thead th {\n",
       "        text-align: right;\n",
       "    }\n",
       "</style>\n",
       "<table border=\"1\" class=\"dataframe\">\n",
       "  <thead>\n",
       "    <tr style=\"text-align: right;\">\n",
       "      <th></th>\n",
       "      <th>roleId</th>\n",
       "      <th>skillId</th>\n",
       "      <th>name</th>\n",
       "      <th>role_name</th>\n",
       "      <th>skill_name</th>\n",
       "    </tr>\n",
       "  </thead>\n",
       "  <tbody>\n",
       "    <tr>\n",
       "      <th>0</th>\n",
       "      <td>4a7cdfaf-b436-46e2-a8a2-5dc4835d40b9</td>\n",
       "      <td>640c213d-8a6a-4056-8097-f503261f10f2</td>\n",
       "      <td>Java</td>\n",
       "      <td>Software Engineer</td>\n",
       "      <td>Java</td>\n",
       "    </tr>\n",
       "    <tr>\n",
       "      <th>1</th>\n",
       "      <td>4a7cdfaf-b436-46e2-a8a2-5dc4835d40b9</td>\n",
       "      <td>88e8b761-f319-43ad-b4a5-f7a4ec5ce84a</td>\n",
       "      <td>Python</td>\n",
       "      <td>Software Engineer</td>\n",
       "      <td>Python</td>\n",
       "    </tr>\n",
       "    <tr>\n",
       "      <th>2</th>\n",
       "      <td>4a7cdfaf-b436-46e2-a8a2-5dc4835d40b9</td>\n",
       "      <td>e191e70b-6f79-4445-b734-9cc534f8b0c5</td>\n",
       "      <td>C#</td>\n",
       "      <td>Software Engineer</td>\n",
       "      <td>C#</td>\n",
       "    </tr>\n",
       "    <tr>\n",
       "      <th>3</th>\n",
       "      <td>4a7cdfaf-b436-46e2-a8a2-5dc4835d40b9</td>\n",
       "      <td>c3fa5509-12fc-4ea6-8757-922636072436</td>\n",
       "      <td>JavaScript</td>\n",
       "      <td>Software Engineer</td>\n",
       "      <td>JavaScript</td>\n",
       "    </tr>\n",
       "    <tr>\n",
       "      <th>4</th>\n",
       "      <td>4a7cdfaf-b436-46e2-a8a2-5dc4835d40b9</td>\n",
       "      <td>b67791b0-c917-4aed-bd8b-62d0f1ac33f8</td>\n",
       "      <td>React</td>\n",
       "      <td>Software Engineer</td>\n",
       "      <td>React</td>\n",
       "    </tr>\n",
       "  </tbody>\n",
       "</table>\n",
       "</div>"
      ],
      "text/plain": [
       "                                 roleId                               skillId  \\\n",
       "0  4a7cdfaf-b436-46e2-a8a2-5dc4835d40b9  640c213d-8a6a-4056-8097-f503261f10f2   \n",
       "1  4a7cdfaf-b436-46e2-a8a2-5dc4835d40b9  88e8b761-f319-43ad-b4a5-f7a4ec5ce84a   \n",
       "2  4a7cdfaf-b436-46e2-a8a2-5dc4835d40b9  e191e70b-6f79-4445-b734-9cc534f8b0c5   \n",
       "3  4a7cdfaf-b436-46e2-a8a2-5dc4835d40b9  c3fa5509-12fc-4ea6-8757-922636072436   \n",
       "4  4a7cdfaf-b436-46e2-a8a2-5dc4835d40b9  b67791b0-c917-4aed-bd8b-62d0f1ac33f8   \n",
       "\n",
       "         name          role_name  skill_name  \n",
       "0        Java  Software Engineer        Java  \n",
       "1      Python  Software Engineer      Python  \n",
       "2          C#  Software Engineer          C#  \n",
       "3  JavaScript  Software Engineer  JavaScript  \n",
       "4       React  Software Engineer       React  "
      ]
     },
     "execution_count": 68,
     "metadata": {},
     "output_type": "execute_result"
    }
   ],
   "source": [
    "roles_df = pd.read_csv('E:/JMAN/fp/DataEngineering/prep/prep_skill.csv')\n",
    "# roles_df = pd.read_csv('E:/JMAN/fp/DataEngineering/prep/prep_skill.csv')\n",
    "role_mapping = dict(zip(roles_df['_id'], roles_df['name']))\n",
    "df['skill_name'] = df['skillId'].map(role_mapping)\n",
    "df.head()"
   ]
  },
  {
   "cell_type": "code",
   "execution_count": 69,
   "metadata": {},
   "outputs": [
    {
     "name": "stdout",
     "output_type": "stream",
     "text": [
      "Original dtypes:\n",
      "roleId        string\n",
      "skillId       string\n",
      "name          string\n",
      "role_name     object\n",
      "skill_name    object\n",
      "dtype: object\n",
      "\n",
      "Converted dtypes:\n",
      "roleId        string\n",
      "skillId       string\n",
      "name          string\n",
      "role_name     string\n",
      "skill_name    string\n",
      "dtype: object\n"
     ]
    }
   ],
   "source": [
    "print(\"Original dtypes:\")\n",
    "print(df.dtypes)\n",
    "\n",
    "# Convert dtypes\n",
    "df=df.convert_dtypes()\n",
    "\n",
    "# Check new dtypes\n",
    "print(\"\\nConverted dtypes:\")\n",
    "print(df.convert_dtypes().dtypes)"
   ]
  },
  {
   "cell_type": "code",
   "execution_count": 70,
   "metadata": {},
   "outputs": [
    {
     "data": {
      "text/plain": [
       "(150, 5)"
      ]
     },
     "execution_count": 70,
     "metadata": {},
     "output_type": "execute_result"
    }
   ],
   "source": [
    "df.shape"
   ]
  },
  {
   "cell_type": "code",
   "execution_count": 71,
   "metadata": {},
   "outputs": [
    {
     "data": {
      "text/plain": [
       "roleId        0\n",
       "skillId       0\n",
       "name          0\n",
       "role_name     0\n",
       "skill_name    0\n",
       "dtype: int64"
      ]
     },
     "execution_count": 71,
     "metadata": {},
     "output_type": "execute_result"
    }
   ],
   "source": [
    "df.isnull().sum()"
   ]
  },
  {
   "cell_type": "code",
   "execution_count": 72,
   "metadata": {},
   "outputs": [],
   "source": [
    "df.dropna(inplace=True)"
   ]
  },
  {
   "cell_type": "code",
   "execution_count": 73,
   "metadata": {},
   "outputs": [
    {
     "data": {
      "text/plain": [
       "(150, 5)"
      ]
     },
     "execution_count": 73,
     "metadata": {},
     "output_type": "execute_result"
    }
   ],
   "source": [
    "df.shape"
   ]
  },
  {
   "cell_type": "code",
   "execution_count": 74,
   "metadata": {},
   "outputs": [],
   "source": [
    "# df.to_csv('E:/JMAN/fp/DataEngineering/prep/prep_role_skill.csv')\n",
    "df.to_csv('E:/JMAN/fp/DataEngineering/prep/prep_role_skill.csv')"
   ]
  },
  {
   "cell_type": "code",
   "execution_count": null,
   "metadata": {},
   "outputs": [],
   "source": []
  }
 ],
 "metadata": {
  "kernelspec": {
   "display_name": "base",
   "language": "python",
   "name": "python3"
  },
  "language_info": {
   "codemirror_mode": {
    "name": "ipython",
    "version": 3
   },
   "file_extension": ".py",
   "mimetype": "text/x-python",
   "name": "python",
   "nbconvert_exporter": "python",
   "pygments_lexer": "ipython3",
   "version": "3.9.7"
  }
 },
 "nbformat": 4,
 "nbformat_minor": 2
}
