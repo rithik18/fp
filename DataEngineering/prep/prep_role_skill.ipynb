{
 "cells": [
  {
   "cell_type": "code",
   "execution_count": 1,
   "metadata": {},
   "outputs": [],
   "source": [
    "import pandas as pd"
   ]
  },
  {
   "cell_type": "code",
   "execution_count": 2,
   "metadata": {},
   "outputs": [],
   "source": [
    "user_csv=pd.read_csv('C:/Users/RithikHarendarMahesh/Desktop/fp/DataEngineering/raw/raw_role_skills.csv')"
   ]
  },
  {
   "cell_type": "code",
   "execution_count": 3,
   "metadata": {},
   "outputs": [],
   "source": [
    "df=pd.DataFrame(data=user_csv)"
   ]
  },
  {
   "cell_type": "code",
   "execution_count": 4,
   "metadata": {},
   "outputs": [
    {
     "data": {
      "text/html": [
       "<div>\n",
       "<style scoped>\n",
       "    .dataframe tbody tr th:only-of-type {\n",
       "        vertical-align: middle;\n",
       "    }\n",
       "\n",
       "    .dataframe tbody tr th {\n",
       "        vertical-align: top;\n",
       "    }\n",
       "\n",
       "    .dataframe thead th {\n",
       "        text-align: right;\n",
       "    }\n",
       "</style>\n",
       "<table border=\"1\" class=\"dataframe\">\n",
       "  <thead>\n",
       "    <tr style=\"text-align: right;\">\n",
       "      <th></th>\n",
       "      <th>roleId</th>\n",
       "      <th>skillId</th>\n",
       "      <th>name</th>\n",
       "    </tr>\n",
       "  </thead>\n",
       "  <tbody>\n",
       "    <tr>\n",
       "      <th>0</th>\n",
       "      <td>25886cc0-ab38-455b-a301-f739643e462d</td>\n",
       "      <td>a4e275cc-e486-4c7c-9f7b-c40d068966f0</td>\n",
       "      <td>Java</td>\n",
       "    </tr>\n",
       "    <tr>\n",
       "      <th>1</th>\n",
       "      <td>25886cc0-ab38-455b-a301-f739643e462d</td>\n",
       "      <td>3d63d298-7c3b-4c64-bc19-dc68acc7e2a4</td>\n",
       "      <td>Python</td>\n",
       "    </tr>\n",
       "    <tr>\n",
       "      <th>2</th>\n",
       "      <td>25886cc0-ab38-455b-a301-f739643e462d</td>\n",
       "      <td>d48397d3-9242-4251-bb47-f5af84fe7a43</td>\n",
       "      <td>C#</td>\n",
       "    </tr>\n",
       "    <tr>\n",
       "      <th>3</th>\n",
       "      <td>25886cc0-ab38-455b-a301-f739643e462d</td>\n",
       "      <td>78c73ebf-f75f-4532-b441-3a7aeabae391</td>\n",
       "      <td>JavaScript</td>\n",
       "    </tr>\n",
       "    <tr>\n",
       "      <th>4</th>\n",
       "      <td>25886cc0-ab38-455b-a301-f739643e462d</td>\n",
       "      <td>1a39e0ee-e002-4c8d-9a8a-11e50c08c8de</td>\n",
       "      <td>React</td>\n",
       "    </tr>\n",
       "    <tr>\n",
       "      <th>...</th>\n",
       "      <td>...</td>\n",
       "      <td>...</td>\n",
       "      <td>...</td>\n",
       "    </tr>\n",
       "    <tr>\n",
       "      <th>145</th>\n",
       "      <td>90a9e49a-3fcc-494c-a3fa-1c5375311cbb</td>\n",
       "      <td>028217fd-dba5-48ca-930d-e048fb8dc146</td>\n",
       "      <td>Research Skills</td>\n",
       "    </tr>\n",
       "    <tr>\n",
       "      <th>146</th>\n",
       "      <td>90a9e49a-3fcc-494c-a3fa-1c5375311cbb</td>\n",
       "      <td>8cda0fab-ee95-45a6-9508-ebe56aa5abe5</td>\n",
       "      <td>Agile Methodologies</td>\n",
       "    </tr>\n",
       "    <tr>\n",
       "      <th>147</th>\n",
       "      <td>90a9e49a-3fcc-494c-a3fa-1c5375311cbb</td>\n",
       "      <td>109eeae7-dec8-4878-a156-13a66ae4e472</td>\n",
       "      <td>Communication Skills</td>\n",
       "    </tr>\n",
       "    <tr>\n",
       "      <th>148</th>\n",
       "      <td>90a9e49a-3fcc-494c-a3fa-1c5375311cbb</td>\n",
       "      <td>4ecf4620-0e9d-4ce3-807a-0d99635df1cb</td>\n",
       "      <td>User Documentation</td>\n",
       "    </tr>\n",
       "    <tr>\n",
       "      <th>149</th>\n",
       "      <td>90a9e49a-3fcc-494c-a3fa-1c5375311cbb</td>\n",
       "      <td>3e738cc0-83fb-4687-bc62-1d1f9ca0c9cb</td>\n",
       "      <td>Graphic Design</td>\n",
       "    </tr>\n",
       "  </tbody>\n",
       "</table>\n",
       "<p>150 rows × 3 columns</p>\n",
       "</div>"
      ],
      "text/plain": [
       "                                   roleId  \\\n",
       "0    25886cc0-ab38-455b-a301-f739643e462d   \n",
       "1    25886cc0-ab38-455b-a301-f739643e462d   \n",
       "2    25886cc0-ab38-455b-a301-f739643e462d   \n",
       "3    25886cc0-ab38-455b-a301-f739643e462d   \n",
       "4    25886cc0-ab38-455b-a301-f739643e462d   \n",
       "..                                    ...   \n",
       "145  90a9e49a-3fcc-494c-a3fa-1c5375311cbb   \n",
       "146  90a9e49a-3fcc-494c-a3fa-1c5375311cbb   \n",
       "147  90a9e49a-3fcc-494c-a3fa-1c5375311cbb   \n",
       "148  90a9e49a-3fcc-494c-a3fa-1c5375311cbb   \n",
       "149  90a9e49a-3fcc-494c-a3fa-1c5375311cbb   \n",
       "\n",
       "                                  skillId                  name  \n",
       "0    a4e275cc-e486-4c7c-9f7b-c40d068966f0                  Java  \n",
       "1    3d63d298-7c3b-4c64-bc19-dc68acc7e2a4                Python  \n",
       "2    d48397d3-9242-4251-bb47-f5af84fe7a43                    C#  \n",
       "3    78c73ebf-f75f-4532-b441-3a7aeabae391            JavaScript  \n",
       "4    1a39e0ee-e002-4c8d-9a8a-11e50c08c8de                 React  \n",
       "..                                    ...                   ...  \n",
       "145  028217fd-dba5-48ca-930d-e048fb8dc146       Research Skills  \n",
       "146  8cda0fab-ee95-45a6-9508-ebe56aa5abe5   Agile Methodologies  \n",
       "147  109eeae7-dec8-4878-a156-13a66ae4e472  Communication Skills  \n",
       "148  4ecf4620-0e9d-4ce3-807a-0d99635df1cb    User Documentation  \n",
       "149  3e738cc0-83fb-4687-bc62-1d1f9ca0c9cb        Graphic Design  \n",
       "\n",
       "[150 rows x 3 columns]"
      ]
     },
     "execution_count": 4,
     "metadata": {},
     "output_type": "execute_result"
    }
   ],
   "source": [
    "df"
   ]
  },
  {
   "cell_type": "code",
   "execution_count": 5,
   "metadata": {},
   "outputs": [
    {
     "data": {
      "text/plain": [
       "roleId     0\n",
       "skillId    0\n",
       "name       0\n",
       "dtype: int64"
      ]
     },
     "execution_count": 5,
     "metadata": {},
     "output_type": "execute_result"
    }
   ],
   "source": [
    "df.isnull().sum()"
   ]
  },
  {
   "cell_type": "code",
   "execution_count": 6,
   "metadata": {},
   "outputs": [],
   "source": [
    "df.dropna(inplace=True)"
   ]
  },
  {
   "cell_type": "code",
   "execution_count": 7,
   "metadata": {},
   "outputs": [],
   "source": [
    "df.drop_duplicates(inplace=True)"
   ]
  },
  {
   "cell_type": "code",
   "execution_count": 8,
   "metadata": {},
   "outputs": [
    {
     "data": {
      "text/plain": [
       "roleId     object\n",
       "skillId    object\n",
       "name       object\n",
       "dtype: object"
      ]
     },
     "execution_count": 8,
     "metadata": {},
     "output_type": "execute_result"
    }
   ],
   "source": [
    "df.dtypes"
   ]
  },
  {
   "cell_type": "code",
   "execution_count": 9,
   "metadata": {},
   "outputs": [
    {
     "name": "stdout",
     "output_type": "stream",
     "text": [
      "Original dtypes:\n",
      "roleId     object\n",
      "skillId    object\n",
      "name       object\n",
      "dtype: object\n",
      "\n",
      "Converted dtypes:\n",
      "roleId     string[python]\n",
      "skillId    string[python]\n",
      "name       string[python]\n",
      "dtype: object\n"
     ]
    }
   ],
   "source": [
    "print(\"Original dtypes:\")\n",
    "print(df.dtypes)\n",
    "\n",
    "# Convert dtypes\n",
    "df=df.convert_dtypes()\n",
    "\n",
    "# Check new dtypes\n",
    "print(\"\\nConverted dtypes:\")\n",
    "print(df.convert_dtypes().dtypes)"
   ]
  },
  {
   "cell_type": "code",
   "execution_count": 10,
   "metadata": {},
   "outputs": [
    {
     "data": {
      "text/plain": [
       "roleId     string[python]\n",
       "skillId    string[python]\n",
       "name       string[python]\n",
       "dtype: object"
      ]
     },
     "execution_count": 10,
     "metadata": {},
     "output_type": "execute_result"
    }
   ],
   "source": [
    "df.dtypes"
   ]
  },
  {
   "cell_type": "code",
   "execution_count": 11,
   "metadata": {},
   "outputs": [
    {
     "data": {
      "text/html": [
       "<div>\n",
       "<style scoped>\n",
       "    .dataframe tbody tr th:only-of-type {\n",
       "        vertical-align: middle;\n",
       "    }\n",
       "\n",
       "    .dataframe tbody tr th {\n",
       "        vertical-align: top;\n",
       "    }\n",
       "\n",
       "    .dataframe thead th {\n",
       "        text-align: right;\n",
       "    }\n",
       "</style>\n",
       "<table border=\"1\" class=\"dataframe\">\n",
       "  <thead>\n",
       "    <tr style=\"text-align: right;\">\n",
       "      <th></th>\n",
       "      <th>roleId</th>\n",
       "      <th>skillId</th>\n",
       "      <th>name</th>\n",
       "      <th>role_name</th>\n",
       "    </tr>\n",
       "  </thead>\n",
       "  <tbody>\n",
       "    <tr>\n",
       "      <th>0</th>\n",
       "      <td>25886cc0-ab38-455b-a301-f739643e462d</td>\n",
       "      <td>a4e275cc-e486-4c7c-9f7b-c40d068966f0</td>\n",
       "      <td>Java</td>\n",
       "      <td>Software Engineer</td>\n",
       "    </tr>\n",
       "    <tr>\n",
       "      <th>1</th>\n",
       "      <td>25886cc0-ab38-455b-a301-f739643e462d</td>\n",
       "      <td>3d63d298-7c3b-4c64-bc19-dc68acc7e2a4</td>\n",
       "      <td>Python</td>\n",
       "      <td>Software Engineer</td>\n",
       "    </tr>\n",
       "    <tr>\n",
       "      <th>2</th>\n",
       "      <td>25886cc0-ab38-455b-a301-f739643e462d</td>\n",
       "      <td>d48397d3-9242-4251-bb47-f5af84fe7a43</td>\n",
       "      <td>C#</td>\n",
       "      <td>Software Engineer</td>\n",
       "    </tr>\n",
       "    <tr>\n",
       "      <th>3</th>\n",
       "      <td>25886cc0-ab38-455b-a301-f739643e462d</td>\n",
       "      <td>78c73ebf-f75f-4532-b441-3a7aeabae391</td>\n",
       "      <td>JavaScript</td>\n",
       "      <td>Software Engineer</td>\n",
       "    </tr>\n",
       "    <tr>\n",
       "      <th>4</th>\n",
       "      <td>25886cc0-ab38-455b-a301-f739643e462d</td>\n",
       "      <td>1a39e0ee-e002-4c8d-9a8a-11e50c08c8de</td>\n",
       "      <td>React</td>\n",
       "      <td>Software Engineer</td>\n",
       "    </tr>\n",
       "  </tbody>\n",
       "</table>\n",
       "</div>"
      ],
      "text/plain": [
       "                                 roleId                               skillId  \\\n",
       "0  25886cc0-ab38-455b-a301-f739643e462d  a4e275cc-e486-4c7c-9f7b-c40d068966f0   \n",
       "1  25886cc0-ab38-455b-a301-f739643e462d  3d63d298-7c3b-4c64-bc19-dc68acc7e2a4   \n",
       "2  25886cc0-ab38-455b-a301-f739643e462d  d48397d3-9242-4251-bb47-f5af84fe7a43   \n",
       "3  25886cc0-ab38-455b-a301-f739643e462d  78c73ebf-f75f-4532-b441-3a7aeabae391   \n",
       "4  25886cc0-ab38-455b-a301-f739643e462d  1a39e0ee-e002-4c8d-9a8a-11e50c08c8de   \n",
       "\n",
       "         name          role_name  \n",
       "0        Java  Software Engineer  \n",
       "1      Python  Software Engineer  \n",
       "2          C#  Software Engineer  \n",
       "3  JavaScript  Software Engineer  \n",
       "4       React  Software Engineer  "
      ]
     },
     "execution_count": 11,
     "metadata": {},
     "output_type": "execute_result"
    }
   ],
   "source": [
    "roles_df = pd.read_csv('C:/Users/RithikHarendarMahesh/Desktop/fp/DataEngineering/prep/prep_role.csv')\n",
    "role_mapping = dict(zip(roles_df['_id'], roles_df['name']))\n",
    "df['role_name'] = df['roleId'].map(role_mapping)\n",
    "df.head()"
   ]
  },
  {
   "cell_type": "code",
   "execution_count": 12,
   "metadata": {},
   "outputs": [
    {
     "data": {
      "text/html": [
       "<div>\n",
       "<style scoped>\n",
       "    .dataframe tbody tr th:only-of-type {\n",
       "        vertical-align: middle;\n",
       "    }\n",
       "\n",
       "    .dataframe tbody tr th {\n",
       "        vertical-align: top;\n",
       "    }\n",
       "\n",
       "    .dataframe thead th {\n",
       "        text-align: right;\n",
       "    }\n",
       "</style>\n",
       "<table border=\"1\" class=\"dataframe\">\n",
       "  <thead>\n",
       "    <tr style=\"text-align: right;\">\n",
       "      <th></th>\n",
       "      <th>roleId</th>\n",
       "      <th>skillId</th>\n",
       "      <th>name</th>\n",
       "      <th>role_name</th>\n",
       "      <th>skill_name</th>\n",
       "    </tr>\n",
       "  </thead>\n",
       "  <tbody>\n",
       "    <tr>\n",
       "      <th>0</th>\n",
       "      <td>25886cc0-ab38-455b-a301-f739643e462d</td>\n",
       "      <td>a4e275cc-e486-4c7c-9f7b-c40d068966f0</td>\n",
       "      <td>Java</td>\n",
       "      <td>Software Engineer</td>\n",
       "      <td>Java</td>\n",
       "    </tr>\n",
       "    <tr>\n",
       "      <th>1</th>\n",
       "      <td>25886cc0-ab38-455b-a301-f739643e462d</td>\n",
       "      <td>3d63d298-7c3b-4c64-bc19-dc68acc7e2a4</td>\n",
       "      <td>Python</td>\n",
       "      <td>Software Engineer</td>\n",
       "      <td>Python</td>\n",
       "    </tr>\n",
       "    <tr>\n",
       "      <th>2</th>\n",
       "      <td>25886cc0-ab38-455b-a301-f739643e462d</td>\n",
       "      <td>d48397d3-9242-4251-bb47-f5af84fe7a43</td>\n",
       "      <td>C#</td>\n",
       "      <td>Software Engineer</td>\n",
       "      <td>C#</td>\n",
       "    </tr>\n",
       "    <tr>\n",
       "      <th>3</th>\n",
       "      <td>25886cc0-ab38-455b-a301-f739643e462d</td>\n",
       "      <td>78c73ebf-f75f-4532-b441-3a7aeabae391</td>\n",
       "      <td>JavaScript</td>\n",
       "      <td>Software Engineer</td>\n",
       "      <td>JavaScript</td>\n",
       "    </tr>\n",
       "    <tr>\n",
       "      <th>4</th>\n",
       "      <td>25886cc0-ab38-455b-a301-f739643e462d</td>\n",
       "      <td>1a39e0ee-e002-4c8d-9a8a-11e50c08c8de</td>\n",
       "      <td>React</td>\n",
       "      <td>Software Engineer</td>\n",
       "      <td>React</td>\n",
       "    </tr>\n",
       "  </tbody>\n",
       "</table>\n",
       "</div>"
      ],
      "text/plain": [
       "                                 roleId                               skillId  \\\n",
       "0  25886cc0-ab38-455b-a301-f739643e462d  a4e275cc-e486-4c7c-9f7b-c40d068966f0   \n",
       "1  25886cc0-ab38-455b-a301-f739643e462d  3d63d298-7c3b-4c64-bc19-dc68acc7e2a4   \n",
       "2  25886cc0-ab38-455b-a301-f739643e462d  d48397d3-9242-4251-bb47-f5af84fe7a43   \n",
       "3  25886cc0-ab38-455b-a301-f739643e462d  78c73ebf-f75f-4532-b441-3a7aeabae391   \n",
       "4  25886cc0-ab38-455b-a301-f739643e462d  1a39e0ee-e002-4c8d-9a8a-11e50c08c8de   \n",
       "\n",
       "         name          role_name  skill_name  \n",
       "0        Java  Software Engineer        Java  \n",
       "1      Python  Software Engineer      Python  \n",
       "2          C#  Software Engineer          C#  \n",
       "3  JavaScript  Software Engineer  JavaScript  \n",
       "4       React  Software Engineer       React  "
      ]
     },
     "execution_count": 12,
     "metadata": {},
     "output_type": "execute_result"
    }
   ],
   "source": [
    "roles_df = pd.read_csv('C:/Users/RithikHarendarMahesh/Desktop/fp/DataEngineering/prep/prep_skill.csv')\n",
    "# roles_df = pd.read_csv('C:/Users/RithikHarendarMahesh/Desktop/fp/DataEngineering/prep/prep_skill.csv')\n",
    "role_mapping = dict(zip(roles_df['_id'], roles_df['name']))\n",
    "df['skill_name'] = df['skillId'].map(role_mapping)\n",
    "df.head()"
   ]
  },
  {
   "cell_type": "code",
   "execution_count": 13,
   "metadata": {},
   "outputs": [
    {
     "name": "stdout",
     "output_type": "stream",
     "text": [
      "Original dtypes:\n",
      "roleId        string[python]\n",
      "skillId       string[python]\n",
      "name          string[python]\n",
      "role_name             object\n",
      "skill_name            object\n",
      "dtype: object\n",
      "\n",
      "Converted dtypes:\n",
      "roleId        string[python]\n",
      "skillId       string[python]\n",
      "name          string[python]\n",
      "role_name     string[python]\n",
      "skill_name    string[python]\n",
      "dtype: object\n"
     ]
    }
   ],
   "source": [
    "print(\"Original dtypes:\")\n",
    "print(df.dtypes)\n",
    "\n",
    "# Convert dtypes\n",
    "df=df.convert_dtypes()\n",
    "\n",
    "# Check new dtypes\n",
    "print(\"\\nConverted dtypes:\")\n",
    "print(df.convert_dtypes().dtypes)"
   ]
  },
  {
   "cell_type": "code",
   "execution_count": 14,
   "metadata": {},
   "outputs": [
    {
     "data": {
      "text/plain": [
       "(150, 5)"
      ]
     },
     "execution_count": 14,
     "metadata": {},
     "output_type": "execute_result"
    }
   ],
   "source": [
    "df.shape"
   ]
  },
  {
   "cell_type": "code",
   "execution_count": 15,
   "metadata": {},
   "outputs": [
    {
     "data": {
      "text/plain": [
       "roleId        0\n",
       "skillId       0\n",
       "name          0\n",
       "role_name     0\n",
       "skill_name    0\n",
       "dtype: int64"
      ]
     },
     "execution_count": 15,
     "metadata": {},
     "output_type": "execute_result"
    }
   ],
   "source": [
    "df.isnull().sum()"
   ]
  },
  {
   "cell_type": "code",
   "execution_count": 16,
   "metadata": {},
   "outputs": [],
   "source": [
    "df.dropna(inplace=True)"
   ]
  },
  {
   "cell_type": "code",
   "execution_count": 17,
   "metadata": {},
   "outputs": [
    {
     "data": {
      "text/plain": [
       "(150, 5)"
      ]
     },
     "execution_count": 17,
     "metadata": {},
     "output_type": "execute_result"
    }
   ],
   "source": [
    "df.shape"
   ]
  },
  {
   "cell_type": "code",
   "execution_count": 18,
   "metadata": {},
   "outputs": [],
   "source": [
    "# df.to_csv('C:/Users/RithikHarendarMahesh/Desktop/fp/DataEngineering/prep/prep_role_skill.csv')\n",
    "df.to_csv('C:/Users/RithikHarendarMahesh/Desktop/fp/DataEngineering/prep/prep_role_skill.csv')"
   ]
  },
  {
   "cell_type": "code",
   "execution_count": null,
   "metadata": {},
   "outputs": [],
   "source": []
  }
 ],
 "metadata": {
  "kernelspec": {
   "display_name": "base",
   "language": "python",
   "name": "python3"
  },
  "language_info": {
   "codemirror_mode": {
    "name": "ipython",
    "version": 3
   },
   "file_extension": ".py",
   "mimetype": "text/x-python",
   "name": "python",
   "nbconvert_exporter": "python",
   "pygments_lexer": "ipython3",
   "version": "3.12.4"
  }
 },
 "nbformat": 4,
 "nbformat_minor": 2
}
