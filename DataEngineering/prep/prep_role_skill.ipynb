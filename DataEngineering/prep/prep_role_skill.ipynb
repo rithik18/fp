{
 "cells": [
  {
   "cell_type": "code",
   "execution_count": 53,
   "metadata": {},
   "outputs": [],
   "source": [
    "import pandas as pd"
   ]
  },
  {
   "cell_type": "code",
   "execution_count": 54,
   "metadata": {},
   "outputs": [],
   "source": [
    "user_csv=pd.read_csv('E:/JMAN/fp/DataEngineering/raw/raw_role_skills.csv')"
   ]
  },
  {
   "cell_type": "code",
   "execution_count": 55,
   "metadata": {},
   "outputs": [],
   "source": [
    "df=pd.DataFrame(data=user_csv)"
   ]
  },
  {
   "cell_type": "code",
   "execution_count": 56,
   "metadata": {},
   "outputs": [
    {
     "data": {
      "text/html": [
       "<div>\n",
       "<style scoped>\n",
       "    .dataframe tbody tr th:only-of-type {\n",
       "        vertical-align: middle;\n",
       "    }\n",
       "\n",
       "    .dataframe tbody tr th {\n",
       "        vertical-align: top;\n",
       "    }\n",
       "\n",
       "    .dataframe thead th {\n",
       "        text-align: right;\n",
       "    }\n",
       "</style>\n",
       "<table border=\"1\" class=\"dataframe\">\n",
       "  <thead>\n",
       "    <tr style=\"text-align: right;\">\n",
       "      <th></th>\n",
       "      <th>roleId</th>\n",
       "      <th>skillId</th>\n",
       "      <th>name</th>\n",
       "    </tr>\n",
       "  </thead>\n",
       "  <tbody>\n",
       "    <tr>\n",
       "      <th>0</th>\n",
       "      <td>Software Engineer</td>\n",
       "      <td>b2780056-9703-4c9a-91a2-f0a14dcac2a6</td>\n",
       "      <td>Java</td>\n",
       "    </tr>\n",
       "    <tr>\n",
       "      <th>1</th>\n",
       "      <td>Software Engineer</td>\n",
       "      <td>733b90fc-9f19-4a81-bcf2-6250b683fc02</td>\n",
       "      <td>Python</td>\n",
       "    </tr>\n",
       "    <tr>\n",
       "      <th>2</th>\n",
       "      <td>Software Engineer</td>\n",
       "      <td>f619c86e-f085-480f-978a-d86b945455a3</td>\n",
       "      <td>C#</td>\n",
       "    </tr>\n",
       "    <tr>\n",
       "      <th>3</th>\n",
       "      <td>Software Engineer</td>\n",
       "      <td>014e1698-6d93-4bfb-a835-b77ad2271f08</td>\n",
       "      <td>JavaScript</td>\n",
       "    </tr>\n",
       "    <tr>\n",
       "      <th>4</th>\n",
       "      <td>Software Engineer</td>\n",
       "      <td>273d1c01-d465-4814-9406-443a480674d1</td>\n",
       "      <td>React</td>\n",
       "    </tr>\n",
       "    <tr>\n",
       "      <th>...</th>\n",
       "      <td>...</td>\n",
       "      <td>...</td>\n",
       "      <td>...</td>\n",
       "    </tr>\n",
       "    <tr>\n",
       "      <th>85</th>\n",
       "      <td>Technical Writer</td>\n",
       "      <td>7a94ab57-2691-4627-87f9-f807128b3446</td>\n",
       "      <td>Research Skills</td>\n",
       "    </tr>\n",
       "    <tr>\n",
       "      <th>86</th>\n",
       "      <td>Technical Writer</td>\n",
       "      <td>99392fbf-2619-4ab7-ab37-1afa98a79267</td>\n",
       "      <td>Agile Methodologies</td>\n",
       "    </tr>\n",
       "    <tr>\n",
       "      <th>87</th>\n",
       "      <td>Technical Writer</td>\n",
       "      <td>a600dbca-ebd8-4d6b-a7cd-0599566468ba</td>\n",
       "      <td>Communication Skills</td>\n",
       "    </tr>\n",
       "    <tr>\n",
       "      <th>88</th>\n",
       "      <td>Technical Writer</td>\n",
       "      <td>68dbb4cd-04eb-4015-9436-92dd21c7cd98</td>\n",
       "      <td>User Documentation</td>\n",
       "    </tr>\n",
       "    <tr>\n",
       "      <th>89</th>\n",
       "      <td>Technical Writer</td>\n",
       "      <td>967c94ea-b037-4a5d-9218-74e28ab6da18</td>\n",
       "      <td>Graphic Design</td>\n",
       "    </tr>\n",
       "  </tbody>\n",
       "</table>\n",
       "<p>90 rows × 3 columns</p>\n",
       "</div>"
      ],
      "text/plain": [
       "               roleId                               skillId  \\\n",
       "0   Software Engineer  b2780056-9703-4c9a-91a2-f0a14dcac2a6   \n",
       "1   Software Engineer  733b90fc-9f19-4a81-bcf2-6250b683fc02   \n",
       "2   Software Engineer  f619c86e-f085-480f-978a-d86b945455a3   \n",
       "3   Software Engineer  014e1698-6d93-4bfb-a835-b77ad2271f08   \n",
       "4   Software Engineer  273d1c01-d465-4814-9406-443a480674d1   \n",
       "..                ...                                   ...   \n",
       "85   Technical Writer  7a94ab57-2691-4627-87f9-f807128b3446   \n",
       "86   Technical Writer  99392fbf-2619-4ab7-ab37-1afa98a79267   \n",
       "87   Technical Writer  a600dbca-ebd8-4d6b-a7cd-0599566468ba   \n",
       "88   Technical Writer  68dbb4cd-04eb-4015-9436-92dd21c7cd98   \n",
       "89   Technical Writer  967c94ea-b037-4a5d-9218-74e28ab6da18   \n",
       "\n",
       "                    name  \n",
       "0                   Java  \n",
       "1                 Python  \n",
       "2                     C#  \n",
       "3             JavaScript  \n",
       "4                  React  \n",
       "..                   ...  \n",
       "85       Research Skills  \n",
       "86   Agile Methodologies  \n",
       "87  Communication Skills  \n",
       "88    User Documentation  \n",
       "89        Graphic Design  \n",
       "\n",
       "[90 rows x 3 columns]"
      ]
     },
     "execution_count": 56,
     "metadata": {},
     "output_type": "execute_result"
    }
   ],
   "source": [
    "df"
   ]
  },
  {
   "cell_type": "code",
   "execution_count": 39,
   "metadata": {},
   "outputs": [
    {
     "data": {
      "text/plain": [
       "roleId     0\n",
       "skillId    0\n",
       "name       0\n",
       "dtype: int64"
      ]
     },
     "execution_count": 39,
     "metadata": {},
     "output_type": "execute_result"
    }
   ],
   "source": [
    "df.isnull().sum()"
   ]
  },
  {
   "cell_type": "code",
   "execution_count": 40,
   "metadata": {},
   "outputs": [],
   "source": [
    "df.dropna(inplace=True)"
   ]
  },
  {
   "cell_type": "code",
   "execution_count": 41,
   "metadata": {},
   "outputs": [],
   "source": [
    "df.drop_duplicates(inplace=True)"
   ]
  },
  {
   "cell_type": "code",
   "execution_count": 42,
   "metadata": {},
   "outputs": [
    {
     "data": {
      "text/plain": [
       "roleId     object\n",
       "skillId    object\n",
       "name       object\n",
       "dtype: object"
      ]
     },
     "execution_count": 42,
     "metadata": {},
     "output_type": "execute_result"
    }
   ],
   "source": [
    "df.dtypes"
   ]
  },
  {
   "cell_type": "code",
   "execution_count": 43,
   "metadata": {},
   "outputs": [
    {
     "name": "stdout",
     "output_type": "stream",
     "text": [
      "Original dtypes:\n",
      "roleId     object\n",
      "skillId    object\n",
      "name       object\n",
      "dtype: object\n",
      "\n",
      "Converted dtypes:\n",
      "roleId     string\n",
      "skillId    string\n",
      "name       string\n",
      "dtype: object\n"
     ]
    }
   ],
   "source": [
    "print(\"Original dtypes:\")\n",
    "print(df.dtypes)\n",
    "\n",
    "# Convert dtypes\n",
    "df=df.convert_dtypes()\n",
    "\n",
    "# Check new dtypes\n",
    "print(\"\\nConverted dtypes:\")\n",
    "print(df.convert_dtypes().dtypes)"
   ]
  },
  {
   "cell_type": "code",
   "execution_count": 44,
   "metadata": {},
   "outputs": [
    {
     "data": {
      "text/plain": [
       "roleId     string\n",
       "skillId    string\n",
       "name       string\n",
       "dtype: object"
      ]
     },
     "execution_count": 44,
     "metadata": {},
     "output_type": "execute_result"
    }
   ],
   "source": [
    "df.dtypes"
   ]
  },
  {
   "cell_type": "code",
   "execution_count": 45,
   "metadata": {},
   "outputs": [
    {
     "data": {
      "text/html": [
       "<div>\n",
       "<style scoped>\n",
       "    .dataframe tbody tr th:only-of-type {\n",
       "        vertical-align: middle;\n",
       "    }\n",
       "\n",
       "    .dataframe tbody tr th {\n",
       "        vertical-align: top;\n",
       "    }\n",
       "\n",
       "    .dataframe thead th {\n",
       "        text-align: right;\n",
       "    }\n",
       "</style>\n",
       "<table border=\"1\" class=\"dataframe\">\n",
       "  <thead>\n",
       "    <tr style=\"text-align: right;\">\n",
       "      <th></th>\n",
       "      <th>roleId</th>\n",
       "      <th>skillId</th>\n",
       "      <th>name</th>\n",
       "      <th>role_name</th>\n",
       "    </tr>\n",
       "  </thead>\n",
       "  <tbody>\n",
       "    <tr>\n",
       "      <th>0</th>\n",
       "      <td>Software Engineer</td>\n",
       "      <td>b2780056-9703-4c9a-91a2-f0a14dcac2a6</td>\n",
       "      <td>Java</td>\n",
       "      <td>NaN</td>\n",
       "    </tr>\n",
       "    <tr>\n",
       "      <th>1</th>\n",
       "      <td>Software Engineer</td>\n",
       "      <td>733b90fc-9f19-4a81-bcf2-6250b683fc02</td>\n",
       "      <td>Python</td>\n",
       "      <td>NaN</td>\n",
       "    </tr>\n",
       "    <tr>\n",
       "      <th>2</th>\n",
       "      <td>Software Engineer</td>\n",
       "      <td>f619c86e-f085-480f-978a-d86b945455a3</td>\n",
       "      <td>C#</td>\n",
       "      <td>NaN</td>\n",
       "    </tr>\n",
       "    <tr>\n",
       "      <th>3</th>\n",
       "      <td>Software Engineer</td>\n",
       "      <td>014e1698-6d93-4bfb-a835-b77ad2271f08</td>\n",
       "      <td>JavaScript</td>\n",
       "      <td>NaN</td>\n",
       "    </tr>\n",
       "    <tr>\n",
       "      <th>4</th>\n",
       "      <td>Software Engineer</td>\n",
       "      <td>273d1c01-d465-4814-9406-443a480674d1</td>\n",
       "      <td>React</td>\n",
       "      <td>NaN</td>\n",
       "    </tr>\n",
       "  </tbody>\n",
       "</table>\n",
       "</div>"
      ],
      "text/plain": [
       "              roleId                               skillId        name  \\\n",
       "0  Software Engineer  b2780056-9703-4c9a-91a2-f0a14dcac2a6        Java   \n",
       "1  Software Engineer  733b90fc-9f19-4a81-bcf2-6250b683fc02      Python   \n",
       "2  Software Engineer  f619c86e-f085-480f-978a-d86b945455a3          C#   \n",
       "3  Software Engineer  014e1698-6d93-4bfb-a835-b77ad2271f08  JavaScript   \n",
       "4  Software Engineer  273d1c01-d465-4814-9406-443a480674d1       React   \n",
       "\n",
       "   role_name  \n",
       "0        NaN  \n",
       "1        NaN  \n",
       "2        NaN  \n",
       "3        NaN  \n",
       "4        NaN  "
      ]
     },
     "execution_count": 45,
     "metadata": {},
     "output_type": "execute_result"
    }
   ],
   "source": [
    "roles_df = pd.read_csv('E:/JMAN/fp/DataEngineering/prep/prep_role.csv')\n",
    "role_mapping = dict(zip(roles_df['_id'], roles_df['name']))\n",
    "df['role_name'] = df['roleId'].map(role_mapping)\n",
    "df.head()"
   ]
  },
  {
   "cell_type": "code",
   "execution_count": 46,
   "metadata": {},
   "outputs": [
    {
     "data": {
      "text/html": [
       "<div>\n",
       "<style scoped>\n",
       "    .dataframe tbody tr th:only-of-type {\n",
       "        vertical-align: middle;\n",
       "    }\n",
       "\n",
       "    .dataframe tbody tr th {\n",
       "        vertical-align: top;\n",
       "    }\n",
       "\n",
       "    .dataframe thead th {\n",
       "        text-align: right;\n",
       "    }\n",
       "</style>\n",
       "<table border=\"1\" class=\"dataframe\">\n",
       "  <thead>\n",
       "    <tr style=\"text-align: right;\">\n",
       "      <th></th>\n",
       "      <th>roleId</th>\n",
       "      <th>skillId</th>\n",
       "      <th>name</th>\n",
       "      <th>role_name</th>\n",
       "      <th>skill_name</th>\n",
       "    </tr>\n",
       "  </thead>\n",
       "  <tbody>\n",
       "    <tr>\n",
       "      <th>0</th>\n",
       "      <td>Software Engineer</td>\n",
       "      <td>b2780056-9703-4c9a-91a2-f0a14dcac2a6</td>\n",
       "      <td>Java</td>\n",
       "      <td>NaN</td>\n",
       "      <td>Java</td>\n",
       "    </tr>\n",
       "    <tr>\n",
       "      <th>1</th>\n",
       "      <td>Software Engineer</td>\n",
       "      <td>733b90fc-9f19-4a81-bcf2-6250b683fc02</td>\n",
       "      <td>Python</td>\n",
       "      <td>NaN</td>\n",
       "      <td>Python</td>\n",
       "    </tr>\n",
       "    <tr>\n",
       "      <th>2</th>\n",
       "      <td>Software Engineer</td>\n",
       "      <td>f619c86e-f085-480f-978a-d86b945455a3</td>\n",
       "      <td>C#</td>\n",
       "      <td>NaN</td>\n",
       "      <td>C#</td>\n",
       "    </tr>\n",
       "    <tr>\n",
       "      <th>3</th>\n",
       "      <td>Software Engineer</td>\n",
       "      <td>014e1698-6d93-4bfb-a835-b77ad2271f08</td>\n",
       "      <td>JavaScript</td>\n",
       "      <td>NaN</td>\n",
       "      <td>JavaScript</td>\n",
       "    </tr>\n",
       "    <tr>\n",
       "      <th>4</th>\n",
       "      <td>Software Engineer</td>\n",
       "      <td>273d1c01-d465-4814-9406-443a480674d1</td>\n",
       "      <td>React</td>\n",
       "      <td>NaN</td>\n",
       "      <td>React</td>\n",
       "    </tr>\n",
       "  </tbody>\n",
       "</table>\n",
       "</div>"
      ],
      "text/plain": [
       "              roleId                               skillId        name  \\\n",
       "0  Software Engineer  b2780056-9703-4c9a-91a2-f0a14dcac2a6        Java   \n",
       "1  Software Engineer  733b90fc-9f19-4a81-bcf2-6250b683fc02      Python   \n",
       "2  Software Engineer  f619c86e-f085-480f-978a-d86b945455a3          C#   \n",
       "3  Software Engineer  014e1698-6d93-4bfb-a835-b77ad2271f08  JavaScript   \n",
       "4  Software Engineer  273d1c01-d465-4814-9406-443a480674d1       React   \n",
       "\n",
       "   role_name  skill_name  \n",
       "0        NaN        Java  \n",
       "1        NaN      Python  \n",
       "2        NaN          C#  \n",
       "3        NaN  JavaScript  \n",
       "4        NaN       React  "
      ]
     },
     "execution_count": 46,
     "metadata": {},
     "output_type": "execute_result"
    }
   ],
   "source": [
    "roles_df = pd.read_csv('E:/JMAN/fp/DataEngineering/prep/prep_skill.csv')\n",
    "# roles_df = pd.read_csv('E:/JMAN/fp/DataEngineering/prep/prep_skill.csv')\n",
    "role_mapping = dict(zip(roles_df['_id'], roles_df['name']))\n",
    "df['skill_name'] = df['skillId'].map(role_mapping)\n",
    "df.head()"
   ]
  },
  {
   "cell_type": "code",
   "execution_count": 47,
   "metadata": {},
   "outputs": [
    {
     "name": "stdout",
     "output_type": "stream",
     "text": [
      "Original dtypes:\n",
      "roleId         string\n",
      "skillId        string\n",
      "name           string\n",
      "role_name     float64\n",
      "skill_name     object\n",
      "dtype: object\n",
      "\n",
      "Converted dtypes:\n",
      "roleId        string\n",
      "skillId       string\n",
      "name          string\n",
      "role_name      Int64\n",
      "skill_name    string\n",
      "dtype: object\n"
     ]
    }
   ],
   "source": [
    "print(\"Original dtypes:\")\n",
    "print(df.dtypes)\n",
    "\n",
    "# Convert dtypes\n",
    "df=df.convert_dtypes()\n",
    "\n",
    "# Check new dtypes\n",
    "print(\"\\nConverted dtypes:\")\n",
    "print(df.convert_dtypes().dtypes)"
   ]
  },
  {
   "cell_type": "code",
   "execution_count": 48,
   "metadata": {},
   "outputs": [
    {
     "data": {
      "text/plain": [
       "(90, 5)"
      ]
     },
     "execution_count": 48,
     "metadata": {},
     "output_type": "execute_result"
    }
   ],
   "source": [
    "df.shape"
   ]
  },
  {
   "cell_type": "code",
   "execution_count": 49,
   "metadata": {},
   "outputs": [
    {
     "data": {
      "text/plain": [
       "roleId         0\n",
       "skillId        0\n",
       "name           0\n",
       "role_name     90\n",
       "skill_name     0\n",
       "dtype: int64"
      ]
     },
     "execution_count": 49,
     "metadata": {},
     "output_type": "execute_result"
    }
   ],
   "source": [
    "df.isnull().sum()"
   ]
  },
  {
   "cell_type": "code",
   "execution_count": 50,
   "metadata": {},
   "outputs": [],
   "source": [
    "df.dropna(inplace=True)"
   ]
  },
  {
   "cell_type": "code",
   "execution_count": 51,
   "metadata": {},
   "outputs": [
    {
     "data": {
      "text/plain": [
       "(0, 5)"
      ]
     },
     "execution_count": 51,
     "metadata": {},
     "output_type": "execute_result"
    }
   ],
   "source": [
    "df.shape"
   ]
  },
  {
   "cell_type": "code",
   "execution_count": 52,
   "metadata": {},
   "outputs": [],
   "source": [
    "# df.to_csv('E:/JMAN/fp/DataEngineering/prep/prep_role_skill.csv')\n",
    "df.to_csv('E:/JMAN/fp/DataEngineering/prep/prep_role_skill.csv')"
   ]
  },
  {
   "cell_type": "code",
   "execution_count": null,
   "metadata": {},
   "outputs": [],
   "source": []
  }
 ],
 "metadata": {
  "kernelspec": {
   "display_name": "base",
   "language": "python",
   "name": "python3"
  },
  "language_info": {
   "codemirror_mode": {
    "name": "ipython",
    "version": 3
   },
   "file_extension": ".py",
   "mimetype": "text/x-python",
   "name": "python",
   "nbconvert_exporter": "python",
   "pygments_lexer": "ipython3",
   "version": "3.9.7"
  }
 },
 "nbformat": 4,
 "nbformat_minor": 2
}
