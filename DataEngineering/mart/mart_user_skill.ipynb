{
 "cells": [
  {
   "cell_type": "code",
   "execution_count": 1,
   "metadata": {},
   "outputs": [],
   "source": [
    "import pandas as pd"
   ]
  },
  {
   "cell_type": "code",
   "execution_count": 2,
   "metadata": {},
   "outputs": [],
   "source": [
    "# user_csv=pd.read_csv('C:/Users/RithikHarendarMahesh/Desktop/fp/DataEngineering/prep/prep_user_certification.csv')\n",
    "user_csv=pd.read_csv('C:/Users/RithikHarendarMahesh/Desktop/fp/DataEngineering/prep/prep_user_skill.csv')\n"
   ]
  },
  {
   "cell_type": "code",
   "execution_count": 3,
   "metadata": {},
   "outputs": [],
   "source": [
    "df=pd.DataFrame(data=user_csv)"
   ]
  },
  {
   "cell_type": "code",
   "execution_count": 4,
   "metadata": {},
   "outputs": [
    {
     "data": {
      "text/plain": [
       "Unnamed: 0    0\n",
       "_id           0\n",
       "userId        0\n",
       "skillId       0\n",
       "score         0\n",
       "user_name     0\n",
       "skill_name    0\n",
       "dtype: int64"
      ]
     },
     "execution_count": 4,
     "metadata": {},
     "output_type": "execute_result"
    }
   ],
   "source": [
    "df.isnull().sum()"
   ]
  },
  {
   "cell_type": "code",
   "execution_count": 5,
   "metadata": {},
   "outputs": [],
   "source": [
    "df.dropna(inplace=True)"
   ]
  },
  {
   "cell_type": "code",
   "execution_count": 6,
   "metadata": {},
   "outputs": [],
   "source": [
    "df.drop_duplicates(inplace=True)"
   ]
  },
  {
   "cell_type": "code",
   "execution_count": 7,
   "metadata": {},
   "outputs": [
    {
     "data": {
      "text/plain": [
       "Unnamed: 0     int64\n",
       "_id           object\n",
       "userId        object\n",
       "skillId       object\n",
       "score          int64\n",
       "user_name     object\n",
       "skill_name    object\n",
       "dtype: object"
      ]
     },
     "execution_count": 7,
     "metadata": {},
     "output_type": "execute_result"
    }
   ],
   "source": [
    "df.dtypes"
   ]
  },
  {
   "cell_type": "code",
   "execution_count": 8,
   "metadata": {},
   "outputs": [
    {
     "name": "stdout",
     "output_type": "stream",
     "text": [
      "Original dtypes:\n",
      "Unnamed: 0     int64\n",
      "_id           object\n",
      "userId        object\n",
      "skillId       object\n",
      "score          int64\n",
      "user_name     object\n",
      "skill_name    object\n",
      "dtype: object\n",
      "\n",
      "Converted dtypes:\n",
      "Unnamed: 0             Int64\n",
      "_id           string[python]\n",
      "userId        string[python]\n",
      "skillId       string[python]\n",
      "score                  Int64\n",
      "user_name     string[python]\n",
      "skill_name    string[python]\n",
      "dtype: object\n"
     ]
    }
   ],
   "source": [
    "print(\"Original dtypes:\")\n",
    "print(df.dtypes)\n",
    "\n",
    "# Convert dtypes\n",
    "df=df.convert_dtypes()\n",
    "\n",
    "# Check new dtypes\n",
    "print(\"\\nConverted dtypes:\")\n",
    "print(df.convert_dtypes().dtypes)"
   ]
  },
  {
   "cell_type": "code",
   "execution_count": 9,
   "metadata": {},
   "outputs": [
    {
     "data": {
      "text/plain": [
       "Unnamed: 0             Int64\n",
       "_id           string[python]\n",
       "userId        string[python]\n",
       "skillId       string[python]\n",
       "score                  Int64\n",
       "user_name     string[python]\n",
       "skill_name    string[python]\n",
       "dtype: object"
      ]
     },
     "execution_count": 9,
     "metadata": {},
     "output_type": "execute_result"
    }
   ],
   "source": [
    "df.dtypes"
   ]
  },
  {
   "cell_type": "code",
   "execution_count": null,
   "metadata": {},
   "outputs": [],
   "source": []
  },
  {
   "cell_type": "code",
   "execution_count": 10,
   "metadata": {},
   "outputs": [
    {
     "data": {
      "text/html": [
       "<div>\n",
       "<style scoped>\n",
       "    .dataframe tbody tr th:only-of-type {\n",
       "        vertical-align: middle;\n",
       "    }\n",
       "\n",
       "    .dataframe tbody tr th {\n",
       "        vertical-align: top;\n",
       "    }\n",
       "\n",
       "    .dataframe thead th {\n",
       "        text-align: right;\n",
       "    }\n",
       "</style>\n",
       "<table border=\"1\" class=\"dataframe\">\n",
       "  <thead>\n",
       "    <tr style=\"text-align: right;\">\n",
       "      <th></th>\n",
       "      <th>Unnamed: 0</th>\n",
       "      <th>userId</th>\n",
       "      <th>total_duration</th>\n",
       "      <th>count</th>\n",
       "      <th>_id</th>\n",
       "      <th>name</th>\n",
       "      <th>role_id</th>\n",
       "      <th>joining_date</th>\n",
       "      <th>department</th>\n",
       "      <th>mail</th>\n",
       "      <th>created_at</th>\n",
       "      <th>updated_at</th>\n",
       "      <th>password</th>\n",
       "      <th>profileImage</th>\n",
       "      <th>role_name</th>\n",
       "    </tr>\n",
       "  </thead>\n",
       "  <tbody>\n",
       "    <tr>\n",
       "      <th>0</th>\n",
       "      <td>0</td>\n",
       "      <td>000493ff-7d6e-41a8-b96a-d1e11eb11a7b</td>\n",
       "      <td>198 days</td>\n",
       "      <td>5</td>\n",
       "      <td>000493ff-7d6e-41a8-b96a-d1e11eb11a7b</td>\n",
       "      <td>Tamara Fields</td>\n",
       "      <td>718675e9-24e9-451b-a6e1-586aef8d0afb</td>\n",
       "      <td>2023-10-22T19:07:19</td>\n",
       "      <td>DATA_ANALYTICS</td>\n",
       "      <td>williamgarcia@example.org</td>\n",
       "      <td>2022-11-18</td>\n",
       "      <td>2023-06-24</td>\n",
       "      <td>q)QX70ZuML</td>\n",
       "      <td>https://dummyimage.com/867x425</td>\n",
       "      <td>Product Manager</td>\n",
       "    </tr>\n",
       "    <tr>\n",
       "      <th>1</th>\n",
       "      <td>1</td>\n",
       "      <td>0006310b-e138-4643-9580-491639213d52</td>\n",
       "      <td>1405 days</td>\n",
       "      <td>5</td>\n",
       "      <td>0006310b-e138-4643-9580-491639213d52</td>\n",
       "      <td>Jeffrey Sparks</td>\n",
       "      <td>38bd1ab2-e630-4311-9128-7438fe171719</td>\n",
       "      <td>2023-07-25T15:52:32</td>\n",
       "      <td>DEVOPS</td>\n",
       "      <td>maciasdaniel@example.net</td>\n",
       "      <td>2020-11-17</td>\n",
       "      <td>2022-10-12</td>\n",
       "      <td>k4!RQdaj^2</td>\n",
       "      <td>https://placekitten.com/421/83</td>\n",
       "      <td>Machine Learning Engineer</td>\n",
       "    </tr>\n",
       "    <tr>\n",
       "      <th>2</th>\n",
       "      <td>2</td>\n",
       "      <td>0007d104-541e-4547-81c5-72c41a5ef087</td>\n",
       "      <td>614 days</td>\n",
       "      <td>5</td>\n",
       "      <td>0007d104-541e-4547-81c5-72c41a5ef087</td>\n",
       "      <td>Spencer Leonard</td>\n",
       "      <td>508bfd78-6401-40ad-bc4b-dade38d40352</td>\n",
       "      <td>2022-11-19T16:38:31</td>\n",
       "      <td>ADMIN</td>\n",
       "      <td>blackwelljoseph@example.com</td>\n",
       "      <td>2021-04-05</td>\n",
       "      <td>2024-04-30</td>\n",
       "      <td>*6V^tLnz+Y</td>\n",
       "      <td>https://dummyimage.com/254x741</td>\n",
       "      <td>Backend Developer</td>\n",
       "    </tr>\n",
       "    <tr>\n",
       "      <th>3</th>\n",
       "      <td>3</td>\n",
       "      <td>0007e8f0-2cd7-4084-960f-8e24912b92e9</td>\n",
       "      <td>1428 days</td>\n",
       "      <td>5</td>\n",
       "      <td>0007e8f0-2cd7-4084-960f-8e24912b92e9</td>\n",
       "      <td>Juan Sullivan</td>\n",
       "      <td>718675e9-24e9-451b-a6e1-586aef8d0afb</td>\n",
       "      <td>2021-12-01T10:10:30</td>\n",
       "      <td>FULL_STACK</td>\n",
       "      <td>roblesjason@example.org</td>\n",
       "      <td>2023-02-03</td>\n",
       "      <td>2021-05-03</td>\n",
       "      <td>@IM@Dc#+_0</td>\n",
       "      <td>https://dummyimage.com/622x814</td>\n",
       "      <td>Product Manager</td>\n",
       "    </tr>\n",
       "    <tr>\n",
       "      <th>4</th>\n",
       "      <td>4</td>\n",
       "      <td>000a8195-e0c3-4b5b-b7bf-4299e228c271</td>\n",
       "      <td>1288 days</td>\n",
       "      <td>5</td>\n",
       "      <td>000a8195-e0c3-4b5b-b7bf-4299e228c271</td>\n",
       "      <td>Robin Wiley</td>\n",
       "      <td>25886cc0-ab38-455b-a301-f739643e462d</td>\n",
       "      <td>2020-11-25T04:19:40</td>\n",
       "      <td>FULL_STACK</td>\n",
       "      <td>ashleyberry@example.com</td>\n",
       "      <td>2020-04-09</td>\n",
       "      <td>2023-02-05</td>\n",
       "      <td>@rs$uRlsk4</td>\n",
       "      <td>https://dummyimage.com/908x499</td>\n",
       "      <td>Software Engineer</td>\n",
       "    </tr>\n",
       "    <tr>\n",
       "      <th>...</th>\n",
       "      <td>...</td>\n",
       "      <td>...</td>\n",
       "      <td>...</td>\n",
       "      <td>...</td>\n",
       "      <td>...</td>\n",
       "      <td>...</td>\n",
       "      <td>...</td>\n",
       "      <td>...</td>\n",
       "      <td>...</td>\n",
       "      <td>...</td>\n",
       "      <td>...</td>\n",
       "      <td>...</td>\n",
       "      <td>...</td>\n",
       "      <td>...</td>\n",
       "      <td>...</td>\n",
       "    </tr>\n",
       "    <tr>\n",
       "      <th>29995</th>\n",
       "      <td>29995</td>\n",
       "      <td>fffa8640-8294-4a8f-a423-7529c7125cc8</td>\n",
       "      <td>128 days</td>\n",
       "      <td>5</td>\n",
       "      <td>fffa8640-8294-4a8f-a423-7529c7125cc8</td>\n",
       "      <td>Pam Hughes</td>\n",
       "      <td>90a9e49a-3fcc-494c-a3fa-1c5375311cbb</td>\n",
       "      <td>2022-12-31T17:51:37</td>\n",
       "      <td>FULL_STACK</td>\n",
       "      <td>thompsonbrandon@example.org</td>\n",
       "      <td>2020-12-11</td>\n",
       "      <td>2024-04-04</td>\n",
       "      <td>0@3+2VHea&amp;</td>\n",
       "      <td>https://picsum.photos/379/50</td>\n",
       "      <td>Technical Writer</td>\n",
       "    </tr>\n",
       "    <tr>\n",
       "      <th>29996</th>\n",
       "      <td>29996</td>\n",
       "      <td>fffb7680-2841-4284-b54f-890eacbe9eab</td>\n",
       "      <td>879 days</td>\n",
       "      <td>5</td>\n",
       "      <td>fffb7680-2841-4284-b54f-890eacbe9eab</td>\n",
       "      <td>Jessica Yu</td>\n",
       "      <td>90a9e49a-3fcc-494c-a3fa-1c5375311cbb</td>\n",
       "      <td>2021-08-16T02:41:16</td>\n",
       "      <td>OTHER</td>\n",
       "      <td>logan72@example.org</td>\n",
       "      <td>2023-12-05</td>\n",
       "      <td>2022-07-18</td>\n",
       "      <td>E9TQEyA#)s</td>\n",
       "      <td>https://picsum.photos/460/534</td>\n",
       "      <td>Technical Writer</td>\n",
       "    </tr>\n",
       "    <tr>\n",
       "      <th>29997</th>\n",
       "      <td>29997</td>\n",
       "      <td>fffbe46e-071d-4b61-9c09-c4d6e0cfee63</td>\n",
       "      <td>618 days</td>\n",
       "      <td>5</td>\n",
       "      <td>fffbe46e-071d-4b61-9c09-c4d6e0cfee63</td>\n",
       "      <td>Paul Young</td>\n",
       "      <td>ad2e313d-73d0-4c14-a406-93f3ca78ef0d</td>\n",
       "      <td>2020-07-18T05:42:12</td>\n",
       "      <td>FULL_STACK</td>\n",
       "      <td>prestonmcknight@example.net</td>\n",
       "      <td>2024-08-14</td>\n",
       "      <td>2021-01-13</td>\n",
       "      <td>^YWU5SEos_</td>\n",
       "      <td>https://placekitten.com/702/895</td>\n",
       "      <td>Business Analyst</td>\n",
       "    </tr>\n",
       "    <tr>\n",
       "      <th>29998</th>\n",
       "      <td>29998</td>\n",
       "      <td>fffe0dfa-f20b-4e08-bba2-a22ba71f3d19</td>\n",
       "      <td>1062 days</td>\n",
       "      <td>5</td>\n",
       "      <td>fffe0dfa-f20b-4e08-bba2-a22ba71f3d19</td>\n",
       "      <td>Nancy Douglas</td>\n",
       "      <td>508bfd78-6401-40ad-bc4b-dade38d40352</td>\n",
       "      <td>2023-09-22T15:19:07</td>\n",
       "      <td>ADMIN</td>\n",
       "      <td>nmcdaniel@example.net</td>\n",
       "      <td>2021-11-30</td>\n",
       "      <td>2023-09-21</td>\n",
       "      <td>A+91Fg9K^D</td>\n",
       "      <td>https://picsum.photos/179/4</td>\n",
       "      <td>Backend Developer</td>\n",
       "    </tr>\n",
       "    <tr>\n",
       "      <th>29999</th>\n",
       "      <td>29999</td>\n",
       "      <td>ffff9f64-e7bb-49a7-ba11-ecd5b30c1695</td>\n",
       "      <td>326 days</td>\n",
       "      <td>5</td>\n",
       "      <td>ffff9f64-e7bb-49a7-ba11-ecd5b30c1695</td>\n",
       "      <td>Julie Miller</td>\n",
       "      <td>beb050bc-b355-4fa1-bb53-006eea46a697</td>\n",
       "      <td>2023-11-29T14:49:25</td>\n",
       "      <td>OTHER</td>\n",
       "      <td>stonesheri@example.org</td>\n",
       "      <td>2020-10-18</td>\n",
       "      <td>2020-03-08</td>\n",
       "      <td>#6bKtfYcnt</td>\n",
       "      <td>https://dummyimage.com/254x798</td>\n",
       "      <td>Quality Assurance Engineer</td>\n",
       "    </tr>\n",
       "  </tbody>\n",
       "</table>\n",
       "<p>30000 rows × 15 columns</p>\n",
       "</div>"
      ],
      "text/plain": [
       "       Unnamed: 0                                userId total_duration  count  \\\n",
       "0               0  000493ff-7d6e-41a8-b96a-d1e11eb11a7b       198 days      5   \n",
       "1               1  0006310b-e138-4643-9580-491639213d52      1405 days      5   \n",
       "2               2  0007d104-541e-4547-81c5-72c41a5ef087       614 days      5   \n",
       "3               3  0007e8f0-2cd7-4084-960f-8e24912b92e9      1428 days      5   \n",
       "4               4  000a8195-e0c3-4b5b-b7bf-4299e228c271      1288 days      5   \n",
       "...           ...                                   ...            ...    ...   \n",
       "29995       29995  fffa8640-8294-4a8f-a423-7529c7125cc8       128 days      5   \n",
       "29996       29996  fffb7680-2841-4284-b54f-890eacbe9eab       879 days      5   \n",
       "29997       29997  fffbe46e-071d-4b61-9c09-c4d6e0cfee63       618 days      5   \n",
       "29998       29998  fffe0dfa-f20b-4e08-bba2-a22ba71f3d19      1062 days      5   \n",
       "29999       29999  ffff9f64-e7bb-49a7-ba11-ecd5b30c1695       326 days      5   \n",
       "\n",
       "                                        _id             name  \\\n",
       "0      000493ff-7d6e-41a8-b96a-d1e11eb11a7b    Tamara Fields   \n",
       "1      0006310b-e138-4643-9580-491639213d52   Jeffrey Sparks   \n",
       "2      0007d104-541e-4547-81c5-72c41a5ef087  Spencer Leonard   \n",
       "3      0007e8f0-2cd7-4084-960f-8e24912b92e9    Juan Sullivan   \n",
       "4      000a8195-e0c3-4b5b-b7bf-4299e228c271      Robin Wiley   \n",
       "...                                     ...              ...   \n",
       "29995  fffa8640-8294-4a8f-a423-7529c7125cc8       Pam Hughes   \n",
       "29996  fffb7680-2841-4284-b54f-890eacbe9eab       Jessica Yu   \n",
       "29997  fffbe46e-071d-4b61-9c09-c4d6e0cfee63       Paul Young   \n",
       "29998  fffe0dfa-f20b-4e08-bba2-a22ba71f3d19    Nancy Douglas   \n",
       "29999  ffff9f64-e7bb-49a7-ba11-ecd5b30c1695     Julie Miller   \n",
       "\n",
       "                                    role_id         joining_date  \\\n",
       "0      718675e9-24e9-451b-a6e1-586aef8d0afb  2023-10-22T19:07:19   \n",
       "1      38bd1ab2-e630-4311-9128-7438fe171719  2023-07-25T15:52:32   \n",
       "2      508bfd78-6401-40ad-bc4b-dade38d40352  2022-11-19T16:38:31   \n",
       "3      718675e9-24e9-451b-a6e1-586aef8d0afb  2021-12-01T10:10:30   \n",
       "4      25886cc0-ab38-455b-a301-f739643e462d  2020-11-25T04:19:40   \n",
       "...                                     ...                  ...   \n",
       "29995  90a9e49a-3fcc-494c-a3fa-1c5375311cbb  2022-12-31T17:51:37   \n",
       "29996  90a9e49a-3fcc-494c-a3fa-1c5375311cbb  2021-08-16T02:41:16   \n",
       "29997  ad2e313d-73d0-4c14-a406-93f3ca78ef0d  2020-07-18T05:42:12   \n",
       "29998  508bfd78-6401-40ad-bc4b-dade38d40352  2023-09-22T15:19:07   \n",
       "29999  beb050bc-b355-4fa1-bb53-006eea46a697  2023-11-29T14:49:25   \n",
       "\n",
       "           department                         mail  created_at  updated_at  \\\n",
       "0      DATA_ANALYTICS    williamgarcia@example.org  2022-11-18  2023-06-24   \n",
       "1              DEVOPS     maciasdaniel@example.net  2020-11-17  2022-10-12   \n",
       "2               ADMIN  blackwelljoseph@example.com  2021-04-05  2024-04-30   \n",
       "3          FULL_STACK      roblesjason@example.org  2023-02-03  2021-05-03   \n",
       "4          FULL_STACK      ashleyberry@example.com  2020-04-09  2023-02-05   \n",
       "...               ...                          ...         ...         ...   \n",
       "29995      FULL_STACK  thompsonbrandon@example.org  2020-12-11  2024-04-04   \n",
       "29996           OTHER          logan72@example.org  2023-12-05  2022-07-18   \n",
       "29997      FULL_STACK  prestonmcknight@example.net  2024-08-14  2021-01-13   \n",
       "29998           ADMIN        nmcdaniel@example.net  2021-11-30  2023-09-21   \n",
       "29999           OTHER       stonesheri@example.org  2020-10-18  2020-03-08   \n",
       "\n",
       "         password                     profileImage                   role_name  \n",
       "0      q)QX70ZuML   https://dummyimage.com/867x425             Product Manager  \n",
       "1      k4!RQdaj^2   https://placekitten.com/421/83   Machine Learning Engineer  \n",
       "2      *6V^tLnz+Y   https://dummyimage.com/254x741           Backend Developer  \n",
       "3      @IM@Dc#+_0   https://dummyimage.com/622x814             Product Manager  \n",
       "4      @rs$uRlsk4   https://dummyimage.com/908x499           Software Engineer  \n",
       "...           ...                              ...                         ...  \n",
       "29995  0@3+2VHea&     https://picsum.photos/379/50            Technical Writer  \n",
       "29996  E9TQEyA#)s    https://picsum.photos/460/534            Technical Writer  \n",
       "29997  ^YWU5SEos_  https://placekitten.com/702/895            Business Analyst  \n",
       "29998  A+91Fg9K^D      https://picsum.photos/179/4           Backend Developer  \n",
       "29999  #6bKtfYcnt   https://dummyimage.com/254x798  Quality Assurance Engineer  \n",
       "\n",
       "[30000 rows x 15 columns]"
      ]
     },
     "execution_count": 10,
     "metadata": {},
     "output_type": "execute_result"
    }
   ],
   "source": [
    "# roles_df = pd.read_csv('C:/Users/RithikHarendarMahesh/Desktop/fp/DataEngineering/prep/prep_user.csv')\n",
    "roles_df = pd.read_csv('C:/Users/RithikHarendarMahesh/Desktop/fp/DataEngineering/prep/prep_user.csv')\n",
    "roles_df"
   ]
  },
  {
   "cell_type": "code",
   "execution_count": 11,
   "metadata": {},
   "outputs": [
    {
     "data": {
      "text/plain": [
       "(30000, 15)"
      ]
     },
     "execution_count": 11,
     "metadata": {},
     "output_type": "execute_result"
    }
   ],
   "source": [
    "roles_df.shape"
   ]
  },
  {
   "cell_type": "code",
   "execution_count": 12,
   "metadata": {},
   "outputs": [
    {
     "data": {
      "text/plain": [
       "(300000, 7)"
      ]
     },
     "execution_count": 12,
     "metadata": {},
     "output_type": "execute_result"
    }
   ],
   "source": [
    "df.shape"
   ]
  },
  {
   "cell_type": "code",
   "execution_count": 13,
   "metadata": {},
   "outputs": [
    {
     "data": {
      "text/plain": [
       "Unnamed: 0    0\n",
       "_id           0\n",
       "userId        0\n",
       "skillId       0\n",
       "score         0\n",
       "user_name     0\n",
       "skill_name    0\n",
       "dtype: int64"
      ]
     },
     "execution_count": 13,
     "metadata": {},
     "output_type": "execute_result"
    }
   ],
   "source": [
    "df.isnull().sum()"
   ]
  },
  {
   "cell_type": "code",
   "execution_count": 14,
   "metadata": {},
   "outputs": [],
   "source": [
    "\n",
    "merged_df=pd.merge(df,roles_df,left_on='userId',right_on='_id',how='inner')\n",
    "df=merged_df\n"
   ]
  },
  {
   "cell_type": "code",
   "execution_count": 15,
   "metadata": {},
   "outputs": [
    {
     "data": {
      "text/plain": [
       "(300000, 22)"
      ]
     },
     "execution_count": 15,
     "metadata": {},
     "output_type": "execute_result"
    }
   ],
   "source": [
    "df.shape"
   ]
  },
  {
   "cell_type": "code",
   "execution_count": 16,
   "metadata": {},
   "outputs": [
    {
     "data": {
      "text/html": [
       "<div>\n",
       "<style scoped>\n",
       "    .dataframe tbody tr th:only-of-type {\n",
       "        vertical-align: middle;\n",
       "    }\n",
       "\n",
       "    .dataframe tbody tr th {\n",
       "        vertical-align: top;\n",
       "    }\n",
       "\n",
       "    .dataframe thead th {\n",
       "        text-align: right;\n",
       "    }\n",
       "</style>\n",
       "<table border=\"1\" class=\"dataframe\">\n",
       "  <thead>\n",
       "    <tr style=\"text-align: right;\">\n",
       "      <th></th>\n",
       "      <th>Unnamed: 0</th>\n",
       "      <th>_id</th>\n",
       "      <th>name</th>\n",
       "      <th>created_at</th>\n",
       "      <th>updated_at</th>\n",
       "      <th>desc</th>\n",
       "      <th>skillId</th>\n",
       "      <th>user_count</th>\n",
       "    </tr>\n",
       "  </thead>\n",
       "  <tbody>\n",
       "    <tr>\n",
       "      <th>0</th>\n",
       "      <td>0</td>\n",
       "      <td>a4e275cc-e486-4c7c-9f7b-c40d068966f0</td>\n",
       "      <td>Java</td>\n",
       "      <td>2022-06-20</td>\n",
       "      <td>2024-06-28</td>\n",
       "      <td>Java</td>\n",
       "      <td>a4e275cc-e486-4c7c-9f7b-c40d068966f0</td>\n",
       "      <td>2013</td>\n",
       "    </tr>\n",
       "    <tr>\n",
       "      <th>1</th>\n",
       "      <td>1</td>\n",
       "      <td>3d63d298-7c3b-4c64-bc19-dc68acc7e2a4</td>\n",
       "      <td>Python</td>\n",
       "      <td>2024-03-06</td>\n",
       "      <td>2023-08-11</td>\n",
       "      <td>Python</td>\n",
       "      <td>3d63d298-7c3b-4c64-bc19-dc68acc7e2a4</td>\n",
       "      <td>2021</td>\n",
       "    </tr>\n",
       "    <tr>\n",
       "      <th>2</th>\n",
       "      <td>2</td>\n",
       "      <td>d48397d3-9242-4251-bb47-f5af84fe7a43</td>\n",
       "      <td>C#</td>\n",
       "      <td>2024-02-13</td>\n",
       "      <td>2020-12-13</td>\n",
       "      <td>C#</td>\n",
       "      <td>d48397d3-9242-4251-bb47-f5af84fe7a43</td>\n",
       "      <td>1995</td>\n",
       "    </tr>\n",
       "    <tr>\n",
       "      <th>3</th>\n",
       "      <td>3</td>\n",
       "      <td>78c73ebf-f75f-4532-b441-3a7aeabae391</td>\n",
       "      <td>JavaScript</td>\n",
       "      <td>2021-01-22</td>\n",
       "      <td>2022-02-17</td>\n",
       "      <td>JavaScript</td>\n",
       "      <td>78c73ebf-f75f-4532-b441-3a7aeabae391</td>\n",
       "      <td>2045</td>\n",
       "    </tr>\n",
       "    <tr>\n",
       "      <th>4</th>\n",
       "      <td>4</td>\n",
       "      <td>1a39e0ee-e002-4c8d-9a8a-11e50c08c8de</td>\n",
       "      <td>React</td>\n",
       "      <td>2020-10-04</td>\n",
       "      <td>2021-03-25</td>\n",
       "      <td>React</td>\n",
       "      <td>1a39e0ee-e002-4c8d-9a8a-11e50c08c8de</td>\n",
       "      <td>2030</td>\n",
       "    </tr>\n",
       "  </tbody>\n",
       "</table>\n",
       "</div>"
      ],
      "text/plain": [
       "   Unnamed: 0                                   _id        name  created_at  \\\n",
       "0           0  a4e275cc-e486-4c7c-9f7b-c40d068966f0        Java  2022-06-20   \n",
       "1           1  3d63d298-7c3b-4c64-bc19-dc68acc7e2a4      Python  2024-03-06   \n",
       "2           2  d48397d3-9242-4251-bb47-f5af84fe7a43          C#  2024-02-13   \n",
       "3           3  78c73ebf-f75f-4532-b441-3a7aeabae391  JavaScript  2021-01-22   \n",
       "4           4  1a39e0ee-e002-4c8d-9a8a-11e50c08c8de       React  2020-10-04   \n",
       "\n",
       "   updated_at        desc                               skillId  user_count  \n",
       "0  2024-06-28        Java  a4e275cc-e486-4c7c-9f7b-c40d068966f0        2013  \n",
       "1  2023-08-11      Python  3d63d298-7c3b-4c64-bc19-dc68acc7e2a4        2021  \n",
       "2  2020-12-13          C#  d48397d3-9242-4251-bb47-f5af84fe7a43        1995  \n",
       "3  2022-02-17  JavaScript  78c73ebf-f75f-4532-b441-3a7aeabae391        2045  \n",
       "4  2021-03-25       React  1a39e0ee-e002-4c8d-9a8a-11e50c08c8de        2030  "
      ]
     },
     "execution_count": 16,
     "metadata": {},
     "output_type": "execute_result"
    }
   ],
   "source": [
    "# roles_df = pd.read_csv('C:/Users/RithikHarendarMahesh/Desktop/fp/DataEngineering/prep/prep_certification.csv')\n",
    "roles_df = pd.read_csv('C:/Users/RithikHarendarMahesh/Desktop/fp/DataEngineering/prep/prep_skill.csv')\n",
    "roles_df.head()"
   ]
  },
  {
   "cell_type": "code",
   "execution_count": 17,
   "metadata": {},
   "outputs": [
    {
     "data": {
      "text/plain": [
       "Unnamed: 0_x      0\n",
       "_id_x             0\n",
       "userId_x          0\n",
       "skillId           0\n",
       "score             0\n",
       "user_name         0\n",
       "skill_name        0\n",
       "Unnamed: 0_y      0\n",
       "userId_y          0\n",
       "total_duration    0\n",
       "count             0\n",
       "_id_y             0\n",
       "name              0\n",
       "role_id           0\n",
       "joining_date      0\n",
       "department        0\n",
       "mail              0\n",
       "created_at        0\n",
       "updated_at        0\n",
       "password          0\n",
       "profileImage      0\n",
       "role_name         0\n",
       "dtype: int64"
      ]
     },
     "execution_count": 17,
     "metadata": {},
     "output_type": "execute_result"
    }
   ],
   "source": [
    "df.isnull().sum()"
   ]
  },
  {
   "cell_type": "code",
   "execution_count": 18,
   "metadata": {},
   "outputs": [],
   "source": [
    "df.drop(['_id_y','userId_y',],inplace=True,axis=1)"
   ]
  },
  {
   "cell_type": "code",
   "execution_count": 19,
   "metadata": {},
   "outputs": [
    {
     "data": {
      "text/plain": [
       "(300000, 20)"
      ]
     },
     "execution_count": 19,
     "metadata": {},
     "output_type": "execute_result"
    }
   ],
   "source": [
    "df.shape"
   ]
  },
  {
   "cell_type": "code",
   "execution_count": 20,
   "metadata": {},
   "outputs": [],
   "source": [
    "df.drop(['Unnamed: 0_y','Unnamed: 0_x',],inplace=True,axis=1)"
   ]
  },
  {
   "cell_type": "code",
   "execution_count": 21,
   "metadata": {},
   "outputs": [
    {
     "data": {
      "text/html": [
       "<div>\n",
       "<style scoped>\n",
       "    .dataframe tbody tr th:only-of-type {\n",
       "        vertical-align: middle;\n",
       "    }\n",
       "\n",
       "    .dataframe tbody tr th {\n",
       "        vertical-align: top;\n",
       "    }\n",
       "\n",
       "    .dataframe thead th {\n",
       "        text-align: right;\n",
       "    }\n",
       "</style>\n",
       "<table border=\"1\" class=\"dataframe\">\n",
       "  <thead>\n",
       "    <tr style=\"text-align: right;\">\n",
       "      <th></th>\n",
       "      <th>_id</th>\n",
       "      <th>userId</th>\n",
       "      <th>skillId</th>\n",
       "      <th>score</th>\n",
       "      <th>user_name</th>\n",
       "      <th>skill_name</th>\n",
       "      <th>total_duration</th>\n",
       "      <th>count</th>\n",
       "      <th>name</th>\n",
       "      <th>role_id</th>\n",
       "      <th>joining_date</th>\n",
       "      <th>department</th>\n",
       "      <th>mail</th>\n",
       "      <th>created_at</th>\n",
       "      <th>updated_at</th>\n",
       "      <th>password</th>\n",
       "      <th>profileImage</th>\n",
       "      <th>role_name</th>\n",
       "    </tr>\n",
       "  </thead>\n",
       "  <tbody>\n",
       "    <tr>\n",
       "      <th>0</th>\n",
       "      <td>a9b18a7b-85c1-4762-964f-d2a26add7d5f</td>\n",
       "      <td>06bdb594-fb32-4612-9f5f-b381ccbfc9a5</td>\n",
       "      <td>2589b8ee-c39c-47d2-bcac-e565a069a7dc</td>\n",
       "      <td>41</td>\n",
       "      <td>Jonathan King</td>\n",
       "      <td>Cloud Security</td>\n",
       "      <td>1366 days</td>\n",
       "      <td>5</td>\n",
       "      <td>Jonathan King</td>\n",
       "      <td>25886cc0-ab38-455b-a301-f739643e462d</td>\n",
       "      <td>2021-08-07T21:52:59</td>\n",
       "      <td>ADMIN</td>\n",
       "      <td>slee@example.net</td>\n",
       "      <td>2020-07-11</td>\n",
       "      <td>2021-03-18</td>\n",
       "      <td>0&amp;^u3SZ!td</td>\n",
       "      <td>https://placekitten.com/397/1014</td>\n",
       "      <td>Software Engineer</td>\n",
       "    </tr>\n",
       "    <tr>\n",
       "      <th>1</th>\n",
       "      <td>34423a3f-b35c-4459-9738-78c4d2505049</td>\n",
       "      <td>06bdb594-fb32-4612-9f5f-b381ccbfc9a5</td>\n",
       "      <td>cf4801b6-76e9-4b22-9290-9173d711a185</td>\n",
       "      <td>87</td>\n",
       "      <td>Jonathan King</td>\n",
       "      <td>Deep Learning</td>\n",
       "      <td>1366 days</td>\n",
       "      <td>5</td>\n",
       "      <td>Jonathan King</td>\n",
       "      <td>25886cc0-ab38-455b-a301-f739643e462d</td>\n",
       "      <td>2021-08-07T21:52:59</td>\n",
       "      <td>ADMIN</td>\n",
       "      <td>slee@example.net</td>\n",
       "      <td>2020-07-11</td>\n",
       "      <td>2021-03-18</td>\n",
       "      <td>0&amp;^u3SZ!td</td>\n",
       "      <td>https://placekitten.com/397/1014</td>\n",
       "      <td>Software Engineer</td>\n",
       "    </tr>\n",
       "    <tr>\n",
       "      <th>2</th>\n",
       "      <td>dcc90d79-f07e-43d0-93e9-8e1dcb108867</td>\n",
       "      <td>06bdb594-fb32-4612-9f5f-b381ccbfc9a5</td>\n",
       "      <td>c111b0b2-8eeb-43df-a3ac-82ee700d64d2</td>\n",
       "      <td>13</td>\n",
       "      <td>Jonathan King</td>\n",
       "      <td>Serverless Architectures</td>\n",
       "      <td>1366 days</td>\n",
       "      <td>5</td>\n",
       "      <td>Jonathan King</td>\n",
       "      <td>25886cc0-ab38-455b-a301-f739643e462d</td>\n",
       "      <td>2021-08-07T21:52:59</td>\n",
       "      <td>ADMIN</td>\n",
       "      <td>slee@example.net</td>\n",
       "      <td>2020-07-11</td>\n",
       "      <td>2021-03-18</td>\n",
       "      <td>0&amp;^u3SZ!td</td>\n",
       "      <td>https://placekitten.com/397/1014</td>\n",
       "      <td>Software Engineer</td>\n",
       "    </tr>\n",
       "    <tr>\n",
       "      <th>3</th>\n",
       "      <td>0e33d968-01f6-46fb-b4fa-1a4e14202f2e</td>\n",
       "      <td>06bdb594-fb32-4612-9f5f-b381ccbfc9a5</td>\n",
       "      <td>8ebdb0e5-8295-4453-a1da-a1eae233ed83</td>\n",
       "      <td>53</td>\n",
       "      <td>Jonathan King</td>\n",
       "      <td>Design Systems</td>\n",
       "      <td>1366 days</td>\n",
       "      <td>5</td>\n",
       "      <td>Jonathan King</td>\n",
       "      <td>25886cc0-ab38-455b-a301-f739643e462d</td>\n",
       "      <td>2021-08-07T21:52:59</td>\n",
       "      <td>ADMIN</td>\n",
       "      <td>slee@example.net</td>\n",
       "      <td>2020-07-11</td>\n",
       "      <td>2021-03-18</td>\n",
       "      <td>0&amp;^u3SZ!td</td>\n",
       "      <td>https://placekitten.com/397/1014</td>\n",
       "      <td>Software Engineer</td>\n",
       "    </tr>\n",
       "    <tr>\n",
       "      <th>4</th>\n",
       "      <td>c7a3f07b-1f4a-45a8-ae75-5833398faf89</td>\n",
       "      <td>06bdb594-fb32-4612-9f5f-b381ccbfc9a5</td>\n",
       "      <td>25807973-e3bb-43f1-8f4a-8183e0dc0171</td>\n",
       "      <td>96</td>\n",
       "      <td>Jonathan King</td>\n",
       "      <td>Networking</td>\n",
       "      <td>1366 days</td>\n",
       "      <td>5</td>\n",
       "      <td>Jonathan King</td>\n",
       "      <td>25886cc0-ab38-455b-a301-f739643e462d</td>\n",
       "      <td>2021-08-07T21:52:59</td>\n",
       "      <td>ADMIN</td>\n",
       "      <td>slee@example.net</td>\n",
       "      <td>2020-07-11</td>\n",
       "      <td>2021-03-18</td>\n",
       "      <td>0&amp;^u3SZ!td</td>\n",
       "      <td>https://placekitten.com/397/1014</td>\n",
       "      <td>Software Engineer</td>\n",
       "    </tr>\n",
       "    <tr>\n",
       "      <th>...</th>\n",
       "      <td>...</td>\n",
       "      <td>...</td>\n",
       "      <td>...</td>\n",
       "      <td>...</td>\n",
       "      <td>...</td>\n",
       "      <td>...</td>\n",
       "      <td>...</td>\n",
       "      <td>...</td>\n",
       "      <td>...</td>\n",
       "      <td>...</td>\n",
       "      <td>...</td>\n",
       "      <td>...</td>\n",
       "      <td>...</td>\n",
       "      <td>...</td>\n",
       "      <td>...</td>\n",
       "      <td>...</td>\n",
       "      <td>...</td>\n",
       "      <td>...</td>\n",
       "    </tr>\n",
       "    <tr>\n",
       "      <th>299995</th>\n",
       "      <td>d3dba183-7ac3-41ba-90e9-4541648a2c3e</td>\n",
       "      <td>a353557c-7f71-4344-b479-177e4279112e</td>\n",
       "      <td>c1491f2c-a400-48e8-bb13-dab12c42f259</td>\n",
       "      <td>19</td>\n",
       "      <td>Courtney Martin</td>\n",
       "      <td>Version Control/Git</td>\n",
       "      <td>186 days</td>\n",
       "      <td>5</td>\n",
       "      <td>Courtney Martin</td>\n",
       "      <td>90a9e49a-3fcc-494c-a3fa-1c5375311cbb</td>\n",
       "      <td>2020-02-20T10:57:18</td>\n",
       "      <td>FULL_STACK</td>\n",
       "      <td>adamsjoseph@example.org</td>\n",
       "      <td>2020-09-09</td>\n",
       "      <td>2024-06-24</td>\n",
       "      <td>&amp;6&amp;0KsXEai</td>\n",
       "      <td>https://dummyimage.com/465x433</td>\n",
       "      <td>Technical Writer</td>\n",
       "    </tr>\n",
       "    <tr>\n",
       "      <th>299996</th>\n",
       "      <td>b10fd8da-b3de-40da-9e18-1663e8899055</td>\n",
       "      <td>a353557c-7f71-4344-b479-177e4279112e</td>\n",
       "      <td>d0fe1f5f-281f-4e10-9cfb-4142d203a7a4</td>\n",
       "      <td>73</td>\n",
       "      <td>Courtney Martin</td>\n",
       "      <td>Python</td>\n",
       "      <td>186 days</td>\n",
       "      <td>5</td>\n",
       "      <td>Courtney Martin</td>\n",
       "      <td>90a9e49a-3fcc-494c-a3fa-1c5375311cbb</td>\n",
       "      <td>2020-02-20T10:57:18</td>\n",
       "      <td>FULL_STACK</td>\n",
       "      <td>adamsjoseph@example.org</td>\n",
       "      <td>2020-09-09</td>\n",
       "      <td>2024-06-24</td>\n",
       "      <td>&amp;6&amp;0KsXEai</td>\n",
       "      <td>https://dummyimage.com/465x433</td>\n",
       "      <td>Technical Writer</td>\n",
       "    </tr>\n",
       "    <tr>\n",
       "      <th>299997</th>\n",
       "      <td>a172d326-9b21-4cba-9e78-3a8d0a5015a9</td>\n",
       "      <td>a353557c-7f71-4344-b479-177e4279112e</td>\n",
       "      <td>3d63d298-7c3b-4c64-bc19-dc68acc7e2a4</td>\n",
       "      <td>96</td>\n",
       "      <td>Courtney Martin</td>\n",
       "      <td>Python</td>\n",
       "      <td>186 days</td>\n",
       "      <td>5</td>\n",
       "      <td>Courtney Martin</td>\n",
       "      <td>90a9e49a-3fcc-494c-a3fa-1c5375311cbb</td>\n",
       "      <td>2020-02-20T10:57:18</td>\n",
       "      <td>FULL_STACK</td>\n",
       "      <td>adamsjoseph@example.org</td>\n",
       "      <td>2020-09-09</td>\n",
       "      <td>2024-06-24</td>\n",
       "      <td>&amp;6&amp;0KsXEai</td>\n",
       "      <td>https://dummyimage.com/465x433</td>\n",
       "      <td>Technical Writer</td>\n",
       "    </tr>\n",
       "    <tr>\n",
       "      <th>299998</th>\n",
       "      <td>d9fc6381-2d82-4ca7-a654-f7642f3d57d0</td>\n",
       "      <td>a353557c-7f71-4344-b479-177e4279112e</td>\n",
       "      <td>08067270-979f-45d9-ba1b-47aa9e2af0e2</td>\n",
       "      <td>88</td>\n",
       "      <td>Courtney Martin</td>\n",
       "      <td>CI/CD</td>\n",
       "      <td>186 days</td>\n",
       "      <td>5</td>\n",
       "      <td>Courtney Martin</td>\n",
       "      <td>90a9e49a-3fcc-494c-a3fa-1c5375311cbb</td>\n",
       "      <td>2020-02-20T10:57:18</td>\n",
       "      <td>FULL_STACK</td>\n",
       "      <td>adamsjoseph@example.org</td>\n",
       "      <td>2020-09-09</td>\n",
       "      <td>2024-06-24</td>\n",
       "      <td>&amp;6&amp;0KsXEai</td>\n",
       "      <td>https://dummyimage.com/465x433</td>\n",
       "      <td>Technical Writer</td>\n",
       "    </tr>\n",
       "    <tr>\n",
       "      <th>299999</th>\n",
       "      <td>c4a90379-2a53-40f6-bd4e-0b316e44d071</td>\n",
       "      <td>a353557c-7f71-4344-b479-177e4279112e</td>\n",
       "      <td>9bf474a3-c39f-4d0b-b06e-bc3c911d82a8</td>\n",
       "      <td>87</td>\n",
       "      <td>Courtney Martin</td>\n",
       "      <td>Stakeholder Management</td>\n",
       "      <td>186 days</td>\n",
       "      <td>5</td>\n",
       "      <td>Courtney Martin</td>\n",
       "      <td>90a9e49a-3fcc-494c-a3fa-1c5375311cbb</td>\n",
       "      <td>2020-02-20T10:57:18</td>\n",
       "      <td>FULL_STACK</td>\n",
       "      <td>adamsjoseph@example.org</td>\n",
       "      <td>2020-09-09</td>\n",
       "      <td>2024-06-24</td>\n",
       "      <td>&amp;6&amp;0KsXEai</td>\n",
       "      <td>https://dummyimage.com/465x433</td>\n",
       "      <td>Technical Writer</td>\n",
       "    </tr>\n",
       "  </tbody>\n",
       "</table>\n",
       "<p>300000 rows × 18 columns</p>\n",
       "</div>"
      ],
      "text/plain": [
       "                                         _id  \\\n",
       "0       a9b18a7b-85c1-4762-964f-d2a26add7d5f   \n",
       "1       34423a3f-b35c-4459-9738-78c4d2505049   \n",
       "2       dcc90d79-f07e-43d0-93e9-8e1dcb108867   \n",
       "3       0e33d968-01f6-46fb-b4fa-1a4e14202f2e   \n",
       "4       c7a3f07b-1f4a-45a8-ae75-5833398faf89   \n",
       "...                                      ...   \n",
       "299995  d3dba183-7ac3-41ba-90e9-4541648a2c3e   \n",
       "299996  b10fd8da-b3de-40da-9e18-1663e8899055   \n",
       "299997  a172d326-9b21-4cba-9e78-3a8d0a5015a9   \n",
       "299998  d9fc6381-2d82-4ca7-a654-f7642f3d57d0   \n",
       "299999  c4a90379-2a53-40f6-bd4e-0b316e44d071   \n",
       "\n",
       "                                      userId  \\\n",
       "0       06bdb594-fb32-4612-9f5f-b381ccbfc9a5   \n",
       "1       06bdb594-fb32-4612-9f5f-b381ccbfc9a5   \n",
       "2       06bdb594-fb32-4612-9f5f-b381ccbfc9a5   \n",
       "3       06bdb594-fb32-4612-9f5f-b381ccbfc9a5   \n",
       "4       06bdb594-fb32-4612-9f5f-b381ccbfc9a5   \n",
       "...                                      ...   \n",
       "299995  a353557c-7f71-4344-b479-177e4279112e   \n",
       "299996  a353557c-7f71-4344-b479-177e4279112e   \n",
       "299997  a353557c-7f71-4344-b479-177e4279112e   \n",
       "299998  a353557c-7f71-4344-b479-177e4279112e   \n",
       "299999  a353557c-7f71-4344-b479-177e4279112e   \n",
       "\n",
       "                                     skillId  score        user_name  \\\n",
       "0       2589b8ee-c39c-47d2-bcac-e565a069a7dc     41    Jonathan King   \n",
       "1       cf4801b6-76e9-4b22-9290-9173d711a185     87    Jonathan King   \n",
       "2       c111b0b2-8eeb-43df-a3ac-82ee700d64d2     13    Jonathan King   \n",
       "3       8ebdb0e5-8295-4453-a1da-a1eae233ed83     53    Jonathan King   \n",
       "4       25807973-e3bb-43f1-8f4a-8183e0dc0171     96    Jonathan King   \n",
       "...                                      ...    ...              ...   \n",
       "299995  c1491f2c-a400-48e8-bb13-dab12c42f259     19  Courtney Martin   \n",
       "299996  d0fe1f5f-281f-4e10-9cfb-4142d203a7a4     73  Courtney Martin   \n",
       "299997  3d63d298-7c3b-4c64-bc19-dc68acc7e2a4     96  Courtney Martin   \n",
       "299998  08067270-979f-45d9-ba1b-47aa9e2af0e2     88  Courtney Martin   \n",
       "299999  9bf474a3-c39f-4d0b-b06e-bc3c911d82a8     87  Courtney Martin   \n",
       "\n",
       "                      skill_name total_duration  count             name  \\\n",
       "0                 Cloud Security      1366 days      5    Jonathan King   \n",
       "1                  Deep Learning      1366 days      5    Jonathan King   \n",
       "2       Serverless Architectures      1366 days      5    Jonathan King   \n",
       "3                 Design Systems      1366 days      5    Jonathan King   \n",
       "4                     Networking      1366 days      5    Jonathan King   \n",
       "...                          ...            ...    ...              ...   \n",
       "299995       Version Control/Git       186 days      5  Courtney Martin   \n",
       "299996                    Python       186 days      5  Courtney Martin   \n",
       "299997                    Python       186 days      5  Courtney Martin   \n",
       "299998                     CI/CD       186 days      5  Courtney Martin   \n",
       "299999    Stakeholder Management       186 days      5  Courtney Martin   \n",
       "\n",
       "                                     role_id         joining_date  department  \\\n",
       "0       25886cc0-ab38-455b-a301-f739643e462d  2021-08-07T21:52:59       ADMIN   \n",
       "1       25886cc0-ab38-455b-a301-f739643e462d  2021-08-07T21:52:59       ADMIN   \n",
       "2       25886cc0-ab38-455b-a301-f739643e462d  2021-08-07T21:52:59       ADMIN   \n",
       "3       25886cc0-ab38-455b-a301-f739643e462d  2021-08-07T21:52:59       ADMIN   \n",
       "4       25886cc0-ab38-455b-a301-f739643e462d  2021-08-07T21:52:59       ADMIN   \n",
       "...                                      ...                  ...         ...   \n",
       "299995  90a9e49a-3fcc-494c-a3fa-1c5375311cbb  2020-02-20T10:57:18  FULL_STACK   \n",
       "299996  90a9e49a-3fcc-494c-a3fa-1c5375311cbb  2020-02-20T10:57:18  FULL_STACK   \n",
       "299997  90a9e49a-3fcc-494c-a3fa-1c5375311cbb  2020-02-20T10:57:18  FULL_STACK   \n",
       "299998  90a9e49a-3fcc-494c-a3fa-1c5375311cbb  2020-02-20T10:57:18  FULL_STACK   \n",
       "299999  90a9e49a-3fcc-494c-a3fa-1c5375311cbb  2020-02-20T10:57:18  FULL_STACK   \n",
       "\n",
       "                           mail  created_at  updated_at    password  \\\n",
       "0              slee@example.net  2020-07-11  2021-03-18  0&^u3SZ!td   \n",
       "1              slee@example.net  2020-07-11  2021-03-18  0&^u3SZ!td   \n",
       "2              slee@example.net  2020-07-11  2021-03-18  0&^u3SZ!td   \n",
       "3              slee@example.net  2020-07-11  2021-03-18  0&^u3SZ!td   \n",
       "4              slee@example.net  2020-07-11  2021-03-18  0&^u3SZ!td   \n",
       "...                         ...         ...         ...         ...   \n",
       "299995  adamsjoseph@example.org  2020-09-09  2024-06-24  &6&0KsXEai   \n",
       "299996  adamsjoseph@example.org  2020-09-09  2024-06-24  &6&0KsXEai   \n",
       "299997  adamsjoseph@example.org  2020-09-09  2024-06-24  &6&0KsXEai   \n",
       "299998  adamsjoseph@example.org  2020-09-09  2024-06-24  &6&0KsXEai   \n",
       "299999  adamsjoseph@example.org  2020-09-09  2024-06-24  &6&0KsXEai   \n",
       "\n",
       "                            profileImage          role_name  \n",
       "0       https://placekitten.com/397/1014  Software Engineer  \n",
       "1       https://placekitten.com/397/1014  Software Engineer  \n",
       "2       https://placekitten.com/397/1014  Software Engineer  \n",
       "3       https://placekitten.com/397/1014  Software Engineer  \n",
       "4       https://placekitten.com/397/1014  Software Engineer  \n",
       "...                                  ...                ...  \n",
       "299995    https://dummyimage.com/465x433   Technical Writer  \n",
       "299996    https://dummyimage.com/465x433   Technical Writer  \n",
       "299997    https://dummyimage.com/465x433   Technical Writer  \n",
       "299998    https://dummyimage.com/465x433   Technical Writer  \n",
       "299999    https://dummyimage.com/465x433   Technical Writer  \n",
       "\n",
       "[300000 rows x 18 columns]"
      ]
     },
     "execution_count": 21,
     "metadata": {},
     "output_type": "execute_result"
    }
   ],
   "source": [
    "df.rename({\"_id_x\":\"_id\",\"userId_x\":\"userId\"},axis=1)"
   ]
  },
  {
   "cell_type": "code",
   "execution_count": 22,
   "metadata": {},
   "outputs": [
    {
     "data": {
      "text/plain": [
       "(300000, 18)"
      ]
     },
     "execution_count": 22,
     "metadata": {},
     "output_type": "execute_result"
    }
   ],
   "source": [
    "df.shape"
   ]
  },
  {
   "cell_type": "code",
   "execution_count": 23,
   "metadata": {},
   "outputs": [
    {
     "data": {
      "text/plain": [
       "_id_x             0\n",
       "userId_x          0\n",
       "skillId           0\n",
       "score             0\n",
       "user_name         0\n",
       "skill_name        0\n",
       "total_duration    0\n",
       "count             0\n",
       "name              0\n",
       "role_id           0\n",
       "joining_date      0\n",
       "department        0\n",
       "mail              0\n",
       "created_at        0\n",
       "updated_at        0\n",
       "password          0\n",
       "profileImage      0\n",
       "role_name         0\n",
       "dtype: int64"
      ]
     },
     "execution_count": 23,
     "metadata": {},
     "output_type": "execute_result"
    }
   ],
   "source": [
    "df.isnull().sum()"
   ]
  },
  {
   "cell_type": "code",
   "execution_count": 24,
   "metadata": {},
   "outputs": [
    {
     "data": {
      "text/plain": [
       "Unnamed: 0    0\n",
       "_id           0\n",
       "name          0\n",
       "created_at    0\n",
       "updated_at    0\n",
       "desc          0\n",
       "skillId       0\n",
       "user_count    0\n",
       "dtype: int64"
      ]
     },
     "execution_count": 24,
     "metadata": {},
     "output_type": "execute_result"
    }
   ],
   "source": [
    "roles_df.isna().sum()"
   ]
  },
  {
   "cell_type": "code",
   "execution_count": 25,
   "metadata": {},
   "outputs": [],
   "source": [
    "merged_df=pd.merge(df,roles_df,left_on='skillId',right_on='skillId')\n",
    "merged_df.shape\n",
    "df=merged_df"
   ]
  },
  {
   "cell_type": "code",
   "execution_count": 26,
   "metadata": {},
   "outputs": [
    {
     "data": {
      "text/plain": [
       "(300000, 25)"
      ]
     },
     "execution_count": 26,
     "metadata": {},
     "output_type": "execute_result"
    }
   ],
   "source": [
    "df.shape"
   ]
  },
  {
   "cell_type": "code",
   "execution_count": 27,
   "metadata": {},
   "outputs": [
    {
     "name": "stdout",
     "output_type": "stream",
     "text": [
      "Original dtypes:\n",
      "_id_x             string[python]\n",
      "userId_x                  object\n",
      "skillId                   object\n",
      "score                      Int64\n",
      "user_name         string[python]\n",
      "skill_name        string[python]\n",
      "total_duration            object\n",
      "count                      int64\n",
      "name_x                    object\n",
      "role_id                   object\n",
      "joining_date              object\n",
      "department                object\n",
      "mail                      object\n",
      "created_at_x              object\n",
      "updated_at_x              object\n",
      "password                  object\n",
      "profileImage              object\n",
      "role_name                 object\n",
      "Unnamed: 0                 int64\n",
      "_id                       object\n",
      "name_y                    object\n",
      "created_at_y              object\n",
      "updated_at_y              object\n",
      "desc                      object\n",
      "user_count                 int64\n",
      "dtype: object\n",
      "\n",
      "Converted dtypes:\n",
      "_id_x             string[python]\n",
      "userId_x          string[python]\n",
      "skillId           string[python]\n",
      "score                      Int64\n",
      "user_name         string[python]\n",
      "skill_name        string[python]\n",
      "total_duration    string[python]\n",
      "count                      Int64\n",
      "name_x            string[python]\n",
      "role_id           string[python]\n",
      "joining_date      string[python]\n",
      "department        string[python]\n",
      "mail              string[python]\n",
      "created_at_x      string[python]\n",
      "updated_at_x      string[python]\n",
      "password          string[python]\n",
      "profileImage      string[python]\n",
      "role_name         string[python]\n",
      "Unnamed: 0                 Int64\n",
      "_id               string[python]\n",
      "name_y            string[python]\n",
      "created_at_y      string[python]\n",
      "updated_at_y      string[python]\n",
      "desc              string[python]\n",
      "user_count                 Int64\n",
      "dtype: object\n"
     ]
    }
   ],
   "source": [
    "print(\"Original dtypes:\")\n",
    "print(df.dtypes)\n",
    "\n",
    "# Convert dtypes\n",
    "df=df.convert_dtypes()\n",
    "\n",
    "# Check new dtypes\n",
    "print(\"\\nConverted dtypes:\")\n",
    "print(df.convert_dtypes().dtypes)"
   ]
  },
  {
   "cell_type": "code",
   "execution_count": 28,
   "metadata": {},
   "outputs": [],
   "source": [
    "df.drop(['updated_at_y','created_at_y',],inplace=True,axis=1)"
   ]
  },
  {
   "cell_type": "code",
   "execution_count": 29,
   "metadata": {},
   "outputs": [],
   "source": [
    "df.drop(['name_y'],inplace=True,axis=1)"
   ]
  },
  {
   "cell_type": "code",
   "execution_count": 30,
   "metadata": {},
   "outputs": [
    {
     "data": {
      "text/plain": [
       "(300000, 22)"
      ]
     },
     "execution_count": 30,
     "metadata": {},
     "output_type": "execute_result"
    }
   ],
   "source": [
    "df.shape"
   ]
  },
  {
   "cell_type": "code",
   "execution_count": 31,
   "metadata": {},
   "outputs": [],
   "source": [
    "# df.to_csv('C:/Users/RithikHarendarMahesh/Desktop/fp/DataEngineering/mart/mart_user_certification.csv')\n",
    "df.to_csv('C:/Users/RithikHarendarMahesh/Desktop/fp/DataEngineering/mart/mart_user_skill.csv')"
   ]
  },
  {
   "cell_type": "code",
   "execution_count": null,
   "metadata": {},
   "outputs": [],
   "source": []
  }
 ],
 "metadata": {
  "kernelspec": {
   "display_name": "base",
   "language": "python",
   "name": "python3"
  },
  "language_info": {
   "codemirror_mode": {
    "name": "ipython",
    "version": 3
   },
   "file_extension": ".py",
   "mimetype": "text/x-python",
   "name": "python",
   "nbconvert_exporter": "python",
   "pygments_lexer": "ipython3",
   "version": "3.12.4"
  }
 },
 "nbformat": 4,
 "nbformat_minor": 2
}
