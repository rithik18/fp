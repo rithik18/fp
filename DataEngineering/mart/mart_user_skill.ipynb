{
 "cells": [
  {
   "cell_type": "code",
   "execution_count": 6,
   "metadata": {},
   "outputs": [],
   "source": [
    "import pandas as pd"
   ]
  },
  {
   "cell_type": "code",
   "execution_count": 7,
   "metadata": {},
   "outputs": [],
   "source": [
    "# user_csv=pd.read_csv('E:/JMAN/fp/DataEngineering/prep/prep_user_certification.csv')\n",
    "user_csv=pd.read_csv('E:/JMAN/fp/DataEngineering/prep/prep_user_skill.csv')\n"
   ]
  },
  {
   "cell_type": "code",
   "execution_count": 8,
   "metadata": {},
   "outputs": [],
   "source": [
    "df=pd.DataFrame(data=user_csv)"
   ]
  },
  {
   "cell_type": "code",
   "execution_count": 9,
   "metadata": {},
   "outputs": [
    {
     "data": {
      "text/plain": [
       "Unnamed: 0    0\n",
       "_id           0\n",
       "userId        0\n",
       "skillId       0\n",
       "score         0\n",
       "user_name     0\n",
       "skill_name    0\n",
       "dtype: int64"
      ]
     },
     "execution_count": 9,
     "metadata": {},
     "output_type": "execute_result"
    }
   ],
   "source": [
    "df.isnull().sum()"
   ]
  },
  {
   "cell_type": "code",
   "execution_count": 10,
   "metadata": {},
   "outputs": [],
   "source": [
    "df.dropna(inplace=True)"
   ]
  },
  {
   "cell_type": "code",
   "execution_count": 11,
   "metadata": {},
   "outputs": [],
   "source": [
    "df.drop_duplicates(inplace=True)"
   ]
  },
  {
   "cell_type": "code",
   "execution_count": 12,
   "metadata": {},
   "outputs": [
    {
     "data": {
      "text/plain": [
       "Unnamed: 0     int64\n",
       "_id           object\n",
       "userId        object\n",
       "skillId       object\n",
       "score          int64\n",
       "user_name     object\n",
       "skill_name    object\n",
       "dtype: object"
      ]
     },
     "execution_count": 12,
     "metadata": {},
     "output_type": "execute_result"
    }
   ],
   "source": [
    "df.dtypes"
   ]
  },
  {
   "cell_type": "code",
   "execution_count": 13,
   "metadata": {},
   "outputs": [
    {
     "name": "stdout",
     "output_type": "stream",
     "text": [
      "Original dtypes:\n",
      "Unnamed: 0     int64\n",
      "_id           object\n",
      "userId        object\n",
      "skillId       object\n",
      "score          int64\n",
      "user_name     object\n",
      "skill_name    object\n",
      "dtype: object\n",
      "\n",
      "Converted dtypes:\n",
      "Unnamed: 0     Int64\n",
      "_id           string\n",
      "userId        string\n",
      "skillId       string\n",
      "score          Int64\n",
      "user_name     string\n",
      "skill_name    string\n",
      "dtype: object\n"
     ]
    }
   ],
   "source": [
    "print(\"Original dtypes:\")\n",
    "print(df.dtypes)\n",
    "\n",
    "# Convert dtypes\n",
    "df=df.convert_dtypes()\n",
    "\n",
    "# Check new dtypes\n",
    "print(\"\\nConverted dtypes:\")\n",
    "print(df.convert_dtypes().dtypes)"
   ]
  },
  {
   "cell_type": "code",
   "execution_count": 16,
   "metadata": {},
   "outputs": [
    {
     "data": {
      "text/plain": [
       "Unnamed: 0     Int64\n",
       "_id           string\n",
       "userId        string\n",
       "skillId       string\n",
       "score          Int64\n",
       "user_name     string\n",
       "skill_name    string\n",
       "dtype: object"
      ]
     },
     "execution_count": 16,
     "metadata": {},
     "output_type": "execute_result"
    }
   ],
   "source": [
    "df.dtypes"
   ]
  },
  {
   "cell_type": "code",
   "execution_count": null,
   "metadata": {},
   "outputs": [],
   "source": []
  },
  {
   "cell_type": "code",
   "execution_count": 18,
   "metadata": {},
   "outputs": [
    {
     "data": {
      "text/plain": [
       "(30002, 15)"
      ]
     },
     "execution_count": 18,
     "metadata": {},
     "output_type": "execute_result"
    }
   ],
   "source": [
    "# roles_df = pd.read_csv('E:/JMAN/fp/DataEngineering/prep/prep_user.csv')\n",
    "roles_df = pd.read_csv('E:/JMAN/fp/DataEngineering/prep/prep_user.csv')\n",
    "roles_df"
   ]
  },
  {
   "cell_type": "code",
   "execution_count": 136,
   "metadata": {},
   "outputs": [
    {
     "data": {
      "text/plain": [
       "(30002, 15)"
      ]
     },
     "execution_count": 136,
     "metadata": {},
     "output_type": "execute_result"
    }
   ],
   "source": [
    "roles_df.shape"
   ]
  },
  {
   "cell_type": "code",
   "execution_count": 137,
   "metadata": {},
   "outputs": [
    {
     "data": {
      "text/plain": [
       "(150006, 11)"
      ]
     },
     "execution_count": 137,
     "metadata": {},
     "output_type": "execute_result"
    }
   ],
   "source": [
    "df.shape"
   ]
  },
  {
   "cell_type": "code",
   "execution_count": 19,
   "metadata": {},
   "outputs": [
    {
     "data": {
      "text/plain": [
       "Unnamed: 0    0\n",
       "_id           0\n",
       "userId        0\n",
       "skillId       0\n",
       "score         0\n",
       "user_name     0\n",
       "skill_name    0\n",
       "dtype: int64"
      ]
     },
     "execution_count": 19,
     "metadata": {},
     "output_type": "execute_result"
    }
   ],
   "source": [
    "df.isnull().sum()"
   ]
  },
  {
   "cell_type": "code",
   "execution_count": 20,
   "metadata": {},
   "outputs": [],
   "source": [
    "\n",
    "merged_df=pd.merge(df,roles_df,left_on='userId',right_on='_id',how='inner')\n",
    "df=merged_df\n"
   ]
  },
  {
   "cell_type": "code",
   "execution_count": 21,
   "metadata": {},
   "outputs": [
    {
     "data": {
      "text/plain": [
       "(30004, 22)"
      ]
     },
     "execution_count": 21,
     "metadata": {},
     "output_type": "execute_result"
    }
   ],
   "source": [
    "df.shape"
   ]
  },
  {
   "cell_type": "code",
   "execution_count": 23,
   "metadata": {},
   "outputs": [
    {
     "data": {
      "text/html": [
       "<div>\n",
       "<style scoped>\n",
       "    .dataframe tbody tr th:only-of-type {\n",
       "        vertical-align: middle;\n",
       "    }\n",
       "\n",
       "    .dataframe tbody tr th {\n",
       "        vertical-align: top;\n",
       "    }\n",
       "\n",
       "    .dataframe thead th {\n",
       "        text-align: right;\n",
       "    }\n",
       "</style>\n",
       "<table border=\"1\" class=\"dataframe\">\n",
       "  <thead>\n",
       "    <tr style=\"text-align: right;\">\n",
       "      <th></th>\n",
       "      <th>Unnamed: 0</th>\n",
       "      <th>_id</th>\n",
       "      <th>name</th>\n",
       "      <th>created_at</th>\n",
       "      <th>updated_at</th>\n",
       "      <th>desc</th>\n",
       "      <th>skillId</th>\n",
       "      <th>user_count</th>\n",
       "    </tr>\n",
       "  </thead>\n",
       "  <tbody>\n",
       "    <tr>\n",
       "      <th>0</th>\n",
       "      <td>0</td>\n",
       "      <td>66fd116e959f8b790f412908</td>\n",
       "      <td>Database</td>\n",
       "      <td>2024-10-02</td>\n",
       "      <td>2024-10-02</td>\n",
       "      <td>DB</td>\n",
       "      <td>66fd116e959f8b790f412908</td>\n",
       "      <td>1</td>\n",
       "    </tr>\n",
       "    <tr>\n",
       "      <th>1</th>\n",
       "      <td>1</td>\n",
       "      <td>66fd1190959f8b790f41290a</td>\n",
       "      <td>Data Analysis</td>\n",
       "      <td>2024-10-02</td>\n",
       "      <td>2024-10-02</td>\n",
       "      <td>Data Analysis</td>\n",
       "      <td>66fd1190959f8b790f41290a</td>\n",
       "      <td>1</td>\n",
       "    </tr>\n",
       "    <tr>\n",
       "      <th>2</th>\n",
       "      <td>2</td>\n",
       "      <td>66fd1200959f8b790f41290f</td>\n",
       "      <td>Data Process</td>\n",
       "      <td>2024-10-02</td>\n",
       "      <td>2024-10-02</td>\n",
       "      <td>Data  processing</td>\n",
       "      <td>66fd1200959f8b790f41290f</td>\n",
       "      <td>1</td>\n",
       "    </tr>\n",
       "    <tr>\n",
       "      <th>3</th>\n",
       "      <td>3</td>\n",
       "      <td>66ff7be7d1312483599a8dd8</td>\n",
       "      <td>Frontend</td>\n",
       "      <td>2024-10-04</td>\n",
       "      <td>2024-10-04</td>\n",
       "      <td>Frontend</td>\n",
       "      <td>66ff7be7d1312483599a8dd8</td>\n",
       "      <td>1</td>\n",
       "    </tr>\n",
       "    <tr>\n",
       "      <th>4</th>\n",
       "      <td>4</td>\n",
       "      <td>79e0ecd9-a547-462a-acb5-533722940278</td>\n",
       "      <td>share</td>\n",
       "      <td>2022-11-05</td>\n",
       "      <td>2023-06-24</td>\n",
       "      <td>Where site modern modern.</td>\n",
       "      <td>79e0ecd9-a547-462a-acb5-533722940278</td>\n",
       "      <td>261</td>\n",
       "    </tr>\n",
       "  </tbody>\n",
       "</table>\n",
       "</div>"
      ],
      "text/plain": [
       "   Unnamed: 0                                   _id           name  \\\n",
       "0           0              66fd116e959f8b790f412908       Database   \n",
       "1           1              66fd1190959f8b790f41290a  Data Analysis   \n",
       "2           2              66fd1200959f8b790f41290f   Data Process   \n",
       "3           3              66ff7be7d1312483599a8dd8       Frontend   \n",
       "4           4  79e0ecd9-a547-462a-acb5-533722940278          share   \n",
       "\n",
       "   created_at  updated_at                       desc  \\\n",
       "0  2024-10-02  2024-10-02                         DB   \n",
       "1  2024-10-02  2024-10-02              Data Analysis   \n",
       "2  2024-10-02  2024-10-02           Data  processing   \n",
       "3  2024-10-04  2024-10-04                   Frontend   \n",
       "4  2022-11-05  2023-06-24  Where site modern modern.   \n",
       "\n",
       "                                skillId  user_count  \n",
       "0              66fd116e959f8b790f412908           1  \n",
       "1              66fd1190959f8b790f41290a           1  \n",
       "2              66fd1200959f8b790f41290f           1  \n",
       "3              66ff7be7d1312483599a8dd8           1  \n",
       "4  79e0ecd9-a547-462a-acb5-533722940278         261  "
      ]
     },
     "execution_count": 23,
     "metadata": {},
     "output_type": "execute_result"
    }
   ],
   "source": [
    "# roles_df = pd.read_csv('E:/JMAN/fp/DataEngineering/prep/prep_certification.csv')\n",
    "roles_df = pd.read_csv('E:/JMAN/fp/DataEngineering/prep/prep_skill.csv')\n",
    "roles_df.head()"
   ]
  },
  {
   "cell_type": "code",
   "execution_count": 24,
   "metadata": {},
   "outputs": [
    {
     "data": {
      "text/plain": [
       "Unnamed: 0_x      0\n",
       "_id_x             0\n",
       "userId_x          0\n",
       "skillId           0\n",
       "score             0\n",
       "user_name         0\n",
       "skill_name        0\n",
       "Unnamed: 0_y      0\n",
       "userId_y          0\n",
       "total_duration    0\n",
       "count             0\n",
       "_id_y             0\n",
       "name              0\n",
       "role_id           0\n",
       "joining_date      0\n",
       "department        0\n",
       "mail              0\n",
       "created_at        0\n",
       "updated_at        0\n",
       "password          0\n",
       "profileImage      0\n",
       "role_name         0\n",
       "dtype: int64"
      ]
     },
     "execution_count": 24,
     "metadata": {},
     "output_type": "execute_result"
    }
   ],
   "source": [
    "df.isnull().sum()"
   ]
  },
  {
   "cell_type": "code",
   "execution_count": 25,
   "metadata": {},
   "outputs": [],
   "source": [
    "df.drop(['_id_y','userId_y',],inplace=True,axis=1)"
   ]
  },
  {
   "cell_type": "code",
   "execution_count": 26,
   "metadata": {},
   "outputs": [
    {
     "data": {
      "text/plain": [
       "(30004, 20)"
      ]
     },
     "execution_count": 26,
     "metadata": {},
     "output_type": "execute_result"
    }
   ],
   "source": [
    "df.shape"
   ]
  },
  {
   "cell_type": "code",
   "execution_count": 27,
   "metadata": {},
   "outputs": [],
   "source": [
    "df.drop(['Unnamed: 0_y','Unnamed: 0_x',],inplace=True,axis=1)"
   ]
  },
  {
   "cell_type": "code",
   "execution_count": 28,
   "metadata": {},
   "outputs": [
    {
     "data": {
      "text/html": [
       "<div>\n",
       "<style scoped>\n",
       "    .dataframe tbody tr th:only-of-type {\n",
       "        vertical-align: middle;\n",
       "    }\n",
       "\n",
       "    .dataframe tbody tr th {\n",
       "        vertical-align: top;\n",
       "    }\n",
       "\n",
       "    .dataframe thead th {\n",
       "        text-align: right;\n",
       "    }\n",
       "</style>\n",
       "<table border=\"1\" class=\"dataframe\">\n",
       "  <thead>\n",
       "    <tr style=\"text-align: right;\">\n",
       "      <th></th>\n",
       "      <th>_id</th>\n",
       "      <th>userId</th>\n",
       "      <th>skillId</th>\n",
       "      <th>score</th>\n",
       "      <th>user_name</th>\n",
       "      <th>skill_name</th>\n",
       "      <th>total_duration</th>\n",
       "      <th>count</th>\n",
       "      <th>name</th>\n",
       "      <th>role_id</th>\n",
       "      <th>joining_date</th>\n",
       "      <th>department</th>\n",
       "      <th>mail</th>\n",
       "      <th>created_at</th>\n",
       "      <th>updated_at</th>\n",
       "      <th>password</th>\n",
       "      <th>profileImage</th>\n",
       "      <th>role_name</th>\n",
       "    </tr>\n",
       "  </thead>\n",
       "  <tbody>\n",
       "    <tr>\n",
       "      <th>0</th>\n",
       "      <td>67027ce18f14d777fee288b2</td>\n",
       "      <td>67013cc9a25cfa0d89dbb105</td>\n",
       "      <td>66ff7be7d1312483599a8dd8</td>\n",
       "      <td>76</td>\n",
       "      <td>abc</td>\n",
       "      <td>Frontend</td>\n",
       "      <td>7 days</td>\n",
       "      <td>2</td>\n",
       "      <td>abc</td>\n",
       "      <td>66fd544630450c2a76ac0211</td>\n",
       "      <td>2024-10-01</td>\n",
       "      <td>FULL_STACK</td>\n",
       "      <td>emp@example.com</td>\n",
       "      <td>2024-10-05</td>\n",
       "      <td>2024-10-05</td>\n",
       "      <td>Abcd@1234</td>\n",
       "      <td>data:image/png;base64,iVBORw0KGgoAAAANSUhEUgAA...</td>\n",
       "      <td>Solution Enabler</td>\n",
       "    </tr>\n",
       "    <tr>\n",
       "      <th>1</th>\n",
       "      <td>670291db398e7efea9400b77</td>\n",
       "      <td>67013cc9a25cfa0d89dbb105</td>\n",
       "      <td>66fd1200959f8b790f41290f</td>\n",
       "      <td>69</td>\n",
       "      <td>abc</td>\n",
       "      <td>Data Process</td>\n",
       "      <td>7 days</td>\n",
       "      <td>2</td>\n",
       "      <td>abc</td>\n",
       "      <td>66fd544630450c2a76ac0211</td>\n",
       "      <td>2024-10-01</td>\n",
       "      <td>FULL_STACK</td>\n",
       "      <td>emp@example.com</td>\n",
       "      <td>2024-10-05</td>\n",
       "      <td>2024-10-05</td>\n",
       "      <td>Abcd@1234</td>\n",
       "      <td>data:image/png;base64,iVBORw0KGgoAAAANSUhEUgAA...</td>\n",
       "      <td>Solution Enabler</td>\n",
       "    </tr>\n",
       "    <tr>\n",
       "      <th>2</th>\n",
       "      <td>67029ebd398e7efea9400b78</td>\n",
       "      <td>67013cc9a25cfa0d89dbb105</td>\n",
       "      <td>66fd116e959f8b790f412908</td>\n",
       "      <td>45</td>\n",
       "      <td>abc</td>\n",
       "      <td>Database</td>\n",
       "      <td>7 days</td>\n",
       "      <td>2</td>\n",
       "      <td>abc</td>\n",
       "      <td>66fd544630450c2a76ac0211</td>\n",
       "      <td>2024-10-01</td>\n",
       "      <td>FULL_STACK</td>\n",
       "      <td>emp@example.com</td>\n",
       "      <td>2024-10-05</td>\n",
       "      <td>2024-10-05</td>\n",
       "      <td>Abcd@1234</td>\n",
       "      <td>data:image/png;base64,iVBORw0KGgoAAAANSUhEUgAA...</td>\n",
       "      <td>Solution Enabler</td>\n",
       "    </tr>\n",
       "    <tr>\n",
       "      <th>3</th>\n",
       "      <td>6702a0f6398e7efea9400b7a</td>\n",
       "      <td>67013cc9a25cfa0d89dbb105</td>\n",
       "      <td>66fd1190959f8b790f41290a</td>\n",
       "      <td>32</td>\n",
       "      <td>abc</td>\n",
       "      <td>Data Analysis</td>\n",
       "      <td>7 days</td>\n",
       "      <td>2</td>\n",
       "      <td>abc</td>\n",
       "      <td>66fd544630450c2a76ac0211</td>\n",
       "      <td>2024-10-01</td>\n",
       "      <td>FULL_STACK</td>\n",
       "      <td>emp@example.com</td>\n",
       "      <td>2024-10-05</td>\n",
       "      <td>2024-10-05</td>\n",
       "      <td>Abcd@1234</td>\n",
       "      <td>data:image/png;base64,iVBORw0KGgoAAAANSUhEUgAA...</td>\n",
       "      <td>Solution Enabler</td>\n",
       "    </tr>\n",
       "    <tr>\n",
       "      <th>4</th>\n",
       "      <td>73c0a600-8e77-4a3c-85ea-fec5aebbbcd0</td>\n",
       "      <td>096c4b55-c067-47e3-8721-55c340aee997</td>\n",
       "      <td>41c92930-fe69-4c34-80e8-66ab07a1dc6c</td>\n",
       "      <td>98</td>\n",
       "      <td>Doris Figueroa</td>\n",
       "      <td>sell</td>\n",
       "      <td>6615 days</td>\n",
       "      <td>5</td>\n",
       "      <td>Doris Figueroa</td>\n",
       "      <td>a0683cc9-251b-4b28-be06-ecacc5359757</td>\n",
       "      <td>2023-09-08T19:29:51</td>\n",
       "      <td>OTHER</td>\n",
       "      <td>riverakurt@example.net</td>\n",
       "      <td>2024-06-10</td>\n",
       "      <td>2021-06-18</td>\n",
       "      <td>0)!H1Ourmi</td>\n",
       "      <td>https://dummyimage.com/585x1006</td>\n",
       "      <td>all</td>\n",
       "    </tr>\n",
       "    <tr>\n",
       "      <th>...</th>\n",
       "      <td>...</td>\n",
       "      <td>...</td>\n",
       "      <td>...</td>\n",
       "      <td>...</td>\n",
       "      <td>...</td>\n",
       "      <td>...</td>\n",
       "      <td>...</td>\n",
       "      <td>...</td>\n",
       "      <td>...</td>\n",
       "      <td>...</td>\n",
       "      <td>...</td>\n",
       "      <td>...</td>\n",
       "      <td>...</td>\n",
       "      <td>...</td>\n",
       "      <td>...</td>\n",
       "      <td>...</td>\n",
       "      <td>...</td>\n",
       "      <td>...</td>\n",
       "    </tr>\n",
       "    <tr>\n",
       "      <th>29999</th>\n",
       "      <td>59a33ee4-2c36-4969-997b-041be47a2902</td>\n",
       "      <td>f9242b7f-47cb-40f3-bfa5-46edd65a10b8</td>\n",
       "      <td>66126a5d-859e-4c0a-86fd-1e85a07e0e77</td>\n",
       "      <td>64</td>\n",
       "      <td>Todd Edwards</td>\n",
       "      <td>goal</td>\n",
       "      <td>4895 days</td>\n",
       "      <td>5</td>\n",
       "      <td>Todd Edwards</td>\n",
       "      <td>242e1513-5ad2-4189-afaf-669d6753f57b</td>\n",
       "      <td>2020-09-04T14:57:17</td>\n",
       "      <td>OTHER</td>\n",
       "      <td>adam17@example.org</td>\n",
       "      <td>2023-01-20</td>\n",
       "      <td>2024-04-22</td>\n",
       "      <td>h5chRL3P&amp;v</td>\n",
       "      <td>https://picsum.photos/974/929</td>\n",
       "      <td>security</td>\n",
       "    </tr>\n",
       "    <tr>\n",
       "      <th>30000</th>\n",
       "      <td>c4283d35-2a51-4e1a-bff2-3614f4ff8817</td>\n",
       "      <td>f55a8ea9-2791-4cc9-8923-9a7ac48d6817</td>\n",
       "      <td>4beafb0e-0466-469f-bd8c-c9144a8990f4</td>\n",
       "      <td>55</td>\n",
       "      <td>Keith King</td>\n",
       "      <td>study</td>\n",
       "      <td>2266 days</td>\n",
       "      <td>5</td>\n",
       "      <td>Keith King</td>\n",
       "      <td>c2110ca2-adba-4332-bf04-9d121d224cc1</td>\n",
       "      <td>2021-02-19T13:01:08</td>\n",
       "      <td>OTHER</td>\n",
       "      <td>aliciareyes@example.net</td>\n",
       "      <td>2024-02-10</td>\n",
       "      <td>2023-08-19</td>\n",
       "      <td>X^3UPheecy</td>\n",
       "      <td>https://placekitten.com/667/722</td>\n",
       "      <td>let</td>\n",
       "    </tr>\n",
       "    <tr>\n",
       "      <th>30001</th>\n",
       "      <td>fc205256-e7e4-4229-98bc-7032e600bb69</td>\n",
       "      <td>d307ceab-5357-4e32-8c81-d9e5730b16d2</td>\n",
       "      <td>e9ba9fa1-d3a4-40a7-9d8d-7164a9c24571</td>\n",
       "      <td>42</td>\n",
       "      <td>Andrew Evans</td>\n",
       "      <td>drive</td>\n",
       "      <td>4378 days</td>\n",
       "      <td>5</td>\n",
       "      <td>Andrew Evans</td>\n",
       "      <td>c2110ca2-adba-4332-bf04-9d121d224cc1</td>\n",
       "      <td>2024-06-22T19:49:00</td>\n",
       "      <td>OTHER</td>\n",
       "      <td>phenry@example.net</td>\n",
       "      <td>2024-07-20</td>\n",
       "      <td>2023-04-30</td>\n",
       "      <td>E04Nj^hr6&amp;</td>\n",
       "      <td>https://placekitten.com/587/184</td>\n",
       "      <td>let</td>\n",
       "    </tr>\n",
       "    <tr>\n",
       "      <th>30002</th>\n",
       "      <td>18167838-0f38-430c-9c25-126f7eb0e90c</td>\n",
       "      <td>b5dfd72e-9cfd-4c40-9907-7ec861bb3a95</td>\n",
       "      <td>318a5960-4df1-4d72-b7cf-25ebe740e081</td>\n",
       "      <td>55</td>\n",
       "      <td>Robert Hodge</td>\n",
       "      <td>professional</td>\n",
       "      <td>4556 days</td>\n",
       "      <td>5</td>\n",
       "      <td>Robert Hodge</td>\n",
       "      <td>335eff01-3ed3-44f5-ada7-4d2344652b5f</td>\n",
       "      <td>2020-06-09T17:05:08</td>\n",
       "      <td>DATA_ANALYTICS</td>\n",
       "      <td>elizabeth71@example.com</td>\n",
       "      <td>2024-10-07</td>\n",
       "      <td>2020-02-10</td>\n",
       "      <td>%8HV_KirQ7</td>\n",
       "      <td>https://dummyimage.com/305x47</td>\n",
       "      <td>two</td>\n",
       "    </tr>\n",
       "    <tr>\n",
       "      <th>30003</th>\n",
       "      <td>b4c8df37-2d63-4108-9bb7-3dcb68404edb</td>\n",
       "      <td>52b93321-9024-4f5a-87af-24b91520bbb4</td>\n",
       "      <td>be33d2b5-057f-467b-83f6-7f45cfa3b8f7</td>\n",
       "      <td>73</td>\n",
       "      <td>Jessica Patterson</td>\n",
       "      <td>sell</td>\n",
       "      <td>7474 days</td>\n",
       "      <td>5</td>\n",
       "      <td>Jessica Patterson</td>\n",
       "      <td>76fba540-2817-4293-b9ae-dd2aa77acbc1</td>\n",
       "      <td>2021-05-23T00:32:27</td>\n",
       "      <td>OTHER</td>\n",
       "      <td>melissalarson@example.org</td>\n",
       "      <td>2021-04-24</td>\n",
       "      <td>2023-10-06</td>\n",
       "      <td>fGQqXCLz*3</td>\n",
       "      <td>https://picsum.photos/494/740</td>\n",
       "      <td>positive</td>\n",
       "    </tr>\n",
       "  </tbody>\n",
       "</table>\n",
       "<p>30004 rows × 18 columns</p>\n",
       "</div>"
      ],
      "text/plain": [
       "                                        _id  \\\n",
       "0                  67027ce18f14d777fee288b2   \n",
       "1                  670291db398e7efea9400b77   \n",
       "2                  67029ebd398e7efea9400b78   \n",
       "3                  6702a0f6398e7efea9400b7a   \n",
       "4      73c0a600-8e77-4a3c-85ea-fec5aebbbcd0   \n",
       "...                                     ...   \n",
       "29999  59a33ee4-2c36-4969-997b-041be47a2902   \n",
       "30000  c4283d35-2a51-4e1a-bff2-3614f4ff8817   \n",
       "30001  fc205256-e7e4-4229-98bc-7032e600bb69   \n",
       "30002  18167838-0f38-430c-9c25-126f7eb0e90c   \n",
       "30003  b4c8df37-2d63-4108-9bb7-3dcb68404edb   \n",
       "\n",
       "                                     userId  \\\n",
       "0                  67013cc9a25cfa0d89dbb105   \n",
       "1                  67013cc9a25cfa0d89dbb105   \n",
       "2                  67013cc9a25cfa0d89dbb105   \n",
       "3                  67013cc9a25cfa0d89dbb105   \n",
       "4      096c4b55-c067-47e3-8721-55c340aee997   \n",
       "...                                     ...   \n",
       "29999  f9242b7f-47cb-40f3-bfa5-46edd65a10b8   \n",
       "30000  f55a8ea9-2791-4cc9-8923-9a7ac48d6817   \n",
       "30001  d307ceab-5357-4e32-8c81-d9e5730b16d2   \n",
       "30002  b5dfd72e-9cfd-4c40-9907-7ec861bb3a95   \n",
       "30003  52b93321-9024-4f5a-87af-24b91520bbb4   \n",
       "\n",
       "                                    skillId  score          user_name  \\\n",
       "0                  66ff7be7d1312483599a8dd8     76                abc   \n",
       "1                  66fd1200959f8b790f41290f     69                abc   \n",
       "2                  66fd116e959f8b790f412908     45                abc   \n",
       "3                  66fd1190959f8b790f41290a     32                abc   \n",
       "4      41c92930-fe69-4c34-80e8-66ab07a1dc6c     98     Doris Figueroa   \n",
       "...                                     ...    ...                ...   \n",
       "29999  66126a5d-859e-4c0a-86fd-1e85a07e0e77     64       Todd Edwards   \n",
       "30000  4beafb0e-0466-469f-bd8c-c9144a8990f4     55         Keith King   \n",
       "30001  e9ba9fa1-d3a4-40a7-9d8d-7164a9c24571     42       Andrew Evans   \n",
       "30002  318a5960-4df1-4d72-b7cf-25ebe740e081     55       Robert Hodge   \n",
       "30003  be33d2b5-057f-467b-83f6-7f45cfa3b8f7     73  Jessica Patterson   \n",
       "\n",
       "          skill_name total_duration  count               name  \\\n",
       "0           Frontend         7 days      2                abc   \n",
       "1       Data Process         7 days      2                abc   \n",
       "2           Database         7 days      2                abc   \n",
       "3      Data Analysis         7 days      2                abc   \n",
       "4               sell      6615 days      5     Doris Figueroa   \n",
       "...              ...            ...    ...                ...   \n",
       "29999           goal      4895 days      5       Todd Edwards   \n",
       "30000          study      2266 days      5         Keith King   \n",
       "30001          drive      4378 days      5       Andrew Evans   \n",
       "30002   professional      4556 days      5       Robert Hodge   \n",
       "30003           sell      7474 days      5  Jessica Patterson   \n",
       "\n",
       "                                    role_id         joining_date  \\\n",
       "0                  66fd544630450c2a76ac0211           2024-10-01   \n",
       "1                  66fd544630450c2a76ac0211           2024-10-01   \n",
       "2                  66fd544630450c2a76ac0211           2024-10-01   \n",
       "3                  66fd544630450c2a76ac0211           2024-10-01   \n",
       "4      a0683cc9-251b-4b28-be06-ecacc5359757  2023-09-08T19:29:51   \n",
       "...                                     ...                  ...   \n",
       "29999  242e1513-5ad2-4189-afaf-669d6753f57b  2020-09-04T14:57:17   \n",
       "30000  c2110ca2-adba-4332-bf04-9d121d224cc1  2021-02-19T13:01:08   \n",
       "30001  c2110ca2-adba-4332-bf04-9d121d224cc1  2024-06-22T19:49:00   \n",
       "30002  335eff01-3ed3-44f5-ada7-4d2344652b5f  2020-06-09T17:05:08   \n",
       "30003  76fba540-2817-4293-b9ae-dd2aa77acbc1  2021-05-23T00:32:27   \n",
       "\n",
       "           department                       mail  created_at  updated_at  \\\n",
       "0          FULL_STACK            emp@example.com  2024-10-05  2024-10-05   \n",
       "1          FULL_STACK            emp@example.com  2024-10-05  2024-10-05   \n",
       "2          FULL_STACK            emp@example.com  2024-10-05  2024-10-05   \n",
       "3          FULL_STACK            emp@example.com  2024-10-05  2024-10-05   \n",
       "4               OTHER     riverakurt@example.net  2024-06-10  2021-06-18   \n",
       "...               ...                        ...         ...         ...   \n",
       "29999           OTHER         adam17@example.org  2023-01-20  2024-04-22   \n",
       "30000           OTHER    aliciareyes@example.net  2024-02-10  2023-08-19   \n",
       "30001           OTHER         phenry@example.net  2024-07-20  2023-04-30   \n",
       "30002  DATA_ANALYTICS    elizabeth71@example.com  2024-10-07  2020-02-10   \n",
       "30003           OTHER  melissalarson@example.org  2021-04-24  2023-10-06   \n",
       "\n",
       "         password                                       profileImage  \\\n",
       "0       Abcd@1234  data:image/png;base64,iVBORw0KGgoAAAANSUhEUgAA...   \n",
       "1       Abcd@1234  data:image/png;base64,iVBORw0KGgoAAAANSUhEUgAA...   \n",
       "2       Abcd@1234  data:image/png;base64,iVBORw0KGgoAAAANSUhEUgAA...   \n",
       "3       Abcd@1234  data:image/png;base64,iVBORw0KGgoAAAANSUhEUgAA...   \n",
       "4      0)!H1Ourmi                    https://dummyimage.com/585x1006   \n",
       "...           ...                                                ...   \n",
       "29999  h5chRL3P&v                      https://picsum.photos/974/929   \n",
       "30000  X^3UPheecy                    https://placekitten.com/667/722   \n",
       "30001  E04Nj^hr6&                    https://placekitten.com/587/184   \n",
       "30002  %8HV_KirQ7                      https://dummyimage.com/305x47   \n",
       "30003  fGQqXCLz*3                      https://picsum.photos/494/740   \n",
       "\n",
       "              role_name  \n",
       "0      Solution Enabler  \n",
       "1      Solution Enabler  \n",
       "2      Solution Enabler  \n",
       "3      Solution Enabler  \n",
       "4                   all  \n",
       "...                 ...  \n",
       "29999          security  \n",
       "30000               let  \n",
       "30001               let  \n",
       "30002               two  \n",
       "30003          positive  \n",
       "\n",
       "[30004 rows x 18 columns]"
      ]
     },
     "execution_count": 28,
     "metadata": {},
     "output_type": "execute_result"
    }
   ],
   "source": [
    "df.rename({\"_id_x\":\"_id\",\"userId_x\":\"userId\"},axis=1)"
   ]
  },
  {
   "cell_type": "code",
   "execution_count": 29,
   "metadata": {},
   "outputs": [
    {
     "data": {
      "text/plain": [
       "(30004, 18)"
      ]
     },
     "execution_count": 29,
     "metadata": {},
     "output_type": "execute_result"
    }
   ],
   "source": [
    "df.shape"
   ]
  },
  {
   "cell_type": "code",
   "execution_count": 30,
   "metadata": {},
   "outputs": [
    {
     "data": {
      "text/plain": [
       "_id_x             0\n",
       "userId_x          0\n",
       "skillId           0\n",
       "score             0\n",
       "user_name         0\n",
       "skill_name        0\n",
       "total_duration    0\n",
       "count             0\n",
       "name              0\n",
       "role_id           0\n",
       "joining_date      0\n",
       "department        0\n",
       "mail              0\n",
       "created_at        0\n",
       "updated_at        0\n",
       "password          0\n",
       "profileImage      0\n",
       "role_name         0\n",
       "dtype: int64"
      ]
     },
     "execution_count": 30,
     "metadata": {},
     "output_type": "execute_result"
    }
   ],
   "source": [
    "df.isnull().sum()"
   ]
  },
  {
   "cell_type": "code",
   "execution_count": 31,
   "metadata": {},
   "outputs": [
    {
     "data": {
      "text/plain": [
       "Unnamed: 0    0\n",
       "_id           0\n",
       "name          0\n",
       "created_at    0\n",
       "updated_at    0\n",
       "desc          0\n",
       "skillId       0\n",
       "user_count    0\n",
       "dtype: int64"
      ]
     },
     "execution_count": 31,
     "metadata": {},
     "output_type": "execute_result"
    }
   ],
   "source": [
    "roles_df.isna().sum()"
   ]
  },
  {
   "cell_type": "code",
   "execution_count": 32,
   "metadata": {},
   "outputs": [],
   "source": [
    "merged_df=pd.merge(df,roles_df,left_on='skillId',right_on='skillId')\n",
    "merged_df.shape\n",
    "df=merged_df"
   ]
  },
  {
   "cell_type": "code",
   "execution_count": 33,
   "metadata": {},
   "outputs": [
    {
     "data": {
      "text/plain": [
       "(30004, 25)"
      ]
     },
     "execution_count": 33,
     "metadata": {},
     "output_type": "execute_result"
    }
   ],
   "source": [
    "df.shape"
   ]
  },
  {
   "cell_type": "code",
   "execution_count": 37,
   "metadata": {},
   "outputs": [
    {
     "name": "stdout",
     "output_type": "stream",
     "text": [
      "Original dtypes:\n",
      "_id_x             string\n",
      "userId_x          string\n",
      "skillId           string\n",
      "score              Int64\n",
      "user_name         string\n",
      "skill_name        string\n",
      "total_duration    string\n",
      "count              Int64\n",
      "name_x            string\n",
      "role_id           string\n",
      "joining_date      string\n",
      "department        string\n",
      "mail              string\n",
      "created_at_x      string\n",
      "updated_at_x      string\n",
      "password          string\n",
      "profileImage      string\n",
      "role_name         string\n",
      "Unnamed: 0         Int64\n",
      "_id               string\n",
      "name_y            string\n",
      "desc              string\n",
      "user_count         Int64\n",
      "dtype: object\n",
      "\n",
      "Converted dtypes:\n",
      "_id_x             string\n",
      "userId_x          string\n",
      "skillId           string\n",
      "score              Int64\n",
      "user_name         string\n",
      "skill_name        string\n",
      "total_duration    string\n",
      "count              Int64\n",
      "name_x            string\n",
      "role_id           string\n",
      "joining_date      string\n",
      "department        string\n",
      "mail              string\n",
      "created_at_x      string\n",
      "updated_at_x      string\n",
      "password          string\n",
      "profileImage      string\n",
      "role_name         string\n",
      "Unnamed: 0         Int64\n",
      "_id               string\n",
      "name_y            string\n",
      "desc              string\n",
      "user_count         Int64\n",
      "dtype: object\n"
     ]
    }
   ],
   "source": [
    "print(\"Original dtypes:\")\n",
    "print(df.dtypes)\n",
    "\n",
    "# Convert dtypes\n",
    "df=df.convert_dtypes()\n",
    "\n",
    "# Check new dtypes\n",
    "print(\"\\nConverted dtypes:\")\n",
    "print(df.convert_dtypes().dtypes)"
   ]
  },
  {
   "cell_type": "code",
   "execution_count": 35,
   "metadata": {},
   "outputs": [],
   "source": [
    "df.drop(['updated_at_y','created_at_y',],inplace=True,axis=1)"
   ]
  },
  {
   "cell_type": "code",
   "execution_count": 38,
   "metadata": {},
   "outputs": [],
   "source": [
    "df.drop(['name_y'],inplace=True,axis=1)"
   ]
  },
  {
   "cell_type": "code",
   "execution_count": 39,
   "metadata": {},
   "outputs": [
    {
     "data": {
      "text/plain": [
       "(30004, 22)"
      ]
     },
     "execution_count": 39,
     "metadata": {},
     "output_type": "execute_result"
    }
   ],
   "source": [
    "df.shape"
   ]
  },
  {
   "cell_type": "code",
   "execution_count": 40,
   "metadata": {},
   "outputs": [],
   "source": [
    "# df.to_csv('E:/JMAN/fp/DataEngineering/mart/mart_user_certification.csv')\n",
    "df.to_csv('E:/JMAN/fp/DataEngineering/mart/mart_user_skill.csv')"
   ]
  },
  {
   "cell_type": "code",
   "execution_count": null,
   "metadata": {},
   "outputs": [],
   "source": []
  }
 ],
 "metadata": {
  "kernelspec": {
   "display_name": "base",
   "language": "python",
   "name": "python3"
  },
  "language_info": {
   "codemirror_mode": {
    "name": "ipython",
    "version": 3
   },
   "file_extension": ".py",
   "mimetype": "text/x-python",
   "name": "python",
   "nbconvert_exporter": "python",
   "pygments_lexer": "ipython3",
   "version": "3.9.7"
  }
 },
 "nbformat": 4,
 "nbformat_minor": 2
}
