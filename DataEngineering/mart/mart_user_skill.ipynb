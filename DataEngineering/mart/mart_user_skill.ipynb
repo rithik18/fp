{
 "cells": [
  {
   "cell_type": "code",
   "execution_count": 1,
   "metadata": {},
   "outputs": [],
   "source": [
    "import pandas as pd"
   ]
  },
  {
   "cell_type": "code",
   "execution_count": 2,
   "metadata": {},
   "outputs": [],
   "source": [
    "# user_csv=pd.read_csv('E:/JMAN/fp/DataEngineering/prep/prep_user_certification.csv')\n",
    "user_csv=pd.read_csv('E:/JMAN/fp/DataEngineering/prep/prep_user_skill.csv')\n"
   ]
  },
  {
   "cell_type": "code",
   "execution_count": 3,
   "metadata": {},
   "outputs": [],
   "source": [
    "df=pd.DataFrame(data=user_csv)"
   ]
  },
  {
   "cell_type": "code",
   "execution_count": 4,
   "metadata": {},
   "outputs": [
    {
     "data": {
      "text/plain": [
       "Unnamed: 0    0\n",
       "_id           0\n",
       "userId        0\n",
       "skillId       0\n",
       "score         0\n",
       "user_name     0\n",
       "skill_name    0\n",
       "dtype: int64"
      ]
     },
     "execution_count": 4,
     "metadata": {},
     "output_type": "execute_result"
    }
   ],
   "source": [
    "df.isnull().sum()"
   ]
  },
  {
   "cell_type": "code",
   "execution_count": 5,
   "metadata": {},
   "outputs": [],
   "source": [
    "df.dropna(inplace=True)"
   ]
  },
  {
   "cell_type": "code",
   "execution_count": 6,
   "metadata": {},
   "outputs": [],
   "source": [
    "df.drop_duplicates(inplace=True)"
   ]
  },
  {
   "cell_type": "code",
   "execution_count": 7,
   "metadata": {},
   "outputs": [
    {
     "data": {
      "text/plain": [
       "Unnamed: 0     int64\n",
       "_id           object\n",
       "userId        object\n",
       "skillId       object\n",
       "score          int64\n",
       "user_name     object\n",
       "skill_name    object\n",
       "dtype: object"
      ]
     },
     "execution_count": 7,
     "metadata": {},
     "output_type": "execute_result"
    }
   ],
   "source": [
    "df.dtypes"
   ]
  },
  {
   "cell_type": "code",
   "execution_count": 8,
   "metadata": {},
   "outputs": [
    {
     "name": "stdout",
     "output_type": "stream",
     "text": [
      "Original dtypes:\n",
      "Unnamed: 0     int64\n",
      "_id           object\n",
      "userId        object\n",
      "skillId       object\n",
      "score          int64\n",
      "user_name     object\n",
      "skill_name    object\n",
      "dtype: object\n",
      "\n",
      "Converted dtypes:\n",
      "Unnamed: 0     Int64\n",
      "_id           string\n",
      "userId        string\n",
      "skillId       string\n",
      "score          Int64\n",
      "user_name     string\n",
      "skill_name    string\n",
      "dtype: object\n"
     ]
    }
   ],
   "source": [
    "print(\"Original dtypes:\")\n",
    "print(df.dtypes)\n",
    "\n",
    "# Convert dtypes\n",
    "df=df.convert_dtypes()\n",
    "\n",
    "# Check new dtypes\n",
    "print(\"\\nConverted dtypes:\")\n",
    "print(df.convert_dtypes().dtypes)"
   ]
  },
  {
   "cell_type": "code",
   "execution_count": 9,
   "metadata": {},
   "outputs": [
    {
     "data": {
      "text/plain": [
       "Unnamed: 0     Int64\n",
       "_id           string\n",
       "userId        string\n",
       "skillId       string\n",
       "score          Int64\n",
       "user_name     string\n",
       "skill_name    string\n",
       "dtype: object"
      ]
     },
     "execution_count": 9,
     "metadata": {},
     "output_type": "execute_result"
    }
   ],
   "source": [
    "df.dtypes"
   ]
  },
  {
   "cell_type": "code",
   "execution_count": null,
   "metadata": {},
   "outputs": [],
   "source": []
  },
  {
   "cell_type": "code",
   "execution_count": 10,
   "metadata": {},
   "outputs": [
    {
     "data": {
      "text/html": [
       "<div>\n",
       "<style scoped>\n",
       "    .dataframe tbody tr th:only-of-type {\n",
       "        vertical-align: middle;\n",
       "    }\n",
       "\n",
       "    .dataframe tbody tr th {\n",
       "        vertical-align: top;\n",
       "    }\n",
       "\n",
       "    .dataframe thead th {\n",
       "        text-align: right;\n",
       "    }\n",
       "</style>\n",
       "<table border=\"1\" class=\"dataframe\">\n",
       "  <thead>\n",
       "    <tr style=\"text-align: right;\">\n",
       "      <th></th>\n",
       "      <th>Unnamed: 0</th>\n",
       "      <th>userId</th>\n",
       "      <th>total_duration</th>\n",
       "      <th>count</th>\n",
       "      <th>_id</th>\n",
       "      <th>name</th>\n",
       "      <th>role_id</th>\n",
       "      <th>joining_date</th>\n",
       "      <th>department</th>\n",
       "      <th>mail</th>\n",
       "      <th>created_at</th>\n",
       "      <th>updated_at</th>\n",
       "      <th>password</th>\n",
       "      <th>profileImage</th>\n",
       "      <th>role_name</th>\n",
       "    </tr>\n",
       "  </thead>\n",
       "  <tbody>\n",
       "    <tr>\n",
       "      <th>0</th>\n",
       "      <td>0</td>\n",
       "      <td>0001cd17-b1ef-481e-8f16-b86c03222af3</td>\n",
       "      <td>298 days</td>\n",
       "      <td>5</td>\n",
       "      <td>0001cd17-b1ef-481e-8f16-b86c03222af3</td>\n",
       "      <td>Stephanie Doyle</td>\n",
       "      <td>4e0c4606-0668-4356-bb17-e3b13140c28e</td>\n",
       "      <td>2020-08-25T17:39:23</td>\n",
       "      <td>FULL_STACK</td>\n",
       "      <td>dianaharmon@example.com</td>\n",
       "      <td>2022-02-20</td>\n",
       "      <td>2022-05-23</td>\n",
       "      <td>c(0JdJY)+0</td>\n",
       "      <td>https://placekitten.com/949/26</td>\n",
       "      <td>UX/UI Designer</td>\n",
       "    </tr>\n",
       "    <tr>\n",
       "      <th>1</th>\n",
       "      <td>1</td>\n",
       "      <td>000897ae-ccc9-469e-92d6-e3ed79b4b369</td>\n",
       "      <td>1177 days</td>\n",
       "      <td>5</td>\n",
       "      <td>000897ae-ccc9-469e-92d6-e3ed79b4b369</td>\n",
       "      <td>Sonya Conrad</td>\n",
       "      <td>196c18a9-4aef-4755-a3ee-4b6f418c71e3</td>\n",
       "      <td>2022-05-12T17:19:00</td>\n",
       "      <td>ADMIN</td>\n",
       "      <td>darren95@example.org</td>\n",
       "      <td>2021-11-08</td>\n",
       "      <td>2021-11-22</td>\n",
       "      <td>%3u4!VV))j</td>\n",
       "      <td>https://dummyimage.com/967x454</td>\n",
       "      <td>Backend Developer</td>\n",
       "    </tr>\n",
       "    <tr>\n",
       "      <th>2</th>\n",
       "      <td>2</td>\n",
       "      <td>000a146b-94c2-45e6-99ac-eb62ac2b022e</td>\n",
       "      <td>3 days</td>\n",
       "      <td>5</td>\n",
       "      <td>000a146b-94c2-45e6-99ac-eb62ac2b022e</td>\n",
       "      <td>Rhonda Lyons</td>\n",
       "      <td>ccb4b4f9-80cb-4f1b-9ae8-f16d9da11659</td>\n",
       "      <td>2022-12-20T03:38:29</td>\n",
       "      <td>DEVOPS</td>\n",
       "      <td>oyoder@example.org</td>\n",
       "      <td>2024-05-03</td>\n",
       "      <td>2021-05-11</td>\n",
       "      <td>4ipDG2O9R$</td>\n",
       "      <td>https://dummyimage.com/203x506</td>\n",
       "      <td>Cloud Engineer</td>\n",
       "    </tr>\n",
       "    <tr>\n",
       "      <th>3</th>\n",
       "      <td>3</td>\n",
       "      <td>000b0fad-ede6-4786-bee6-b8cefba98cf3</td>\n",
       "      <td>706 days</td>\n",
       "      <td>5</td>\n",
       "      <td>000b0fad-ede6-4786-bee6-b8cefba98cf3</td>\n",
       "      <td>Anna Paul</td>\n",
       "      <td>663c1743-1dc9-4c1a-8200-701078aefaf8</td>\n",
       "      <td>2023-03-21T22:30:14</td>\n",
       "      <td>DEVOPS</td>\n",
       "      <td>josephlester@example.com</td>\n",
       "      <td>2023-05-15</td>\n",
       "      <td>2021-04-21</td>\n",
       "      <td>Li1B*f#3f@</td>\n",
       "      <td>https://placekitten.com/87/673</td>\n",
       "      <td>Technical Writer</td>\n",
       "    </tr>\n",
       "    <tr>\n",
       "      <th>4</th>\n",
       "      <td>4</td>\n",
       "      <td>000b87bb-2672-49e4-a4c5-ceb032b0395c</td>\n",
       "      <td>702 days</td>\n",
       "      <td>5</td>\n",
       "      <td>000b87bb-2672-49e4-a4c5-ceb032b0395c</td>\n",
       "      <td>Sarah Lee</td>\n",
       "      <td>791867b5-ae38-44aa-b2b0-c258b4f25afb</td>\n",
       "      <td>2024-04-19T05:14:46</td>\n",
       "      <td>ADMIN</td>\n",
       "      <td>courtney01@example.com</td>\n",
       "      <td>2023-08-02</td>\n",
       "      <td>2024-08-05</td>\n",
       "      <td>pV6Q&amp;x@@M*</td>\n",
       "      <td>https://picsum.photos/496/736</td>\n",
       "      <td>Full Stack Developer</td>\n",
       "    </tr>\n",
       "    <tr>\n",
       "      <th>...</th>\n",
       "      <td>...</td>\n",
       "      <td>...</td>\n",
       "      <td>...</td>\n",
       "      <td>...</td>\n",
       "      <td>...</td>\n",
       "      <td>...</td>\n",
       "      <td>...</td>\n",
       "      <td>...</td>\n",
       "      <td>...</td>\n",
       "      <td>...</td>\n",
       "      <td>...</td>\n",
       "      <td>...</td>\n",
       "      <td>...</td>\n",
       "      <td>...</td>\n",
       "      <td>...</td>\n",
       "    </tr>\n",
       "    <tr>\n",
       "      <th>29995</th>\n",
       "      <td>29995</td>\n",
       "      <td>fffaad5e-3a4e-44b5-94cd-3d65eb708a19</td>\n",
       "      <td>5 days</td>\n",
       "      <td>5</td>\n",
       "      <td>fffaad5e-3a4e-44b5-94cd-3d65eb708a19</td>\n",
       "      <td>Christopher Wiggins</td>\n",
       "      <td>1a52dd70-8466-4e47-8600-1677136f4fec</td>\n",
       "      <td>2022-04-08T22:06:50</td>\n",
       "      <td>DATA_ANALYTICS</td>\n",
       "      <td>ronald88@example.com</td>\n",
       "      <td>2021-10-29</td>\n",
       "      <td>2020-03-09</td>\n",
       "      <td>QQCMB8Nm&amp;7</td>\n",
       "      <td>https://dummyimage.com/237x850</td>\n",
       "      <td>Data Scientist</td>\n",
       "    </tr>\n",
       "    <tr>\n",
       "      <th>29996</th>\n",
       "      <td>29996</td>\n",
       "      <td>fffb108d-e53b-4aaf-8cd7-7b93f94f7bc8</td>\n",
       "      <td>811 days</td>\n",
       "      <td>5</td>\n",
       "      <td>fffb108d-e53b-4aaf-8cd7-7b93f94f7bc8</td>\n",
       "      <td>Ronald Flores</td>\n",
       "      <td>2ff032a8-e315-4073-afa5-9906c87db625</td>\n",
       "      <td>2021-08-21T05:34:20</td>\n",
       "      <td>DEVOPS</td>\n",
       "      <td>becky16@example.com</td>\n",
       "      <td>2023-07-09</td>\n",
       "      <td>2021-03-22</td>\n",
       "      <td>^u3c6Af%7&amp;</td>\n",
       "      <td>https://picsum.photos/768/197</td>\n",
       "      <td>Cybersecurity Analyst</td>\n",
       "    </tr>\n",
       "    <tr>\n",
       "      <th>29997</th>\n",
       "      <td>29997</td>\n",
       "      <td>fffc7db5-783f-4895-b112-a2fd063f7506</td>\n",
       "      <td>168 days</td>\n",
       "      <td>5</td>\n",
       "      <td>fffc7db5-783f-4895-b112-a2fd063f7506</td>\n",
       "      <td>Stephanie Price</td>\n",
       "      <td>196c18a9-4aef-4755-a3ee-4b6f418c71e3</td>\n",
       "      <td>2020-06-28T10:40:45</td>\n",
       "      <td>OTHER</td>\n",
       "      <td>derrickkelley@example.org</td>\n",
       "      <td>2023-09-04</td>\n",
       "      <td>2021-08-11</td>\n",
       "      <td>@2xH@qcsrq</td>\n",
       "      <td>https://placekitten.com/89/364</td>\n",
       "      <td>Backend Developer</td>\n",
       "    </tr>\n",
       "    <tr>\n",
       "      <th>29998</th>\n",
       "      <td>29998</td>\n",
       "      <td>fffd14c3-8e1d-4cf2-bc4b-8db1ac44f8b9</td>\n",
       "      <td>774 days</td>\n",
       "      <td>5</td>\n",
       "      <td>fffd14c3-8e1d-4cf2-bc4b-8db1ac44f8b9</td>\n",
       "      <td>Glenda Stevens</td>\n",
       "      <td>4e0c4606-0668-4356-bb17-e3b13140c28e</td>\n",
       "      <td>2022-01-09T23:50:06</td>\n",
       "      <td>ADMIN</td>\n",
       "      <td>bvalenzuela@example.net</td>\n",
       "      <td>2022-01-11</td>\n",
       "      <td>2023-01-26</td>\n",
       "      <td>ZC9+2bHs#r</td>\n",
       "      <td>https://picsum.photos/987/310</td>\n",
       "      <td>UX/UI Designer</td>\n",
       "    </tr>\n",
       "    <tr>\n",
       "      <th>29999</th>\n",
       "      <td>29999</td>\n",
       "      <td>fffdab14-bcee-411e-9492-1b9ac5b816eb</td>\n",
       "      <td>302 days</td>\n",
       "      <td>5</td>\n",
       "      <td>fffdab14-bcee-411e-9492-1b9ac5b816eb</td>\n",
       "      <td>Jessica Velasquez</td>\n",
       "      <td>196c18a9-4aef-4755-a3ee-4b6f418c71e3</td>\n",
       "      <td>2021-03-25T14:29:08</td>\n",
       "      <td>FULL_STACK</td>\n",
       "      <td>jacob27@example.org</td>\n",
       "      <td>2021-09-28</td>\n",
       "      <td>2020-11-24</td>\n",
       "      <td>G7_Oy2Y9@i</td>\n",
       "      <td>https://picsum.photos/862/439</td>\n",
       "      <td>Backend Developer</td>\n",
       "    </tr>\n",
       "  </tbody>\n",
       "</table>\n",
       "<p>30000 rows × 15 columns</p>\n",
       "</div>"
      ],
      "text/plain": [
       "       Unnamed: 0                                userId total_duration  count  \\\n",
       "0               0  0001cd17-b1ef-481e-8f16-b86c03222af3       298 days      5   \n",
       "1               1  000897ae-ccc9-469e-92d6-e3ed79b4b369      1177 days      5   \n",
       "2               2  000a146b-94c2-45e6-99ac-eb62ac2b022e         3 days      5   \n",
       "3               3  000b0fad-ede6-4786-bee6-b8cefba98cf3       706 days      5   \n",
       "4               4  000b87bb-2672-49e4-a4c5-ceb032b0395c       702 days      5   \n",
       "...           ...                                   ...            ...    ...   \n",
       "29995       29995  fffaad5e-3a4e-44b5-94cd-3d65eb708a19         5 days      5   \n",
       "29996       29996  fffb108d-e53b-4aaf-8cd7-7b93f94f7bc8       811 days      5   \n",
       "29997       29997  fffc7db5-783f-4895-b112-a2fd063f7506       168 days      5   \n",
       "29998       29998  fffd14c3-8e1d-4cf2-bc4b-8db1ac44f8b9       774 days      5   \n",
       "29999       29999  fffdab14-bcee-411e-9492-1b9ac5b816eb       302 days      5   \n",
       "\n",
       "                                        _id                 name  \\\n",
       "0      0001cd17-b1ef-481e-8f16-b86c03222af3      Stephanie Doyle   \n",
       "1      000897ae-ccc9-469e-92d6-e3ed79b4b369         Sonya Conrad   \n",
       "2      000a146b-94c2-45e6-99ac-eb62ac2b022e         Rhonda Lyons   \n",
       "3      000b0fad-ede6-4786-bee6-b8cefba98cf3            Anna Paul   \n",
       "4      000b87bb-2672-49e4-a4c5-ceb032b0395c            Sarah Lee   \n",
       "...                                     ...                  ...   \n",
       "29995  fffaad5e-3a4e-44b5-94cd-3d65eb708a19  Christopher Wiggins   \n",
       "29996  fffb108d-e53b-4aaf-8cd7-7b93f94f7bc8        Ronald Flores   \n",
       "29997  fffc7db5-783f-4895-b112-a2fd063f7506      Stephanie Price   \n",
       "29998  fffd14c3-8e1d-4cf2-bc4b-8db1ac44f8b9       Glenda Stevens   \n",
       "29999  fffdab14-bcee-411e-9492-1b9ac5b816eb    Jessica Velasquez   \n",
       "\n",
       "                                    role_id         joining_date  \\\n",
       "0      4e0c4606-0668-4356-bb17-e3b13140c28e  2020-08-25T17:39:23   \n",
       "1      196c18a9-4aef-4755-a3ee-4b6f418c71e3  2022-05-12T17:19:00   \n",
       "2      ccb4b4f9-80cb-4f1b-9ae8-f16d9da11659  2022-12-20T03:38:29   \n",
       "3      663c1743-1dc9-4c1a-8200-701078aefaf8  2023-03-21T22:30:14   \n",
       "4      791867b5-ae38-44aa-b2b0-c258b4f25afb  2024-04-19T05:14:46   \n",
       "...                                     ...                  ...   \n",
       "29995  1a52dd70-8466-4e47-8600-1677136f4fec  2022-04-08T22:06:50   \n",
       "29996  2ff032a8-e315-4073-afa5-9906c87db625  2021-08-21T05:34:20   \n",
       "29997  196c18a9-4aef-4755-a3ee-4b6f418c71e3  2020-06-28T10:40:45   \n",
       "29998  4e0c4606-0668-4356-bb17-e3b13140c28e  2022-01-09T23:50:06   \n",
       "29999  196c18a9-4aef-4755-a3ee-4b6f418c71e3  2021-03-25T14:29:08   \n",
       "\n",
       "           department                       mail  created_at  updated_at  \\\n",
       "0          FULL_STACK    dianaharmon@example.com  2022-02-20  2022-05-23   \n",
       "1               ADMIN       darren95@example.org  2021-11-08  2021-11-22   \n",
       "2              DEVOPS         oyoder@example.org  2024-05-03  2021-05-11   \n",
       "3              DEVOPS   josephlester@example.com  2023-05-15  2021-04-21   \n",
       "4               ADMIN     courtney01@example.com  2023-08-02  2024-08-05   \n",
       "...               ...                        ...         ...         ...   \n",
       "29995  DATA_ANALYTICS       ronald88@example.com  2021-10-29  2020-03-09   \n",
       "29996          DEVOPS        becky16@example.com  2023-07-09  2021-03-22   \n",
       "29997           OTHER  derrickkelley@example.org  2023-09-04  2021-08-11   \n",
       "29998           ADMIN    bvalenzuela@example.net  2022-01-11  2023-01-26   \n",
       "29999      FULL_STACK        jacob27@example.org  2021-09-28  2020-11-24   \n",
       "\n",
       "         password                    profileImage              role_name  \n",
       "0      c(0JdJY)+0  https://placekitten.com/949/26         UX/UI Designer  \n",
       "1      %3u4!VV))j  https://dummyimage.com/967x454      Backend Developer  \n",
       "2      4ipDG2O9R$  https://dummyimage.com/203x506         Cloud Engineer  \n",
       "3      Li1B*f#3f@  https://placekitten.com/87/673       Technical Writer  \n",
       "4      pV6Q&x@@M*   https://picsum.photos/496/736   Full Stack Developer  \n",
       "...           ...                             ...                    ...  \n",
       "29995  QQCMB8Nm&7  https://dummyimage.com/237x850         Data Scientist  \n",
       "29996  ^u3c6Af%7&   https://picsum.photos/768/197  Cybersecurity Analyst  \n",
       "29997  @2xH@qcsrq  https://placekitten.com/89/364      Backend Developer  \n",
       "29998  ZC9+2bHs#r   https://picsum.photos/987/310         UX/UI Designer  \n",
       "29999  G7_Oy2Y9@i   https://picsum.photos/862/439      Backend Developer  \n",
       "\n",
       "[30000 rows x 15 columns]"
      ]
     },
     "execution_count": 10,
     "metadata": {},
     "output_type": "execute_result"
    }
   ],
   "source": [
    "# roles_df = pd.read_csv('E:/JMAN/fp/DataEngineering/prep/prep_user.csv')\n",
    "roles_df = pd.read_csv('E:/JMAN/fp/DataEngineering/prep/prep_user.csv')\n",
    "roles_df"
   ]
  },
  {
   "cell_type": "code",
   "execution_count": 11,
   "metadata": {},
   "outputs": [
    {
     "data": {
      "text/plain": [
       "(30000, 15)"
      ]
     },
     "execution_count": 11,
     "metadata": {},
     "output_type": "execute_result"
    }
   ],
   "source": [
    "roles_df.shape"
   ]
  },
  {
   "cell_type": "code",
   "execution_count": 12,
   "metadata": {},
   "outputs": [
    {
     "data": {
      "text/plain": [
       "(300000, 7)"
      ]
     },
     "execution_count": 12,
     "metadata": {},
     "output_type": "execute_result"
    }
   ],
   "source": [
    "df.shape"
   ]
  },
  {
   "cell_type": "code",
   "execution_count": 13,
   "metadata": {},
   "outputs": [
    {
     "data": {
      "text/plain": [
       "Unnamed: 0    0\n",
       "_id           0\n",
       "userId        0\n",
       "skillId       0\n",
       "score         0\n",
       "user_name     0\n",
       "skill_name    0\n",
       "dtype: int64"
      ]
     },
     "execution_count": 13,
     "metadata": {},
     "output_type": "execute_result"
    }
   ],
   "source": [
    "df.isnull().sum()"
   ]
  },
  {
   "cell_type": "code",
   "execution_count": 14,
   "metadata": {},
   "outputs": [],
   "source": [
    "\n",
    "merged_df=pd.merge(df,roles_df,left_on='userId',right_on='_id',how='inner')\n",
    "df=merged_df\n"
   ]
  },
  {
   "cell_type": "code",
   "execution_count": 15,
   "metadata": {},
   "outputs": [
    {
     "data": {
      "text/plain": [
       "(300000, 22)"
      ]
     },
     "execution_count": 15,
     "metadata": {},
     "output_type": "execute_result"
    }
   ],
   "source": [
    "df.shape"
   ]
  },
  {
   "cell_type": "code",
   "execution_count": 16,
   "metadata": {},
   "outputs": [
    {
     "data": {
      "text/html": [
       "<div>\n",
       "<style scoped>\n",
       "    .dataframe tbody tr th:only-of-type {\n",
       "        vertical-align: middle;\n",
       "    }\n",
       "\n",
       "    .dataframe tbody tr th {\n",
       "        vertical-align: top;\n",
       "    }\n",
       "\n",
       "    .dataframe thead th {\n",
       "        text-align: right;\n",
       "    }\n",
       "</style>\n",
       "<table border=\"1\" class=\"dataframe\">\n",
       "  <thead>\n",
       "    <tr style=\"text-align: right;\">\n",
       "      <th></th>\n",
       "      <th>Unnamed: 0</th>\n",
       "      <th>_id</th>\n",
       "      <th>name</th>\n",
       "      <th>created_at</th>\n",
       "      <th>updated_at</th>\n",
       "      <th>desc</th>\n",
       "      <th>skillId</th>\n",
       "      <th>user_count</th>\n",
       "    </tr>\n",
       "  </thead>\n",
       "  <tbody>\n",
       "    <tr>\n",
       "      <th>0</th>\n",
       "      <td>0</td>\n",
       "      <td>640c213d-8a6a-4056-8097-f503261f10f2</td>\n",
       "      <td>Java</td>\n",
       "      <td>2023-11-30</td>\n",
       "      <td>2024-08-22</td>\n",
       "      <td>Java</td>\n",
       "      <td>640c213d-8a6a-4056-8097-f503261f10f2</td>\n",
       "      <td>2035</td>\n",
       "    </tr>\n",
       "    <tr>\n",
       "      <th>1</th>\n",
       "      <td>1</td>\n",
       "      <td>88e8b761-f319-43ad-b4a5-f7a4ec5ce84a</td>\n",
       "      <td>Python</td>\n",
       "      <td>2021-05-09</td>\n",
       "      <td>2023-10-08</td>\n",
       "      <td>Python</td>\n",
       "      <td>88e8b761-f319-43ad-b4a5-f7a4ec5ce84a</td>\n",
       "      <td>1965</td>\n",
       "    </tr>\n",
       "    <tr>\n",
       "      <th>2</th>\n",
       "      <td>2</td>\n",
       "      <td>e191e70b-6f79-4445-b734-9cc534f8b0c5</td>\n",
       "      <td>C#</td>\n",
       "      <td>2021-05-05</td>\n",
       "      <td>2021-07-02</td>\n",
       "      <td>C#</td>\n",
       "      <td>e191e70b-6f79-4445-b734-9cc534f8b0c5</td>\n",
       "      <td>1913</td>\n",
       "    </tr>\n",
       "    <tr>\n",
       "      <th>3</th>\n",
       "      <td>3</td>\n",
       "      <td>c3fa5509-12fc-4ea6-8757-922636072436</td>\n",
       "      <td>JavaScript</td>\n",
       "      <td>2020-11-25</td>\n",
       "      <td>2023-04-21</td>\n",
       "      <td>JavaScript</td>\n",
       "      <td>c3fa5509-12fc-4ea6-8757-922636072436</td>\n",
       "      <td>1997</td>\n",
       "    </tr>\n",
       "    <tr>\n",
       "      <th>4</th>\n",
       "      <td>4</td>\n",
       "      <td>b67791b0-c917-4aed-bd8b-62d0f1ac33f8</td>\n",
       "      <td>React</td>\n",
       "      <td>2023-09-13</td>\n",
       "      <td>2023-12-07</td>\n",
       "      <td>React</td>\n",
       "      <td>b67791b0-c917-4aed-bd8b-62d0f1ac33f8</td>\n",
       "      <td>1990</td>\n",
       "    </tr>\n",
       "  </tbody>\n",
       "</table>\n",
       "</div>"
      ],
      "text/plain": [
       "   Unnamed: 0                                   _id        name  created_at  \\\n",
       "0           0  640c213d-8a6a-4056-8097-f503261f10f2        Java  2023-11-30   \n",
       "1           1  88e8b761-f319-43ad-b4a5-f7a4ec5ce84a      Python  2021-05-09   \n",
       "2           2  e191e70b-6f79-4445-b734-9cc534f8b0c5          C#  2021-05-05   \n",
       "3           3  c3fa5509-12fc-4ea6-8757-922636072436  JavaScript  2020-11-25   \n",
       "4           4  b67791b0-c917-4aed-bd8b-62d0f1ac33f8       React  2023-09-13   \n",
       "\n",
       "   updated_at        desc                               skillId  user_count  \n",
       "0  2024-08-22        Java  640c213d-8a6a-4056-8097-f503261f10f2        2035  \n",
       "1  2023-10-08      Python  88e8b761-f319-43ad-b4a5-f7a4ec5ce84a        1965  \n",
       "2  2021-07-02          C#  e191e70b-6f79-4445-b734-9cc534f8b0c5        1913  \n",
       "3  2023-04-21  JavaScript  c3fa5509-12fc-4ea6-8757-922636072436        1997  \n",
       "4  2023-12-07       React  b67791b0-c917-4aed-bd8b-62d0f1ac33f8        1990  "
      ]
     },
     "execution_count": 16,
     "metadata": {},
     "output_type": "execute_result"
    }
   ],
   "source": [
    "# roles_df = pd.read_csv('E:/JMAN/fp/DataEngineering/prep/prep_certification.csv')\n",
    "roles_df = pd.read_csv('E:/JMAN/fp/DataEngineering/prep/prep_skill.csv')\n",
    "roles_df.head()"
   ]
  },
  {
   "cell_type": "code",
   "execution_count": 17,
   "metadata": {},
   "outputs": [
    {
     "data": {
      "text/plain": [
       "Unnamed: 0_x      0\n",
       "_id_x             0\n",
       "userId_x          0\n",
       "skillId           0\n",
       "score             0\n",
       "user_name         0\n",
       "skill_name        0\n",
       "Unnamed: 0_y      0\n",
       "userId_y          0\n",
       "total_duration    0\n",
       "count             0\n",
       "_id_y             0\n",
       "name              0\n",
       "role_id           0\n",
       "joining_date      0\n",
       "department        0\n",
       "mail              0\n",
       "created_at        0\n",
       "updated_at        0\n",
       "password          0\n",
       "profileImage      0\n",
       "role_name         0\n",
       "dtype: int64"
      ]
     },
     "execution_count": 17,
     "metadata": {},
     "output_type": "execute_result"
    }
   ],
   "source": [
    "df.isnull().sum()"
   ]
  },
  {
   "cell_type": "code",
   "execution_count": 18,
   "metadata": {},
   "outputs": [],
   "source": [
    "df.drop(['_id_y','userId_y',],inplace=True,axis=1)"
   ]
  },
  {
   "cell_type": "code",
   "execution_count": 19,
   "metadata": {},
   "outputs": [
    {
     "data": {
      "text/plain": [
       "(300000, 20)"
      ]
     },
     "execution_count": 19,
     "metadata": {},
     "output_type": "execute_result"
    }
   ],
   "source": [
    "df.shape"
   ]
  },
  {
   "cell_type": "code",
   "execution_count": 20,
   "metadata": {},
   "outputs": [],
   "source": [
    "df.drop(['Unnamed: 0_y','Unnamed: 0_x',],inplace=True,axis=1)"
   ]
  },
  {
   "cell_type": "code",
   "execution_count": 21,
   "metadata": {},
   "outputs": [
    {
     "data": {
      "text/html": [
       "<div>\n",
       "<style scoped>\n",
       "    .dataframe tbody tr th:only-of-type {\n",
       "        vertical-align: middle;\n",
       "    }\n",
       "\n",
       "    .dataframe tbody tr th {\n",
       "        vertical-align: top;\n",
       "    }\n",
       "\n",
       "    .dataframe thead th {\n",
       "        text-align: right;\n",
       "    }\n",
       "</style>\n",
       "<table border=\"1\" class=\"dataframe\">\n",
       "  <thead>\n",
       "    <tr style=\"text-align: right;\">\n",
       "      <th></th>\n",
       "      <th>_id</th>\n",
       "      <th>userId</th>\n",
       "      <th>skillId</th>\n",
       "      <th>score</th>\n",
       "      <th>user_name</th>\n",
       "      <th>skill_name</th>\n",
       "      <th>total_duration</th>\n",
       "      <th>count</th>\n",
       "      <th>name</th>\n",
       "      <th>role_id</th>\n",
       "      <th>joining_date</th>\n",
       "      <th>department</th>\n",
       "      <th>mail</th>\n",
       "      <th>created_at</th>\n",
       "      <th>updated_at</th>\n",
       "      <th>password</th>\n",
       "      <th>profileImage</th>\n",
       "      <th>role_name</th>\n",
       "    </tr>\n",
       "  </thead>\n",
       "  <tbody>\n",
       "    <tr>\n",
       "      <th>0</th>\n",
       "      <td>01504b15-3b41-442f-ba56-7718029bd960</td>\n",
       "      <td>67fb9f26-ec27-43d2-9966-a8a2e39bafa0</td>\n",
       "      <td>b5d39d2f-52f1-46d1-ae42-1015112dcf15</td>\n",
       "      <td>99</td>\n",
       "      <td>Willie French</td>\n",
       "      <td>Data Analysis</td>\n",
       "      <td>1025 days</td>\n",
       "      <td>5</td>\n",
       "      <td>Willie French</td>\n",
       "      <td>4a7cdfaf-b436-46e2-a8a2-5dc4835d40b9</td>\n",
       "      <td>2021-01-05T07:16:14</td>\n",
       "      <td>DATA_ENGINEERING</td>\n",
       "      <td>wilsonsusan@example.com</td>\n",
       "      <td>2022-11-03</td>\n",
       "      <td>2024-09-21</td>\n",
       "      <td>!I^jSfvr5g</td>\n",
       "      <td>https://dummyimage.com/558x59</td>\n",
       "      <td>Software Engineer</td>\n",
       "    </tr>\n",
       "    <tr>\n",
       "      <th>1</th>\n",
       "      <td>4b0171a1-6760-47f9-af66-3430ff4958a6</td>\n",
       "      <td>67fb9f26-ec27-43d2-9966-a8a2e39bafa0</td>\n",
       "      <td>488eb409-d29f-4a50-af21-bbff8d8d7cfd</td>\n",
       "      <td>70</td>\n",
       "      <td>Willie French</td>\n",
       "      <td>SQL</td>\n",
       "      <td>1025 days</td>\n",
       "      <td>5</td>\n",
       "      <td>Willie French</td>\n",
       "      <td>4a7cdfaf-b436-46e2-a8a2-5dc4835d40b9</td>\n",
       "      <td>2021-01-05T07:16:14</td>\n",
       "      <td>DATA_ENGINEERING</td>\n",
       "      <td>wilsonsusan@example.com</td>\n",
       "      <td>2022-11-03</td>\n",
       "      <td>2024-09-21</td>\n",
       "      <td>!I^jSfvr5g</td>\n",
       "      <td>https://dummyimage.com/558x59</td>\n",
       "      <td>Software Engineer</td>\n",
       "    </tr>\n",
       "    <tr>\n",
       "      <th>2</th>\n",
       "      <td>fec2411f-6133-444b-9236-66ceb0ad741d</td>\n",
       "      <td>67fb9f26-ec27-43d2-9966-a8a2e39bafa0</td>\n",
       "      <td>cac076e1-07d0-4f96-93b0-e8c323d3e82c</td>\n",
       "      <td>80</td>\n",
       "      <td>Willie French</td>\n",
       "      <td>NLP</td>\n",
       "      <td>1025 days</td>\n",
       "      <td>5</td>\n",
       "      <td>Willie French</td>\n",
       "      <td>4a7cdfaf-b436-46e2-a8a2-5dc4835d40b9</td>\n",
       "      <td>2021-01-05T07:16:14</td>\n",
       "      <td>DATA_ENGINEERING</td>\n",
       "      <td>wilsonsusan@example.com</td>\n",
       "      <td>2022-11-03</td>\n",
       "      <td>2024-09-21</td>\n",
       "      <td>!I^jSfvr5g</td>\n",
       "      <td>https://dummyimage.com/558x59</td>\n",
       "      <td>Software Engineer</td>\n",
       "    </tr>\n",
       "    <tr>\n",
       "      <th>3</th>\n",
       "      <td>69e2eeda-7887-4310-a4f6-7f014b71bf25</td>\n",
       "      <td>67fb9f26-ec27-43d2-9966-a8a2e39bafa0</td>\n",
       "      <td>a0fa9bb2-78f0-4ac2-bb8e-96af991441af</td>\n",
       "      <td>78</td>\n",
       "      <td>Willie French</td>\n",
       "      <td>Business Intelligence</td>\n",
       "      <td>1025 days</td>\n",
       "      <td>5</td>\n",
       "      <td>Willie French</td>\n",
       "      <td>4a7cdfaf-b436-46e2-a8a2-5dc4835d40b9</td>\n",
       "      <td>2021-01-05T07:16:14</td>\n",
       "      <td>DATA_ENGINEERING</td>\n",
       "      <td>wilsonsusan@example.com</td>\n",
       "      <td>2022-11-03</td>\n",
       "      <td>2024-09-21</td>\n",
       "      <td>!I^jSfvr5g</td>\n",
       "      <td>https://dummyimage.com/558x59</td>\n",
       "      <td>Software Engineer</td>\n",
       "    </tr>\n",
       "    <tr>\n",
       "      <th>4</th>\n",
       "      <td>37a54d15-5828-4311-b34f-8fcf1a78fbe7</td>\n",
       "      <td>67fb9f26-ec27-43d2-9966-a8a2e39bafa0</td>\n",
       "      <td>bf8529c8-2bb5-45f2-94ac-b53eb92d13a5</td>\n",
       "      <td>34</td>\n",
       "      <td>Willie French</td>\n",
       "      <td>DevOps Practices</td>\n",
       "      <td>1025 days</td>\n",
       "      <td>5</td>\n",
       "      <td>Willie French</td>\n",
       "      <td>4a7cdfaf-b436-46e2-a8a2-5dc4835d40b9</td>\n",
       "      <td>2021-01-05T07:16:14</td>\n",
       "      <td>DATA_ENGINEERING</td>\n",
       "      <td>wilsonsusan@example.com</td>\n",
       "      <td>2022-11-03</td>\n",
       "      <td>2024-09-21</td>\n",
       "      <td>!I^jSfvr5g</td>\n",
       "      <td>https://dummyimage.com/558x59</td>\n",
       "      <td>Software Engineer</td>\n",
       "    </tr>\n",
       "    <tr>\n",
       "      <th>...</th>\n",
       "      <td>...</td>\n",
       "      <td>...</td>\n",
       "      <td>...</td>\n",
       "      <td>...</td>\n",
       "      <td>...</td>\n",
       "      <td>...</td>\n",
       "      <td>...</td>\n",
       "      <td>...</td>\n",
       "      <td>...</td>\n",
       "      <td>...</td>\n",
       "      <td>...</td>\n",
       "      <td>...</td>\n",
       "      <td>...</td>\n",
       "      <td>...</td>\n",
       "      <td>...</td>\n",
       "      <td>...</td>\n",
       "      <td>...</td>\n",
       "      <td>...</td>\n",
       "    </tr>\n",
       "    <tr>\n",
       "      <th>299995</th>\n",
       "      <td>b0daf136-4751-432b-95e6-c1993511dd80</td>\n",
       "      <td>9e7050bd-8526-4fa9-a0e9-4f94fa81d1e6</td>\n",
       "      <td>e9cabb60-773f-4b49-b46f-d2601e94c8be</td>\n",
       "      <td>92</td>\n",
       "      <td>Kristen Fox</td>\n",
       "      <td>Model Deployment</td>\n",
       "      <td>1299 days</td>\n",
       "      <td>5</td>\n",
       "      <td>Kristen Fox</td>\n",
       "      <td>663c1743-1dc9-4c1a-8200-701078aefaf8</td>\n",
       "      <td>2021-03-27T16:03:24</td>\n",
       "      <td>DATA_ANALYTICS</td>\n",
       "      <td>victoria28@example.com</td>\n",
       "      <td>2023-07-28</td>\n",
       "      <td>2021-02-02</td>\n",
       "      <td>*+MuJukV@3</td>\n",
       "      <td>https://dummyimage.com/255x241</td>\n",
       "      <td>Technical Writer</td>\n",
       "    </tr>\n",
       "    <tr>\n",
       "      <th>299996</th>\n",
       "      <td>6f820e17-5dd9-444e-9a76-551b23d79f7e</td>\n",
       "      <td>9e7050bd-8526-4fa9-a0e9-4f94fa81d1e6</td>\n",
       "      <td>30ac28f2-99e6-46fb-8187-85575ce7ed92</td>\n",
       "      <td>95</td>\n",
       "      <td>Kristen Fox</td>\n",
       "      <td>Node.js</td>\n",
       "      <td>1299 days</td>\n",
       "      <td>5</td>\n",
       "      <td>Kristen Fox</td>\n",
       "      <td>663c1743-1dc9-4c1a-8200-701078aefaf8</td>\n",
       "      <td>2021-03-27T16:03:24</td>\n",
       "      <td>DATA_ANALYTICS</td>\n",
       "      <td>victoria28@example.com</td>\n",
       "      <td>2023-07-28</td>\n",
       "      <td>2021-02-02</td>\n",
       "      <td>*+MuJukV@3</td>\n",
       "      <td>https://dummyimage.com/255x241</td>\n",
       "      <td>Technical Writer</td>\n",
       "    </tr>\n",
       "    <tr>\n",
       "      <th>299997</th>\n",
       "      <td>2d28e688-f6f7-4f44-b705-8b1be2a76ba4</td>\n",
       "      <td>9e7050bd-8526-4fa9-a0e9-4f94fa81d1e6</td>\n",
       "      <td>907e4c6a-7446-4541-a0f4-677832bf9fbd</td>\n",
       "      <td>75</td>\n",
       "      <td>Kristen Fox</td>\n",
       "      <td>Business Analysis</td>\n",
       "      <td>1299 days</td>\n",
       "      <td>5</td>\n",
       "      <td>Kristen Fox</td>\n",
       "      <td>663c1743-1dc9-4c1a-8200-701078aefaf8</td>\n",
       "      <td>2021-03-27T16:03:24</td>\n",
       "      <td>DATA_ANALYTICS</td>\n",
       "      <td>victoria28@example.com</td>\n",
       "      <td>2023-07-28</td>\n",
       "      <td>2021-02-02</td>\n",
       "      <td>*+MuJukV@3</td>\n",
       "      <td>https://dummyimage.com/255x241</td>\n",
       "      <td>Technical Writer</td>\n",
       "    </tr>\n",
       "    <tr>\n",
       "      <th>299998</th>\n",
       "      <td>2fc0eb2c-6561-4c83-802d-8041977cb300</td>\n",
       "      <td>9e7050bd-8526-4fa9-a0e9-4f94fa81d1e6</td>\n",
       "      <td>7da799ed-d9b8-424a-a25b-f8412e870184</td>\n",
       "      <td>1</td>\n",
       "      <td>Kristen Fox</td>\n",
       "      <td>Data Analysis</td>\n",
       "      <td>1299 days</td>\n",
       "      <td>5</td>\n",
       "      <td>Kristen Fox</td>\n",
       "      <td>663c1743-1dc9-4c1a-8200-701078aefaf8</td>\n",
       "      <td>2021-03-27T16:03:24</td>\n",
       "      <td>DATA_ANALYTICS</td>\n",
       "      <td>victoria28@example.com</td>\n",
       "      <td>2023-07-28</td>\n",
       "      <td>2021-02-02</td>\n",
       "      <td>*+MuJukV@3</td>\n",
       "      <td>https://dummyimage.com/255x241</td>\n",
       "      <td>Technical Writer</td>\n",
       "    </tr>\n",
       "    <tr>\n",
       "      <th>299999</th>\n",
       "      <td>320bad3d-d4be-4409-9f8e-53897aad023e</td>\n",
       "      <td>9e7050bd-8526-4fa9-a0e9-4f94fa81d1e6</td>\n",
       "      <td>b96d19aa-d1dd-490d-a14b-47cb63e3c4cd</td>\n",
       "      <td>40</td>\n",
       "      <td>Kristen Fox</td>\n",
       "      <td>Test Automation Tools</td>\n",
       "      <td>1299 days</td>\n",
       "      <td>5</td>\n",
       "      <td>Kristen Fox</td>\n",
       "      <td>663c1743-1dc9-4c1a-8200-701078aefaf8</td>\n",
       "      <td>2021-03-27T16:03:24</td>\n",
       "      <td>DATA_ANALYTICS</td>\n",
       "      <td>victoria28@example.com</td>\n",
       "      <td>2023-07-28</td>\n",
       "      <td>2021-02-02</td>\n",
       "      <td>*+MuJukV@3</td>\n",
       "      <td>https://dummyimage.com/255x241</td>\n",
       "      <td>Technical Writer</td>\n",
       "    </tr>\n",
       "  </tbody>\n",
       "</table>\n",
       "<p>300000 rows × 18 columns</p>\n",
       "</div>"
      ],
      "text/plain": [
       "                                         _id  \\\n",
       "0       01504b15-3b41-442f-ba56-7718029bd960   \n",
       "1       4b0171a1-6760-47f9-af66-3430ff4958a6   \n",
       "2       fec2411f-6133-444b-9236-66ceb0ad741d   \n",
       "3       69e2eeda-7887-4310-a4f6-7f014b71bf25   \n",
       "4       37a54d15-5828-4311-b34f-8fcf1a78fbe7   \n",
       "...                                      ...   \n",
       "299995  b0daf136-4751-432b-95e6-c1993511dd80   \n",
       "299996  6f820e17-5dd9-444e-9a76-551b23d79f7e   \n",
       "299997  2d28e688-f6f7-4f44-b705-8b1be2a76ba4   \n",
       "299998  2fc0eb2c-6561-4c83-802d-8041977cb300   \n",
       "299999  320bad3d-d4be-4409-9f8e-53897aad023e   \n",
       "\n",
       "                                      userId  \\\n",
       "0       67fb9f26-ec27-43d2-9966-a8a2e39bafa0   \n",
       "1       67fb9f26-ec27-43d2-9966-a8a2e39bafa0   \n",
       "2       67fb9f26-ec27-43d2-9966-a8a2e39bafa0   \n",
       "3       67fb9f26-ec27-43d2-9966-a8a2e39bafa0   \n",
       "4       67fb9f26-ec27-43d2-9966-a8a2e39bafa0   \n",
       "...                                      ...   \n",
       "299995  9e7050bd-8526-4fa9-a0e9-4f94fa81d1e6   \n",
       "299996  9e7050bd-8526-4fa9-a0e9-4f94fa81d1e6   \n",
       "299997  9e7050bd-8526-4fa9-a0e9-4f94fa81d1e6   \n",
       "299998  9e7050bd-8526-4fa9-a0e9-4f94fa81d1e6   \n",
       "299999  9e7050bd-8526-4fa9-a0e9-4f94fa81d1e6   \n",
       "\n",
       "                                     skillId  score      user_name  \\\n",
       "0       b5d39d2f-52f1-46d1-ae42-1015112dcf15     99  Willie French   \n",
       "1       488eb409-d29f-4a50-af21-bbff8d8d7cfd     70  Willie French   \n",
       "2       cac076e1-07d0-4f96-93b0-e8c323d3e82c     80  Willie French   \n",
       "3       a0fa9bb2-78f0-4ac2-bb8e-96af991441af     78  Willie French   \n",
       "4       bf8529c8-2bb5-45f2-94ac-b53eb92d13a5     34  Willie French   \n",
       "...                                      ...    ...            ...   \n",
       "299995  e9cabb60-773f-4b49-b46f-d2601e94c8be     92    Kristen Fox   \n",
       "299996  30ac28f2-99e6-46fb-8187-85575ce7ed92     95    Kristen Fox   \n",
       "299997  907e4c6a-7446-4541-a0f4-677832bf9fbd     75    Kristen Fox   \n",
       "299998  7da799ed-d9b8-424a-a25b-f8412e870184      1    Kristen Fox   \n",
       "299999  b96d19aa-d1dd-490d-a14b-47cb63e3c4cd     40    Kristen Fox   \n",
       "\n",
       "                   skill_name total_duration  count           name  \\\n",
       "0               Data Analysis      1025 days      5  Willie French   \n",
       "1                         SQL      1025 days      5  Willie French   \n",
       "2                         NLP      1025 days      5  Willie French   \n",
       "3       Business Intelligence      1025 days      5  Willie French   \n",
       "4            DevOps Practices      1025 days      5  Willie French   \n",
       "...                       ...            ...    ...            ...   \n",
       "299995       Model Deployment      1299 days      5    Kristen Fox   \n",
       "299996                Node.js      1299 days      5    Kristen Fox   \n",
       "299997      Business Analysis      1299 days      5    Kristen Fox   \n",
       "299998          Data Analysis      1299 days      5    Kristen Fox   \n",
       "299999  Test Automation Tools      1299 days      5    Kristen Fox   \n",
       "\n",
       "                                     role_id         joining_date  \\\n",
       "0       4a7cdfaf-b436-46e2-a8a2-5dc4835d40b9  2021-01-05T07:16:14   \n",
       "1       4a7cdfaf-b436-46e2-a8a2-5dc4835d40b9  2021-01-05T07:16:14   \n",
       "2       4a7cdfaf-b436-46e2-a8a2-5dc4835d40b9  2021-01-05T07:16:14   \n",
       "3       4a7cdfaf-b436-46e2-a8a2-5dc4835d40b9  2021-01-05T07:16:14   \n",
       "4       4a7cdfaf-b436-46e2-a8a2-5dc4835d40b9  2021-01-05T07:16:14   \n",
       "...                                      ...                  ...   \n",
       "299995  663c1743-1dc9-4c1a-8200-701078aefaf8  2021-03-27T16:03:24   \n",
       "299996  663c1743-1dc9-4c1a-8200-701078aefaf8  2021-03-27T16:03:24   \n",
       "299997  663c1743-1dc9-4c1a-8200-701078aefaf8  2021-03-27T16:03:24   \n",
       "299998  663c1743-1dc9-4c1a-8200-701078aefaf8  2021-03-27T16:03:24   \n",
       "299999  663c1743-1dc9-4c1a-8200-701078aefaf8  2021-03-27T16:03:24   \n",
       "\n",
       "              department                     mail  created_at  updated_at  \\\n",
       "0       DATA_ENGINEERING  wilsonsusan@example.com  2022-11-03  2024-09-21   \n",
       "1       DATA_ENGINEERING  wilsonsusan@example.com  2022-11-03  2024-09-21   \n",
       "2       DATA_ENGINEERING  wilsonsusan@example.com  2022-11-03  2024-09-21   \n",
       "3       DATA_ENGINEERING  wilsonsusan@example.com  2022-11-03  2024-09-21   \n",
       "4       DATA_ENGINEERING  wilsonsusan@example.com  2022-11-03  2024-09-21   \n",
       "...                  ...                      ...         ...         ...   \n",
       "299995    DATA_ANALYTICS   victoria28@example.com  2023-07-28  2021-02-02   \n",
       "299996    DATA_ANALYTICS   victoria28@example.com  2023-07-28  2021-02-02   \n",
       "299997    DATA_ANALYTICS   victoria28@example.com  2023-07-28  2021-02-02   \n",
       "299998    DATA_ANALYTICS   victoria28@example.com  2023-07-28  2021-02-02   \n",
       "299999    DATA_ANALYTICS   victoria28@example.com  2023-07-28  2021-02-02   \n",
       "\n",
       "          password                    profileImage          role_name  \n",
       "0       !I^jSfvr5g   https://dummyimage.com/558x59  Software Engineer  \n",
       "1       !I^jSfvr5g   https://dummyimage.com/558x59  Software Engineer  \n",
       "2       !I^jSfvr5g   https://dummyimage.com/558x59  Software Engineer  \n",
       "3       !I^jSfvr5g   https://dummyimage.com/558x59  Software Engineer  \n",
       "4       !I^jSfvr5g   https://dummyimage.com/558x59  Software Engineer  \n",
       "...            ...                             ...                ...  \n",
       "299995  *+MuJukV@3  https://dummyimage.com/255x241   Technical Writer  \n",
       "299996  *+MuJukV@3  https://dummyimage.com/255x241   Technical Writer  \n",
       "299997  *+MuJukV@3  https://dummyimage.com/255x241   Technical Writer  \n",
       "299998  *+MuJukV@3  https://dummyimage.com/255x241   Technical Writer  \n",
       "299999  *+MuJukV@3  https://dummyimage.com/255x241   Technical Writer  \n",
       "\n",
       "[300000 rows x 18 columns]"
      ]
     },
     "execution_count": 21,
     "metadata": {},
     "output_type": "execute_result"
    }
   ],
   "source": [
    "df.rename({\"_id_x\":\"_id\",\"userId_x\":\"userId\"},axis=1)"
   ]
  },
  {
   "cell_type": "code",
   "execution_count": 22,
   "metadata": {},
   "outputs": [
    {
     "data": {
      "text/plain": [
       "(300000, 18)"
      ]
     },
     "execution_count": 22,
     "metadata": {},
     "output_type": "execute_result"
    }
   ],
   "source": [
    "df.shape"
   ]
  },
  {
   "cell_type": "code",
   "execution_count": 23,
   "metadata": {},
   "outputs": [
    {
     "data": {
      "text/plain": [
       "_id_x             0\n",
       "userId_x          0\n",
       "skillId           0\n",
       "score             0\n",
       "user_name         0\n",
       "skill_name        0\n",
       "total_duration    0\n",
       "count             0\n",
       "name              0\n",
       "role_id           0\n",
       "joining_date      0\n",
       "department        0\n",
       "mail              0\n",
       "created_at        0\n",
       "updated_at        0\n",
       "password          0\n",
       "profileImage      0\n",
       "role_name         0\n",
       "dtype: int64"
      ]
     },
     "execution_count": 23,
     "metadata": {},
     "output_type": "execute_result"
    }
   ],
   "source": [
    "df.isnull().sum()"
   ]
  },
  {
   "cell_type": "code",
   "execution_count": 24,
   "metadata": {},
   "outputs": [
    {
     "data": {
      "text/plain": [
       "Unnamed: 0    0\n",
       "_id           0\n",
       "name          0\n",
       "created_at    0\n",
       "updated_at    0\n",
       "desc          0\n",
       "skillId       0\n",
       "user_count    0\n",
       "dtype: int64"
      ]
     },
     "execution_count": 24,
     "metadata": {},
     "output_type": "execute_result"
    }
   ],
   "source": [
    "roles_df.isna().sum()"
   ]
  },
  {
   "cell_type": "code",
   "execution_count": 25,
   "metadata": {},
   "outputs": [],
   "source": [
    "merged_df=pd.merge(df,roles_df,left_on='skillId',right_on='skillId')\n",
    "merged_df.shape\n",
    "df=merged_df"
   ]
  },
  {
   "cell_type": "code",
   "execution_count": 26,
   "metadata": {},
   "outputs": [
    {
     "data": {
      "text/plain": [
       "(300000, 25)"
      ]
     },
     "execution_count": 26,
     "metadata": {},
     "output_type": "execute_result"
    }
   ],
   "source": [
    "df.shape"
   ]
  },
  {
   "cell_type": "code",
   "execution_count": 27,
   "metadata": {},
   "outputs": [
    {
     "name": "stdout",
     "output_type": "stream",
     "text": [
      "Original dtypes:\n",
      "_id_x             string\n",
      "userId_x          object\n",
      "skillId           object\n",
      "score              Int64\n",
      "user_name         string\n",
      "skill_name        string\n",
      "total_duration    object\n",
      "count              int64\n",
      "name_x            object\n",
      "role_id           object\n",
      "joining_date      object\n",
      "department        object\n",
      "mail              object\n",
      "created_at_x      object\n",
      "updated_at_x      object\n",
      "password          object\n",
      "profileImage      object\n",
      "role_name         object\n",
      "Unnamed: 0         int64\n",
      "_id               object\n",
      "name_y            object\n",
      "created_at_y      object\n",
      "updated_at_y      object\n",
      "desc              object\n",
      "user_count         int64\n",
      "dtype: object\n",
      "\n",
      "Converted dtypes:\n",
      "_id_x             string\n",
      "userId_x          string\n",
      "skillId           string\n",
      "score              Int64\n",
      "user_name         string\n",
      "skill_name        string\n",
      "total_duration    string\n",
      "count              Int64\n",
      "name_x            string\n",
      "role_id           string\n",
      "joining_date      string\n",
      "department        string\n",
      "mail              string\n",
      "created_at_x      string\n",
      "updated_at_x      string\n",
      "password          string\n",
      "profileImage      string\n",
      "role_name         string\n",
      "Unnamed: 0         Int64\n",
      "_id               string\n",
      "name_y            string\n",
      "created_at_y      string\n",
      "updated_at_y      string\n",
      "desc              string\n",
      "user_count         Int64\n",
      "dtype: object\n"
     ]
    }
   ],
   "source": [
    "print(\"Original dtypes:\")\n",
    "print(df.dtypes)\n",
    "\n",
    "# Convert dtypes\n",
    "df=df.convert_dtypes()\n",
    "\n",
    "# Check new dtypes\n",
    "print(\"\\nConverted dtypes:\")\n",
    "print(df.convert_dtypes().dtypes)"
   ]
  },
  {
   "cell_type": "code",
   "execution_count": 28,
   "metadata": {},
   "outputs": [],
   "source": [
    "df.drop(['updated_at_y','created_at_y',],inplace=True,axis=1)"
   ]
  },
  {
   "cell_type": "code",
   "execution_count": 29,
   "metadata": {},
   "outputs": [],
   "source": [
    "df.drop(['name_y'],inplace=True,axis=1)"
   ]
  },
  {
   "cell_type": "code",
   "execution_count": 30,
   "metadata": {},
   "outputs": [
    {
     "data": {
      "text/plain": [
       "(300000, 22)"
      ]
     },
     "execution_count": 30,
     "metadata": {},
     "output_type": "execute_result"
    }
   ],
   "source": [
    "df.shape"
   ]
  },
  {
   "cell_type": "code",
   "execution_count": 33,
   "metadata": {},
   "outputs": [],
   "source": [
    "# df.to_csv('E:/JMAN/fp/DataEngineering/mart/mart_user_certification.csv')\n",
    "df.to_csv('E:/JMAN/fp/DataEngineering/mart/mart_user_skill.csv')"
   ]
  },
  {
   "cell_type": "code",
   "execution_count": null,
   "metadata": {},
   "outputs": [],
   "source": []
  }
 ],
 "metadata": {
  "kernelspec": {
   "display_name": "base",
   "language": "python",
   "name": "python3"
  },
  "language_info": {
   "codemirror_mode": {
    "name": "ipython",
    "version": 3
   },
   "file_extension": ".py",
   "mimetype": "text/x-python",
   "name": "python",
   "nbconvert_exporter": "python",
   "pygments_lexer": "ipython3",
   "version": "3.9.7"
  }
 },
 "nbformat": 4,
 "nbformat_minor": 2
}
