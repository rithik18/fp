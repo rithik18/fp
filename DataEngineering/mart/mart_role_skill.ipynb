{
 "cells": [
  {
   "cell_type": "code",
   "execution_count": 37,
   "metadata": {},
   "outputs": [],
   "source": [
    "import pandas as pd"
   ]
  },
  {
   "cell_type": "code",
   "execution_count": 38,
   "metadata": {},
   "outputs": [],
   "source": [
    "# user_csv=pd.read_csv('E:/JMAN/fp/DataEngineering/prep/prep_user_certification.csv')\n",
    "# user_csv=pd.read_csv('E:/JMAN/fp/DataEngineering/prep/prep_user_certification.csv')\n",
    "user_csv=pd.read_csv('E:/JMAN/fp/DataEngineering/prep/prep_role_skill.csv')\n"
   ]
  },
  {
   "cell_type": "code",
   "execution_count": 39,
   "metadata": {},
   "outputs": [],
   "source": [
    "df=pd.DataFrame(data=user_csv)"
   ]
  },
  {
   "cell_type": "code",
   "execution_count": 40,
   "metadata": {},
   "outputs": [
    {
     "data": {
      "text/plain": [
       "Unnamed: 0    0\n",
       "roleId        0\n",
       "skillId       0\n",
       "name          0\n",
       "role_name     0\n",
       "skill_name    0\n",
       "dtype: int64"
      ]
     },
     "execution_count": 40,
     "metadata": {},
     "output_type": "execute_result"
    }
   ],
   "source": [
    "df.isnull().sum()"
   ]
  },
  {
   "cell_type": "code",
   "execution_count": 41,
   "metadata": {},
   "outputs": [
    {
     "data": {
      "text/plain": [
       "(150, 6)"
      ]
     },
     "execution_count": 41,
     "metadata": {},
     "output_type": "execute_result"
    }
   ],
   "source": [
    "df.shape"
   ]
  },
  {
   "cell_type": "code",
   "execution_count": 42,
   "metadata": {},
   "outputs": [],
   "source": [
    "df.dropna(inplace=True)"
   ]
  },
  {
   "cell_type": "code",
   "execution_count": 43,
   "metadata": {},
   "outputs": [],
   "source": [
    "df.drop_duplicates(inplace=True)"
   ]
  },
  {
   "cell_type": "code",
   "execution_count": 44,
   "metadata": {},
   "outputs": [
    {
     "data": {
      "text/plain": [
       "Unnamed: 0     int64\n",
       "roleId        object\n",
       "skillId       object\n",
       "name          object\n",
       "role_name     object\n",
       "skill_name    object\n",
       "dtype: object"
      ]
     },
     "execution_count": 44,
     "metadata": {},
     "output_type": "execute_result"
    }
   ],
   "source": [
    "df.dtypes"
   ]
  },
  {
   "cell_type": "code",
   "execution_count": 45,
   "metadata": {},
   "outputs": [
    {
     "name": "stdout",
     "output_type": "stream",
     "text": [
      "Original dtypes:\n",
      "Unnamed: 0     int64\n",
      "roleId        object\n",
      "skillId       object\n",
      "name          object\n",
      "role_name     object\n",
      "skill_name    object\n",
      "dtype: object\n",
      "\n",
      "Converted dtypes:\n",
      "Unnamed: 0     Int64\n",
      "roleId        string\n",
      "skillId       string\n",
      "name          string\n",
      "role_name     string\n",
      "skill_name    string\n",
      "dtype: object\n"
     ]
    }
   ],
   "source": [
    "print(\"Original dtypes:\")\n",
    "print(df.dtypes)\n",
    "\n",
    "# Convert dtypes\n",
    "df=df.convert_dtypes()\n",
    "\n",
    "# Check new dtypes\n",
    "print(\"\\nConverted dtypes:\")\n",
    "print(df.convert_dtypes().dtypes)"
   ]
  },
  {
   "cell_type": "code",
   "execution_count": 46,
   "metadata": {},
   "outputs": [
    {
     "data": {
      "text/plain": [
       "Unnamed: 0     Int64\n",
       "roleId        string\n",
       "skillId       string\n",
       "name          string\n",
       "role_name     string\n",
       "skill_name    string\n",
       "dtype: object"
      ]
     },
     "execution_count": 46,
     "metadata": {},
     "output_type": "execute_result"
    }
   ],
   "source": [
    "df.dtypes"
   ]
  },
  {
   "cell_type": "code",
   "execution_count": null,
   "metadata": {},
   "outputs": [],
   "source": []
  },
  {
   "cell_type": "code",
   "execution_count": 47,
   "metadata": {},
   "outputs": [
    {
     "data": {
      "text/html": [
       "<div>\n",
       "<style scoped>\n",
       "    .dataframe tbody tr th:only-of-type {\n",
       "        vertical-align: middle;\n",
       "    }\n",
       "\n",
       "    .dataframe tbody tr th {\n",
       "        vertical-align: top;\n",
       "    }\n",
       "\n",
       "    .dataframe thead th {\n",
       "        text-align: right;\n",
       "    }\n",
       "</style>\n",
       "<table border=\"1\" class=\"dataframe\">\n",
       "  <thead>\n",
       "    <tr style=\"text-align: right;\">\n",
       "      <th></th>\n",
       "      <th>Unnamed: 0</th>\n",
       "      <th>_id</th>\n",
       "      <th>name</th>\n",
       "      <th>desc</th>\n",
       "      <th>created_at</th>\n",
       "      <th>updated_at</th>\n",
       "      <th>roleId</th>\n",
       "      <th>skill_count</th>\n",
       "    </tr>\n",
       "  </thead>\n",
       "  <tbody>\n",
       "    <tr>\n",
       "      <th>0</th>\n",
       "      <td>0</td>\n",
       "      <td>4a7cdfaf-b436-46e2-a8a2-5dc4835d40b9</td>\n",
       "      <td>Software Engineer</td>\n",
       "      <td>Him matter fall.</td>\n",
       "      <td>2022-06-04</td>\n",
       "      <td>2023-07-07</td>\n",
       "      <td>4a7cdfaf-b436-46e2-a8a2-5dc4835d40b9</td>\n",
       "      <td>10</td>\n",
       "    </tr>\n",
       "    <tr>\n",
       "      <th>1</th>\n",
       "      <td>1</td>\n",
       "      <td>1a52dd70-8466-4e47-8600-1677136f4fec</td>\n",
       "      <td>Data Scientist</td>\n",
       "      <td>Record data never raise feel.</td>\n",
       "      <td>2022-07-29</td>\n",
       "      <td>2021-12-10</td>\n",
       "      <td>1a52dd70-8466-4e47-8600-1677136f4fec</td>\n",
       "      <td>10</td>\n",
       "    </tr>\n",
       "    <tr>\n",
       "      <th>2</th>\n",
       "      <td>2</td>\n",
       "      <td>e35f4200-b9f8-44c1-b417-09d833a343d9</td>\n",
       "      <td>DevOps Engineer</td>\n",
       "      <td>Republican almost hospital size sport.</td>\n",
       "      <td>2021-05-05</td>\n",
       "      <td>2024-08-18</td>\n",
       "      <td>e35f4200-b9f8-44c1-b417-09d833a343d9</td>\n",
       "      <td>10</td>\n",
       "    </tr>\n",
       "    <tr>\n",
       "      <th>3</th>\n",
       "      <td>3</td>\n",
       "      <td>c581ca4e-3b3e-47fe-b1c1-ac3dcaf75783</td>\n",
       "      <td>Frontend Developer</td>\n",
       "      <td>End measure town mention design at by.</td>\n",
       "      <td>2024-08-08</td>\n",
       "      <td>2021-10-09</td>\n",
       "      <td>c581ca4e-3b3e-47fe-b1c1-ac3dcaf75783</td>\n",
       "      <td>10</td>\n",
       "    </tr>\n",
       "    <tr>\n",
       "      <th>4</th>\n",
       "      <td>4</td>\n",
       "      <td>196c18a9-4aef-4755-a3ee-4b6f418c71e3</td>\n",
       "      <td>Backend Developer</td>\n",
       "      <td>These federal box ok enter adult.</td>\n",
       "      <td>2023-02-20</td>\n",
       "      <td>2024-06-09</td>\n",
       "      <td>196c18a9-4aef-4755-a3ee-4b6f418c71e3</td>\n",
       "      <td>10</td>\n",
       "    </tr>\n",
       "  </tbody>\n",
       "</table>\n",
       "</div>"
      ],
      "text/plain": [
       "   Unnamed: 0                                   _id                name  \\\n",
       "0           0  4a7cdfaf-b436-46e2-a8a2-5dc4835d40b9   Software Engineer   \n",
       "1           1  1a52dd70-8466-4e47-8600-1677136f4fec      Data Scientist   \n",
       "2           2  e35f4200-b9f8-44c1-b417-09d833a343d9     DevOps Engineer   \n",
       "3           3  c581ca4e-3b3e-47fe-b1c1-ac3dcaf75783  Frontend Developer   \n",
       "4           4  196c18a9-4aef-4755-a3ee-4b6f418c71e3   Backend Developer   \n",
       "\n",
       "                                     desc  created_at  updated_at  \\\n",
       "0                        Him matter fall.  2022-06-04  2023-07-07   \n",
       "1           Record data never raise feel.  2022-07-29  2021-12-10   \n",
       "2  Republican almost hospital size sport.  2021-05-05  2024-08-18   \n",
       "3  End measure town mention design at by.  2024-08-08  2021-10-09   \n",
       "4       These federal box ok enter adult.  2023-02-20  2024-06-09   \n",
       "\n",
       "                                 roleId  skill_count  \n",
       "0  4a7cdfaf-b436-46e2-a8a2-5dc4835d40b9           10  \n",
       "1  1a52dd70-8466-4e47-8600-1677136f4fec           10  \n",
       "2  e35f4200-b9f8-44c1-b417-09d833a343d9           10  \n",
       "3  c581ca4e-3b3e-47fe-b1c1-ac3dcaf75783           10  \n",
       "4  196c18a9-4aef-4755-a3ee-4b6f418c71e3           10  "
      ]
     },
     "execution_count": 47,
     "metadata": {},
     "output_type": "execute_result"
    }
   ],
   "source": [
    "# roles_df = pd.read_csv('E:/JMAN/fp/DataEngineering/prep/prep_user.csv')\n",
    "# roles_df = pd.read_csv('E:/JMAN/fp/DataEngineering/prep/prep_user.csv')\n",
    "roles_df = pd.read_csv('E:/JMAN/fp/DataEngineering/prep/prep_role.csv')\n",
    "roles_df.head()"
   ]
  },
  {
   "cell_type": "code",
   "execution_count": 48,
   "metadata": {},
   "outputs": [
    {
     "data": {
      "text/plain": [
       "(15, 8)"
      ]
     },
     "execution_count": 48,
     "metadata": {},
     "output_type": "execute_result"
    }
   ],
   "source": [
    "roles_df.shape"
   ]
  },
  {
   "cell_type": "code",
   "execution_count": 49,
   "metadata": {},
   "outputs": [
    {
     "data": {
      "text/html": [
       "<div>\n",
       "<style scoped>\n",
       "    .dataframe tbody tr th:only-of-type {\n",
       "        vertical-align: middle;\n",
       "    }\n",
       "\n",
       "    .dataframe tbody tr th {\n",
       "        vertical-align: top;\n",
       "    }\n",
       "\n",
       "    .dataframe thead th {\n",
       "        text-align: right;\n",
       "    }\n",
       "</style>\n",
       "<table border=\"1\" class=\"dataframe\">\n",
       "  <thead>\n",
       "    <tr style=\"text-align: right;\">\n",
       "      <th></th>\n",
       "      <th>Unnamed: 0</th>\n",
       "      <th>roleId</th>\n",
       "      <th>skillId</th>\n",
       "      <th>name</th>\n",
       "      <th>role_name</th>\n",
       "      <th>skill_name</th>\n",
       "    </tr>\n",
       "  </thead>\n",
       "  <tbody>\n",
       "    <tr>\n",
       "      <th>0</th>\n",
       "      <td>0</td>\n",
       "      <td>4a7cdfaf-b436-46e2-a8a2-5dc4835d40b9</td>\n",
       "      <td>640c213d-8a6a-4056-8097-f503261f10f2</td>\n",
       "      <td>Java</td>\n",
       "      <td>Software Engineer</td>\n",
       "      <td>Java</td>\n",
       "    </tr>\n",
       "    <tr>\n",
       "      <th>1</th>\n",
       "      <td>1</td>\n",
       "      <td>4a7cdfaf-b436-46e2-a8a2-5dc4835d40b9</td>\n",
       "      <td>88e8b761-f319-43ad-b4a5-f7a4ec5ce84a</td>\n",
       "      <td>Python</td>\n",
       "      <td>Software Engineer</td>\n",
       "      <td>Python</td>\n",
       "    </tr>\n",
       "    <tr>\n",
       "      <th>2</th>\n",
       "      <td>2</td>\n",
       "      <td>4a7cdfaf-b436-46e2-a8a2-5dc4835d40b9</td>\n",
       "      <td>e191e70b-6f79-4445-b734-9cc534f8b0c5</td>\n",
       "      <td>C#</td>\n",
       "      <td>Software Engineer</td>\n",
       "      <td>C#</td>\n",
       "    </tr>\n",
       "    <tr>\n",
       "      <th>3</th>\n",
       "      <td>3</td>\n",
       "      <td>4a7cdfaf-b436-46e2-a8a2-5dc4835d40b9</td>\n",
       "      <td>c3fa5509-12fc-4ea6-8757-922636072436</td>\n",
       "      <td>JavaScript</td>\n",
       "      <td>Software Engineer</td>\n",
       "      <td>JavaScript</td>\n",
       "    </tr>\n",
       "    <tr>\n",
       "      <th>4</th>\n",
       "      <td>4</td>\n",
       "      <td>4a7cdfaf-b436-46e2-a8a2-5dc4835d40b9</td>\n",
       "      <td>b67791b0-c917-4aed-bd8b-62d0f1ac33f8</td>\n",
       "      <td>React</td>\n",
       "      <td>Software Engineer</td>\n",
       "      <td>React</td>\n",
       "    </tr>\n",
       "    <tr>\n",
       "      <th>...</th>\n",
       "      <td>...</td>\n",
       "      <td>...</td>\n",
       "      <td>...</td>\n",
       "      <td>...</td>\n",
       "      <td>...</td>\n",
       "      <td>...</td>\n",
       "    </tr>\n",
       "    <tr>\n",
       "      <th>145</th>\n",
       "      <td>145</td>\n",
       "      <td>663c1743-1dc9-4c1a-8200-701078aefaf8</td>\n",
       "      <td>e1d5913c-bc9a-4484-b983-5028060c0603</td>\n",
       "      <td>Research Skills</td>\n",
       "      <td>Technical Writer</td>\n",
       "      <td>Research Skills</td>\n",
       "    </tr>\n",
       "    <tr>\n",
       "      <th>146</th>\n",
       "      <td>146</td>\n",
       "      <td>663c1743-1dc9-4c1a-8200-701078aefaf8</td>\n",
       "      <td>f8aaa6dc-3518-4c40-9e04-62a4b3e37e7b</td>\n",
       "      <td>Agile Methodologies</td>\n",
       "      <td>Technical Writer</td>\n",
       "      <td>Agile Methodologies</td>\n",
       "    </tr>\n",
       "    <tr>\n",
       "      <th>147</th>\n",
       "      <td>147</td>\n",
       "      <td>663c1743-1dc9-4c1a-8200-701078aefaf8</td>\n",
       "      <td>f8ccfc58-7d91-4a51-9e8f-dc77d31f2b5f</td>\n",
       "      <td>Communication Skills</td>\n",
       "      <td>Technical Writer</td>\n",
       "      <td>Communication Skills</td>\n",
       "    </tr>\n",
       "    <tr>\n",
       "      <th>148</th>\n",
       "      <td>148</td>\n",
       "      <td>663c1743-1dc9-4c1a-8200-701078aefaf8</td>\n",
       "      <td>f231332c-0e06-4dea-b0ba-d8e75839d80d</td>\n",
       "      <td>User Documentation</td>\n",
       "      <td>Technical Writer</td>\n",
       "      <td>User Documentation</td>\n",
       "    </tr>\n",
       "    <tr>\n",
       "      <th>149</th>\n",
       "      <td>149</td>\n",
       "      <td>663c1743-1dc9-4c1a-8200-701078aefaf8</td>\n",
       "      <td>d422c946-f775-4e88-9531-a463c79624a2</td>\n",
       "      <td>Graphic Design</td>\n",
       "      <td>Technical Writer</td>\n",
       "      <td>Graphic Design</td>\n",
       "    </tr>\n",
       "  </tbody>\n",
       "</table>\n",
       "<p>150 rows × 6 columns</p>\n",
       "</div>"
      ],
      "text/plain": [
       "     Unnamed: 0                                roleId  \\\n",
       "0             0  4a7cdfaf-b436-46e2-a8a2-5dc4835d40b9   \n",
       "1             1  4a7cdfaf-b436-46e2-a8a2-5dc4835d40b9   \n",
       "2             2  4a7cdfaf-b436-46e2-a8a2-5dc4835d40b9   \n",
       "3             3  4a7cdfaf-b436-46e2-a8a2-5dc4835d40b9   \n",
       "4             4  4a7cdfaf-b436-46e2-a8a2-5dc4835d40b9   \n",
       "..          ...                                   ...   \n",
       "145         145  663c1743-1dc9-4c1a-8200-701078aefaf8   \n",
       "146         146  663c1743-1dc9-4c1a-8200-701078aefaf8   \n",
       "147         147  663c1743-1dc9-4c1a-8200-701078aefaf8   \n",
       "148         148  663c1743-1dc9-4c1a-8200-701078aefaf8   \n",
       "149         149  663c1743-1dc9-4c1a-8200-701078aefaf8   \n",
       "\n",
       "                                  skillId                  name  \\\n",
       "0    640c213d-8a6a-4056-8097-f503261f10f2                  Java   \n",
       "1    88e8b761-f319-43ad-b4a5-f7a4ec5ce84a                Python   \n",
       "2    e191e70b-6f79-4445-b734-9cc534f8b0c5                    C#   \n",
       "3    c3fa5509-12fc-4ea6-8757-922636072436            JavaScript   \n",
       "4    b67791b0-c917-4aed-bd8b-62d0f1ac33f8                 React   \n",
       "..                                    ...                   ...   \n",
       "145  e1d5913c-bc9a-4484-b983-5028060c0603       Research Skills   \n",
       "146  f8aaa6dc-3518-4c40-9e04-62a4b3e37e7b   Agile Methodologies   \n",
       "147  f8ccfc58-7d91-4a51-9e8f-dc77d31f2b5f  Communication Skills   \n",
       "148  f231332c-0e06-4dea-b0ba-d8e75839d80d    User Documentation   \n",
       "149  d422c946-f775-4e88-9531-a463c79624a2        Graphic Design   \n",
       "\n",
       "             role_name            skill_name  \n",
       "0    Software Engineer                  Java  \n",
       "1    Software Engineer                Python  \n",
       "2    Software Engineer                    C#  \n",
       "3    Software Engineer            JavaScript  \n",
       "4    Software Engineer                 React  \n",
       "..                 ...                   ...  \n",
       "145   Technical Writer       Research Skills  \n",
       "146   Technical Writer   Agile Methodologies  \n",
       "147   Technical Writer  Communication Skills  \n",
       "148   Technical Writer    User Documentation  \n",
       "149   Technical Writer        Graphic Design  \n",
       "\n",
       "[150 rows x 6 columns]"
      ]
     },
     "execution_count": 49,
     "metadata": {},
     "output_type": "execute_result"
    }
   ],
   "source": [
    "df.shape\n",
    "df"
   ]
  },
  {
   "cell_type": "code",
   "execution_count": 50,
   "metadata": {},
   "outputs": [
    {
     "data": {
      "text/plain": [
       "(150, 14)"
      ]
     },
     "execution_count": 50,
     "metadata": {},
     "output_type": "execute_result"
    }
   ],
   "source": [
    "\n",
    "merged_df=pd.merge(df,roles_df,left_on='roleId',right_on='_id',how='inner')\n",
    "df=merged_df\n",
    "df.shape"
   ]
  },
  {
   "cell_type": "code",
   "execution_count": 51,
   "metadata": {},
   "outputs": [
    {
     "data": {
      "text/plain": [
       "(150, 14)"
      ]
     },
     "execution_count": 51,
     "metadata": {},
     "output_type": "execute_result"
    }
   ],
   "source": [
    "df.shape"
   ]
  },
  {
   "cell_type": "code",
   "execution_count": 52,
   "metadata": {},
   "outputs": [
    {
     "data": {
      "text/html": [
       "<div>\n",
       "<style scoped>\n",
       "    .dataframe tbody tr th:only-of-type {\n",
       "        vertical-align: middle;\n",
       "    }\n",
       "\n",
       "    .dataframe tbody tr th {\n",
       "        vertical-align: top;\n",
       "    }\n",
       "\n",
       "    .dataframe thead th {\n",
       "        text-align: right;\n",
       "    }\n",
       "</style>\n",
       "<table border=\"1\" class=\"dataframe\">\n",
       "  <thead>\n",
       "    <tr style=\"text-align: right;\">\n",
       "      <th></th>\n",
       "      <th>Unnamed: 0</th>\n",
       "      <th>_id</th>\n",
       "      <th>name</th>\n",
       "      <th>created_at</th>\n",
       "      <th>updated_at</th>\n",
       "      <th>desc</th>\n",
       "      <th>skillId</th>\n",
       "      <th>user_count</th>\n",
       "    </tr>\n",
       "  </thead>\n",
       "  <tbody>\n",
       "    <tr>\n",
       "      <th>0</th>\n",
       "      <td>0</td>\n",
       "      <td>640c213d-8a6a-4056-8097-f503261f10f2</td>\n",
       "      <td>Java</td>\n",
       "      <td>2023-11-30</td>\n",
       "      <td>2024-08-22</td>\n",
       "      <td>Java</td>\n",
       "      <td>640c213d-8a6a-4056-8097-f503261f10f2</td>\n",
       "      <td>2035</td>\n",
       "    </tr>\n",
       "    <tr>\n",
       "      <th>1</th>\n",
       "      <td>1</td>\n",
       "      <td>88e8b761-f319-43ad-b4a5-f7a4ec5ce84a</td>\n",
       "      <td>Python</td>\n",
       "      <td>2021-05-09</td>\n",
       "      <td>2023-10-08</td>\n",
       "      <td>Python</td>\n",
       "      <td>88e8b761-f319-43ad-b4a5-f7a4ec5ce84a</td>\n",
       "      <td>1965</td>\n",
       "    </tr>\n",
       "    <tr>\n",
       "      <th>2</th>\n",
       "      <td>2</td>\n",
       "      <td>e191e70b-6f79-4445-b734-9cc534f8b0c5</td>\n",
       "      <td>C#</td>\n",
       "      <td>2021-05-05</td>\n",
       "      <td>2021-07-02</td>\n",
       "      <td>C#</td>\n",
       "      <td>e191e70b-6f79-4445-b734-9cc534f8b0c5</td>\n",
       "      <td>1913</td>\n",
       "    </tr>\n",
       "    <tr>\n",
       "      <th>3</th>\n",
       "      <td>3</td>\n",
       "      <td>c3fa5509-12fc-4ea6-8757-922636072436</td>\n",
       "      <td>JavaScript</td>\n",
       "      <td>2020-11-25</td>\n",
       "      <td>2023-04-21</td>\n",
       "      <td>JavaScript</td>\n",
       "      <td>c3fa5509-12fc-4ea6-8757-922636072436</td>\n",
       "      <td>1997</td>\n",
       "    </tr>\n",
       "    <tr>\n",
       "      <th>4</th>\n",
       "      <td>4</td>\n",
       "      <td>b67791b0-c917-4aed-bd8b-62d0f1ac33f8</td>\n",
       "      <td>React</td>\n",
       "      <td>2023-09-13</td>\n",
       "      <td>2023-12-07</td>\n",
       "      <td>React</td>\n",
       "      <td>b67791b0-c917-4aed-bd8b-62d0f1ac33f8</td>\n",
       "      <td>1990</td>\n",
       "    </tr>\n",
       "  </tbody>\n",
       "</table>\n",
       "</div>"
      ],
      "text/plain": [
       "   Unnamed: 0                                   _id        name  created_at  \\\n",
       "0           0  640c213d-8a6a-4056-8097-f503261f10f2        Java  2023-11-30   \n",
       "1           1  88e8b761-f319-43ad-b4a5-f7a4ec5ce84a      Python  2021-05-09   \n",
       "2           2  e191e70b-6f79-4445-b734-9cc534f8b0c5          C#  2021-05-05   \n",
       "3           3  c3fa5509-12fc-4ea6-8757-922636072436  JavaScript  2020-11-25   \n",
       "4           4  b67791b0-c917-4aed-bd8b-62d0f1ac33f8       React  2023-09-13   \n",
       "\n",
       "   updated_at        desc                               skillId  user_count  \n",
       "0  2024-08-22        Java  640c213d-8a6a-4056-8097-f503261f10f2        2035  \n",
       "1  2023-10-08      Python  88e8b761-f319-43ad-b4a5-f7a4ec5ce84a        1965  \n",
       "2  2021-07-02          C#  e191e70b-6f79-4445-b734-9cc534f8b0c5        1913  \n",
       "3  2023-04-21  JavaScript  c3fa5509-12fc-4ea6-8757-922636072436        1997  \n",
       "4  2023-12-07       React  b67791b0-c917-4aed-bd8b-62d0f1ac33f8        1990  "
      ]
     },
     "execution_count": 52,
     "metadata": {},
     "output_type": "execute_result"
    }
   ],
   "source": [
    "# roles_df = pd.read_csv('E:/JMAN/fp/DataEngineering/prep/prep_certification.csv')\n",
    "# roles_df = pd.read_csv('E:/JMAN/fp/DataEngineering/prep/prep_certification.csv')\n",
    "roles_df = pd.read_csv('E:/JMAN/fp/DataEngineering/prep/prep_skill.csv')\n",
    "roles_df.head()"
   ]
  },
  {
   "cell_type": "code",
   "execution_count": 53,
   "metadata": {},
   "outputs": [
    {
     "data": {
      "text/plain": [
       "Unnamed: 0_x    0\n",
       "roleId_x        0\n",
       "skillId         0\n",
       "name_x          0\n",
       "role_name       0\n",
       "skill_name      0\n",
       "Unnamed: 0_y    0\n",
       "_id             0\n",
       "name_y          0\n",
       "desc            0\n",
       "created_at      0\n",
       "updated_at      0\n",
       "roleId_y        0\n",
       "skill_count     0\n",
       "dtype: int64"
      ]
     },
     "execution_count": 53,
     "metadata": {},
     "output_type": "execute_result"
    }
   ],
   "source": [
    "df.isnull().sum()"
   ]
  },
  {
   "cell_type": "code",
   "execution_count": 54,
   "metadata": {},
   "outputs": [
    {
     "data": {
      "text/plain": [
       "(150, 14)"
      ]
     },
     "execution_count": 54,
     "metadata": {},
     "output_type": "execute_result"
    }
   ],
   "source": [
    "df.shape"
   ]
  },
  {
   "cell_type": "code",
   "execution_count": 55,
   "metadata": {},
   "outputs": [],
   "source": [
    "df.drop(['Unnamed: 0_y','Unnamed: 0_x',],inplace=True,axis=1)"
   ]
  },
  {
   "cell_type": "code",
   "execution_count": 56,
   "metadata": {},
   "outputs": [
    {
     "data": {
      "text/html": [
       "<div>\n",
       "<style scoped>\n",
       "    .dataframe tbody tr th:only-of-type {\n",
       "        vertical-align: middle;\n",
       "    }\n",
       "\n",
       "    .dataframe tbody tr th {\n",
       "        vertical-align: top;\n",
       "    }\n",
       "\n",
       "    .dataframe thead th {\n",
       "        text-align: right;\n",
       "    }\n",
       "</style>\n",
       "<table border=\"1\" class=\"dataframe\">\n",
       "  <thead>\n",
       "    <tr style=\"text-align: right;\">\n",
       "      <th></th>\n",
       "      <th>roleId_x</th>\n",
       "      <th>skillId</th>\n",
       "      <th>name_x</th>\n",
       "      <th>role_name</th>\n",
       "      <th>skill_name</th>\n",
       "      <th>_id</th>\n",
       "      <th>name_y</th>\n",
       "      <th>desc</th>\n",
       "      <th>created_at</th>\n",
       "      <th>updated_at</th>\n",
       "      <th>roleId_y</th>\n",
       "      <th>skill_count</th>\n",
       "    </tr>\n",
       "  </thead>\n",
       "  <tbody>\n",
       "    <tr>\n",
       "      <th>0</th>\n",
       "      <td>4a7cdfaf-b436-46e2-a8a2-5dc4835d40b9</td>\n",
       "      <td>640c213d-8a6a-4056-8097-f503261f10f2</td>\n",
       "      <td>Java</td>\n",
       "      <td>Software Engineer</td>\n",
       "      <td>Java</td>\n",
       "      <td>4a7cdfaf-b436-46e2-a8a2-5dc4835d40b9</td>\n",
       "      <td>Software Engineer</td>\n",
       "      <td>Him matter fall.</td>\n",
       "      <td>2022-06-04</td>\n",
       "      <td>2023-07-07</td>\n",
       "      <td>4a7cdfaf-b436-46e2-a8a2-5dc4835d40b9</td>\n",
       "      <td>10</td>\n",
       "    </tr>\n",
       "    <tr>\n",
       "      <th>1</th>\n",
       "      <td>4a7cdfaf-b436-46e2-a8a2-5dc4835d40b9</td>\n",
       "      <td>88e8b761-f319-43ad-b4a5-f7a4ec5ce84a</td>\n",
       "      <td>Python</td>\n",
       "      <td>Software Engineer</td>\n",
       "      <td>Python</td>\n",
       "      <td>4a7cdfaf-b436-46e2-a8a2-5dc4835d40b9</td>\n",
       "      <td>Software Engineer</td>\n",
       "      <td>Him matter fall.</td>\n",
       "      <td>2022-06-04</td>\n",
       "      <td>2023-07-07</td>\n",
       "      <td>4a7cdfaf-b436-46e2-a8a2-5dc4835d40b9</td>\n",
       "      <td>10</td>\n",
       "    </tr>\n",
       "    <tr>\n",
       "      <th>2</th>\n",
       "      <td>4a7cdfaf-b436-46e2-a8a2-5dc4835d40b9</td>\n",
       "      <td>e191e70b-6f79-4445-b734-9cc534f8b0c5</td>\n",
       "      <td>C#</td>\n",
       "      <td>Software Engineer</td>\n",
       "      <td>C#</td>\n",
       "      <td>4a7cdfaf-b436-46e2-a8a2-5dc4835d40b9</td>\n",
       "      <td>Software Engineer</td>\n",
       "      <td>Him matter fall.</td>\n",
       "      <td>2022-06-04</td>\n",
       "      <td>2023-07-07</td>\n",
       "      <td>4a7cdfaf-b436-46e2-a8a2-5dc4835d40b9</td>\n",
       "      <td>10</td>\n",
       "    </tr>\n",
       "    <tr>\n",
       "      <th>3</th>\n",
       "      <td>4a7cdfaf-b436-46e2-a8a2-5dc4835d40b9</td>\n",
       "      <td>c3fa5509-12fc-4ea6-8757-922636072436</td>\n",
       "      <td>JavaScript</td>\n",
       "      <td>Software Engineer</td>\n",
       "      <td>JavaScript</td>\n",
       "      <td>4a7cdfaf-b436-46e2-a8a2-5dc4835d40b9</td>\n",
       "      <td>Software Engineer</td>\n",
       "      <td>Him matter fall.</td>\n",
       "      <td>2022-06-04</td>\n",
       "      <td>2023-07-07</td>\n",
       "      <td>4a7cdfaf-b436-46e2-a8a2-5dc4835d40b9</td>\n",
       "      <td>10</td>\n",
       "    </tr>\n",
       "    <tr>\n",
       "      <th>4</th>\n",
       "      <td>4a7cdfaf-b436-46e2-a8a2-5dc4835d40b9</td>\n",
       "      <td>b67791b0-c917-4aed-bd8b-62d0f1ac33f8</td>\n",
       "      <td>React</td>\n",
       "      <td>Software Engineer</td>\n",
       "      <td>React</td>\n",
       "      <td>4a7cdfaf-b436-46e2-a8a2-5dc4835d40b9</td>\n",
       "      <td>Software Engineer</td>\n",
       "      <td>Him matter fall.</td>\n",
       "      <td>2022-06-04</td>\n",
       "      <td>2023-07-07</td>\n",
       "      <td>4a7cdfaf-b436-46e2-a8a2-5dc4835d40b9</td>\n",
       "      <td>10</td>\n",
       "    </tr>\n",
       "    <tr>\n",
       "      <th>...</th>\n",
       "      <td>...</td>\n",
       "      <td>...</td>\n",
       "      <td>...</td>\n",
       "      <td>...</td>\n",
       "      <td>...</td>\n",
       "      <td>...</td>\n",
       "      <td>...</td>\n",
       "      <td>...</td>\n",
       "      <td>...</td>\n",
       "      <td>...</td>\n",
       "      <td>...</td>\n",
       "      <td>...</td>\n",
       "    </tr>\n",
       "    <tr>\n",
       "      <th>145</th>\n",
       "      <td>663c1743-1dc9-4c1a-8200-701078aefaf8</td>\n",
       "      <td>e1d5913c-bc9a-4484-b983-5028060c0603</td>\n",
       "      <td>Research Skills</td>\n",
       "      <td>Technical Writer</td>\n",
       "      <td>Research Skills</td>\n",
       "      <td>663c1743-1dc9-4c1a-8200-701078aefaf8</td>\n",
       "      <td>Technical Writer</td>\n",
       "      <td>Central give too down cell feeling.</td>\n",
       "      <td>2020-10-08</td>\n",
       "      <td>2022-08-25</td>\n",
       "      <td>663c1743-1dc9-4c1a-8200-701078aefaf8</td>\n",
       "      <td>10</td>\n",
       "    </tr>\n",
       "    <tr>\n",
       "      <th>146</th>\n",
       "      <td>663c1743-1dc9-4c1a-8200-701078aefaf8</td>\n",
       "      <td>f8aaa6dc-3518-4c40-9e04-62a4b3e37e7b</td>\n",
       "      <td>Agile Methodologies</td>\n",
       "      <td>Technical Writer</td>\n",
       "      <td>Agile Methodologies</td>\n",
       "      <td>663c1743-1dc9-4c1a-8200-701078aefaf8</td>\n",
       "      <td>Technical Writer</td>\n",
       "      <td>Central give too down cell feeling.</td>\n",
       "      <td>2020-10-08</td>\n",
       "      <td>2022-08-25</td>\n",
       "      <td>663c1743-1dc9-4c1a-8200-701078aefaf8</td>\n",
       "      <td>10</td>\n",
       "    </tr>\n",
       "    <tr>\n",
       "      <th>147</th>\n",
       "      <td>663c1743-1dc9-4c1a-8200-701078aefaf8</td>\n",
       "      <td>f8ccfc58-7d91-4a51-9e8f-dc77d31f2b5f</td>\n",
       "      <td>Communication Skills</td>\n",
       "      <td>Technical Writer</td>\n",
       "      <td>Communication Skills</td>\n",
       "      <td>663c1743-1dc9-4c1a-8200-701078aefaf8</td>\n",
       "      <td>Technical Writer</td>\n",
       "      <td>Central give too down cell feeling.</td>\n",
       "      <td>2020-10-08</td>\n",
       "      <td>2022-08-25</td>\n",
       "      <td>663c1743-1dc9-4c1a-8200-701078aefaf8</td>\n",
       "      <td>10</td>\n",
       "    </tr>\n",
       "    <tr>\n",
       "      <th>148</th>\n",
       "      <td>663c1743-1dc9-4c1a-8200-701078aefaf8</td>\n",
       "      <td>f231332c-0e06-4dea-b0ba-d8e75839d80d</td>\n",
       "      <td>User Documentation</td>\n",
       "      <td>Technical Writer</td>\n",
       "      <td>User Documentation</td>\n",
       "      <td>663c1743-1dc9-4c1a-8200-701078aefaf8</td>\n",
       "      <td>Technical Writer</td>\n",
       "      <td>Central give too down cell feeling.</td>\n",
       "      <td>2020-10-08</td>\n",
       "      <td>2022-08-25</td>\n",
       "      <td>663c1743-1dc9-4c1a-8200-701078aefaf8</td>\n",
       "      <td>10</td>\n",
       "    </tr>\n",
       "    <tr>\n",
       "      <th>149</th>\n",
       "      <td>663c1743-1dc9-4c1a-8200-701078aefaf8</td>\n",
       "      <td>d422c946-f775-4e88-9531-a463c79624a2</td>\n",
       "      <td>Graphic Design</td>\n",
       "      <td>Technical Writer</td>\n",
       "      <td>Graphic Design</td>\n",
       "      <td>663c1743-1dc9-4c1a-8200-701078aefaf8</td>\n",
       "      <td>Technical Writer</td>\n",
       "      <td>Central give too down cell feeling.</td>\n",
       "      <td>2020-10-08</td>\n",
       "      <td>2022-08-25</td>\n",
       "      <td>663c1743-1dc9-4c1a-8200-701078aefaf8</td>\n",
       "      <td>10</td>\n",
       "    </tr>\n",
       "  </tbody>\n",
       "</table>\n",
       "<p>150 rows × 12 columns</p>\n",
       "</div>"
      ],
      "text/plain": [
       "                                 roleId_x  \\\n",
       "0    4a7cdfaf-b436-46e2-a8a2-5dc4835d40b9   \n",
       "1    4a7cdfaf-b436-46e2-a8a2-5dc4835d40b9   \n",
       "2    4a7cdfaf-b436-46e2-a8a2-5dc4835d40b9   \n",
       "3    4a7cdfaf-b436-46e2-a8a2-5dc4835d40b9   \n",
       "4    4a7cdfaf-b436-46e2-a8a2-5dc4835d40b9   \n",
       "..                                    ...   \n",
       "145  663c1743-1dc9-4c1a-8200-701078aefaf8   \n",
       "146  663c1743-1dc9-4c1a-8200-701078aefaf8   \n",
       "147  663c1743-1dc9-4c1a-8200-701078aefaf8   \n",
       "148  663c1743-1dc9-4c1a-8200-701078aefaf8   \n",
       "149  663c1743-1dc9-4c1a-8200-701078aefaf8   \n",
       "\n",
       "                                  skillId                name_x  \\\n",
       "0    640c213d-8a6a-4056-8097-f503261f10f2                  Java   \n",
       "1    88e8b761-f319-43ad-b4a5-f7a4ec5ce84a                Python   \n",
       "2    e191e70b-6f79-4445-b734-9cc534f8b0c5                    C#   \n",
       "3    c3fa5509-12fc-4ea6-8757-922636072436            JavaScript   \n",
       "4    b67791b0-c917-4aed-bd8b-62d0f1ac33f8                 React   \n",
       "..                                    ...                   ...   \n",
       "145  e1d5913c-bc9a-4484-b983-5028060c0603       Research Skills   \n",
       "146  f8aaa6dc-3518-4c40-9e04-62a4b3e37e7b   Agile Methodologies   \n",
       "147  f8ccfc58-7d91-4a51-9e8f-dc77d31f2b5f  Communication Skills   \n",
       "148  f231332c-0e06-4dea-b0ba-d8e75839d80d    User Documentation   \n",
       "149  d422c946-f775-4e88-9531-a463c79624a2        Graphic Design   \n",
       "\n",
       "             role_name            skill_name  \\\n",
       "0    Software Engineer                  Java   \n",
       "1    Software Engineer                Python   \n",
       "2    Software Engineer                    C#   \n",
       "3    Software Engineer            JavaScript   \n",
       "4    Software Engineer                 React   \n",
       "..                 ...                   ...   \n",
       "145   Technical Writer       Research Skills   \n",
       "146   Technical Writer   Agile Methodologies   \n",
       "147   Technical Writer  Communication Skills   \n",
       "148   Technical Writer    User Documentation   \n",
       "149   Technical Writer        Graphic Design   \n",
       "\n",
       "                                      _id             name_y  \\\n",
       "0    4a7cdfaf-b436-46e2-a8a2-5dc4835d40b9  Software Engineer   \n",
       "1    4a7cdfaf-b436-46e2-a8a2-5dc4835d40b9  Software Engineer   \n",
       "2    4a7cdfaf-b436-46e2-a8a2-5dc4835d40b9  Software Engineer   \n",
       "3    4a7cdfaf-b436-46e2-a8a2-5dc4835d40b9  Software Engineer   \n",
       "4    4a7cdfaf-b436-46e2-a8a2-5dc4835d40b9  Software Engineer   \n",
       "..                                    ...                ...   \n",
       "145  663c1743-1dc9-4c1a-8200-701078aefaf8   Technical Writer   \n",
       "146  663c1743-1dc9-4c1a-8200-701078aefaf8   Technical Writer   \n",
       "147  663c1743-1dc9-4c1a-8200-701078aefaf8   Technical Writer   \n",
       "148  663c1743-1dc9-4c1a-8200-701078aefaf8   Technical Writer   \n",
       "149  663c1743-1dc9-4c1a-8200-701078aefaf8   Technical Writer   \n",
       "\n",
       "                                    desc  created_at  updated_at  \\\n",
       "0                       Him matter fall.  2022-06-04  2023-07-07   \n",
       "1                       Him matter fall.  2022-06-04  2023-07-07   \n",
       "2                       Him matter fall.  2022-06-04  2023-07-07   \n",
       "3                       Him matter fall.  2022-06-04  2023-07-07   \n",
       "4                       Him matter fall.  2022-06-04  2023-07-07   \n",
       "..                                   ...         ...         ...   \n",
       "145  Central give too down cell feeling.  2020-10-08  2022-08-25   \n",
       "146  Central give too down cell feeling.  2020-10-08  2022-08-25   \n",
       "147  Central give too down cell feeling.  2020-10-08  2022-08-25   \n",
       "148  Central give too down cell feeling.  2020-10-08  2022-08-25   \n",
       "149  Central give too down cell feeling.  2020-10-08  2022-08-25   \n",
       "\n",
       "                                 roleId_y  skill_count  \n",
       "0    4a7cdfaf-b436-46e2-a8a2-5dc4835d40b9           10  \n",
       "1    4a7cdfaf-b436-46e2-a8a2-5dc4835d40b9           10  \n",
       "2    4a7cdfaf-b436-46e2-a8a2-5dc4835d40b9           10  \n",
       "3    4a7cdfaf-b436-46e2-a8a2-5dc4835d40b9           10  \n",
       "4    4a7cdfaf-b436-46e2-a8a2-5dc4835d40b9           10  \n",
       "..                                    ...          ...  \n",
       "145  663c1743-1dc9-4c1a-8200-701078aefaf8           10  \n",
       "146  663c1743-1dc9-4c1a-8200-701078aefaf8           10  \n",
       "147  663c1743-1dc9-4c1a-8200-701078aefaf8           10  \n",
       "148  663c1743-1dc9-4c1a-8200-701078aefaf8           10  \n",
       "149  663c1743-1dc9-4c1a-8200-701078aefaf8           10  \n",
       "\n",
       "[150 rows x 12 columns]"
      ]
     },
     "execution_count": 56,
     "metadata": {},
     "output_type": "execute_result"
    }
   ],
   "source": [
    "df.rename({\"_id_x\":\"_id\",\"userId_x\":\"userId\"},axis=1)"
   ]
  },
  {
   "cell_type": "code",
   "execution_count": 57,
   "metadata": {},
   "outputs": [
    {
     "data": {
      "text/plain": [
       "roleId_x       0\n",
       "skillId        0\n",
       "name_x         0\n",
       "role_name      0\n",
       "skill_name     0\n",
       "_id            0\n",
       "name_y         0\n",
       "desc           0\n",
       "created_at     0\n",
       "updated_at     0\n",
       "roleId_y       0\n",
       "skill_count    0\n",
       "dtype: int64"
      ]
     },
     "execution_count": 57,
     "metadata": {},
     "output_type": "execute_result"
    }
   ],
   "source": [
    "df.isnull().sum()"
   ]
  },
  {
   "cell_type": "code",
   "execution_count": 58,
   "metadata": {},
   "outputs": [],
   "source": [
    "# df.drop(['RoleId_y','_id_y',],inplace=True,axis=1)"
   ]
  },
  {
   "cell_type": "code",
   "execution_count": 59,
   "metadata": {},
   "outputs": [
    {
     "data": {
      "text/plain": [
       "(150, 12)"
      ]
     },
     "execution_count": 59,
     "metadata": {},
     "output_type": "execute_result"
    }
   ],
   "source": [
    "df.shape"
   ]
  },
  {
   "cell_type": "code",
   "execution_count": 60,
   "metadata": {},
   "outputs": [
    {
     "data": {
      "text/plain": [
       "roleId_x       0\n",
       "skillId        0\n",
       "name_x         0\n",
       "role_name      0\n",
       "skill_name     0\n",
       "_id            0\n",
       "name_y         0\n",
       "desc           0\n",
       "created_at     0\n",
       "updated_at     0\n",
       "roleId_y       0\n",
       "skill_count    0\n",
       "dtype: int64"
      ]
     },
     "execution_count": 60,
     "metadata": {},
     "output_type": "execute_result"
    }
   ],
   "source": [
    "df.isnull().sum()"
   ]
  },
  {
   "cell_type": "code",
   "execution_count": 61,
   "metadata": {},
   "outputs": [
    {
     "data": {
      "text/plain": [
       "Unnamed: 0    0\n",
       "_id           0\n",
       "name          0\n",
       "created_at    0\n",
       "updated_at    0\n",
       "desc          0\n",
       "skillId       0\n",
       "user_count    0\n",
       "dtype: int64"
      ]
     },
     "execution_count": 61,
     "metadata": {},
     "output_type": "execute_result"
    }
   ],
   "source": [
    "roles_df.isna().sum()"
   ]
  },
  {
   "cell_type": "code",
   "execution_count": 62,
   "metadata": {},
   "outputs": [],
   "source": [
    "merged_df=pd.merge(df,roles_df,left_on='skillId',right_on='skillId')\n",
    "merged_df.shape\n",
    "df=merged_df"
   ]
  },
  {
   "cell_type": "code",
   "execution_count": 63,
   "metadata": {},
   "outputs": [
    {
     "data": {
      "text/plain": [
       "(150, 19)"
      ]
     },
     "execution_count": 63,
     "metadata": {},
     "output_type": "execute_result"
    }
   ],
   "source": [
    "df.shape"
   ]
  },
  {
   "cell_type": "code",
   "execution_count": 64,
   "metadata": {},
   "outputs": [
    {
     "name": "stdout",
     "output_type": "stream",
     "text": [
      "Original dtypes:\n",
      "roleId_x        object\n",
      "skillId         object\n",
      "name_x          string\n",
      "role_name       string\n",
      "skill_name      string\n",
      "_id_x           object\n",
      "name_y          object\n",
      "desc_x          object\n",
      "created_at_x    object\n",
      "updated_at_x    object\n",
      "roleId_y        object\n",
      "skill_count      int64\n",
      "Unnamed: 0       int64\n",
      "_id_y           object\n",
      "name            object\n",
      "created_at_y    object\n",
      "updated_at_y    object\n",
      "desc_y          object\n",
      "user_count       int64\n",
      "dtype: object\n",
      "\n",
      "Converted dtypes:\n",
      "roleId_x        string\n",
      "skillId         string\n",
      "name_x          string\n",
      "role_name       string\n",
      "skill_name      string\n",
      "_id_x           string\n",
      "name_y          string\n",
      "desc_x          string\n",
      "created_at_x    string\n",
      "updated_at_x    string\n",
      "roleId_y        string\n",
      "skill_count      Int64\n",
      "Unnamed: 0       Int64\n",
      "_id_y           string\n",
      "name            string\n",
      "created_at_y    string\n",
      "updated_at_y    string\n",
      "desc_y          string\n",
      "user_count       Int64\n",
      "dtype: object\n"
     ]
    }
   ],
   "source": [
    "print(\"Original dtypes:\")\n",
    "print(df.dtypes)\n",
    "\n",
    "# Convert dtypes\n",
    "df=df.convert_dtypes()\n",
    "\n",
    "# Check new dtypes\n",
    "print(\"\\nConverted dtypes:\")\n",
    "print(df.convert_dtypes().dtypes)"
   ]
  },
  {
   "cell_type": "code",
   "execution_count": 65,
   "metadata": {},
   "outputs": [
    {
     "data": {
      "text/plain": [
       "(150, 19)"
      ]
     },
     "execution_count": 65,
     "metadata": {},
     "output_type": "execute_result"
    }
   ],
   "source": [
    "df.shape"
   ]
  },
  {
   "cell_type": "code",
   "execution_count": 66,
   "metadata": {},
   "outputs": [
    {
     "data": {
      "text/plain": [
       "roleId_x        0\n",
       "skillId         0\n",
       "name_x          0\n",
       "role_name       0\n",
       "skill_name      0\n",
       "_id_x           0\n",
       "name_y          0\n",
       "desc_x          0\n",
       "created_at_x    0\n",
       "updated_at_x    0\n",
       "roleId_y        0\n",
       "skill_count     0\n",
       "Unnamed: 0      0\n",
       "_id_y           0\n",
       "name            0\n",
       "created_at_y    0\n",
       "updated_at_y    0\n",
       "desc_y          0\n",
       "user_count      0\n",
       "dtype: int64"
      ]
     },
     "execution_count": 66,
     "metadata": {},
     "output_type": "execute_result"
    }
   ],
   "source": [
    "df.isnull().sum()"
   ]
  },
  {
   "cell_type": "code",
   "execution_count": 67,
   "metadata": {},
   "outputs": [],
   "source": [
    "# df.drop(['user_count_y','skillId_y'],inplace=True,axis=1)"
   ]
  },
  {
   "cell_type": "code",
   "execution_count": 68,
   "metadata": {},
   "outputs": [],
   "source": [
    "df.drop(['Unnamed: 0'],inplace=True,axis=1)"
   ]
  },
  {
   "cell_type": "code",
   "execution_count": 69,
   "metadata": {},
   "outputs": [
    {
     "data": {
      "text/plain": [
       "(150, 18)"
      ]
     },
     "execution_count": 69,
     "metadata": {},
     "output_type": "execute_result"
    }
   ],
   "source": [
    "df.shape"
   ]
  },
  {
   "cell_type": "code",
   "execution_count": 72,
   "metadata": {},
   "outputs": [],
   "source": [
    "# df.to_csv('E:/JMAN/fp/DataEngineering/mart/mart_user_certification.csv')\n",
    "df.to_csv('E:/JMAN/fp/DataEngineering/mart/mart_role_skill.csv')"
   ]
  },
  {
   "cell_type": "code",
   "execution_count": null,
   "metadata": {},
   "outputs": [],
   "source": []
  }
 ],
 "metadata": {
  "kernelspec": {
   "display_name": "base",
   "language": "python",
   "name": "python3"
  },
  "language_info": {
   "codemirror_mode": {
    "name": "ipython",
    "version": 3
   },
   "file_extension": ".py",
   "mimetype": "text/x-python",
   "name": "python",
   "nbconvert_exporter": "python",
   "pygments_lexer": "ipython3",
   "version": "3.9.7"
  }
 },
 "nbformat": 4,
 "nbformat_minor": 2
}
