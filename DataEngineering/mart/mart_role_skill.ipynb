{
 "cells": [
  {
   "cell_type": "code",
   "execution_count": 1,
   "metadata": {},
   "outputs": [],
   "source": [
    "import pandas as pd"
   ]
  },
  {
   "cell_type": "code",
   "execution_count": 2,
   "metadata": {},
   "outputs": [],
   "source": [
    "# user_csv=pd.read_csv('C:/Users/RithikHarendarMahesh/Desktop/fp/DataEngineering/prep/prep_user_certification.csv')\n",
    "# user_csv=pd.read_csv('C:/Users/RithikHarendarMahesh/Desktop/fp/DataEngineering/prep/prep_user_certification.csv')\n",
    "user_csv=pd.read_csv('C:/Users/RithikHarendarMahesh/Desktop/fp/DataEngineering/prep/prep_role_skill.csv')\n"
   ]
  },
  {
   "cell_type": "code",
   "execution_count": 3,
   "metadata": {},
   "outputs": [],
   "source": [
    "df=pd.DataFrame(data=user_csv)"
   ]
  },
  {
   "cell_type": "code",
   "execution_count": 4,
   "metadata": {},
   "outputs": [
    {
     "data": {
      "text/plain": [
       "Unnamed: 0    0\n",
       "roleId        0\n",
       "skillId       0\n",
       "name          0\n",
       "role_name     0\n",
       "skill_name    0\n",
       "dtype: int64"
      ]
     },
     "execution_count": 4,
     "metadata": {},
     "output_type": "execute_result"
    }
   ],
   "source": [
    "df.isnull().sum()"
   ]
  },
  {
   "cell_type": "code",
   "execution_count": 5,
   "metadata": {},
   "outputs": [
    {
     "data": {
      "text/plain": [
       "(150, 6)"
      ]
     },
     "execution_count": 5,
     "metadata": {},
     "output_type": "execute_result"
    }
   ],
   "source": [
    "df.shape"
   ]
  },
  {
   "cell_type": "code",
   "execution_count": 6,
   "metadata": {},
   "outputs": [],
   "source": [
    "df.dropna(inplace=True)"
   ]
  },
  {
   "cell_type": "code",
   "execution_count": 7,
   "metadata": {},
   "outputs": [],
   "source": [
    "df.drop_duplicates(inplace=True)"
   ]
  },
  {
   "cell_type": "code",
   "execution_count": 8,
   "metadata": {},
   "outputs": [
    {
     "data": {
      "text/plain": [
       "Unnamed: 0     int64\n",
       "roleId        object\n",
       "skillId       object\n",
       "name          object\n",
       "role_name     object\n",
       "skill_name    object\n",
       "dtype: object"
      ]
     },
     "execution_count": 8,
     "metadata": {},
     "output_type": "execute_result"
    }
   ],
   "source": [
    "df.dtypes"
   ]
  },
  {
   "cell_type": "code",
   "execution_count": 9,
   "metadata": {},
   "outputs": [
    {
     "name": "stdout",
     "output_type": "stream",
     "text": [
      "Original dtypes:\n",
      "Unnamed: 0     int64\n",
      "roleId        object\n",
      "skillId       object\n",
      "name          object\n",
      "role_name     object\n",
      "skill_name    object\n",
      "dtype: object\n",
      "\n",
      "Converted dtypes:\n",
      "Unnamed: 0             Int64\n",
      "roleId        string[python]\n",
      "skillId       string[python]\n",
      "name          string[python]\n",
      "role_name     string[python]\n",
      "skill_name    string[python]\n",
      "dtype: object\n"
     ]
    }
   ],
   "source": [
    "print(\"Original dtypes:\")\n",
    "print(df.dtypes)\n",
    "\n",
    "# Convert dtypes\n",
    "df=df.convert_dtypes()\n",
    "\n",
    "# Check new dtypes\n",
    "print(\"\\nConverted dtypes:\")\n",
    "print(df.convert_dtypes().dtypes)"
   ]
  },
  {
   "cell_type": "code",
   "execution_count": 10,
   "metadata": {},
   "outputs": [
    {
     "data": {
      "text/plain": [
       "Unnamed: 0             Int64\n",
       "roleId        string[python]\n",
       "skillId       string[python]\n",
       "name          string[python]\n",
       "role_name     string[python]\n",
       "skill_name    string[python]\n",
       "dtype: object"
      ]
     },
     "execution_count": 10,
     "metadata": {},
     "output_type": "execute_result"
    }
   ],
   "source": [
    "df.dtypes"
   ]
  },
  {
   "cell_type": "code",
   "execution_count": null,
   "metadata": {},
   "outputs": [],
   "source": []
  },
  {
   "cell_type": "code",
   "execution_count": null,
   "metadata": {},
   "outputs": [
    {
     "data": {
      "text/html": [
       "<div>\n",
       "<style scoped>\n",
       "    .dataframe tbody tr th:only-of-type {\n",
       "        vertical-align: middle;\n",
       "    }\n",
       "\n",
       "    .dataframe tbody tr th {\n",
       "        vertical-align: top;\n",
       "    }\n",
       "\n",
       "    .dataframe thead th {\n",
       "        text-align: right;\n",
       "    }\n",
       "</style>\n",
       "<table border=\"1\" class=\"dataframe\">\n",
       "  <thead>\n",
       "    <tr style=\"text-align: right;\">\n",
       "      <th></th>\n",
       "      <th>Unnamed: 0</th>\n",
       "      <th>_id</th>\n",
       "      <th>name</th>\n",
       "      <th>desc</th>\n",
       "      <th>created_at</th>\n",
       "      <th>updated_at</th>\n",
       "      <th>roleId</th>\n",
       "      <th>skill_count</th>\n",
       "    </tr>\n",
       "  </thead>\n",
       "  <tbody>\n",
       "    <tr>\n",
       "      <th>0</th>\n",
       "      <td>0</td>\n",
       "      <td>25886cc0-ab38-455b-a301-f739643e462d</td>\n",
       "      <td>Software Engineer</td>\n",
       "      <td>Machine bring instead choice feel.</td>\n",
       "      <td>2021-10-12</td>\n",
       "      <td>2021-09-06</td>\n",
       "      <td>25886cc0-ab38-455b-a301-f739643e462d</td>\n",
       "      <td>10</td>\n",
       "    </tr>\n",
       "    <tr>\n",
       "      <th>1</th>\n",
       "      <td>1</td>\n",
       "      <td>a10702c1-1e25-4289-8304-a3f8ea9dd4ef</td>\n",
       "      <td>Data Scientist</td>\n",
       "      <td>Area live the accept control standard unit.</td>\n",
       "      <td>2022-05-06</td>\n",
       "      <td>2022-10-27</td>\n",
       "      <td>a10702c1-1e25-4289-8304-a3f8ea9dd4ef</td>\n",
       "      <td>10</td>\n",
       "    </tr>\n",
       "    <tr>\n",
       "      <th>2</th>\n",
       "      <td>2</td>\n",
       "      <td>97645b80-65a2-4991-b2bd-21bf7da2b230</td>\n",
       "      <td>DevOps Engineer</td>\n",
       "      <td>Dog for personal.</td>\n",
       "      <td>2021-05-07</td>\n",
       "      <td>2024-09-13</td>\n",
       "      <td>97645b80-65a2-4991-b2bd-21bf7da2b230</td>\n",
       "      <td>10</td>\n",
       "    </tr>\n",
       "    <tr>\n",
       "      <th>3</th>\n",
       "      <td>3</td>\n",
       "      <td>2378806c-a3b2-4320-b09b-470b52d02954</td>\n",
       "      <td>Frontend Developer</td>\n",
       "      <td>Show all song.</td>\n",
       "      <td>2022-05-08</td>\n",
       "      <td>2023-03-07</td>\n",
       "      <td>2378806c-a3b2-4320-b09b-470b52d02954</td>\n",
       "      <td>10</td>\n",
       "    </tr>\n",
       "    <tr>\n",
       "      <th>4</th>\n",
       "      <td>4</td>\n",
       "      <td>508bfd78-6401-40ad-bc4b-dade38d40352</td>\n",
       "      <td>Backend Developer</td>\n",
       "      <td>Many hundred town single happen amount.</td>\n",
       "      <td>2020-12-29</td>\n",
       "      <td>2021-09-05</td>\n",
       "      <td>508bfd78-6401-40ad-bc4b-dade38d40352</td>\n",
       "      <td>10</td>\n",
       "    </tr>\n",
       "  </tbody>\n",
       "</table>\n",
       "</div>"
      ],
      "text/plain": [
       "   Unnamed: 0                                   _id                name  \\\n",
       "0           0  25886cc0-ab38-455b-a301-f739643e462d   Software Engineer   \n",
       "1           1  a10702c1-1e25-4289-8304-a3f8ea9dd4ef      Data Scientist   \n",
       "2           2  97645b80-65a2-4991-b2bd-21bf7da2b230     DevOps Engineer   \n",
       "3           3  2378806c-a3b2-4320-b09b-470b52d02954  Frontend Developer   \n",
       "4           4  508bfd78-6401-40ad-bc4b-dade38d40352   Backend Developer   \n",
       "\n",
       "                                          desc  created_at  updated_at  \\\n",
       "0           Machine bring instead choice feel.  2021-10-12  2021-09-06   \n",
       "1  Area live the accept control standard unit.  2022-05-06  2022-10-27   \n",
       "2                            Dog for personal.  2021-05-07  2024-09-13   \n",
       "3                               Show all song.  2022-05-08  2023-03-07   \n",
       "4      Many hundred town single happen amount.  2020-12-29  2021-09-05   \n",
       "\n",
       "                                 roleId  skill_count  \n",
       "0  25886cc0-ab38-455b-a301-f739643e462d           10  \n",
       "1  a10702c1-1e25-4289-8304-a3f8ea9dd4ef           10  \n",
       "2  97645b80-65a2-4991-b2bd-21bf7da2b230           10  \n",
       "3  2378806c-a3b2-4320-b09b-470b52d02954           10  \n",
       "4  508bfd78-6401-40ad-bc4b-dade38d40352           10  "
      ]
     },
     "execution_count": 11,
     "metadata": {},
     "output_type": "execute_result"
    }
   ],
   "source": [
    "# roles_df = pd.read_csv('C:/Users/RithikHarendarMahesh/Desktop/fp/DataEngineering/prep/prep_user.csv')\n",
    "# roles_df = pd.read_csv('C:/Users/RithikHarendarMahesh/Desktop/fp/DataEngineering/prep/prep_user.csv')\n",
    "roles_df = pd.read_csv('C:/Users/RithikHarendarMahesh/Desktop/fp/DataEngineering/prep/prep_role.csv')\n",
    "roles_df.head()"
   ]
  },
  {
   "cell_type": "code",
   "execution_count": 12,
   "metadata": {},
   "outputs": [
    {
     "data": {
      "text/plain": [
       "(15, 8)"
      ]
     },
     "execution_count": 12,
     "metadata": {},
     "output_type": "execute_result"
    }
   ],
   "source": [
    "roles_df.shape"
   ]
  },
  {
   "cell_type": "code",
   "execution_count": 13,
   "metadata": {},
   "outputs": [
    {
     "data": {
      "text/html": [
       "<div>\n",
       "<style scoped>\n",
       "    .dataframe tbody tr th:only-of-type {\n",
       "        vertical-align: middle;\n",
       "    }\n",
       "\n",
       "    .dataframe tbody tr th {\n",
       "        vertical-align: top;\n",
       "    }\n",
       "\n",
       "    .dataframe thead th {\n",
       "        text-align: right;\n",
       "    }\n",
       "</style>\n",
       "<table border=\"1\" class=\"dataframe\">\n",
       "  <thead>\n",
       "    <tr style=\"text-align: right;\">\n",
       "      <th></th>\n",
       "      <th>Unnamed: 0</th>\n",
       "      <th>roleId</th>\n",
       "      <th>skillId</th>\n",
       "      <th>name</th>\n",
       "      <th>role_name</th>\n",
       "      <th>skill_name</th>\n",
       "    </tr>\n",
       "  </thead>\n",
       "  <tbody>\n",
       "    <tr>\n",
       "      <th>0</th>\n",
       "      <td>0</td>\n",
       "      <td>25886cc0-ab38-455b-a301-f739643e462d</td>\n",
       "      <td>a4e275cc-e486-4c7c-9f7b-c40d068966f0</td>\n",
       "      <td>Java</td>\n",
       "      <td>Software Engineer</td>\n",
       "      <td>Java</td>\n",
       "    </tr>\n",
       "    <tr>\n",
       "      <th>1</th>\n",
       "      <td>1</td>\n",
       "      <td>25886cc0-ab38-455b-a301-f739643e462d</td>\n",
       "      <td>3d63d298-7c3b-4c64-bc19-dc68acc7e2a4</td>\n",
       "      <td>Python</td>\n",
       "      <td>Software Engineer</td>\n",
       "      <td>Python</td>\n",
       "    </tr>\n",
       "    <tr>\n",
       "      <th>2</th>\n",
       "      <td>2</td>\n",
       "      <td>25886cc0-ab38-455b-a301-f739643e462d</td>\n",
       "      <td>d48397d3-9242-4251-bb47-f5af84fe7a43</td>\n",
       "      <td>C#</td>\n",
       "      <td>Software Engineer</td>\n",
       "      <td>C#</td>\n",
       "    </tr>\n",
       "    <tr>\n",
       "      <th>3</th>\n",
       "      <td>3</td>\n",
       "      <td>25886cc0-ab38-455b-a301-f739643e462d</td>\n",
       "      <td>78c73ebf-f75f-4532-b441-3a7aeabae391</td>\n",
       "      <td>JavaScript</td>\n",
       "      <td>Software Engineer</td>\n",
       "      <td>JavaScript</td>\n",
       "    </tr>\n",
       "    <tr>\n",
       "      <th>4</th>\n",
       "      <td>4</td>\n",
       "      <td>25886cc0-ab38-455b-a301-f739643e462d</td>\n",
       "      <td>1a39e0ee-e002-4c8d-9a8a-11e50c08c8de</td>\n",
       "      <td>React</td>\n",
       "      <td>Software Engineer</td>\n",
       "      <td>React</td>\n",
       "    </tr>\n",
       "    <tr>\n",
       "      <th>...</th>\n",
       "      <td>...</td>\n",
       "      <td>...</td>\n",
       "      <td>...</td>\n",
       "      <td>...</td>\n",
       "      <td>...</td>\n",
       "      <td>...</td>\n",
       "    </tr>\n",
       "    <tr>\n",
       "      <th>145</th>\n",
       "      <td>145</td>\n",
       "      <td>90a9e49a-3fcc-494c-a3fa-1c5375311cbb</td>\n",
       "      <td>028217fd-dba5-48ca-930d-e048fb8dc146</td>\n",
       "      <td>Research Skills</td>\n",
       "      <td>Technical Writer</td>\n",
       "      <td>Research Skills</td>\n",
       "    </tr>\n",
       "    <tr>\n",
       "      <th>146</th>\n",
       "      <td>146</td>\n",
       "      <td>90a9e49a-3fcc-494c-a3fa-1c5375311cbb</td>\n",
       "      <td>8cda0fab-ee95-45a6-9508-ebe56aa5abe5</td>\n",
       "      <td>Agile Methodologies</td>\n",
       "      <td>Technical Writer</td>\n",
       "      <td>Agile Methodologies</td>\n",
       "    </tr>\n",
       "    <tr>\n",
       "      <th>147</th>\n",
       "      <td>147</td>\n",
       "      <td>90a9e49a-3fcc-494c-a3fa-1c5375311cbb</td>\n",
       "      <td>109eeae7-dec8-4878-a156-13a66ae4e472</td>\n",
       "      <td>Communication Skills</td>\n",
       "      <td>Technical Writer</td>\n",
       "      <td>Communication Skills</td>\n",
       "    </tr>\n",
       "    <tr>\n",
       "      <th>148</th>\n",
       "      <td>148</td>\n",
       "      <td>90a9e49a-3fcc-494c-a3fa-1c5375311cbb</td>\n",
       "      <td>4ecf4620-0e9d-4ce3-807a-0d99635df1cb</td>\n",
       "      <td>User Documentation</td>\n",
       "      <td>Technical Writer</td>\n",
       "      <td>User Documentation</td>\n",
       "    </tr>\n",
       "    <tr>\n",
       "      <th>149</th>\n",
       "      <td>149</td>\n",
       "      <td>90a9e49a-3fcc-494c-a3fa-1c5375311cbb</td>\n",
       "      <td>3e738cc0-83fb-4687-bc62-1d1f9ca0c9cb</td>\n",
       "      <td>Graphic Design</td>\n",
       "      <td>Technical Writer</td>\n",
       "      <td>Graphic Design</td>\n",
       "    </tr>\n",
       "  </tbody>\n",
       "</table>\n",
       "<p>150 rows × 6 columns</p>\n",
       "</div>"
      ],
      "text/plain": [
       "     Unnamed: 0                                roleId  \\\n",
       "0             0  25886cc0-ab38-455b-a301-f739643e462d   \n",
       "1             1  25886cc0-ab38-455b-a301-f739643e462d   \n",
       "2             2  25886cc0-ab38-455b-a301-f739643e462d   \n",
       "3             3  25886cc0-ab38-455b-a301-f739643e462d   \n",
       "4             4  25886cc0-ab38-455b-a301-f739643e462d   \n",
       "..          ...                                   ...   \n",
       "145         145  90a9e49a-3fcc-494c-a3fa-1c5375311cbb   \n",
       "146         146  90a9e49a-3fcc-494c-a3fa-1c5375311cbb   \n",
       "147         147  90a9e49a-3fcc-494c-a3fa-1c5375311cbb   \n",
       "148         148  90a9e49a-3fcc-494c-a3fa-1c5375311cbb   \n",
       "149         149  90a9e49a-3fcc-494c-a3fa-1c5375311cbb   \n",
       "\n",
       "                                  skillId                  name  \\\n",
       "0    a4e275cc-e486-4c7c-9f7b-c40d068966f0                  Java   \n",
       "1    3d63d298-7c3b-4c64-bc19-dc68acc7e2a4                Python   \n",
       "2    d48397d3-9242-4251-bb47-f5af84fe7a43                    C#   \n",
       "3    78c73ebf-f75f-4532-b441-3a7aeabae391            JavaScript   \n",
       "4    1a39e0ee-e002-4c8d-9a8a-11e50c08c8de                 React   \n",
       "..                                    ...                   ...   \n",
       "145  028217fd-dba5-48ca-930d-e048fb8dc146       Research Skills   \n",
       "146  8cda0fab-ee95-45a6-9508-ebe56aa5abe5   Agile Methodologies   \n",
       "147  109eeae7-dec8-4878-a156-13a66ae4e472  Communication Skills   \n",
       "148  4ecf4620-0e9d-4ce3-807a-0d99635df1cb    User Documentation   \n",
       "149  3e738cc0-83fb-4687-bc62-1d1f9ca0c9cb        Graphic Design   \n",
       "\n",
       "             role_name            skill_name  \n",
       "0    Software Engineer                  Java  \n",
       "1    Software Engineer                Python  \n",
       "2    Software Engineer                    C#  \n",
       "3    Software Engineer            JavaScript  \n",
       "4    Software Engineer                 React  \n",
       "..                 ...                   ...  \n",
       "145   Technical Writer       Research Skills  \n",
       "146   Technical Writer   Agile Methodologies  \n",
       "147   Technical Writer  Communication Skills  \n",
       "148   Technical Writer    User Documentation  \n",
       "149   Technical Writer        Graphic Design  \n",
       "\n",
       "[150 rows x 6 columns]"
      ]
     },
     "execution_count": 13,
     "metadata": {},
     "output_type": "execute_result"
    }
   ],
   "source": [
    "df.shape\n",
    "df"
   ]
  },
  {
   "cell_type": "code",
   "execution_count": 14,
   "metadata": {},
   "outputs": [
    {
     "data": {
      "text/plain": [
       "(150, 14)"
      ]
     },
     "execution_count": 14,
     "metadata": {},
     "output_type": "execute_result"
    }
   ],
   "source": [
    "\n",
    "merged_df=pd.merge(df,roles_df,left_on='roleId',right_on='_id',how='inner')\n",
    "df=merged_df\n",
    "df.shape"
   ]
  },
  {
   "cell_type": "code",
   "execution_count": 15,
   "metadata": {},
   "outputs": [
    {
     "data": {
      "text/plain": [
       "(150, 14)"
      ]
     },
     "execution_count": 15,
     "metadata": {},
     "output_type": "execute_result"
    }
   ],
   "source": [
    "df.shape"
   ]
  },
  {
   "cell_type": "code",
   "execution_count": null,
   "metadata": {},
   "outputs": [
    {
     "data": {
      "text/html": [
       "<div>\n",
       "<style scoped>\n",
       "    .dataframe tbody tr th:only-of-type {\n",
       "        vertical-align: middle;\n",
       "    }\n",
       "\n",
       "    .dataframe tbody tr th {\n",
       "        vertical-align: top;\n",
       "    }\n",
       "\n",
       "    .dataframe thead th {\n",
       "        text-align: right;\n",
       "    }\n",
       "</style>\n",
       "<table border=\"1\" class=\"dataframe\">\n",
       "  <thead>\n",
       "    <tr style=\"text-align: right;\">\n",
       "      <th></th>\n",
       "      <th>Unnamed: 0</th>\n",
       "      <th>_id</th>\n",
       "      <th>name</th>\n",
       "      <th>created_at</th>\n",
       "      <th>updated_at</th>\n",
       "      <th>desc</th>\n",
       "      <th>skillId</th>\n",
       "      <th>user_count</th>\n",
       "    </tr>\n",
       "  </thead>\n",
       "  <tbody>\n",
       "    <tr>\n",
       "      <th>0</th>\n",
       "      <td>0</td>\n",
       "      <td>a4e275cc-e486-4c7c-9f7b-c40d068966f0</td>\n",
       "      <td>Java</td>\n",
       "      <td>2022-06-20</td>\n",
       "      <td>2024-06-28</td>\n",
       "      <td>Java</td>\n",
       "      <td>a4e275cc-e486-4c7c-9f7b-c40d068966f0</td>\n",
       "      <td>2013</td>\n",
       "    </tr>\n",
       "    <tr>\n",
       "      <th>1</th>\n",
       "      <td>1</td>\n",
       "      <td>3d63d298-7c3b-4c64-bc19-dc68acc7e2a4</td>\n",
       "      <td>Python</td>\n",
       "      <td>2024-03-06</td>\n",
       "      <td>2023-08-11</td>\n",
       "      <td>Python</td>\n",
       "      <td>3d63d298-7c3b-4c64-bc19-dc68acc7e2a4</td>\n",
       "      <td>2021</td>\n",
       "    </tr>\n",
       "    <tr>\n",
       "      <th>2</th>\n",
       "      <td>2</td>\n",
       "      <td>d48397d3-9242-4251-bb47-f5af84fe7a43</td>\n",
       "      <td>C#</td>\n",
       "      <td>2024-02-13</td>\n",
       "      <td>2020-12-13</td>\n",
       "      <td>C#</td>\n",
       "      <td>d48397d3-9242-4251-bb47-f5af84fe7a43</td>\n",
       "      <td>1995</td>\n",
       "    </tr>\n",
       "    <tr>\n",
       "      <th>3</th>\n",
       "      <td>3</td>\n",
       "      <td>78c73ebf-f75f-4532-b441-3a7aeabae391</td>\n",
       "      <td>JavaScript</td>\n",
       "      <td>2021-01-22</td>\n",
       "      <td>2022-02-17</td>\n",
       "      <td>JavaScript</td>\n",
       "      <td>78c73ebf-f75f-4532-b441-3a7aeabae391</td>\n",
       "      <td>2045</td>\n",
       "    </tr>\n",
       "    <tr>\n",
       "      <th>4</th>\n",
       "      <td>4</td>\n",
       "      <td>1a39e0ee-e002-4c8d-9a8a-11e50c08c8de</td>\n",
       "      <td>React</td>\n",
       "      <td>2020-10-04</td>\n",
       "      <td>2021-03-25</td>\n",
       "      <td>React</td>\n",
       "      <td>1a39e0ee-e002-4c8d-9a8a-11e50c08c8de</td>\n",
       "      <td>2030</td>\n",
       "    </tr>\n",
       "  </tbody>\n",
       "</table>\n",
       "</div>"
      ],
      "text/plain": [
       "   Unnamed: 0                                   _id        name  created_at  \\\n",
       "0           0  a4e275cc-e486-4c7c-9f7b-c40d068966f0        Java  2022-06-20   \n",
       "1           1  3d63d298-7c3b-4c64-bc19-dc68acc7e2a4      Python  2024-03-06   \n",
       "2           2  d48397d3-9242-4251-bb47-f5af84fe7a43          C#  2024-02-13   \n",
       "3           3  78c73ebf-f75f-4532-b441-3a7aeabae391  JavaScript  2021-01-22   \n",
       "4           4  1a39e0ee-e002-4c8d-9a8a-11e50c08c8de       React  2020-10-04   \n",
       "\n",
       "   updated_at        desc                               skillId  user_count  \n",
       "0  2024-06-28        Java  a4e275cc-e486-4c7c-9f7b-c40d068966f0        2013  \n",
       "1  2023-08-11      Python  3d63d298-7c3b-4c64-bc19-dc68acc7e2a4        2021  \n",
       "2  2020-12-13          C#  d48397d3-9242-4251-bb47-f5af84fe7a43        1995  \n",
       "3  2022-02-17  JavaScript  78c73ebf-f75f-4532-b441-3a7aeabae391        2045  \n",
       "4  2021-03-25       React  1a39e0ee-e002-4c8d-9a8a-11e50c08c8de        2030  "
      ]
     },
     "execution_count": 16,
     "metadata": {},
     "output_type": "execute_result"
    }
   ],
   "source": [
    "# roles_df = pd.read_csv('C:/Users/RithikHarendarMahesh/Desktop/fp/DataEngineering/prep/prep_certification.csv')\n",
    "# roles_df = pd.read_csv('C:/Users/RithikHarendarMahesh/Desktop/fp/DataEngineering/prep/prep_certification.csv')\n",
    "roles_df = pd.read_csv('C:/Users/RithikHarendarMahesh/Desktop/fp/DataEngineering/prep/prep_skill.csv')\n",
    "roles_df.head()"
   ]
  },
  {
   "cell_type": "code",
   "execution_count": 17,
   "metadata": {},
   "outputs": [
    {
     "data": {
      "text/plain": [
       "Unnamed: 0_x    0\n",
       "roleId_x        0\n",
       "skillId         0\n",
       "name_x          0\n",
       "role_name       0\n",
       "skill_name      0\n",
       "Unnamed: 0_y    0\n",
       "_id             0\n",
       "name_y          0\n",
       "desc            0\n",
       "created_at      0\n",
       "updated_at      0\n",
       "roleId_y        0\n",
       "skill_count     0\n",
       "dtype: int64"
      ]
     },
     "execution_count": 17,
     "metadata": {},
     "output_type": "execute_result"
    }
   ],
   "source": [
    "df.isnull().sum()"
   ]
  },
  {
   "cell_type": "code",
   "execution_count": 18,
   "metadata": {},
   "outputs": [
    {
     "data": {
      "text/plain": [
       "(150, 14)"
      ]
     },
     "execution_count": 18,
     "metadata": {},
     "output_type": "execute_result"
    }
   ],
   "source": [
    "df.shape"
   ]
  },
  {
   "cell_type": "code",
   "execution_count": 19,
   "metadata": {},
   "outputs": [],
   "source": [
    "df.drop(['Unnamed: 0_y','Unnamed: 0_x',],inplace=True,axis=1)"
   ]
  },
  {
   "cell_type": "code",
   "execution_count": null,
   "metadata": {},
   "outputs": [
    {
     "data": {
      "text/html": [
       "<div>\n",
       "<style scoped>\n",
       "    .dataframe tbody tr th:only-of-type {\n",
       "        vertical-align: middle;\n",
       "    }\n",
       "\n",
       "    .dataframe tbody tr th {\n",
       "        vertical-align: top;\n",
       "    }\n",
       "\n",
       "    .dataframe thead th {\n",
       "        text-align: right;\n",
       "    }\n",
       "</style>\n",
       "<table border=\"1\" class=\"dataframe\">\n",
       "  <thead>\n",
       "    <tr style=\"text-align: right;\">\n",
       "      <th></th>\n",
       "      <th>roleId_x</th>\n",
       "      <th>skillId</th>\n",
       "      <th>name_x</th>\n",
       "      <th>role_name</th>\n",
       "      <th>skill_name</th>\n",
       "      <th>_id</th>\n",
       "      <th>name_y</th>\n",
       "      <th>desc</th>\n",
       "      <th>created_at</th>\n",
       "      <th>updated_at</th>\n",
       "      <th>roleId_y</th>\n",
       "      <th>skill_count</th>\n",
       "    </tr>\n",
       "  </thead>\n",
       "  <tbody>\n",
       "    <tr>\n",
       "      <th>0</th>\n",
       "      <td>25886cc0-ab38-455b-a301-f739643e462d</td>\n",
       "      <td>a4e275cc-e486-4c7c-9f7b-c40d068966f0</td>\n",
       "      <td>Java</td>\n",
       "      <td>Software Engineer</td>\n",
       "      <td>Java</td>\n",
       "      <td>25886cc0-ab38-455b-a301-f739643e462d</td>\n",
       "      <td>Software Engineer</td>\n",
       "      <td>Machine bring instead choice feel.</td>\n",
       "      <td>2021-10-12</td>\n",
       "      <td>2021-09-06</td>\n",
       "      <td>25886cc0-ab38-455b-a301-f739643e462d</td>\n",
       "      <td>10</td>\n",
       "    </tr>\n",
       "    <tr>\n",
       "      <th>1</th>\n",
       "      <td>25886cc0-ab38-455b-a301-f739643e462d</td>\n",
       "      <td>3d63d298-7c3b-4c64-bc19-dc68acc7e2a4</td>\n",
       "      <td>Python</td>\n",
       "      <td>Software Engineer</td>\n",
       "      <td>Python</td>\n",
       "      <td>25886cc0-ab38-455b-a301-f739643e462d</td>\n",
       "      <td>Software Engineer</td>\n",
       "      <td>Machine bring instead choice feel.</td>\n",
       "      <td>2021-10-12</td>\n",
       "      <td>2021-09-06</td>\n",
       "      <td>25886cc0-ab38-455b-a301-f739643e462d</td>\n",
       "      <td>10</td>\n",
       "    </tr>\n",
       "    <tr>\n",
       "      <th>2</th>\n",
       "      <td>25886cc0-ab38-455b-a301-f739643e462d</td>\n",
       "      <td>d48397d3-9242-4251-bb47-f5af84fe7a43</td>\n",
       "      <td>C#</td>\n",
       "      <td>Software Engineer</td>\n",
       "      <td>C#</td>\n",
       "      <td>25886cc0-ab38-455b-a301-f739643e462d</td>\n",
       "      <td>Software Engineer</td>\n",
       "      <td>Machine bring instead choice feel.</td>\n",
       "      <td>2021-10-12</td>\n",
       "      <td>2021-09-06</td>\n",
       "      <td>25886cc0-ab38-455b-a301-f739643e462d</td>\n",
       "      <td>10</td>\n",
       "    </tr>\n",
       "    <tr>\n",
       "      <th>3</th>\n",
       "      <td>25886cc0-ab38-455b-a301-f739643e462d</td>\n",
       "      <td>78c73ebf-f75f-4532-b441-3a7aeabae391</td>\n",
       "      <td>JavaScript</td>\n",
       "      <td>Software Engineer</td>\n",
       "      <td>JavaScript</td>\n",
       "      <td>25886cc0-ab38-455b-a301-f739643e462d</td>\n",
       "      <td>Software Engineer</td>\n",
       "      <td>Machine bring instead choice feel.</td>\n",
       "      <td>2021-10-12</td>\n",
       "      <td>2021-09-06</td>\n",
       "      <td>25886cc0-ab38-455b-a301-f739643e462d</td>\n",
       "      <td>10</td>\n",
       "    </tr>\n",
       "    <tr>\n",
       "      <th>4</th>\n",
       "      <td>25886cc0-ab38-455b-a301-f739643e462d</td>\n",
       "      <td>1a39e0ee-e002-4c8d-9a8a-11e50c08c8de</td>\n",
       "      <td>React</td>\n",
       "      <td>Software Engineer</td>\n",
       "      <td>React</td>\n",
       "      <td>25886cc0-ab38-455b-a301-f739643e462d</td>\n",
       "      <td>Software Engineer</td>\n",
       "      <td>Machine bring instead choice feel.</td>\n",
       "      <td>2021-10-12</td>\n",
       "      <td>2021-09-06</td>\n",
       "      <td>25886cc0-ab38-455b-a301-f739643e462d</td>\n",
       "      <td>10</td>\n",
       "    </tr>\n",
       "    <tr>\n",
       "      <th>...</th>\n",
       "      <td>...</td>\n",
       "      <td>...</td>\n",
       "      <td>...</td>\n",
       "      <td>...</td>\n",
       "      <td>...</td>\n",
       "      <td>...</td>\n",
       "      <td>...</td>\n",
       "      <td>...</td>\n",
       "      <td>...</td>\n",
       "      <td>...</td>\n",
       "      <td>...</td>\n",
       "      <td>...</td>\n",
       "    </tr>\n",
       "    <tr>\n",
       "      <th>145</th>\n",
       "      <td>90a9e49a-3fcc-494c-a3fa-1c5375311cbb</td>\n",
       "      <td>028217fd-dba5-48ca-930d-e048fb8dc146</td>\n",
       "      <td>Research Skills</td>\n",
       "      <td>Technical Writer</td>\n",
       "      <td>Research Skills</td>\n",
       "      <td>90a9e49a-3fcc-494c-a3fa-1c5375311cbb</td>\n",
       "      <td>Technical Writer</td>\n",
       "      <td>Real under here room late more ask.</td>\n",
       "      <td>2024-01-09</td>\n",
       "      <td>2024-04-01</td>\n",
       "      <td>90a9e49a-3fcc-494c-a3fa-1c5375311cbb</td>\n",
       "      <td>10</td>\n",
       "    </tr>\n",
       "    <tr>\n",
       "      <th>146</th>\n",
       "      <td>90a9e49a-3fcc-494c-a3fa-1c5375311cbb</td>\n",
       "      <td>8cda0fab-ee95-45a6-9508-ebe56aa5abe5</td>\n",
       "      <td>Agile Methodologies</td>\n",
       "      <td>Technical Writer</td>\n",
       "      <td>Agile Methodologies</td>\n",
       "      <td>90a9e49a-3fcc-494c-a3fa-1c5375311cbb</td>\n",
       "      <td>Technical Writer</td>\n",
       "      <td>Real under here room late more ask.</td>\n",
       "      <td>2024-01-09</td>\n",
       "      <td>2024-04-01</td>\n",
       "      <td>90a9e49a-3fcc-494c-a3fa-1c5375311cbb</td>\n",
       "      <td>10</td>\n",
       "    </tr>\n",
       "    <tr>\n",
       "      <th>147</th>\n",
       "      <td>90a9e49a-3fcc-494c-a3fa-1c5375311cbb</td>\n",
       "      <td>109eeae7-dec8-4878-a156-13a66ae4e472</td>\n",
       "      <td>Communication Skills</td>\n",
       "      <td>Technical Writer</td>\n",
       "      <td>Communication Skills</td>\n",
       "      <td>90a9e49a-3fcc-494c-a3fa-1c5375311cbb</td>\n",
       "      <td>Technical Writer</td>\n",
       "      <td>Real under here room late more ask.</td>\n",
       "      <td>2024-01-09</td>\n",
       "      <td>2024-04-01</td>\n",
       "      <td>90a9e49a-3fcc-494c-a3fa-1c5375311cbb</td>\n",
       "      <td>10</td>\n",
       "    </tr>\n",
       "    <tr>\n",
       "      <th>148</th>\n",
       "      <td>90a9e49a-3fcc-494c-a3fa-1c5375311cbb</td>\n",
       "      <td>4ecf4620-0e9d-4ce3-807a-0d99635df1cb</td>\n",
       "      <td>User Documentation</td>\n",
       "      <td>Technical Writer</td>\n",
       "      <td>User Documentation</td>\n",
       "      <td>90a9e49a-3fcc-494c-a3fa-1c5375311cbb</td>\n",
       "      <td>Technical Writer</td>\n",
       "      <td>Real under here room late more ask.</td>\n",
       "      <td>2024-01-09</td>\n",
       "      <td>2024-04-01</td>\n",
       "      <td>90a9e49a-3fcc-494c-a3fa-1c5375311cbb</td>\n",
       "      <td>10</td>\n",
       "    </tr>\n",
       "    <tr>\n",
       "      <th>149</th>\n",
       "      <td>90a9e49a-3fcc-494c-a3fa-1c5375311cbb</td>\n",
       "      <td>3e738cc0-83fb-4687-bc62-1d1f9ca0c9cb</td>\n",
       "      <td>Graphic Design</td>\n",
       "      <td>Technical Writer</td>\n",
       "      <td>Graphic Design</td>\n",
       "      <td>90a9e49a-3fcc-494c-a3fa-1c5375311cbb</td>\n",
       "      <td>Technical Writer</td>\n",
       "      <td>Real under here room late more ask.</td>\n",
       "      <td>2024-01-09</td>\n",
       "      <td>2024-04-01</td>\n",
       "      <td>90a9e49a-3fcc-494c-a3fa-1c5375311cbb</td>\n",
       "      <td>10</td>\n",
       "    </tr>\n",
       "  </tbody>\n",
       "</table>\n",
       "<p>150 rows × 12 columns</p>\n",
       "</div>"
      ],
      "text/plain": [
       "                                 roleId_x  \\\n",
       "0    25886cc0-ab38-455b-a301-f739643e462d   \n",
       "1    25886cc0-ab38-455b-a301-f739643e462d   \n",
       "2    25886cc0-ab38-455b-a301-f739643e462d   \n",
       "3    25886cc0-ab38-455b-a301-f739643e462d   \n",
       "4    25886cc0-ab38-455b-a301-f739643e462d   \n",
       "..                                    ...   \n",
       "145  90a9e49a-3fcc-494c-a3fa-1c5375311cbb   \n",
       "146  90a9e49a-3fcc-494c-a3fa-1c5375311cbb   \n",
       "147  90a9e49a-3fcc-494c-a3fa-1c5375311cbb   \n",
       "148  90a9e49a-3fcc-494c-a3fa-1c5375311cbb   \n",
       "149  90a9e49a-3fcc-494c-a3fa-1c5375311cbb   \n",
       "\n",
       "                                  skillId                name_x  \\\n",
       "0    a4e275cc-e486-4c7c-9f7b-c40d068966f0                  Java   \n",
       "1    3d63d298-7c3b-4c64-bc19-dc68acc7e2a4                Python   \n",
       "2    d48397d3-9242-4251-bb47-f5af84fe7a43                    C#   \n",
       "3    78c73ebf-f75f-4532-b441-3a7aeabae391            JavaScript   \n",
       "4    1a39e0ee-e002-4c8d-9a8a-11e50c08c8de                 React   \n",
       "..                                    ...                   ...   \n",
       "145  028217fd-dba5-48ca-930d-e048fb8dc146       Research Skills   \n",
       "146  8cda0fab-ee95-45a6-9508-ebe56aa5abe5   Agile Methodologies   \n",
       "147  109eeae7-dec8-4878-a156-13a66ae4e472  Communication Skills   \n",
       "148  4ecf4620-0e9d-4ce3-807a-0d99635df1cb    User Documentation   \n",
       "149  3e738cc0-83fb-4687-bc62-1d1f9ca0c9cb        Graphic Design   \n",
       "\n",
       "             role_name            skill_name  \\\n",
       "0    Software Engineer                  Java   \n",
       "1    Software Engineer                Python   \n",
       "2    Software Engineer                    C#   \n",
       "3    Software Engineer            JavaScript   \n",
       "4    Software Engineer                 React   \n",
       "..                 ...                   ...   \n",
       "145   Technical Writer       Research Skills   \n",
       "146   Technical Writer   Agile Methodologies   \n",
       "147   Technical Writer  Communication Skills   \n",
       "148   Technical Writer    User Documentation   \n",
       "149   Technical Writer        Graphic Design   \n",
       "\n",
       "                                      _id             name_y  \\\n",
       "0    25886cc0-ab38-455b-a301-f739643e462d  Software Engineer   \n",
       "1    25886cc0-ab38-455b-a301-f739643e462d  Software Engineer   \n",
       "2    25886cc0-ab38-455b-a301-f739643e462d  Software Engineer   \n",
       "3    25886cc0-ab38-455b-a301-f739643e462d  Software Engineer   \n",
       "4    25886cc0-ab38-455b-a301-f739643e462d  Software Engineer   \n",
       "..                                    ...                ...   \n",
       "145  90a9e49a-3fcc-494c-a3fa-1c5375311cbb   Technical Writer   \n",
       "146  90a9e49a-3fcc-494c-a3fa-1c5375311cbb   Technical Writer   \n",
       "147  90a9e49a-3fcc-494c-a3fa-1c5375311cbb   Technical Writer   \n",
       "148  90a9e49a-3fcc-494c-a3fa-1c5375311cbb   Technical Writer   \n",
       "149  90a9e49a-3fcc-494c-a3fa-1c5375311cbb   Technical Writer   \n",
       "\n",
       "                                    desc  created_at  updated_at  \\\n",
       "0     Machine bring instead choice feel.  2021-10-12  2021-09-06   \n",
       "1     Machine bring instead choice feel.  2021-10-12  2021-09-06   \n",
       "2     Machine bring instead choice feel.  2021-10-12  2021-09-06   \n",
       "3     Machine bring instead choice feel.  2021-10-12  2021-09-06   \n",
       "4     Machine bring instead choice feel.  2021-10-12  2021-09-06   \n",
       "..                                   ...         ...         ...   \n",
       "145  Real under here room late more ask.  2024-01-09  2024-04-01   \n",
       "146  Real under here room late more ask.  2024-01-09  2024-04-01   \n",
       "147  Real under here room late more ask.  2024-01-09  2024-04-01   \n",
       "148  Real under here room late more ask.  2024-01-09  2024-04-01   \n",
       "149  Real under here room late more ask.  2024-01-09  2024-04-01   \n",
       "\n",
       "                                 roleId_y  skill_count  \n",
       "0    25886cc0-ab38-455b-a301-f739643e462d           10  \n",
       "1    25886cc0-ab38-455b-a301-f739643e462d           10  \n",
       "2    25886cc0-ab38-455b-a301-f739643e462d           10  \n",
       "3    25886cc0-ab38-455b-a301-f739643e462d           10  \n",
       "4    25886cc0-ab38-455b-a301-f739643e462d           10  \n",
       "..                                    ...          ...  \n",
       "145  90a9e49a-3fcc-494c-a3fa-1c5375311cbb           10  \n",
       "146  90a9e49a-3fcc-494c-a3fa-1c5375311cbb           10  \n",
       "147  90a9e49a-3fcc-494c-a3fa-1c5375311cbb           10  \n",
       "148  90a9e49a-3fcc-494c-a3fa-1c5375311cbb           10  \n",
       "149  90a9e49a-3fcc-494c-a3fa-1c5375311cbb           10  \n",
       "\n",
       "[150 rows x 12 columns]"
      ]
     },
     "execution_count": 20,
     "metadata": {},
     "output_type": "execute_result"
    }
   ],
   "source": [
    "df.rename({\"_id_x\":\"_id\",\"userId_x\":\"userId\"},axis=1)"
   ]
  },
  {
   "cell_type": "code",
   "execution_count": 21,
   "metadata": {},
   "outputs": [
    {
     "data": {
      "text/plain": [
       "roleId_x       0\n",
       "skillId        0\n",
       "name_x         0\n",
       "role_name      0\n",
       "skill_name     0\n",
       "_id            0\n",
       "name_y         0\n",
       "desc           0\n",
       "created_at     0\n",
       "updated_at     0\n",
       "roleId_y       0\n",
       "skill_count    0\n",
       "dtype: int64"
      ]
     },
     "execution_count": 21,
     "metadata": {},
     "output_type": "execute_result"
    }
   ],
   "source": [
    "df.isnull().sum()"
   ]
  },
  {
   "cell_type": "code",
   "execution_count": 22,
   "metadata": {},
   "outputs": [],
   "source": [
    "# df.drop(['RoleId_y','_id_y',],inplace=True,axis=1)"
   ]
  },
  {
   "cell_type": "code",
   "execution_count": 23,
   "metadata": {},
   "outputs": [
    {
     "data": {
      "text/plain": [
       "(150, 12)"
      ]
     },
     "execution_count": 23,
     "metadata": {},
     "output_type": "execute_result"
    }
   ],
   "source": [
    "df.shape"
   ]
  },
  {
   "cell_type": "code",
   "execution_count": 24,
   "metadata": {},
   "outputs": [
    {
     "data": {
      "text/plain": [
       "roleId_x       0\n",
       "skillId        0\n",
       "name_x         0\n",
       "role_name      0\n",
       "skill_name     0\n",
       "_id            0\n",
       "name_y         0\n",
       "desc           0\n",
       "created_at     0\n",
       "updated_at     0\n",
       "roleId_y       0\n",
       "skill_count    0\n",
       "dtype: int64"
      ]
     },
     "execution_count": 24,
     "metadata": {},
     "output_type": "execute_result"
    }
   ],
   "source": [
    "df.isnull().sum()"
   ]
  },
  {
   "cell_type": "code",
   "execution_count": 25,
   "metadata": {},
   "outputs": [
    {
     "data": {
      "text/plain": [
       "Unnamed: 0    0\n",
       "_id           0\n",
       "name          0\n",
       "created_at    0\n",
       "updated_at    0\n",
       "desc          0\n",
       "skillId       0\n",
       "user_count    0\n",
       "dtype: int64"
      ]
     },
     "execution_count": 25,
     "metadata": {},
     "output_type": "execute_result"
    }
   ],
   "source": [
    "roles_df.isna().sum()"
   ]
  },
  {
   "cell_type": "code",
   "execution_count": 26,
   "metadata": {},
   "outputs": [],
   "source": [
    "merged_df=pd.merge(df,roles_df,left_on='skillId',right_on='skillId')\n",
    "merged_df.shape\n",
    "df=merged_df"
   ]
  },
  {
   "cell_type": "code",
   "execution_count": 27,
   "metadata": {},
   "outputs": [
    {
     "data": {
      "text/plain": [
       "(150, 19)"
      ]
     },
     "execution_count": 27,
     "metadata": {},
     "output_type": "execute_result"
    }
   ],
   "source": [
    "df.shape"
   ]
  },
  {
   "cell_type": "code",
   "execution_count": 28,
   "metadata": {},
   "outputs": [
    {
     "name": "stdout",
     "output_type": "stream",
     "text": [
      "Original dtypes:\n",
      "roleId_x                object\n",
      "skillId                 object\n",
      "name_x          string[python]\n",
      "role_name       string[python]\n",
      "skill_name      string[python]\n",
      "_id_x                   object\n",
      "name_y                  object\n",
      "desc_x                  object\n",
      "created_at_x            object\n",
      "updated_at_x            object\n",
      "roleId_y                object\n",
      "skill_count              int64\n",
      "Unnamed: 0               int64\n",
      "_id_y                   object\n",
      "name                    object\n",
      "created_at_y            object\n",
      "updated_at_y            object\n",
      "desc_y                  object\n",
      "user_count               int64\n",
      "dtype: object\n",
      "\n",
      "Converted dtypes:\n",
      "roleId_x        string[python]\n",
      "skillId         string[python]\n",
      "name_x          string[python]\n",
      "role_name       string[python]\n",
      "skill_name      string[python]\n",
      "_id_x           string[python]\n",
      "name_y          string[python]\n",
      "desc_x          string[python]\n",
      "created_at_x    string[python]\n",
      "updated_at_x    string[python]\n",
      "roleId_y        string[python]\n",
      "skill_count              Int64\n",
      "Unnamed: 0               Int64\n",
      "_id_y           string[python]\n",
      "name            string[python]\n",
      "created_at_y    string[python]\n",
      "updated_at_y    string[python]\n",
      "desc_y          string[python]\n",
      "user_count               Int64\n",
      "dtype: object\n"
     ]
    }
   ],
   "source": [
    "print(\"Original dtypes:\")\n",
    "print(df.dtypes)\n",
    "\n",
    "# Convert dtypes\n",
    "df=df.convert_dtypes()\n",
    "\n",
    "# Check new dtypes\n",
    "print(\"\\nConverted dtypes:\")\n",
    "print(df.convert_dtypes().dtypes)"
   ]
  },
  {
   "cell_type": "code",
   "execution_count": 29,
   "metadata": {},
   "outputs": [
    {
     "data": {
      "text/plain": [
       "(150, 19)"
      ]
     },
     "execution_count": 29,
     "metadata": {},
     "output_type": "execute_result"
    }
   ],
   "source": [
    "df.shape"
   ]
  },
  {
   "cell_type": "code",
   "execution_count": 30,
   "metadata": {},
   "outputs": [
    {
     "data": {
      "text/plain": [
       "roleId_x        0\n",
       "skillId         0\n",
       "name_x          0\n",
       "role_name       0\n",
       "skill_name      0\n",
       "_id_x           0\n",
       "name_y          0\n",
       "desc_x          0\n",
       "created_at_x    0\n",
       "updated_at_x    0\n",
       "roleId_y        0\n",
       "skill_count     0\n",
       "Unnamed: 0      0\n",
       "_id_y           0\n",
       "name            0\n",
       "created_at_y    0\n",
       "updated_at_y    0\n",
       "desc_y          0\n",
       "user_count      0\n",
       "dtype: int64"
      ]
     },
     "execution_count": 30,
     "metadata": {},
     "output_type": "execute_result"
    }
   ],
   "source": [
    "df.isnull().sum()"
   ]
  },
  {
   "cell_type": "code",
   "execution_count": 31,
   "metadata": {},
   "outputs": [],
   "source": [
    "# df.drop(['user_count_y','skillId_y'],inplace=True,axis=1)"
   ]
  },
  {
   "cell_type": "code",
   "execution_count": 32,
   "metadata": {},
   "outputs": [],
   "source": [
    "df.drop(['Unnamed: 0'],inplace=True,axis=1)"
   ]
  },
  {
   "cell_type": "code",
   "execution_count": 33,
   "metadata": {},
   "outputs": [
    {
     "data": {
      "text/plain": [
       "(150, 18)"
      ]
     },
     "execution_count": 33,
     "metadata": {},
     "output_type": "execute_result"
    }
   ],
   "source": [
    "df.shape"
   ]
  },
  {
   "cell_type": "code",
   "execution_count": 34,
   "metadata": {},
   "outputs": [],
   "source": [
    "# df.to_csv('C:/Users/RithikHarendarMahesh/Desktop/fp/DataEngineering/mart/mart_user_certification.csv')\n",
    "df.to_csv('C:/Users/RithikHarendarMahesh/Desktop/fp/DataEngineering/mart/mart_role_skill.csv')"
   ]
  },
  {
   "cell_type": "code",
   "execution_count": null,
   "metadata": {},
   "outputs": [],
   "source": []
  }
 ],
 "metadata": {
  "kernelspec": {
   "display_name": "base",
   "language": "python",
   "name": "python3"
  },
  "language_info": {
   "codemirror_mode": {
    "name": "ipython",
    "version": 3
   },
   "file_extension": ".py",
   "mimetype": "text/x-python",
   "name": "python",
   "nbconvert_exporter": "python",
   "pygments_lexer": "ipython3",
   "version": "3.12.4"
  }
 },
 "nbformat": 4,
 "nbformat_minor": 2
}
