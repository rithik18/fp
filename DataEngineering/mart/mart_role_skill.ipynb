{
 "cells": [
  {
   "cell_type": "code",
   "execution_count": 30,
   "metadata": {},
   "outputs": [],
   "source": [
    "import pandas as pd"
   ]
  },
  {
   "cell_type": "code",
   "execution_count": 31,
   "metadata": {},
   "outputs": [],
   "source": [
    "# user_csv=pd.read_csv('E:/JMAN/fp/DataEngineering/prep/prep_user_certification.csv')\n",
    "user_csv=pd.read_csv('E:/JMAN/fp/DataEngineering/prep/prep_role_skill.csv')\n"
   ]
  },
  {
   "cell_type": "code",
   "execution_count": 32,
   "metadata": {},
   "outputs": [],
   "source": [
    "df=pd.DataFrame(data=user_csv)"
   ]
  },
  {
   "cell_type": "code",
   "execution_count": 33,
   "metadata": {},
   "outputs": [
    {
     "data": {
      "text/plain": [
       "Unnamed: 0    0\n",
       "_id           0\n",
       "RoleId        0\n",
       "department    0\n",
       "skillId       0\n",
       "role_name     0\n",
       "skill_name    0\n",
       "dtype: int64"
      ]
     },
     "execution_count": 33,
     "metadata": {},
     "output_type": "execute_result"
    }
   ],
   "source": [
    "df.isnull().sum()"
   ]
  },
  {
   "cell_type": "code",
   "execution_count": 34,
   "metadata": {},
   "outputs": [
    {
     "data": {
      "text/plain": [
       "(204, 7)"
      ]
     },
     "execution_count": 34,
     "metadata": {},
     "output_type": "execute_result"
    }
   ],
   "source": [
    "df.shape"
   ]
  },
  {
   "cell_type": "code",
   "execution_count": 35,
   "metadata": {},
   "outputs": [],
   "source": [
    "df.dropna(inplace=True)"
   ]
  },
  {
   "cell_type": "code",
   "execution_count": 36,
   "metadata": {},
   "outputs": [],
   "source": [
    "df.drop_duplicates(inplace=True)"
   ]
  },
  {
   "cell_type": "code",
   "execution_count": 37,
   "metadata": {},
   "outputs": [
    {
     "data": {
      "text/plain": [
       "Unnamed: 0     int64\n",
       "_id           object\n",
       "RoleId        object\n",
       "department    object\n",
       "skillId       object\n",
       "role_name     object\n",
       "skill_name    object\n",
       "dtype: object"
      ]
     },
     "execution_count": 37,
     "metadata": {},
     "output_type": "execute_result"
    }
   ],
   "source": [
    "df.dtypes"
   ]
  },
  {
   "cell_type": "code",
   "execution_count": 38,
   "metadata": {},
   "outputs": [
    {
     "name": "stdout",
     "output_type": "stream",
     "text": [
      "Original dtypes:\n",
      "Unnamed: 0     int64\n",
      "_id           object\n",
      "RoleId        object\n",
      "department    object\n",
      "skillId       object\n",
      "role_name     object\n",
      "skill_name    object\n",
      "dtype: object\n",
      "\n",
      "Converted dtypes:\n",
      "Unnamed: 0     Int64\n",
      "_id           string\n",
      "RoleId        string\n",
      "department    string\n",
      "skillId       string\n",
      "role_name     string\n",
      "skill_name    string\n",
      "dtype: object\n"
     ]
    }
   ],
   "source": [
    "print(\"Original dtypes:\")\n",
    "print(df.dtypes)\n",
    "\n",
    "# Convert dtypes\n",
    "df=df.convert_dtypes()\n",
    "\n",
    "# Check new dtypes\n",
    "print(\"\\nConverted dtypes:\")\n",
    "print(df.convert_dtypes().dtypes)"
   ]
  },
  {
   "cell_type": "code",
   "execution_count": 39,
   "metadata": {},
   "outputs": [
    {
     "data": {
      "text/plain": [
       "Unnamed: 0     Int64\n",
       "_id           string\n",
       "RoleId        string\n",
       "department    string\n",
       "skillId       string\n",
       "role_name     string\n",
       "skill_name    string\n",
       "dtype: object"
      ]
     },
     "execution_count": 39,
     "metadata": {},
     "output_type": "execute_result"
    }
   ],
   "source": [
    "df.dtypes"
   ]
  },
  {
   "cell_type": "code",
   "execution_count": null,
   "metadata": {},
   "outputs": [],
   "source": []
  },
  {
   "cell_type": "code",
   "execution_count": 40,
   "metadata": {},
   "outputs": [
    {
     "data": {
      "text/html": [
       "<div>\n",
       "<style scoped>\n",
       "    .dataframe tbody tr th:only-of-type {\n",
       "        vertical-align: middle;\n",
       "    }\n",
       "\n",
       "    .dataframe tbody tr th {\n",
       "        vertical-align: top;\n",
       "    }\n",
       "\n",
       "    .dataframe thead th {\n",
       "        text-align: right;\n",
       "    }\n",
       "</style>\n",
       "<table border=\"1\" class=\"dataframe\">\n",
       "  <thead>\n",
       "    <tr style=\"text-align: right;\">\n",
       "      <th></th>\n",
       "      <th>Unnamed: 0</th>\n",
       "      <th>_id</th>\n",
       "      <th>name</th>\n",
       "      <th>desc</th>\n",
       "      <th>created_at</th>\n",
       "      <th>updated_at</th>\n",
       "      <th>RoleId</th>\n",
       "      <th>user_count</th>\n",
       "    </tr>\n",
       "  </thead>\n",
       "  <tbody>\n",
       "    <tr>\n",
       "      <th>0</th>\n",
       "      <td>0</td>\n",
       "      <td>66fd540a30450c2a76ac020f</td>\n",
       "      <td>Senior Software Engineer</td>\n",
       "      <td>Senior Software Engineer</td>\n",
       "      <td>2024-10-02</td>\n",
       "      <td>2024-10-02</td>\n",
       "      <td>66fd540a30450c2a76ac020f</td>\n",
       "      <td>6</td>\n",
       "    </tr>\n",
       "    <tr>\n",
       "      <th>1</th>\n",
       "      <td>1</td>\n",
       "      <td>66fd544630450c2a76ac0211</td>\n",
       "      <td>Solution Enabler</td>\n",
       "      <td>Solution Enabler</td>\n",
       "      <td>2024-10-02</td>\n",
       "      <td>2024-10-02</td>\n",
       "      <td>66fd544630450c2a76ac0211</td>\n",
       "      <td>7</td>\n",
       "    </tr>\n",
       "    <tr>\n",
       "      <th>2</th>\n",
       "      <td>2</td>\n",
       "      <td>66fd595030450c2a76ac0219</td>\n",
       "      <td>Software Engineer</td>\n",
       "      <td>Software Engineer</td>\n",
       "      <td>2024-10-02</td>\n",
       "      <td>2024-10-02</td>\n",
       "      <td>66fd595030450c2a76ac0219</td>\n",
       "      <td>5</td>\n",
       "    </tr>\n",
       "    <tr>\n",
       "      <th>3</th>\n",
       "      <td>3</td>\n",
       "      <td>100ac7ef-7112-488f-adf2-f9c1608d49b2</td>\n",
       "      <td>century</td>\n",
       "      <td>Possible capital fast or finally new Mr market.</td>\n",
       "      <td>2024-05-04</td>\n",
       "      <td>2023-09-07</td>\n",
       "      <td>100ac7ef-7112-488f-adf2-f9c1608d49b2</td>\n",
       "      <td>10</td>\n",
       "    </tr>\n",
       "    <tr>\n",
       "      <th>4</th>\n",
       "      <td>4</td>\n",
       "      <td>50d84c1b-4699-4a93-96ad-f1fd336cf39a</td>\n",
       "      <td>rock</td>\n",
       "      <td>Eat remember speak war always.</td>\n",
       "      <td>2024-07-07</td>\n",
       "      <td>2022-10-07</td>\n",
       "      <td>50d84c1b-4699-4a93-96ad-f1fd336cf39a</td>\n",
       "      <td>10</td>\n",
       "    </tr>\n",
       "  </tbody>\n",
       "</table>\n",
       "</div>"
      ],
      "text/plain": [
       "   Unnamed: 0                                   _id                      name  \\\n",
       "0           0              66fd540a30450c2a76ac020f  Senior Software Engineer   \n",
       "1           1              66fd544630450c2a76ac0211          Solution Enabler   \n",
       "2           2              66fd595030450c2a76ac0219         Software Engineer   \n",
       "3           3  100ac7ef-7112-488f-adf2-f9c1608d49b2                   century   \n",
       "4           4  50d84c1b-4699-4a93-96ad-f1fd336cf39a                      rock   \n",
       "\n",
       "                                              desc  created_at  updated_at  \\\n",
       "0                         Senior Software Engineer  2024-10-02  2024-10-02   \n",
       "1                                 Solution Enabler  2024-10-02  2024-10-02   \n",
       "2                                Software Engineer  2024-10-02  2024-10-02   \n",
       "3  Possible capital fast or finally new Mr market.  2024-05-04  2023-09-07   \n",
       "4                   Eat remember speak war always.  2024-07-07  2022-10-07   \n",
       "\n",
       "                                 RoleId  user_count  \n",
       "0              66fd540a30450c2a76ac020f           6  \n",
       "1              66fd544630450c2a76ac0211           7  \n",
       "2              66fd595030450c2a76ac0219           5  \n",
       "3  100ac7ef-7112-488f-adf2-f9c1608d49b2          10  \n",
       "4  50d84c1b-4699-4a93-96ad-f1fd336cf39a          10  "
      ]
     },
     "execution_count": 40,
     "metadata": {},
     "output_type": "execute_result"
    }
   ],
   "source": [
    "# roles_df = pd.read_csv('E:/JMAN/fp/DataEngineering/prep/prep_user.csv')\n",
    "roles_df = pd.read_csv('E:/JMAN/fp/DataEngineering/prep/prep_role.csv')\n",
    "roles_df.head()"
   ]
  },
  {
   "cell_type": "code",
   "execution_count": 41,
   "metadata": {},
   "outputs": [
    {
     "data": {
      "text/plain": [
       "(23, 8)"
      ]
     },
     "execution_count": 41,
     "metadata": {},
     "output_type": "execute_result"
    }
   ],
   "source": [
    "roles_df.shape"
   ]
  },
  {
   "cell_type": "code",
   "execution_count": 42,
   "metadata": {},
   "outputs": [
    {
     "data": {
      "text/html": [
       "<div>\n",
       "<style scoped>\n",
       "    .dataframe tbody tr th:only-of-type {\n",
       "        vertical-align: middle;\n",
       "    }\n",
       "\n",
       "    .dataframe tbody tr th {\n",
       "        vertical-align: top;\n",
       "    }\n",
       "\n",
       "    .dataframe thead th {\n",
       "        text-align: right;\n",
       "    }\n",
       "</style>\n",
       "<table border=\"1\" class=\"dataframe\">\n",
       "  <thead>\n",
       "    <tr style=\"text-align: right;\">\n",
       "      <th></th>\n",
       "      <th>Unnamed: 0</th>\n",
       "      <th>_id</th>\n",
       "      <th>RoleId</th>\n",
       "      <th>department</th>\n",
       "      <th>skillId</th>\n",
       "      <th>role_name</th>\n",
       "      <th>skill_name</th>\n",
       "    </tr>\n",
       "  </thead>\n",
       "  <tbody>\n",
       "    <tr>\n",
       "      <th>0</th>\n",
       "      <td>0</td>\n",
       "      <td>66ff9021a325dc5b0d7d3a89</td>\n",
       "      <td>66fd595030450c2a76ac0219</td>\n",
       "      <td>FULL_STACK</td>\n",
       "      <td>66ff7be7d1312483599a8dd8</td>\n",
       "      <td>Software Engineer</td>\n",
       "      <td>Frontend</td>\n",
       "    </tr>\n",
       "    <tr>\n",
       "      <th>1</th>\n",
       "      <td>3</td>\n",
       "      <td>66ff904aa325dc5b0d7d3a8f</td>\n",
       "      <td>66fd540a30450c2a76ac020f</td>\n",
       "      <td>FULL_STACK</td>\n",
       "      <td>66ff7be7d1312483599a8dd8</td>\n",
       "      <td>Senior Software Engineer</td>\n",
       "      <td>Frontend</td>\n",
       "    </tr>\n",
       "    <tr>\n",
       "      <th>2</th>\n",
       "      <td>13</td>\n",
       "      <td>67023f301b525e6c3ca49ab7</td>\n",
       "      <td>66fd544630450c2a76ac0211</td>\n",
       "      <td>FULL_STACK</td>\n",
       "      <td>66fd1200959f8b790f41290f</td>\n",
       "      <td>Solution Enabler</td>\n",
       "      <td>Data Process</td>\n",
       "    </tr>\n",
       "    <tr>\n",
       "      <th>3</th>\n",
       "      <td>15</td>\n",
       "      <td>67023f301b525e6c3ca49ab9</td>\n",
       "      <td>66fd544630450c2a76ac0211</td>\n",
       "      <td>FULL_STACK</td>\n",
       "      <td>66ff7be7d1312483599a8dd8</td>\n",
       "      <td>Solution Enabler</td>\n",
       "      <td>Frontend</td>\n",
       "    </tr>\n",
       "    <tr>\n",
       "      <th>4</th>\n",
       "      <td>18</td>\n",
       "      <td>72d31304-c49f-49d7-8a52-b527ff3a2cab</td>\n",
       "      <td>100ac7ef-7112-488f-adf2-f9c1608d49b2</td>\n",
       "      <td>DATA_ENGINEERING</td>\n",
       "      <td>ea2ef5c4-4e9c-4d08-b232-d94be9df5e12</td>\n",
       "      <td>century</td>\n",
       "      <td>get</td>\n",
       "    </tr>\n",
       "    <tr>\n",
       "      <th>...</th>\n",
       "      <td>...</td>\n",
       "      <td>...</td>\n",
       "      <td>...</td>\n",
       "      <td>...</td>\n",
       "      <td>...</td>\n",
       "      <td>...</td>\n",
       "      <td>...</td>\n",
       "    </tr>\n",
       "    <tr>\n",
       "      <th>199</th>\n",
       "      <td>213</td>\n",
       "      <td>365e4659-c232-4582-8b3b-cd8b2e6e632f</td>\n",
       "      <td>76fba540-2817-4293-b9ae-dd2aa77acbc1</td>\n",
       "      <td>ADMIN</td>\n",
       "      <td>0baa0362-9abc-45ef-8da2-468fd7f19fb4</td>\n",
       "      <td>positive</td>\n",
       "      <td>cut</td>\n",
       "    </tr>\n",
       "    <tr>\n",
       "      <th>200</th>\n",
       "      <td>214</td>\n",
       "      <td>527680ad-7d67-46ce-b5ef-0928d67c9bfd</td>\n",
       "      <td>76fba540-2817-4293-b9ae-dd2aa77acbc1</td>\n",
       "      <td>DEVOPS</td>\n",
       "      <td>ba9b6172-9cb7-42e1-9372-2cfbc6b1ab4a</td>\n",
       "      <td>positive</td>\n",
       "      <td>bar</td>\n",
       "    </tr>\n",
       "    <tr>\n",
       "      <th>201</th>\n",
       "      <td>215</td>\n",
       "      <td>f07c2b35-3e1e-4c14-9027-4056b40229e4</td>\n",
       "      <td>76fba540-2817-4293-b9ae-dd2aa77acbc1</td>\n",
       "      <td>ADMIN</td>\n",
       "      <td>32a6285c-7ba3-4e1e-9016-7ed6e858e90c</td>\n",
       "      <td>positive</td>\n",
       "      <td>anyone</td>\n",
       "    </tr>\n",
       "    <tr>\n",
       "      <th>202</th>\n",
       "      <td>216</td>\n",
       "      <td>81e31540-249f-499d-92a5-49442c1b0cff</td>\n",
       "      <td>76fba540-2817-4293-b9ae-dd2aa77acbc1</td>\n",
       "      <td>DEVOPS</td>\n",
       "      <td>11f8e7bb-8e5b-41f0-a8cc-39dbfc7792ba</td>\n",
       "      <td>positive</td>\n",
       "      <td>reality</td>\n",
       "    </tr>\n",
       "    <tr>\n",
       "      <th>203</th>\n",
       "      <td>217</td>\n",
       "      <td>298cf970-1572-48d3-945c-8a25a82ea2be</td>\n",
       "      <td>76fba540-2817-4293-b9ae-dd2aa77acbc1</td>\n",
       "      <td>OTHER</td>\n",
       "      <td>49f3d6df-1c4c-41d4-86da-6b00b078753b</td>\n",
       "      <td>positive</td>\n",
       "      <td>thousand</td>\n",
       "    </tr>\n",
       "  </tbody>\n",
       "</table>\n",
       "<p>204 rows × 7 columns</p>\n",
       "</div>"
      ],
      "text/plain": [
       "     Unnamed: 0                                   _id  \\\n",
       "0             0              66ff9021a325dc5b0d7d3a89   \n",
       "1             3              66ff904aa325dc5b0d7d3a8f   \n",
       "2            13              67023f301b525e6c3ca49ab7   \n",
       "3            15              67023f301b525e6c3ca49ab9   \n",
       "4            18  72d31304-c49f-49d7-8a52-b527ff3a2cab   \n",
       "..          ...                                   ...   \n",
       "199         213  365e4659-c232-4582-8b3b-cd8b2e6e632f   \n",
       "200         214  527680ad-7d67-46ce-b5ef-0928d67c9bfd   \n",
       "201         215  f07c2b35-3e1e-4c14-9027-4056b40229e4   \n",
       "202         216  81e31540-249f-499d-92a5-49442c1b0cff   \n",
       "203         217  298cf970-1572-48d3-945c-8a25a82ea2be   \n",
       "\n",
       "                                   RoleId        department  \\\n",
       "0                66fd595030450c2a76ac0219        FULL_STACK   \n",
       "1                66fd540a30450c2a76ac020f        FULL_STACK   \n",
       "2                66fd544630450c2a76ac0211        FULL_STACK   \n",
       "3                66fd544630450c2a76ac0211        FULL_STACK   \n",
       "4    100ac7ef-7112-488f-adf2-f9c1608d49b2  DATA_ENGINEERING   \n",
       "..                                    ...               ...   \n",
       "199  76fba540-2817-4293-b9ae-dd2aa77acbc1             ADMIN   \n",
       "200  76fba540-2817-4293-b9ae-dd2aa77acbc1            DEVOPS   \n",
       "201  76fba540-2817-4293-b9ae-dd2aa77acbc1             ADMIN   \n",
       "202  76fba540-2817-4293-b9ae-dd2aa77acbc1            DEVOPS   \n",
       "203  76fba540-2817-4293-b9ae-dd2aa77acbc1             OTHER   \n",
       "\n",
       "                                  skillId                 role_name  \\\n",
       "0                66ff7be7d1312483599a8dd8         Software Engineer   \n",
       "1                66ff7be7d1312483599a8dd8  Senior Software Engineer   \n",
       "2                66fd1200959f8b790f41290f          Solution Enabler   \n",
       "3                66ff7be7d1312483599a8dd8          Solution Enabler   \n",
       "4    ea2ef5c4-4e9c-4d08-b232-d94be9df5e12                   century   \n",
       "..                                    ...                       ...   \n",
       "199  0baa0362-9abc-45ef-8da2-468fd7f19fb4                  positive   \n",
       "200  ba9b6172-9cb7-42e1-9372-2cfbc6b1ab4a                  positive   \n",
       "201  32a6285c-7ba3-4e1e-9016-7ed6e858e90c                  positive   \n",
       "202  11f8e7bb-8e5b-41f0-a8cc-39dbfc7792ba                  positive   \n",
       "203  49f3d6df-1c4c-41d4-86da-6b00b078753b                  positive   \n",
       "\n",
       "       skill_name  \n",
       "0        Frontend  \n",
       "1        Frontend  \n",
       "2    Data Process  \n",
       "3        Frontend  \n",
       "4             get  \n",
       "..            ...  \n",
       "199           cut  \n",
       "200           bar  \n",
       "201        anyone  \n",
       "202       reality  \n",
       "203      thousand  \n",
       "\n",
       "[204 rows x 7 columns]"
      ]
     },
     "execution_count": 42,
     "metadata": {},
     "output_type": "execute_result"
    }
   ],
   "source": [
    "df.shape\n",
    "df"
   ]
  },
  {
   "cell_type": "code",
   "execution_count": 43,
   "metadata": {},
   "outputs": [
    {
     "data": {
      "text/plain": [
       "(204, 15)"
      ]
     },
     "execution_count": 43,
     "metadata": {},
     "output_type": "execute_result"
    }
   ],
   "source": [
    "\n",
    "merged_df=pd.merge(df,roles_df,left_on='RoleId',right_on='_id',how='inner')\n",
    "df=merged_df\n",
    "df.shape"
   ]
  },
  {
   "cell_type": "code",
   "execution_count": 44,
   "metadata": {},
   "outputs": [
    {
     "data": {
      "text/plain": [
       "(204, 15)"
      ]
     },
     "execution_count": 44,
     "metadata": {},
     "output_type": "execute_result"
    }
   ],
   "source": [
    "df.shape"
   ]
  },
  {
   "cell_type": "code",
   "execution_count": 45,
   "metadata": {},
   "outputs": [
    {
     "data": {
      "text/html": [
       "<div>\n",
       "<style scoped>\n",
       "    .dataframe tbody tr th:only-of-type {\n",
       "        vertical-align: middle;\n",
       "    }\n",
       "\n",
       "    .dataframe tbody tr th {\n",
       "        vertical-align: top;\n",
       "    }\n",
       "\n",
       "    .dataframe thead th {\n",
       "        text-align: right;\n",
       "    }\n",
       "</style>\n",
       "<table border=\"1\" class=\"dataframe\">\n",
       "  <thead>\n",
       "    <tr style=\"text-align: right;\">\n",
       "      <th></th>\n",
       "      <th>Unnamed: 0</th>\n",
       "      <th>_id</th>\n",
       "      <th>name</th>\n",
       "      <th>created_at</th>\n",
       "      <th>updated_at</th>\n",
       "      <th>desc</th>\n",
       "      <th>skillId_x</th>\n",
       "      <th>user_count_x</th>\n",
       "      <th>skillId_y</th>\n",
       "      <th>user_count_y</th>\n",
       "      <th>skillId</th>\n",
       "      <th>user_count</th>\n",
       "    </tr>\n",
       "  </thead>\n",
       "  <tbody>\n",
       "    <tr>\n",
       "      <th>0</th>\n",
       "      <td>0</td>\n",
       "      <td>66fd116e959f8b790f412908</td>\n",
       "      <td>Database</td>\n",
       "      <td>2024-10-02</td>\n",
       "      <td>2024-10-02</td>\n",
       "      <td>DB</td>\n",
       "      <td>66fd116e959f8b790f412908</td>\n",
       "      <td>1.0</td>\n",
       "      <td>66fd116e959f8b790f412908</td>\n",
       "      <td>1.0</td>\n",
       "      <td>66fd116e959f8b790f412908</td>\n",
       "      <td>1</td>\n",
       "    </tr>\n",
       "    <tr>\n",
       "      <th>1</th>\n",
       "      <td>1</td>\n",
       "      <td>66fd1190959f8b790f41290a</td>\n",
       "      <td>Data Analysis</td>\n",
       "      <td>2024-10-02</td>\n",
       "      <td>2024-10-02</td>\n",
       "      <td>Data Analysis</td>\n",
       "      <td>66fd1190959f8b790f41290a</td>\n",
       "      <td>1.0</td>\n",
       "      <td>66fd1190959f8b790f41290a</td>\n",
       "      <td>1.0</td>\n",
       "      <td>66fd1190959f8b790f41290a</td>\n",
       "      <td>1</td>\n",
       "    </tr>\n",
       "    <tr>\n",
       "      <th>2</th>\n",
       "      <td>2</td>\n",
       "      <td>66fd1200959f8b790f41290f</td>\n",
       "      <td>Data Process</td>\n",
       "      <td>2024-10-02</td>\n",
       "      <td>2024-10-02</td>\n",
       "      <td>Data  processing</td>\n",
       "      <td>66fd1200959f8b790f41290f</td>\n",
       "      <td>1.0</td>\n",
       "      <td>66fd1200959f8b790f41290f</td>\n",
       "      <td>1.0</td>\n",
       "      <td>66fd1200959f8b790f41290f</td>\n",
       "      <td>1</td>\n",
       "    </tr>\n",
       "    <tr>\n",
       "      <th>3</th>\n",
       "      <td>3</td>\n",
       "      <td>66ff7be7d1312483599a8dd8</td>\n",
       "      <td>Frontend</td>\n",
       "      <td>2024-10-04</td>\n",
       "      <td>2024-10-04</td>\n",
       "      <td>Frontend</td>\n",
       "      <td>66ff7be7d1312483599a8dd8</td>\n",
       "      <td>1.0</td>\n",
       "      <td>66ff7be7d1312483599a8dd8</td>\n",
       "      <td>1.0</td>\n",
       "      <td>66ff7be7d1312483599a8dd8</td>\n",
       "      <td>1</td>\n",
       "    </tr>\n",
       "    <tr>\n",
       "      <th>4</th>\n",
       "      <td>4</td>\n",
       "      <td>79e0ecd9-a547-462a-acb5-533722940278</td>\n",
       "      <td>share</td>\n",
       "      <td>2022-11-05</td>\n",
       "      <td>2023-06-24</td>\n",
       "      <td>Where site modern modern.</td>\n",
       "      <td>79e0ecd9-a547-462a-acb5-533722940278</td>\n",
       "      <td>261.0</td>\n",
       "      <td>79e0ecd9-a547-462a-acb5-533722940278</td>\n",
       "      <td>261.0</td>\n",
       "      <td>79e0ecd9-a547-462a-acb5-533722940278</td>\n",
       "      <td>261</td>\n",
       "    </tr>\n",
       "  </tbody>\n",
       "</table>\n",
       "</div>"
      ],
      "text/plain": [
       "   Unnamed: 0                                   _id           name  \\\n",
       "0           0              66fd116e959f8b790f412908       Database   \n",
       "1           1              66fd1190959f8b790f41290a  Data Analysis   \n",
       "2           2              66fd1200959f8b790f41290f   Data Process   \n",
       "3           3              66ff7be7d1312483599a8dd8       Frontend   \n",
       "4           4  79e0ecd9-a547-462a-acb5-533722940278          share   \n",
       "\n",
       "   created_at  updated_at                       desc  \\\n",
       "0  2024-10-02  2024-10-02                         DB   \n",
       "1  2024-10-02  2024-10-02              Data Analysis   \n",
       "2  2024-10-02  2024-10-02           Data  processing   \n",
       "3  2024-10-04  2024-10-04                   Frontend   \n",
       "4  2022-11-05  2023-06-24  Where site modern modern.   \n",
       "\n",
       "                              skillId_x  user_count_x  \\\n",
       "0              66fd116e959f8b790f412908           1.0   \n",
       "1              66fd1190959f8b790f41290a           1.0   \n",
       "2              66fd1200959f8b790f41290f           1.0   \n",
       "3              66ff7be7d1312483599a8dd8           1.0   \n",
       "4  79e0ecd9-a547-462a-acb5-533722940278         261.0   \n",
       "\n",
       "                              skillId_y  user_count_y  \\\n",
       "0              66fd116e959f8b790f412908           1.0   \n",
       "1              66fd1190959f8b790f41290a           1.0   \n",
       "2              66fd1200959f8b790f41290f           1.0   \n",
       "3              66ff7be7d1312483599a8dd8           1.0   \n",
       "4  79e0ecd9-a547-462a-acb5-533722940278         261.0   \n",
       "\n",
       "                                skillId  user_count  \n",
       "0              66fd116e959f8b790f412908           1  \n",
       "1              66fd1190959f8b790f41290a           1  \n",
       "2              66fd1200959f8b790f41290f           1  \n",
       "3              66ff7be7d1312483599a8dd8           1  \n",
       "4  79e0ecd9-a547-462a-acb5-533722940278         261  "
      ]
     },
     "execution_count": 45,
     "metadata": {},
     "output_type": "execute_result"
    }
   ],
   "source": [
    "# roles_df = pd.read_csv('E:/JMAN/fp/DataEngineering/prep/prep_certification.csv')\n",
    "roles_df = pd.read_csv('E:/JMAN/fp/DataEngineering/prep/prep_skill.csv')\n",
    "roles_df.head()"
   ]
  },
  {
   "cell_type": "code",
   "execution_count": 52,
   "metadata": {},
   "outputs": [
    {
     "data": {
      "text/plain": [
       "Unnamed: 0_x    0\n",
       "_id_x           0\n",
       "RoleId_x        0\n",
       "department      0\n",
       "skillId         0\n",
       "role_name       0\n",
       "skill_name      0\n",
       "Unnamed: 0_y    0\n",
       "_id_y           0\n",
       "name            0\n",
       "desc            0\n",
       "created_at      0\n",
       "updated_at      0\n",
       "RoleId_y        0\n",
       "user_count      0\n",
       "dtype: int64"
      ]
     },
     "execution_count": 52,
     "metadata": {},
     "output_type": "execute_result"
    }
   ],
   "source": [
    "df.isnull().sum()"
   ]
  },
  {
   "cell_type": "code",
   "execution_count": 53,
   "metadata": {},
   "outputs": [
    {
     "data": {
      "text/plain": [
       "(204, 15)"
      ]
     },
     "execution_count": 53,
     "metadata": {},
     "output_type": "execute_result"
    }
   ],
   "source": [
    "df.shape"
   ]
  },
  {
   "cell_type": "code",
   "execution_count": 54,
   "metadata": {},
   "outputs": [],
   "source": [
    "df.drop(['Unnamed: 0_y','Unnamed: 0_x',],inplace=True,axis=1)"
   ]
  },
  {
   "cell_type": "code",
   "execution_count": 55,
   "metadata": {},
   "outputs": [
    {
     "data": {
      "text/html": [
       "<div>\n",
       "<style scoped>\n",
       "    .dataframe tbody tr th:only-of-type {\n",
       "        vertical-align: middle;\n",
       "    }\n",
       "\n",
       "    .dataframe tbody tr th {\n",
       "        vertical-align: top;\n",
       "    }\n",
       "\n",
       "    .dataframe thead th {\n",
       "        text-align: right;\n",
       "    }\n",
       "</style>\n",
       "<table border=\"1\" class=\"dataframe\">\n",
       "  <thead>\n",
       "    <tr style=\"text-align: right;\">\n",
       "      <th></th>\n",
       "      <th>_id</th>\n",
       "      <th>RoleId_x</th>\n",
       "      <th>department</th>\n",
       "      <th>skillId</th>\n",
       "      <th>role_name</th>\n",
       "      <th>skill_name</th>\n",
       "      <th>_id_y</th>\n",
       "      <th>name</th>\n",
       "      <th>desc</th>\n",
       "      <th>created_at</th>\n",
       "      <th>updated_at</th>\n",
       "      <th>RoleId_y</th>\n",
       "      <th>user_count</th>\n",
       "    </tr>\n",
       "  </thead>\n",
       "  <tbody>\n",
       "    <tr>\n",
       "      <th>0</th>\n",
       "      <td>66ff9021a325dc5b0d7d3a89</td>\n",
       "      <td>66fd595030450c2a76ac0219</td>\n",
       "      <td>FULL_STACK</td>\n",
       "      <td>66ff7be7d1312483599a8dd8</td>\n",
       "      <td>Software Engineer</td>\n",
       "      <td>Frontend</td>\n",
       "      <td>66fd595030450c2a76ac0219</td>\n",
       "      <td>Software Engineer</td>\n",
       "      <td>Software Engineer</td>\n",
       "      <td>2024-10-02</td>\n",
       "      <td>2024-10-02</td>\n",
       "      <td>66fd595030450c2a76ac0219</td>\n",
       "      <td>5</td>\n",
       "    </tr>\n",
       "    <tr>\n",
       "      <th>1</th>\n",
       "      <td>66ff904aa325dc5b0d7d3a8f</td>\n",
       "      <td>66fd540a30450c2a76ac020f</td>\n",
       "      <td>FULL_STACK</td>\n",
       "      <td>66ff7be7d1312483599a8dd8</td>\n",
       "      <td>Senior Software Engineer</td>\n",
       "      <td>Frontend</td>\n",
       "      <td>66fd540a30450c2a76ac020f</td>\n",
       "      <td>Senior Software Engineer</td>\n",
       "      <td>Senior Software Engineer</td>\n",
       "      <td>2024-10-02</td>\n",
       "      <td>2024-10-02</td>\n",
       "      <td>66fd540a30450c2a76ac020f</td>\n",
       "      <td>6</td>\n",
       "    </tr>\n",
       "    <tr>\n",
       "      <th>2</th>\n",
       "      <td>67023f301b525e6c3ca49ab7</td>\n",
       "      <td>66fd544630450c2a76ac0211</td>\n",
       "      <td>FULL_STACK</td>\n",
       "      <td>66fd1200959f8b790f41290f</td>\n",
       "      <td>Solution Enabler</td>\n",
       "      <td>Data Process</td>\n",
       "      <td>66fd544630450c2a76ac0211</td>\n",
       "      <td>Solution Enabler</td>\n",
       "      <td>Solution Enabler</td>\n",
       "      <td>2024-10-02</td>\n",
       "      <td>2024-10-02</td>\n",
       "      <td>66fd544630450c2a76ac0211</td>\n",
       "      <td>7</td>\n",
       "    </tr>\n",
       "    <tr>\n",
       "      <th>3</th>\n",
       "      <td>67023f301b525e6c3ca49ab9</td>\n",
       "      <td>66fd544630450c2a76ac0211</td>\n",
       "      <td>FULL_STACK</td>\n",
       "      <td>66ff7be7d1312483599a8dd8</td>\n",
       "      <td>Solution Enabler</td>\n",
       "      <td>Frontend</td>\n",
       "      <td>66fd544630450c2a76ac0211</td>\n",
       "      <td>Solution Enabler</td>\n",
       "      <td>Solution Enabler</td>\n",
       "      <td>2024-10-02</td>\n",
       "      <td>2024-10-02</td>\n",
       "      <td>66fd544630450c2a76ac0211</td>\n",
       "      <td>7</td>\n",
       "    </tr>\n",
       "    <tr>\n",
       "      <th>4</th>\n",
       "      <td>72d31304-c49f-49d7-8a52-b527ff3a2cab</td>\n",
       "      <td>100ac7ef-7112-488f-adf2-f9c1608d49b2</td>\n",
       "      <td>DATA_ENGINEERING</td>\n",
       "      <td>ea2ef5c4-4e9c-4d08-b232-d94be9df5e12</td>\n",
       "      <td>century</td>\n",
       "      <td>get</td>\n",
       "      <td>100ac7ef-7112-488f-adf2-f9c1608d49b2</td>\n",
       "      <td>century</td>\n",
       "      <td>Possible capital fast or finally new Mr market.</td>\n",
       "      <td>2024-05-04</td>\n",
       "      <td>2023-09-07</td>\n",
       "      <td>100ac7ef-7112-488f-adf2-f9c1608d49b2</td>\n",
       "      <td>10</td>\n",
       "    </tr>\n",
       "    <tr>\n",
       "      <th>...</th>\n",
       "      <td>...</td>\n",
       "      <td>...</td>\n",
       "      <td>...</td>\n",
       "      <td>...</td>\n",
       "      <td>...</td>\n",
       "      <td>...</td>\n",
       "      <td>...</td>\n",
       "      <td>...</td>\n",
       "      <td>...</td>\n",
       "      <td>...</td>\n",
       "      <td>...</td>\n",
       "      <td>...</td>\n",
       "      <td>...</td>\n",
       "    </tr>\n",
       "    <tr>\n",
       "      <th>199</th>\n",
       "      <td>365e4659-c232-4582-8b3b-cd8b2e6e632f</td>\n",
       "      <td>76fba540-2817-4293-b9ae-dd2aa77acbc1</td>\n",
       "      <td>ADMIN</td>\n",
       "      <td>0baa0362-9abc-45ef-8da2-468fd7f19fb4</td>\n",
       "      <td>positive</td>\n",
       "      <td>cut</td>\n",
       "      <td>76fba540-2817-4293-b9ae-dd2aa77acbc1</td>\n",
       "      <td>positive</td>\n",
       "      <td>National project game cup fill executive.</td>\n",
       "      <td>2022-10-06</td>\n",
       "      <td>2021-04-07</td>\n",
       "      <td>76fba540-2817-4293-b9ae-dd2aa77acbc1</td>\n",
       "      <td>10</td>\n",
       "    </tr>\n",
       "    <tr>\n",
       "      <th>200</th>\n",
       "      <td>527680ad-7d67-46ce-b5ef-0928d67c9bfd</td>\n",
       "      <td>76fba540-2817-4293-b9ae-dd2aa77acbc1</td>\n",
       "      <td>DEVOPS</td>\n",
       "      <td>ba9b6172-9cb7-42e1-9372-2cfbc6b1ab4a</td>\n",
       "      <td>positive</td>\n",
       "      <td>bar</td>\n",
       "      <td>76fba540-2817-4293-b9ae-dd2aa77acbc1</td>\n",
       "      <td>positive</td>\n",
       "      <td>National project game cup fill executive.</td>\n",
       "      <td>2022-10-06</td>\n",
       "      <td>2021-04-07</td>\n",
       "      <td>76fba540-2817-4293-b9ae-dd2aa77acbc1</td>\n",
       "      <td>10</td>\n",
       "    </tr>\n",
       "    <tr>\n",
       "      <th>201</th>\n",
       "      <td>f07c2b35-3e1e-4c14-9027-4056b40229e4</td>\n",
       "      <td>76fba540-2817-4293-b9ae-dd2aa77acbc1</td>\n",
       "      <td>ADMIN</td>\n",
       "      <td>32a6285c-7ba3-4e1e-9016-7ed6e858e90c</td>\n",
       "      <td>positive</td>\n",
       "      <td>anyone</td>\n",
       "      <td>76fba540-2817-4293-b9ae-dd2aa77acbc1</td>\n",
       "      <td>positive</td>\n",
       "      <td>National project game cup fill executive.</td>\n",
       "      <td>2022-10-06</td>\n",
       "      <td>2021-04-07</td>\n",
       "      <td>76fba540-2817-4293-b9ae-dd2aa77acbc1</td>\n",
       "      <td>10</td>\n",
       "    </tr>\n",
       "    <tr>\n",
       "      <th>202</th>\n",
       "      <td>81e31540-249f-499d-92a5-49442c1b0cff</td>\n",
       "      <td>76fba540-2817-4293-b9ae-dd2aa77acbc1</td>\n",
       "      <td>DEVOPS</td>\n",
       "      <td>11f8e7bb-8e5b-41f0-a8cc-39dbfc7792ba</td>\n",
       "      <td>positive</td>\n",
       "      <td>reality</td>\n",
       "      <td>76fba540-2817-4293-b9ae-dd2aa77acbc1</td>\n",
       "      <td>positive</td>\n",
       "      <td>National project game cup fill executive.</td>\n",
       "      <td>2022-10-06</td>\n",
       "      <td>2021-04-07</td>\n",
       "      <td>76fba540-2817-4293-b9ae-dd2aa77acbc1</td>\n",
       "      <td>10</td>\n",
       "    </tr>\n",
       "    <tr>\n",
       "      <th>203</th>\n",
       "      <td>298cf970-1572-48d3-945c-8a25a82ea2be</td>\n",
       "      <td>76fba540-2817-4293-b9ae-dd2aa77acbc1</td>\n",
       "      <td>OTHER</td>\n",
       "      <td>49f3d6df-1c4c-41d4-86da-6b00b078753b</td>\n",
       "      <td>positive</td>\n",
       "      <td>thousand</td>\n",
       "      <td>76fba540-2817-4293-b9ae-dd2aa77acbc1</td>\n",
       "      <td>positive</td>\n",
       "      <td>National project game cup fill executive.</td>\n",
       "      <td>2022-10-06</td>\n",
       "      <td>2021-04-07</td>\n",
       "      <td>76fba540-2817-4293-b9ae-dd2aa77acbc1</td>\n",
       "      <td>10</td>\n",
       "    </tr>\n",
       "  </tbody>\n",
       "</table>\n",
       "<p>204 rows × 13 columns</p>\n",
       "</div>"
      ],
      "text/plain": [
       "                                      _id  \\\n",
       "0                66ff9021a325dc5b0d7d3a89   \n",
       "1                66ff904aa325dc5b0d7d3a8f   \n",
       "2                67023f301b525e6c3ca49ab7   \n",
       "3                67023f301b525e6c3ca49ab9   \n",
       "4    72d31304-c49f-49d7-8a52-b527ff3a2cab   \n",
       "..                                    ...   \n",
       "199  365e4659-c232-4582-8b3b-cd8b2e6e632f   \n",
       "200  527680ad-7d67-46ce-b5ef-0928d67c9bfd   \n",
       "201  f07c2b35-3e1e-4c14-9027-4056b40229e4   \n",
       "202  81e31540-249f-499d-92a5-49442c1b0cff   \n",
       "203  298cf970-1572-48d3-945c-8a25a82ea2be   \n",
       "\n",
       "                                 RoleId_x        department  \\\n",
       "0                66fd595030450c2a76ac0219        FULL_STACK   \n",
       "1                66fd540a30450c2a76ac020f        FULL_STACK   \n",
       "2                66fd544630450c2a76ac0211        FULL_STACK   \n",
       "3                66fd544630450c2a76ac0211        FULL_STACK   \n",
       "4    100ac7ef-7112-488f-adf2-f9c1608d49b2  DATA_ENGINEERING   \n",
       "..                                    ...               ...   \n",
       "199  76fba540-2817-4293-b9ae-dd2aa77acbc1             ADMIN   \n",
       "200  76fba540-2817-4293-b9ae-dd2aa77acbc1            DEVOPS   \n",
       "201  76fba540-2817-4293-b9ae-dd2aa77acbc1             ADMIN   \n",
       "202  76fba540-2817-4293-b9ae-dd2aa77acbc1            DEVOPS   \n",
       "203  76fba540-2817-4293-b9ae-dd2aa77acbc1             OTHER   \n",
       "\n",
       "                                  skillId                 role_name  \\\n",
       "0                66ff7be7d1312483599a8dd8         Software Engineer   \n",
       "1                66ff7be7d1312483599a8dd8  Senior Software Engineer   \n",
       "2                66fd1200959f8b790f41290f          Solution Enabler   \n",
       "3                66ff7be7d1312483599a8dd8          Solution Enabler   \n",
       "4    ea2ef5c4-4e9c-4d08-b232-d94be9df5e12                   century   \n",
       "..                                    ...                       ...   \n",
       "199  0baa0362-9abc-45ef-8da2-468fd7f19fb4                  positive   \n",
       "200  ba9b6172-9cb7-42e1-9372-2cfbc6b1ab4a                  positive   \n",
       "201  32a6285c-7ba3-4e1e-9016-7ed6e858e90c                  positive   \n",
       "202  11f8e7bb-8e5b-41f0-a8cc-39dbfc7792ba                  positive   \n",
       "203  49f3d6df-1c4c-41d4-86da-6b00b078753b                  positive   \n",
       "\n",
       "       skill_name                                 _id_y  \\\n",
       "0        Frontend              66fd595030450c2a76ac0219   \n",
       "1        Frontend              66fd540a30450c2a76ac020f   \n",
       "2    Data Process              66fd544630450c2a76ac0211   \n",
       "3        Frontend              66fd544630450c2a76ac0211   \n",
       "4             get  100ac7ef-7112-488f-adf2-f9c1608d49b2   \n",
       "..            ...                                   ...   \n",
       "199           cut  76fba540-2817-4293-b9ae-dd2aa77acbc1   \n",
       "200           bar  76fba540-2817-4293-b9ae-dd2aa77acbc1   \n",
       "201        anyone  76fba540-2817-4293-b9ae-dd2aa77acbc1   \n",
       "202       reality  76fba540-2817-4293-b9ae-dd2aa77acbc1   \n",
       "203      thousand  76fba540-2817-4293-b9ae-dd2aa77acbc1   \n",
       "\n",
       "                         name  \\\n",
       "0           Software Engineer   \n",
       "1    Senior Software Engineer   \n",
       "2            Solution Enabler   \n",
       "3            Solution Enabler   \n",
       "4                     century   \n",
       "..                        ...   \n",
       "199                  positive   \n",
       "200                  positive   \n",
       "201                  positive   \n",
       "202                  positive   \n",
       "203                  positive   \n",
       "\n",
       "                                                desc  created_at  updated_at  \\\n",
       "0                                  Software Engineer  2024-10-02  2024-10-02   \n",
       "1                           Senior Software Engineer  2024-10-02  2024-10-02   \n",
       "2                                   Solution Enabler  2024-10-02  2024-10-02   \n",
       "3                                   Solution Enabler  2024-10-02  2024-10-02   \n",
       "4    Possible capital fast or finally new Mr market.  2024-05-04  2023-09-07   \n",
       "..                                               ...         ...         ...   \n",
       "199        National project game cup fill executive.  2022-10-06  2021-04-07   \n",
       "200        National project game cup fill executive.  2022-10-06  2021-04-07   \n",
       "201        National project game cup fill executive.  2022-10-06  2021-04-07   \n",
       "202        National project game cup fill executive.  2022-10-06  2021-04-07   \n",
       "203        National project game cup fill executive.  2022-10-06  2021-04-07   \n",
       "\n",
       "                                 RoleId_y  user_count  \n",
       "0                66fd595030450c2a76ac0219           5  \n",
       "1                66fd540a30450c2a76ac020f           6  \n",
       "2                66fd544630450c2a76ac0211           7  \n",
       "3                66fd544630450c2a76ac0211           7  \n",
       "4    100ac7ef-7112-488f-adf2-f9c1608d49b2          10  \n",
       "..                                    ...         ...  \n",
       "199  76fba540-2817-4293-b9ae-dd2aa77acbc1          10  \n",
       "200  76fba540-2817-4293-b9ae-dd2aa77acbc1          10  \n",
       "201  76fba540-2817-4293-b9ae-dd2aa77acbc1          10  \n",
       "202  76fba540-2817-4293-b9ae-dd2aa77acbc1          10  \n",
       "203  76fba540-2817-4293-b9ae-dd2aa77acbc1          10  \n",
       "\n",
       "[204 rows x 13 columns]"
      ]
     },
     "execution_count": 55,
     "metadata": {},
     "output_type": "execute_result"
    }
   ],
   "source": [
    "df.rename({\"_id_x\":\"_id\",\"userId_x\":\"userId\"},axis=1)"
   ]
  },
  {
   "cell_type": "code",
   "execution_count": 56,
   "metadata": {},
   "outputs": [
    {
     "data": {
      "text/plain": [
       "_id_x         0\n",
       "RoleId_x      0\n",
       "department    0\n",
       "skillId       0\n",
       "role_name     0\n",
       "skill_name    0\n",
       "_id_y         0\n",
       "name          0\n",
       "desc          0\n",
       "created_at    0\n",
       "updated_at    0\n",
       "RoleId_y      0\n",
       "user_count    0\n",
       "dtype: int64"
      ]
     },
     "execution_count": 56,
     "metadata": {},
     "output_type": "execute_result"
    }
   ],
   "source": [
    "df.isnull().sum()"
   ]
  },
  {
   "cell_type": "code",
   "execution_count": 57,
   "metadata": {},
   "outputs": [],
   "source": [
    "df.drop(['RoleId_y','_id_y',],inplace=True,axis=1)"
   ]
  },
  {
   "cell_type": "code",
   "execution_count": 58,
   "metadata": {},
   "outputs": [
    {
     "data": {
      "text/plain": [
       "(204, 11)"
      ]
     },
     "execution_count": 58,
     "metadata": {},
     "output_type": "execute_result"
    }
   ],
   "source": [
    "df.shape"
   ]
  },
  {
   "cell_type": "code",
   "execution_count": 59,
   "metadata": {},
   "outputs": [
    {
     "data": {
      "text/plain": [
       "_id_x         0\n",
       "RoleId_x      0\n",
       "department    0\n",
       "skillId       0\n",
       "role_name     0\n",
       "skill_name    0\n",
       "name          0\n",
       "desc          0\n",
       "created_at    0\n",
       "updated_at    0\n",
       "user_count    0\n",
       "dtype: int64"
      ]
     },
     "execution_count": 59,
     "metadata": {},
     "output_type": "execute_result"
    }
   ],
   "source": [
    "df.isnull().sum()"
   ]
  },
  {
   "cell_type": "code",
   "execution_count": 60,
   "metadata": {},
   "outputs": [
    {
     "data": {
      "text/plain": [
       "Unnamed: 0      0\n",
       "_id             0\n",
       "name            0\n",
       "created_at      0\n",
       "updated_at      0\n",
       "desc            0\n",
       "skillId_x       0\n",
       "user_count_x    0\n",
       "skillId_y       0\n",
       "user_count_y    0\n",
       "skillId         0\n",
       "user_count      0\n",
       "dtype: int64"
      ]
     },
     "execution_count": 60,
     "metadata": {},
     "output_type": "execute_result"
    }
   ],
   "source": [
    "roles_df.isna().sum()"
   ]
  },
  {
   "cell_type": "code",
   "execution_count": 61,
   "metadata": {},
   "outputs": [
    {
     "name": "stderr",
     "output_type": "stream",
     "text": [
      "C:\\Users\\mahes\\AppData\\Local\\Temp\\ipykernel_19820\\2840661414.py:1: FutureWarning: Passing 'suffixes' which cause duplicate columns {'user_count_y', 'skillId_y'} in the result is deprecated and will raise a MergeError in a future version.\n",
      "  merged_df=pd.merge(df,roles_df,left_on='skillId',right_on='skillId_x')\n"
     ]
    }
   ],
   "source": [
    "merged_df=pd.merge(df,roles_df,left_on='skillId',right_on='skillId_x')\n",
    "merged_df.shape\n",
    "df=merged_df"
   ]
  },
  {
   "cell_type": "code",
   "execution_count": 62,
   "metadata": {},
   "outputs": [
    {
     "data": {
      "text/plain": [
       "(204, 23)"
      ]
     },
     "execution_count": 62,
     "metadata": {},
     "output_type": "execute_result"
    }
   ],
   "source": [
    "df.shape"
   ]
  },
  {
   "cell_type": "code",
   "execution_count": 63,
   "metadata": {},
   "outputs": [
    {
     "name": "stdout",
     "output_type": "stream",
     "text": [
      "Original dtypes:\n",
      "_id_x            string\n",
      "RoleId_x         object\n",
      "department       string\n",
      "skillId_x        object\n",
      "role_name        string\n",
      "skill_name       string\n",
      "name_x           object\n",
      "desc_x           object\n",
      "created_at_x     object\n",
      "updated_at_x     object\n",
      "user_count_x      int64\n",
      "Unnamed: 0        int64\n",
      "_id              object\n",
      "name_y           object\n",
      "created_at_y     object\n",
      "updated_at_y     object\n",
      "desc_y           object\n",
      "skillId_x        object\n",
      "user_count_x    float64\n",
      "skillId_y        object\n",
      "user_count_y    float64\n",
      "skillId_y        object\n",
      "user_count_y      int64\n",
      "dtype: object\n",
      "\n",
      "Converted dtypes:\n",
      "_id_x           string\n",
      "RoleId_x        string\n",
      "department      string\n",
      "skillId_x       string\n",
      "role_name       string\n",
      "skill_name      string\n",
      "name_x          string\n",
      "desc_x          string\n",
      "created_at_x    string\n",
      "updated_at_x    string\n",
      "user_count_x     Int64\n",
      "Unnamed: 0       Int64\n",
      "_id             string\n",
      "name_y          string\n",
      "created_at_y    string\n",
      "updated_at_y    string\n",
      "desc_y          string\n",
      "skillId_x       string\n",
      "user_count_x     Int64\n",
      "skillId_y       string\n",
      "user_count_y     Int64\n",
      "skillId_y       string\n",
      "user_count_y     Int64\n",
      "dtype: object\n"
     ]
    }
   ],
   "source": [
    "print(\"Original dtypes:\")\n",
    "print(df.dtypes)\n",
    "\n",
    "# Convert dtypes\n",
    "df=df.convert_dtypes()\n",
    "\n",
    "# Check new dtypes\n",
    "print(\"\\nConverted dtypes:\")\n",
    "print(df.convert_dtypes().dtypes)"
   ]
  },
  {
   "cell_type": "code",
   "execution_count": 64,
   "metadata": {},
   "outputs": [
    {
     "data": {
      "text/plain": [
       "(204, 23)"
      ]
     },
     "execution_count": 64,
     "metadata": {},
     "output_type": "execute_result"
    }
   ],
   "source": [
    "df.shape"
   ]
  },
  {
   "cell_type": "code",
   "execution_count": 69,
   "metadata": {},
   "outputs": [
    {
     "data": {
      "text/plain": [
       "_id_x           0\n",
       "RoleId_x        0\n",
       "department      0\n",
       "skillId_x       0\n",
       "role_name       0\n",
       "skill_name      0\n",
       "name_x          0\n",
       "desc_x          0\n",
       "created_at_x    0\n",
       "updated_at_x    0\n",
       "user_count_x    0\n",
       "Unnamed: 0      0\n",
       "_id             0\n",
       "name_y          0\n",
       "created_at_y    0\n",
       "updated_at_y    0\n",
       "desc_y          0\n",
       "skillId_x       0\n",
       "user_count_x    0\n",
       "dtype: int64"
      ]
     },
     "execution_count": 69,
     "metadata": {},
     "output_type": "execute_result"
    }
   ],
   "source": [
    "df.isnull().sum()"
   ]
  },
  {
   "cell_type": "code",
   "execution_count": 67,
   "metadata": {},
   "outputs": [],
   "source": [
    "df.drop(['user_count_y','skillId_y'],inplace=True,axis=1)"
   ]
  },
  {
   "cell_type": "code",
   "execution_count": 70,
   "metadata": {},
   "outputs": [],
   "source": [
    "df.drop(['Unnamed: 0'],inplace=True,axis=1)"
   ]
  },
  {
   "cell_type": "code",
   "execution_count": 71,
   "metadata": {},
   "outputs": [
    {
     "data": {
      "text/plain": [
       "(204, 18)"
      ]
     },
     "execution_count": 71,
     "metadata": {},
     "output_type": "execute_result"
    }
   ],
   "source": [
    "df.shape"
   ]
  },
  {
   "cell_type": "code",
   "execution_count": 73,
   "metadata": {},
   "outputs": [],
   "source": [
    "# df.to_csv('E:/JMAN/fp/DataEngineering/mart/mart_user_certification.csv')\n",
    "df.to_csv('E:/JMAN/fp/DataEngineering/mart/mart_role)skill.csv')"
   ]
  },
  {
   "cell_type": "code",
   "execution_count": null,
   "metadata": {},
   "outputs": [],
   "source": []
  }
 ],
 "metadata": {
  "kernelspec": {
   "display_name": "base",
   "language": "python",
   "name": "python3"
  },
  "language_info": {
   "codemirror_mode": {
    "name": "ipython",
    "version": 3
   },
   "file_extension": ".py",
   "mimetype": "text/x-python",
   "name": "python",
   "nbconvert_exporter": "python",
   "pygments_lexer": "ipython3",
   "version": "3.9.7"
  }
 },
 "nbformat": 4,
 "nbformat_minor": 2
}
