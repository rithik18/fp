{
 "cells": [
  {
   "cell_type": "code",
   "execution_count": 1,
   "metadata": {},
   "outputs": [],
   "source": [
    "import pandas as pd"
   ]
  },
  {
   "cell_type": "code",
   "execution_count": 2,
   "metadata": {},
   "outputs": [],
   "source": [
    "# user_csv=pd.read_csv('C:/Users/RithikHarendarMahesh/Desktop/fp/DataEngineering/prep/prep_user_certification.csv')\n",
    "user_csv=pd.read_csv('C:/Users/RithikHarendarMahesh/Desktop/fp/DataEngineering/prep/prep_user_certification.csv')\n"
   ]
  },
  {
   "cell_type": "code",
   "execution_count": 3,
   "metadata": {},
   "outputs": [],
   "source": [
    "df=pd.DataFrame(data=user_csv)"
   ]
  },
  {
   "cell_type": "code",
   "execution_count": 4,
   "metadata": {},
   "outputs": [
    {
     "data": {
      "text/plain": [
       "Unnamed: 0           0\n",
       "_id                  0\n",
       "userId               0\n",
       "certificationId      0\n",
       "certificationName    0\n",
       "started_at           0\n",
       "completed_at         0\n",
       "competency           0\n",
       "isVerified           0\n",
       "imageData            0\n",
       "user_name            0\n",
       "dtype: int64"
      ]
     },
     "execution_count": 4,
     "metadata": {},
     "output_type": "execute_result"
    }
   ],
   "source": [
    "df.isnull().sum()"
   ]
  },
  {
   "cell_type": "code",
   "execution_count": 5,
   "metadata": {},
   "outputs": [],
   "source": [
    "df.dropna(inplace=True)"
   ]
  },
  {
   "cell_type": "code",
   "execution_count": 6,
   "metadata": {},
   "outputs": [],
   "source": [
    "df.drop_duplicates(inplace=True)"
   ]
  },
  {
   "cell_type": "code",
   "execution_count": 7,
   "metadata": {},
   "outputs": [
    {
     "data": {
      "text/plain": [
       "Unnamed: 0            int64\n",
       "_id                  object\n",
       "userId               object\n",
       "certificationId      object\n",
       "certificationName    object\n",
       "started_at           object\n",
       "completed_at         object\n",
       "competency           object\n",
       "isVerified             bool\n",
       "imageData            object\n",
       "user_name            object\n",
       "dtype: object"
      ]
     },
     "execution_count": 7,
     "metadata": {},
     "output_type": "execute_result"
    }
   ],
   "source": [
    "df.dtypes"
   ]
  },
  {
   "cell_type": "code",
   "execution_count": 8,
   "metadata": {},
   "outputs": [
    {
     "name": "stdout",
     "output_type": "stream",
     "text": [
      "Original dtypes:\n",
      "Unnamed: 0            int64\n",
      "_id                  object\n",
      "userId               object\n",
      "certificationId      object\n",
      "certificationName    object\n",
      "started_at           object\n",
      "completed_at         object\n",
      "competency           object\n",
      "isVerified             bool\n",
      "imageData            object\n",
      "user_name            object\n",
      "dtype: object\n",
      "\n",
      "Converted dtypes:\n",
      "Unnamed: 0                    Int64\n",
      "_id                  string[python]\n",
      "userId               string[python]\n",
      "certificationId      string[python]\n",
      "certificationName    string[python]\n",
      "started_at           string[python]\n",
      "completed_at         string[python]\n",
      "competency           string[python]\n",
      "isVerified                  boolean\n",
      "imageData            string[python]\n",
      "user_name            string[python]\n",
      "dtype: object\n"
     ]
    }
   ],
   "source": [
    "print(\"Original dtypes:\")\n",
    "print(df.dtypes)\n",
    "\n",
    "# Convert dtypes\n",
    "df=df.convert_dtypes()\n",
    "\n",
    "# Check new dtypes\n",
    "print(\"\\nConverted dtypes:\")\n",
    "print(df.convert_dtypes().dtypes)"
   ]
  },
  {
   "cell_type": "code",
   "execution_count": 9,
   "metadata": {},
   "outputs": [],
   "source": [
    "df['started_at'] = [\n",
    "    i.split(\" \")[0] if 'T' not in i else i.split(\"T\")[0] for i in df['started_at']\n",
    "]"
   ]
  },
  {
   "cell_type": "code",
   "execution_count": 10,
   "metadata": {},
   "outputs": [],
   "source": [
    "df['started_at']=pd.to_datetime(df['started_at'])"
   ]
  },
  {
   "cell_type": "code",
   "execution_count": 11,
   "metadata": {},
   "outputs": [],
   "source": [
    "df['completed_at'] = [\n",
    "    i.split(\" \")[0] if 'T' not in i else i.split(\"T\")[0] for i in df['completed_at']\n",
    "]"
   ]
  },
  {
   "cell_type": "code",
   "execution_count": 12,
   "metadata": {},
   "outputs": [],
   "source": [
    "df['completed_at']=pd.to_datetime(df['completed_at'])"
   ]
  },
  {
   "cell_type": "code",
   "execution_count": 13,
   "metadata": {},
   "outputs": [
    {
     "data": {
      "text/plain": [
       "Unnamed: 0                    Int64\n",
       "_id                  string[python]\n",
       "userId               string[python]\n",
       "certificationId      string[python]\n",
       "certificationName    string[python]\n",
       "started_at           datetime64[ns]\n",
       "completed_at         datetime64[ns]\n",
       "competency           string[python]\n",
       "isVerified                  boolean\n",
       "imageData            string[python]\n",
       "user_name            string[python]\n",
       "dtype: object"
      ]
     },
     "execution_count": 13,
     "metadata": {},
     "output_type": "execute_result"
    }
   ],
   "source": [
    "df.dtypes"
   ]
  },
  {
   "cell_type": "code",
   "execution_count": null,
   "metadata": {},
   "outputs": [],
   "source": []
  },
  {
   "cell_type": "code",
   "execution_count": 14,
   "metadata": {},
   "outputs": [
    {
     "data": {
      "text/html": [
       "<div>\n",
       "<style scoped>\n",
       "    .dataframe tbody tr th:only-of-type {\n",
       "        vertical-align: middle;\n",
       "    }\n",
       "\n",
       "    .dataframe tbody tr th {\n",
       "        vertical-align: top;\n",
       "    }\n",
       "\n",
       "    .dataframe thead th {\n",
       "        text-align: right;\n",
       "    }\n",
       "</style>\n",
       "<table border=\"1\" class=\"dataframe\">\n",
       "  <thead>\n",
       "    <tr style=\"text-align: right;\">\n",
       "      <th></th>\n",
       "      <th>Unnamed: 0</th>\n",
       "      <th>userId</th>\n",
       "      <th>total_duration</th>\n",
       "      <th>count</th>\n",
       "      <th>_id</th>\n",
       "      <th>name</th>\n",
       "      <th>role_id</th>\n",
       "      <th>joining_date</th>\n",
       "      <th>department</th>\n",
       "      <th>mail</th>\n",
       "      <th>created_at</th>\n",
       "      <th>updated_at</th>\n",
       "      <th>password</th>\n",
       "      <th>profileImage</th>\n",
       "      <th>role_name</th>\n",
       "    </tr>\n",
       "  </thead>\n",
       "  <tbody>\n",
       "    <tr>\n",
       "      <th>0</th>\n",
       "      <td>0</td>\n",
       "      <td>000493ff-7d6e-41a8-b96a-d1e11eb11a7b</td>\n",
       "      <td>198 days</td>\n",
       "      <td>5</td>\n",
       "      <td>000493ff-7d6e-41a8-b96a-d1e11eb11a7b</td>\n",
       "      <td>Tamara Fields</td>\n",
       "      <td>718675e9-24e9-451b-a6e1-586aef8d0afb</td>\n",
       "      <td>2023-10-22T19:07:19</td>\n",
       "      <td>DATA_ANALYTICS</td>\n",
       "      <td>williamgarcia@example.org</td>\n",
       "      <td>2022-11-18</td>\n",
       "      <td>2023-06-24</td>\n",
       "      <td>q)QX70ZuML</td>\n",
       "      <td>https://dummyimage.com/867x425</td>\n",
       "      <td>Product Manager</td>\n",
       "    </tr>\n",
       "    <tr>\n",
       "      <th>1</th>\n",
       "      <td>1</td>\n",
       "      <td>0006310b-e138-4643-9580-491639213d52</td>\n",
       "      <td>1405 days</td>\n",
       "      <td>5</td>\n",
       "      <td>0006310b-e138-4643-9580-491639213d52</td>\n",
       "      <td>Jeffrey Sparks</td>\n",
       "      <td>38bd1ab2-e630-4311-9128-7438fe171719</td>\n",
       "      <td>2023-07-25T15:52:32</td>\n",
       "      <td>DEVOPS</td>\n",
       "      <td>maciasdaniel@example.net</td>\n",
       "      <td>2020-11-17</td>\n",
       "      <td>2022-10-12</td>\n",
       "      <td>k4!RQdaj^2</td>\n",
       "      <td>https://placekitten.com/421/83</td>\n",
       "      <td>Machine Learning Engineer</td>\n",
       "    </tr>\n",
       "    <tr>\n",
       "      <th>2</th>\n",
       "      <td>2</td>\n",
       "      <td>0007d104-541e-4547-81c5-72c41a5ef087</td>\n",
       "      <td>614 days</td>\n",
       "      <td>5</td>\n",
       "      <td>0007d104-541e-4547-81c5-72c41a5ef087</td>\n",
       "      <td>Spencer Leonard</td>\n",
       "      <td>508bfd78-6401-40ad-bc4b-dade38d40352</td>\n",
       "      <td>2022-11-19T16:38:31</td>\n",
       "      <td>ADMIN</td>\n",
       "      <td>blackwelljoseph@example.com</td>\n",
       "      <td>2021-04-05</td>\n",
       "      <td>2024-04-30</td>\n",
       "      <td>*6V^tLnz+Y</td>\n",
       "      <td>https://dummyimage.com/254x741</td>\n",
       "      <td>Backend Developer</td>\n",
       "    </tr>\n",
       "    <tr>\n",
       "      <th>3</th>\n",
       "      <td>3</td>\n",
       "      <td>0007e8f0-2cd7-4084-960f-8e24912b92e9</td>\n",
       "      <td>1428 days</td>\n",
       "      <td>5</td>\n",
       "      <td>0007e8f0-2cd7-4084-960f-8e24912b92e9</td>\n",
       "      <td>Juan Sullivan</td>\n",
       "      <td>718675e9-24e9-451b-a6e1-586aef8d0afb</td>\n",
       "      <td>2021-12-01T10:10:30</td>\n",
       "      <td>FULL_STACK</td>\n",
       "      <td>roblesjason@example.org</td>\n",
       "      <td>2023-02-03</td>\n",
       "      <td>2021-05-03</td>\n",
       "      <td>@IM@Dc#+_0</td>\n",
       "      <td>https://dummyimage.com/622x814</td>\n",
       "      <td>Product Manager</td>\n",
       "    </tr>\n",
       "    <tr>\n",
       "      <th>4</th>\n",
       "      <td>4</td>\n",
       "      <td>000a8195-e0c3-4b5b-b7bf-4299e228c271</td>\n",
       "      <td>1288 days</td>\n",
       "      <td>5</td>\n",
       "      <td>000a8195-e0c3-4b5b-b7bf-4299e228c271</td>\n",
       "      <td>Robin Wiley</td>\n",
       "      <td>25886cc0-ab38-455b-a301-f739643e462d</td>\n",
       "      <td>2020-11-25T04:19:40</td>\n",
       "      <td>FULL_STACK</td>\n",
       "      <td>ashleyberry@example.com</td>\n",
       "      <td>2020-04-09</td>\n",
       "      <td>2023-02-05</td>\n",
       "      <td>@rs$uRlsk4</td>\n",
       "      <td>https://dummyimage.com/908x499</td>\n",
       "      <td>Software Engineer</td>\n",
       "    </tr>\n",
       "  </tbody>\n",
       "</table>\n",
       "</div>"
      ],
      "text/plain": [
       "   Unnamed: 0                                userId total_duration  count  \\\n",
       "0           0  000493ff-7d6e-41a8-b96a-d1e11eb11a7b       198 days      5   \n",
       "1           1  0006310b-e138-4643-9580-491639213d52      1405 days      5   \n",
       "2           2  0007d104-541e-4547-81c5-72c41a5ef087       614 days      5   \n",
       "3           3  0007e8f0-2cd7-4084-960f-8e24912b92e9      1428 days      5   \n",
       "4           4  000a8195-e0c3-4b5b-b7bf-4299e228c271      1288 days      5   \n",
       "\n",
       "                                    _id             name  \\\n",
       "0  000493ff-7d6e-41a8-b96a-d1e11eb11a7b    Tamara Fields   \n",
       "1  0006310b-e138-4643-9580-491639213d52   Jeffrey Sparks   \n",
       "2  0007d104-541e-4547-81c5-72c41a5ef087  Spencer Leonard   \n",
       "3  0007e8f0-2cd7-4084-960f-8e24912b92e9    Juan Sullivan   \n",
       "4  000a8195-e0c3-4b5b-b7bf-4299e228c271      Robin Wiley   \n",
       "\n",
       "                                role_id         joining_date      department  \\\n",
       "0  718675e9-24e9-451b-a6e1-586aef8d0afb  2023-10-22T19:07:19  DATA_ANALYTICS   \n",
       "1  38bd1ab2-e630-4311-9128-7438fe171719  2023-07-25T15:52:32          DEVOPS   \n",
       "2  508bfd78-6401-40ad-bc4b-dade38d40352  2022-11-19T16:38:31           ADMIN   \n",
       "3  718675e9-24e9-451b-a6e1-586aef8d0afb  2021-12-01T10:10:30      FULL_STACK   \n",
       "4  25886cc0-ab38-455b-a301-f739643e462d  2020-11-25T04:19:40      FULL_STACK   \n",
       "\n",
       "                          mail  created_at  updated_at    password  \\\n",
       "0    williamgarcia@example.org  2022-11-18  2023-06-24  q)QX70ZuML   \n",
       "1     maciasdaniel@example.net  2020-11-17  2022-10-12  k4!RQdaj^2   \n",
       "2  blackwelljoseph@example.com  2021-04-05  2024-04-30  *6V^tLnz+Y   \n",
       "3      roblesjason@example.org  2023-02-03  2021-05-03  @IM@Dc#+_0   \n",
       "4      ashleyberry@example.com  2020-04-09  2023-02-05  @rs$uRlsk4   \n",
       "\n",
       "                     profileImage                  role_name  \n",
       "0  https://dummyimage.com/867x425            Product Manager  \n",
       "1  https://placekitten.com/421/83  Machine Learning Engineer  \n",
       "2  https://dummyimage.com/254x741          Backend Developer  \n",
       "3  https://dummyimage.com/622x814            Product Manager  \n",
       "4  https://dummyimage.com/908x499          Software Engineer  "
      ]
     },
     "execution_count": 14,
     "metadata": {},
     "output_type": "execute_result"
    }
   ],
   "source": [
    "# roles_df = pd.read_csv('C:/Users/RithikHarendarMahesh/Desktop/fp/DataEngineering/prep/prep_user.csv')\n",
    "roles_df = pd.read_csv('C:/Users/RithikHarendarMahesh/Desktop/fp/DataEngineering/prep/prep_user.csv')\n",
    "roles_df.head()"
   ]
  },
  {
   "cell_type": "code",
   "execution_count": 15,
   "metadata": {},
   "outputs": [
    {
     "data": {
      "text/plain": [
       "(30000, 15)"
      ]
     },
     "execution_count": 15,
     "metadata": {},
     "output_type": "execute_result"
    }
   ],
   "source": [
    "roles_df.shape"
   ]
  },
  {
   "cell_type": "code",
   "execution_count": 16,
   "metadata": {},
   "outputs": [
    {
     "data": {
      "text/plain": [
       "(150000, 11)"
      ]
     },
     "execution_count": 16,
     "metadata": {},
     "output_type": "execute_result"
    }
   ],
   "source": [
    "df.shape"
   ]
  },
  {
   "cell_type": "code",
   "execution_count": 17,
   "metadata": {},
   "outputs": [
    {
     "data": {
      "text/plain": [
       "Unnamed: 0           0\n",
       "_id                  0\n",
       "userId               0\n",
       "certificationId      0\n",
       "certificationName    0\n",
       "started_at           0\n",
       "completed_at         0\n",
       "competency           0\n",
       "isVerified           0\n",
       "imageData            0\n",
       "user_name            0\n",
       "dtype: int64"
      ]
     },
     "execution_count": 17,
     "metadata": {},
     "output_type": "execute_result"
    }
   ],
   "source": [
    "df.isnull().sum()"
   ]
  },
  {
   "cell_type": "code",
   "execution_count": 18,
   "metadata": {},
   "outputs": [],
   "source": [
    "\n",
    "merged_df=pd.merge(df,roles_df,left_on='userId',right_on='_id',how='inner')\n",
    "df=merged_df\n"
   ]
  },
  {
   "cell_type": "code",
   "execution_count": 19,
   "metadata": {},
   "outputs": [
    {
     "data": {
      "text/plain": [
       "(150000, 26)"
      ]
     },
     "execution_count": 19,
     "metadata": {},
     "output_type": "execute_result"
    }
   ],
   "source": [
    "df.shape"
   ]
  },
  {
   "cell_type": "code",
   "execution_count": 20,
   "metadata": {},
   "outputs": [
    {
     "data": {
      "text/html": [
       "<div>\n",
       "<style scoped>\n",
       "    .dataframe tbody tr th:only-of-type {\n",
       "        vertical-align: middle;\n",
       "    }\n",
       "\n",
       "    .dataframe tbody tr th {\n",
       "        vertical-align: top;\n",
       "    }\n",
       "\n",
       "    .dataframe thead th {\n",
       "        text-align: right;\n",
       "    }\n",
       "</style>\n",
       "<table border=\"1\" class=\"dataframe\">\n",
       "  <thead>\n",
       "    <tr style=\"text-align: right;\">\n",
       "      <th></th>\n",
       "      <th>Unnamed: 0</th>\n",
       "      <th>_id</th>\n",
       "      <th>name</th>\n",
       "      <th>issued_by</th>\n",
       "      <th>is_certificate</th>\n",
       "      <th>role</th>\n",
       "      <th>certificationId</th>\n",
       "      <th>user_count</th>\n",
       "    </tr>\n",
       "  </thead>\n",
       "  <tbody>\n",
       "    <tr>\n",
       "      <th>0</th>\n",
       "      <td>0</td>\n",
       "      <td>68f4d0db-1920-4c7b-a6e8-b466b8d8b437</td>\n",
       "      <td>AWS Certified Solutions Architect</td>\n",
       "      <td>Smith-Knapp</td>\n",
       "      <td>True</td>\n",
       "      <td>Software Engineer</td>\n",
       "      <td>68f4d0db-1920-4c7b-a6e8-b466b8d8b437</td>\n",
       "      <td>826</td>\n",
       "    </tr>\n",
       "    <tr>\n",
       "      <th>1</th>\n",
       "      <td>1</td>\n",
       "      <td>6df0fa93-07ea-40ea-b2e4-c7706a23f87e</td>\n",
       "      <td>Microsoft Certified: Azure Developer Associate</td>\n",
       "      <td>Hernandez PLC</td>\n",
       "      <td>True</td>\n",
       "      <td>Software Engineer</td>\n",
       "      <td>6df0fa93-07ea-40ea-b2e4-c7706a23f87e</td>\n",
       "      <td>834</td>\n",
       "    </tr>\n",
       "    <tr>\n",
       "      <th>2</th>\n",
       "      <td>2</td>\n",
       "      <td>e94136f1-f035-458b-9920-14ebc37c9b80</td>\n",
       "      <td>Certified Ethical Hacker</td>\n",
       "      <td>Wagner, Carson and Robinson</td>\n",
       "      <td>True</td>\n",
       "      <td>Software Engineer</td>\n",
       "      <td>e94136f1-f035-458b-9920-14ebc37c9b80</td>\n",
       "      <td>823</td>\n",
       "    </tr>\n",
       "    <tr>\n",
       "      <th>3</th>\n",
       "      <td>3</td>\n",
       "      <td>ac3b01df-33cd-4e90-b107-ebb3d901fcd6</td>\n",
       "      <td>Certified ScrumMaster</td>\n",
       "      <td>Duncan PLC</td>\n",
       "      <td>True</td>\n",
       "      <td>Software Engineer</td>\n",
       "      <td>ac3b01df-33cd-4e90-b107-ebb3d901fcd6</td>\n",
       "      <td>817</td>\n",
       "    </tr>\n",
       "    <tr>\n",
       "      <th>4</th>\n",
       "      <td>4</td>\n",
       "      <td>50b0294c-a8f8-435e-bbc0-bbf09afcff14</td>\n",
       "      <td>AWS Certified Developer - Associate</td>\n",
       "      <td>Roy, Graham and Hudson</td>\n",
       "      <td>True</td>\n",
       "      <td>Software Engineer</td>\n",
       "      <td>50b0294c-a8f8-435e-bbc0-bbf09afcff14</td>\n",
       "      <td>833</td>\n",
       "    </tr>\n",
       "  </tbody>\n",
       "</table>\n",
       "</div>"
      ],
      "text/plain": [
       "   Unnamed: 0                                   _id  \\\n",
       "0           0  68f4d0db-1920-4c7b-a6e8-b466b8d8b437   \n",
       "1           1  6df0fa93-07ea-40ea-b2e4-c7706a23f87e   \n",
       "2           2  e94136f1-f035-458b-9920-14ebc37c9b80   \n",
       "3           3  ac3b01df-33cd-4e90-b107-ebb3d901fcd6   \n",
       "4           4  50b0294c-a8f8-435e-bbc0-bbf09afcff14   \n",
       "\n",
       "                                             name  \\\n",
       "0               AWS Certified Solutions Architect   \n",
       "1  Microsoft Certified: Azure Developer Associate   \n",
       "2                        Certified Ethical Hacker   \n",
       "3                           Certified ScrumMaster   \n",
       "4             AWS Certified Developer - Associate   \n",
       "\n",
       "                     issued_by  is_certificate               role  \\\n",
       "0                  Smith-Knapp            True  Software Engineer   \n",
       "1                Hernandez PLC            True  Software Engineer   \n",
       "2  Wagner, Carson and Robinson            True  Software Engineer   \n",
       "3                   Duncan PLC            True  Software Engineer   \n",
       "4       Roy, Graham and Hudson            True  Software Engineer   \n",
       "\n",
       "                        certificationId  user_count  \n",
       "0  68f4d0db-1920-4c7b-a6e8-b466b8d8b437         826  \n",
       "1  6df0fa93-07ea-40ea-b2e4-c7706a23f87e         834  \n",
       "2  e94136f1-f035-458b-9920-14ebc37c9b80         823  \n",
       "3  ac3b01df-33cd-4e90-b107-ebb3d901fcd6         817  \n",
       "4  50b0294c-a8f8-435e-bbc0-bbf09afcff14         833  "
      ]
     },
     "execution_count": 20,
     "metadata": {},
     "output_type": "execute_result"
    }
   ],
   "source": [
    "# roles_df = pd.read_csv('C:/Users/RithikHarendarMahesh/Desktop/fp/DataEngineering/prep/prep_certification.csv')\n",
    "roles_df = pd.read_csv('C:/Users/RithikHarendarMahesh/Desktop/fp/DataEngineering/prep/prep_certification.csv')\n",
    "roles_df.head()"
   ]
  },
  {
   "cell_type": "code",
   "execution_count": 21,
   "metadata": {},
   "outputs": [
    {
     "data": {
      "text/plain": [
       "Unnamed: 0_x         0\n",
       "_id_x                0\n",
       "userId_x             0\n",
       "certificationId      0\n",
       "certificationName    0\n",
       "started_at           0\n",
       "completed_at         0\n",
       "competency           0\n",
       "isVerified           0\n",
       "imageData            0\n",
       "user_name            0\n",
       "Unnamed: 0_y         0\n",
       "userId_y             0\n",
       "total_duration       0\n",
       "count                0\n",
       "_id_y                0\n",
       "name                 0\n",
       "role_id              0\n",
       "joining_date         0\n",
       "department           0\n",
       "mail                 0\n",
       "created_at           0\n",
       "updated_at           0\n",
       "password             0\n",
       "profileImage         0\n",
       "role_name            0\n",
       "dtype: int64"
      ]
     },
     "execution_count": 21,
     "metadata": {},
     "output_type": "execute_result"
    }
   ],
   "source": [
    "df.isnull().sum()"
   ]
  },
  {
   "cell_type": "code",
   "execution_count": 22,
   "metadata": {},
   "outputs": [],
   "source": [
    "df.drop(['_id_y','userId_y',],inplace=True,axis=1)"
   ]
  },
  {
   "cell_type": "code",
   "execution_count": 23,
   "metadata": {},
   "outputs": [
    {
     "data": {
      "text/plain": [
       "(150000, 24)"
      ]
     },
     "execution_count": 23,
     "metadata": {},
     "output_type": "execute_result"
    }
   ],
   "source": [
    "df.shape"
   ]
  },
  {
   "cell_type": "code",
   "execution_count": 24,
   "metadata": {},
   "outputs": [],
   "source": [
    "df.drop(['Unnamed: 0_y','Unnamed: 0_x',],inplace=True,axis=1)"
   ]
  },
  {
   "cell_type": "code",
   "execution_count": 25,
   "metadata": {},
   "outputs": [
    {
     "data": {
      "text/html": [
       "<div>\n",
       "<style scoped>\n",
       "    .dataframe tbody tr th:only-of-type {\n",
       "        vertical-align: middle;\n",
       "    }\n",
       "\n",
       "    .dataframe tbody tr th {\n",
       "        vertical-align: top;\n",
       "    }\n",
       "\n",
       "    .dataframe thead th {\n",
       "        text-align: right;\n",
       "    }\n",
       "</style>\n",
       "<table border=\"1\" class=\"dataframe\">\n",
       "  <thead>\n",
       "    <tr style=\"text-align: right;\">\n",
       "      <th></th>\n",
       "      <th>_id</th>\n",
       "      <th>userId</th>\n",
       "      <th>certificationId</th>\n",
       "      <th>certificationName</th>\n",
       "      <th>started_at</th>\n",
       "      <th>completed_at</th>\n",
       "      <th>competency</th>\n",
       "      <th>isVerified</th>\n",
       "      <th>imageData</th>\n",
       "      <th>user_name</th>\n",
       "      <th>...</th>\n",
       "      <th>name</th>\n",
       "      <th>role_id</th>\n",
       "      <th>joining_date</th>\n",
       "      <th>department</th>\n",
       "      <th>mail</th>\n",
       "      <th>created_at</th>\n",
       "      <th>updated_at</th>\n",
       "      <th>password</th>\n",
       "      <th>profileImage</th>\n",
       "      <th>role_name</th>\n",
       "    </tr>\n",
       "  </thead>\n",
       "  <tbody>\n",
       "    <tr>\n",
       "      <th>0</th>\n",
       "      <td>5c2f5af4-9057-48f4-accb-de937c5cec78</td>\n",
       "      <td>06bdb594-fb32-4612-9f5f-b381ccbfc9a5</td>\n",
       "      <td>d9b6fc8a-59ab-42cd-9534-7f8dcc9e7b91</td>\n",
       "      <td>Certified Kubernetes Administrator</td>\n",
       "      <td>2022-03-22</td>\n",
       "      <td>2022-11-08</td>\n",
       "      <td>ADVANCED</td>\n",
       "      <td>True</td>\n",
       "      <td>https://picsum.photos/380/20</td>\n",
       "      <td>Jonathan King</td>\n",
       "      <td>...</td>\n",
       "      <td>Jonathan King</td>\n",
       "      <td>25886cc0-ab38-455b-a301-f739643e462d</td>\n",
       "      <td>2021-08-07T21:52:59</td>\n",
       "      <td>ADMIN</td>\n",
       "      <td>slee@example.net</td>\n",
       "      <td>2020-07-11</td>\n",
       "      <td>2021-03-18</td>\n",
       "      <td>0&amp;^u3SZ!td</td>\n",
       "      <td>https://placekitten.com/397/1014</td>\n",
       "      <td>Software Engineer</td>\n",
       "    </tr>\n",
       "    <tr>\n",
       "      <th>1</th>\n",
       "      <td>8443b459-1c45-4658-a256-5348e0488c6b</td>\n",
       "      <td>06bdb594-fb32-4612-9f5f-b381ccbfc9a5</td>\n",
       "      <td>ac3b01df-33cd-4e90-b107-ebb3d901fcd6</td>\n",
       "      <td>Certified ScrumMaster</td>\n",
       "      <td>2020-02-13</td>\n",
       "      <td>2020-06-10</td>\n",
       "      <td>INTERMEDIATE</td>\n",
       "      <td>False</td>\n",
       "      <td>https://picsum.photos/1016/256</td>\n",
       "      <td>Jonathan King</td>\n",
       "      <td>...</td>\n",
       "      <td>Jonathan King</td>\n",
       "      <td>25886cc0-ab38-455b-a301-f739643e462d</td>\n",
       "      <td>2021-08-07T21:52:59</td>\n",
       "      <td>ADMIN</td>\n",
       "      <td>slee@example.net</td>\n",
       "      <td>2020-07-11</td>\n",
       "      <td>2021-03-18</td>\n",
       "      <td>0&amp;^u3SZ!td</td>\n",
       "      <td>https://placekitten.com/397/1014</td>\n",
       "      <td>Software Engineer</td>\n",
       "    </tr>\n",
       "    <tr>\n",
       "      <th>2</th>\n",
       "      <td>72233b70-4e0a-4f52-8bf4-3766e6c4a8b1</td>\n",
       "      <td>06bdb594-fb32-4612-9f5f-b381ccbfc9a5</td>\n",
       "      <td>e94136f1-f035-458b-9920-14ebc37c9b80</td>\n",
       "      <td>Certified Ethical Hacker</td>\n",
       "      <td>2021-07-16</td>\n",
       "      <td>2022-09-15</td>\n",
       "      <td>BEGINNER</td>\n",
       "      <td>False</td>\n",
       "      <td>https://dummyimage.com/518x634</td>\n",
       "      <td>Jonathan King</td>\n",
       "      <td>...</td>\n",
       "      <td>Jonathan King</td>\n",
       "      <td>25886cc0-ab38-455b-a301-f739643e462d</td>\n",
       "      <td>2021-08-07T21:52:59</td>\n",
       "      <td>ADMIN</td>\n",
       "      <td>slee@example.net</td>\n",
       "      <td>2020-07-11</td>\n",
       "      <td>2021-03-18</td>\n",
       "      <td>0&amp;^u3SZ!td</td>\n",
       "      <td>https://placekitten.com/397/1014</td>\n",
       "      <td>Software Engineer</td>\n",
       "    </tr>\n",
       "    <tr>\n",
       "      <th>3</th>\n",
       "      <td>113e8e00-a8ac-40a1-8cd5-a93e277cefe3</td>\n",
       "      <td>06bdb594-fb32-4612-9f5f-b381ccbfc9a5</td>\n",
       "      <td>ac3b01df-33cd-4e90-b107-ebb3d901fcd6</td>\n",
       "      <td>Certified ScrumMaster</td>\n",
       "      <td>2021-07-13</td>\n",
       "      <td>2021-07-13</td>\n",
       "      <td>BEGINNER</td>\n",
       "      <td>True</td>\n",
       "      <td>https://dummyimage.com/942x887</td>\n",
       "      <td>Jonathan King</td>\n",
       "      <td>...</td>\n",
       "      <td>Jonathan King</td>\n",
       "      <td>25886cc0-ab38-455b-a301-f739643e462d</td>\n",
       "      <td>2021-08-07T21:52:59</td>\n",
       "      <td>ADMIN</td>\n",
       "      <td>slee@example.net</td>\n",
       "      <td>2020-07-11</td>\n",
       "      <td>2021-03-18</td>\n",
       "      <td>0&amp;^u3SZ!td</td>\n",
       "      <td>https://placekitten.com/397/1014</td>\n",
       "      <td>Software Engineer</td>\n",
       "    </tr>\n",
       "    <tr>\n",
       "      <th>4</th>\n",
       "      <td>9a49a4a0-f03a-4fa0-8859-aae08ae04418</td>\n",
       "      <td>06bdb594-fb32-4612-9f5f-b381ccbfc9a5</td>\n",
       "      <td>50b0294c-a8f8-435e-bbc0-bbf09afcff14</td>\n",
       "      <td>AWS Certified Developer - Associate</td>\n",
       "      <td>2022-10-17</td>\n",
       "      <td>2024-05-30</td>\n",
       "      <td>EXPERT</td>\n",
       "      <td>False</td>\n",
       "      <td>https://dummyimage.com/288x198</td>\n",
       "      <td>Jonathan King</td>\n",
       "      <td>...</td>\n",
       "      <td>Jonathan King</td>\n",
       "      <td>25886cc0-ab38-455b-a301-f739643e462d</td>\n",
       "      <td>2021-08-07T21:52:59</td>\n",
       "      <td>ADMIN</td>\n",
       "      <td>slee@example.net</td>\n",
       "      <td>2020-07-11</td>\n",
       "      <td>2021-03-18</td>\n",
       "      <td>0&amp;^u3SZ!td</td>\n",
       "      <td>https://placekitten.com/397/1014</td>\n",
       "      <td>Software Engineer</td>\n",
       "    </tr>\n",
       "    <tr>\n",
       "      <th>...</th>\n",
       "      <td>...</td>\n",
       "      <td>...</td>\n",
       "      <td>...</td>\n",
       "      <td>...</td>\n",
       "      <td>...</td>\n",
       "      <td>...</td>\n",
       "      <td>...</td>\n",
       "      <td>...</td>\n",
       "      <td>...</td>\n",
       "      <td>...</td>\n",
       "      <td>...</td>\n",
       "      <td>...</td>\n",
       "      <td>...</td>\n",
       "      <td>...</td>\n",
       "      <td>...</td>\n",
       "      <td>...</td>\n",
       "      <td>...</td>\n",
       "      <td>...</td>\n",
       "      <td>...</td>\n",
       "      <td>...</td>\n",
       "      <td>...</td>\n",
       "    </tr>\n",
       "    <tr>\n",
       "      <th>149995</th>\n",
       "      <td>7add9b35-71a3-4877-906d-f34c06dd728e</td>\n",
       "      <td>a353557c-7f71-4344-b479-177e4279112e</td>\n",
       "      <td>77939c71-4812-41c9-8930-2ade3fd55a68</td>\n",
       "      <td>Microsoft Certified: Azure Developer Associate</td>\n",
       "      <td>2023-06-13</td>\n",
       "      <td>2023-08-23</td>\n",
       "      <td>INTERMEDIATE</td>\n",
       "      <td>True</td>\n",
       "      <td>https://placekitten.com/159/520</td>\n",
       "      <td>Courtney Martin</td>\n",
       "      <td>...</td>\n",
       "      <td>Courtney Martin</td>\n",
       "      <td>90a9e49a-3fcc-494c-a3fa-1c5375311cbb</td>\n",
       "      <td>2020-02-20T10:57:18</td>\n",
       "      <td>FULL_STACK</td>\n",
       "      <td>adamsjoseph@example.org</td>\n",
       "      <td>2020-09-09</td>\n",
       "      <td>2024-06-24</td>\n",
       "      <td>&amp;6&amp;0KsXEai</td>\n",
       "      <td>https://dummyimage.com/465x433</td>\n",
       "      <td>Technical Writer</td>\n",
       "    </tr>\n",
       "    <tr>\n",
       "      <th>149996</th>\n",
       "      <td>ef9f02a1-f92e-4707-9da4-8abdcc3d9516</td>\n",
       "      <td>a353557c-7f71-4344-b479-177e4279112e</td>\n",
       "      <td>7cf0643a-fd05-4e94-a550-1ecf2d07d9c5</td>\n",
       "      <td>Certified Ethical Hacker (CEH)</td>\n",
       "      <td>2021-05-06</td>\n",
       "      <td>2021-05-06</td>\n",
       "      <td>BEGINNER</td>\n",
       "      <td>False</td>\n",
       "      <td>https://dummyimage.com/553x931</td>\n",
       "      <td>Courtney Martin</td>\n",
       "      <td>...</td>\n",
       "      <td>Courtney Martin</td>\n",
       "      <td>90a9e49a-3fcc-494c-a3fa-1c5375311cbb</td>\n",
       "      <td>2020-02-20T10:57:18</td>\n",
       "      <td>FULL_STACK</td>\n",
       "      <td>adamsjoseph@example.org</td>\n",
       "      <td>2020-09-09</td>\n",
       "      <td>2024-06-24</td>\n",
       "      <td>&amp;6&amp;0KsXEai</td>\n",
       "      <td>https://dummyimage.com/465x433</td>\n",
       "      <td>Technical Writer</td>\n",
       "    </tr>\n",
       "    <tr>\n",
       "      <th>149997</th>\n",
       "      <td>ad48abc1-2ee9-4aaa-8dc9-2c475a594735</td>\n",
       "      <td>a353557c-7f71-4344-b479-177e4279112e</td>\n",
       "      <td>77939c71-4812-41c9-8930-2ade3fd55a68</td>\n",
       "      <td>Microsoft Certified: Azure Developer Associate</td>\n",
       "      <td>2023-07-11</td>\n",
       "      <td>2023-07-11</td>\n",
       "      <td>ADVANCED</td>\n",
       "      <td>True</td>\n",
       "      <td>https://dummyimage.com/371x503</td>\n",
       "      <td>Courtney Martin</td>\n",
       "      <td>...</td>\n",
       "      <td>Courtney Martin</td>\n",
       "      <td>90a9e49a-3fcc-494c-a3fa-1c5375311cbb</td>\n",
       "      <td>2020-02-20T10:57:18</td>\n",
       "      <td>FULL_STACK</td>\n",
       "      <td>adamsjoseph@example.org</td>\n",
       "      <td>2020-09-09</td>\n",
       "      <td>2024-06-24</td>\n",
       "      <td>&amp;6&amp;0KsXEai</td>\n",
       "      <td>https://dummyimage.com/465x433</td>\n",
       "      <td>Technical Writer</td>\n",
       "    </tr>\n",
       "    <tr>\n",
       "      <th>149998</th>\n",
       "      <td>eab5a995-15bd-4e74-a6b9-5259e74d10ec</td>\n",
       "      <td>a353557c-7f71-4344-b479-177e4279112e</td>\n",
       "      <td>7cf0643a-fd05-4e94-a550-1ecf2d07d9c5</td>\n",
       "      <td>Certified Ethical Hacker (CEH)</td>\n",
       "      <td>2024-01-31</td>\n",
       "      <td>2024-01-31</td>\n",
       "      <td>INTERMEDIATE</td>\n",
       "      <td>True</td>\n",
       "      <td>https://placekitten.com/354/512</td>\n",
       "      <td>Courtney Martin</td>\n",
       "      <td>...</td>\n",
       "      <td>Courtney Martin</td>\n",
       "      <td>90a9e49a-3fcc-494c-a3fa-1c5375311cbb</td>\n",
       "      <td>2020-02-20T10:57:18</td>\n",
       "      <td>FULL_STACK</td>\n",
       "      <td>adamsjoseph@example.org</td>\n",
       "      <td>2020-09-09</td>\n",
       "      <td>2024-06-24</td>\n",
       "      <td>&amp;6&amp;0KsXEai</td>\n",
       "      <td>https://dummyimage.com/465x433</td>\n",
       "      <td>Technical Writer</td>\n",
       "    </tr>\n",
       "    <tr>\n",
       "      <th>149999</th>\n",
       "      <td>5c8a0b78-f11e-466d-9bee-4e598342aaef</td>\n",
       "      <td>a353557c-7f71-4344-b479-177e4279112e</td>\n",
       "      <td>776c2b7f-89f1-462e-8e3b-26d4156d6010</td>\n",
       "      <td>AWS Certified Solutions Architect</td>\n",
       "      <td>2023-06-12</td>\n",
       "      <td>2023-10-05</td>\n",
       "      <td>INTERMEDIATE</td>\n",
       "      <td>False</td>\n",
       "      <td>https://picsum.photos/100/269</td>\n",
       "      <td>Courtney Martin</td>\n",
       "      <td>...</td>\n",
       "      <td>Courtney Martin</td>\n",
       "      <td>90a9e49a-3fcc-494c-a3fa-1c5375311cbb</td>\n",
       "      <td>2020-02-20T10:57:18</td>\n",
       "      <td>FULL_STACK</td>\n",
       "      <td>adamsjoseph@example.org</td>\n",
       "      <td>2020-09-09</td>\n",
       "      <td>2024-06-24</td>\n",
       "      <td>&amp;6&amp;0KsXEai</td>\n",
       "      <td>https://dummyimage.com/465x433</td>\n",
       "      <td>Technical Writer</td>\n",
       "    </tr>\n",
       "  </tbody>\n",
       "</table>\n",
       "<p>150000 rows × 22 columns</p>\n",
       "</div>"
      ],
      "text/plain": [
       "                                         _id  \\\n",
       "0       5c2f5af4-9057-48f4-accb-de937c5cec78   \n",
       "1       8443b459-1c45-4658-a256-5348e0488c6b   \n",
       "2       72233b70-4e0a-4f52-8bf4-3766e6c4a8b1   \n",
       "3       113e8e00-a8ac-40a1-8cd5-a93e277cefe3   \n",
       "4       9a49a4a0-f03a-4fa0-8859-aae08ae04418   \n",
       "...                                      ...   \n",
       "149995  7add9b35-71a3-4877-906d-f34c06dd728e   \n",
       "149996  ef9f02a1-f92e-4707-9da4-8abdcc3d9516   \n",
       "149997  ad48abc1-2ee9-4aaa-8dc9-2c475a594735   \n",
       "149998  eab5a995-15bd-4e74-a6b9-5259e74d10ec   \n",
       "149999  5c8a0b78-f11e-466d-9bee-4e598342aaef   \n",
       "\n",
       "                                      userId  \\\n",
       "0       06bdb594-fb32-4612-9f5f-b381ccbfc9a5   \n",
       "1       06bdb594-fb32-4612-9f5f-b381ccbfc9a5   \n",
       "2       06bdb594-fb32-4612-9f5f-b381ccbfc9a5   \n",
       "3       06bdb594-fb32-4612-9f5f-b381ccbfc9a5   \n",
       "4       06bdb594-fb32-4612-9f5f-b381ccbfc9a5   \n",
       "...                                      ...   \n",
       "149995  a353557c-7f71-4344-b479-177e4279112e   \n",
       "149996  a353557c-7f71-4344-b479-177e4279112e   \n",
       "149997  a353557c-7f71-4344-b479-177e4279112e   \n",
       "149998  a353557c-7f71-4344-b479-177e4279112e   \n",
       "149999  a353557c-7f71-4344-b479-177e4279112e   \n",
       "\n",
       "                             certificationId  \\\n",
       "0       d9b6fc8a-59ab-42cd-9534-7f8dcc9e7b91   \n",
       "1       ac3b01df-33cd-4e90-b107-ebb3d901fcd6   \n",
       "2       e94136f1-f035-458b-9920-14ebc37c9b80   \n",
       "3       ac3b01df-33cd-4e90-b107-ebb3d901fcd6   \n",
       "4       50b0294c-a8f8-435e-bbc0-bbf09afcff14   \n",
       "...                                      ...   \n",
       "149995  77939c71-4812-41c9-8930-2ade3fd55a68   \n",
       "149996  7cf0643a-fd05-4e94-a550-1ecf2d07d9c5   \n",
       "149997  77939c71-4812-41c9-8930-2ade3fd55a68   \n",
       "149998  7cf0643a-fd05-4e94-a550-1ecf2d07d9c5   \n",
       "149999  776c2b7f-89f1-462e-8e3b-26d4156d6010   \n",
       "\n",
       "                                     certificationName started_at  \\\n",
       "0                   Certified Kubernetes Administrator 2022-03-22   \n",
       "1                                Certified ScrumMaster 2020-02-13   \n",
       "2                             Certified Ethical Hacker 2021-07-16   \n",
       "3                                Certified ScrumMaster 2021-07-13   \n",
       "4                  AWS Certified Developer - Associate 2022-10-17   \n",
       "...                                                ...        ...   \n",
       "149995  Microsoft Certified: Azure Developer Associate 2023-06-13   \n",
       "149996                  Certified Ethical Hacker (CEH) 2021-05-06   \n",
       "149997  Microsoft Certified: Azure Developer Associate 2023-07-11   \n",
       "149998                  Certified Ethical Hacker (CEH) 2024-01-31   \n",
       "149999               AWS Certified Solutions Architect 2023-06-12   \n",
       "\n",
       "       completed_at    competency  isVerified  \\\n",
       "0        2022-11-08      ADVANCED        True   \n",
       "1        2020-06-10  INTERMEDIATE       False   \n",
       "2        2022-09-15      BEGINNER       False   \n",
       "3        2021-07-13      BEGINNER        True   \n",
       "4        2024-05-30        EXPERT       False   \n",
       "...             ...           ...         ...   \n",
       "149995   2023-08-23  INTERMEDIATE        True   \n",
       "149996   2021-05-06      BEGINNER       False   \n",
       "149997   2023-07-11      ADVANCED        True   \n",
       "149998   2024-01-31  INTERMEDIATE        True   \n",
       "149999   2023-10-05  INTERMEDIATE       False   \n",
       "\n",
       "                              imageData        user_name  ...  \\\n",
       "0          https://picsum.photos/380/20    Jonathan King  ...   \n",
       "1        https://picsum.photos/1016/256    Jonathan King  ...   \n",
       "2        https://dummyimage.com/518x634    Jonathan King  ...   \n",
       "3        https://dummyimage.com/942x887    Jonathan King  ...   \n",
       "4        https://dummyimage.com/288x198    Jonathan King  ...   \n",
       "...                                 ...              ...  ...   \n",
       "149995  https://placekitten.com/159/520  Courtney Martin  ...   \n",
       "149996   https://dummyimage.com/553x931  Courtney Martin  ...   \n",
       "149997   https://dummyimage.com/371x503  Courtney Martin  ...   \n",
       "149998  https://placekitten.com/354/512  Courtney Martin  ...   \n",
       "149999    https://picsum.photos/100/269  Courtney Martin  ...   \n",
       "\n",
       "                   name                               role_id  \\\n",
       "0         Jonathan King  25886cc0-ab38-455b-a301-f739643e462d   \n",
       "1         Jonathan King  25886cc0-ab38-455b-a301-f739643e462d   \n",
       "2         Jonathan King  25886cc0-ab38-455b-a301-f739643e462d   \n",
       "3         Jonathan King  25886cc0-ab38-455b-a301-f739643e462d   \n",
       "4         Jonathan King  25886cc0-ab38-455b-a301-f739643e462d   \n",
       "...                 ...                                   ...   \n",
       "149995  Courtney Martin  90a9e49a-3fcc-494c-a3fa-1c5375311cbb   \n",
       "149996  Courtney Martin  90a9e49a-3fcc-494c-a3fa-1c5375311cbb   \n",
       "149997  Courtney Martin  90a9e49a-3fcc-494c-a3fa-1c5375311cbb   \n",
       "149998  Courtney Martin  90a9e49a-3fcc-494c-a3fa-1c5375311cbb   \n",
       "149999  Courtney Martin  90a9e49a-3fcc-494c-a3fa-1c5375311cbb   \n",
       "\n",
       "               joining_date  department                     mail  created_at  \\\n",
       "0       2021-08-07T21:52:59       ADMIN         slee@example.net  2020-07-11   \n",
       "1       2021-08-07T21:52:59       ADMIN         slee@example.net  2020-07-11   \n",
       "2       2021-08-07T21:52:59       ADMIN         slee@example.net  2020-07-11   \n",
       "3       2021-08-07T21:52:59       ADMIN         slee@example.net  2020-07-11   \n",
       "4       2021-08-07T21:52:59       ADMIN         slee@example.net  2020-07-11   \n",
       "...                     ...         ...                      ...         ...   \n",
       "149995  2020-02-20T10:57:18  FULL_STACK  adamsjoseph@example.org  2020-09-09   \n",
       "149996  2020-02-20T10:57:18  FULL_STACK  adamsjoseph@example.org  2020-09-09   \n",
       "149997  2020-02-20T10:57:18  FULL_STACK  adamsjoseph@example.org  2020-09-09   \n",
       "149998  2020-02-20T10:57:18  FULL_STACK  adamsjoseph@example.org  2020-09-09   \n",
       "149999  2020-02-20T10:57:18  FULL_STACK  adamsjoseph@example.org  2020-09-09   \n",
       "\n",
       "        updated_at    password                      profileImage  \\\n",
       "0       2021-03-18  0&^u3SZ!td  https://placekitten.com/397/1014   \n",
       "1       2021-03-18  0&^u3SZ!td  https://placekitten.com/397/1014   \n",
       "2       2021-03-18  0&^u3SZ!td  https://placekitten.com/397/1014   \n",
       "3       2021-03-18  0&^u3SZ!td  https://placekitten.com/397/1014   \n",
       "4       2021-03-18  0&^u3SZ!td  https://placekitten.com/397/1014   \n",
       "...            ...         ...                               ...   \n",
       "149995  2024-06-24  &6&0KsXEai    https://dummyimage.com/465x433   \n",
       "149996  2024-06-24  &6&0KsXEai    https://dummyimage.com/465x433   \n",
       "149997  2024-06-24  &6&0KsXEai    https://dummyimage.com/465x433   \n",
       "149998  2024-06-24  &6&0KsXEai    https://dummyimage.com/465x433   \n",
       "149999  2024-06-24  &6&0KsXEai    https://dummyimage.com/465x433   \n",
       "\n",
       "                role_name  \n",
       "0       Software Engineer  \n",
       "1       Software Engineer  \n",
       "2       Software Engineer  \n",
       "3       Software Engineer  \n",
       "4       Software Engineer  \n",
       "...                   ...  \n",
       "149995   Technical Writer  \n",
       "149996   Technical Writer  \n",
       "149997   Technical Writer  \n",
       "149998   Technical Writer  \n",
       "149999   Technical Writer  \n",
       "\n",
       "[150000 rows x 22 columns]"
      ]
     },
     "execution_count": 25,
     "metadata": {},
     "output_type": "execute_result"
    }
   ],
   "source": [
    "df.rename({\"_id_x\":\"_id\",\"userId_x\":\"userId\"},axis=1)"
   ]
  },
  {
   "cell_type": "code",
   "execution_count": 26,
   "metadata": {},
   "outputs": [
    {
     "data": {
      "text/plain": [
       "(150000, 22)"
      ]
     },
     "execution_count": 26,
     "metadata": {},
     "output_type": "execute_result"
    }
   ],
   "source": [
    "df.shape"
   ]
  },
  {
   "cell_type": "code",
   "execution_count": 27,
   "metadata": {},
   "outputs": [
    {
     "data": {
      "text/plain": [
       "_id_x                0\n",
       "userId_x             0\n",
       "certificationId      0\n",
       "certificationName    0\n",
       "started_at           0\n",
       "completed_at         0\n",
       "competency           0\n",
       "isVerified           0\n",
       "imageData            0\n",
       "user_name            0\n",
       "total_duration       0\n",
       "count                0\n",
       "name                 0\n",
       "role_id              0\n",
       "joining_date         0\n",
       "department           0\n",
       "mail                 0\n",
       "created_at           0\n",
       "updated_at           0\n",
       "password             0\n",
       "profileImage         0\n",
       "role_name            0\n",
       "dtype: int64"
      ]
     },
     "execution_count": 27,
     "metadata": {},
     "output_type": "execute_result"
    }
   ],
   "source": [
    "df.isnull().sum()"
   ]
  },
  {
   "cell_type": "code",
   "execution_count": 28,
   "metadata": {},
   "outputs": [
    {
     "data": {
      "text/plain": [
       "Unnamed: 0         0\n",
       "_id                0\n",
       "name               0\n",
       "issued_by          0\n",
       "is_certificate     0\n",
       "role               0\n",
       "certificationId    0\n",
       "user_count         0\n",
       "dtype: int64"
      ]
     },
     "execution_count": 28,
     "metadata": {},
     "output_type": "execute_result"
    }
   ],
   "source": [
    "roles_df.isna().sum()"
   ]
  },
  {
   "cell_type": "code",
   "execution_count": 29,
   "metadata": {},
   "outputs": [],
   "source": [
    "merged_df=pd.merge(df,roles_df,left_on='certificationId',right_on='certificationId')\n",
    "merged_df.shape\n",
    "df=merged_df"
   ]
  },
  {
   "cell_type": "code",
   "execution_count": 30,
   "metadata": {},
   "outputs": [
    {
     "data": {
      "text/plain": [
       "(150000, 29)"
      ]
     },
     "execution_count": 30,
     "metadata": {},
     "output_type": "execute_result"
    }
   ],
   "source": [
    "df.shape"
   ]
  },
  {
   "cell_type": "code",
   "execution_count": 31,
   "metadata": {},
   "outputs": [
    {
     "name": "stdout",
     "output_type": "stream",
     "text": [
      "Original dtypes:\n",
      "_id_x                string[python]\n",
      "userId_x                     object\n",
      "certificationId              object\n",
      "certificationName    string[python]\n",
      "started_at           datetime64[ns]\n",
      "completed_at         datetime64[ns]\n",
      "competency           string[python]\n",
      "isVerified                  boolean\n",
      "imageData            string[python]\n",
      "user_name            string[python]\n",
      "total_duration               object\n",
      "count                         int64\n",
      "name_x                       object\n",
      "role_id                      object\n",
      "joining_date                 object\n",
      "department                   object\n",
      "mail                         object\n",
      "created_at                   object\n",
      "updated_at                   object\n",
      "password                     object\n",
      "profileImage                 object\n",
      "role_name                    object\n",
      "Unnamed: 0                    int64\n",
      "_id                          object\n",
      "name_y                       object\n",
      "issued_by                    object\n",
      "is_certificate                 bool\n",
      "role                         object\n",
      "user_count                    int64\n",
      "dtype: object\n",
      "\n",
      "Converted dtypes:\n",
      "_id_x                string[python]\n",
      "userId_x             string[python]\n",
      "certificationId      string[python]\n",
      "certificationName    string[python]\n",
      "started_at           datetime64[ns]\n",
      "completed_at         datetime64[ns]\n",
      "competency           string[python]\n",
      "isVerified                  boolean\n",
      "imageData            string[python]\n",
      "user_name            string[python]\n",
      "total_duration       string[python]\n",
      "count                         Int64\n",
      "name_x               string[python]\n",
      "role_id              string[python]\n",
      "joining_date         string[python]\n",
      "department           string[python]\n",
      "mail                 string[python]\n",
      "created_at           string[python]\n",
      "updated_at           string[python]\n",
      "password             string[python]\n",
      "profileImage         string[python]\n",
      "role_name            string[python]\n",
      "Unnamed: 0                    Int64\n",
      "_id                  string[python]\n",
      "name_y               string[python]\n",
      "issued_by            string[python]\n",
      "is_certificate              boolean\n",
      "role                 string[python]\n",
      "user_count                    Int64\n",
      "dtype: object\n"
     ]
    }
   ],
   "source": [
    "print(\"Original dtypes:\")\n",
    "print(df.dtypes)\n",
    "\n",
    "# Convert dtypes\n",
    "df=df.convert_dtypes()\n",
    "\n",
    "# Check new dtypes\n",
    "print(\"\\nConverted dtypes:\")\n",
    "print(df.convert_dtypes().dtypes)"
   ]
  },
  {
   "cell_type": "code",
   "execution_count": 32,
   "metadata": {},
   "outputs": [
    {
     "data": {
      "text/plain": [
       "(150000, 29)"
      ]
     },
     "execution_count": 32,
     "metadata": {},
     "output_type": "execute_result"
    }
   ],
   "source": [
    "df.shape"
   ]
  },
  {
   "cell_type": "code",
   "execution_count": 33,
   "metadata": {},
   "outputs": [],
   "source": [
    "# df.to_csv('C:/Users/RithikHarendarMahesh/Desktop/fp/DataEngineering/mart/mart_user_certification.csv')\n",
    "df.to_csv('C:/Users/RithikHarendarMahesh/Desktop/fp/DataEngineering/mart/mart_user_certification.csv')"
   ]
  },
  {
   "cell_type": "code",
   "execution_count": null,
   "metadata": {},
   "outputs": [],
   "source": []
  }
 ],
 "metadata": {
  "kernelspec": {
   "display_name": "base",
   "language": "python",
   "name": "python3"
  },
  "language_info": {
   "codemirror_mode": {
    "name": "ipython",
    "version": 3
   },
   "file_extension": ".py",
   "mimetype": "text/x-python",
   "name": "python",
   "nbconvert_exporter": "python",
   "pygments_lexer": "ipython3",
   "version": "3.12.4"
  }
 },
 "nbformat": 4,
 "nbformat_minor": 2
}
