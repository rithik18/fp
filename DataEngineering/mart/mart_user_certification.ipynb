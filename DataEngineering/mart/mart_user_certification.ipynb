{
 "cells": [
  {
   "cell_type": "code",
   "execution_count": 1,
   "metadata": {},
   "outputs": [],
   "source": [
    "import pandas as pd"
   ]
  },
  {
   "cell_type": "code",
   "execution_count": 2,
   "metadata": {},
   "outputs": [],
   "source": [
    "# user_csv=pd.read_csv('E:/JMAN/fp/DataEngineering/prep/prep_user_certification.csv')\n",
    "user_csv=pd.read_csv('E:/JMAN/fp/DataEngineering/prep/prep_user_certification.csv')\n"
   ]
  },
  {
   "cell_type": "code",
   "execution_count": 3,
   "metadata": {},
   "outputs": [],
   "source": [
    "df=pd.DataFrame(data=user_csv)"
   ]
  },
  {
   "cell_type": "code",
   "execution_count": 4,
   "metadata": {},
   "outputs": [
    {
     "data": {
      "text/plain": [
       "Unnamed: 0           0\n",
       "_id                  0\n",
       "userId               0\n",
       "certificationId      0\n",
       "certificationName    0\n",
       "started_at           0\n",
       "completed_at         0\n",
       "competency           0\n",
       "isVerified           0\n",
       "imageData            0\n",
       "user_name            0\n",
       "dtype: int64"
      ]
     },
     "execution_count": 4,
     "metadata": {},
     "output_type": "execute_result"
    }
   ],
   "source": [
    "df.isnull().sum()"
   ]
  },
  {
   "cell_type": "code",
   "execution_count": 5,
   "metadata": {},
   "outputs": [],
   "source": [
    "df.dropna(inplace=True)"
   ]
  },
  {
   "cell_type": "code",
   "execution_count": 6,
   "metadata": {},
   "outputs": [],
   "source": [
    "df.drop_duplicates(inplace=True)"
   ]
  },
  {
   "cell_type": "code",
   "execution_count": 7,
   "metadata": {},
   "outputs": [
    {
     "data": {
      "text/plain": [
       "Unnamed: 0            int64\n",
       "_id                  object\n",
       "userId               object\n",
       "certificationId      object\n",
       "certificationName    object\n",
       "started_at           object\n",
       "completed_at         object\n",
       "competency           object\n",
       "isVerified             bool\n",
       "imageData            object\n",
       "user_name            object\n",
       "dtype: object"
      ]
     },
     "execution_count": 7,
     "metadata": {},
     "output_type": "execute_result"
    }
   ],
   "source": [
    "df.dtypes"
   ]
  },
  {
   "cell_type": "code",
   "execution_count": 8,
   "metadata": {},
   "outputs": [
    {
     "name": "stdout",
     "output_type": "stream",
     "text": [
      "Original dtypes:\n",
      "Unnamed: 0            int64\n",
      "_id                  object\n",
      "userId               object\n",
      "certificationId      object\n",
      "certificationName    object\n",
      "started_at           object\n",
      "completed_at         object\n",
      "competency           object\n",
      "isVerified             bool\n",
      "imageData            object\n",
      "user_name            object\n",
      "dtype: object\n",
      "\n",
      "Converted dtypes:\n",
      "Unnamed: 0             Int64\n",
      "_id                   string\n",
      "userId                string\n",
      "certificationId       string\n",
      "certificationName     string\n",
      "started_at            string\n",
      "completed_at          string\n",
      "competency            string\n",
      "isVerified           boolean\n",
      "imageData             string\n",
      "user_name             string\n",
      "dtype: object\n"
     ]
    }
   ],
   "source": [
    "print(\"Original dtypes:\")\n",
    "print(df.dtypes)\n",
    "\n",
    "# Convert dtypes\n",
    "df=df.convert_dtypes()\n",
    "\n",
    "# Check new dtypes\n",
    "print(\"\\nConverted dtypes:\")\n",
    "print(df.convert_dtypes().dtypes)"
   ]
  },
  {
   "cell_type": "code",
   "execution_count": 9,
   "metadata": {},
   "outputs": [],
   "source": [
    "df['started_at'] = [\n",
    "    i.split(\" \")[0] if 'T' not in i else i.split(\"T\")[0] for i in df['started_at']\n",
    "]"
   ]
  },
  {
   "cell_type": "code",
   "execution_count": 10,
   "metadata": {},
   "outputs": [],
   "source": [
    "df['started_at']=pd.to_datetime(df['started_at'])"
   ]
  },
  {
   "cell_type": "code",
   "execution_count": 11,
   "metadata": {},
   "outputs": [],
   "source": [
    "df['completed_at'] = [\n",
    "    i.split(\" \")[0] if 'T' not in i else i.split(\"T\")[0] for i in df['completed_at']\n",
    "]"
   ]
  },
  {
   "cell_type": "code",
   "execution_count": 12,
   "metadata": {},
   "outputs": [],
   "source": [
    "df['completed_at']=pd.to_datetime(df['completed_at'])"
   ]
  },
  {
   "cell_type": "code",
   "execution_count": 13,
   "metadata": {},
   "outputs": [
    {
     "data": {
      "text/plain": [
       "Unnamed: 0                    Int64\n",
       "_id                          string\n",
       "userId                       string\n",
       "certificationId              string\n",
       "certificationName            string\n",
       "started_at           datetime64[ns]\n",
       "completed_at         datetime64[ns]\n",
       "competency                   string\n",
       "isVerified                  boolean\n",
       "imageData                    string\n",
       "user_name                    string\n",
       "dtype: object"
      ]
     },
     "execution_count": 13,
     "metadata": {},
     "output_type": "execute_result"
    }
   ],
   "source": [
    "df.dtypes"
   ]
  },
  {
   "cell_type": "code",
   "execution_count": null,
   "metadata": {},
   "outputs": [],
   "source": []
  },
  {
   "cell_type": "code",
   "execution_count": 14,
   "metadata": {},
   "outputs": [
    {
     "data": {
      "text/html": [
       "<div>\n",
       "<style scoped>\n",
       "    .dataframe tbody tr th:only-of-type {\n",
       "        vertical-align: middle;\n",
       "    }\n",
       "\n",
       "    .dataframe tbody tr th {\n",
       "        vertical-align: top;\n",
       "    }\n",
       "\n",
       "    .dataframe thead th {\n",
       "        text-align: right;\n",
       "    }\n",
       "</style>\n",
       "<table border=\"1\" class=\"dataframe\">\n",
       "  <thead>\n",
       "    <tr style=\"text-align: right;\">\n",
       "      <th></th>\n",
       "      <th>Unnamed: 0</th>\n",
       "      <th>userId</th>\n",
       "      <th>total_duration</th>\n",
       "      <th>count</th>\n",
       "      <th>_id</th>\n",
       "      <th>name</th>\n",
       "      <th>role_id</th>\n",
       "      <th>joining_date</th>\n",
       "      <th>department</th>\n",
       "      <th>mail</th>\n",
       "      <th>created_at</th>\n",
       "      <th>updated_at</th>\n",
       "      <th>password</th>\n",
       "      <th>profileImage</th>\n",
       "      <th>role_name</th>\n",
       "    </tr>\n",
       "  </thead>\n",
       "  <tbody>\n",
       "    <tr>\n",
       "      <th>0</th>\n",
       "      <td>0</td>\n",
       "      <td>0001cd17-b1ef-481e-8f16-b86c03222af3</td>\n",
       "      <td>298 days</td>\n",
       "      <td>5</td>\n",
       "      <td>0001cd17-b1ef-481e-8f16-b86c03222af3</td>\n",
       "      <td>Stephanie Doyle</td>\n",
       "      <td>4e0c4606-0668-4356-bb17-e3b13140c28e</td>\n",
       "      <td>2020-08-25T17:39:23</td>\n",
       "      <td>FULL_STACK</td>\n",
       "      <td>dianaharmon@example.com</td>\n",
       "      <td>2022-02-20</td>\n",
       "      <td>2022-05-23</td>\n",
       "      <td>c(0JdJY)+0</td>\n",
       "      <td>https://placekitten.com/949/26</td>\n",
       "      <td>UX/UI Designer</td>\n",
       "    </tr>\n",
       "    <tr>\n",
       "      <th>1</th>\n",
       "      <td>1</td>\n",
       "      <td>000897ae-ccc9-469e-92d6-e3ed79b4b369</td>\n",
       "      <td>1177 days</td>\n",
       "      <td>5</td>\n",
       "      <td>000897ae-ccc9-469e-92d6-e3ed79b4b369</td>\n",
       "      <td>Sonya Conrad</td>\n",
       "      <td>196c18a9-4aef-4755-a3ee-4b6f418c71e3</td>\n",
       "      <td>2022-05-12T17:19:00</td>\n",
       "      <td>ADMIN</td>\n",
       "      <td>darren95@example.org</td>\n",
       "      <td>2021-11-08</td>\n",
       "      <td>2021-11-22</td>\n",
       "      <td>%3u4!VV))j</td>\n",
       "      <td>https://dummyimage.com/967x454</td>\n",
       "      <td>Backend Developer</td>\n",
       "    </tr>\n",
       "    <tr>\n",
       "      <th>2</th>\n",
       "      <td>2</td>\n",
       "      <td>000a146b-94c2-45e6-99ac-eb62ac2b022e</td>\n",
       "      <td>3 days</td>\n",
       "      <td>5</td>\n",
       "      <td>000a146b-94c2-45e6-99ac-eb62ac2b022e</td>\n",
       "      <td>Rhonda Lyons</td>\n",
       "      <td>ccb4b4f9-80cb-4f1b-9ae8-f16d9da11659</td>\n",
       "      <td>2022-12-20T03:38:29</td>\n",
       "      <td>DEVOPS</td>\n",
       "      <td>oyoder@example.org</td>\n",
       "      <td>2024-05-03</td>\n",
       "      <td>2021-05-11</td>\n",
       "      <td>4ipDG2O9R$</td>\n",
       "      <td>https://dummyimage.com/203x506</td>\n",
       "      <td>Cloud Engineer</td>\n",
       "    </tr>\n",
       "    <tr>\n",
       "      <th>3</th>\n",
       "      <td>3</td>\n",
       "      <td>000b0fad-ede6-4786-bee6-b8cefba98cf3</td>\n",
       "      <td>706 days</td>\n",
       "      <td>5</td>\n",
       "      <td>000b0fad-ede6-4786-bee6-b8cefba98cf3</td>\n",
       "      <td>Anna Paul</td>\n",
       "      <td>663c1743-1dc9-4c1a-8200-701078aefaf8</td>\n",
       "      <td>2023-03-21T22:30:14</td>\n",
       "      <td>DEVOPS</td>\n",
       "      <td>josephlester@example.com</td>\n",
       "      <td>2023-05-15</td>\n",
       "      <td>2021-04-21</td>\n",
       "      <td>Li1B*f#3f@</td>\n",
       "      <td>https://placekitten.com/87/673</td>\n",
       "      <td>Technical Writer</td>\n",
       "    </tr>\n",
       "    <tr>\n",
       "      <th>4</th>\n",
       "      <td>4</td>\n",
       "      <td>000b87bb-2672-49e4-a4c5-ceb032b0395c</td>\n",
       "      <td>702 days</td>\n",
       "      <td>5</td>\n",
       "      <td>000b87bb-2672-49e4-a4c5-ceb032b0395c</td>\n",
       "      <td>Sarah Lee</td>\n",
       "      <td>791867b5-ae38-44aa-b2b0-c258b4f25afb</td>\n",
       "      <td>2024-04-19T05:14:46</td>\n",
       "      <td>ADMIN</td>\n",
       "      <td>courtney01@example.com</td>\n",
       "      <td>2023-08-02</td>\n",
       "      <td>2024-08-05</td>\n",
       "      <td>pV6Q&amp;x@@M*</td>\n",
       "      <td>https://picsum.photos/496/736</td>\n",
       "      <td>Full Stack Developer</td>\n",
       "    </tr>\n",
       "  </tbody>\n",
       "</table>\n",
       "</div>"
      ],
      "text/plain": [
       "   Unnamed: 0                                userId total_duration  count  \\\n",
       "0           0  0001cd17-b1ef-481e-8f16-b86c03222af3       298 days      5   \n",
       "1           1  000897ae-ccc9-469e-92d6-e3ed79b4b369      1177 days      5   \n",
       "2           2  000a146b-94c2-45e6-99ac-eb62ac2b022e         3 days      5   \n",
       "3           3  000b0fad-ede6-4786-bee6-b8cefba98cf3       706 days      5   \n",
       "4           4  000b87bb-2672-49e4-a4c5-ceb032b0395c       702 days      5   \n",
       "\n",
       "                                    _id             name  \\\n",
       "0  0001cd17-b1ef-481e-8f16-b86c03222af3  Stephanie Doyle   \n",
       "1  000897ae-ccc9-469e-92d6-e3ed79b4b369     Sonya Conrad   \n",
       "2  000a146b-94c2-45e6-99ac-eb62ac2b022e     Rhonda Lyons   \n",
       "3  000b0fad-ede6-4786-bee6-b8cefba98cf3        Anna Paul   \n",
       "4  000b87bb-2672-49e4-a4c5-ceb032b0395c        Sarah Lee   \n",
       "\n",
       "                                role_id         joining_date  department  \\\n",
       "0  4e0c4606-0668-4356-bb17-e3b13140c28e  2020-08-25T17:39:23  FULL_STACK   \n",
       "1  196c18a9-4aef-4755-a3ee-4b6f418c71e3  2022-05-12T17:19:00       ADMIN   \n",
       "2  ccb4b4f9-80cb-4f1b-9ae8-f16d9da11659  2022-12-20T03:38:29      DEVOPS   \n",
       "3  663c1743-1dc9-4c1a-8200-701078aefaf8  2023-03-21T22:30:14      DEVOPS   \n",
       "4  791867b5-ae38-44aa-b2b0-c258b4f25afb  2024-04-19T05:14:46       ADMIN   \n",
       "\n",
       "                       mail  created_at  updated_at    password  \\\n",
       "0   dianaharmon@example.com  2022-02-20  2022-05-23  c(0JdJY)+0   \n",
       "1      darren95@example.org  2021-11-08  2021-11-22  %3u4!VV))j   \n",
       "2        oyoder@example.org  2024-05-03  2021-05-11  4ipDG2O9R$   \n",
       "3  josephlester@example.com  2023-05-15  2021-04-21  Li1B*f#3f@   \n",
       "4    courtney01@example.com  2023-08-02  2024-08-05  pV6Q&x@@M*   \n",
       "\n",
       "                     profileImage             role_name  \n",
       "0  https://placekitten.com/949/26        UX/UI Designer  \n",
       "1  https://dummyimage.com/967x454     Backend Developer  \n",
       "2  https://dummyimage.com/203x506        Cloud Engineer  \n",
       "3  https://placekitten.com/87/673      Technical Writer  \n",
       "4   https://picsum.photos/496/736  Full Stack Developer  "
      ]
     },
     "execution_count": 14,
     "metadata": {},
     "output_type": "execute_result"
    }
   ],
   "source": [
    "# roles_df = pd.read_csv('E:/JMAN/fp/DataEngineering/prep/prep_user.csv')\n",
    "roles_df = pd.read_csv('E:/JMAN/fp/DataEngineering/prep/prep_user.csv')\n",
    "roles_df.head()"
   ]
  },
  {
   "cell_type": "code",
   "execution_count": 15,
   "metadata": {},
   "outputs": [
    {
     "data": {
      "text/plain": [
       "(30000, 15)"
      ]
     },
     "execution_count": 15,
     "metadata": {},
     "output_type": "execute_result"
    }
   ],
   "source": [
    "roles_df.shape"
   ]
  },
  {
   "cell_type": "code",
   "execution_count": 16,
   "metadata": {},
   "outputs": [
    {
     "data": {
      "text/plain": [
       "(150000, 11)"
      ]
     },
     "execution_count": 16,
     "metadata": {},
     "output_type": "execute_result"
    }
   ],
   "source": [
    "df.shape"
   ]
  },
  {
   "cell_type": "code",
   "execution_count": 17,
   "metadata": {},
   "outputs": [
    {
     "data": {
      "text/plain": [
       "Unnamed: 0           0\n",
       "_id                  0\n",
       "userId               0\n",
       "certificationId      0\n",
       "certificationName    0\n",
       "started_at           0\n",
       "completed_at         0\n",
       "competency           0\n",
       "isVerified           0\n",
       "imageData            0\n",
       "user_name            0\n",
       "dtype: int64"
      ]
     },
     "execution_count": 17,
     "metadata": {},
     "output_type": "execute_result"
    }
   ],
   "source": [
    "df.isnull().sum()"
   ]
  },
  {
   "cell_type": "code",
   "execution_count": 18,
   "metadata": {},
   "outputs": [],
   "source": [
    "\n",
    "merged_df=pd.merge(df,roles_df,left_on='userId',right_on='_id',how='inner')\n",
    "df=merged_df\n"
   ]
  },
  {
   "cell_type": "code",
   "execution_count": 19,
   "metadata": {},
   "outputs": [
    {
     "data": {
      "text/plain": [
       "(150000, 26)"
      ]
     },
     "execution_count": 19,
     "metadata": {},
     "output_type": "execute_result"
    }
   ],
   "source": [
    "df.shape"
   ]
  },
  {
   "cell_type": "code",
   "execution_count": 20,
   "metadata": {},
   "outputs": [
    {
     "data": {
      "text/html": [
       "<div>\n",
       "<style scoped>\n",
       "    .dataframe tbody tr th:only-of-type {\n",
       "        vertical-align: middle;\n",
       "    }\n",
       "\n",
       "    .dataframe tbody tr th {\n",
       "        vertical-align: top;\n",
       "    }\n",
       "\n",
       "    .dataframe thead th {\n",
       "        text-align: right;\n",
       "    }\n",
       "</style>\n",
       "<table border=\"1\" class=\"dataframe\">\n",
       "  <thead>\n",
       "    <tr style=\"text-align: right;\">\n",
       "      <th></th>\n",
       "      <th>Unnamed: 0</th>\n",
       "      <th>_id</th>\n",
       "      <th>name</th>\n",
       "      <th>issued_by</th>\n",
       "      <th>is_certificate</th>\n",
       "      <th>role</th>\n",
       "      <th>certificationId</th>\n",
       "      <th>user_count</th>\n",
       "    </tr>\n",
       "  </thead>\n",
       "  <tbody>\n",
       "    <tr>\n",
       "      <th>0</th>\n",
       "      <td>0</td>\n",
       "      <td>f9f74721-d989-4b0a-a67e-8c65d6986b4b</td>\n",
       "      <td>AWS Certified Solutions Architect</td>\n",
       "      <td>Williams PLC</td>\n",
       "      <td>True</td>\n",
       "      <td>Software Engineer</td>\n",
       "      <td>f9f74721-d989-4b0a-a67e-8c65d6986b4b</td>\n",
       "      <td>823</td>\n",
       "    </tr>\n",
       "    <tr>\n",
       "      <th>1</th>\n",
       "      <td>1</td>\n",
       "      <td>d9fafa1f-b1c2-4cb0-bada-24c3a57449fc</td>\n",
       "      <td>Microsoft Certified: Azure Developer Associate</td>\n",
       "      <td>Boone Inc</td>\n",
       "      <td>True</td>\n",
       "      <td>Software Engineer</td>\n",
       "      <td>d9fafa1f-b1c2-4cb0-bada-24c3a57449fc</td>\n",
       "      <td>804</td>\n",
       "    </tr>\n",
       "    <tr>\n",
       "      <th>2</th>\n",
       "      <td>2</td>\n",
       "      <td>6371cb98-2998-41d8-82f8-9992a36685ad</td>\n",
       "      <td>Certified Ethical Hacker</td>\n",
       "      <td>Contreras Ltd</td>\n",
       "      <td>True</td>\n",
       "      <td>Software Engineer</td>\n",
       "      <td>6371cb98-2998-41d8-82f8-9992a36685ad</td>\n",
       "      <td>808</td>\n",
       "    </tr>\n",
       "    <tr>\n",
       "      <th>3</th>\n",
       "      <td>3</td>\n",
       "      <td>d43bcd22-b67c-4a2c-a5db-7a872928e3fe</td>\n",
       "      <td>Certified ScrumMaster</td>\n",
       "      <td>Smith-Valdez</td>\n",
       "      <td>True</td>\n",
       "      <td>Software Engineer</td>\n",
       "      <td>d43bcd22-b67c-4a2c-a5db-7a872928e3fe</td>\n",
       "      <td>851</td>\n",
       "    </tr>\n",
       "    <tr>\n",
       "      <th>4</th>\n",
       "      <td>4</td>\n",
       "      <td>2c986ea3-02c3-4369-b925-731d911849ef</td>\n",
       "      <td>AWS Certified Developer - Associate</td>\n",
       "      <td>Haas-Chambers</td>\n",
       "      <td>True</td>\n",
       "      <td>Software Engineer</td>\n",
       "      <td>2c986ea3-02c3-4369-b925-731d911849ef</td>\n",
       "      <td>810</td>\n",
       "    </tr>\n",
       "  </tbody>\n",
       "</table>\n",
       "</div>"
      ],
      "text/plain": [
       "   Unnamed: 0                                   _id  \\\n",
       "0           0  f9f74721-d989-4b0a-a67e-8c65d6986b4b   \n",
       "1           1  d9fafa1f-b1c2-4cb0-bada-24c3a57449fc   \n",
       "2           2  6371cb98-2998-41d8-82f8-9992a36685ad   \n",
       "3           3  d43bcd22-b67c-4a2c-a5db-7a872928e3fe   \n",
       "4           4  2c986ea3-02c3-4369-b925-731d911849ef   \n",
       "\n",
       "                                             name      issued_by  \\\n",
       "0               AWS Certified Solutions Architect   Williams PLC   \n",
       "1  Microsoft Certified: Azure Developer Associate      Boone Inc   \n",
       "2                        Certified Ethical Hacker  Contreras Ltd   \n",
       "3                           Certified ScrumMaster   Smith-Valdez   \n",
       "4             AWS Certified Developer - Associate  Haas-Chambers   \n",
       "\n",
       "   is_certificate               role                       certificationId  \\\n",
       "0            True  Software Engineer  f9f74721-d989-4b0a-a67e-8c65d6986b4b   \n",
       "1            True  Software Engineer  d9fafa1f-b1c2-4cb0-bada-24c3a57449fc   \n",
       "2            True  Software Engineer  6371cb98-2998-41d8-82f8-9992a36685ad   \n",
       "3            True  Software Engineer  d43bcd22-b67c-4a2c-a5db-7a872928e3fe   \n",
       "4            True  Software Engineer  2c986ea3-02c3-4369-b925-731d911849ef   \n",
       "\n",
       "   user_count  \n",
       "0         823  \n",
       "1         804  \n",
       "2         808  \n",
       "3         851  \n",
       "4         810  "
      ]
     },
     "execution_count": 20,
     "metadata": {},
     "output_type": "execute_result"
    }
   ],
   "source": [
    "# roles_df = pd.read_csv('E:/JMAN/fp/DataEngineering/prep/prep_certification.csv')\n",
    "roles_df = pd.read_csv('E:/JMAN/fp/DataEngineering/prep/prep_certification.csv')\n",
    "roles_df.head()"
   ]
  },
  {
   "cell_type": "code",
   "execution_count": 21,
   "metadata": {},
   "outputs": [
    {
     "data": {
      "text/plain": [
       "Unnamed: 0_x         0\n",
       "_id_x                0\n",
       "userId_x             0\n",
       "certificationId      0\n",
       "certificationName    0\n",
       "started_at           0\n",
       "completed_at         0\n",
       "competency           0\n",
       "isVerified           0\n",
       "imageData            0\n",
       "user_name            0\n",
       "Unnamed: 0_y         0\n",
       "userId_y             0\n",
       "total_duration       0\n",
       "count                0\n",
       "_id_y                0\n",
       "name                 0\n",
       "role_id              0\n",
       "joining_date         0\n",
       "department           0\n",
       "mail                 0\n",
       "created_at           0\n",
       "updated_at           0\n",
       "password             0\n",
       "profileImage         0\n",
       "role_name            0\n",
       "dtype: int64"
      ]
     },
     "execution_count": 21,
     "metadata": {},
     "output_type": "execute_result"
    }
   ],
   "source": [
    "df.isnull().sum()"
   ]
  },
  {
   "cell_type": "code",
   "execution_count": 22,
   "metadata": {},
   "outputs": [],
   "source": [
    "df.drop(['_id_y','userId_y',],inplace=True,axis=1)"
   ]
  },
  {
   "cell_type": "code",
   "execution_count": 23,
   "metadata": {},
   "outputs": [
    {
     "data": {
      "text/plain": [
       "(150000, 24)"
      ]
     },
     "execution_count": 23,
     "metadata": {},
     "output_type": "execute_result"
    }
   ],
   "source": [
    "df.shape"
   ]
  },
  {
   "cell_type": "code",
   "execution_count": 24,
   "metadata": {},
   "outputs": [],
   "source": [
    "df.drop(['Unnamed: 0_y','Unnamed: 0_x',],inplace=True,axis=1)"
   ]
  },
  {
   "cell_type": "code",
   "execution_count": 25,
   "metadata": {},
   "outputs": [
    {
     "data": {
      "text/html": [
       "<div>\n",
       "<style scoped>\n",
       "    .dataframe tbody tr th:only-of-type {\n",
       "        vertical-align: middle;\n",
       "    }\n",
       "\n",
       "    .dataframe tbody tr th {\n",
       "        vertical-align: top;\n",
       "    }\n",
       "\n",
       "    .dataframe thead th {\n",
       "        text-align: right;\n",
       "    }\n",
       "</style>\n",
       "<table border=\"1\" class=\"dataframe\">\n",
       "  <thead>\n",
       "    <tr style=\"text-align: right;\">\n",
       "      <th></th>\n",
       "      <th>_id</th>\n",
       "      <th>userId</th>\n",
       "      <th>certificationId</th>\n",
       "      <th>certificationName</th>\n",
       "      <th>started_at</th>\n",
       "      <th>completed_at</th>\n",
       "      <th>competency</th>\n",
       "      <th>isVerified</th>\n",
       "      <th>imageData</th>\n",
       "      <th>user_name</th>\n",
       "      <th>...</th>\n",
       "      <th>name</th>\n",
       "      <th>role_id</th>\n",
       "      <th>joining_date</th>\n",
       "      <th>department</th>\n",
       "      <th>mail</th>\n",
       "      <th>created_at</th>\n",
       "      <th>updated_at</th>\n",
       "      <th>password</th>\n",
       "      <th>profileImage</th>\n",
       "      <th>role_name</th>\n",
       "    </tr>\n",
       "  </thead>\n",
       "  <tbody>\n",
       "    <tr>\n",
       "      <th>0</th>\n",
       "      <td>f37cc047-63a5-46fd-9e14-a8080733af37</td>\n",
       "      <td>67fb9f26-ec27-43d2-9966-a8a2e39bafa0</td>\n",
       "      <td>6371cb98-2998-41d8-82f8-9992a36685ad</td>\n",
       "      <td>Certified Ethical Hacker</td>\n",
       "      <td>2023-09-22</td>\n",
       "      <td>2023-10-08</td>\n",
       "      <td>ADVANCED</td>\n",
       "      <td>True</td>\n",
       "      <td>https://dummyimage.com/932x801</td>\n",
       "      <td>Willie French</td>\n",
       "      <td>...</td>\n",
       "      <td>Willie French</td>\n",
       "      <td>4a7cdfaf-b436-46e2-a8a2-5dc4835d40b9</td>\n",
       "      <td>2021-01-05T07:16:14</td>\n",
       "      <td>DATA_ENGINEERING</td>\n",
       "      <td>wilsonsusan@example.com</td>\n",
       "      <td>2022-11-03</td>\n",
       "      <td>2024-09-21</td>\n",
       "      <td>!I^jSfvr5g</td>\n",
       "      <td>https://dummyimage.com/558x59</td>\n",
       "      <td>Software Engineer</td>\n",
       "    </tr>\n",
       "    <tr>\n",
       "      <th>1</th>\n",
       "      <td>f3b6ffa1-3085-414e-990e-bc1268b87725</td>\n",
       "      <td>67fb9f26-ec27-43d2-9966-a8a2e39bafa0</td>\n",
       "      <td>f9f74721-d989-4b0a-a67e-8c65d6986b4b</td>\n",
       "      <td>AWS Certified Solutions Architect</td>\n",
       "      <td>2022-03-07</td>\n",
       "      <td>2023-06-24</td>\n",
       "      <td>BEGINNER</td>\n",
       "      <td>False</td>\n",
       "      <td>https://placekitten.com/94/54</td>\n",
       "      <td>Willie French</td>\n",
       "      <td>...</td>\n",
       "      <td>Willie French</td>\n",
       "      <td>4a7cdfaf-b436-46e2-a8a2-5dc4835d40b9</td>\n",
       "      <td>2021-01-05T07:16:14</td>\n",
       "      <td>DATA_ENGINEERING</td>\n",
       "      <td>wilsonsusan@example.com</td>\n",
       "      <td>2022-11-03</td>\n",
       "      <td>2024-09-21</td>\n",
       "      <td>!I^jSfvr5g</td>\n",
       "      <td>https://dummyimage.com/558x59</td>\n",
       "      <td>Software Engineer</td>\n",
       "    </tr>\n",
       "    <tr>\n",
       "      <th>2</th>\n",
       "      <td>1e45adaf-ba8e-44a5-b6ee-d9e26e68928e</td>\n",
       "      <td>67fb9f26-ec27-43d2-9966-a8a2e39bafa0</td>\n",
       "      <td>3ff2a4df-7cae-430f-80c7-878988d38ead</td>\n",
       "      <td>Certified Information Systems Security Profess...</td>\n",
       "      <td>2020-09-01</td>\n",
       "      <td>2022-01-08</td>\n",
       "      <td>INTERMEDIATE</td>\n",
       "      <td>True</td>\n",
       "      <td>https://picsum.photos/444/802</td>\n",
       "      <td>Willie French</td>\n",
       "      <td>...</td>\n",
       "      <td>Willie French</td>\n",
       "      <td>4a7cdfaf-b436-46e2-a8a2-5dc4835d40b9</td>\n",
       "      <td>2021-01-05T07:16:14</td>\n",
       "      <td>DATA_ENGINEERING</td>\n",
       "      <td>wilsonsusan@example.com</td>\n",
       "      <td>2022-11-03</td>\n",
       "      <td>2024-09-21</td>\n",
       "      <td>!I^jSfvr5g</td>\n",
       "      <td>https://dummyimage.com/558x59</td>\n",
       "      <td>Software Engineer</td>\n",
       "    </tr>\n",
       "    <tr>\n",
       "      <th>3</th>\n",
       "      <td>2d5c58ea-6936-4955-bf35-370a5b367254</td>\n",
       "      <td>67fb9f26-ec27-43d2-9966-a8a2e39bafa0</td>\n",
       "      <td>a6c6d728-8176-4a62-9df9-a102e79879b5</td>\n",
       "      <td>CompTIA Security+</td>\n",
       "      <td>2023-07-10</td>\n",
       "      <td>2023-07-10</td>\n",
       "      <td>BEGINNER</td>\n",
       "      <td>True</td>\n",
       "      <td>https://picsum.photos/637/338</td>\n",
       "      <td>Willie French</td>\n",
       "      <td>...</td>\n",
       "      <td>Willie French</td>\n",
       "      <td>4a7cdfaf-b436-46e2-a8a2-5dc4835d40b9</td>\n",
       "      <td>2021-01-05T07:16:14</td>\n",
       "      <td>DATA_ENGINEERING</td>\n",
       "      <td>wilsonsusan@example.com</td>\n",
       "      <td>2022-11-03</td>\n",
       "      <td>2024-09-21</td>\n",
       "      <td>!I^jSfvr5g</td>\n",
       "      <td>https://dummyimage.com/558x59</td>\n",
       "      <td>Software Engineer</td>\n",
       "    </tr>\n",
       "    <tr>\n",
       "      <th>4</th>\n",
       "      <td>3fe8010b-0dee-4c89-91fd-f8c0d5481422</td>\n",
       "      <td>67fb9f26-ec27-43d2-9966-a8a2e39bafa0</td>\n",
       "      <td>e63b693d-1c85-48c1-b5b7-15fa7583447a</td>\n",
       "      <td>Certified Kubernetes Administrator</td>\n",
       "      <td>2021-07-28</td>\n",
       "      <td>2021-09-07</td>\n",
       "      <td>INTERMEDIATE</td>\n",
       "      <td>False</td>\n",
       "      <td>https://placekitten.com/208/896</td>\n",
       "      <td>Willie French</td>\n",
       "      <td>...</td>\n",
       "      <td>Willie French</td>\n",
       "      <td>4a7cdfaf-b436-46e2-a8a2-5dc4835d40b9</td>\n",
       "      <td>2021-01-05T07:16:14</td>\n",
       "      <td>DATA_ENGINEERING</td>\n",
       "      <td>wilsonsusan@example.com</td>\n",
       "      <td>2022-11-03</td>\n",
       "      <td>2024-09-21</td>\n",
       "      <td>!I^jSfvr5g</td>\n",
       "      <td>https://dummyimage.com/558x59</td>\n",
       "      <td>Software Engineer</td>\n",
       "    </tr>\n",
       "    <tr>\n",
       "      <th>...</th>\n",
       "      <td>...</td>\n",
       "      <td>...</td>\n",
       "      <td>...</td>\n",
       "      <td>...</td>\n",
       "      <td>...</td>\n",
       "      <td>...</td>\n",
       "      <td>...</td>\n",
       "      <td>...</td>\n",
       "      <td>...</td>\n",
       "      <td>...</td>\n",
       "      <td>...</td>\n",
       "      <td>...</td>\n",
       "      <td>...</td>\n",
       "      <td>...</td>\n",
       "      <td>...</td>\n",
       "      <td>...</td>\n",
       "      <td>...</td>\n",
       "      <td>...</td>\n",
       "      <td>...</td>\n",
       "      <td>...</td>\n",
       "      <td>...</td>\n",
       "    </tr>\n",
       "    <tr>\n",
       "      <th>149995</th>\n",
       "      <td>ab8d5716-de74-40a1-a286-21f69c1bfdb7</td>\n",
       "      <td>9e7050bd-8526-4fa9-a0e9-4f94fa81d1e6</td>\n",
       "      <td>9e94390f-0822-47a2-9332-d560f8e71d3e</td>\n",
       "      <td>Google Data Analytics Professional Certificate</td>\n",
       "      <td>2020-11-19</td>\n",
       "      <td>2023-06-29</td>\n",
       "      <td>ADVANCED</td>\n",
       "      <td>False</td>\n",
       "      <td>https://placekitten.com/780/648</td>\n",
       "      <td>Kristen Fox</td>\n",
       "      <td>...</td>\n",
       "      <td>Kristen Fox</td>\n",
       "      <td>663c1743-1dc9-4c1a-8200-701078aefaf8</td>\n",
       "      <td>2021-03-27T16:03:24</td>\n",
       "      <td>DATA_ANALYTICS</td>\n",
       "      <td>victoria28@example.com</td>\n",
       "      <td>2023-07-28</td>\n",
       "      <td>2021-02-02</td>\n",
       "      <td>*+MuJukV@3</td>\n",
       "      <td>https://dummyimage.com/255x241</td>\n",
       "      <td>Technical Writer</td>\n",
       "    </tr>\n",
       "    <tr>\n",
       "      <th>149996</th>\n",
       "      <td>aca4af07-68ca-4081-983d-d5aa42965af3</td>\n",
       "      <td>9e7050bd-8526-4fa9-a0e9-4f94fa81d1e6</td>\n",
       "      <td>a63629b4-a709-4196-ba88-4b0628b0e73b</td>\n",
       "      <td>Certified Information Systems Security Profess...</td>\n",
       "      <td>2022-12-08</td>\n",
       "      <td>2023-02-14</td>\n",
       "      <td>INTERMEDIATE</td>\n",
       "      <td>True</td>\n",
       "      <td>https://picsum.photos/681/463</td>\n",
       "      <td>Kristen Fox</td>\n",
       "      <td>...</td>\n",
       "      <td>Kristen Fox</td>\n",
       "      <td>663c1743-1dc9-4c1a-8200-701078aefaf8</td>\n",
       "      <td>2021-03-27T16:03:24</td>\n",
       "      <td>DATA_ANALYTICS</td>\n",
       "      <td>victoria28@example.com</td>\n",
       "      <td>2023-07-28</td>\n",
       "      <td>2021-02-02</td>\n",
       "      <td>*+MuJukV@3</td>\n",
       "      <td>https://dummyimage.com/255x241</td>\n",
       "      <td>Technical Writer</td>\n",
       "    </tr>\n",
       "    <tr>\n",
       "      <th>149997</th>\n",
       "      <td>b6af168c-fa16-4fcc-8b2e-dc807d091a29</td>\n",
       "      <td>9e7050bd-8526-4fa9-a0e9-4f94fa81d1e6</td>\n",
       "      <td>dd8fbd80-4e8a-42e4-a952-2d8c0c3bd297</td>\n",
       "      <td>Technical Communication Certification from Soc...</td>\n",
       "      <td>2020-01-29</td>\n",
       "      <td>2020-01-31</td>\n",
       "      <td>INTERMEDIATE</td>\n",
       "      <td>True</td>\n",
       "      <td>https://placekitten.com/91/830</td>\n",
       "      <td>Kristen Fox</td>\n",
       "      <td>...</td>\n",
       "      <td>Kristen Fox</td>\n",
       "      <td>663c1743-1dc9-4c1a-8200-701078aefaf8</td>\n",
       "      <td>2021-03-27T16:03:24</td>\n",
       "      <td>DATA_ANALYTICS</td>\n",
       "      <td>victoria28@example.com</td>\n",
       "      <td>2023-07-28</td>\n",
       "      <td>2021-02-02</td>\n",
       "      <td>*+MuJukV@3</td>\n",
       "      <td>https://dummyimage.com/255x241</td>\n",
       "      <td>Technical Writer</td>\n",
       "    </tr>\n",
       "    <tr>\n",
       "      <th>149998</th>\n",
       "      <td>0dadc48d-a667-4040-bb37-7e780ef19324</td>\n",
       "      <td>9e7050bd-8526-4fa9-a0e9-4f94fa81d1e6</td>\n",
       "      <td>76fe0649-22c0-4756-ae94-d1e65bb65a38</td>\n",
       "      <td>AWS Certified Solutions Architect</td>\n",
       "      <td>2023-08-23</td>\n",
       "      <td>2023-08-23</td>\n",
       "      <td>BEGINNER</td>\n",
       "      <td>False</td>\n",
       "      <td>https://dummyimage.com/674x142</td>\n",
       "      <td>Kristen Fox</td>\n",
       "      <td>...</td>\n",
       "      <td>Kristen Fox</td>\n",
       "      <td>663c1743-1dc9-4c1a-8200-701078aefaf8</td>\n",
       "      <td>2021-03-27T16:03:24</td>\n",
       "      <td>DATA_ANALYTICS</td>\n",
       "      <td>victoria28@example.com</td>\n",
       "      <td>2023-07-28</td>\n",
       "      <td>2021-02-02</td>\n",
       "      <td>*+MuJukV@3</td>\n",
       "      <td>https://dummyimage.com/255x241</td>\n",
       "      <td>Technical Writer</td>\n",
       "    </tr>\n",
       "    <tr>\n",
       "      <th>149999</th>\n",
       "      <td>85c76c28-1c14-4189-bcfc-698d535ebf3c</td>\n",
       "      <td>9e7050bd-8526-4fa9-a0e9-4f94fa81d1e6</td>\n",
       "      <td>d620ba0e-57e5-40f2-8f86-a9b1acf66a87</td>\n",
       "      <td>Microsoft Certified: Azure Developer Associate</td>\n",
       "      <td>2021-03-24</td>\n",
       "      <td>2021-12-26</td>\n",
       "      <td>INTERMEDIATE</td>\n",
       "      <td>True</td>\n",
       "      <td>https://dummyimage.com/644x274</td>\n",
       "      <td>Kristen Fox</td>\n",
       "      <td>...</td>\n",
       "      <td>Kristen Fox</td>\n",
       "      <td>663c1743-1dc9-4c1a-8200-701078aefaf8</td>\n",
       "      <td>2021-03-27T16:03:24</td>\n",
       "      <td>DATA_ANALYTICS</td>\n",
       "      <td>victoria28@example.com</td>\n",
       "      <td>2023-07-28</td>\n",
       "      <td>2021-02-02</td>\n",
       "      <td>*+MuJukV@3</td>\n",
       "      <td>https://dummyimage.com/255x241</td>\n",
       "      <td>Technical Writer</td>\n",
       "    </tr>\n",
       "  </tbody>\n",
       "</table>\n",
       "<p>150000 rows × 22 columns</p>\n",
       "</div>"
      ],
      "text/plain": [
       "                                         _id  \\\n",
       "0       f37cc047-63a5-46fd-9e14-a8080733af37   \n",
       "1       f3b6ffa1-3085-414e-990e-bc1268b87725   \n",
       "2       1e45adaf-ba8e-44a5-b6ee-d9e26e68928e   \n",
       "3       2d5c58ea-6936-4955-bf35-370a5b367254   \n",
       "4       3fe8010b-0dee-4c89-91fd-f8c0d5481422   \n",
       "...                                      ...   \n",
       "149995  ab8d5716-de74-40a1-a286-21f69c1bfdb7   \n",
       "149996  aca4af07-68ca-4081-983d-d5aa42965af3   \n",
       "149997  b6af168c-fa16-4fcc-8b2e-dc807d091a29   \n",
       "149998  0dadc48d-a667-4040-bb37-7e780ef19324   \n",
       "149999  85c76c28-1c14-4189-bcfc-698d535ebf3c   \n",
       "\n",
       "                                      userId  \\\n",
       "0       67fb9f26-ec27-43d2-9966-a8a2e39bafa0   \n",
       "1       67fb9f26-ec27-43d2-9966-a8a2e39bafa0   \n",
       "2       67fb9f26-ec27-43d2-9966-a8a2e39bafa0   \n",
       "3       67fb9f26-ec27-43d2-9966-a8a2e39bafa0   \n",
       "4       67fb9f26-ec27-43d2-9966-a8a2e39bafa0   \n",
       "...                                      ...   \n",
       "149995  9e7050bd-8526-4fa9-a0e9-4f94fa81d1e6   \n",
       "149996  9e7050bd-8526-4fa9-a0e9-4f94fa81d1e6   \n",
       "149997  9e7050bd-8526-4fa9-a0e9-4f94fa81d1e6   \n",
       "149998  9e7050bd-8526-4fa9-a0e9-4f94fa81d1e6   \n",
       "149999  9e7050bd-8526-4fa9-a0e9-4f94fa81d1e6   \n",
       "\n",
       "                             certificationId  \\\n",
       "0       6371cb98-2998-41d8-82f8-9992a36685ad   \n",
       "1       f9f74721-d989-4b0a-a67e-8c65d6986b4b   \n",
       "2       3ff2a4df-7cae-430f-80c7-878988d38ead   \n",
       "3       a6c6d728-8176-4a62-9df9-a102e79879b5   \n",
       "4       e63b693d-1c85-48c1-b5b7-15fa7583447a   \n",
       "...                                      ...   \n",
       "149995  9e94390f-0822-47a2-9332-d560f8e71d3e   \n",
       "149996  a63629b4-a709-4196-ba88-4b0628b0e73b   \n",
       "149997  dd8fbd80-4e8a-42e4-a952-2d8c0c3bd297   \n",
       "149998  76fe0649-22c0-4756-ae94-d1e65bb65a38   \n",
       "149999  d620ba0e-57e5-40f2-8f86-a9b1acf66a87   \n",
       "\n",
       "                                        certificationName started_at  \\\n",
       "0                                Certified Ethical Hacker 2023-09-22   \n",
       "1                       AWS Certified Solutions Architect 2022-03-07   \n",
       "2       Certified Information Systems Security Profess... 2020-09-01   \n",
       "3                                       CompTIA Security+ 2023-07-10   \n",
       "4                      Certified Kubernetes Administrator 2021-07-28   \n",
       "...                                                   ...        ...   \n",
       "149995     Google Data Analytics Professional Certificate 2020-11-19   \n",
       "149996  Certified Information Systems Security Profess... 2022-12-08   \n",
       "149997  Technical Communication Certification from Soc... 2020-01-29   \n",
       "149998                  AWS Certified Solutions Architect 2023-08-23   \n",
       "149999     Microsoft Certified: Azure Developer Associate 2021-03-24   \n",
       "\n",
       "       completed_at    competency  isVerified  \\\n",
       "0        2023-10-08      ADVANCED        True   \n",
       "1        2023-06-24      BEGINNER       False   \n",
       "2        2022-01-08  INTERMEDIATE        True   \n",
       "3        2023-07-10      BEGINNER        True   \n",
       "4        2021-09-07  INTERMEDIATE       False   \n",
       "...             ...           ...         ...   \n",
       "149995   2023-06-29      ADVANCED       False   \n",
       "149996   2023-02-14  INTERMEDIATE        True   \n",
       "149997   2020-01-31  INTERMEDIATE        True   \n",
       "149998   2023-08-23      BEGINNER       False   \n",
       "149999   2021-12-26  INTERMEDIATE        True   \n",
       "\n",
       "                              imageData      user_name  ...           name  \\\n",
       "0        https://dummyimage.com/932x801  Willie French  ...  Willie French   \n",
       "1         https://placekitten.com/94/54  Willie French  ...  Willie French   \n",
       "2         https://picsum.photos/444/802  Willie French  ...  Willie French   \n",
       "3         https://picsum.photos/637/338  Willie French  ...  Willie French   \n",
       "4       https://placekitten.com/208/896  Willie French  ...  Willie French   \n",
       "...                                 ...            ...  ...            ...   \n",
       "149995  https://placekitten.com/780/648    Kristen Fox  ...    Kristen Fox   \n",
       "149996    https://picsum.photos/681/463    Kristen Fox  ...    Kristen Fox   \n",
       "149997   https://placekitten.com/91/830    Kristen Fox  ...    Kristen Fox   \n",
       "149998   https://dummyimage.com/674x142    Kristen Fox  ...    Kristen Fox   \n",
       "149999   https://dummyimage.com/644x274    Kristen Fox  ...    Kristen Fox   \n",
       "\n",
       "                                     role_id         joining_date  \\\n",
       "0       4a7cdfaf-b436-46e2-a8a2-5dc4835d40b9  2021-01-05T07:16:14   \n",
       "1       4a7cdfaf-b436-46e2-a8a2-5dc4835d40b9  2021-01-05T07:16:14   \n",
       "2       4a7cdfaf-b436-46e2-a8a2-5dc4835d40b9  2021-01-05T07:16:14   \n",
       "3       4a7cdfaf-b436-46e2-a8a2-5dc4835d40b9  2021-01-05T07:16:14   \n",
       "4       4a7cdfaf-b436-46e2-a8a2-5dc4835d40b9  2021-01-05T07:16:14   \n",
       "...                                      ...                  ...   \n",
       "149995  663c1743-1dc9-4c1a-8200-701078aefaf8  2021-03-27T16:03:24   \n",
       "149996  663c1743-1dc9-4c1a-8200-701078aefaf8  2021-03-27T16:03:24   \n",
       "149997  663c1743-1dc9-4c1a-8200-701078aefaf8  2021-03-27T16:03:24   \n",
       "149998  663c1743-1dc9-4c1a-8200-701078aefaf8  2021-03-27T16:03:24   \n",
       "149999  663c1743-1dc9-4c1a-8200-701078aefaf8  2021-03-27T16:03:24   \n",
       "\n",
       "              department                     mail  created_at  updated_at  \\\n",
       "0       DATA_ENGINEERING  wilsonsusan@example.com  2022-11-03  2024-09-21   \n",
       "1       DATA_ENGINEERING  wilsonsusan@example.com  2022-11-03  2024-09-21   \n",
       "2       DATA_ENGINEERING  wilsonsusan@example.com  2022-11-03  2024-09-21   \n",
       "3       DATA_ENGINEERING  wilsonsusan@example.com  2022-11-03  2024-09-21   \n",
       "4       DATA_ENGINEERING  wilsonsusan@example.com  2022-11-03  2024-09-21   \n",
       "...                  ...                      ...         ...         ...   \n",
       "149995    DATA_ANALYTICS   victoria28@example.com  2023-07-28  2021-02-02   \n",
       "149996    DATA_ANALYTICS   victoria28@example.com  2023-07-28  2021-02-02   \n",
       "149997    DATA_ANALYTICS   victoria28@example.com  2023-07-28  2021-02-02   \n",
       "149998    DATA_ANALYTICS   victoria28@example.com  2023-07-28  2021-02-02   \n",
       "149999    DATA_ANALYTICS   victoria28@example.com  2023-07-28  2021-02-02   \n",
       "\n",
       "          password                    profileImage          role_name  \n",
       "0       !I^jSfvr5g   https://dummyimage.com/558x59  Software Engineer  \n",
       "1       !I^jSfvr5g   https://dummyimage.com/558x59  Software Engineer  \n",
       "2       !I^jSfvr5g   https://dummyimage.com/558x59  Software Engineer  \n",
       "3       !I^jSfvr5g   https://dummyimage.com/558x59  Software Engineer  \n",
       "4       !I^jSfvr5g   https://dummyimage.com/558x59  Software Engineer  \n",
       "...            ...                             ...                ...  \n",
       "149995  *+MuJukV@3  https://dummyimage.com/255x241   Technical Writer  \n",
       "149996  *+MuJukV@3  https://dummyimage.com/255x241   Technical Writer  \n",
       "149997  *+MuJukV@3  https://dummyimage.com/255x241   Technical Writer  \n",
       "149998  *+MuJukV@3  https://dummyimage.com/255x241   Technical Writer  \n",
       "149999  *+MuJukV@3  https://dummyimage.com/255x241   Technical Writer  \n",
       "\n",
       "[150000 rows x 22 columns]"
      ]
     },
     "execution_count": 25,
     "metadata": {},
     "output_type": "execute_result"
    }
   ],
   "source": [
    "df.rename({\"_id_x\":\"_id\",\"userId_x\":\"userId\"},axis=1)"
   ]
  },
  {
   "cell_type": "code",
   "execution_count": 26,
   "metadata": {},
   "outputs": [
    {
     "data": {
      "text/plain": [
       "(150000, 22)"
      ]
     },
     "execution_count": 26,
     "metadata": {},
     "output_type": "execute_result"
    }
   ],
   "source": [
    "df.shape"
   ]
  },
  {
   "cell_type": "code",
   "execution_count": 27,
   "metadata": {},
   "outputs": [
    {
     "data": {
      "text/plain": [
       "_id_x                0\n",
       "userId_x             0\n",
       "certificationId      0\n",
       "certificationName    0\n",
       "started_at           0\n",
       "completed_at         0\n",
       "competency           0\n",
       "isVerified           0\n",
       "imageData            0\n",
       "user_name            0\n",
       "total_duration       0\n",
       "count                0\n",
       "name                 0\n",
       "role_id              0\n",
       "joining_date         0\n",
       "department           0\n",
       "mail                 0\n",
       "created_at           0\n",
       "updated_at           0\n",
       "password             0\n",
       "profileImage         0\n",
       "role_name            0\n",
       "dtype: int64"
      ]
     },
     "execution_count": 27,
     "metadata": {},
     "output_type": "execute_result"
    }
   ],
   "source": [
    "df.isnull().sum()"
   ]
  },
  {
   "cell_type": "code",
   "execution_count": 28,
   "metadata": {},
   "outputs": [
    {
     "data": {
      "text/plain": [
       "Unnamed: 0         0\n",
       "_id                0\n",
       "name               0\n",
       "issued_by          0\n",
       "is_certificate     0\n",
       "role               0\n",
       "certificationId    0\n",
       "user_count         0\n",
       "dtype: int64"
      ]
     },
     "execution_count": 28,
     "metadata": {},
     "output_type": "execute_result"
    }
   ],
   "source": [
    "roles_df.isna().sum()"
   ]
  },
  {
   "cell_type": "code",
   "execution_count": 29,
   "metadata": {},
   "outputs": [],
   "source": [
    "merged_df=pd.merge(df,roles_df,left_on='certificationId',right_on='certificationId')\n",
    "merged_df.shape\n",
    "df=merged_df"
   ]
  },
  {
   "cell_type": "code",
   "execution_count": 30,
   "metadata": {},
   "outputs": [
    {
     "data": {
      "text/plain": [
       "(150000, 29)"
      ]
     },
     "execution_count": 30,
     "metadata": {},
     "output_type": "execute_result"
    }
   ],
   "source": [
    "df.shape"
   ]
  },
  {
   "cell_type": "code",
   "execution_count": 31,
   "metadata": {},
   "outputs": [
    {
     "name": "stdout",
     "output_type": "stream",
     "text": [
      "Original dtypes:\n",
      "_id_x                        string\n",
      "userId_x                     object\n",
      "certificationId              object\n",
      "certificationName            string\n",
      "started_at           datetime64[ns]\n",
      "completed_at         datetime64[ns]\n",
      "competency                   string\n",
      "isVerified                  boolean\n",
      "imageData                    string\n",
      "user_name                    string\n",
      "total_duration               object\n",
      "count                         int64\n",
      "name_x                       object\n",
      "role_id                      object\n",
      "joining_date                 object\n",
      "department                   object\n",
      "mail                         object\n",
      "created_at                   object\n",
      "updated_at                   object\n",
      "password                     object\n",
      "profileImage                 object\n",
      "role_name                    object\n",
      "Unnamed: 0                    int64\n",
      "_id                          object\n",
      "name_y                       object\n",
      "issued_by                    object\n",
      "is_certificate                 bool\n",
      "role                         object\n",
      "user_count                    int64\n",
      "dtype: object\n",
      "\n",
      "Converted dtypes:\n",
      "_id_x                        string\n",
      "userId_x                     string\n",
      "certificationId              string\n",
      "certificationName            string\n",
      "started_at           datetime64[ns]\n",
      "completed_at         datetime64[ns]\n",
      "competency                   string\n",
      "isVerified                  boolean\n",
      "imageData                    string\n",
      "user_name                    string\n",
      "total_duration               string\n",
      "count                         Int64\n",
      "name_x                       string\n",
      "role_id                      string\n",
      "joining_date                 string\n",
      "department                   string\n",
      "mail                         string\n",
      "created_at                   string\n",
      "updated_at                   string\n",
      "password                     string\n",
      "profileImage                 string\n",
      "role_name                    string\n",
      "Unnamed: 0                    Int64\n",
      "_id                          string\n",
      "name_y                       string\n",
      "issued_by                    string\n",
      "is_certificate              boolean\n",
      "role                         string\n",
      "user_count                    Int64\n",
      "dtype: object\n"
     ]
    }
   ],
   "source": [
    "print(\"Original dtypes:\")\n",
    "print(df.dtypes)\n",
    "\n",
    "# Convert dtypes\n",
    "df=df.convert_dtypes()\n",
    "\n",
    "# Check new dtypes\n",
    "print(\"\\nConverted dtypes:\")\n",
    "print(df.convert_dtypes().dtypes)"
   ]
  },
  {
   "cell_type": "code",
   "execution_count": 32,
   "metadata": {},
   "outputs": [
    {
     "data": {
      "text/plain": [
       "(150000, 29)"
      ]
     },
     "execution_count": 32,
     "metadata": {},
     "output_type": "execute_result"
    }
   ],
   "source": [
    "df.shape"
   ]
  },
  {
   "cell_type": "code",
   "execution_count": 36,
   "metadata": {},
   "outputs": [],
   "source": [
    "# df.to_csv('E:/JMAN/fp/DataEngineering/mart/mart_user_certification.csv')\n",
    "df.to_csv('E:/JMAN/fp/DataEngineering/mart/mart_user_certification.csv')"
   ]
  },
  {
   "cell_type": "code",
   "execution_count": null,
   "metadata": {},
   "outputs": [],
   "source": []
  }
 ],
 "metadata": {
  "kernelspec": {
   "display_name": "base",
   "language": "python",
   "name": "python3"
  },
  "language_info": {
   "codemirror_mode": {
    "name": "ipython",
    "version": 3
   },
   "file_extension": ".py",
   "mimetype": "text/x-python",
   "name": "python",
   "nbconvert_exporter": "python",
   "pygments_lexer": "ipython3",
   "version": "3.9.7"
  }
 },
 "nbformat": 4,
 "nbformat_minor": 2
}
