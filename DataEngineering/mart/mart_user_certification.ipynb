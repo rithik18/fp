{
 "cells": [
  {
   "cell_type": "code",
   "execution_count": 160,
   "metadata": {},
   "outputs": [],
   "source": [
    "import pandas as pd"
   ]
  },
  {
   "cell_type": "code",
   "execution_count": 161,
   "metadata": {},
   "outputs": [],
   "source": [
    "# user_csv=pd.read_csv('E:/JMAN/fp/DataEngineering/prep/prep_user_certification.csv')\n",
    "user_csv=pd.read_csv('E:/JMAN/fp/DataEngineering/prep/prep_user_certification.csv')\n"
   ]
  },
  {
   "cell_type": "code",
   "execution_count": 162,
   "metadata": {},
   "outputs": [],
   "source": [
    "df=pd.DataFrame(data=user_csv)"
   ]
  },
  {
   "cell_type": "code",
   "execution_count": 163,
   "metadata": {},
   "outputs": [
    {
     "data": {
      "text/plain": [
       "Unnamed: 0           0\n",
       "_id                  0\n",
       "userId               0\n",
       "certificationId      0\n",
       "certificationName    0\n",
       "started_at           0\n",
       "completed_at         0\n",
       "competency           0\n",
       "isVerified           0\n",
       "imageData            0\n",
       "user_name            0\n",
       "dtype: int64"
      ]
     },
     "execution_count": 163,
     "metadata": {},
     "output_type": "execute_result"
    }
   ],
   "source": [
    "df.isnull().sum()"
   ]
  },
  {
   "cell_type": "code",
   "execution_count": 164,
   "metadata": {},
   "outputs": [],
   "source": [
    "df.dropna(inplace=True)"
   ]
  },
  {
   "cell_type": "code",
   "execution_count": 165,
   "metadata": {},
   "outputs": [],
   "source": [
    "df.drop_duplicates(inplace=True)"
   ]
  },
  {
   "cell_type": "code",
   "execution_count": 166,
   "metadata": {},
   "outputs": [
    {
     "data": {
      "text/plain": [
       "Unnamed: 0            int64\n",
       "_id                  object\n",
       "userId               object\n",
       "certificationId      object\n",
       "certificationName    object\n",
       "started_at           object\n",
       "completed_at         object\n",
       "competency           object\n",
       "isVerified             bool\n",
       "imageData            object\n",
       "user_name            object\n",
       "dtype: object"
      ]
     },
     "execution_count": 166,
     "metadata": {},
     "output_type": "execute_result"
    }
   ],
   "source": [
    "df.dtypes"
   ]
  },
  {
   "cell_type": "code",
   "execution_count": 167,
   "metadata": {},
   "outputs": [
    {
     "name": "stdout",
     "output_type": "stream",
     "text": [
      "Original dtypes:\n",
      "Unnamed: 0            int64\n",
      "_id                  object\n",
      "userId               object\n",
      "certificationId      object\n",
      "certificationName    object\n",
      "started_at           object\n",
      "completed_at         object\n",
      "competency           object\n",
      "isVerified             bool\n",
      "imageData            object\n",
      "user_name            object\n",
      "dtype: object\n",
      "\n",
      "Converted dtypes:\n",
      "Unnamed: 0             Int64\n",
      "_id                   string\n",
      "userId                string\n",
      "certificationId       string\n",
      "certificationName     string\n",
      "started_at            string\n",
      "completed_at          string\n",
      "competency            string\n",
      "isVerified           boolean\n",
      "imageData             string\n",
      "user_name             string\n",
      "dtype: object\n"
     ]
    }
   ],
   "source": [
    "print(\"Original dtypes:\")\n",
    "print(df.dtypes)\n",
    "\n",
    "# Convert dtypes\n",
    "df=df.convert_dtypes()\n",
    "\n",
    "# Check new dtypes\n",
    "print(\"\\nConverted dtypes:\")\n",
    "print(df.convert_dtypes().dtypes)"
   ]
  },
  {
   "cell_type": "code",
   "execution_count": 168,
   "metadata": {},
   "outputs": [],
   "source": [
    "df['started_at'] = [\n",
    "    i.split(\" \")[0] if 'T' not in i else i.split(\"T\")[0] for i in df['started_at']\n",
    "]"
   ]
  },
  {
   "cell_type": "code",
   "execution_count": 169,
   "metadata": {},
   "outputs": [],
   "source": [
    "df['started_at']=pd.to_datetime(df['started_at'])"
   ]
  },
  {
   "cell_type": "code",
   "execution_count": 170,
   "metadata": {},
   "outputs": [],
   "source": [
    "df['completed_at'] = [\n",
    "    i.split(\" \")[0] if 'T' not in i else i.split(\"T\")[0] for i in df['completed_at']\n",
    "]"
   ]
  },
  {
   "cell_type": "code",
   "execution_count": 171,
   "metadata": {},
   "outputs": [],
   "source": [
    "df['completed_at']=pd.to_datetime(df['completed_at'])"
   ]
  },
  {
   "cell_type": "code",
   "execution_count": 172,
   "metadata": {},
   "outputs": [
    {
     "data": {
      "text/plain": [
       "Unnamed: 0                    Int64\n",
       "_id                          string\n",
       "userId                       string\n",
       "certificationId              string\n",
       "certificationName            string\n",
       "started_at           datetime64[ns]\n",
       "completed_at         datetime64[ns]\n",
       "competency                   string\n",
       "isVerified                  boolean\n",
       "imageData                    string\n",
       "user_name                    string\n",
       "dtype: object"
      ]
     },
     "execution_count": 172,
     "metadata": {},
     "output_type": "execute_result"
    }
   ],
   "source": [
    "df.dtypes"
   ]
  },
  {
   "cell_type": "code",
   "execution_count": null,
   "metadata": {},
   "outputs": [],
   "source": []
  },
  {
   "cell_type": "code",
   "execution_count": 173,
   "metadata": {},
   "outputs": [
    {
     "data": {
      "text/html": [
       "<div>\n",
       "<style scoped>\n",
       "    .dataframe tbody tr th:only-of-type {\n",
       "        vertical-align: middle;\n",
       "    }\n",
       "\n",
       "    .dataframe tbody tr th {\n",
       "        vertical-align: top;\n",
       "    }\n",
       "\n",
       "    .dataframe thead th {\n",
       "        text-align: right;\n",
       "    }\n",
       "</style>\n",
       "<table border=\"1\" class=\"dataframe\">\n",
       "  <thead>\n",
       "    <tr style=\"text-align: right;\">\n",
       "      <th></th>\n",
       "      <th>Unnamed: 0</th>\n",
       "      <th>userId</th>\n",
       "      <th>total_duration</th>\n",
       "      <th>count</th>\n",
       "      <th>_id</th>\n",
       "      <th>name</th>\n",
       "      <th>role_id</th>\n",
       "      <th>joining_date</th>\n",
       "      <th>department</th>\n",
       "      <th>mail</th>\n",
       "      <th>created_at</th>\n",
       "      <th>updated_at</th>\n",
       "      <th>password</th>\n",
       "      <th>profileImage</th>\n",
       "      <th>role_name</th>\n",
       "    </tr>\n",
       "  </thead>\n",
       "  <tbody>\n",
       "    <tr>\n",
       "      <th>0</th>\n",
       "      <td>0</td>\n",
       "      <td>00001762-6384-4247-ba53-54ea1640d1c7</td>\n",
       "      <td>6730 days</td>\n",
       "      <td>5</td>\n",
       "      <td>00001762-6384-4247-ba53-54ea1640d1c7</td>\n",
       "      <td>George Davis</td>\n",
       "      <td>19adcd6a-d040-43f5-8df4-f2776037d25e</td>\n",
       "      <td>2020-01-13T22:40:37</td>\n",
       "      <td>DEVOPS</td>\n",
       "      <td>kmyers@example.com</td>\n",
       "      <td>2020-05-17</td>\n",
       "      <td>2022-08-31</td>\n",
       "      <td>$$NE4RGu*3</td>\n",
       "      <td>https://picsum.photos/383/584</td>\n",
       "      <td>improve</td>\n",
       "    </tr>\n",
       "    <tr>\n",
       "      <th>1</th>\n",
       "      <td>1</td>\n",
       "      <td>00007389-374a-4695-aa55-e934e296c10d</td>\n",
       "      <td>7451 days</td>\n",
       "      <td>5</td>\n",
       "      <td>00007389-374a-4695-aa55-e934e296c10d</td>\n",
       "      <td>Richard Wood</td>\n",
       "      <td>100ac7ef-7112-488f-adf2-f9c1608d49b2</td>\n",
       "      <td>2022-12-13T03:11:03</td>\n",
       "      <td>DEVOPS</td>\n",
       "      <td>stacyjennings@example.net</td>\n",
       "      <td>2020-05-19</td>\n",
       "      <td>2021-03-04</td>\n",
       "      <td>w2AER@Cp@v</td>\n",
       "      <td>https://dummyimage.com/258x598</td>\n",
       "      <td>century</td>\n",
       "    </tr>\n",
       "    <tr>\n",
       "      <th>2</th>\n",
       "      <td>2</td>\n",
       "      <td>00056dbe-77c8-4c3c-a431-ebd19236bf46</td>\n",
       "      <td>2677 days</td>\n",
       "      <td>5</td>\n",
       "      <td>00056dbe-77c8-4c3c-a431-ebd19236bf46</td>\n",
       "      <td>John Johnson</td>\n",
       "      <td>9a857edb-7685-453d-bc33-ed5032191e9c</td>\n",
       "      <td>2020-03-09T11:55:40</td>\n",
       "      <td>OTHER</td>\n",
       "      <td>curtiscordova@example.com</td>\n",
       "      <td>2021-08-27</td>\n",
       "      <td>2023-01-11</td>\n",
       "      <td>Xr67Ru9j%5</td>\n",
       "      <td>https://dummyimage.com/116x586</td>\n",
       "      <td>money</td>\n",
       "    </tr>\n",
       "    <tr>\n",
       "      <th>3</th>\n",
       "      <td>3</td>\n",
       "      <td>000aef55-a6de-4d27-826e-fe081937fefd</td>\n",
       "      <td>4958 days</td>\n",
       "      <td>5</td>\n",
       "      <td>000aef55-a6de-4d27-826e-fe081937fefd</td>\n",
       "      <td>Diana Wagner</td>\n",
       "      <td>76fba540-2817-4293-b9ae-dd2aa77acbc1</td>\n",
       "      <td>2020-07-25T05:33:12</td>\n",
       "      <td>DATA_ANALYTICS</td>\n",
       "      <td>samantha69@example.org</td>\n",
       "      <td>2024-02-27</td>\n",
       "      <td>2024-02-09</td>\n",
       "      <td>x5OCm3Qm$4</td>\n",
       "      <td>https://dummyimage.com/607x451</td>\n",
       "      <td>positive</td>\n",
       "    </tr>\n",
       "    <tr>\n",
       "      <th>4</th>\n",
       "      <td>4</td>\n",
       "      <td>000c3b60-2ec0-4623-8924-dc9974974acb</td>\n",
       "      <td>4166 days</td>\n",
       "      <td>5</td>\n",
       "      <td>000c3b60-2ec0-4623-8924-dc9974974acb</td>\n",
       "      <td>Lauren Villegas</td>\n",
       "      <td>68d523fe-d71a-4a66-915a-950cbce914e2</td>\n",
       "      <td>2024-07-18T22:41:03</td>\n",
       "      <td>DEVOPS</td>\n",
       "      <td>corey49@example.net</td>\n",
       "      <td>2023-01-17</td>\n",
       "      <td>2023-09-12</td>\n",
       "      <td>pAH(9Rbl7+</td>\n",
       "      <td>https://dummyimage.com/113x292</td>\n",
       "      <td>talk</td>\n",
       "    </tr>\n",
       "  </tbody>\n",
       "</table>\n",
       "</div>"
      ],
      "text/plain": [
       "   Unnamed: 0                                userId total_duration  count  \\\n",
       "0           0  00001762-6384-4247-ba53-54ea1640d1c7      6730 days      5   \n",
       "1           1  00007389-374a-4695-aa55-e934e296c10d      7451 days      5   \n",
       "2           2  00056dbe-77c8-4c3c-a431-ebd19236bf46      2677 days      5   \n",
       "3           3  000aef55-a6de-4d27-826e-fe081937fefd      4958 days      5   \n",
       "4           4  000c3b60-2ec0-4623-8924-dc9974974acb      4166 days      5   \n",
       "\n",
       "                                    _id             name  \\\n",
       "0  00001762-6384-4247-ba53-54ea1640d1c7     George Davis   \n",
       "1  00007389-374a-4695-aa55-e934e296c10d     Richard Wood   \n",
       "2  00056dbe-77c8-4c3c-a431-ebd19236bf46     John Johnson   \n",
       "3  000aef55-a6de-4d27-826e-fe081937fefd     Diana Wagner   \n",
       "4  000c3b60-2ec0-4623-8924-dc9974974acb  Lauren Villegas   \n",
       "\n",
       "                                role_id         joining_date      department  \\\n",
       "0  19adcd6a-d040-43f5-8df4-f2776037d25e  2020-01-13T22:40:37          DEVOPS   \n",
       "1  100ac7ef-7112-488f-adf2-f9c1608d49b2  2022-12-13T03:11:03          DEVOPS   \n",
       "2  9a857edb-7685-453d-bc33-ed5032191e9c  2020-03-09T11:55:40           OTHER   \n",
       "3  76fba540-2817-4293-b9ae-dd2aa77acbc1  2020-07-25T05:33:12  DATA_ANALYTICS   \n",
       "4  68d523fe-d71a-4a66-915a-950cbce914e2  2024-07-18T22:41:03          DEVOPS   \n",
       "\n",
       "                        mail  created_at  updated_at    password  \\\n",
       "0         kmyers@example.com  2020-05-17  2022-08-31  $$NE4RGu*3   \n",
       "1  stacyjennings@example.net  2020-05-19  2021-03-04  w2AER@Cp@v   \n",
       "2  curtiscordova@example.com  2021-08-27  2023-01-11  Xr67Ru9j%5   \n",
       "3     samantha69@example.org  2024-02-27  2024-02-09  x5OCm3Qm$4   \n",
       "4        corey49@example.net  2023-01-17  2023-09-12  pAH(9Rbl7+   \n",
       "\n",
       "                     profileImage role_name  \n",
       "0   https://picsum.photos/383/584   improve  \n",
       "1  https://dummyimage.com/258x598   century  \n",
       "2  https://dummyimage.com/116x586     money  \n",
       "3  https://dummyimage.com/607x451  positive  \n",
       "4  https://dummyimage.com/113x292      talk  "
      ]
     },
     "execution_count": 173,
     "metadata": {},
     "output_type": "execute_result"
    }
   ],
   "source": [
    "# roles_df = pd.read_csv('E:/JMAN/fp/DataEngineering/prep/prep_user.csv')\n",
    "roles_df = pd.read_csv('E:/JMAN/fp/DataEngineering/prep/prep_user.csv')\n",
    "roles_df.head()"
   ]
  },
  {
   "cell_type": "code",
   "execution_count": 174,
   "metadata": {},
   "outputs": [
    {
     "data": {
      "text/plain": [
       "(30002, 15)"
      ]
     },
     "execution_count": 174,
     "metadata": {},
     "output_type": "execute_result"
    }
   ],
   "source": [
    "roles_df.shape"
   ]
  },
  {
   "cell_type": "code",
   "execution_count": 175,
   "metadata": {},
   "outputs": [
    {
     "data": {
      "text/plain": [
       "(150006, 11)"
      ]
     },
     "execution_count": 175,
     "metadata": {},
     "output_type": "execute_result"
    }
   ],
   "source": [
    "df.shape"
   ]
  },
  {
   "cell_type": "code",
   "execution_count": 176,
   "metadata": {},
   "outputs": [
    {
     "data": {
      "text/plain": [
       "Unnamed: 0           0\n",
       "_id                  0\n",
       "userId               0\n",
       "certificationId      0\n",
       "certificationName    0\n",
       "started_at           0\n",
       "completed_at         0\n",
       "competency           0\n",
       "isVerified           0\n",
       "imageData            0\n",
       "user_name            0\n",
       "dtype: int64"
      ]
     },
     "execution_count": 176,
     "metadata": {},
     "output_type": "execute_result"
    }
   ],
   "source": [
    "df.isnull().sum()"
   ]
  },
  {
   "cell_type": "code",
   "execution_count": 177,
   "metadata": {},
   "outputs": [],
   "source": [
    "\n",
    "merged_df=pd.merge(df,roles_df,left_on='userId',right_on='_id',how='inner')\n",
    "df=merged_df\n"
   ]
  },
  {
   "cell_type": "code",
   "execution_count": 178,
   "metadata": {},
   "outputs": [
    {
     "data": {
      "text/plain": [
       "(150006, 26)"
      ]
     },
     "execution_count": 178,
     "metadata": {},
     "output_type": "execute_result"
    }
   ],
   "source": [
    "df.shape"
   ]
  },
  {
   "cell_type": "code",
   "execution_count": 179,
   "metadata": {},
   "outputs": [
    {
     "data": {
      "text/html": [
       "<div>\n",
       "<style scoped>\n",
       "    .dataframe tbody tr th:only-of-type {\n",
       "        vertical-align: middle;\n",
       "    }\n",
       "\n",
       "    .dataframe tbody tr th {\n",
       "        vertical-align: top;\n",
       "    }\n",
       "\n",
       "    .dataframe thead th {\n",
       "        text-align: right;\n",
       "    }\n",
       "</style>\n",
       "<table border=\"1\" class=\"dataframe\">\n",
       "  <thead>\n",
       "    <tr style=\"text-align: right;\">\n",
       "      <th></th>\n",
       "      <th>Unnamed: 0</th>\n",
       "      <th>_id</th>\n",
       "      <th>name</th>\n",
       "      <th>issued_by</th>\n",
       "      <th>is_certificate</th>\n",
       "      <th>certificationId</th>\n",
       "      <th>user_count</th>\n",
       "    </tr>\n",
       "  </thead>\n",
       "  <tbody>\n",
       "    <tr>\n",
       "      <th>0</th>\n",
       "      <td>0</td>\n",
       "      <td>66febe5eca0ebab04690f2ac</td>\n",
       "      <td>ReactJS</td>\n",
       "      <td>Coursera</td>\n",
       "      <td>True</td>\n",
       "      <td>66febe5eca0ebab04690f2ac</td>\n",
       "      <td>2</td>\n",
       "    </tr>\n",
       "    <tr>\n",
       "      <th>1</th>\n",
       "      <td>1</td>\n",
       "      <td>66febfabca0ebab04690f2b1</td>\n",
       "      <td>ExpressJS</td>\n",
       "      <td>Udemy</td>\n",
       "      <td>False</td>\n",
       "      <td>66febfabca0ebab04690f2b1</td>\n",
       "      <td>1</td>\n",
       "    </tr>\n",
       "    <tr>\n",
       "      <th>2</th>\n",
       "      <td>2</td>\n",
       "      <td>6703c19c5b1d1e7f98a9a951</td>\n",
       "      <td>DBT</td>\n",
       "      <td>DBT</td>\n",
       "      <td>True</td>\n",
       "      <td>6703c19c5b1d1e7f98a9a951</td>\n",
       "      <td>1</td>\n",
       "    </tr>\n",
       "    <tr>\n",
       "      <th>3</th>\n",
       "      <td>3</td>\n",
       "      <td>6703c20b5b1d1e7f98a9a957</td>\n",
       "      <td>Web Scrapping using Python</td>\n",
       "      <td>Youtube</td>\n",
       "      <td>False</td>\n",
       "      <td>6703c20b5b1d1e7f98a9a957</td>\n",
       "      <td>1</td>\n",
       "    </tr>\n",
       "    <tr>\n",
       "      <th>4</th>\n",
       "      <td>4</td>\n",
       "      <td>06175455-0648-440c-831b-da0720445658</td>\n",
       "      <td>Brown-Adams</td>\n",
       "      <td>Inc</td>\n",
       "      <td>True</td>\n",
       "      <td>06175455-0648-440c-831b-da0720445658</td>\n",
       "      <td>1425</td>\n",
       "    </tr>\n",
       "  </tbody>\n",
       "</table>\n",
       "</div>"
      ],
      "text/plain": [
       "   Unnamed: 0                                   _id  \\\n",
       "0           0              66febe5eca0ebab04690f2ac   \n",
       "1           1              66febfabca0ebab04690f2b1   \n",
       "2           2              6703c19c5b1d1e7f98a9a951   \n",
       "3           3              6703c20b5b1d1e7f98a9a957   \n",
       "4           4  06175455-0648-440c-831b-da0720445658   \n",
       "\n",
       "                         name issued_by  is_certificate  \\\n",
       "0                     ReactJS  Coursera            True   \n",
       "1                   ExpressJS     Udemy           False   \n",
       "2                         DBT       DBT            True   \n",
       "3  Web Scrapping using Python   Youtube           False   \n",
       "4                 Brown-Adams       Inc            True   \n",
       "\n",
       "                        certificationId  user_count  \n",
       "0              66febe5eca0ebab04690f2ac           2  \n",
       "1              66febfabca0ebab04690f2b1           1  \n",
       "2              6703c19c5b1d1e7f98a9a951           1  \n",
       "3              6703c20b5b1d1e7f98a9a957           1  \n",
       "4  06175455-0648-440c-831b-da0720445658        1425  "
      ]
     },
     "execution_count": 179,
     "metadata": {},
     "output_type": "execute_result"
    }
   ],
   "source": [
    "# roles_df = pd.read_csv('E:/JMAN/fp/DataEngineering/prep/prep_certification.csv')\n",
    "roles_df = pd.read_csv('E:/JMAN/fp/DataEngineering/prep/prep_certification.csv')\n",
    "roles_df.head()"
   ]
  },
  {
   "cell_type": "code",
   "execution_count": 180,
   "metadata": {},
   "outputs": [
    {
     "data": {
      "text/plain": [
       "Unnamed: 0_x         0\n",
       "_id_x                0\n",
       "userId_x             0\n",
       "certificationId      0\n",
       "certificationName    0\n",
       "started_at           0\n",
       "completed_at         0\n",
       "competency           0\n",
       "isVerified           0\n",
       "imageData            0\n",
       "user_name            0\n",
       "Unnamed: 0_y         0\n",
       "userId_y             0\n",
       "total_duration       0\n",
       "count                0\n",
       "_id_y                0\n",
       "name                 0\n",
       "role_id              0\n",
       "joining_date         0\n",
       "department           0\n",
       "mail                 0\n",
       "created_at           0\n",
       "updated_at           0\n",
       "password             0\n",
       "profileImage         0\n",
       "role_name            0\n",
       "dtype: int64"
      ]
     },
     "execution_count": 180,
     "metadata": {},
     "output_type": "execute_result"
    }
   ],
   "source": [
    "df.isnull().sum()"
   ]
  },
  {
   "cell_type": "code",
   "execution_count": 181,
   "metadata": {},
   "outputs": [],
   "source": [
    "df.drop(['_id_y','userId_y',],inplace=True,axis=1)"
   ]
  },
  {
   "cell_type": "code",
   "execution_count": 182,
   "metadata": {},
   "outputs": [
    {
     "data": {
      "text/plain": [
       "(150006, 24)"
      ]
     },
     "execution_count": 182,
     "metadata": {},
     "output_type": "execute_result"
    }
   ],
   "source": [
    "df.shape"
   ]
  },
  {
   "cell_type": "code",
   "execution_count": 183,
   "metadata": {},
   "outputs": [],
   "source": [
    "df.drop(['Unnamed: 0_y','Unnamed: 0_x',],inplace=True,axis=1)"
   ]
  },
  {
   "cell_type": "code",
   "execution_count": 184,
   "metadata": {},
   "outputs": [
    {
     "data": {
      "text/html": [
       "<div>\n",
       "<style scoped>\n",
       "    .dataframe tbody tr th:only-of-type {\n",
       "        vertical-align: middle;\n",
       "    }\n",
       "\n",
       "    .dataframe tbody tr th {\n",
       "        vertical-align: top;\n",
       "    }\n",
       "\n",
       "    .dataframe thead th {\n",
       "        text-align: right;\n",
       "    }\n",
       "</style>\n",
       "<table border=\"1\" class=\"dataframe\">\n",
       "  <thead>\n",
       "    <tr style=\"text-align: right;\">\n",
       "      <th></th>\n",
       "      <th>_id</th>\n",
       "      <th>userId</th>\n",
       "      <th>certificationId</th>\n",
       "      <th>certificationName</th>\n",
       "      <th>started_at</th>\n",
       "      <th>completed_at</th>\n",
       "      <th>competency</th>\n",
       "      <th>isVerified</th>\n",
       "      <th>imageData</th>\n",
       "      <th>user_name</th>\n",
       "      <th>...</th>\n",
       "      <th>name</th>\n",
       "      <th>role_id</th>\n",
       "      <th>joining_date</th>\n",
       "      <th>department</th>\n",
       "      <th>mail</th>\n",
       "      <th>created_at</th>\n",
       "      <th>updated_at</th>\n",
       "      <th>password</th>\n",
       "      <th>profileImage</th>\n",
       "      <th>role_name</th>\n",
       "    </tr>\n",
       "  </thead>\n",
       "  <tbody>\n",
       "    <tr>\n",
       "      <th>0</th>\n",
       "      <td>6702bca3c96bbf13f5ff2903</td>\n",
       "      <td>67013cc9a25cfa0d89dbb105</td>\n",
       "      <td>66febe5eca0ebab04690f2ac</td>\n",
       "      <td>ReactJS</td>\n",
       "      <td>2024-10-05</td>\n",
       "      <td>2024-10-09</td>\n",
       "      <td>BEGINNER</td>\n",
       "      <td>True</td>\n",
       "      <td>data:image/png;base64,iVBORw0KGgoAAAANSUhEUgAA...</td>\n",
       "      <td>abc</td>\n",
       "      <td>...</td>\n",
       "      <td>abc</td>\n",
       "      <td>66fd544630450c2a76ac0211</td>\n",
       "      <td>2024-10-01</td>\n",
       "      <td>FULL_STACK</td>\n",
       "      <td>emp@example.com</td>\n",
       "      <td>2024-10-05</td>\n",
       "      <td>2024-10-05</td>\n",
       "      <td>Abcd@1234</td>\n",
       "      <td>data:image/png;base64,iVBORw0KGgoAAAANSUhEUgAA...</td>\n",
       "      <td>Solution Enabler</td>\n",
       "    </tr>\n",
       "    <tr>\n",
       "      <th>1</th>\n",
       "      <td>6702c4fb2a2f643b3baa88ab</td>\n",
       "      <td>67013cc9a25cfa0d89dbb105</td>\n",
       "      <td>66febfabca0ebab04690f2b1</td>\n",
       "      <td>ExpressJS</td>\n",
       "      <td>2024-10-06</td>\n",
       "      <td>2024-10-09</td>\n",
       "      <td>BEGINNER</td>\n",
       "      <td>True</td>\n",
       "      <td>data:image/png;base64,iVBORw0KGgoAAAANSUhEUgAA...</td>\n",
       "      <td>abc</td>\n",
       "      <td>...</td>\n",
       "      <td>abc</td>\n",
       "      <td>66fd544630450c2a76ac0211</td>\n",
       "      <td>2024-10-01</td>\n",
       "      <td>FULL_STACK</td>\n",
       "      <td>emp@example.com</td>\n",
       "      <td>2024-10-05</td>\n",
       "      <td>2024-10-05</td>\n",
       "      <td>Abcd@1234</td>\n",
       "      <td>data:image/png;base64,iVBORw0KGgoAAAANSUhEUgAA...</td>\n",
       "      <td>Solution Enabler</td>\n",
       "    </tr>\n",
       "    <tr>\n",
       "      <th>2</th>\n",
       "      <td>67036548eb36bec3fb1849e7</td>\n",
       "      <td>66fe81770b5205e064c2aed5</td>\n",
       "      <td>66febe5eca0ebab04690f2ac</td>\n",
       "      <td>ReactJS</td>\n",
       "      <td>2024-10-02</td>\n",
       "      <td>2024-10-10</td>\n",
       "      <td>BEGINNER</td>\n",
       "      <td>False</td>\n",
       "      <td>data:image/png;base64,iVBORw0KGgoAAAANSUhEUgAA...</td>\n",
       "      <td>emp1</td>\n",
       "      <td>...</td>\n",
       "      <td>emp1</td>\n",
       "      <td>66fd540a30450c2a76ac020f</td>\n",
       "      <td>11-01-2023</td>\n",
       "      <td>FULL_STACK</td>\n",
       "      <td>emp1@gmail.com</td>\n",
       "      <td>2024-10-03</td>\n",
       "      <td>2024-10-07</td>\n",
       "      <td>Abcd@1234</td>\n",
       "      <td>data:image/jpeg;base64,/9j/4AAQSkZJRgABAgEASAB...</td>\n",
       "      <td>Senior Software Engineer</td>\n",
       "    </tr>\n",
       "    <tr>\n",
       "      <th>3</th>\n",
       "      <td>67036ccb93760f84b5e886ad</td>\n",
       "      <td>66fe81770b5205e064c2aed5</td>\n",
       "      <td>66febe5eca0ebab04690f2ac</td>\n",
       "      <td>ReactJS</td>\n",
       "      <td>2024-10-07</td>\n",
       "      <td>2024-10-09</td>\n",
       "      <td>INTERMEDIATE</td>\n",
       "      <td>False</td>\n",
       "      <td>data:image/jpeg;base64,/9j/4AAQSkZJRgABAQAAAQA...</td>\n",
       "      <td>emp1</td>\n",
       "      <td>...</td>\n",
       "      <td>emp1</td>\n",
       "      <td>66fd540a30450c2a76ac020f</td>\n",
       "      <td>11-01-2023</td>\n",
       "      <td>FULL_STACK</td>\n",
       "      <td>emp1@gmail.com</td>\n",
       "      <td>2024-10-03</td>\n",
       "      <td>2024-10-07</td>\n",
       "      <td>Abcd@1234</td>\n",
       "      <td>data:image/jpeg;base64,/9j/4AAQSkZJRgABAgEASAB...</td>\n",
       "      <td>Senior Software Engineer</td>\n",
       "    </tr>\n",
       "    <tr>\n",
       "      <th>4</th>\n",
       "      <td>6703c24a5b1d1e7f98a9a959</td>\n",
       "      <td>66fe81770b5205e064c2aed5</td>\n",
       "      <td>6703c20b5b1d1e7f98a9a957</td>\n",
       "      <td>Web Scrapping using Python</td>\n",
       "      <td>2024-10-07</td>\n",
       "      <td>2024-10-10</td>\n",
       "      <td>BEGINNER</td>\n",
       "      <td>False</td>\n",
       "      <td>data:image/jpeg;base64,/9j/4AAQSkZJRgABAQAAAQA...</td>\n",
       "      <td>emp1</td>\n",
       "      <td>...</td>\n",
       "      <td>emp1</td>\n",
       "      <td>66fd540a30450c2a76ac020f</td>\n",
       "      <td>11-01-2023</td>\n",
       "      <td>FULL_STACK</td>\n",
       "      <td>emp1@gmail.com</td>\n",
       "      <td>2024-10-03</td>\n",
       "      <td>2024-10-07</td>\n",
       "      <td>Abcd@1234</td>\n",
       "      <td>data:image/jpeg;base64,/9j/4AAQSkZJRgABAgEASAB...</td>\n",
       "      <td>Senior Software Engineer</td>\n",
       "    </tr>\n",
       "    <tr>\n",
       "      <th>...</th>\n",
       "      <td>...</td>\n",
       "      <td>...</td>\n",
       "      <td>...</td>\n",
       "      <td>...</td>\n",
       "      <td>...</td>\n",
       "      <td>...</td>\n",
       "      <td>...</td>\n",
       "      <td>...</td>\n",
       "      <td>...</td>\n",
       "      <td>...</td>\n",
       "      <td>...</td>\n",
       "      <td>...</td>\n",
       "      <td>...</td>\n",
       "      <td>...</td>\n",
       "      <td>...</td>\n",
       "      <td>...</td>\n",
       "      <td>...</td>\n",
       "      <td>...</td>\n",
       "      <td>...</td>\n",
       "      <td>...</td>\n",
       "      <td>...</td>\n",
       "    </tr>\n",
       "    <tr>\n",
       "      <th>150001</th>\n",
       "      <td>6718fd60-eae7-4c70-b9ae-7df3d61c97ac</td>\n",
       "      <td>52b93321-9024-4f5a-87af-24b91520bbb4</td>\n",
       "      <td>7a92d7c7-c78f-4293-b823-8ef2d334061c</td>\n",
       "      <td>Rodriguez, Wolf and Harris</td>\n",
       "      <td>2021-04-12</td>\n",
       "      <td>2024-09-29</td>\n",
       "      <td>ADVANCED</td>\n",
       "      <td>False</td>\n",
       "      <td>https://placekitten.com/616/494</td>\n",
       "      <td>Jessica Patterson</td>\n",
       "      <td>...</td>\n",
       "      <td>Jessica Patterson</td>\n",
       "      <td>76fba540-2817-4293-b9ae-dd2aa77acbc1</td>\n",
       "      <td>2021-05-23T00:32:27</td>\n",
       "      <td>OTHER</td>\n",
       "      <td>melissalarson@example.org</td>\n",
       "      <td>2021-04-24</td>\n",
       "      <td>2023-10-06</td>\n",
       "      <td>fGQqXCLz*3</td>\n",
       "      <td>https://picsum.photos/494/740</td>\n",
       "      <td>positive</td>\n",
       "    </tr>\n",
       "    <tr>\n",
       "      <th>150002</th>\n",
       "      <td>e2f57427-1eec-4b69-9367-cecd72594499</td>\n",
       "      <td>52b93321-9024-4f5a-87af-24b91520bbb4</td>\n",
       "      <td>c1dd2f2b-7d7d-469c-b941-702b662ac313</td>\n",
       "      <td>Ortiz-Rasmussen</td>\n",
       "      <td>2024-03-29</td>\n",
       "      <td>2028-08-04</td>\n",
       "      <td>BEGINNER</td>\n",
       "      <td>False</td>\n",
       "      <td>https://dummyimage.com/891x809</td>\n",
       "      <td>Jessica Patterson</td>\n",
       "      <td>...</td>\n",
       "      <td>Jessica Patterson</td>\n",
       "      <td>76fba540-2817-4293-b9ae-dd2aa77acbc1</td>\n",
       "      <td>2021-05-23T00:32:27</td>\n",
       "      <td>OTHER</td>\n",
       "      <td>melissalarson@example.org</td>\n",
       "      <td>2021-04-24</td>\n",
       "      <td>2023-10-06</td>\n",
       "      <td>fGQqXCLz*3</td>\n",
       "      <td>https://picsum.photos/494/740</td>\n",
       "      <td>positive</td>\n",
       "    </tr>\n",
       "    <tr>\n",
       "      <th>150003</th>\n",
       "      <td>a83acf3e-9016-4867-aebf-e625478acc04</td>\n",
       "      <td>52b93321-9024-4f5a-87af-24b91520bbb4</td>\n",
       "      <td>174d69ea-a195-4607-9da5-bf84692e990d</td>\n",
       "      <td>White LLC</td>\n",
       "      <td>2020-09-14</td>\n",
       "      <td>2024-07-21</td>\n",
       "      <td>ADVANCED</td>\n",
       "      <td>True</td>\n",
       "      <td>https://picsum.photos/899/950</td>\n",
       "      <td>Jessica Patterson</td>\n",
       "      <td>...</td>\n",
       "      <td>Jessica Patterson</td>\n",
       "      <td>76fba540-2817-4293-b9ae-dd2aa77acbc1</td>\n",
       "      <td>2021-05-23T00:32:27</td>\n",
       "      <td>OTHER</td>\n",
       "      <td>melissalarson@example.org</td>\n",
       "      <td>2021-04-24</td>\n",
       "      <td>2023-10-06</td>\n",
       "      <td>fGQqXCLz*3</td>\n",
       "      <td>https://picsum.photos/494/740</td>\n",
       "      <td>positive</td>\n",
       "    </tr>\n",
       "    <tr>\n",
       "      <th>150004</th>\n",
       "      <td>b24ee471-48c6-4460-9b60-29e8e4b68a4a</td>\n",
       "      <td>52b93321-9024-4f5a-87af-24b91520bbb4</td>\n",
       "      <td>be4b7186-bd3b-49d2-af77-e4b15b4d6b21</td>\n",
       "      <td>Miller and Sons</td>\n",
       "      <td>2022-11-10</td>\n",
       "      <td>2027-02-25</td>\n",
       "      <td>EXPERT</td>\n",
       "      <td>False</td>\n",
       "      <td>https://dummyimage.com/677x218</td>\n",
       "      <td>Jessica Patterson</td>\n",
       "      <td>...</td>\n",
       "      <td>Jessica Patterson</td>\n",
       "      <td>76fba540-2817-4293-b9ae-dd2aa77acbc1</td>\n",
       "      <td>2021-05-23T00:32:27</td>\n",
       "      <td>OTHER</td>\n",
       "      <td>melissalarson@example.org</td>\n",
       "      <td>2021-04-24</td>\n",
       "      <td>2023-10-06</td>\n",
       "      <td>fGQqXCLz*3</td>\n",
       "      <td>https://picsum.photos/494/740</td>\n",
       "      <td>positive</td>\n",
       "    </tr>\n",
       "    <tr>\n",
       "      <th>150005</th>\n",
       "      <td>ec54a4b8-884d-4c2d-b0ac-ecfecf4edf1e</td>\n",
       "      <td>52b93321-9024-4f5a-87af-24b91520bbb4</td>\n",
       "      <td>b1696195-c27a-4b80-a91c-7d692a13438e</td>\n",
       "      <td>Padilla, Proctor and Bright</td>\n",
       "      <td>2020-05-19</td>\n",
       "      <td>2024-11-19</td>\n",
       "      <td>BEGINNER</td>\n",
       "      <td>True</td>\n",
       "      <td>https://picsum.photos/882/177</td>\n",
       "      <td>Jessica Patterson</td>\n",
       "      <td>...</td>\n",
       "      <td>Jessica Patterson</td>\n",
       "      <td>76fba540-2817-4293-b9ae-dd2aa77acbc1</td>\n",
       "      <td>2021-05-23T00:32:27</td>\n",
       "      <td>OTHER</td>\n",
       "      <td>melissalarson@example.org</td>\n",
       "      <td>2021-04-24</td>\n",
       "      <td>2023-10-06</td>\n",
       "      <td>fGQqXCLz*3</td>\n",
       "      <td>https://picsum.photos/494/740</td>\n",
       "      <td>positive</td>\n",
       "    </tr>\n",
       "  </tbody>\n",
       "</table>\n",
       "<p>150006 rows × 22 columns</p>\n",
       "</div>"
      ],
      "text/plain": [
       "                                         _id  \\\n",
       "0                   6702bca3c96bbf13f5ff2903   \n",
       "1                   6702c4fb2a2f643b3baa88ab   \n",
       "2                   67036548eb36bec3fb1849e7   \n",
       "3                   67036ccb93760f84b5e886ad   \n",
       "4                   6703c24a5b1d1e7f98a9a959   \n",
       "...                                      ...   \n",
       "150001  6718fd60-eae7-4c70-b9ae-7df3d61c97ac   \n",
       "150002  e2f57427-1eec-4b69-9367-cecd72594499   \n",
       "150003  a83acf3e-9016-4867-aebf-e625478acc04   \n",
       "150004  b24ee471-48c6-4460-9b60-29e8e4b68a4a   \n",
       "150005  ec54a4b8-884d-4c2d-b0ac-ecfecf4edf1e   \n",
       "\n",
       "                                      userId  \\\n",
       "0                   67013cc9a25cfa0d89dbb105   \n",
       "1                   67013cc9a25cfa0d89dbb105   \n",
       "2                   66fe81770b5205e064c2aed5   \n",
       "3                   66fe81770b5205e064c2aed5   \n",
       "4                   66fe81770b5205e064c2aed5   \n",
       "...                                      ...   \n",
       "150001  52b93321-9024-4f5a-87af-24b91520bbb4   \n",
       "150002  52b93321-9024-4f5a-87af-24b91520bbb4   \n",
       "150003  52b93321-9024-4f5a-87af-24b91520bbb4   \n",
       "150004  52b93321-9024-4f5a-87af-24b91520bbb4   \n",
       "150005  52b93321-9024-4f5a-87af-24b91520bbb4   \n",
       "\n",
       "                             certificationId            certificationName  \\\n",
       "0                   66febe5eca0ebab04690f2ac                      ReactJS   \n",
       "1                   66febfabca0ebab04690f2b1                    ExpressJS   \n",
       "2                   66febe5eca0ebab04690f2ac                      ReactJS   \n",
       "3                   66febe5eca0ebab04690f2ac                      ReactJS   \n",
       "4                   6703c20b5b1d1e7f98a9a957   Web Scrapping using Python   \n",
       "...                                      ...                          ...   \n",
       "150001  7a92d7c7-c78f-4293-b823-8ef2d334061c   Rodriguez, Wolf and Harris   \n",
       "150002  c1dd2f2b-7d7d-469c-b941-702b662ac313              Ortiz-Rasmussen   \n",
       "150003  174d69ea-a195-4607-9da5-bf84692e990d                    White LLC   \n",
       "150004  be4b7186-bd3b-49d2-af77-e4b15b4d6b21              Miller and Sons   \n",
       "150005  b1696195-c27a-4b80-a91c-7d692a13438e  Padilla, Proctor and Bright   \n",
       "\n",
       "       started_at completed_at    competency  isVerified  \\\n",
       "0      2024-10-05   2024-10-09      BEGINNER        True   \n",
       "1      2024-10-06   2024-10-09      BEGINNER        True   \n",
       "2      2024-10-02   2024-10-10      BEGINNER       False   \n",
       "3      2024-10-07   2024-10-09  INTERMEDIATE       False   \n",
       "4      2024-10-07   2024-10-10      BEGINNER       False   \n",
       "...           ...          ...           ...         ...   \n",
       "150001 2021-04-12   2024-09-29      ADVANCED       False   \n",
       "150002 2024-03-29   2028-08-04      BEGINNER       False   \n",
       "150003 2020-09-14   2024-07-21      ADVANCED        True   \n",
       "150004 2022-11-10   2027-02-25        EXPERT       False   \n",
       "150005 2020-05-19   2024-11-19      BEGINNER        True   \n",
       "\n",
       "                                                imageData          user_name  \\\n",
       "0       data:image/png;base64,iVBORw0KGgoAAAANSUhEUgAA...                abc   \n",
       "1       data:image/png;base64,iVBORw0KGgoAAAANSUhEUgAA...                abc   \n",
       "2       data:image/png;base64,iVBORw0KGgoAAAANSUhEUgAA...               emp1   \n",
       "3       data:image/jpeg;base64,/9j/4AAQSkZJRgABAQAAAQA...               emp1   \n",
       "4       data:image/jpeg;base64,/9j/4AAQSkZJRgABAQAAAQA...               emp1   \n",
       "...                                                   ...                ...   \n",
       "150001                    https://placekitten.com/616/494  Jessica Patterson   \n",
       "150002                     https://dummyimage.com/891x809  Jessica Patterson   \n",
       "150003                      https://picsum.photos/899/950  Jessica Patterson   \n",
       "150004                     https://dummyimage.com/677x218  Jessica Patterson   \n",
       "150005                      https://picsum.photos/882/177  Jessica Patterson   \n",
       "\n",
       "        ...               name                               role_id  \\\n",
       "0       ...                abc              66fd544630450c2a76ac0211   \n",
       "1       ...                abc              66fd544630450c2a76ac0211   \n",
       "2       ...               emp1              66fd540a30450c2a76ac020f   \n",
       "3       ...               emp1              66fd540a30450c2a76ac020f   \n",
       "4       ...               emp1              66fd540a30450c2a76ac020f   \n",
       "...     ...                ...                                   ...   \n",
       "150001  ...  Jessica Patterson  76fba540-2817-4293-b9ae-dd2aa77acbc1   \n",
       "150002  ...  Jessica Patterson  76fba540-2817-4293-b9ae-dd2aa77acbc1   \n",
       "150003  ...  Jessica Patterson  76fba540-2817-4293-b9ae-dd2aa77acbc1   \n",
       "150004  ...  Jessica Patterson  76fba540-2817-4293-b9ae-dd2aa77acbc1   \n",
       "150005  ...  Jessica Patterson  76fba540-2817-4293-b9ae-dd2aa77acbc1   \n",
       "\n",
       "               joining_date  department                       mail  \\\n",
       "0                2024-10-01  FULL_STACK            emp@example.com   \n",
       "1                2024-10-01  FULL_STACK            emp@example.com   \n",
       "2                11-01-2023  FULL_STACK             emp1@gmail.com   \n",
       "3                11-01-2023  FULL_STACK             emp1@gmail.com   \n",
       "4                11-01-2023  FULL_STACK             emp1@gmail.com   \n",
       "...                     ...         ...                        ...   \n",
       "150001  2021-05-23T00:32:27       OTHER  melissalarson@example.org   \n",
       "150002  2021-05-23T00:32:27       OTHER  melissalarson@example.org   \n",
       "150003  2021-05-23T00:32:27       OTHER  melissalarson@example.org   \n",
       "150004  2021-05-23T00:32:27       OTHER  melissalarson@example.org   \n",
       "150005  2021-05-23T00:32:27       OTHER  melissalarson@example.org   \n",
       "\n",
       "        created_at  updated_at    password  \\\n",
       "0       2024-10-05  2024-10-05   Abcd@1234   \n",
       "1       2024-10-05  2024-10-05   Abcd@1234   \n",
       "2       2024-10-03  2024-10-07   Abcd@1234   \n",
       "3       2024-10-03  2024-10-07   Abcd@1234   \n",
       "4       2024-10-03  2024-10-07   Abcd@1234   \n",
       "...            ...         ...         ...   \n",
       "150001  2021-04-24  2023-10-06  fGQqXCLz*3   \n",
       "150002  2021-04-24  2023-10-06  fGQqXCLz*3   \n",
       "150003  2021-04-24  2023-10-06  fGQqXCLz*3   \n",
       "150004  2021-04-24  2023-10-06  fGQqXCLz*3   \n",
       "150005  2021-04-24  2023-10-06  fGQqXCLz*3   \n",
       "\n",
       "                                             profileImage  \\\n",
       "0       data:image/png;base64,iVBORw0KGgoAAAANSUhEUgAA...   \n",
       "1       data:image/png;base64,iVBORw0KGgoAAAANSUhEUgAA...   \n",
       "2       data:image/jpeg;base64,/9j/4AAQSkZJRgABAgEASAB...   \n",
       "3       data:image/jpeg;base64,/9j/4AAQSkZJRgABAgEASAB...   \n",
       "4       data:image/jpeg;base64,/9j/4AAQSkZJRgABAgEASAB...   \n",
       "...                                                   ...   \n",
       "150001                      https://picsum.photos/494/740   \n",
       "150002                      https://picsum.photos/494/740   \n",
       "150003                      https://picsum.photos/494/740   \n",
       "150004                      https://picsum.photos/494/740   \n",
       "150005                      https://picsum.photos/494/740   \n",
       "\n",
       "                       role_name  \n",
       "0               Solution Enabler  \n",
       "1               Solution Enabler  \n",
       "2       Senior Software Engineer  \n",
       "3       Senior Software Engineer  \n",
       "4       Senior Software Engineer  \n",
       "...                          ...  \n",
       "150001                  positive  \n",
       "150002                  positive  \n",
       "150003                  positive  \n",
       "150004                  positive  \n",
       "150005                  positive  \n",
       "\n",
       "[150006 rows x 22 columns]"
      ]
     },
     "execution_count": 184,
     "metadata": {},
     "output_type": "execute_result"
    }
   ],
   "source": [
    "df.rename({\"_id_x\":\"_id\",\"userId_x\":\"userId\"},axis=1)"
   ]
  },
  {
   "cell_type": "code",
   "execution_count": 185,
   "metadata": {},
   "outputs": [
    {
     "data": {
      "text/plain": [
       "(150006, 22)"
      ]
     },
     "execution_count": 185,
     "metadata": {},
     "output_type": "execute_result"
    }
   ],
   "source": [
    "df.shape"
   ]
  },
  {
   "cell_type": "code",
   "execution_count": 186,
   "metadata": {},
   "outputs": [
    {
     "data": {
      "text/plain": [
       "_id_x                0\n",
       "userId_x             0\n",
       "certificationId      0\n",
       "certificationName    0\n",
       "started_at           0\n",
       "completed_at         0\n",
       "competency           0\n",
       "isVerified           0\n",
       "imageData            0\n",
       "user_name            0\n",
       "total_duration       0\n",
       "count                0\n",
       "name                 0\n",
       "role_id              0\n",
       "joining_date         0\n",
       "department           0\n",
       "mail                 0\n",
       "created_at           0\n",
       "updated_at           0\n",
       "password             0\n",
       "profileImage         0\n",
       "role_name            0\n",
       "dtype: int64"
      ]
     },
     "execution_count": 186,
     "metadata": {},
     "output_type": "execute_result"
    }
   ],
   "source": [
    "df.isnull().sum()"
   ]
  },
  {
   "cell_type": "code",
   "execution_count": 187,
   "metadata": {},
   "outputs": [
    {
     "data": {
      "text/plain": [
       "Unnamed: 0         0\n",
       "_id                0\n",
       "name               0\n",
       "issued_by          0\n",
       "is_certificate     0\n",
       "certificationId    0\n",
       "user_count         0\n",
       "dtype: int64"
      ]
     },
     "execution_count": 187,
     "metadata": {},
     "output_type": "execute_result"
    }
   ],
   "source": [
    "roles_df.isna().sum()"
   ]
  },
  {
   "cell_type": "code",
   "execution_count": 188,
   "metadata": {},
   "outputs": [],
   "source": [
    "merged_df=pd.merge(df,roles_df,left_on='certificationId',right_on='certificationId')\n",
    "merged_df.shape\n",
    "df=merged_df"
   ]
  },
  {
   "cell_type": "code",
   "execution_count": 189,
   "metadata": {},
   "outputs": [
    {
     "data": {
      "text/plain": [
       "(150006, 28)"
      ]
     },
     "execution_count": 189,
     "metadata": {},
     "output_type": "execute_result"
    }
   ],
   "source": [
    "df.shape"
   ]
  },
  {
   "cell_type": "code",
   "execution_count": 190,
   "metadata": {},
   "outputs": [
    {
     "name": "stdout",
     "output_type": "stream",
     "text": [
      "Original dtypes:\n",
      "_id_x                        string\n",
      "userId_x                     object\n",
      "certificationId              object\n",
      "certificationName            string\n",
      "started_at           datetime64[ns]\n",
      "completed_at         datetime64[ns]\n",
      "competency                   string\n",
      "isVerified                  boolean\n",
      "imageData                    string\n",
      "user_name                    string\n",
      "total_duration               object\n",
      "count                         int64\n",
      "name_x                       object\n",
      "role_id                      object\n",
      "joining_date                 object\n",
      "department                   object\n",
      "mail                         object\n",
      "created_at                   object\n",
      "updated_at                   object\n",
      "password                     object\n",
      "profileImage                 object\n",
      "role_name                    object\n",
      "Unnamed: 0                    int64\n",
      "_id                          object\n",
      "name_y                       object\n",
      "issued_by                    object\n",
      "is_certificate                 bool\n",
      "user_count                    int64\n",
      "dtype: object\n",
      "\n",
      "Converted dtypes:\n",
      "_id_x                        string\n",
      "userId_x                     string\n",
      "certificationId              string\n",
      "certificationName            string\n",
      "started_at           datetime64[ns]\n",
      "completed_at         datetime64[ns]\n",
      "competency                   string\n",
      "isVerified                  boolean\n",
      "imageData                    string\n",
      "user_name                    string\n",
      "total_duration               string\n",
      "count                         Int64\n",
      "name_x                       string\n",
      "role_id                      string\n",
      "joining_date                 string\n",
      "department                   string\n",
      "mail                         string\n",
      "created_at                   string\n",
      "updated_at                   string\n",
      "password                     string\n",
      "profileImage                 string\n",
      "role_name                    string\n",
      "Unnamed: 0                    Int64\n",
      "_id                          string\n",
      "name_y                       string\n",
      "issued_by                    string\n",
      "is_certificate              boolean\n",
      "user_count                    Int64\n",
      "dtype: object\n"
     ]
    }
   ],
   "source": [
    "print(\"Original dtypes:\")\n",
    "print(df.dtypes)\n",
    "\n",
    "# Convert dtypes\n",
    "df=df.convert_dtypes()\n",
    "\n",
    "# Check new dtypes\n",
    "print(\"\\nConverted dtypes:\")\n",
    "print(df.convert_dtypes().dtypes)"
   ]
  },
  {
   "cell_type": "code",
   "execution_count": 191,
   "metadata": {},
   "outputs": [
    {
     "data": {
      "text/plain": [
       "(150006, 28)"
      ]
     },
     "execution_count": 191,
     "metadata": {},
     "output_type": "execute_result"
    }
   ],
   "source": [
    "df.shape"
   ]
  },
  {
   "cell_type": "code",
   "execution_count": 192,
   "metadata": {},
   "outputs": [],
   "source": [
    "# df.to_csv('E:/JMAN/fp/DataEngineering/mart/mart_user_certification.csv')\n",
    "df.to_csv('E:/JMAN/fp/DataEngineering/mart/mart_user_certification.csv')"
   ]
  },
  {
   "cell_type": "code",
   "execution_count": null,
   "metadata": {},
   "outputs": [],
   "source": []
  }
 ],
 "metadata": {
  "kernelspec": {
   "display_name": "base",
   "language": "python",
   "name": "python3"
  },
  "language_info": {
   "codemirror_mode": {
    "name": "ipython",
    "version": 3
   },
   "file_extension": ".py",
   "mimetype": "text/x-python",
   "name": "python",
   "nbconvert_exporter": "python",
   "pygments_lexer": "ipython3",
   "version": "3.9.7"
  }
 },
 "nbformat": 4,
 "nbformat_minor": 2
}
